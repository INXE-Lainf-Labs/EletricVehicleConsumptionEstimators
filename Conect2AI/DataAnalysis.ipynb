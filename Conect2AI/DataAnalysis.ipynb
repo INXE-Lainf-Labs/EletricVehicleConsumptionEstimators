{
 "cells": [
  {
   "cell_type": "markdown",
   "id": "5d3f7417-c8e1-49c0-bfe6-629fc4a1a094",
   "metadata": {
    "jp-MarkdownHeadingCollapsed": true
   },
   "source": [
    "# Read Datasets"
   ]
  },
  {
   "cell_type": "code",
   "execution_count": 10,
   "id": "36b53900-a279-4beb-b8c4-29e8cab892fb",
   "metadata": {},
   "outputs": [
    {
     "name": "stderr",
     "output_type": "stream",
     "text": [
      "/home/andre/.local/lib/python3.10/site-packages/matplotlib/projections/__init__.py:63: UserWarning: Unable to import Axes3D. This may be due to multiple versions of Matplotlib being installed (e.g. as a system package and as a pip package). As a result, the 3D projection is not available.\n",
      "  warnings.warn(\"Unable to import Axes3D. This may be due to multiple versions of \"\n"
     ]
    }
   ],
   "source": [
    "import pandas as pd\n",
    "import numpy as np\n",
    "import matplotlib.pyplot as plt\n",
    "\n",
    "SEED = 42"
   ]
  },
  {
   "cell_type": "code",
   "execution_count": 3,
   "id": "8b196f9a-fade-4cb2-b89d-a1944807a31e",
   "metadata": {},
   "outputs": [
    {
     "data": {
      "text/html": [
       "<div>\n",
       "<style scoped>\n",
       "    .dataframe tbody tr th:only-of-type {\n",
       "        vertical-align: middle;\n",
       "    }\n",
       "\n",
       "    .dataframe tbody tr th {\n",
       "        vertical-align: top;\n",
       "    }\n",
       "\n",
       "    .dataframe thead th {\n",
       "        text-align: right;\n",
       "    }\n",
       "</style>\n",
       "<table border=\"1\" class=\"dataframe\">\n",
       "  <thead>\n",
       "    <tr style=\"text-align: right;\">\n",
       "      <th></th>\n",
       "      <th>Speed (OBD)(km/h)</th>\n",
       "      <th>Absolute Throttle Position B(%)</th>\n",
       "      <th>Torque(Nm)</th>\n",
       "      <th>CO2_emission_g_per_km</th>\n",
       "    </tr>\n",
       "  </thead>\n",
       "  <tbody>\n",
       "    <tr>\n",
       "      <th>0</th>\n",
       "      <td>26.0</td>\n",
       "      <td>14.509804</td>\n",
       "      <td>13.938316</td>\n",
       "      <td>150.638715</td>\n",
       "    </tr>\n",
       "    <tr>\n",
       "      <th>1</th>\n",
       "      <td>27.0</td>\n",
       "      <td>16.078432</td>\n",
       "      <td>7.000541</td>\n",
       "      <td>145.353899</td>\n",
       "    </tr>\n",
       "    <tr>\n",
       "      <th>2</th>\n",
       "      <td>27.0</td>\n",
       "      <td>16.862745</td>\n",
       "      <td>7.000541</td>\n",
       "      <td>145.353899</td>\n",
       "    </tr>\n",
       "    <tr>\n",
       "      <th>3</th>\n",
       "      <td>29.0</td>\n",
       "      <td>16.862745</td>\n",
       "      <td>13.678993</td>\n",
       "      <td>172.692135</td>\n",
       "    </tr>\n",
       "    <tr>\n",
       "      <th>4</th>\n",
       "      <td>31.0</td>\n",
       "      <td>17.254902</td>\n",
       "      <td>14.091927</td>\n",
       "      <td>169.936145</td>\n",
       "    </tr>\n",
       "  </tbody>\n",
       "</table>\n",
       "</div>"
      ],
      "text/plain": [
       "   Speed (OBD)(km/h)  Absolute Throttle Position B(%)  Torque(Nm)  \\\n",
       "0               26.0                        14.509804   13.938316   \n",
       "1               27.0                        16.078432    7.000541   \n",
       "2               27.0                        16.862745    7.000541   \n",
       "3               29.0                        16.862745   13.678993   \n",
       "4               31.0                        17.254902   14.091927   \n",
       "\n",
       "   CO2_emission_g_per_km  \n",
       "0             150.638715  \n",
       "1             145.353899  \n",
       "2             145.353899  \n",
       "3             172.692135  \n",
       "4             169.936145  "
      ]
     },
     "execution_count": 3,
     "metadata": {},
     "output_type": "execute_result"
    }
   ],
   "source": [
    "comb = pd.read_csv(\"./data/combustion_clean.csv\", sep=\",\")\n",
    "comb = comb.drop(columns=['Unnamed: 0'])\n",
    "comb.head()"
   ]
  },
  {
   "cell_type": "code",
   "execution_count": 4,
   "id": "15dbbf51-3bef-4f7a-ad29-67160f6b1b7f",
   "metadata": {},
   "outputs": [
    {
     "data": {
      "text/html": [
       "<div>\n",
       "<style scoped>\n",
       "    .dataframe tbody tr th:only-of-type {\n",
       "        vertical-align: middle;\n",
       "    }\n",
       "\n",
       "    .dataframe tbody tr th {\n",
       "        vertical-align: top;\n",
       "    }\n",
       "\n",
       "    .dataframe thead th {\n",
       "        text-align: right;\n",
       "    }\n",
       "</style>\n",
       "<table border=\"1\" class=\"dataframe\">\n",
       "  <thead>\n",
       "    <tr style=\"text-align: right;\">\n",
       "      <th></th>\n",
       "      <th>Velocity [km/h]</th>\n",
       "      <th>Throttle [%]</th>\n",
       "      <th>Motor Torque [Nm]</th>\n",
       "      <th>CO2_emission_g_per_km</th>\n",
       "    </tr>\n",
       "  </thead>\n",
       "  <tbody>\n",
       "    <tr>\n",
       "      <th>0</th>\n",
       "      <td>3.47</td>\n",
       "      <td>20.26</td>\n",
       "      <td>6.38</td>\n",
       "      <td>14.977837</td>\n",
       "    </tr>\n",
       "    <tr>\n",
       "      <th>1</th>\n",
       "      <td>5.80</td>\n",
       "      <td>22.40</td>\n",
       "      <td>19.86</td>\n",
       "      <td>14.693897</td>\n",
       "    </tr>\n",
       "    <tr>\n",
       "      <th>2</th>\n",
       "      <td>5.88</td>\n",
       "      <td>22.40</td>\n",
       "      <td>16.76</td>\n",
       "      <td>13.213593</td>\n",
       "    </tr>\n",
       "    <tr>\n",
       "      <th>3</th>\n",
       "      <td>5.94</td>\n",
       "      <td>22.73</td>\n",
       "      <td>14.76</td>\n",
       "      <td>11.965069</td>\n",
       "    </tr>\n",
       "    <tr>\n",
       "      <th>4</th>\n",
       "      <td>6.00</td>\n",
       "      <td>22.90</td>\n",
       "      <td>11.24</td>\n",
       "      <td>11.093950</td>\n",
       "    </tr>\n",
       "  </tbody>\n",
       "</table>\n",
       "</div>"
      ],
      "text/plain": [
       "   Velocity [km/h]  Throttle [%]  Motor Torque [Nm]  CO2_emission_g_per_km\n",
       "0             3.47         20.26               6.38              14.977837\n",
       "1             5.80         22.40              19.86              14.693897\n",
       "2             5.88         22.40              16.76              13.213593\n",
       "3             5.94         22.73              14.76              11.965069\n",
       "4             6.00         22.90              11.24              11.093950"
      ]
     },
     "execution_count": 4,
     "metadata": {},
     "output_type": "execute_result"
    }
   ],
   "source": [
    "elet = pd.read_csv(\"./data/electric_clean.csv\", sep=\",\")\n",
    "elet = elet.drop(columns=['Unnamed: 0'])\n",
    "elet.head()"
   ]
  },
  {
   "cell_type": "markdown",
   "id": "d90cf829-3673-492b-9e4e-7e47ef8b50a9",
   "metadata": {
    "jp-MarkdownHeadingCollapsed": true
   },
   "source": [
    "# Correlation Analysis"
   ]
  },
  {
   "cell_type": "markdown",
   "id": "b0742dda-6b38-4569-b98e-213986e415e2",
   "metadata": {
    "jp-MarkdownHeadingCollapsed": true
   },
   "source": [
    "## Full Dataset"
   ]
  },
  {
   "cell_type": "markdown",
   "id": "a437da07-d42a-41a1-9370-18668be40ba7",
   "metadata": {
    "jp-MarkdownHeadingCollapsed": true
   },
   "source": [
    "### Pearson"
   ]
  },
  {
   "cell_type": "code",
   "execution_count": 7,
   "id": "eacc68d1-5359-41f6-9e78-04005413e60b",
   "metadata": {},
   "outputs": [
    {
     "data": {
      "text/html": [
       "<div>\n",
       "<style scoped>\n",
       "    .dataframe tbody tr th:only-of-type {\n",
       "        vertical-align: middle;\n",
       "    }\n",
       "\n",
       "    .dataframe tbody tr th {\n",
       "        vertical-align: top;\n",
       "    }\n",
       "\n",
       "    .dataframe thead th {\n",
       "        text-align: right;\n",
       "    }\n",
       "</style>\n",
       "<table border=\"1\" class=\"dataframe\">\n",
       "  <thead>\n",
       "    <tr style=\"text-align: right;\">\n",
       "      <th></th>\n",
       "      <th>Speed (OBD)(km/h)</th>\n",
       "      <th>Absolute Throttle Position B(%)</th>\n",
       "      <th>Torque(Nm)</th>\n",
       "      <th>CO2_emission_g_per_km</th>\n",
       "    </tr>\n",
       "  </thead>\n",
       "  <tbody>\n",
       "    <tr>\n",
       "      <th>Speed (OBD)(km/h)</th>\n",
       "      <td>1.000000</td>\n",
       "      <td>0.580236</td>\n",
       "      <td>0.502271</td>\n",
       "      <td>-0.474237</td>\n",
       "    </tr>\n",
       "    <tr>\n",
       "      <th>Absolute Throttle Position B(%)</th>\n",
       "      <td>0.580236</td>\n",
       "      <td>1.000000</td>\n",
       "      <td>0.353897</td>\n",
       "      <td>0.215958</td>\n",
       "    </tr>\n",
       "    <tr>\n",
       "      <th>Torque(Nm)</th>\n",
       "      <td>0.502271</td>\n",
       "      <td>0.353897</td>\n",
       "      <td>1.000000</td>\n",
       "      <td>-0.141758</td>\n",
       "    </tr>\n",
       "    <tr>\n",
       "      <th>CO2_emission_g_per_km</th>\n",
       "      <td>-0.474237</td>\n",
       "      <td>0.215958</td>\n",
       "      <td>-0.141758</td>\n",
       "      <td>1.000000</td>\n",
       "    </tr>\n",
       "  </tbody>\n",
       "</table>\n",
       "</div>"
      ],
      "text/plain": [
       "                                 Speed (OBD)(km/h)  \\\n",
       "Speed (OBD)(km/h)                         1.000000   \n",
       "Absolute Throttle Position B(%)           0.580236   \n",
       "Torque(Nm)                                0.502271   \n",
       "CO2_emission_g_per_km                    -0.474237   \n",
       "\n",
       "                                 Absolute Throttle Position B(%)  Torque(Nm)  \\\n",
       "Speed (OBD)(km/h)                                       0.580236    0.502271   \n",
       "Absolute Throttle Position B(%)                         1.000000    0.353897   \n",
       "Torque(Nm)                                              0.353897    1.000000   \n",
       "CO2_emission_g_per_km                                   0.215958   -0.141758   \n",
       "\n",
       "                                 CO2_emission_g_per_km  \n",
       "Speed (OBD)(km/h)                            -0.474237  \n",
       "Absolute Throttle Position B(%)               0.215958  \n",
       "Torque(Nm)                                   -0.141758  \n",
       "CO2_emission_g_per_km                         1.000000  "
      ]
     },
     "execution_count": 7,
     "metadata": {},
     "output_type": "execute_result"
    }
   ],
   "source": [
    "comb.corr()"
   ]
  },
  {
   "cell_type": "code",
   "execution_count": 8,
   "id": "d76838ec-7b90-416f-9480-43823230d6a1",
   "metadata": {},
   "outputs": [
    {
     "data": {
      "text/html": [
       "<div>\n",
       "<style scoped>\n",
       "    .dataframe tbody tr th:only-of-type {\n",
       "        vertical-align: middle;\n",
       "    }\n",
       "\n",
       "    .dataframe tbody tr th {\n",
       "        vertical-align: top;\n",
       "    }\n",
       "\n",
       "    .dataframe thead th {\n",
       "        text-align: right;\n",
       "    }\n",
       "</style>\n",
       "<table border=\"1\" class=\"dataframe\">\n",
       "  <thead>\n",
       "    <tr style=\"text-align: right;\">\n",
       "      <th></th>\n",
       "      <th>Velocity [km/h]</th>\n",
       "      <th>Throttle [%]</th>\n",
       "      <th>Motor Torque [Nm]</th>\n",
       "      <th>CO2_emission_g_per_km</th>\n",
       "    </tr>\n",
       "  </thead>\n",
       "  <tbody>\n",
       "    <tr>\n",
       "      <th>Velocity [km/h]</th>\n",
       "      <td>1.000000</td>\n",
       "      <td>0.353170</td>\n",
       "      <td>-0.133496</td>\n",
       "      <td>-0.306274</td>\n",
       "    </tr>\n",
       "    <tr>\n",
       "      <th>Throttle [%]</th>\n",
       "      <td>0.353170</td>\n",
       "      <td>1.000000</td>\n",
       "      <td>0.573191</td>\n",
       "      <td>0.464167</td>\n",
       "    </tr>\n",
       "    <tr>\n",
       "      <th>Motor Torque [Nm]</th>\n",
       "      <td>-0.133496</td>\n",
       "      <td>0.573191</td>\n",
       "      <td>1.000000</td>\n",
       "      <td>0.922422</td>\n",
       "    </tr>\n",
       "    <tr>\n",
       "      <th>CO2_emission_g_per_km</th>\n",
       "      <td>-0.306274</td>\n",
       "      <td>0.464167</td>\n",
       "      <td>0.922422</td>\n",
       "      <td>1.000000</td>\n",
       "    </tr>\n",
       "  </tbody>\n",
       "</table>\n",
       "</div>"
      ],
      "text/plain": [
       "                       Velocity [km/h]  Throttle [%]  Motor Torque [Nm]  \\\n",
       "Velocity [km/h]               1.000000      0.353170          -0.133496   \n",
       "Throttle [%]                  0.353170      1.000000           0.573191   \n",
       "Motor Torque [Nm]            -0.133496      0.573191           1.000000   \n",
       "CO2_emission_g_per_km        -0.306274      0.464167           0.922422   \n",
       "\n",
       "                       CO2_emission_g_per_km  \n",
       "Velocity [km/h]                    -0.306274  \n",
       "Throttle [%]                        0.464167  \n",
       "Motor Torque [Nm]                   0.922422  \n",
       "CO2_emission_g_per_km               1.000000  "
      ]
     },
     "execution_count": 8,
     "metadata": {},
     "output_type": "execute_result"
    }
   ],
   "source": [
    "elet.corr()"
   ]
  },
  {
   "cell_type": "markdown",
   "id": "59a93dcc-4b74-418b-9650-6106a11fb7be",
   "metadata": {
    "jp-MarkdownHeadingCollapsed": true
   },
   "source": [
    "### Kendall"
   ]
  },
  {
   "cell_type": "code",
   "execution_count": 9,
   "id": "f536f341-9306-4385-b2f7-c69c4d6e9afc",
   "metadata": {},
   "outputs": [
    {
     "data": {
      "text/html": [
       "<div>\n",
       "<style scoped>\n",
       "    .dataframe tbody tr th:only-of-type {\n",
       "        vertical-align: middle;\n",
       "    }\n",
       "\n",
       "    .dataframe tbody tr th {\n",
       "        vertical-align: top;\n",
       "    }\n",
       "\n",
       "    .dataframe thead th {\n",
       "        text-align: right;\n",
       "    }\n",
       "</style>\n",
       "<table border=\"1\" class=\"dataframe\">\n",
       "  <thead>\n",
       "    <tr style=\"text-align: right;\">\n",
       "      <th></th>\n",
       "      <th>Speed (OBD)(km/h)</th>\n",
       "      <th>Absolute Throttle Position B(%)</th>\n",
       "      <th>Torque(Nm)</th>\n",
       "      <th>CO2_emission_g_per_km</th>\n",
       "    </tr>\n",
       "  </thead>\n",
       "  <tbody>\n",
       "    <tr>\n",
       "      <th>Speed (OBD)(km/h)</th>\n",
       "      <td>1.000000</td>\n",
       "      <td>0.282852</td>\n",
       "      <td>0.299243</td>\n",
       "      <td>-0.297521</td>\n",
       "    </tr>\n",
       "    <tr>\n",
       "      <th>Absolute Throttle Position B(%)</th>\n",
       "      <td>0.282852</td>\n",
       "      <td>1.000000</td>\n",
       "      <td>0.193377</td>\n",
       "      <td>0.360410</td>\n",
       "    </tr>\n",
       "    <tr>\n",
       "      <th>Torque(Nm)</th>\n",
       "      <td>0.299243</td>\n",
       "      <td>0.193377</td>\n",
       "      <td>1.000000</td>\n",
       "      <td>-0.117440</td>\n",
       "    </tr>\n",
       "    <tr>\n",
       "      <th>CO2_emission_g_per_km</th>\n",
       "      <td>-0.297521</td>\n",
       "      <td>0.360410</td>\n",
       "      <td>-0.117440</td>\n",
       "      <td>1.000000</td>\n",
       "    </tr>\n",
       "  </tbody>\n",
       "</table>\n",
       "</div>"
      ],
      "text/plain": [
       "                                 Speed (OBD)(km/h)  \\\n",
       "Speed (OBD)(km/h)                         1.000000   \n",
       "Absolute Throttle Position B(%)           0.282852   \n",
       "Torque(Nm)                                0.299243   \n",
       "CO2_emission_g_per_km                    -0.297521   \n",
       "\n",
       "                                 Absolute Throttle Position B(%)  Torque(Nm)  \\\n",
       "Speed (OBD)(km/h)                                       0.282852    0.299243   \n",
       "Absolute Throttle Position B(%)                         1.000000    0.193377   \n",
       "Torque(Nm)                                              0.193377    1.000000   \n",
       "CO2_emission_g_per_km                                   0.360410   -0.117440   \n",
       "\n",
       "                                 CO2_emission_g_per_km  \n",
       "Speed (OBD)(km/h)                            -0.297521  \n",
       "Absolute Throttle Position B(%)               0.360410  \n",
       "Torque(Nm)                                   -0.117440  \n",
       "CO2_emission_g_per_km                         1.000000  "
      ]
     },
     "execution_count": 9,
     "metadata": {},
     "output_type": "execute_result"
    }
   ],
   "source": [
    "comb.corr(method='kendall')"
   ]
  },
  {
   "cell_type": "code",
   "execution_count": 10,
   "id": "46303e80-bccf-433d-bf59-efc4c43204d5",
   "metadata": {},
   "outputs": [
    {
     "data": {
      "text/html": [
       "<div>\n",
       "<style scoped>\n",
       "    .dataframe tbody tr th:only-of-type {\n",
       "        vertical-align: middle;\n",
       "    }\n",
       "\n",
       "    .dataframe tbody tr th {\n",
       "        vertical-align: top;\n",
       "    }\n",
       "\n",
       "    .dataframe thead th {\n",
       "        text-align: right;\n",
       "    }\n",
       "</style>\n",
       "<table border=\"1\" class=\"dataframe\">\n",
       "  <thead>\n",
       "    <tr style=\"text-align: right;\">\n",
       "      <th></th>\n",
       "      <th>Velocity [km/h]</th>\n",
       "      <th>Throttle [%]</th>\n",
       "      <th>Motor Torque [Nm]</th>\n",
       "      <th>CO2_emission_g_per_km</th>\n",
       "    </tr>\n",
       "  </thead>\n",
       "  <tbody>\n",
       "    <tr>\n",
       "      <th>Velocity [km/h]</th>\n",
       "      <td>1.000000</td>\n",
       "      <td>0.251964</td>\n",
       "      <td>-0.068684</td>\n",
       "      <td>-0.196245</td>\n",
       "    </tr>\n",
       "    <tr>\n",
       "      <th>Throttle [%]</th>\n",
       "      <td>0.251964</td>\n",
       "      <td>1.000000</td>\n",
       "      <td>0.485094</td>\n",
       "      <td>0.393321</td>\n",
       "    </tr>\n",
       "    <tr>\n",
       "      <th>Motor Torque [Nm]</th>\n",
       "      <td>-0.068684</td>\n",
       "      <td>0.485094</td>\n",
       "      <td>1.000000</td>\n",
       "      <td>0.809081</td>\n",
       "    </tr>\n",
       "    <tr>\n",
       "      <th>CO2_emission_g_per_km</th>\n",
       "      <td>-0.196245</td>\n",
       "      <td>0.393321</td>\n",
       "      <td>0.809081</td>\n",
       "      <td>1.000000</td>\n",
       "    </tr>\n",
       "  </tbody>\n",
       "</table>\n",
       "</div>"
      ],
      "text/plain": [
       "                       Velocity [km/h]  Throttle [%]  Motor Torque [Nm]  \\\n",
       "Velocity [km/h]               1.000000      0.251964          -0.068684   \n",
       "Throttle [%]                  0.251964      1.000000           0.485094   \n",
       "Motor Torque [Nm]            -0.068684      0.485094           1.000000   \n",
       "CO2_emission_g_per_km        -0.196245      0.393321           0.809081   \n",
       "\n",
       "                       CO2_emission_g_per_km  \n",
       "Velocity [km/h]                    -0.196245  \n",
       "Throttle [%]                        0.393321  \n",
       "Motor Torque [Nm]                   0.809081  \n",
       "CO2_emission_g_per_km               1.000000  "
      ]
     },
     "execution_count": 10,
     "metadata": {},
     "output_type": "execute_result"
    }
   ],
   "source": [
    "elet.corr(method='kendall')"
   ]
  },
  {
   "cell_type": "markdown",
   "id": "55d448b8-6c28-4cf7-a15a-fdcb459ced9d",
   "metadata": {
    "jp-MarkdownHeadingCollapsed": true
   },
   "source": [
    "### Spearman"
   ]
  },
  {
   "cell_type": "code",
   "execution_count": 11,
   "id": "6344e511-e756-463e-bfa3-07ae05bbde69",
   "metadata": {},
   "outputs": [
    {
     "data": {
      "text/html": [
       "<div>\n",
       "<style scoped>\n",
       "    .dataframe tbody tr th:only-of-type {\n",
       "        vertical-align: middle;\n",
       "    }\n",
       "\n",
       "    .dataframe tbody tr th {\n",
       "        vertical-align: top;\n",
       "    }\n",
       "\n",
       "    .dataframe thead th {\n",
       "        text-align: right;\n",
       "    }\n",
       "</style>\n",
       "<table border=\"1\" class=\"dataframe\">\n",
       "  <thead>\n",
       "    <tr style=\"text-align: right;\">\n",
       "      <th></th>\n",
       "      <th>Speed (OBD)(km/h)</th>\n",
       "      <th>Absolute Throttle Position B(%)</th>\n",
       "      <th>Torque(Nm)</th>\n",
       "      <th>CO2_emission_g_per_km</th>\n",
       "    </tr>\n",
       "  </thead>\n",
       "  <tbody>\n",
       "    <tr>\n",
       "      <th>Speed (OBD)(km/h)</th>\n",
       "      <td>1.000000</td>\n",
       "      <td>0.408685</td>\n",
       "      <td>0.418760</td>\n",
       "      <td>-0.401324</td>\n",
       "    </tr>\n",
       "    <tr>\n",
       "      <th>Absolute Throttle Position B(%)</th>\n",
       "      <td>0.408685</td>\n",
       "      <td>1.000000</td>\n",
       "      <td>0.289765</td>\n",
       "      <td>0.396998</td>\n",
       "    </tr>\n",
       "    <tr>\n",
       "      <th>Torque(Nm)</th>\n",
       "      <td>0.418760</td>\n",
       "      <td>0.289765</td>\n",
       "      <td>1.000000</td>\n",
       "      <td>-0.165757</td>\n",
       "    </tr>\n",
       "    <tr>\n",
       "      <th>CO2_emission_g_per_km</th>\n",
       "      <td>-0.401324</td>\n",
       "      <td>0.396998</td>\n",
       "      <td>-0.165757</td>\n",
       "      <td>1.000000</td>\n",
       "    </tr>\n",
       "  </tbody>\n",
       "</table>\n",
       "</div>"
      ],
      "text/plain": [
       "                                 Speed (OBD)(km/h)  \\\n",
       "Speed (OBD)(km/h)                         1.000000   \n",
       "Absolute Throttle Position B(%)           0.408685   \n",
       "Torque(Nm)                                0.418760   \n",
       "CO2_emission_g_per_km                    -0.401324   \n",
       "\n",
       "                                 Absolute Throttle Position B(%)  Torque(Nm)  \\\n",
       "Speed (OBD)(km/h)                                       0.408685    0.418760   \n",
       "Absolute Throttle Position B(%)                         1.000000    0.289765   \n",
       "Torque(Nm)                                              0.289765    1.000000   \n",
       "CO2_emission_g_per_km                                   0.396998   -0.165757   \n",
       "\n",
       "                                 CO2_emission_g_per_km  \n",
       "Speed (OBD)(km/h)                            -0.401324  \n",
       "Absolute Throttle Position B(%)               0.396998  \n",
       "Torque(Nm)                                   -0.165757  \n",
       "CO2_emission_g_per_km                         1.000000  "
      ]
     },
     "execution_count": 11,
     "metadata": {},
     "output_type": "execute_result"
    }
   ],
   "source": [
    "comb.corr(method='spearman')"
   ]
  },
  {
   "cell_type": "code",
   "execution_count": 12,
   "id": "57a5a49f-c40f-463e-86ac-99c579c139ec",
   "metadata": {},
   "outputs": [
    {
     "data": {
      "text/html": [
       "<div>\n",
       "<style scoped>\n",
       "    .dataframe tbody tr th:only-of-type {\n",
       "        vertical-align: middle;\n",
       "    }\n",
       "\n",
       "    .dataframe tbody tr th {\n",
       "        vertical-align: top;\n",
       "    }\n",
       "\n",
       "    .dataframe thead th {\n",
       "        text-align: right;\n",
       "    }\n",
       "</style>\n",
       "<table border=\"1\" class=\"dataframe\">\n",
       "  <thead>\n",
       "    <tr style=\"text-align: right;\">\n",
       "      <th></th>\n",
       "      <th>Velocity [km/h]</th>\n",
       "      <th>Throttle [%]</th>\n",
       "      <th>Motor Torque [Nm]</th>\n",
       "      <th>CO2_emission_g_per_km</th>\n",
       "    </tr>\n",
       "  </thead>\n",
       "  <tbody>\n",
       "    <tr>\n",
       "      <th>Velocity [km/h]</th>\n",
       "      <td>1.000000</td>\n",
       "      <td>0.365816</td>\n",
       "      <td>-0.101036</td>\n",
       "      <td>-0.292737</td>\n",
       "    </tr>\n",
       "    <tr>\n",
       "      <th>Throttle [%]</th>\n",
       "      <td>0.365816</td>\n",
       "      <td>1.000000</td>\n",
       "      <td>0.660531</td>\n",
       "      <td>0.549567</td>\n",
       "    </tr>\n",
       "    <tr>\n",
       "      <th>Motor Torque [Nm]</th>\n",
       "      <td>-0.101036</td>\n",
       "      <td>0.660531</td>\n",
       "      <td>1.000000</td>\n",
       "      <td>0.924270</td>\n",
       "    </tr>\n",
       "    <tr>\n",
       "      <th>CO2_emission_g_per_km</th>\n",
       "      <td>-0.292737</td>\n",
       "      <td>0.549567</td>\n",
       "      <td>0.924270</td>\n",
       "      <td>1.000000</td>\n",
       "    </tr>\n",
       "  </tbody>\n",
       "</table>\n",
       "</div>"
      ],
      "text/plain": [
       "                       Velocity [km/h]  Throttle [%]  Motor Torque [Nm]  \\\n",
       "Velocity [km/h]               1.000000      0.365816          -0.101036   \n",
       "Throttle [%]                  0.365816      1.000000           0.660531   \n",
       "Motor Torque [Nm]            -0.101036      0.660531           1.000000   \n",
       "CO2_emission_g_per_km        -0.292737      0.549567           0.924270   \n",
       "\n",
       "                       CO2_emission_g_per_km  \n",
       "Velocity [km/h]                    -0.292737  \n",
       "Throttle [%]                        0.549567  \n",
       "Motor Torque [Nm]                   0.924270  \n",
       "CO2_emission_g_per_km               1.000000  "
      ]
     },
     "execution_count": 12,
     "metadata": {},
     "output_type": "execute_result"
    }
   ],
   "source": [
    "elet.corr(method='spearman')"
   ]
  },
  {
   "cell_type": "markdown",
   "id": "7da2e28d-ddb4-4b03-afee-d1eda76aa27d",
   "metadata": {},
   "source": [
    "## Sampled Dataset"
   ]
  },
  {
   "cell_type": "code",
   "execution_count": 15,
   "id": "3cfd76c0-34c9-4121-8a47-8c50b73f90ec",
   "metadata": {},
   "outputs": [],
   "source": [
    "n = min([len(comb), len(elet)])\n",
    "sample_comb = comb.sample(n=n, random_state=42)\n",
    "sample_elet = elet.sample(n=n, random_state=42)"
   ]
  },
  {
   "cell_type": "markdown",
   "id": "c6a24b5f-258f-4025-a93c-77631ef8e722",
   "metadata": {
    "jp-MarkdownHeadingCollapsed": true
   },
   "source": [
    "### Combustão (Não muda nada)"
   ]
  },
  {
   "cell_type": "code",
   "execution_count": 16,
   "id": "aa849544-c03d-4a41-9bc2-ef44bef9b23e",
   "metadata": {},
   "outputs": [
    {
     "data": {
      "text/html": [
       "<div>\n",
       "<style scoped>\n",
       "    .dataframe tbody tr th:only-of-type {\n",
       "        vertical-align: middle;\n",
       "    }\n",
       "\n",
       "    .dataframe tbody tr th {\n",
       "        vertical-align: top;\n",
       "    }\n",
       "\n",
       "    .dataframe thead th {\n",
       "        text-align: right;\n",
       "    }\n",
       "</style>\n",
       "<table border=\"1\" class=\"dataframe\">\n",
       "  <thead>\n",
       "    <tr style=\"text-align: right;\">\n",
       "      <th></th>\n",
       "      <th>Speed (OBD)(km/h)</th>\n",
       "      <th>Absolute Throttle Position B(%)</th>\n",
       "      <th>Torque(Nm)</th>\n",
       "      <th>CO2_emission_g_per_km</th>\n",
       "    </tr>\n",
       "  </thead>\n",
       "  <tbody>\n",
       "    <tr>\n",
       "      <th>Speed (OBD)(km/h)</th>\n",
       "      <td>1.000000</td>\n",
       "      <td>0.580236</td>\n",
       "      <td>0.502271</td>\n",
       "      <td>-0.474237</td>\n",
       "    </tr>\n",
       "    <tr>\n",
       "      <th>Absolute Throttle Position B(%)</th>\n",
       "      <td>0.580236</td>\n",
       "      <td>1.000000</td>\n",
       "      <td>0.353897</td>\n",
       "      <td>0.215958</td>\n",
       "    </tr>\n",
       "    <tr>\n",
       "      <th>Torque(Nm)</th>\n",
       "      <td>0.502271</td>\n",
       "      <td>0.353897</td>\n",
       "      <td>1.000000</td>\n",
       "      <td>-0.141758</td>\n",
       "    </tr>\n",
       "    <tr>\n",
       "      <th>CO2_emission_g_per_km</th>\n",
       "      <td>-0.474237</td>\n",
       "      <td>0.215958</td>\n",
       "      <td>-0.141758</td>\n",
       "      <td>1.000000</td>\n",
       "    </tr>\n",
       "  </tbody>\n",
       "</table>\n",
       "</div>"
      ],
      "text/plain": [
       "                                 Speed (OBD)(km/h)  \\\n",
       "Speed (OBD)(km/h)                         1.000000   \n",
       "Absolute Throttle Position B(%)           0.580236   \n",
       "Torque(Nm)                                0.502271   \n",
       "CO2_emission_g_per_km                    -0.474237   \n",
       "\n",
       "                                 Absolute Throttle Position B(%)  Torque(Nm)  \\\n",
       "Speed (OBD)(km/h)                                       0.580236    0.502271   \n",
       "Absolute Throttle Position B(%)                         1.000000    0.353897   \n",
       "Torque(Nm)                                              0.353897    1.000000   \n",
       "CO2_emission_g_per_km                                   0.215958   -0.141758   \n",
       "\n",
       "                                 CO2_emission_g_per_km  \n",
       "Speed (OBD)(km/h)                            -0.474237  \n",
       "Absolute Throttle Position B(%)               0.215958  \n",
       "Torque(Nm)                                   -0.141758  \n",
       "CO2_emission_g_per_km                         1.000000  "
      ]
     },
     "execution_count": 16,
     "metadata": {},
     "output_type": "execute_result"
    }
   ],
   "source": [
    "sample_comb.corr()"
   ]
  },
  {
   "cell_type": "code",
   "execution_count": 18,
   "id": "8e1ee7ea-bcc0-4e2b-b038-a909ce488ee0",
   "metadata": {},
   "outputs": [
    {
     "data": {
      "text/html": [
       "<div>\n",
       "<style scoped>\n",
       "    .dataframe tbody tr th:only-of-type {\n",
       "        vertical-align: middle;\n",
       "    }\n",
       "\n",
       "    .dataframe tbody tr th {\n",
       "        vertical-align: top;\n",
       "    }\n",
       "\n",
       "    .dataframe thead th {\n",
       "        text-align: right;\n",
       "    }\n",
       "</style>\n",
       "<table border=\"1\" class=\"dataframe\">\n",
       "  <thead>\n",
       "    <tr style=\"text-align: right;\">\n",
       "      <th></th>\n",
       "      <th>Speed (OBD)(km/h)</th>\n",
       "      <th>Absolute Throttle Position B(%)</th>\n",
       "      <th>Torque(Nm)</th>\n",
       "      <th>CO2_emission_g_per_km</th>\n",
       "    </tr>\n",
       "  </thead>\n",
       "  <tbody>\n",
       "    <tr>\n",
       "      <th>Speed (OBD)(km/h)</th>\n",
       "      <td>1.000000</td>\n",
       "      <td>0.282852</td>\n",
       "      <td>0.299243</td>\n",
       "      <td>-0.297521</td>\n",
       "    </tr>\n",
       "    <tr>\n",
       "      <th>Absolute Throttle Position B(%)</th>\n",
       "      <td>0.282852</td>\n",
       "      <td>1.000000</td>\n",
       "      <td>0.193377</td>\n",
       "      <td>0.360410</td>\n",
       "    </tr>\n",
       "    <tr>\n",
       "      <th>Torque(Nm)</th>\n",
       "      <td>0.299243</td>\n",
       "      <td>0.193377</td>\n",
       "      <td>1.000000</td>\n",
       "      <td>-0.117440</td>\n",
       "    </tr>\n",
       "    <tr>\n",
       "      <th>CO2_emission_g_per_km</th>\n",
       "      <td>-0.297521</td>\n",
       "      <td>0.360410</td>\n",
       "      <td>-0.117440</td>\n",
       "      <td>1.000000</td>\n",
       "    </tr>\n",
       "  </tbody>\n",
       "</table>\n",
       "</div>"
      ],
      "text/plain": [
       "                                 Speed (OBD)(km/h)  \\\n",
       "Speed (OBD)(km/h)                         1.000000   \n",
       "Absolute Throttle Position B(%)           0.282852   \n",
       "Torque(Nm)                                0.299243   \n",
       "CO2_emission_g_per_km                    -0.297521   \n",
       "\n",
       "                                 Absolute Throttle Position B(%)  Torque(Nm)  \\\n",
       "Speed (OBD)(km/h)                                       0.282852    0.299243   \n",
       "Absolute Throttle Position B(%)                         1.000000    0.193377   \n",
       "Torque(Nm)                                              0.193377    1.000000   \n",
       "CO2_emission_g_per_km                                   0.360410   -0.117440   \n",
       "\n",
       "                                 CO2_emission_g_per_km  \n",
       "Speed (OBD)(km/h)                            -0.297521  \n",
       "Absolute Throttle Position B(%)               0.360410  \n",
       "Torque(Nm)                                   -0.117440  \n",
       "CO2_emission_g_per_km                         1.000000  "
      ]
     },
     "execution_count": 18,
     "metadata": {},
     "output_type": "execute_result"
    }
   ],
   "source": [
    "sample_comb.corr(method='kendall')"
   ]
  },
  {
   "cell_type": "code",
   "execution_count": 19,
   "id": "36090cde-d1ef-46da-947f-c232759697c2",
   "metadata": {},
   "outputs": [
    {
     "data": {
      "text/html": [
       "<div>\n",
       "<style scoped>\n",
       "    .dataframe tbody tr th:only-of-type {\n",
       "        vertical-align: middle;\n",
       "    }\n",
       "\n",
       "    .dataframe tbody tr th {\n",
       "        vertical-align: top;\n",
       "    }\n",
       "\n",
       "    .dataframe thead th {\n",
       "        text-align: right;\n",
       "    }\n",
       "</style>\n",
       "<table border=\"1\" class=\"dataframe\">\n",
       "  <thead>\n",
       "    <tr style=\"text-align: right;\">\n",
       "      <th></th>\n",
       "      <th>Speed (OBD)(km/h)</th>\n",
       "      <th>Absolute Throttle Position B(%)</th>\n",
       "      <th>Torque(Nm)</th>\n",
       "      <th>CO2_emission_g_per_km</th>\n",
       "    </tr>\n",
       "  </thead>\n",
       "  <tbody>\n",
       "    <tr>\n",
       "      <th>Speed (OBD)(km/h)</th>\n",
       "      <td>1.000000</td>\n",
       "      <td>0.408685</td>\n",
       "      <td>0.418760</td>\n",
       "      <td>-0.401324</td>\n",
       "    </tr>\n",
       "    <tr>\n",
       "      <th>Absolute Throttle Position B(%)</th>\n",
       "      <td>0.408685</td>\n",
       "      <td>1.000000</td>\n",
       "      <td>0.289765</td>\n",
       "      <td>0.396998</td>\n",
       "    </tr>\n",
       "    <tr>\n",
       "      <th>Torque(Nm)</th>\n",
       "      <td>0.418760</td>\n",
       "      <td>0.289765</td>\n",
       "      <td>1.000000</td>\n",
       "      <td>-0.165757</td>\n",
       "    </tr>\n",
       "    <tr>\n",
       "      <th>CO2_emission_g_per_km</th>\n",
       "      <td>-0.401324</td>\n",
       "      <td>0.396998</td>\n",
       "      <td>-0.165757</td>\n",
       "      <td>1.000000</td>\n",
       "    </tr>\n",
       "  </tbody>\n",
       "</table>\n",
       "</div>"
      ],
      "text/plain": [
       "                                 Speed (OBD)(km/h)  \\\n",
       "Speed (OBD)(km/h)                         1.000000   \n",
       "Absolute Throttle Position B(%)           0.408685   \n",
       "Torque(Nm)                                0.418760   \n",
       "CO2_emission_g_per_km                    -0.401324   \n",
       "\n",
       "                                 Absolute Throttle Position B(%)  Torque(Nm)  \\\n",
       "Speed (OBD)(km/h)                                       0.408685    0.418760   \n",
       "Absolute Throttle Position B(%)                         1.000000    0.289765   \n",
       "Torque(Nm)                                              0.289765    1.000000   \n",
       "CO2_emission_g_per_km                                   0.396998   -0.165757   \n",
       "\n",
       "                                 CO2_emission_g_per_km  \n",
       "Speed (OBD)(km/h)                            -0.401324  \n",
       "Absolute Throttle Position B(%)               0.396998  \n",
       "Torque(Nm)                                   -0.165757  \n",
       "CO2_emission_g_per_km                         1.000000  "
      ]
     },
     "execution_count": 19,
     "metadata": {},
     "output_type": "execute_result"
    }
   ],
   "source": [
    "sample_comb.corr(method='spearman')"
   ]
  },
  {
   "cell_type": "markdown",
   "id": "29375ad9-0aa9-4d50-8ab7-fa213a58f424",
   "metadata": {},
   "source": [
    "### Elétrico (Diminuiu a Correlação)"
   ]
  },
  {
   "cell_type": "code",
   "execution_count": 20,
   "id": "b444be19-8a0a-4073-a3d9-e63f8ee5a3e0",
   "metadata": {},
   "outputs": [
    {
     "data": {
      "text/html": [
       "<div>\n",
       "<style scoped>\n",
       "    .dataframe tbody tr th:only-of-type {\n",
       "        vertical-align: middle;\n",
       "    }\n",
       "\n",
       "    .dataframe tbody tr th {\n",
       "        vertical-align: top;\n",
       "    }\n",
       "\n",
       "    .dataframe thead th {\n",
       "        text-align: right;\n",
       "    }\n",
       "</style>\n",
       "<table border=\"1\" class=\"dataframe\">\n",
       "  <thead>\n",
       "    <tr style=\"text-align: right;\">\n",
       "      <th></th>\n",
       "      <th>Velocity [km/h]</th>\n",
       "      <th>Throttle [%]</th>\n",
       "      <th>Motor Torque [Nm]</th>\n",
       "      <th>CO2_emission_g_per_km</th>\n",
       "    </tr>\n",
       "  </thead>\n",
       "  <tbody>\n",
       "    <tr>\n",
       "      <th>Velocity [km/h]</th>\n",
       "      <td>1.000000</td>\n",
       "      <td>0.324101</td>\n",
       "      <td>-0.131906</td>\n",
       "      <td>-0.298982</td>\n",
       "    </tr>\n",
       "    <tr>\n",
       "      <th>Throttle [%]</th>\n",
       "      <td>0.324101</td>\n",
       "      <td>1.000000</td>\n",
       "      <td>0.568689</td>\n",
       "      <td>0.473417</td>\n",
       "    </tr>\n",
       "    <tr>\n",
       "      <th>Motor Torque [Nm]</th>\n",
       "      <td>-0.131906</td>\n",
       "      <td>0.568689</td>\n",
       "      <td>1.000000</td>\n",
       "      <td>0.920844</td>\n",
       "    </tr>\n",
       "    <tr>\n",
       "      <th>CO2_emission_g_per_km</th>\n",
       "      <td>-0.298982</td>\n",
       "      <td>0.473417</td>\n",
       "      <td>0.920844</td>\n",
       "      <td>1.000000</td>\n",
       "    </tr>\n",
       "  </tbody>\n",
       "</table>\n",
       "</div>"
      ],
      "text/plain": [
       "                       Velocity [km/h]  Throttle [%]  Motor Torque [Nm]  \\\n",
       "Velocity [km/h]               1.000000      0.324101          -0.131906   \n",
       "Throttle [%]                  0.324101      1.000000           0.568689   \n",
       "Motor Torque [Nm]            -0.131906      0.568689           1.000000   \n",
       "CO2_emission_g_per_km        -0.298982      0.473417           0.920844   \n",
       "\n",
       "                       CO2_emission_g_per_km  \n",
       "Velocity [km/h]                    -0.298982  \n",
       "Throttle [%]                        0.473417  \n",
       "Motor Torque [Nm]                   0.920844  \n",
       "CO2_emission_g_per_km               1.000000  "
      ]
     },
     "execution_count": 20,
     "metadata": {},
     "output_type": "execute_result"
    }
   ],
   "source": [
    "sample_elet.corr()"
   ]
  },
  {
   "cell_type": "code",
   "execution_count": 21,
   "id": "d67f26cf-9d05-455a-9c52-cd8d76a0531a",
   "metadata": {},
   "outputs": [
    {
     "data": {
      "text/html": [
       "<div>\n",
       "<style scoped>\n",
       "    .dataframe tbody tr th:only-of-type {\n",
       "        vertical-align: middle;\n",
       "    }\n",
       "\n",
       "    .dataframe tbody tr th {\n",
       "        vertical-align: top;\n",
       "    }\n",
       "\n",
       "    .dataframe thead th {\n",
       "        text-align: right;\n",
       "    }\n",
       "</style>\n",
       "<table border=\"1\" class=\"dataframe\">\n",
       "  <thead>\n",
       "    <tr style=\"text-align: right;\">\n",
       "      <th></th>\n",
       "      <th>Velocity [km/h]</th>\n",
       "      <th>Throttle [%]</th>\n",
       "      <th>Motor Torque [Nm]</th>\n",
       "      <th>CO2_emission_g_per_km</th>\n",
       "    </tr>\n",
       "  </thead>\n",
       "  <tbody>\n",
       "    <tr>\n",
       "      <th>Velocity [km/h]</th>\n",
       "      <td>1.000000</td>\n",
       "      <td>0.233000</td>\n",
       "      <td>-0.067569</td>\n",
       "      <td>-0.194805</td>\n",
       "    </tr>\n",
       "    <tr>\n",
       "      <th>Throttle [%]</th>\n",
       "      <td>0.233000</td>\n",
       "      <td>1.000000</td>\n",
       "      <td>0.487427</td>\n",
       "      <td>0.396101</td>\n",
       "    </tr>\n",
       "    <tr>\n",
       "      <th>Motor Torque [Nm]</th>\n",
       "      <td>-0.067569</td>\n",
       "      <td>0.487427</td>\n",
       "      <td>1.000000</td>\n",
       "      <td>0.806464</td>\n",
       "    </tr>\n",
       "    <tr>\n",
       "      <th>CO2_emission_g_per_km</th>\n",
       "      <td>-0.194805</td>\n",
       "      <td>0.396101</td>\n",
       "      <td>0.806464</td>\n",
       "      <td>1.000000</td>\n",
       "    </tr>\n",
       "  </tbody>\n",
       "</table>\n",
       "</div>"
      ],
      "text/plain": [
       "                       Velocity [km/h]  Throttle [%]  Motor Torque [Nm]  \\\n",
       "Velocity [km/h]               1.000000      0.233000          -0.067569   \n",
       "Throttle [%]                  0.233000      1.000000           0.487427   \n",
       "Motor Torque [Nm]            -0.067569      0.487427           1.000000   \n",
       "CO2_emission_g_per_km        -0.194805      0.396101           0.806464   \n",
       "\n",
       "                       CO2_emission_g_per_km  \n",
       "Velocity [km/h]                    -0.194805  \n",
       "Throttle [%]                        0.396101  \n",
       "Motor Torque [Nm]                   0.806464  \n",
       "CO2_emission_g_per_km               1.000000  "
      ]
     },
     "execution_count": 21,
     "metadata": {},
     "output_type": "execute_result"
    }
   ],
   "source": [
    "sample_elet.corr(method='kendall')"
   ]
  },
  {
   "cell_type": "code",
   "execution_count": 22,
   "id": "bb2b4603-0fdb-4b7a-a6e8-a1764511c16c",
   "metadata": {},
   "outputs": [
    {
     "data": {
      "text/html": [
       "<div>\n",
       "<style scoped>\n",
       "    .dataframe tbody tr th:only-of-type {\n",
       "        vertical-align: middle;\n",
       "    }\n",
       "\n",
       "    .dataframe tbody tr th {\n",
       "        vertical-align: top;\n",
       "    }\n",
       "\n",
       "    .dataframe thead th {\n",
       "        text-align: right;\n",
       "    }\n",
       "</style>\n",
       "<table border=\"1\" class=\"dataframe\">\n",
       "  <thead>\n",
       "    <tr style=\"text-align: right;\">\n",
       "      <th></th>\n",
       "      <th>Velocity [km/h]</th>\n",
       "      <th>Throttle [%]</th>\n",
       "      <th>Motor Torque [Nm]</th>\n",
       "      <th>CO2_emission_g_per_km</th>\n",
       "    </tr>\n",
       "  </thead>\n",
       "  <tbody>\n",
       "    <tr>\n",
       "      <th>Velocity [km/h]</th>\n",
       "      <td>1.000000</td>\n",
       "      <td>0.339343</td>\n",
       "      <td>-0.099885</td>\n",
       "      <td>-0.291159</td>\n",
       "    </tr>\n",
       "    <tr>\n",
       "      <th>Throttle [%]</th>\n",
       "      <td>0.339343</td>\n",
       "      <td>1.000000</td>\n",
       "      <td>0.662725</td>\n",
       "      <td>0.554469</td>\n",
       "    </tr>\n",
       "    <tr>\n",
       "      <th>Motor Torque [Nm]</th>\n",
       "      <td>-0.099885</td>\n",
       "      <td>0.662725</td>\n",
       "      <td>1.000000</td>\n",
       "      <td>0.919717</td>\n",
       "    </tr>\n",
       "    <tr>\n",
       "      <th>CO2_emission_g_per_km</th>\n",
       "      <td>-0.291159</td>\n",
       "      <td>0.554469</td>\n",
       "      <td>0.919717</td>\n",
       "      <td>1.000000</td>\n",
       "    </tr>\n",
       "  </tbody>\n",
       "</table>\n",
       "</div>"
      ],
      "text/plain": [
       "                       Velocity [km/h]  Throttle [%]  Motor Torque [Nm]  \\\n",
       "Velocity [km/h]               1.000000      0.339343          -0.099885   \n",
       "Throttle [%]                  0.339343      1.000000           0.662725   \n",
       "Motor Torque [Nm]            -0.099885      0.662725           1.000000   \n",
       "CO2_emission_g_per_km        -0.291159      0.554469           0.919717   \n",
       "\n",
       "                       CO2_emission_g_per_km  \n",
       "Velocity [km/h]                    -0.291159  \n",
       "Throttle [%]                        0.554469  \n",
       "Motor Torque [Nm]                   0.919717  \n",
       "CO2_emission_g_per_km               1.000000  "
      ]
     },
     "execution_count": 22,
     "metadata": {},
     "output_type": "execute_result"
    }
   ],
   "source": [
    "sample_elet.corr(method='spearman')"
   ]
  },
  {
   "cell_type": "markdown",
   "id": "c759afb5-ce02-4a2a-a3e0-b3dfb52ee800",
   "metadata": {
    "jp-MarkdownHeadingCollapsed": true
   },
   "source": [
    "# Input Distributions"
   ]
  },
  {
   "cell_type": "code",
   "execution_count": 35,
   "id": "873a3820-79de-458a-aaaa-f203b3d3fc88",
   "metadata": {},
   "outputs": [],
   "source": [
    "def plot_histogram(data, color='blue'):\n",
    "    # Estatísticas do erro\n",
    "    mean_error = np.mean(data)\n",
    "    std_error = np.std(data)\n",
    "    min_error = np.min(data)\n",
    "    max_error = np.max(data)\n",
    "\n",
    "    # Histograma\n",
    "    plt.hist(data, bins=30, color=color, alpha=0.7, edgecolor='black')\n",
    "\n",
    "    # Linhas de referência\n",
    "    plt.axvline(mean_error, color='red', linestyle='dashed', linewidth=2, label=f\"Média: {mean_error:.4f}\")\n",
    "    plt.axvline(mean_error + 2*std_error, color='orange', linestyle='dashed', linewidth=2, label=f'+2σ: {(mean_error + 2*std_error):.4f}')\n",
    "    plt.axvline(mean_error - 2*std_error, color='orange', linestyle='dashed', linewidth=2, label=f'-2σ: {(mean_error - 2*std_error):.4f}')\n",
    "    plt.axvline(min_error, color='cyan', linestyle='dashed', linewidth=2, label=f'Mínimo: {min_error:.4f}')\n",
    "    plt.axvline(max_error, color='cyan', linestyle='dashed', linewidth=2, label=f'Máximo: {max_error:.4f}')\n",
    "\n",
    "    # Extras\n",
    "    plt.xlabel(\"Erro (y_pred - y_real)\")\n",
    "    plt.ylabel(\"Frequência\")\n",
    "    plt.legend()\n",
    "    plt.grid(True)\n",
    "\n",
    "    plt.show()"
   ]
  },
  {
   "cell_type": "code",
   "execution_count": 36,
   "id": "78c2525a-91d2-47e6-aef3-bc217b2042c8",
   "metadata": {},
   "outputs": [
    {
     "data": {
      "image/png": "[encoded data removed]",
      "text/plain": [
       "<Figure size 432x288 with 1 Axes>"
      ]
     },
     "metadata": {
      "needs_background": "light"
     },
     "output_type": "display_data"
    }
   ],
   "source": [
    "plot_histogram(comb['Speed (OBD)(km/h)'])"
   ]
  },
  {
   "cell_type": "code",
   "execution_count": 37,
   "id": "3aae335d-f09b-4057-83d0-4a0d1690a061",
   "metadata": {},
   "outputs": [
    {
     "data": {
      "image/png": "[encoded data removed]",
      "text/plain": [
       "<Figure size 432x288 with 1 Axes>"
      ]
     },
     "metadata": {
      "needs_background": "light"
     },
     "output_type": "display_data"
    }
   ],
   "source": [
    "plot_histogram(elet['Velocity [km/h]'])"
   ]
  },
  {
   "cell_type": "code",
   "execution_count": 38,
   "id": "d84932e8-dc48-4081-b612-ec0f5b2c35a6",
   "metadata": {},
   "outputs": [
    {
     "data": {
      "image/png": "[encoded data removed]",
      "text/plain": [
       "<Figure size 432x288 with 1 Axes>"
      ]
     },
     "metadata": {
      "needs_background": "light"
     },
     "output_type": "display_data"
    }
   ],
   "source": [
    "plot_histogram(comb['Absolute Throttle Position B(%)'], color='green')"
   ]
  },
  {
   "cell_type": "code",
   "execution_count": 43,
   "id": "e6715539-cd54-4ec5-8f82-717c01fc25e8",
   "metadata": {},
   "outputs": [
    {
     "data": {
      "image/png": "[encoded data removed]",
      "text/plain": [
       "<Figure size 432x288 with 1 Axes>"
      ]
     },
     "metadata": {
      "needs_background": "light"
     },
     "output_type": "display_data"
    }
   ],
   "source": [
    "plot_histogram(elet['Throttle [%]'], color='green')"
   ]
  },
  {
   "cell_type": "code",
   "execution_count": 44,
   "id": "0786ead4-2232-4f42-baf3-a694897bbf78",
   "metadata": {},
   "outputs": [
    {
     "data": {
      "image/png": "[encoded data removed]",
      "text/plain": [
       "<Figure size 432x288 with 1 Axes>"
      ]
     },
     "metadata": {
      "needs_background": "light"
     },
     "output_type": "display_data"
    }
   ],
   "source": [
    "plot_histogram(comb['Torque(Nm)'], color='yellow')"
   ]
  },
  {
   "cell_type": "code",
   "execution_count": 45,
   "id": "54935eff-417b-4f4e-b912-7ffc5461ff86",
   "metadata": {},
   "outputs": [
    {
     "data": {
      "image/png": "[encoded data removed]",
      "text/plain": [
       "<Figure size 432x288 with 1 Axes>"
      ]
     },
     "metadata": {
      "needs_background": "light"
     },
     "output_type": "display_data"
    }
   ],
   "source": [
    "plot_histogram(elet['Motor Torque [Nm]'], color='yellow')"
   ]
  }
 ],
 "metadata": {
  "kernelspec": {
   "display_name": "Python 3 (ipykernel)",
   "language": "python",
   "name": "python3"
  },
  "language_info": {
   "codemirror_mode": {
    "name": "ipython",
    "version": 3
   },
   "file_extension": ".py",
   "mimetype": "text/x-python",
   "name": "python",
   "nbconvert_exporter": "python",
   "pygments_lexer": "ipython3",
   "version": "3.10.12"
  }
 },
 "nbformat": 4,
 "nbformat_minor": 5
}
