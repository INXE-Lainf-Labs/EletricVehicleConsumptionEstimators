{
 "cells": [
  {
   "cell_type": "markdown",
   "id": "f020973a-5066-4479-8f77-b6366ce4dd88",
   "metadata": {},
   "source": [
    "# LSTM Multiserie e Multivariada"
   ]
  },
  {
   "cell_type": "markdown",
   "id": "82143721-5b85-4d3d-ab66-37c483db926e",
   "metadata": {
    "jp-MarkdownHeadingCollapsed": true
   },
   "source": [
    "## Dataset"
   ]
  },
  {
   "cell_type": "code",
   "execution_count": 28,
   "id": "1683acda-9f9e-4fdf-a439-2b4e4377adcc",
   "metadata": {},
   "outputs": [],
   "source": [
    "import pandas as pd\n",
    "import numpy as np\n",
    "import matplotlib.pyplot as plt\n",
    "\n",
    "from tensorflow.keras.models import Sequential\n",
    "from tensorflow.keras.layers import LSTM, Dense\n",
    "from tensorflow.keras.optimizers import Adam\n",
    "\n",
    "from sklearn.preprocessing import MinMaxScaler"
   ]
  },
  {
   "cell_type": "code",
   "execution_count": 29,
   "id": "0bba82be-0c40-4798-a9af-c5a1ab0d1286",
   "metadata": {},
   "outputs": [
    {
     "data": {
      "text/html": [
       "<div>\n",
       "<style scoped>\n",
       "    .dataframe tbody tr th:only-of-type {\n",
       "        vertical-align: middle;\n",
       "    }\n",
       "\n",
       "    .dataframe tbody tr th {\n",
       "        vertical-align: top;\n",
       "    }\n",
       "\n",
       "    .dataframe thead th {\n",
       "        text-align: right;\n",
       "    }\n",
       "</style>\n",
       "<table border=\"1\" class=\"dataframe\">\n",
       "  <thead>\n",
       "    <tr style=\"text-align: right;\">\n",
       "      <th></th>\n",
       "      <th>Time [s]</th>\n",
       "      <th>Velocity [km/h]</th>\n",
       "      <th>Elevation [m]</th>\n",
       "      <th>Throttle [%]</th>\n",
       "      <th>Motor Torque [Nm]</th>\n",
       "      <th>Longitudinal Acceleration [m/s^2]</th>\n",
       "      <th>Regenerative Braking Signal</th>\n",
       "      <th>Battery Voltage [V]</th>\n",
       "      <th>Battery Current [A]</th>\n",
       "      <th>Battery Temperature [°C]</th>\n",
       "      <th>...</th>\n",
       "      <th>AirCon Power [kW]</th>\n",
       "      <th>Heater Signal</th>\n",
       "      <th>Heater Voltage [V]</th>\n",
       "      <th>Heater Current [A]</th>\n",
       "      <th>Ambient Temperature [°C]</th>\n",
       "      <th>Coolant Temperature Heatercore [°C]</th>\n",
       "      <th>Requested Coolant Temperature [°C]</th>\n",
       "      <th>Coolant Temperature Inlet [°C]</th>\n",
       "      <th>Heat Exchanger Temperature [°C]</th>\n",
       "      <th>Cabin Temperature Sensor [°C]</th>\n",
       "    </tr>\n",
       "  </thead>\n",
       "  <tbody>\n",
       "    <tr>\n",
       "      <th>0</th>\n",
       "      <td>0.0</td>\n",
       "      <td>0.0</td>\n",
       "      <td>574.0</td>\n",
       "      <td>0.0</td>\n",
       "      <td>0.0</td>\n",
       "      <td>-0.03</td>\n",
       "      <td>0.0</td>\n",
       "      <td>391.4</td>\n",
       "      <td>-2.20</td>\n",
       "      <td>21.0</td>\n",
       "      <td>...</td>\n",
       "      <td>0.4</td>\n",
       "      <td>1</td>\n",
       "      <td>0</td>\n",
       "      <td>0</td>\n",
       "      <td>25.5</td>\n",
       "      <td>0</td>\n",
       "      <td>0</td>\n",
       "      <td>0</td>\n",
       "      <td>30.5</td>\n",
       "      <td>24.5</td>\n",
       "    </tr>\n",
       "    <tr>\n",
       "      <th>1</th>\n",
       "      <td>0.1</td>\n",
       "      <td>0.0</td>\n",
       "      <td>574.0</td>\n",
       "      <td>0.0</td>\n",
       "      <td>0.0</td>\n",
       "      <td>0.00</td>\n",
       "      <td>0.0</td>\n",
       "      <td>391.4</td>\n",
       "      <td>-2.21</td>\n",
       "      <td>21.0</td>\n",
       "      <td>...</td>\n",
       "      <td>0.4</td>\n",
       "      <td>1</td>\n",
       "      <td>0</td>\n",
       "      <td>0</td>\n",
       "      <td>25.5</td>\n",
       "      <td>0</td>\n",
       "      <td>0</td>\n",
       "      <td>0</td>\n",
       "      <td>30.5</td>\n",
       "      <td>24.5</td>\n",
       "    </tr>\n",
       "    <tr>\n",
       "      <th>2</th>\n",
       "      <td>0.2</td>\n",
       "      <td>0.0</td>\n",
       "      <td>574.0</td>\n",
       "      <td>0.0</td>\n",
       "      <td>0.0</td>\n",
       "      <td>-0.01</td>\n",
       "      <td>0.0</td>\n",
       "      <td>391.4</td>\n",
       "      <td>-2.26</td>\n",
       "      <td>21.0</td>\n",
       "      <td>...</td>\n",
       "      <td>0.4</td>\n",
       "      <td>1</td>\n",
       "      <td>0</td>\n",
       "      <td>0</td>\n",
       "      <td>25.5</td>\n",
       "      <td>0</td>\n",
       "      <td>0</td>\n",
       "      <td>0</td>\n",
       "      <td>30.5</td>\n",
       "      <td>24.5</td>\n",
       "    </tr>\n",
       "    <tr>\n",
       "      <th>3</th>\n",
       "      <td>0.3</td>\n",
       "      <td>0.0</td>\n",
       "      <td>574.0</td>\n",
       "      <td>0.0</td>\n",
       "      <td>0.0</td>\n",
       "      <td>-0.03</td>\n",
       "      <td>0.0</td>\n",
       "      <td>391.4</td>\n",
       "      <td>-2.30</td>\n",
       "      <td>21.0</td>\n",
       "      <td>...</td>\n",
       "      <td>0.4</td>\n",
       "      <td>1</td>\n",
       "      <td>0</td>\n",
       "      <td>0</td>\n",
       "      <td>25.5</td>\n",
       "      <td>0</td>\n",
       "      <td>0</td>\n",
       "      <td>0</td>\n",
       "      <td>30.5</td>\n",
       "      <td>24.5</td>\n",
       "    </tr>\n",
       "    <tr>\n",
       "      <th>4</th>\n",
       "      <td>0.4</td>\n",
       "      <td>0.0</td>\n",
       "      <td>574.0</td>\n",
       "      <td>0.0</td>\n",
       "      <td>0.0</td>\n",
       "      <td>-0.03</td>\n",
       "      <td>0.0</td>\n",
       "      <td>391.4</td>\n",
       "      <td>-2.30</td>\n",
       "      <td>21.0</td>\n",
       "      <td>...</td>\n",
       "      <td>0.4</td>\n",
       "      <td>1</td>\n",
       "      <td>0</td>\n",
       "      <td>0</td>\n",
       "      <td>25.5</td>\n",
       "      <td>0</td>\n",
       "      <td>0</td>\n",
       "      <td>0</td>\n",
       "      <td>30.5</td>\n",
       "      <td>24.5</td>\n",
       "    </tr>\n",
       "  </tbody>\n",
       "</table>\n",
       "<p>5 rows × 28 columns</p>\n",
       "</div>"
      ],
      "text/plain": [
       "   Time [s]  Velocity [km/h]  Elevation [m]  Throttle [%]  Motor Torque [Nm]  \\\n",
       "0       0.0              0.0          574.0           0.0                0.0   \n",
       "1       0.1              0.0          574.0           0.0                0.0   \n",
       "2       0.2              0.0          574.0           0.0                0.0   \n",
       "3       0.3              0.0          574.0           0.0                0.0   \n",
       "4       0.4              0.0          574.0           0.0                0.0   \n",
       "\n",
       "   Longitudinal Acceleration [m/s^2]  Regenerative Braking Signal   \\\n",
       "0                              -0.03                           0.0   \n",
       "1                               0.00                           0.0   \n",
       "2                              -0.01                           0.0   \n",
       "3                              -0.03                           0.0   \n",
       "4                              -0.03                           0.0   \n",
       "\n",
       "   Battery Voltage [V]  Battery Current [A]  Battery Temperature [°C]  ...  \\\n",
       "0                391.4                -2.20                      21.0  ...   \n",
       "1                391.4                -2.21                      21.0  ...   \n",
       "2                391.4                -2.26                      21.0  ...   \n",
       "3                391.4                -2.30                      21.0  ...   \n",
       "4                391.4                -2.30                      21.0  ...   \n",
       "\n",
       "   AirCon Power [kW]  Heater Signal  Heater Voltage [V]  Heater Current [A]  \\\n",
       "0                0.4              1                   0                   0   \n",
       "1                0.4              1                   0                   0   \n",
       "2                0.4              1                   0                   0   \n",
       "3                0.4              1                   0                   0   \n",
       "4                0.4              1                   0                   0   \n",
       "\n",
       "   Ambient Temperature [°C]  Coolant Temperature Heatercore [°C]  \\\n",
       "0                      25.5                                    0   \n",
       "1                      25.5                                    0   \n",
       "2                      25.5                                    0   \n",
       "3                      25.5                                    0   \n",
       "4                      25.5                                    0   \n",
       "\n",
       "   Requested Coolant Temperature [°C]  Coolant Temperature Inlet [°C]  \\\n",
       "0                                   0                               0   \n",
       "1                                   0                               0   \n",
       "2                                   0                               0   \n",
       "3                                   0                               0   \n",
       "4                                   0                               0   \n",
       "\n",
       "   Heat Exchanger Temperature [°C]  Cabin Temperature Sensor [°C]  \n",
       "0                             30.5                           24.5  \n",
       "1                             30.5                           24.5  \n",
       "2                             30.5                           24.5  \n",
       "3                             30.5                           24.5  \n",
       "4                             30.5                           24.5  \n",
       "\n",
       "[5 rows x 28 columns]"
      ]
     },
     "execution_count": 29,
     "metadata": {},
     "output_type": "execute_result"
    }
   ],
   "source": [
    "trip = pd.read_csv(\"./data/ieee/TripA01.csv\", sep=\";\", encoding='unicode_escape')\n",
    "trip.head()"
   ]
  },
  {
   "cell_type": "code",
   "execution_count": 30,
   "id": "230204c6-eb64-4255-8432-04cfa88973c6",
   "metadata": {},
   "outputs": [
    {
     "data": {
      "text/plain": [
       "Index(['Time [s]', 'Velocity [km/h]', 'Elevation [m]', 'Throttle [%]',\n",
       "       'Motor Torque [Nm]', 'Longitudinal Acceleration [m/s^2]',\n",
       "       'Regenerative Braking Signal ', 'Battery Voltage [V]',\n",
       "       'Battery Current [A]', 'Battery Temperature [°C]',\n",
       "       'max. Battery Temperature [°C]', 'SoC [%]', 'displayed SoC [%]',\n",
       "       'min. SoC [%]', 'max. SoC [%)', 'Heating Power CAN [kW]',\n",
       "       'Heating Power LIN [W]', 'Requested Heating Power [W]',\n",
       "       'AirCon Power [kW]', 'Heater Signal', 'Heater Voltage [V]',\n",
       "       'Heater Current [A]', 'Ambient Temperature [°C]',\n",
       "       'Coolant Temperature Heatercore [°C]',\n",
       "       'Requested Coolant Temperature [°C]', 'Coolant Temperature Inlet [°C]',\n",
       "       'Heat Exchanger Temperature [°C]', 'Cabin Temperature Sensor [°C]'],\n",
       "      dtype='object')"
      ]
     },
     "execution_count": 30,
     "metadata": {},
     "output_type": "execute_result"
    }
   ],
   "source": [
    "trip.columns"
   ]
  },
  {
   "cell_type": "code",
   "execution_count": 31,
   "id": "e6cdeb3c-4c32-4830-8bd1-2f6dff2f539c",
   "metadata": {},
   "outputs": [
    {
     "data": {
      "text/html": [
       "<div>\n",
       "<style scoped>\n",
       "    .dataframe tbody tr th:only-of-type {\n",
       "        vertical-align: middle;\n",
       "    }\n",
       "\n",
       "    .dataframe tbody tr th {\n",
       "        vertical-align: top;\n",
       "    }\n",
       "\n",
       "    .dataframe thead th {\n",
       "        text-align: right;\n",
       "    }\n",
       "</style>\n",
       "<table border=\"1\" class=\"dataframe\">\n",
       "  <thead>\n",
       "    <tr style=\"text-align: right;\">\n",
       "      <th></th>\n",
       "      <th>Time [s]</th>\n",
       "      <th>Velocity [km/h]</th>\n",
       "      <th>Elevation [m]</th>\n",
       "      <th>Throttle [%]</th>\n",
       "      <th>Motor Torque [Nm]</th>\n",
       "      <th>Longitudinal Acceleration [m/s^2]</th>\n",
       "      <th>Regenerative Braking Signal</th>\n",
       "      <th>Battery Voltage [V]</th>\n",
       "      <th>Battery Current [A]</th>\n",
       "      <th>Battery Temperature [°C]</th>\n",
       "      <th>...</th>\n",
       "      <th>AirCon Power [kW]</th>\n",
       "      <th>Heater Signal</th>\n",
       "      <th>Heater Voltage [V]</th>\n",
       "      <th>Heater Current [A]</th>\n",
       "      <th>Ambient Temperature [°C]</th>\n",
       "      <th>Coolant Temperature Heatercore [°C]</th>\n",
       "      <th>Requested Coolant Temperature [°C]</th>\n",
       "      <th>Coolant Temperature Inlet [°C]</th>\n",
       "      <th>Heat Exchanger Temperature [°C]</th>\n",
       "      <th>Cabin Temperature Sensor [°C]</th>\n",
       "    </tr>\n",
       "  </thead>\n",
       "  <tbody>\n",
       "    <tr>\n",
       "      <th>count</th>\n",
       "      <td>10090.000000</td>\n",
       "      <td>10090.000000</td>\n",
       "      <td>10090.000000</td>\n",
       "      <td>10090.000000</td>\n",
       "      <td>10090.000000</td>\n",
       "      <td>10090.000000</td>\n",
       "      <td>10090.000000</td>\n",
       "      <td>10090.000000</td>\n",
       "      <td>10090.000000</td>\n",
       "      <td>10090.000000</td>\n",
       "      <td>...</td>\n",
       "      <td>10090.000000</td>\n",
       "      <td>10090.0</td>\n",
       "      <td>10090.0</td>\n",
       "      <td>10090.0</td>\n",
       "      <td>10090.000000</td>\n",
       "      <td>10090.0</td>\n",
       "      <td>10090.0</td>\n",
       "      <td>10090.0</td>\n",
       "      <td>10090.000000</td>\n",
       "      <td>10090.000000</td>\n",
       "    </tr>\n",
       "    <tr>\n",
       "      <th>mean</th>\n",
       "      <td>504.450000</td>\n",
       "      <td>26.502170</td>\n",
       "      <td>566.791625</td>\n",
       "      <td>26.470424</td>\n",
       "      <td>8.106545</td>\n",
       "      <td>0.014246</td>\n",
       "      <td>0.118162</td>\n",
       "      <td>388.483996</td>\n",
       "      <td>-11.953476</td>\n",
       "      <td>21.940141</td>\n",
       "      <td>...</td>\n",
       "      <td>1.610408</td>\n",
       "      <td>1.0</td>\n",
       "      <td>0.0</td>\n",
       "      <td>0.0</td>\n",
       "      <td>30.769972</td>\n",
       "      <td>0.0</td>\n",
       "      <td>0.0</td>\n",
       "      <td>0.0</td>\n",
       "      <td>8.589470</td>\n",
       "      <td>23.907057</td>\n",
       "    </tr>\n",
       "    <tr>\n",
       "      <th>std</th>\n",
       "      <td>291.287644</td>\n",
       "      <td>15.497032</td>\n",
       "      <td>5.577563</td>\n",
       "      <td>16.370510</td>\n",
       "      <td>42.123984</td>\n",
       "      <td>0.741669</td>\n",
       "      <td>0.322172</td>\n",
       "      <td>2.158318</td>\n",
       "      <td>22.799614</td>\n",
       "      <td>0.237147</td>\n",
       "      <td>...</td>\n",
       "      <td>0.340490</td>\n",
       "      <td>0.0</td>\n",
       "      <td>0.0</td>\n",
       "      <td>0.0</td>\n",
       "      <td>1.619032</td>\n",
       "      <td>0.0</td>\n",
       "      <td>0.0</td>\n",
       "      <td>0.0</td>\n",
       "      <td>7.124407</td>\n",
       "      <td>1.249755</td>\n",
       "    </tr>\n",
       "    <tr>\n",
       "      <th>min</th>\n",
       "      <td>0.000000</td>\n",
       "      <td>0.000000</td>\n",
       "      <td>558.000000</td>\n",
       "      <td>0.000000</td>\n",
       "      <td>-87.050000</td>\n",
       "      <td>-2.290000</td>\n",
       "      <td>0.000000</td>\n",
       "      <td>380.420000</td>\n",
       "      <td>-100.700000</td>\n",
       "      <td>21.000000</td>\n",
       "      <td>...</td>\n",
       "      <td>0.400000</td>\n",
       "      <td>1.0</td>\n",
       "      <td>0.0</td>\n",
       "      <td>0.0</td>\n",
       "      <td>25.500000</td>\n",
       "      <td>0.0</td>\n",
       "      <td>0.0</td>\n",
       "      <td>0.0</td>\n",
       "      <td>5.000000</td>\n",
       "      <td>22.170000</td>\n",
       "    </tr>\n",
       "    <tr>\n",
       "      <th>25%</th>\n",
       "      <td>252.225000</td>\n",
       "      <td>15.362500</td>\n",
       "      <td>562.090000</td>\n",
       "      <td>13.550000</td>\n",
       "      <td>-9.157500</td>\n",
       "      <td>-0.330000</td>\n",
       "      <td>0.000000</td>\n",
       "      <td>387.190000</td>\n",
       "      <td>-22.197500</td>\n",
       "      <td>22.000000</td>\n",
       "      <td>...</td>\n",
       "      <td>1.580000</td>\n",
       "      <td>1.0</td>\n",
       "      <td>0.0</td>\n",
       "      <td>0.0</td>\n",
       "      <td>30.500000</td>\n",
       "      <td>0.0</td>\n",
       "      <td>0.0</td>\n",
       "      <td>0.0</td>\n",
       "      <td>5.000000</td>\n",
       "      <td>22.670000</td>\n",
       "    </tr>\n",
       "    <tr>\n",
       "      <th>50%</th>\n",
       "      <td>504.450000</td>\n",
       "      <td>29.550000</td>\n",
       "      <td>565.000000</td>\n",
       "      <td>31.100000</td>\n",
       "      <td>4.630000</td>\n",
       "      <td>0.020000</td>\n",
       "      <td>0.000000</td>\n",
       "      <td>388.540000</td>\n",
       "      <td>-8.570000</td>\n",
       "      <td>22.000000</td>\n",
       "      <td>...</td>\n",
       "      <td>1.670000</td>\n",
       "      <td>1.0</td>\n",
       "      <td>0.0</td>\n",
       "      <td>0.0</td>\n",
       "      <td>31.000000</td>\n",
       "      <td>0.0</td>\n",
       "      <td>0.0</td>\n",
       "      <td>0.0</td>\n",
       "      <td>5.000000</td>\n",
       "      <td>24.000000</td>\n",
       "    </tr>\n",
       "    <tr>\n",
       "      <th>75%</th>\n",
       "      <td>756.675000</td>\n",
       "      <td>38.720000</td>\n",
       "      <td>574.000000</td>\n",
       "      <td>40.357500</td>\n",
       "      <td>23.540000</td>\n",
       "      <td>0.350000</td>\n",
       "      <td>0.000000</td>\n",
       "      <td>390.000000</td>\n",
       "      <td>-1.990000</td>\n",
       "      <td>22.000000</td>\n",
       "      <td>...</td>\n",
       "      <td>1.760000</td>\n",
       "      <td>1.0</td>\n",
       "      <td>0.0</td>\n",
       "      <td>0.0</td>\n",
       "      <td>32.000000</td>\n",
       "      <td>0.0</td>\n",
       "      <td>0.0</td>\n",
       "      <td>0.0</td>\n",
       "      <td>7.000000</td>\n",
       "      <td>25.010000</td>\n",
       "    </tr>\n",
       "    <tr>\n",
       "      <th>max</th>\n",
       "      <td>1008.900000</td>\n",
       "      <td>53.300000</td>\n",
       "      <td>574.000000</td>\n",
       "      <td>55.900000</td>\n",
       "      <td>174.420000</td>\n",
       "      <td>2.790000</td>\n",
       "      <td>1.000000</td>\n",
       "      <td>394.470000</td>\n",
       "      <td>66.220000</td>\n",
       "      <td>22.000000</td>\n",
       "      <td>...</td>\n",
       "      <td>2.520000</td>\n",
       "      <td>1.0</td>\n",
       "      <td>0.0</td>\n",
       "      <td>0.0</td>\n",
       "      <td>33.500000</td>\n",
       "      <td>0.0</td>\n",
       "      <td>0.0</td>\n",
       "      <td>0.0</td>\n",
       "      <td>30.500000</td>\n",
       "      <td>25.840000</td>\n",
       "    </tr>\n",
       "  </tbody>\n",
       "</table>\n",
       "<p>8 rows × 28 columns</p>\n",
       "</div>"
      ],
      "text/plain": [
       "           Time [s]  Velocity [km/h]  Elevation [m]  Throttle [%]  \\\n",
       "count  10090.000000     10090.000000   10090.000000  10090.000000   \n",
       "mean     504.450000        26.502170     566.791625     26.470424   \n",
       "std      291.287644        15.497032       5.577563     16.370510   \n",
       "min        0.000000         0.000000     558.000000      0.000000   \n",
       "25%      252.225000        15.362500     562.090000     13.550000   \n",
       "50%      504.450000        29.550000     565.000000     31.100000   \n",
       "75%      756.675000        38.720000     574.000000     40.357500   \n",
       "max     1008.900000        53.300000     574.000000     55.900000   \n",
       "\n",
       "       Motor Torque [Nm]  Longitudinal Acceleration [m/s^2]  \\\n",
       "count       10090.000000                       10090.000000   \n",
       "mean            8.106545                           0.014246   \n",
       "std            42.123984                           0.741669   \n",
       "min           -87.050000                          -2.290000   \n",
       "25%            -9.157500                          -0.330000   \n",
       "50%             4.630000                           0.020000   \n",
       "75%            23.540000                           0.350000   \n",
       "max           174.420000                           2.790000   \n",
       "\n",
       "       Regenerative Braking Signal   Battery Voltage [V]  Battery Current [A]  \\\n",
       "count                  10090.000000         10090.000000         10090.000000   \n",
       "mean                       0.118162           388.483996           -11.953476   \n",
       "std                        0.322172             2.158318            22.799614   \n",
       "min                        0.000000           380.420000          -100.700000   \n",
       "25%                        0.000000           387.190000           -22.197500   \n",
       "50%                        0.000000           388.540000            -8.570000   \n",
       "75%                        0.000000           390.000000            -1.990000   \n",
       "max                        1.000000           394.470000            66.220000   \n",
       "\n",
       "       Battery Temperature [°C]  ...  AirCon Power [kW]  Heater Signal  \\\n",
       "count              10090.000000  ...       10090.000000        10090.0   \n",
       "mean                  21.940141  ...           1.610408            1.0   \n",
       "std                    0.237147  ...           0.340490            0.0   \n",
       "min                   21.000000  ...           0.400000            1.0   \n",
       "25%                   22.000000  ...           1.580000            1.0   \n",
       "50%                   22.000000  ...           1.670000            1.0   \n",
       "75%                   22.000000  ...           1.760000            1.0   \n",
       "max                   22.000000  ...           2.520000            1.0   \n",
       "\n",
       "       Heater Voltage [V]  Heater Current [A]  Ambient Temperature [°C]  \\\n",
       "count             10090.0             10090.0              10090.000000   \n",
       "mean                  0.0                 0.0                 30.769972   \n",
       "std                   0.0                 0.0                  1.619032   \n",
       "min                   0.0                 0.0                 25.500000   \n",
       "25%                   0.0                 0.0                 30.500000   \n",
       "50%                   0.0                 0.0                 31.000000   \n",
       "75%                   0.0                 0.0                 32.000000   \n",
       "max                   0.0                 0.0                 33.500000   \n",
       "\n",
       "       Coolant Temperature Heatercore [°C]  \\\n",
       "count                              10090.0   \n",
       "mean                                   0.0   \n",
       "std                                    0.0   \n",
       "min                                    0.0   \n",
       "25%                                    0.0   \n",
       "50%                                    0.0   \n",
       "75%                                    0.0   \n",
       "max                                    0.0   \n",
       "\n",
       "       Requested Coolant Temperature [°C]  Coolant Temperature Inlet [°C]  \\\n",
       "count                             10090.0                         10090.0   \n",
       "mean                                  0.0                             0.0   \n",
       "std                                   0.0                             0.0   \n",
       "min                                   0.0                             0.0   \n",
       "25%                                   0.0                             0.0   \n",
       "50%                                   0.0                             0.0   \n",
       "75%                                   0.0                             0.0   \n",
       "max                                   0.0                             0.0   \n",
       "\n",
       "       Heat Exchanger Temperature [°C]  Cabin Temperature Sensor [°C]  \n",
       "count                     10090.000000                   10090.000000  \n",
       "mean                          8.589470                      23.907057  \n",
       "std                           7.124407                       1.249755  \n",
       "min                           5.000000                      22.170000  \n",
       "25%                           5.000000                      22.670000  \n",
       "50%                           5.000000                      24.000000  \n",
       "75%                           7.000000                      25.010000  \n",
       "max                          30.500000                      25.840000  \n",
       "\n",
       "[8 rows x 28 columns]"
      ]
     },
     "execution_count": 31,
     "metadata": {},
     "output_type": "execute_result"
    }
   ],
   "source": [
    "trip.describe()"
   ]
  },
  {
   "cell_type": "code",
   "execution_count": 32,
   "id": "f58a1c5b-fd7f-464f-9149-98a42dc15f6f",
   "metadata": {},
   "outputs": [
    {
     "name": "stdout",
     "output_type": "stream",
     "text": [
      "<class 'pandas.core.frame.DataFrame'>\n",
      "RangeIndex: 10090 entries, 0 to 10089\n",
      "Data columns (total 28 columns):\n",
      " #   Column                               Non-Null Count  Dtype  \n",
      "---  ------                               --------------  -----  \n",
      " 0   Time [s]                             10090 non-null  float64\n",
      " 1   Velocity [km/h]                      10090 non-null  float64\n",
      " 2   Elevation [m]                        10090 non-null  float64\n",
      " 3   Throttle [%]                         10090 non-null  float64\n",
      " 4   Motor Torque [Nm]                    10090 non-null  float64\n",
      " 5   Longitudinal Acceleration [m/s^2]    10090 non-null  float64\n",
      " 6   Regenerative Braking Signal          10090 non-null  float64\n",
      " 7   Battery Voltage [V]                  10090 non-null  float64\n",
      " 8   Battery Current [A]                  10090 non-null  float64\n",
      " 9   Battery Temperature [°C]             10090 non-null  float64\n",
      " 10  max. Battery Temperature [°C]        10090 non-null  float64\n",
      " 11  SoC [%]                              10090 non-null  float64\n",
      " 12  displayed SoC [%]                    10090 non-null  float64\n",
      " 13  min. SoC [%]                         10090 non-null  int64  \n",
      " 14  max. SoC [%)                         10090 non-null  int64  \n",
      " 15  Heating Power CAN [kW]               10090 non-null  float64\n",
      " 16  Heating Power LIN [W]                10090 non-null  int64  \n",
      " 17  Requested Heating Power [W]          10090 non-null  int64  \n",
      " 18  AirCon Power [kW]                    10090 non-null  float64\n",
      " 19  Heater Signal                        10090 non-null  int64  \n",
      " 20  Heater Voltage [V]                   10090 non-null  int64  \n",
      " 21  Heater Current [A]                   10090 non-null  int64  \n",
      " 22  Ambient Temperature [°C]             10090 non-null  float64\n",
      " 23  Coolant Temperature Heatercore [°C]  10090 non-null  int64  \n",
      " 24  Requested Coolant Temperature [°C]   10090 non-null  int64  \n",
      " 25  Coolant Temperature Inlet [°C]       10090 non-null  int64  \n",
      " 26  Heat Exchanger Temperature [°C]      10090 non-null  float64\n",
      " 27  Cabin Temperature Sensor [°C]        10090 non-null  float64\n",
      "dtypes: float64(18), int64(10)\n",
      "memory usage: 2.2 MB\n"
     ]
    }
   ],
   "source": [
    "trip.info()"
   ]
  },
  {
   "cell_type": "code",
   "execution_count": 33,
   "id": "77d5f1b0-e47e-4ee5-8451-12dbf3954049",
   "metadata": {},
   "outputs": [
    {
     "data": {
      "text/html": [
       "<div>\n",
       "<style scoped>\n",
       "    .dataframe tbody tr th:only-of-type {\n",
       "        vertical-align: middle;\n",
       "    }\n",
       "\n",
       "    .dataframe tbody tr th {\n",
       "        vertical-align: top;\n",
       "    }\n",
       "\n",
       "    .dataframe thead th {\n",
       "        text-align: right;\n",
       "    }\n",
       "</style>\n",
       "<table border=\"1\" class=\"dataframe\">\n",
       "  <thead>\n",
       "    <tr style=\"text-align: right;\">\n",
       "      <th></th>\n",
       "      <th>Time [s]</th>\n",
       "      <th>Velocity [km/h]</th>\n",
       "      <th>Elevation [m]</th>\n",
       "      <th>Throttle [%]</th>\n",
       "      <th>Motor Torque [Nm]</th>\n",
       "      <th>Longitudinal Acceleration [m/s^2]</th>\n",
       "      <th>Regenerative Braking Signal</th>\n",
       "      <th>Battery Voltage [V]</th>\n",
       "      <th>Battery Current [A]</th>\n",
       "      <th>Battery Temperature [°C]</th>\n",
       "      <th>...</th>\n",
       "      <th>AirCon Power [kW]</th>\n",
       "      <th>Heater Signal</th>\n",
       "      <th>Heater Voltage [V]</th>\n",
       "      <th>Heater Current [A]</th>\n",
       "      <th>Ambient Temperature [°C]</th>\n",
       "      <th>Coolant Temperature Heatercore [°C]</th>\n",
       "      <th>Requested Coolant Temperature [°C]</th>\n",
       "      <th>Coolant Temperature Inlet [°C]</th>\n",
       "      <th>Heat Exchanger Temperature [°C]</th>\n",
       "      <th>Cabin Temperature Sensor [°C]</th>\n",
       "    </tr>\n",
       "  </thead>\n",
       "  <tbody>\n",
       "    <tr>\n",
       "      <th>0</th>\n",
       "      <td>0.0</td>\n",
       "      <td>0.0</td>\n",
       "      <td>574.0</td>\n",
       "      <td>0.0</td>\n",
       "      <td>0.0</td>\n",
       "      <td>-0.03</td>\n",
       "      <td>0.0</td>\n",
       "      <td>391.4</td>\n",
       "      <td>-2.20</td>\n",
       "      <td>21.0</td>\n",
       "      <td>...</td>\n",
       "      <td>0.4</td>\n",
       "      <td>1</td>\n",
       "      <td>0</td>\n",
       "      <td>0</td>\n",
       "      <td>25.5</td>\n",
       "      <td>0</td>\n",
       "      <td>0</td>\n",
       "      <td>0</td>\n",
       "      <td>30.5</td>\n",
       "      <td>24.5</td>\n",
       "    </tr>\n",
       "    <tr>\n",
       "      <th>1</th>\n",
       "      <td>0.1</td>\n",
       "      <td>0.0</td>\n",
       "      <td>574.0</td>\n",
       "      <td>0.0</td>\n",
       "      <td>0.0</td>\n",
       "      <td>0.00</td>\n",
       "      <td>0.0</td>\n",
       "      <td>391.4</td>\n",
       "      <td>-2.21</td>\n",
       "      <td>21.0</td>\n",
       "      <td>...</td>\n",
       "      <td>0.4</td>\n",
       "      <td>1</td>\n",
       "      <td>0</td>\n",
       "      <td>0</td>\n",
       "      <td>25.5</td>\n",
       "      <td>0</td>\n",
       "      <td>0</td>\n",
       "      <td>0</td>\n",
       "      <td>30.5</td>\n",
       "      <td>24.5</td>\n",
       "    </tr>\n",
       "    <tr>\n",
       "      <th>2</th>\n",
       "      <td>0.2</td>\n",
       "      <td>0.0</td>\n",
       "      <td>574.0</td>\n",
       "      <td>0.0</td>\n",
       "      <td>0.0</td>\n",
       "      <td>-0.01</td>\n",
       "      <td>0.0</td>\n",
       "      <td>391.4</td>\n",
       "      <td>-2.26</td>\n",
       "      <td>21.0</td>\n",
       "      <td>...</td>\n",
       "      <td>0.4</td>\n",
       "      <td>1</td>\n",
       "      <td>0</td>\n",
       "      <td>0</td>\n",
       "      <td>25.5</td>\n",
       "      <td>0</td>\n",
       "      <td>0</td>\n",
       "      <td>0</td>\n",
       "      <td>30.5</td>\n",
       "      <td>24.5</td>\n",
       "    </tr>\n",
       "    <tr>\n",
       "      <th>3</th>\n",
       "      <td>0.3</td>\n",
       "      <td>0.0</td>\n",
       "      <td>574.0</td>\n",
       "      <td>0.0</td>\n",
       "      <td>0.0</td>\n",
       "      <td>-0.03</td>\n",
       "      <td>0.0</td>\n",
       "      <td>391.4</td>\n",
       "      <td>-2.30</td>\n",
       "      <td>21.0</td>\n",
       "      <td>...</td>\n",
       "      <td>0.4</td>\n",
       "      <td>1</td>\n",
       "      <td>0</td>\n",
       "      <td>0</td>\n",
       "      <td>25.5</td>\n",
       "      <td>0</td>\n",
       "      <td>0</td>\n",
       "      <td>0</td>\n",
       "      <td>30.5</td>\n",
       "      <td>24.5</td>\n",
       "    </tr>\n",
       "    <tr>\n",
       "      <th>4</th>\n",
       "      <td>0.4</td>\n",
       "      <td>0.0</td>\n",
       "      <td>574.0</td>\n",
       "      <td>0.0</td>\n",
       "      <td>0.0</td>\n",
       "      <td>-0.03</td>\n",
       "      <td>0.0</td>\n",
       "      <td>391.4</td>\n",
       "      <td>-2.30</td>\n",
       "      <td>21.0</td>\n",
       "      <td>...</td>\n",
       "      <td>0.4</td>\n",
       "      <td>1</td>\n",
       "      <td>0</td>\n",
       "      <td>0</td>\n",
       "      <td>25.5</td>\n",
       "      <td>0</td>\n",
       "      <td>0</td>\n",
       "      <td>0</td>\n",
       "      <td>30.5</td>\n",
       "      <td>24.5</td>\n",
       "    </tr>\n",
       "  </tbody>\n",
       "</table>\n",
       "<p>5 rows × 28 columns</p>\n",
       "</div>"
      ],
      "text/plain": [
       "   Time [s]  Velocity [km/h]  Elevation [m]  Throttle [%]  Motor Torque [Nm]  \\\n",
       "0       0.0              0.0          574.0           0.0                0.0   \n",
       "1       0.1              0.0          574.0           0.0                0.0   \n",
       "2       0.2              0.0          574.0           0.0                0.0   \n",
       "3       0.3              0.0          574.0           0.0                0.0   \n",
       "4       0.4              0.0          574.0           0.0                0.0   \n",
       "\n",
       "   Longitudinal Acceleration [m/s^2]  Regenerative Braking Signal   \\\n",
       "0                              -0.03                           0.0   \n",
       "1                               0.00                           0.0   \n",
       "2                              -0.01                           0.0   \n",
       "3                              -0.03                           0.0   \n",
       "4                              -0.03                           0.0   \n",
       "\n",
       "   Battery Voltage [V]  Battery Current [A]  Battery Temperature [°C]  ...  \\\n",
       "0                391.4                -2.20                      21.0  ...   \n",
       "1                391.4                -2.21                      21.0  ...   \n",
       "2                391.4                -2.26                      21.0  ...   \n",
       "3                391.4                -2.30                      21.0  ...   \n",
       "4                391.4                -2.30                      21.0  ...   \n",
       "\n",
       "   AirCon Power [kW]  Heater Signal  Heater Voltage [V]  Heater Current [A]  \\\n",
       "0                0.4              1                   0                   0   \n",
       "1                0.4              1                   0                   0   \n",
       "2                0.4              1                   0                   0   \n",
       "3                0.4              1                   0                   0   \n",
       "4                0.4              1                   0                   0   \n",
       "\n",
       "   Ambient Temperature [°C]  Coolant Temperature Heatercore [°C]  \\\n",
       "0                      25.5                                    0   \n",
       "1                      25.5                                    0   \n",
       "2                      25.5                                    0   \n",
       "3                      25.5                                    0   \n",
       "4                      25.5                                    0   \n",
       "\n",
       "   Requested Coolant Temperature [°C]  Coolant Temperature Inlet [°C]  \\\n",
       "0                                   0                               0   \n",
       "1                                   0                               0   \n",
       "2                                   0                               0   \n",
       "3                                   0                               0   \n",
       "4                                   0                               0   \n",
       "\n",
       "   Heat Exchanger Temperature [°C]  Cabin Temperature Sensor [°C]  \n",
       "0                             30.5                           24.5  \n",
       "1                             30.5                           24.5  \n",
       "2                             30.5                           24.5  \n",
       "3                             30.5                           24.5  \n",
       "4                             30.5                           24.5  \n",
       "\n",
       "[5 rows x 28 columns]"
      ]
     },
     "execution_count": 33,
     "metadata": {},
     "output_type": "execute_result"
    }
   ],
   "source": [
    "trip = trip.sort_values(\"Time [s]\")\n",
    "trip.head()"
   ]
  },
  {
   "cell_type": "markdown",
   "id": "567a1047-9fde-46f9-947a-e75643409720",
   "metadata": {
    "jp-MarkdownHeadingCollapsed": true
   },
   "source": [
    "## Preprocessamento"
   ]
  },
  {
   "cell_type": "code",
   "execution_count": 34,
   "id": "963ee018-516f-4dc2-b98d-f2086bb120ea",
   "metadata": {},
   "outputs": [],
   "source": [
    "X = trip.drop(columns=['Time [s]', 'Motor Torque [Nm]']).values\n",
    "y = trip['Motor Torque [Nm]'].values"
   ]
  },
  {
   "cell_type": "code",
   "execution_count": 35,
   "id": "3d2d80e4-a180-4478-8a84-38c26767ed2d",
   "metadata": {},
   "outputs": [],
   "source": [
    "scaler_X = MinMaxScaler()\n",
    "X_scaled = scaler_X.fit_transform(X)"
   ]
  },
  {
   "cell_type": "markdown",
   "id": "bd7172f6-3bd1-4f3c-a517-1f99702c307c",
   "metadata": {
    "jp-MarkdownHeadingCollapsed": true
   },
   "source": [
    "## Janelamento e Treinamento do Modelo"
   ]
  },
  {
   "cell_type": "code",
   "execution_count": 37,
   "id": "f8e09498-07ee-4efb-8309-cb32b9715fe5",
   "metadata": {},
   "outputs": [],
   "source": [
    "def LSTM_model(data, labels, window_size=10, train_size=0.8, epochs=10):\n",
    "    # Janelando os dados\n",
    "    X_seq, y_seq = [], []\n",
    "    \n",
    "    for i in range(window_size, len(data)):\n",
    "        X_seq.append(data[i-window_size:i, :])\n",
    "        y_seq.append(labels[i])\n",
    "        \n",
    "    X_seq, y_seq = np.array(X_seq), np.array(y_seq)\n",
    "\n",
    "    \n",
    "    # Divisão de treino e teste com 80% para treino e 20% para teste\n",
    "    train_size = int(len(X_seq) * train_size)\n",
    "    X_train, X_test = X_seq[:train_size], X_seq[train_size:]\n",
    "    y_train, y_test = y_seq[:train_size], y_seq[train_size:]\n",
    "\n",
    "\n",
    "    # Criando e treinando o modelo\n",
    "    model = Sequential(\n",
    "        [\n",
    "            LSTM(32, activation='tanh', input_shape=(X_train.shape[1], X_train.shape[2])),\n",
    "            Dense(32, activation='relu'), \n",
    "            Dense(1) \n",
    "        ]\n",
    "    )\n",
    "\n",
    "    model.compile(optimizer='adam', loss='mse', metrics=['mae'])\n",
    "\n",
    "    history = model.fit(X_train, y_train, validation_data=(X_test, y_test), epochs=epochs, batch_size=16)\n",
    "\n",
    "\n",
    "    # Imprimindo a avaliação\n",
    "    plt.figure(figsize=(12, 5))\n",
    "    plt.subplot(1, 2, 1)\n",
    "    plt.plot(history.history['loss'], label='Train Loss')\n",
    "    plt.plot(history.history['val_loss'], label='Validation Loss')\n",
    "    plt.xlabel('Épocas')\n",
    "    plt.ylabel('Loss (MSE)')\n",
    "    plt.legend()\n",
    "    plt.grid()\n",
    "\n",
    "    loss, mae = model.evaluate(X_test, y_test)\n",
    "    print(f\"MAE: {mae:.8f}, Loss: {loss:.8f}\")\n",
    "\n",
    "    return model"
   ]
  },
  {
   "cell_type": "code",
   "execution_count": 38,
   "id": "c3e596e4-934e-4e46-b881-bdb3c506dbed",
   "metadata": {},
   "outputs": [
    {
     "name": "stdout",
     "output_type": "stream",
     "text": [
      "Epoch 1/20\n"
     ]
    },
    {
     "name": "stderr",
     "output_type": "stream",
     "text": [
      "/home/andre/.local/lib/python3.10/site-packages/keras/src/layers/rnn/rnn.py:204: UserWarning: Do not pass an `input_shape`/`input_dim` argument to a layer. When using Sequential models, prefer using an `Input(shape)` object as the first layer in the model instead.\n",
      "  super().__init__(**kwargs)\n"
     ]
    },
    {
     "name": "stdout",
     "output_type": "stream",
     "text": [
      "\u001b[1m504/504\u001b[0m \u001b[32m━━━━━━━━━━━━━━━━━━━━\u001b[0m\u001b[37m\u001b[0m \u001b[1m1s\u001b[0m 1ms/step - loss: 1272.9980 - mae: 23.7016 - val_loss: 435.3894 - val_mae: 15.6325\n",
      "Epoch 2/20\n",
      "\u001b[1m504/504\u001b[0m \u001b[32m━━━━━━━━━━━━━━━━━━━━\u001b[0m\u001b[37m\u001b[0m \u001b[1m0s\u001b[0m 961us/step - loss: 142.4910 - mae: 8.1901 - val_loss: 181.7064 - val_mae: 11.7323\n",
      "Epoch 3/20\n",
      "\u001b[1m504/504\u001b[0m \u001b[32m━━━━━━━━━━━━━━━━━━━━\u001b[0m\u001b[37m\u001b[0m \u001b[1m0s\u001b[0m 948us/step - loss: 58.5152 - mae: 5.2959 - val_loss: 250.6034 - val_mae: 13.1038\n",
      "Epoch 4/20\n",
      "\u001b[1m504/504\u001b[0m \u001b[32m━━━━━━━━━━━━━━━━━━━━\u001b[0m\u001b[37m\u001b[0m \u001b[1m0s\u001b[0m 952us/step - loss: 42.5409 - mae: 4.5406 - val_loss: 96.5101 - val_mae: 7.9157\n",
      "Epoch 5/20\n",
      "\u001b[1m504/504\u001b[0m \u001b[32m━━━━━━━━━━━━━━━━━━━━\u001b[0m\u001b[37m\u001b[0m \u001b[1m0s\u001b[0m 966us/step - loss: 34.0604 - mae: 4.0633 - val_loss: 104.4665 - val_mae: 8.0128\n",
      "Epoch 6/20\n",
      "\u001b[1m504/504\u001b[0m \u001b[32m━━━━━━━━━━━━━━━━━━━━\u001b[0m\u001b[37m\u001b[0m \u001b[1m0s\u001b[0m 955us/step - loss: 27.6622 - mae: 3.5745 - val_loss: 105.7803 - val_mae: 8.5106\n",
      "Epoch 7/20\n",
      "\u001b[1m504/504\u001b[0m \u001b[32m━━━━━━━━━━━━━━━━━━━━\u001b[0m\u001b[37m\u001b[0m \u001b[1m0s\u001b[0m 945us/step - loss: 26.0682 - mae: 3.5354 - val_loss: 72.0297 - val_mae: 6.9678\n",
      "Epoch 8/20\n",
      "\u001b[1m504/504\u001b[0m \u001b[32m━━━━━━━━━━━━━━━━━━━━\u001b[0m\u001b[37m\u001b[0m \u001b[1m0s\u001b[0m 972us/step - loss: 23.1922 - mae: 3.3229 - val_loss: 189.2829 - val_mae: 10.1411\n",
      "Epoch 9/20\n",
      "\u001b[1m504/504\u001b[0m \u001b[32m━━━━━━━━━━━━━━━━━━━━\u001b[0m\u001b[37m\u001b[0m \u001b[1m0s\u001b[0m 958us/step - loss: 24.3666 - mae: 3.4125 - val_loss: 76.2590 - val_mae: 7.2244\n",
      "Epoch 10/20\n",
      "\u001b[1m504/504\u001b[0m \u001b[32m━━━━━━━━━━━━━━━━━━━━\u001b[0m\u001b[37m\u001b[0m \u001b[1m0s\u001b[0m 939us/step - loss: 21.1088 - mae: 3.1422 - val_loss: 78.3638 - val_mae: 7.1840\n",
      "Epoch 11/20\n",
      "\u001b[1m504/504\u001b[0m \u001b[32m━━━━━━━━━━━━━━━━━━━━\u001b[0m\u001b[37m\u001b[0m \u001b[1m0s\u001b[0m 932us/step - loss: 21.6938 - mae: 3.2314 - val_loss: 105.0324 - val_mae: 7.8382\n",
      "Epoch 12/20\n",
      "\u001b[1m504/504\u001b[0m \u001b[32m━━━━━━━━━━━━━━━━━━━━\u001b[0m\u001b[37m\u001b[0m \u001b[1m0s\u001b[0m 944us/step - loss: 17.5512 - mae: 2.9854 - val_loss: 119.4218 - val_mae: 7.8500\n",
      "Epoch 13/20\n",
      "\u001b[1m504/504\u001b[0m \u001b[32m━━━━━━━━━━━━━━━━━━━━\u001b[0m\u001b[37m\u001b[0m \u001b[1m0s\u001b[0m 956us/step - loss: 17.7472 - mae: 2.9520 - val_loss: 63.9452 - val_mae: 6.1876\n",
      "Epoch 14/20\n",
      "\u001b[1m504/504\u001b[0m \u001b[32m━━━━━━━━━━━━━━━━━━━━\u001b[0m\u001b[37m\u001b[0m \u001b[1m0s\u001b[0m 936us/step - loss: 16.1762 - mae: 2.8282 - val_loss: 80.0788 - val_mae: 7.2341\n",
      "Epoch 15/20\n",
      "\u001b[1m504/504\u001b[0m \u001b[32m━━━━━━━━━━━━━━━━━━━━\u001b[0m\u001b[37m\u001b[0m \u001b[1m0s\u001b[0m 955us/step - loss: 15.4854 - mae: 2.7625 - val_loss: 101.8204 - val_mae: 7.9069\n",
      "Epoch 16/20\n",
      "\u001b[1m504/504\u001b[0m \u001b[32m━━━━━━━━━━━━━━━━━━━━\u001b[0m\u001b[37m\u001b[0m \u001b[1m0s\u001b[0m 945us/step - loss: 14.9057 - mae: 2.7805 - val_loss: 97.6565 - val_mae: 8.1173\n",
      "Epoch 17/20\n",
      "\u001b[1m504/504\u001b[0m \u001b[32m━━━━━━━━━━━━━━━━━━━━\u001b[0m\u001b[37m\u001b[0m \u001b[1m0s\u001b[0m 962us/step - loss: 14.4153 - mae: 2.6705 - val_loss: 134.0457 - val_mae: 8.7771\n",
      "Epoch 18/20\n",
      "\u001b[1m504/504\u001b[0m \u001b[32m━━━━━━━━━━━━━━━━━━━━\u001b[0m\u001b[37m\u001b[0m \u001b[1m0s\u001b[0m 948us/step - loss: 13.4781 - mae: 2.6189 - val_loss: 159.8943 - val_mae: 9.3334\n",
      "Epoch 19/20\n",
      "\u001b[1m504/504\u001b[0m \u001b[32m━━━━━━━━━━━━━━━━━━━━\u001b[0m\u001b[37m\u001b[0m \u001b[1m0s\u001b[0m 943us/step - loss: 12.9472 - mae: 2.5397 - val_loss: 83.1950 - val_mae: 7.1629\n",
      "Epoch 20/20\n",
      "\u001b[1m504/504\u001b[0m \u001b[32m━━━━━━━━━━━━━━━━━━━━\u001b[0m\u001b[37m\u001b[0m \u001b[1m0s\u001b[0m 968us/step - loss: 13.1248 - mae: 2.5590 - val_loss: 104.9161 - val_mae: 7.1063\n",
      "\u001b[1m63/63\u001b[0m \u001b[32m━━━━━━━━━━━━━━━━━━━━\u001b[0m\u001b[37m\u001b[0m \u001b[1m0s\u001b[0m 573us/step - loss: 165.4021 - mae: 9.2193\n",
      "MAE: 7.10634089, Loss: 104.91613007\n"
     ]
    },
    {
     "data": {
      "image/png": "[encoded data removed]",
      "text/plain": [
       "<Figure size 864x360 with 1 Axes>"
      ]
     },
     "metadata": {
      "needs_background": "light"
     },
     "output_type": "display_data"
    }
   ],
   "source": [
    "model = LSTM_model(X_scaled, y, window_size=10, train_size=0.8, epochs=20)"
   ]
  },
  {
   "cell_type": "markdown",
   "id": "9ed5b071-3440-4195-ae2f-1de5fd661316",
   "metadata": {
    "jp-MarkdownHeadingCollapsed": true
   },
   "source": [
    "## Treinamento e Avaliação do Modelo com N series"
   ]
  },
  {
   "cell_type": "markdown",
   "id": "50bcafd6-7b02-4be1-a87d-73476f105423",
   "metadata": {
    "jp-MarkdownHeadingCollapsed": true
   },
   "source": [
    "### Preparação do Dataset"
   ]
  },
  {
   "cell_type": "code",
   "execution_count": 48,
   "id": "76993a46-feab-4398-88d7-08376ccdc7cb",
   "metadata": {},
   "outputs": [],
   "source": [
    "import os\n",
    "import pandas as pd\n",
    "import numpy as np\n",
    "\n",
    "from sklearn.preprocessing import MinMaxScaler\n",
    "\n",
    "from tensorflow.keras.models import Sequential\n",
    "from tensorflow.keras.layers import LSTM, Dense\n",
    "from tensorflow.keras.optimizers import Adam\n",
    "import matplotlib.pyplot as plt"
   ]
  },
  {
   "cell_type": "code",
   "execution_count": 49,
   "id": "0a133974-1e8f-4bb8-ab65-7e813ce2f560",
   "metadata": {},
   "outputs": [
    {
     "name": "stdout",
     "output_type": "stream",
     "text": [
      "['TripB38']\n"
     ]
    },
    {
     "data": {
      "text/plain": [
       "[['Time [s]',\n",
       "  'Velocity [km/h]',\n",
       "  'Elevation [m]',\n",
       "  'Throttle [%]',\n",
       "  'Motor Torque [Nm]',\n",
       "  'Longitudinal Acceleration [m/s^2]',\n",
       "  'Regenerative Braking Signal ',\n",
       "  'Battery Voltage [V]',\n",
       "  'Battery Current [A]',\n",
       "  'Battery Temperature [°C]',\n",
       "  'max. Battery Temperature [°C]',\n",
       "  'SoC [%]',\n",
       "  'displayed SoC [%]',\n",
       "  'min. SoC [%]',\n",
       "  'max. SoC [%)',\n",
       "  'Heating Power CAN [kW]',\n",
       "  'Requested Heating Power [W]',\n",
       "  'AirCon Power [kW]',\n",
       "  'Heater Signal',\n",
       "  'Ambient Temperature [°C]',\n",
       "  'Requested Coolant Temperature [°C]',\n",
       "  'Heat Exchanger Temperature [°C]',\n",
       "  'Cabin Temperature Sensor [°C]',\n",
       "  'Trip'],\n",
       " ['Time [s]',\n",
       "  'Velocity [km/h]',\n",
       "  'Elevation [m]',\n",
       "  'Throttle [%]',\n",
       "  'Motor Torque [Nm]',\n",
       "  'Longitudinal Acceleration [m/s^2]',\n",
       "  'Regenerative Braking Signal ',\n",
       "  'Battery Voltage [V]',\n",
       "  'Battery Current [A]',\n",
       "  'Battery Temperature [°C]',\n",
       "  'max. Battery Temperature [°C]',\n",
       "  'SoC [%]',\n",
       "  'displayed SoC [%]',\n",
       "  'min. SoC [%]',\n",
       "  'max. SoC [%)',\n",
       "  'Heating Power CAN [kW]',\n",
       "  'Requested Heating Power [W]',\n",
       "  'AirCon Power [kW]',\n",
       "  'Heater Signal',\n",
       "  'Ambient Temperature [°C]',\n",
       "  'Requested Coolant Temperature [°C]',\n",
       "  'Heat Exchanger Temperature [°C]',\n",
       "  'Cabin Temperature Sensor [°C]',\n",
       "  'Unnamed: 23',\n",
       "  'Trip'],\n",
       " ['Time [s]',\n",
       "  'Velocity [km/h]',\n",
       "  'Elevation [m]',\n",
       "  'Throttle [%]',\n",
       "  'Motor Torque [Nm]',\n",
       "  'Longitudinal Acceleration [m/s^2]',\n",
       "  'Regenerative Braking Signal ',\n",
       "  'Battery Voltage [V]',\n",
       "  'Battery Current [A]',\n",
       "  'Battery Temperature [°C]',\n",
       "  'max. Battery Temperature [°C]',\n",
       "  'SoC [%]',\n",
       "  'displayed SoC [%]',\n",
       "  'min. SoC [%]',\n",
       "  'max. SoC [%)',\n",
       "  'Heating Power CAN [kW]',\n",
       "  'Requested Heating Power [W]',\n",
       "  'AirCon Power [kW]',\n",
       "  'Heater Signal',\n",
       "  'Ambient Temperature [°C]',\n",
       "  'Heat Exchanger Temperature [°C]',\n",
       "  'Cabin Temperature Sensor [°C]',\n",
       "  'Trip'],\n",
       " ['Time [s]',\n",
       "  'Velocity [km/h]',\n",
       "  'Elevation [m]',\n",
       "  'Throttle [%]',\n",
       "  'Motor Torque [Nm]',\n",
       "  'Longitudinal Acceleration [m/s^2]',\n",
       "  'Regenerative Braking Signal ',\n",
       "  'Battery Voltage [V]',\n",
       "  'Battery Current [A]',\n",
       "  'Battery Temperature [°C]',\n",
       "  'max. Battery Temperature [°C]',\n",
       "  'SoC [%]',\n",
       "  'displayed SoC [%]',\n",
       "  'min. SoC [%]',\n",
       "  'max. SoC [%)',\n",
       "  'Heating Power CAN [kW]',\n",
       "  'Heating Power LIN [W]',\n",
       "  'Requested Heating Power [W]',\n",
       "  'AirCon Power [kW]',\n",
       "  'Heater Signal',\n",
       "  'Heater Voltage [V]',\n",
       "  'Heater Current [A]',\n",
       "  'Ambient Temperature [°C]',\n",
       "  'Ambient Temperature Sensor [°C]',\n",
       "  'Coolant Temperature Heatercore [°C]',\n",
       "  'Requested Coolant Temperature [°C]',\n",
       "  'Coolant Temperature Inlet [°C]',\n",
       "  'Coolant Volume Flow +500 [l/h]',\n",
       "  'Heat Exchanger Temperature [°C]',\n",
       "  'Cabin Temperature Sensor [°C]',\n",
       "  'Temperature Coolant Heater Inlet [°C]',\n",
       "  'Temperature Coolant Heater Outlet [°C]',\n",
       "  'Temperature Heat Exchanger Outlet [°C]',\n",
       "  'Temperature Defrost lateral left [°C]',\n",
       "  'Temperature Defrost lateral right [°C]',\n",
       "  'Temperature Defrost central [°C]',\n",
       "  'Temperature Defrost central left [°C]',\n",
       "  'Temperature Defrost central right [°C]',\n",
       "  'Temperature Footweel Driver [°C]',\n",
       "  'Temperature Footweel Co-Driver [°C]',\n",
       "  'Temperature Feetvent Co-Driver [°C]',\n",
       "  'Temperature Feetvent Driver [°C]',\n",
       "  'Temperature Head Co-Driver [°C]',\n",
       "  'Temperature Head Driver [°C]',\n",
       "  'Temperature Vent right [°C] ',\n",
       "  'Temperature Vent central right [°C]',\n",
       "  'Temperature Vent central left [°C]',\n",
       "  'Temperature Vent right [°C]',\n",
       "  'Trip'],\n",
       " ['Time [s]',\n",
       "  'Velocity [km/h]',\n",
       "  'Elevation [m]',\n",
       "  'Throttle [%]',\n",
       "  'Motor Torque [Nm]',\n",
       "  'Longitudinal Acceleration [m/s^2]',\n",
       "  'Regenerative Braking Signal ',\n",
       "  'Battery Voltage [V]',\n",
       "  'Battery Current [A]',\n",
       "  'Battery Temperature [°C]',\n",
       "  'max. Battery Temperature [°C]',\n",
       "  'SoC [%]',\n",
       "  'displayed SoC [%]',\n",
       "  'min. SoC [%]',\n",
       "  'max. SoC [%)',\n",
       "  'Heating Power CAN [kW]',\n",
       "  'Heating Power LIN [W]',\n",
       "  'Requested Heating Power [W]',\n",
       "  'AirCon Power [kW]',\n",
       "  'Heater Signal',\n",
       "  'Heater Voltage [V]',\n",
       "  'Heater Current [A]',\n",
       "  'Ambient Temperature [°C]',\n",
       "  'Coolant Temperature Heatercore [°C]',\n",
       "  'Requested Coolant Temperature [°C]',\n",
       "  'Coolant Temperature Inlet [°C]',\n",
       "  'Heat Exchanger Temperature [°C]',\n",
       "  'Cabin Temperature Sensor [°C]',\n",
       "  'Trip']]"
      ]
     },
     "execution_count": 49,
     "metadata": {},
     "output_type": "execute_result"
    }
   ],
   "source": [
    "directory = \"./data/ieee/\"\n",
    "files = os.listdir(directory)\n",
    "files.sort()\n",
    "\n",
    "trips = []\n",
    "for file in files:\n",
    "    trip = pd.read_csv(directory + file, sep=\";\", encoding='unicode_escape')\n",
    "    trip = trip.sort_values(by='Time [s]')\n",
    "    trip['Trip'] = file.split(\".\")[0]\n",
    "    trips.append(trip)\n",
    "\n",
    "columns = []\n",
    "for trip in trips:\n",
    "    if 'Velocity [km/h]]]' in trip.columns:\n",
    "        trip = trip.rename(columns={'Velocity [km/h]]]': 'Velocity [km/h]'})\n",
    "        print(trip['Trip'].unique())\n",
    "    columns.append(trip.columns.tolist())\n",
    "\n",
    "grupo_colunas_unicos = [list(x) for x in set(tuple(lst) for lst in columns)]\n",
    "grupo_colunas_unicos"
   ]
  },
  {
   "cell_type": "code",
   "execution_count": 50,
   "id": "8e6607a7-4bc0-4dd5-869e-ec90ce28a19b",
   "metadata": {},
   "outputs": [
    {
     "name": "stdout",
     "output_type": "stream",
     "text": [
      "50\n"
     ]
    },
    {
     "data": {
      "text/plain": [
       "['AirCon Power [kW]',\n",
       " 'Ambient Temperature Sensor [°C]',\n",
       " 'Ambient Temperature [°C]',\n",
       " 'Battery Current [A]',\n",
       " 'Battery Temperature [°C]',\n",
       " 'Battery Voltage [V]',\n",
       " 'Cabin Temperature Sensor [°C]',\n",
       " 'Coolant Temperature Heatercore [°C]',\n",
       " 'Coolant Temperature Inlet [°C]',\n",
       " 'Coolant Volume Flow +500 [l/h]',\n",
       " 'Elevation [m]',\n",
       " 'Heat Exchanger Temperature [°C]',\n",
       " 'Heater Current [A]',\n",
       " 'Heater Signal',\n",
       " 'Heater Voltage [V]',\n",
       " 'Heating Power CAN [kW]',\n",
       " 'Heating Power LIN [W]',\n",
       " 'Longitudinal Acceleration [m/s^2]',\n",
       " 'Motor Torque [Nm]',\n",
       " 'Regenerative Braking Signal ',\n",
       " 'Requested Coolant Temperature [°C]',\n",
       " 'Requested Heating Power [W]',\n",
       " 'SoC [%]',\n",
       " 'Temperature Coolant Heater Inlet [°C]',\n",
       " 'Temperature Coolant Heater Outlet [°C]',\n",
       " 'Temperature Defrost central [°C]',\n",
       " 'Temperature Defrost central left [°C]',\n",
       " 'Temperature Defrost central right [°C]',\n",
       " 'Temperature Defrost lateral left [°C]',\n",
       " 'Temperature Defrost lateral right [°C]',\n",
       " 'Temperature Feetvent Co-Driver [°C]',\n",
       " 'Temperature Feetvent Driver [°C]',\n",
       " 'Temperature Footweel Co-Driver [°C]',\n",
       " 'Temperature Footweel Driver [°C]',\n",
       " 'Temperature Head Co-Driver [°C]',\n",
       " 'Temperature Head Driver [°C]',\n",
       " 'Temperature Heat Exchanger Outlet [°C]',\n",
       " 'Temperature Vent central left [°C]',\n",
       " 'Temperature Vent central right [°C]',\n",
       " 'Temperature Vent right [°C]',\n",
       " 'Temperature Vent right [°C] ',\n",
       " 'Throttle [%]',\n",
       " 'Time [s]',\n",
       " 'Trip',\n",
       " 'Unnamed: 23',\n",
       " 'Velocity [km/h]',\n",
       " 'displayed SoC [%]',\n",
       " 'max. Battery Temperature [°C]',\n",
       " 'max. SoC [%)',\n",
       " 'min. SoC [%]']"
      ]
     },
     "execution_count": 50,
     "metadata": {},
     "output_type": "execute_result"
    }
   ],
   "source": [
    "total_columns = grupo_colunas_unicos[0]\n",
    "\n",
    "for group in grupo_colunas_unicos:\n",
    "    for column in group:\n",
    "        if column not in total_columns:\n",
    "            total_columns.append(column)\n",
    "\n",
    "print(len(total_columns))\n",
    "total_columns.sort()\n",
    "total_columns"
   ]
  },
  {
   "cell_type": "code",
   "execution_count": 51,
   "id": "139f205f-2176-47c3-915f-a713924ec598",
   "metadata": {},
   "outputs": [
    {
     "data": {
      "text/plain": [
       "['AirCon Power [kW]',\n",
       " 'Ambient Temperature [°C]',\n",
       " 'Battery Current [A]',\n",
       " 'Battery Temperature [°C]',\n",
       " 'Battery Voltage [V]',\n",
       " 'Cabin Temperature Sensor [°C]',\n",
       " 'Elevation [m]',\n",
       " 'Heat Exchanger Temperature [°C]',\n",
       " 'Heater Signal',\n",
       " 'Heating Power CAN [kW]',\n",
       " 'Longitudinal Acceleration [m/s^2]',\n",
       " 'Motor Torque [Nm]',\n",
       " 'Regenerative Braking Signal ',\n",
       " 'Requested Heating Power [W]',\n",
       " 'SoC [%]',\n",
       " 'Throttle [%]',\n",
       " 'Time [s]',\n",
       " 'Trip',\n",
       " 'Velocity [km/h]',\n",
       " 'displayed SoC [%]',\n",
       " 'max. Battery Temperature [°C]',\n",
       " 'max. SoC [%)',\n",
       " 'min. SoC [%]']"
      ]
     },
     "execution_count": 51,
     "metadata": {},
     "output_type": "execute_result"
    }
   ],
   "source": [
    "colunas_comuns = set(grupo_colunas_unicos[0])\n",
    "\n",
    "for item in grupo_colunas_unicos[1:]:\n",
    "    colunas_comuns.intersection_update(item)\n",
    "\n",
    "colunas_comuns = list(colunas_comuns)\n",
    "colunas_comuns.sort()\n",
    "colunas_comuns"
   ]
  },
  {
   "cell_type": "code",
   "execution_count": 52,
   "id": "ffa01296-c1d1-44ae-a7cc-a78d90eef7c6",
   "metadata": {},
   "outputs": [
    {
     "data": {
      "text/plain": [
       "['AirCon Power [kW]',\n",
       " 'Ambient Temperature [°C]',\n",
       " 'Cabin Temperature Sensor [°C]',\n",
       " 'Elevation [m]',\n",
       " 'Heat Exchanger Temperature [°C]',\n",
       " 'Heater Signal',\n",
       " 'Heating Power CAN [kW]',\n",
       " 'Longitudinal Acceleration [m/s^2]',\n",
       " 'Motor Torque [Nm]',\n",
       " 'Requested Heating Power [W]',\n",
       " 'Throttle [%]',\n",
       " 'Time [s]',\n",
       " 'Trip',\n",
       " 'Velocity [km/h]']"
      ]
     },
     "execution_count": 52,
     "metadata": {},
     "output_type": "execute_result"
    }
   ],
   "source": [
    "colunas_remover = [\n",
    "    'Battery Current [A]',\n",
    "    'Battery Temperature [°C]',\n",
    "    'Battery Voltage [V]',\n",
    "    'Regenerative Braking Signal ',\n",
    "    'SoC [%]',\n",
    "    'displayed SoC [%]',\n",
    "    'max. Battery Temperature [°C]',\n",
    "    'max. SoC [%)',\n",
    "    'min. SoC [%]'\n",
    "]\n",
    "\n",
    "colunas_final = [item for item in colunas_comuns if item not in colunas_remover]\n",
    "colunas_final.sort()\n",
    "colunas_final"
   ]
  },
  {
   "cell_type": "code",
   "execution_count": 53,
   "id": "c7b857f3-00e8-4d63-b45f-10f166214df0",
   "metadata": {},
   "outputs": [
    {
     "data": {
      "text/plain": [
       "(1094793, 14)"
      ]
     },
     "execution_count": 53,
     "metadata": {},
     "output_type": "execute_result"
    }
   ],
   "source": [
    "trips = pd.concat(trips)\n",
    "trips = trips[colunas_final]\n",
    "trips.shape"
   ]
  },
  {
   "cell_type": "code",
   "execution_count": 54,
   "id": "5eed174c-b45e-4d40-bfc3-57a075ca4763",
   "metadata": {},
   "outputs": [
    {
     "data": {
      "text/plain": [
       "array(['TripA01', 'TripA02', 'TripA03', 'TripA04', 'TripA05', 'TripA06',\n",
       "       'TripA07', 'TripA08', 'TripA09', 'TripA10', 'TripA11', 'TripA12',\n",
       "       'TripA13', 'TripA14', 'TripA15', 'TripA16', 'TripA17', 'TripA18',\n",
       "       'TripA19', 'TripA20', 'TripA21', 'TripA22', 'TripA23', 'TripA24',\n",
       "       'TripA25', 'TripA26', 'TripA27', 'TripA28', 'TripA29', 'TripA30',\n",
       "       'TripA31', 'TripA32', 'TripB01', 'TripB02', 'TripB03', 'TripB04',\n",
       "       'TripB05', 'TripB06', 'TripB07', 'TripB08', 'TripB09', 'TripB10',\n",
       "       'TripB11', 'TripB12', 'TripB13', 'TripB14', 'TripB15', 'TripB16',\n",
       "       'TripB17', 'TripB18', 'TripB19', 'TripB20', 'TripB21', 'TripB22',\n",
       "       'TripB23', 'TripB24', 'TripB25', 'TripB26', 'TripB27', 'TripB28',\n",
       "       'TripB29', 'TripB30', 'TripB31', 'TripB32', 'TripB33', 'TripB34',\n",
       "       'TripB35', 'TripB36', 'TripB37', 'TripB38'], dtype=object)"
      ]
     },
     "execution_count": 54,
     "metadata": {},
     "output_type": "execute_result"
    }
   ],
   "source": [
    "trips['Trip'].unique()"
   ]
  },
  {
   "cell_type": "code",
   "execution_count": 56,
   "id": "bfe25bef-01b2-4dd9-813e-7533bce9f437",
   "metadata": {},
   "outputs": [],
   "source": [
    "X = trips.drop(columns=['Time [s]', 'Motor Torque [Nm]', 'Trip'])\n",
    "y = trips['Motor Torque [Nm]'].values"
   ]
  },
  {
   "cell_type": "code",
   "execution_count": 57,
   "id": "1285f1fd-4dc4-43ec-8709-2b3c1c8985bd",
   "metadata": {},
   "outputs": [],
   "source": [
    "scaler_X = MinMaxScaler()\n",
    "scaler_y = MinMaxScaler()\n",
    "\n",
    "X_scaled = scaler_X.fit_transform(X.values)\n",
    "y_scaled = scaler_y.fit_transform(y.reshape(-1, 1))"
   ]
  },
  {
   "cell_type": "code",
   "execution_count": 58,
   "id": "c61a43fe-a0a2-4ed3-a115-e10503599879",
   "metadata": {},
   "outputs": [
    {
     "data": {
      "text/html": [
       "<div>\n",
       "<style scoped>\n",
       "    .dataframe tbody tr th:only-of-type {\n",
       "        vertical-align: middle;\n",
       "    }\n",
       "\n",
       "    .dataframe tbody tr th {\n",
       "        vertical-align: top;\n",
       "    }\n",
       "\n",
       "    .dataframe thead th {\n",
       "        text-align: right;\n",
       "    }\n",
       "</style>\n",
       "<table border=\"1\" class=\"dataframe\">\n",
       "  <thead>\n",
       "    <tr style=\"text-align: right;\">\n",
       "      <th></th>\n",
       "      <th>AirCon Power [kW]</th>\n",
       "      <th>Ambient Temperature [°C]</th>\n",
       "      <th>Cabin Temperature Sensor [°C]</th>\n",
       "      <th>Elevation [m]</th>\n",
       "      <th>Heat Exchanger Temperature [°C]</th>\n",
       "      <th>Heater Signal</th>\n",
       "      <th>Heating Power CAN [kW]</th>\n",
       "      <th>Longitudinal Acceleration [m/s^2]</th>\n",
       "      <th>Requested Heating Power [W]</th>\n",
       "      <th>Throttle [%]</th>\n",
       "      <th>Velocity [km/h]</th>\n",
       "      <th>Trip</th>\n",
       "    </tr>\n",
       "  </thead>\n",
       "  <tbody>\n",
       "    <tr>\n",
       "      <th>0</th>\n",
       "      <td>0.163324</td>\n",
       "      <td>0.783784</td>\n",
       "      <td>0.485904</td>\n",
       "      <td>0.600904</td>\n",
       "      <td>0.424646</td>\n",
       "      <td>1.0</td>\n",
       "      <td>0.0</td>\n",
       "      <td>0.667161</td>\n",
       "      <td>0.002206</td>\n",
       "      <td>0.0</td>\n",
       "      <td>0.0</td>\n",
       "      <td>TripA01</td>\n",
       "    </tr>\n",
       "    <tr>\n",
       "      <th>1</th>\n",
       "      <td>0.163324</td>\n",
       "      <td>0.783784</td>\n",
       "      <td>0.485904</td>\n",
       "      <td>0.600904</td>\n",
       "      <td>0.424646</td>\n",
       "      <td>1.0</td>\n",
       "      <td>0.0</td>\n",
       "      <td>0.669385</td>\n",
       "      <td>0.002206</td>\n",
       "      <td>0.0</td>\n",
       "      <td>0.0</td>\n",
       "      <td>TripA01</td>\n",
       "    </tr>\n",
       "    <tr>\n",
       "      <th>2</th>\n",
       "      <td>0.163324</td>\n",
       "      <td>0.783784</td>\n",
       "      <td>0.485904</td>\n",
       "      <td>0.600904</td>\n",
       "      <td>0.424646</td>\n",
       "      <td>1.0</td>\n",
       "      <td>0.0</td>\n",
       "      <td>0.668643</td>\n",
       "      <td>0.002206</td>\n",
       "      <td>0.0</td>\n",
       "      <td>0.0</td>\n",
       "      <td>TripA01</td>\n",
       "    </tr>\n",
       "    <tr>\n",
       "      <th>3</th>\n",
       "      <td>0.163324</td>\n",
       "      <td>0.783784</td>\n",
       "      <td>0.485904</td>\n",
       "      <td>0.600904</td>\n",
       "      <td>0.424646</td>\n",
       "      <td>1.0</td>\n",
       "      <td>0.0</td>\n",
       "      <td>0.667161</td>\n",
       "      <td>0.002206</td>\n",
       "      <td>0.0</td>\n",
       "      <td>0.0</td>\n",
       "      <td>TripA01</td>\n",
       "    </tr>\n",
       "    <tr>\n",
       "      <th>4</th>\n",
       "      <td>0.163324</td>\n",
       "      <td>0.783784</td>\n",
       "      <td>0.485904</td>\n",
       "      <td>0.600904</td>\n",
       "      <td>0.424646</td>\n",
       "      <td>1.0</td>\n",
       "      <td>0.0</td>\n",
       "      <td>0.667161</td>\n",
       "      <td>0.002206</td>\n",
       "      <td>0.0</td>\n",
       "      <td>0.0</td>\n",
       "      <td>TripA01</td>\n",
       "    </tr>\n",
       "  </tbody>\n",
       "</table>\n",
       "</div>"
      ],
      "text/plain": [
       "   AirCon Power [kW]  Ambient Temperature [°C]  Cabin Temperature Sensor [°C]  \\\n",
       "0           0.163324                  0.783784                       0.485904   \n",
       "1           0.163324                  0.783784                       0.485904   \n",
       "2           0.163324                  0.783784                       0.485904   \n",
       "3           0.163324                  0.783784                       0.485904   \n",
       "4           0.163324                  0.783784                       0.485904   \n",
       "\n",
       "   Elevation [m]  Heat Exchanger Temperature [°C]  Heater Signal  \\\n",
       "0       0.600904                         0.424646            1.0   \n",
       "1       0.600904                         0.424646            1.0   \n",
       "2       0.600904                         0.424646            1.0   \n",
       "3       0.600904                         0.424646            1.0   \n",
       "4       0.600904                         0.424646            1.0   \n",
       "\n",
       "   Heating Power CAN [kW]  Longitudinal Acceleration [m/s^2]  \\\n",
       "0                     0.0                           0.667161   \n",
       "1                     0.0                           0.669385   \n",
       "2                     0.0                           0.668643   \n",
       "3                     0.0                           0.667161   \n",
       "4                     0.0                           0.667161   \n",
       "\n",
       "   Requested Heating Power [W]  Throttle [%]  Velocity [km/h]     Trip  \n",
       "0                     0.002206           0.0              0.0  TripA01  \n",
       "1                     0.002206           0.0              0.0  TripA01  \n",
       "2                     0.002206           0.0              0.0  TripA01  \n",
       "3                     0.002206           0.0              0.0  TripA01  \n",
       "4                     0.002206           0.0              0.0  TripA01  "
      ]
     },
     "execution_count": 58,
     "metadata": {},
     "output_type": "execute_result"
    }
   ],
   "source": [
    "X_scaled = pd.DataFrame(\n",
    "    X_scaled,\n",
    "    columns=X.columns,\n",
    "    index=X.index\n",
    ")\n",
    "X_scaled['Trip'] = trips['Trip']\n",
    "X_scaled.head()"
   ]
  },
  {
   "cell_type": "code",
   "execution_count": 59,
   "id": "d1cd2a76-d256-4fa4-ab72-4fd850172970",
   "metadata": {},
   "outputs": [
    {
     "data": {
      "text/html": [
       "<div>\n",
       "<style scoped>\n",
       "    .dataframe tbody tr th:only-of-type {\n",
       "        vertical-align: middle;\n",
       "    }\n",
       "\n",
       "    .dataframe tbody tr th {\n",
       "        vertical-align: top;\n",
       "    }\n",
       "\n",
       "    .dataframe thead th {\n",
       "        text-align: right;\n",
       "    }\n",
       "</style>\n",
       "<table border=\"1\" class=\"dataframe\">\n",
       "  <thead>\n",
       "    <tr style=\"text-align: right;\">\n",
       "      <th></th>\n",
       "      <th>AirCon Power [kW]</th>\n",
       "      <th>Ambient Temperature [°C]</th>\n",
       "      <th>Cabin Temperature Sensor [°C]</th>\n",
       "      <th>Elevation [m]</th>\n",
       "      <th>Heat Exchanger Temperature [°C]</th>\n",
       "      <th>Heater Signal</th>\n",
       "      <th>Heating Power CAN [kW]</th>\n",
       "      <th>Longitudinal Acceleration [m/s^2]</th>\n",
       "      <th>Requested Heating Power [W]</th>\n",
       "      <th>Throttle [%]</th>\n",
       "      <th>Velocity [km/h]</th>\n",
       "      <th>Trip</th>\n",
       "      <th>Motor Torque [Nm]</th>\n",
       "    </tr>\n",
       "  </thead>\n",
       "  <tbody>\n",
       "    <tr>\n",
       "      <th>0</th>\n",
       "      <td>0.163324</td>\n",
       "      <td>0.783784</td>\n",
       "      <td>0.485904</td>\n",
       "      <td>0.600904</td>\n",
       "      <td>0.424646</td>\n",
       "      <td>1.0</td>\n",
       "      <td>0.0</td>\n",
       "      <td>0.667161</td>\n",
       "      <td>0.002206</td>\n",
       "      <td>0.0</td>\n",
       "      <td>0.0</td>\n",
       "      <td>TripA01</td>\n",
       "      <td>0.260522</td>\n",
       "    </tr>\n",
       "    <tr>\n",
       "      <th>1</th>\n",
       "      <td>0.163324</td>\n",
       "      <td>0.783784</td>\n",
       "      <td>0.485904</td>\n",
       "      <td>0.600904</td>\n",
       "      <td>0.424646</td>\n",
       "      <td>1.0</td>\n",
       "      <td>0.0</td>\n",
       "      <td>0.669385</td>\n",
       "      <td>0.002206</td>\n",
       "      <td>0.0</td>\n",
       "      <td>0.0</td>\n",
       "      <td>TripA01</td>\n",
       "      <td>0.260522</td>\n",
       "    </tr>\n",
       "    <tr>\n",
       "      <th>2</th>\n",
       "      <td>0.163324</td>\n",
       "      <td>0.783784</td>\n",
       "      <td>0.485904</td>\n",
       "      <td>0.600904</td>\n",
       "      <td>0.424646</td>\n",
       "      <td>1.0</td>\n",
       "      <td>0.0</td>\n",
       "      <td>0.668643</td>\n",
       "      <td>0.002206</td>\n",
       "      <td>0.0</td>\n",
       "      <td>0.0</td>\n",
       "      <td>TripA01</td>\n",
       "      <td>0.260522</td>\n",
       "    </tr>\n",
       "    <tr>\n",
       "      <th>3</th>\n",
       "      <td>0.163324</td>\n",
       "      <td>0.783784</td>\n",
       "      <td>0.485904</td>\n",
       "      <td>0.600904</td>\n",
       "      <td>0.424646</td>\n",
       "      <td>1.0</td>\n",
       "      <td>0.0</td>\n",
       "      <td>0.667161</td>\n",
       "      <td>0.002206</td>\n",
       "      <td>0.0</td>\n",
       "      <td>0.0</td>\n",
       "      <td>TripA01</td>\n",
       "      <td>0.260522</td>\n",
       "    </tr>\n",
       "    <tr>\n",
       "      <th>4</th>\n",
       "      <td>0.163324</td>\n",
       "      <td>0.783784</td>\n",
       "      <td>0.485904</td>\n",
       "      <td>0.600904</td>\n",
       "      <td>0.424646</td>\n",
       "      <td>1.0</td>\n",
       "      <td>0.0</td>\n",
       "      <td>0.667161</td>\n",
       "      <td>0.002206</td>\n",
       "      <td>0.0</td>\n",
       "      <td>0.0</td>\n",
       "      <td>TripA01</td>\n",
       "      <td>0.260522</td>\n",
       "    </tr>\n",
       "  </tbody>\n",
       "</table>\n",
       "</div>"
      ],
      "text/plain": [
       "   AirCon Power [kW]  Ambient Temperature [°C]  Cabin Temperature Sensor [°C]  \\\n",
       "0           0.163324                  0.783784                       0.485904   \n",
       "1           0.163324                  0.783784                       0.485904   \n",
       "2           0.163324                  0.783784                       0.485904   \n",
       "3           0.163324                  0.783784                       0.485904   \n",
       "4           0.163324                  0.783784                       0.485904   \n",
       "\n",
       "   Elevation [m]  Heat Exchanger Temperature [°C]  Heater Signal  \\\n",
       "0       0.600904                         0.424646            1.0   \n",
       "1       0.600904                         0.424646            1.0   \n",
       "2       0.600904                         0.424646            1.0   \n",
       "3       0.600904                         0.424646            1.0   \n",
       "4       0.600904                         0.424646            1.0   \n",
       "\n",
       "   Heating Power CAN [kW]  Longitudinal Acceleration [m/s^2]  \\\n",
       "0                     0.0                           0.667161   \n",
       "1                     0.0                           0.669385   \n",
       "2                     0.0                           0.668643   \n",
       "3                     0.0                           0.667161   \n",
       "4                     0.0                           0.667161   \n",
       "\n",
       "   Requested Heating Power [W]  Throttle [%]  Velocity [km/h]     Trip  \\\n",
       "0                     0.002206           0.0              0.0  TripA01   \n",
       "1                     0.002206           0.0              0.0  TripA01   \n",
       "2                     0.002206           0.0              0.0  TripA01   \n",
       "3                     0.002206           0.0              0.0  TripA01   \n",
       "4                     0.002206           0.0              0.0  TripA01   \n",
       "\n",
       "   Motor Torque [Nm]  \n",
       "0           0.260522  \n",
       "1           0.260522  \n",
       "2           0.260522  \n",
       "3           0.260522  \n",
       "4           0.260522  "
      ]
     },
     "execution_count": 59,
     "metadata": {},
     "output_type": "execute_result"
    }
   ],
   "source": [
    "scaled_dataset = X_scaled\n",
    "scaled_dataset['Motor Torque [Nm]'] = y_scaled\n",
    "scaled_dataset.head()"
   ]
  },
  {
   "cell_type": "code",
   "execution_count": 60,
   "id": "c2d20d81-062f-4b91-becd-8e37730dbf98",
   "metadata": {},
   "outputs": [],
   "source": [
    "def time_series_train_test_split(dataset, train_size=0.8):\n",
    "    X_trains, X_tests, y_trains, y_tests = [], [], [], []\n",
    "    \n",
    "    for trip in dataset['Trip'].unique():\n",
    "        data_slice = dataset[dataset['Trip'] == trip]\n",
    "        size = int(len(data_slice) * train_size)\n",
    "    \n",
    "        X_trains.append(data_slice.iloc[:size, :-1])\n",
    "        X_tests.append(data_slice.iloc[size:, :-1])\n",
    "        \n",
    "        y_trains.append(data_slice.iloc[:size, -1])\n",
    "        y_tests.append(data_slice.iloc[size:, -1])\n",
    "    \n",
    "    return pd.concat(X_trains), pd.concat(X_tests), pd.concat(y_trains), pd.concat(y_tests)\n",
    "\n",
    "X_train, X_test, y_train, y_test = time_series_train_test_split(scaled_dataset)"
   ]
  },
  {
   "cell_type": "code",
   "execution_count": 62,
   "id": "d0c91288-ca32-403a-9f67-21abd8648de7",
   "metadata": {},
   "outputs": [
    {
     "name": "stdout",
     "output_type": "stream",
     "text": [
      "(875810, 12)\n",
      "(218983, 12)\n",
      "(875810,)\n",
      "(218983,)\n"
     ]
    }
   ],
   "source": [
    "print(X_train.shape)\n",
    "print(X_test.shape)\n",
    "print(y_train.shape)\n",
    "print(y_test.shape)"
   ]
  },
  {
   "cell_type": "code",
   "execution_count": 63,
   "id": "ebe6c611-ba1e-4d58-bc88-a83ab79f46b7",
   "metadata": {},
   "outputs": [],
   "source": [
    "def create_seq(X, y, window_size=10):\n",
    "    X_seq, y_seq = [], []\n",
    "    \n",
    "    for i in range(window_size, len(X)):\n",
    "        data_slice = X.iloc[i-window_size:i, :]\n",
    "\n",
    "        # Se tiver mais de uma trip na mesma janela, eu não adiciono no conjunto de dados\n",
    "        if len(data_slice['Trip'].unique()) == 1:\n",
    "            X_seq.append(data_slice.drop(columns=['Trip']).values)\n",
    "            y_seq.append(y[i])\n",
    "        \n",
    "    return np.array(X_seq), np.array(y_seq)\n",
    "\n",
    "\n",
    "X_train_seq, y_train_seq = create_seq(X_train, y_train.values, window_size=10)\n",
    "X_test_seq, y_test_seq = create_seq(X_test, y_test.values, window_size=10)"
   ]
  },
  {
   "cell_type": "code",
   "execution_count": 69,
   "id": "a00475d4-d87a-4ef7-acd4-c165a5655703",
   "metadata": {},
   "outputs": [],
   "source": [
    "# Não usar isso aqui para salvar pq está perdendo o shape\n",
    "# Talvez se guardar o shape e usar um reshape depois\n",
    "\n",
    "# X_train_seq.tofile('./X_train_seq.dat')\n",
    "# y_train_seq.tofile('./y_train_seq.dat')\n",
    "# X_test_seq.tofile('./X_test_seq.dat')\n",
    "# y_test_seq.tofile('./y_test_seq.dat')\n",
    "\n",
    "# X_train_seq = np.fromfile('./X_train_seq.dat')\n",
    "# y_train_seq = np.fromfile('./y_train_seq.dat')\n",
    "# X_test_seq = np.fromfile('./X_test_seq.dat')\n",
    "# y_test_seq = np.fromfile('./y_test_seq.dat')"
   ]
  },
  {
   "cell_type": "markdown",
   "id": "33b5a00e-1bd6-48d6-a035-16dc281bad7b",
   "metadata": {
    "jp-MarkdownHeadingCollapsed": true
   },
   "source": [
    "### Treinamento do LSTM"
   ]
  },
  {
   "cell_type": "code",
   "execution_count": 70,
   "id": "530e37be-aeae-4455-843e-68c5942dfbef",
   "metadata": {},
   "outputs": [],
   "source": [
    "def LSTM_model(X_seq, y_seq, window_size=10, train_size=0.8, epochs=10):\n",
    "    # Divisão de treino e validação com 80% para treino e 20% para validação\n",
    "    train_size = int(len(X_seq) * train_size)\n",
    "    X_train, X_test = X_seq[:train_size], X_seq[train_size:]\n",
    "    y_train, y_test = y_seq[:train_size], y_seq[train_size:]\n",
    "\n",
    "\n",
    "    # Criando e treinando o modelo\n",
    "    model = Sequential(\n",
    "        [\n",
    "            LSTM(32, activation='tanh', input_shape=(X_train.shape[1], X_train.shape[2])),\n",
    "            Dense(32, activation='relu'), \n",
    "            Dense(1) \n",
    "        ]\n",
    "    )\n",
    "\n",
    "    model.compile(optimizer='adam', loss='mse', metrics=['mae'])\n",
    "\n",
    "    history = model.fit(X_train, y_train, validation_data=(X_test, y_test), epochs=epochs, batch_size=16)\n",
    "\n",
    "\n",
    "    # Imprimindo a avaliação\n",
    "    plt.figure(figsize=(12, 5))\n",
    "    plt.subplot(1, 2, 1)\n",
    "    plt.plot(history.history['loss'], label='Train Loss')\n",
    "    plt.plot(history.history['val_loss'], label='Validation Loss')\n",
    "    plt.xlabel('Épocas')\n",
    "    plt.ylabel('Loss (MSE)')\n",
    "    plt.legend()\n",
    "    plt.grid()\n",
    "\n",
    "    loss, mae = model.evaluate(X_test, y_test)\n",
    "    print(f\"MAE: {mae:.8f}, Loss: {loss:.8f}\")\n",
    "\n",
    "    return model"
   ]
  },
  {
   "cell_type": "code",
   "execution_count": 81,
   "id": "23341c87-956c-4037-b3b0-3f9a0b0490be",
   "metadata": {},
   "outputs": [
    {
     "name": "stderr",
     "output_type": "stream",
     "text": [
      "/home/andre/.local/lib/python3.10/site-packages/keras/src/layers/rnn/rnn.py:204: UserWarning: Do not pass an `input_shape`/`input_dim` argument to a layer. When using Sequential models, prefer using an `Input(shape)` object as the first layer in the model instead.\n",
      "  super().__init__(**kwargs)\n"
     ]
    },
    {
     "name": "stdout",
     "output_type": "stream",
     "text": [
      "Epoch 1/20\n",
      "\u001b[1m43759/43759\u001b[0m \u001b[32m━━━━━━━━━━━━━━━━━━━━\u001b[0m\u001b[37m\u001b[0m \u001b[1m49s\u001b[0m 1ms/step - loss: 6.6986e-04 - mae: 0.0161 - val_loss: 0.0064 - val_mae: 0.0297\n",
      "Epoch 2/20\n",
      "\u001b[1m43759/43759\u001b[0m \u001b[32m━━━━━━━━━━━━━━━━━━━━\u001b[0m\u001b[37m\u001b[0m \u001b[1m50s\u001b[0m 1ms/step - loss: 1.5340e-04 - mae: 0.0082 - val_loss: 0.0057 - val_mae: 0.0236\n",
      "Epoch 3/20\n",
      "\u001b[1m43759/43759\u001b[0m \u001b[32m━━━━━━━━━━━━━━━━━━━━\u001b[0m\u001b[37m\u001b[0m \u001b[1m54s\u001b[0m 1ms/step - loss: 1.1697e-04 - mae: 0.0069 - val_loss: 0.0052 - val_mae: 0.0237\n",
      "Epoch 4/20\n",
      "\u001b[1m43759/43759\u001b[0m \u001b[32m━━━━━━━━━━━━━━━━━━━━\u001b[0m\u001b[37m\u001b[0m \u001b[1m54s\u001b[0m 1ms/step - loss: 1.0164e-04 - mae: 0.0064 - val_loss: 0.0051 - val_mae: 0.0239\n",
      "Epoch 5/20\n",
      "\u001b[1m43759/43759\u001b[0m \u001b[32m━━━━━━━━━━━━━━━━━━━━\u001b[0m\u001b[37m\u001b[0m \u001b[1m53s\u001b[0m 1ms/step - loss: 9.2093e-05 - mae: 0.0061 - val_loss: 0.0047 - val_mae: 0.0224\n",
      "Epoch 6/20\n",
      "\u001b[1m43759/43759\u001b[0m \u001b[32m━━━━━━━━━━━━━━━━━━━━\u001b[0m\u001b[37m\u001b[0m \u001b[1m52s\u001b[0m 1ms/step - loss: 8.4348e-05 - mae: 0.0058 - val_loss: 0.0044 - val_mae: 0.0224\n",
      "Epoch 7/20\n",
      "\u001b[1m43759/43759\u001b[0m \u001b[32m━━━━━━━━━━━━━━━━━━━━\u001b[0m\u001b[37m\u001b[0m \u001b[1m53s\u001b[0m 1ms/step - loss: 7.8664e-05 - mae: 0.0056 - val_loss: 0.0043 - val_mae: 0.0207\n",
      "Epoch 8/20\n",
      "\u001b[1m43759/43759\u001b[0m \u001b[32m━━━━━━━━━━━━━━━━━━━━\u001b[0m\u001b[37m\u001b[0m \u001b[1m53s\u001b[0m 1ms/step - loss: 7.4153e-05 - mae: 0.0054 - val_loss: 0.0040 - val_mae: 0.0199\n",
      "Epoch 9/20\n",
      "\u001b[1m43759/43759\u001b[0m \u001b[32m━━━━━━━━━━━━━━━━━━━━\u001b[0m\u001b[37m\u001b[0m \u001b[1m53s\u001b[0m 1ms/step - loss: 7.0281e-05 - mae: 0.0053 - val_loss: 0.0039 - val_mae: 0.0199\n",
      "Epoch 10/20\n",
      "\u001b[1m43759/43759\u001b[0m \u001b[32m━━━━━━━━━━━━━━━━━━━━\u001b[0m\u001b[37m\u001b[0m \u001b[1m52s\u001b[0m 1ms/step - loss: 6.6898e-05 - mae: 0.0052 - val_loss: 0.0036 - val_mae: 0.0194\n",
      "Epoch 11/20\n",
      "\u001b[1m43759/43759\u001b[0m \u001b[32m━━━━━━━━━━━━━━━━━━━━\u001b[0m\u001b[37m\u001b[0m \u001b[1m52s\u001b[0m 1ms/step - loss: 6.3902e-05 - mae: 0.0051 - val_loss: 0.0035 - val_mae: 0.0186\n",
      "Epoch 12/20\n",
      "\u001b[1m43759/43759\u001b[0m \u001b[32m━━━━━━━━━━━━━━━━━━━━\u001b[0m\u001b[37m\u001b[0m \u001b[1m52s\u001b[0m 1ms/step - loss: 6.1384e-05 - mae: 0.0050 - val_loss: 0.0035 - val_mae: 0.0193\n",
      "Epoch 13/20\n",
      "\u001b[1m43759/43759\u001b[0m \u001b[32m━━━━━━━━━━━━━━━━━━━━\u001b[0m\u001b[37m\u001b[0m \u001b[1m52s\u001b[0m 1ms/step - loss: 5.9997e-05 - mae: 0.0049 - val_loss: 0.0033 - val_mae: 0.0178\n",
      "Epoch 14/20\n",
      "\u001b[1m43759/43759\u001b[0m \u001b[32m━━━━━━━━━━━━━━━━━━━━\u001b[0m\u001b[37m\u001b[0m \u001b[1m52s\u001b[0m 1ms/step - loss: 5.9296e-05 - mae: 0.0048 - val_loss: 0.0032 - val_mae: 0.0179\n",
      "Epoch 15/20\n",
      "\u001b[1m43759/43759\u001b[0m \u001b[32m━━━━━━━━━━━━━━━━━━━━\u001b[0m\u001b[37m\u001b[0m \u001b[1m52s\u001b[0m 1ms/step - loss: 5.6255e-05 - mae: 0.0048 - val_loss: 0.0032 - val_mae: 0.0176\n",
      "Epoch 16/20\n",
      "\u001b[1m43759/43759\u001b[0m \u001b[32m━━━━━━━━━━━━━━━━━━━━\u001b[0m\u001b[37m\u001b[0m \u001b[1m53s\u001b[0m 1ms/step - loss: 5.5563e-05 - mae: 0.0047 - val_loss: 0.0031 - val_mae: 0.0183\n",
      "Epoch 17/20\n",
      "\u001b[1m43759/43759\u001b[0m \u001b[32m━━━━━━━━━━━━━━━━━━━━\u001b[0m\u001b[37m\u001b[0m \u001b[1m53s\u001b[0m 1ms/step - loss: 5.3433e-05 - mae: 0.0047 - val_loss: 0.0029 - val_mae: 0.0170\n",
      "Epoch 18/20\n",
      "\u001b[1m43759/43759\u001b[0m \u001b[32m━━━━━━━━━━━━━━━━━━━━\u001b[0m\u001b[37m\u001b[0m \u001b[1m54s\u001b[0m 1ms/step - loss: 5.2520e-05 - mae: 0.0046 - val_loss: 0.0028 - val_mae: 0.0163\n",
      "Epoch 19/20\n",
      "\u001b[1m43759/43759\u001b[0m \u001b[32m━━━━━━━━━━━━━━━━━━━━\u001b[0m\u001b[37m\u001b[0m \u001b[1m54s\u001b[0m 1ms/step - loss: 5.2891e-05 - mae: 0.0046 - val_loss: 0.0028 - val_mae: 0.0175\n",
      "Epoch 20/20\n",
      "\u001b[1m43759/43759\u001b[0m \u001b[32m━━━━━━━━━━━━━━━━━━━━\u001b[0m\u001b[37m\u001b[0m \u001b[1m52s\u001b[0m 1ms/step - loss: 5.0413e-05 - mae: 0.0045 - val_loss: 0.0026 - val_mae: 0.0156\n",
      "\u001b[1m5470/5470\u001b[0m \u001b[32m━━━━━━━━━━━━━━━━━━━━\u001b[0m\u001b[37m\u001b[0m \u001b[1m3s\u001b[0m 511us/step - loss: 1.8527e-04 - mae: 0.0052\n",
      "MAE: 0.01564505, Loss: 0.00258886\n"
     ]
    },
    {
     "data": {
      "text/plain": [
       "<Sequential name=sequential_2, built=True>"
      ]
     },
     "execution_count": 81,
     "metadata": {},
     "output_type": "execute_result"
    },
    {
     "data": {
      "image/png": "[encoded data removed]",
      "text/plain": [
       "<Figure size 864x360 with 1 Axes>"
      ]
     },
     "metadata": {
      "needs_background": "light"
     },
     "output_type": "display_data"
    }
   ],
   "source": [
    "model = LSTM_model(X_train_seq, y_train_seq, window_size=10, train_size=0.8, epochs=20)\n",
    "model"
   ]
  },
  {
   "cell_type": "code",
   "execution_count": 82,
   "id": "20b53160-ac82-4af0-9943-a8d1c0d55a55",
   "metadata": {},
   "outputs": [
    {
     "data": {
      "text/html": [
       "<pre style=\"white-space:pre;overflow-x:auto;line-height:normal;font-family:Menlo,'DejaVu Sans Mono',consolas,'Courier New',monospace\"><span style=\"font-weight: bold\">Model: \"sequential_2\"</span>\n",
       "</pre>\n"
      ],
      "text/plain": [
       "\u001b[1mModel: \"sequential_2\"\u001b[0m\n"
      ]
     },
     "metadata": {},
     "output_type": "display_data"
    },
    {
     "data": {
      "text/html": [
       "<pre style=\"white-space:pre;overflow-x:auto;line-height:normal;font-family:Menlo,'DejaVu Sans Mono',consolas,'Courier New',monospace\">┏━━━━━━━━━━━━━━━━━━━━━━━━━━━━━━━━━┳━━━━━━━━━━━━━━━━━━━━━━━━┳━━━━━━━━━━━━━━━┓\n",
       "┃<span style=\"font-weight: bold\"> Layer (type)                    </span>┃<span style=\"font-weight: bold\"> Output Shape           </span>┃<span style=\"font-weight: bold\">       Param # </span>┃\n",
       "┡━━━━━━━━━━━━━━━━━━━━━━━━━━━━━━━━━╇━━━━━━━━━━━━━━━━━━━━━━━━╇━━━━━━━━━━━━━━━┩\n",
       "│ lstm_2 (<span style=\"color: #0087ff; text-decoration-color: #0087ff\">LSTM</span>)                   │ (<span style=\"color: #00d7ff; text-decoration-color: #00d7ff\">None</span>, <span style=\"color: #00af00; text-decoration-color: #00af00\">32</span>)             │         <span style=\"color: #00af00; text-decoration-color: #00af00\">5,632</span> │\n",
       "├─────────────────────────────────┼────────────────────────┼───────────────┤\n",
       "│ dense_4 (<span style=\"color: #0087ff; text-decoration-color: #0087ff\">Dense</span>)                 │ (<span style=\"color: #00d7ff; text-decoration-color: #00d7ff\">None</span>, <span style=\"color: #00af00; text-decoration-color: #00af00\">32</span>)             │         <span style=\"color: #00af00; text-decoration-color: #00af00\">1,056</span> │\n",
       "├─────────────────────────────────┼────────────────────────┼───────────────┤\n",
       "│ dense_5 (<span style=\"color: #0087ff; text-decoration-color: #0087ff\">Dense</span>)                 │ (<span style=\"color: #00d7ff; text-decoration-color: #00d7ff\">None</span>, <span style=\"color: #00af00; text-decoration-color: #00af00\">1</span>)              │            <span style=\"color: #00af00; text-decoration-color: #00af00\">33</span> │\n",
       "└─────────────────────────────────┴────────────────────────┴───────────────┘\n",
       "</pre>\n"
      ],
      "text/plain": [
       "┏━━━━━━━━━━━━━━━━━━━━━━━━━━━━━━━━━┳━━━━━━━━━━━━━━━━━━━━━━━━┳━━━━━━━━━━━━━━━┓\n",
       "┃\u001b[1m \u001b[0m\u001b[1mLayer (type)                   \u001b[0m\u001b[1m \u001b[0m┃\u001b[1m \u001b[0m\u001b[1mOutput Shape          \u001b[0m\u001b[1m \u001b[0m┃\u001b[1m \u001b[0m\u001b[1m      Param #\u001b[0m\u001b[1m \u001b[0m┃\n",
       "┡━━━━━━━━━━━━━━━━━━━━━━━━━━━━━━━━━╇━━━━━━━━━━━━━━━━━━━━━━━━╇━━━━━━━━━━━━━━━┩\n",
       "│ lstm_2 (\u001b[38;5;33mLSTM\u001b[0m)                   │ (\u001b[38;5;45mNone\u001b[0m, \u001b[38;5;34m32\u001b[0m)             │         \u001b[38;5;34m5,632\u001b[0m │\n",
       "├─────────────────────────────────┼────────────────────────┼───────────────┤\n",
       "│ dense_4 (\u001b[38;5;33mDense\u001b[0m)                 │ (\u001b[38;5;45mNone\u001b[0m, \u001b[38;5;34m32\u001b[0m)             │         \u001b[38;5;34m1,056\u001b[0m │\n",
       "├─────────────────────────────────┼────────────────────────┼───────────────┤\n",
       "│ dense_5 (\u001b[38;5;33mDense\u001b[0m)                 │ (\u001b[38;5;45mNone\u001b[0m, \u001b[38;5;34m1\u001b[0m)              │            \u001b[38;5;34m33\u001b[0m │\n",
       "└─────────────────────────────────┴────────────────────────┴───────────────┘\n"
      ]
     },
     "metadata": {},
     "output_type": "display_data"
    },
    {
     "data": {
      "text/html": [
       "<pre style=\"white-space:pre;overflow-x:auto;line-height:normal;font-family:Menlo,'DejaVu Sans Mono',consolas,'Courier New',monospace\"><span style=\"font-weight: bold\"> Total params: </span><span style=\"color: #00af00; text-decoration-color: #00af00\">20,165</span> (78.77 KB)\n",
       "</pre>\n"
      ],
      "text/plain": [
       "\u001b[1m Total params: \u001b[0m\u001b[38;5;34m20,165\u001b[0m (78.77 KB)\n"
      ]
     },
     "metadata": {},
     "output_type": "display_data"
    },
    {
     "data": {
      "text/html": [
       "<pre style=\"white-space:pre;overflow-x:auto;line-height:normal;font-family:Menlo,'DejaVu Sans Mono',consolas,'Courier New',monospace\"><span style=\"font-weight: bold\"> Trainable params: </span><span style=\"color: #00af00; text-decoration-color: #00af00\">6,721</span> (26.25 KB)\n",
       "</pre>\n"
      ],
      "text/plain": [
       "\u001b[1m Trainable params: \u001b[0m\u001b[38;5;34m6,721\u001b[0m (26.25 KB)\n"
      ]
     },
     "metadata": {},
     "output_type": "display_data"
    },
    {
     "data": {
      "text/html": [
       "<pre style=\"white-space:pre;overflow-x:auto;line-height:normal;font-family:Menlo,'DejaVu Sans Mono',consolas,'Courier New',monospace\"><span style=\"font-weight: bold\"> Non-trainable params: </span><span style=\"color: #00af00; text-decoration-color: #00af00\">0</span> (0.00 B)\n",
       "</pre>\n"
      ],
      "text/plain": [
       "\u001b[1m Non-trainable params: \u001b[0m\u001b[38;5;34m0\u001b[0m (0.00 B)\n"
      ]
     },
     "metadata": {},
     "output_type": "display_data"
    },
    {
     "data": {
      "text/html": [
       "<pre style=\"white-space:pre;overflow-x:auto;line-height:normal;font-family:Menlo,'DejaVu Sans Mono',consolas,'Courier New',monospace\"><span style=\"font-weight: bold\"> Optimizer params: </span><span style=\"color: #00af00; text-decoration-color: #00af00\">13,444</span> (52.52 KB)\n",
       "</pre>\n"
      ],
      "text/plain": [
       "\u001b[1m Optimizer params: \u001b[0m\u001b[38;5;34m13,444\u001b[0m (52.52 KB)\n"
      ]
     },
     "metadata": {},
     "output_type": "display_data"
    }
   ],
   "source": [
    "model.summary()"
   ]
  },
  {
   "cell_type": "markdown",
   "id": "a55860b1-0ba9-497d-b837-be63a261b692",
   "metadata": {
    "jp-MarkdownHeadingCollapsed": true
   },
   "source": [
    "### Avaliação "
   ]
  },
  {
   "cell_type": "code",
   "execution_count": 83,
   "id": "2ade76c2-7dc0-4042-bfb1-f59ec2563e36",
   "metadata": {},
   "outputs": [],
   "source": [
    "def plot_error_histogram(y_pred, y_test):\n",
    "    # Erro é o predito menos o real\n",
    "    error = y_pred - y_test\n",
    "\n",
    "    # Estatísticas do erro\n",
    "    mean_error = np.mean(error)\n",
    "    std_error = np.std(error)\n",
    "    min_error = np.min(error)\n",
    "    max_error = np.max(error)\n",
    "\n",
    "    # Histograma\n",
    "    plt.hist(error, bins=50, color='blue', alpha=0.7, edgecolor='black')\n",
    "\n",
    "    # Linhas de referência\n",
    "    plt.axvline(mean_error, color='red', linestyle='dashed', linewidth=2, label=f\"Média: {mean_error:.4f}\")\n",
    "    plt.axvline(mean_error + 2*std_error, color='green', linestyle='dashed', linewidth=2, label=f'+2σ: {(mean_error + 2*std_error):.4f}')\n",
    "    plt.axvline(mean_error - 2*std_error, color='green', linestyle='dashed', linewidth=2, label=f'-2σ: {(mean_error - 2*std_error):.4f}')\n",
    "    plt.axvline(min_error, color='purple', linestyle='dashed', linewidth=2, label=f'Mínimo: {min_error:.4f}')\n",
    "    plt.axvline(max_error, color='orange', linestyle='dashed', linewidth=2, label=f'Máximo: {max_error:.4f}')\n",
    "\n",
    "    # Extras\n",
    "    plt.xlabel(\"Erro (y_pred - y_real)\")\n",
    "    plt.ylabel(\"Frequência\")\n",
    "    plt.legend()\n",
    "    plt.grid(True)\n",
    "\n",
    "    plt.show()"
   ]
  },
  {
   "cell_type": "code",
   "execution_count": 84,
   "id": "cad65e16-858e-4868-8e6e-6b9a1939c4e8",
   "metadata": {},
   "outputs": [
    {
     "name": "stdout",
     "output_type": "stream",
     "text": [
      "\u001b[1m6824/6824\u001b[0m \u001b[32m━━━━━━━━━━━━━━━━━━━━\u001b[0m\u001b[37m\u001b[0m \u001b[1m3s\u001b[0m 491us/step\n"
     ]
    },
    {
     "data": {
      "image/png": "[encoded data removed]",
      "text/plain": [
       "<Figure size 432x288 with 1 Axes>"
      ]
     },
     "metadata": {
      "needs_background": "light"
     },
     "output_type": "display_data"
    }
   ],
   "source": [
    "prediction = model.predict(X_test_seq)\n",
    "y_pred_seq = prediction.reshape(1,-1)[0]\n",
    "\n",
    "plot_error_histogram(y_pred_seq, y_test_seq)"
   ]
  },
  {
   "cell_type": "code",
   "execution_count": 85,
   "id": "9a79deb5-0e52-4127-bf11-2ce545283280",
   "metadata": {},
   "outputs": [
    {
     "data": {
      "text/plain": [
       "(array([1.69160e+04, 9.83800e+03, 1.45340e+04, 2.03170e+04, 2.47150e+04,\n",
       "        3.46540e+04, 5.96600e+04, 2.71729e+05, 2.36076e+05, 1.57940e+05,\n",
       "        8.24450e+04, 4.99130e+04, 3.17360e+04, 2.14710e+04, 1.65480e+04,\n",
       "        1.29050e+04, 9.42700e+03, 7.06400e+03, 5.20500e+03, 3.79100e+03,\n",
       "        2.72600e+03, 1.80100e+03, 1.16600e+03, 9.03000e+02, 5.29000e+02,\n",
       "        4.28000e+02, 1.71000e+02, 5.80000e+01, 3.80000e+01, 8.90000e+01]),\n",
       " array([-87.9       , -76.65333333, -65.40666667, -54.16      ,\n",
       "        -42.91333333, -31.66666667, -20.42      ,  -9.17333333,\n",
       "          2.07333333,  13.32      ,  24.56666667,  35.81333333,\n",
       "         47.06      ,  58.30666667,  69.55333333,  80.8       ,\n",
       "         92.04666667, 103.29333333, 114.54      , 125.78666667,\n",
       "        137.03333333, 148.28      , 159.52666667, 170.77333333,\n",
       "        182.02      , 193.26666667, 204.51333333, 215.76      ,\n",
       "        227.00666667, 238.25333333, 249.5       ]),\n",
       " <BarContainer object of 30 artists>)"
      ]
     },
     "execution_count": 85,
     "metadata": {},
     "output_type": "execute_result"
    },
    {
     "data": {
      "image/png": "[encoded data removed]",
      "text/plain": [
       "<Figure size 432x288 with 1 Axes>"
      ]
     },
     "metadata": {
      "needs_background": "light"
     },
     "output_type": "display_data"
    }
   ],
   "source": [
    "plt.hist(trips['Motor Torque [Nm]'], bins=30, color='blue', alpha=0.7, edgecolor='black')"
   ]
  },
  {
   "cell_type": "markdown",
   "id": "3274aa18-9d74-48cf-9281-7bce1680476c",
   "metadata": {
    "jp-MarkdownHeadingCollapsed": true
   },
   "source": [
    "## Modelo Torque e Throttle"
   ]
  },
  {
   "cell_type": "markdown",
   "id": "3bca5c6b-81a3-4aaa-a9f3-d5d4bdfcda0e",
   "metadata": {
    "jp-MarkdownHeadingCollapsed": true
   },
   "source": [
    "### General Functions"
   ]
  },
  {
   "cell_type": "code",
   "execution_count": 2,
   "id": "33d41740-00de-4d25-9d71-405f20d96155",
   "metadata": {},
   "outputs": [],
   "source": [
    "!export TF_ENABLE_ONEDNN_OPTS=0"
   ]
  },
  {
   "cell_type": "code",
   "execution_count": 43,
   "id": "bbac56d9-b281-44f1-a64f-396b558016e0",
   "metadata": {},
   "outputs": [],
   "source": [
    "import os\n",
    "import pandas as pd\n",
    "import numpy as np\n",
    "import matplotlib.pyplot as plt\n",
    "\n",
    "from sklearn.preprocessing import MinMaxScaler\n",
    "\n",
    "from tensorflow.keras.models import Sequential\n",
    "from tensorflow.keras import Input\n",
    "from tensorflow.keras.layers import LSTM, Dense, Dropout\n",
    "from tensorflow.keras.optimizers import Adam\n",
    "\n",
    "from IPython.display import display\n",
    "\n",
    "\n",
    "WINDOW_SIZE = 10"
   ]
  },
  {
   "cell_type": "code",
   "execution_count": 4,
   "id": "a6272123-1528-4573-8103-201d49d15b17",
   "metadata": {},
   "outputs": [
    {
     "data": {
      "text/plain": [
       "(1094793, 9)"
      ]
     },
     "execution_count": 4,
     "metadata": {},
     "output_type": "execute_result"
    }
   ],
   "source": [
    "directory = \"./data/ieee/\"\n",
    "files = os.listdir(directory)\n",
    "files.sort()\n",
    "\n",
    "trips = []\n",
    "for file in files:\n",
    "    trip = pd.read_csv(directory + file, sep=\";\", encoding='unicode_escape')\n",
    "    trip = trip.sort_values(by='Time [s]')\n",
    "    trip['Trip'] = file.split(\".\")[0]\n",
    "    if 'Velocity [km/h]]]' in trip.columns:\n",
    "        trip = trip.rename(columns={'Velocity [km/h]]]': 'Velocity [km/h]'})\n",
    "    trips.append(trip)\n",
    "\n",
    "# Mapa (elet - comb):\n",
    "# 'Ambient Temperature [°C]': 'Veh_ambient_temp_ECM',\n",
    "# 'Cabin Temperature Sensor [°C]': 'HVAC_pass_compartment_air_temp_filt_HVAC',\n",
    "# 'Heat Exchanger Temperature [°C]': 'HVAC_heater_core_coolant_temp_sensor_HVAC',\n",
    "# 'Longitudinal Acceleration [m/s^2]': 'ActVehAccel',\n",
    "# 'Throttle [%]': 'Eng_throttle_pos_ECM',\n",
    "# 'Velocity [km/h]': 'VehSpdAvgDrvn'\n",
    "colunas_selecionadas = [\n",
    "    'Ambient Temperature [°C]',\n",
    "    'Cabin Temperature Sensor [°C]',\n",
    "    'Heat Exchanger Temperature [°C]',\n",
    "    'Longitudinal Acceleration [m/s^2]',\n",
    "    'Throttle [%]',\n",
    "    'Velocity [km/h]',\n",
    "    'Motor Torque [Nm]',\n",
    "    'Time [s]',\n",
    "    'Trip'\n",
    "]\n",
    "\n",
    "\n",
    "trips = pd.concat(trips)\n",
    "trips = trips[colunas_selecionadas]\n",
    "trips.shape"
   ]
  },
  {
   "cell_type": "code",
   "execution_count": 5,
   "id": "49f7d7e9-9f4c-4778-a50a-517523476c06",
   "metadata": {},
   "outputs": [],
   "source": [
    "def normalize(data, label):\n",
    "    # Estou deixando 'Time [s]' no X pq os intervalos de tempo não são regulares\n",
    "    columns = ['Trip', 'Throttle [%]', 'Motor Torque [Nm]']\n",
    "    \n",
    "    X = data.drop(columns=columns)\n",
    "    y = data[label].values\n",
    "    \n",
    "    scaler_X = MinMaxScaler()\n",
    "    scaler_y = MinMaxScaler()\n",
    "    \n",
    "    X_scaled = scaler_X.fit_transform(X.values)\n",
    "    y_scaled = scaler_y.fit_transform(y.reshape(-1, 1))\n",
    "    \n",
    "    X_scaled = pd.DataFrame(\n",
    "        X_scaled,\n",
    "        columns=X.columns,\n",
    "        index=X.index\n",
    "    )\n",
    "    X_scaled['Trip'] = data['Trip']\n",
    "    \n",
    "    scaled_dataset = X_scaled\n",
    "    scaled_dataset[label] = y_scaled\n",
    "\n",
    "    return scaled_dataset, scaler_X, scaler_y"
   ]
  },
  {
   "cell_type": "code",
   "execution_count": 6,
   "id": "3499ee51-6e43-4b19-a1f7-d64d834d89ee",
   "metadata": {},
   "outputs": [],
   "source": [
    "def time_series_train_test_split(dataset, label, train_size=0.8):\n",
    "    X_trains, X_tests, y_trains, y_tests = [], [], [], []    \n",
    "    \n",
    "    for trip in dataset['Trip'].unique():\n",
    "        data_slice = dataset[dataset['Trip'] == trip]\n",
    "        size = int(len(data_slice) * train_size)\n",
    "    \n",
    "        X_trains.append(data_slice.drop(columns=[label]).iloc[:size, :])\n",
    "        X_tests.append(data_slice.drop(columns=[label]).iloc[size:, :])\n",
    "        \n",
    "        y_trains.append(data_slice[label].iloc[:size])\n",
    "        y_tests.append(data_slice[label].iloc[size:])\n",
    "    \n",
    "    return pd.concat(X_trains), pd.concat(X_tests), pd.concat(y_trains), pd.concat(y_tests)"
   ]
  },
  {
   "cell_type": "code",
   "execution_count": 7,
   "id": "2dc2a616-6009-4497-bd54-5f1b0fbb8128",
   "metadata": {},
   "outputs": [],
   "source": [
    "def create_seq(X, y, window_size=10):\n",
    "    X_seq, y_seq = [], []\n",
    "    \n",
    "    for i in range(window_size, len(X)):\n",
    "        data_slice = X.iloc[i-window_size:i, :]\n",
    "\n",
    "        # Se tiver mais de uma trip na mesma janela, eu não adiciono no conjunto de dados\n",
    "        if len(data_slice['Trip'].unique()) == 1:\n",
    "            X_seq.append(data_slice.drop(columns=['Trip']).values)\n",
    "            y_seq.append(y[i])\n",
    "        \n",
    "    return np.array(X_seq), np.array(y_seq)"
   ]
  },
  {
   "cell_type": "code",
   "execution_count": 8,
   "id": "df536779-f093-4c2d-8f04-67e44779aa53",
   "metadata": {},
   "outputs": [],
   "source": [
    "def LSTM_model(X_seq, y_seq, train_size=0.8, epochs=10, batch_size=16):\n",
    "    # Divisão de treino e validação com 80% para treino e 20% para validação\n",
    "    train_size = int(len(X_seq) * train_size)\n",
    "    X_train, X_test = X_seq[:train_size], X_seq[train_size:]\n",
    "    y_train, y_test = y_seq[:train_size], y_seq[train_size:]\n",
    "\n",
    "\n",
    "    # Criando e treinando o modelo\n",
    "    model = Sequential()\n",
    "    model.add(Input(shape=(X_train.shape[1], X_train.shape[2])))\n",
    "    model.add(LSTM(32, activation='tanh'))\n",
    "    model.add(Dense(32, activation='relu'))\n",
    "    model.add(Dense(1))\n",
    "\n",
    "    model.compile(optimizer='adam', loss='mse', metrics=['mae'])\n",
    "\n",
    "    history = model.fit(X_train, y_train, validation_data=(X_test, y_test), epochs=epochs, batch_size=batch_size)\n",
    "\n",
    "\n",
    "    # Imprimindo a avaliação\n",
    "    plt.figure(figsize=(12, 5))\n",
    "    plt.subplot(1, 2, 1)\n",
    "    plt.plot(history.history['loss'], label='Train Loss')\n",
    "    plt.plot(history.history['val_loss'], label='Validation Loss')\n",
    "    plt.xlabel('Épocas')\n",
    "    plt.ylabel('Loss (MSE)')\n",
    "    plt.legend()\n",
    "    plt.grid()\n",
    "\n",
    "    loss, mae = model.evaluate(X_test, y_test)\n",
    "    print(f\"MAE: {mae:.8f}, Loss: {loss:.8f}\")\n",
    "\n",
    "    return model"
   ]
  },
  {
   "cell_type": "code",
   "execution_count": 9,
   "id": "69ab7326-6e86-4fd6-a647-d53ae4633ba6",
   "metadata": {},
   "outputs": [],
   "source": [
    "def plot_error_histogram(y_pred, y_test, bins=50, color='blue'):\n",
    "    # Erro é o predito menos o real\n",
    "    error = y_pred - y_test\n",
    "\n",
    "    # Estatísticas do erro\n",
    "    mean_error = np.mean(error)\n",
    "    std_error = np.std(error)\n",
    "    min_error = np.min(error)\n",
    "    max_error = np.max(error)\n",
    "\n",
    "    # Histograma\n",
    "    plt.hist(error, bins=bins, color=color, alpha=0.7, edgecolor='black')\n",
    "\n",
    "    # Linhas de referência\n",
    "    plt.axvline(mean_error, color='red', linestyle='dashed', linewidth=2, label=f\"Média: {mean_error:.4f}\")\n",
    "    plt.axvline(mean_error + 2*std_error, color='green', linestyle='dashed', linewidth=2, label=f'+2σ: {(mean_error + 2*std_error):.4f}')\n",
    "    plt.axvline(mean_error - 2*std_error, color='green', linestyle='dashed', linewidth=2, label=f'-2σ: {(mean_error - 2*std_error):.4f}')\n",
    "    plt.axvline(min_error, color='purple', linestyle='dashed', linewidth=2, label=f'Mínimo: {min_error:.4f}')\n",
    "    plt.axvline(max_error, color='orange', linestyle='dashed', linewidth=2, label=f'Máximo: {max_error:.4f}')\n",
    "\n",
    "    # Extras\n",
    "    plt.xlabel(\"Erro (y_pred - y_real)\")\n",
    "    plt.ylabel(\"Frequência\")\n",
    "    plt.legend()\n",
    "    plt.grid(True)\n",
    "\n",
    "    plt.show()"
   ]
  },
  {
   "cell_type": "markdown",
   "id": "920d6431-6da8-449d-b18d-62daee3bb365",
   "metadata": {
    "jp-MarkdownHeadingCollapsed": true
   },
   "source": [
    "### Torque"
   ]
  },
  {
   "cell_type": "code",
   "execution_count": 23,
   "id": "bb2f9a3e-efee-41f4-a74b-b720eef1b3cd",
   "metadata": {},
   "outputs": [
    {
     "data": {
      "text/html": [
       "<div>\n",
       "<style scoped>\n",
       "    .dataframe tbody tr th:only-of-type {\n",
       "        vertical-align: middle;\n",
       "    }\n",
       "\n",
       "    .dataframe tbody tr th {\n",
       "        vertical-align: top;\n",
       "    }\n",
       "\n",
       "    .dataframe thead th {\n",
       "        text-align: right;\n",
       "    }\n",
       "</style>\n",
       "<table border=\"1\" class=\"dataframe\">\n",
       "  <thead>\n",
       "    <tr style=\"text-align: right;\">\n",
       "      <th></th>\n",
       "      <th>Ambient Temperature [°C]</th>\n",
       "      <th>Cabin Temperature Sensor [°C]</th>\n",
       "      <th>Heat Exchanger Temperature [°C]</th>\n",
       "      <th>Longitudinal Acceleration [m/s^2]</th>\n",
       "      <th>Throttle [%]</th>\n",
       "      <th>Velocity [km/h]</th>\n",
       "      <th>Motor Torque [Nm]</th>\n",
       "      <th>Time [s]</th>\n",
       "      <th>Trip</th>\n",
       "    </tr>\n",
       "  </thead>\n",
       "  <tbody>\n",
       "    <tr>\n",
       "      <th>0</th>\n",
       "      <td>25.5</td>\n",
       "      <td>24.5</td>\n",
       "      <td>30.5</td>\n",
       "      <td>-0.03</td>\n",
       "      <td>0.0</td>\n",
       "      <td>0.0</td>\n",
       "      <td>0.0</td>\n",
       "      <td>0.0</td>\n",
       "      <td>TripA01</td>\n",
       "    </tr>\n",
       "    <tr>\n",
       "      <th>1</th>\n",
       "      <td>25.5</td>\n",
       "      <td>24.5</td>\n",
       "      <td>30.5</td>\n",
       "      <td>0.00</td>\n",
       "      <td>0.0</td>\n",
       "      <td>0.0</td>\n",
       "      <td>0.0</td>\n",
       "      <td>0.1</td>\n",
       "      <td>TripA01</td>\n",
       "    </tr>\n",
       "    <tr>\n",
       "      <th>2</th>\n",
       "      <td>25.5</td>\n",
       "      <td>24.5</td>\n",
       "      <td>30.5</td>\n",
       "      <td>-0.01</td>\n",
       "      <td>0.0</td>\n",
       "      <td>0.0</td>\n",
       "      <td>0.0</td>\n",
       "      <td>0.2</td>\n",
       "      <td>TripA01</td>\n",
       "    </tr>\n",
       "    <tr>\n",
       "      <th>3</th>\n",
       "      <td>25.5</td>\n",
       "      <td>24.5</td>\n",
       "      <td>30.5</td>\n",
       "      <td>-0.03</td>\n",
       "      <td>0.0</td>\n",
       "      <td>0.0</td>\n",
       "      <td>0.0</td>\n",
       "      <td>0.3</td>\n",
       "      <td>TripA01</td>\n",
       "    </tr>\n",
       "    <tr>\n",
       "      <th>4</th>\n",
       "      <td>25.5</td>\n",
       "      <td>24.5</td>\n",
       "      <td>30.5</td>\n",
       "      <td>-0.03</td>\n",
       "      <td>0.0</td>\n",
       "      <td>0.0</td>\n",
       "      <td>0.0</td>\n",
       "      <td>0.4</td>\n",
       "      <td>TripA01</td>\n",
       "    </tr>\n",
       "  </tbody>\n",
       "</table>\n",
       "</div>"
      ],
      "text/plain": [
       "   Ambient Temperature [°C]  Cabin Temperature Sensor [°C]  \\\n",
       "0                      25.5                           24.5   \n",
       "1                      25.5                           24.5   \n",
       "2                      25.5                           24.5   \n",
       "3                      25.5                           24.5   \n",
       "4                      25.5                           24.5   \n",
       "\n",
       "   Heat Exchanger Temperature [°C]  Longitudinal Acceleration [m/s^2]  \\\n",
       "0                             30.5                              -0.03   \n",
       "1                             30.5                               0.00   \n",
       "2                             30.5                              -0.01   \n",
       "3                             30.5                              -0.03   \n",
       "4                             30.5                              -0.03   \n",
       "\n",
       "   Throttle [%]  Velocity [km/h]  Motor Torque [Nm]  Time [s]     Trip  \n",
       "0           0.0              0.0                0.0       0.0  TripA01  \n",
       "1           0.0              0.0                0.0       0.1  TripA01  \n",
       "2           0.0              0.0                0.0       0.2  TripA01  \n",
       "3           0.0              0.0                0.0       0.3  TripA01  \n",
       "4           0.0              0.0                0.0       0.4  TripA01  "
      ]
     },
     "execution_count": 23,
     "metadata": {},
     "output_type": "execute_result"
    }
   ],
   "source": [
    "trips.head()"
   ]
  },
  {
   "cell_type": "code",
   "execution_count": 11,
   "id": "2bfa772c-0ada-4e16-be1c-1881b01b4a09",
   "metadata": {},
   "outputs": [
    {
     "data": {
      "text/html": [
       "<div>\n",
       "<style scoped>\n",
       "    .dataframe tbody tr th:only-of-type {\n",
       "        vertical-align: middle;\n",
       "    }\n",
       "\n",
       "    .dataframe tbody tr th {\n",
       "        vertical-align: top;\n",
       "    }\n",
       "\n",
       "    .dataframe thead th {\n",
       "        text-align: right;\n",
       "    }\n",
       "</style>\n",
       "<table border=\"1\" class=\"dataframe\">\n",
       "  <thead>\n",
       "    <tr style=\"text-align: right;\">\n",
       "      <th></th>\n",
       "      <th>Ambient Temperature [°C]</th>\n",
       "      <th>Cabin Temperature Sensor [°C]</th>\n",
       "      <th>Heat Exchanger Temperature [°C]</th>\n",
       "      <th>Longitudinal Acceleration [m/s^2]</th>\n",
       "      <th>Velocity [km/h]</th>\n",
       "      <th>Time [s]</th>\n",
       "      <th>Trip</th>\n",
       "      <th>Motor Torque [Nm]</th>\n",
       "    </tr>\n",
       "  </thead>\n",
       "  <tbody>\n",
       "    <tr>\n",
       "      <th>0</th>\n",
       "      <td>0.783784</td>\n",
       "      <td>0.485904</td>\n",
       "      <td>0.424646</td>\n",
       "      <td>0.667161</td>\n",
       "      <td>0.0</td>\n",
       "      <td>0.000000</td>\n",
       "      <td>TripA01</td>\n",
       "      <td>0.260522</td>\n",
       "    </tr>\n",
       "    <tr>\n",
       "      <th>1</th>\n",
       "      <td>0.783784</td>\n",
       "      <td>0.485904</td>\n",
       "      <td>0.424646</td>\n",
       "      <td>0.669385</td>\n",
       "      <td>0.0</td>\n",
       "      <td>0.000018</td>\n",
       "      <td>TripA01</td>\n",
       "      <td>0.260522</td>\n",
       "    </tr>\n",
       "    <tr>\n",
       "      <th>2</th>\n",
       "      <td>0.783784</td>\n",
       "      <td>0.485904</td>\n",
       "      <td>0.424646</td>\n",
       "      <td>0.668643</td>\n",
       "      <td>0.0</td>\n",
       "      <td>0.000036</td>\n",
       "      <td>TripA01</td>\n",
       "      <td>0.260522</td>\n",
       "    </tr>\n",
       "    <tr>\n",
       "      <th>3</th>\n",
       "      <td>0.783784</td>\n",
       "      <td>0.485904</td>\n",
       "      <td>0.424646</td>\n",
       "      <td>0.667161</td>\n",
       "      <td>0.0</td>\n",
       "      <td>0.000053</td>\n",
       "      <td>TripA01</td>\n",
       "      <td>0.260522</td>\n",
       "    </tr>\n",
       "    <tr>\n",
       "      <th>4</th>\n",
       "      <td>0.783784</td>\n",
       "      <td>0.485904</td>\n",
       "      <td>0.424646</td>\n",
       "      <td>0.667161</td>\n",
       "      <td>0.0</td>\n",
       "      <td>0.000071</td>\n",
       "      <td>TripA01</td>\n",
       "      <td>0.260522</td>\n",
       "    </tr>\n",
       "  </tbody>\n",
       "</table>\n",
       "</div>"
      ],
      "text/plain": [
       "   Ambient Temperature [°C]  Cabin Temperature Sensor [°C]  \\\n",
       "0                  0.783784                       0.485904   \n",
       "1                  0.783784                       0.485904   \n",
       "2                  0.783784                       0.485904   \n",
       "3                  0.783784                       0.485904   \n",
       "4                  0.783784                       0.485904   \n",
       "\n",
       "   Heat Exchanger Temperature [°C]  Longitudinal Acceleration [m/s^2]  \\\n",
       "0                         0.424646                           0.667161   \n",
       "1                         0.424646                           0.669385   \n",
       "2                         0.424646                           0.668643   \n",
       "3                         0.424646                           0.667161   \n",
       "4                         0.424646                           0.667161   \n",
       "\n",
       "   Velocity [km/h]  Time [s]     Trip  Motor Torque [Nm]  \n",
       "0              0.0  0.000000  TripA01           0.260522  \n",
       "1              0.0  0.000018  TripA01           0.260522  \n",
       "2              0.0  0.000036  TripA01           0.260522  \n",
       "3              0.0  0.000053  TripA01           0.260522  \n",
       "4              0.0  0.000071  TripA01           0.260522  "
      ]
     },
     "execution_count": 11,
     "metadata": {},
     "output_type": "execute_result"
    }
   ],
   "source": [
    "torque_scaled_dataset, torque_X_scaler, torque_y_scaler = normalize(trips, 'Motor Torque [Nm]')\n",
    "torque_scaled_dataset.head()"
   ]
  },
  {
   "cell_type": "code",
   "execution_count": 12,
   "id": "e1168ce1-3664-404c-99f5-324984b7a086",
   "metadata": {},
   "outputs": [
    {
     "name": "stdout",
     "output_type": "stream",
     "text": [
      "\n",
      "torque_X_train: (875810, 7)\n"
     ]
    },
    {
     "data": {
      "text/html": [
       "<div>\n",
       "<style scoped>\n",
       "    .dataframe tbody tr th:only-of-type {\n",
       "        vertical-align: middle;\n",
       "    }\n",
       "\n",
       "    .dataframe tbody tr th {\n",
       "        vertical-align: top;\n",
       "    }\n",
       "\n",
       "    .dataframe thead th {\n",
       "        text-align: right;\n",
       "    }\n",
       "</style>\n",
       "<table border=\"1\" class=\"dataframe\">\n",
       "  <thead>\n",
       "    <tr style=\"text-align: right;\">\n",
       "      <th></th>\n",
       "      <th>Ambient Temperature [°C]</th>\n",
       "      <th>Cabin Temperature Sensor [°C]</th>\n",
       "      <th>Heat Exchanger Temperature [°C]</th>\n",
       "      <th>Longitudinal Acceleration [m/s^2]</th>\n",
       "      <th>Velocity [km/h]</th>\n",
       "      <th>Time [s]</th>\n",
       "      <th>Trip</th>\n",
       "    </tr>\n",
       "  </thead>\n",
       "  <tbody>\n",
       "    <tr>\n",
       "      <th>0</th>\n",
       "      <td>0.783784</td>\n",
       "      <td>0.485904</td>\n",
       "      <td>0.424646</td>\n",
       "      <td>0.667161</td>\n",
       "      <td>0.0</td>\n",
       "      <td>0.000000</td>\n",
       "      <td>TripA01</td>\n",
       "    </tr>\n",
       "    <tr>\n",
       "      <th>1</th>\n",
       "      <td>0.783784</td>\n",
       "      <td>0.485904</td>\n",
       "      <td>0.424646</td>\n",
       "      <td>0.669385</td>\n",
       "      <td>0.0</td>\n",
       "      <td>0.000018</td>\n",
       "      <td>TripA01</td>\n",
       "    </tr>\n",
       "    <tr>\n",
       "      <th>2</th>\n",
       "      <td>0.783784</td>\n",
       "      <td>0.485904</td>\n",
       "      <td>0.424646</td>\n",
       "      <td>0.668643</td>\n",
       "      <td>0.0</td>\n",
       "      <td>0.000036</td>\n",
       "      <td>TripA01</td>\n",
       "    </tr>\n",
       "    <tr>\n",
       "      <th>3</th>\n",
       "      <td>0.783784</td>\n",
       "      <td>0.485904</td>\n",
       "      <td>0.424646</td>\n",
       "      <td>0.667161</td>\n",
       "      <td>0.0</td>\n",
       "      <td>0.000053</td>\n",
       "      <td>TripA01</td>\n",
       "    </tr>\n",
       "    <tr>\n",
       "      <th>4</th>\n",
       "      <td>0.783784</td>\n",
       "      <td>0.485904</td>\n",
       "      <td>0.424646</td>\n",
       "      <td>0.667161</td>\n",
       "      <td>0.0</td>\n",
       "      <td>0.000071</td>\n",
       "      <td>TripA01</td>\n",
       "    </tr>\n",
       "  </tbody>\n",
       "</table>\n",
       "</div>"
      ],
      "text/plain": [
       "   Ambient Temperature [°C]  Cabin Temperature Sensor [°C]  \\\n",
       "0                  0.783784                       0.485904   \n",
       "1                  0.783784                       0.485904   \n",
       "2                  0.783784                       0.485904   \n",
       "3                  0.783784                       0.485904   \n",
       "4                  0.783784                       0.485904   \n",
       "\n",
       "   Heat Exchanger Temperature [°C]  Longitudinal Acceleration [m/s^2]  \\\n",
       "0                         0.424646                           0.667161   \n",
       "1                         0.424646                           0.669385   \n",
       "2                         0.424646                           0.668643   \n",
       "3                         0.424646                           0.667161   \n",
       "4                         0.424646                           0.667161   \n",
       "\n",
       "   Velocity [km/h]  Time [s]     Trip  \n",
       "0              0.0  0.000000  TripA01  \n",
       "1              0.0  0.000018  TripA01  \n",
       "2              0.0  0.000036  TripA01  \n",
       "3              0.0  0.000053  TripA01  \n",
       "4              0.0  0.000071  TripA01  "
      ]
     },
     "metadata": {},
     "output_type": "display_data"
    },
    {
     "name": "stdout",
     "output_type": "stream",
     "text": [
      "\n",
      "torque_X_test: (218983, 7)\n"
     ]
    },
    {
     "data": {
      "text/html": [
       "<div>\n",
       "<style scoped>\n",
       "    .dataframe tbody tr th:only-of-type {\n",
       "        vertical-align: middle;\n",
       "    }\n",
       "\n",
       "    .dataframe tbody tr th {\n",
       "        vertical-align: top;\n",
       "    }\n",
       "\n",
       "    .dataframe thead th {\n",
       "        text-align: right;\n",
       "    }\n",
       "</style>\n",
       "<table border=\"1\" class=\"dataframe\">\n",
       "  <thead>\n",
       "    <tr style=\"text-align: right;\">\n",
       "      <th></th>\n",
       "      <th>Ambient Temperature [°C]</th>\n",
       "      <th>Cabin Temperature Sensor [°C]</th>\n",
       "      <th>Heat Exchanger Temperature [°C]</th>\n",
       "      <th>Longitudinal Acceleration [m/s^2]</th>\n",
       "      <th>Velocity [km/h]</th>\n",
       "      <th>Time [s]</th>\n",
       "      <th>Trip</th>\n",
       "    </tr>\n",
       "  </thead>\n",
       "  <tbody>\n",
       "    <tr>\n",
       "      <th>8072</th>\n",
       "      <td>0.959459</td>\n",
       "      <td>0.413521</td>\n",
       "      <td>0.0</td>\n",
       "      <td>0.676798</td>\n",
       "      <td>0.001773</td>\n",
       "      <td>0.143883</td>\n",
       "      <td>TripA01</td>\n",
       "    </tr>\n",
       "    <tr>\n",
       "      <th>8073</th>\n",
       "      <td>0.959459</td>\n",
       "      <td>0.413521</td>\n",
       "      <td>0.0</td>\n",
       "      <td>0.633803</td>\n",
       "      <td>0.001314</td>\n",
       "      <td>0.143901</td>\n",
       "      <td>TripA01</td>\n",
       "    </tr>\n",
       "    <tr>\n",
       "      <th>8074</th>\n",
       "      <td>0.959459</td>\n",
       "      <td>0.413521</td>\n",
       "      <td>0.0</td>\n",
       "      <td>0.624166</td>\n",
       "      <td>0.001117</td>\n",
       "      <td>0.143919</td>\n",
       "      <td>TripA01</td>\n",
       "    </tr>\n",
       "    <tr>\n",
       "      <th>8075</th>\n",
       "      <td>0.959459</td>\n",
       "      <td>0.413521</td>\n",
       "      <td>0.0</td>\n",
       "      <td>0.643440</td>\n",
       "      <td>0.000854</td>\n",
       "      <td>0.143937</td>\n",
       "      <td>TripA01</td>\n",
       "    </tr>\n",
       "    <tr>\n",
       "      <th>8076</th>\n",
       "      <td>0.959459</td>\n",
       "      <td>0.413521</td>\n",
       "      <td>0.0</td>\n",
       "      <td>0.642698</td>\n",
       "      <td>0.000722</td>\n",
       "      <td>0.143955</td>\n",
       "      <td>TripA01</td>\n",
       "    </tr>\n",
       "  </tbody>\n",
       "</table>\n",
       "</div>"
      ],
      "text/plain": [
       "      Ambient Temperature [°C]  Cabin Temperature Sensor [°C]  \\\n",
       "8072                  0.959459                       0.413521   \n",
       "8073                  0.959459                       0.413521   \n",
       "8074                  0.959459                       0.413521   \n",
       "8075                  0.959459                       0.413521   \n",
       "8076                  0.959459                       0.413521   \n",
       "\n",
       "      Heat Exchanger Temperature [°C]  Longitudinal Acceleration [m/s^2]  \\\n",
       "8072                              0.0                           0.676798   \n",
       "8073                              0.0                           0.633803   \n",
       "8074                              0.0                           0.624166   \n",
       "8075                              0.0                           0.643440   \n",
       "8076                              0.0                           0.642698   \n",
       "\n",
       "      Velocity [km/h]  Time [s]     Trip  \n",
       "8072         0.001773  0.143883  TripA01  \n",
       "8073         0.001314  0.143901  TripA01  \n",
       "8074         0.001117  0.143919  TripA01  \n",
       "8075         0.000854  0.143937  TripA01  \n",
       "8076         0.000722  0.143955  TripA01  "
      ]
     },
     "metadata": {},
     "output_type": "display_data"
    },
    {
     "name": "stdout",
     "output_type": "stream",
     "text": [
      "\n",
      "torque_y_train: (875810,)\n"
     ]
    },
    {
     "data": {
      "text/plain": [
       "0    0.260522\n",
       "1    0.260522\n",
       "2    0.260522\n",
       "3    0.260522\n",
       "4    0.260522\n",
       "Name: Motor Torque [Nm], dtype: float64"
      ]
     },
     "metadata": {},
     "output_type": "display_data"
    },
    {
     "name": "stdout",
     "output_type": "stream",
     "text": [
      "\n",
      "torque_y_test: (218983,)\n"
     ]
    },
    {
     "data": {
      "text/plain": [
       "8072    0.236811\n",
       "8073    0.246829\n",
       "8074    0.260522\n",
       "8075    0.260522\n",
       "8076    0.260522\n",
       "Name: Motor Torque [Nm], dtype: float64"
      ]
     },
     "metadata": {},
     "output_type": "display_data"
    }
   ],
   "source": [
    "torque_X_train, torque_X_test, torque_y_train, torque_y_test = time_series_train_test_split(torque_scaled_dataset, 'Motor Torque [Nm]')\n",
    "print(f\"\\ntorque_X_train: {torque_X_train.shape}\")\n",
    "display(torque_X_train.head())\n",
    "\n",
    "print(f\"\\ntorque_X_test: {torque_X_test.shape}\")\n",
    "display(torque_X_test.head())\n",
    "\n",
    "print(f\"\\ntorque_y_train: {torque_y_train.shape}\")\n",
    "display(torque_y_train.head())\n",
    "\n",
    "print(f\"\\ntorque_y_test: {torque_y_test.shape}\")\n",
    "display(torque_y_test.head())"
   ]
  },
  {
   "cell_type": "code",
   "execution_count": 13,
   "id": "3d8303b9-fbb4-4f10-84aa-650693cec40b",
   "metadata": {},
   "outputs": [
    {
     "name": "stdout",
     "output_type": "stream",
     "text": [
      "TRAIN:\n",
      "torque_X_train_seq (875179, 10, 6)\n",
      "torque_y_train_seq (875179,)\n",
      "\n",
      "TEST:\n",
      "torque_X_test_seq (218352, 10, 6)\n",
      "torque_y_test_seq (218352,)\n"
     ]
    }
   ],
   "source": [
    "torque_X_train_seq, torque_y_train_seq = create_seq(torque_X_train, torque_y_train.values, window_size=WINDOW_SIZE)\n",
    "torque_X_test_seq, torque_y_test_seq = create_seq(torque_X_test, torque_y_test.values, window_size=WINDOW_SIZE)\n",
    "\n",
    "print(\"TRAIN:\")\n",
    "print(f\"torque_X_train_seq {torque_X_train_seq.shape}\")\n",
    "print(f\"torque_y_train_seq {torque_y_train_seq.shape}\")\n",
    "print(\"\\nTEST:\")\n",
    "print(f\"torque_X_test_seq {torque_X_test_seq.shape}\")\n",
    "print(f\"torque_y_test_seq {torque_y_test_seq.shape}\")"
   ]
  },
  {
   "cell_type": "code",
   "execution_count": 14,
   "id": "c7036bf6-1bad-47ec-ab22-179a96605d2f",
   "metadata": {},
   "outputs": [
    {
     "name": "stderr",
     "output_type": "stream",
     "text": [
      "I0000 00:00:1745860599.824556   74752 gpu_device.cc:2019] Created device /job:localhost/replica:0/task:0/device:GPU:0 with 6245 MB memory:  -> device: 0, name: NVIDIA GeForce RTX 4060 Laptop GPU, pci bus id: 0000:01:00.0, compute capability: 8.9\n"
     ]
    },
    {
     "name": "stdout",
     "output_type": "stream",
     "text": [
      "Epoch 1/20\n"
     ]
    },
    {
     "name": "stderr",
     "output_type": "stream",
     "text": [
      "I0000 00:00:1745860601.202885   75484 cuda_dnn.cc:529] Loaded cuDNN version 90300\n"
     ]
    },
    {
     "name": "stdout",
     "output_type": "stream",
     "text": [
      "\u001b[1m5470/5470\u001b[0m \u001b[32m━━━━━━━━━━━━━━━━━━━━\u001b[0m\u001b[37m\u001b[0m \u001b[1m14s\u001b[0m 2ms/step - loss: 0.0033 - mae: 0.0303 - val_loss: 6.3121e-04 - val_mae: 0.0190\n",
      "Epoch 2/20\n",
      "\u001b[1m5470/5470\u001b[0m \u001b[32m━━━━━━━━━━━━━━━━━━━━\u001b[0m\u001b[37m\u001b[0m \u001b[1m13s\u001b[0m 2ms/step - loss: 4.3048e-04 - mae: 0.0139 - val_loss: 4.4229e-04 - val_mae: 0.0142\n",
      "Epoch 3/20\n",
      "\u001b[1m5470/5470\u001b[0m \u001b[32m━━━━━━━━━━━━━━━━━━━━\u001b[0m\u001b[37m\u001b[0m \u001b[1m13s\u001b[0m 2ms/step - loss: 3.8397e-04 - mae: 0.0130 - val_loss: 4.2307e-04 - val_mae: 0.0138\n",
      "Epoch 4/20\n",
      "\u001b[1m5470/5470\u001b[0m \u001b[32m━━━━━━━━━━━━━━━━━━━━\u001b[0m\u001b[37m\u001b[0m \u001b[1m13s\u001b[0m 2ms/step - loss: 3.6093e-04 - mae: 0.0126 - val_loss: 3.8290e-04 - val_mae: 0.0124\n",
      "Epoch 5/20\n",
      "\u001b[1m5470/5470\u001b[0m \u001b[32m━━━━━━━━━━━━━━━━━━━━\u001b[0m\u001b[37m\u001b[0m \u001b[1m13s\u001b[0m 2ms/step - loss: 3.4771e-04 - mae: 0.0124 - val_loss: 3.6460e-04 - val_mae: 0.0121\n",
      "Epoch 6/20\n",
      "\u001b[1m5470/5470\u001b[0m \u001b[32m━━━━━━━━━━━━━━━━━━━━\u001b[0m\u001b[37m\u001b[0m \u001b[1m13s\u001b[0m 2ms/step - loss: 3.3455e-04 - mae: 0.0121 - val_loss: 3.7968e-04 - val_mae: 0.0132\n",
      "Epoch 7/20\n",
      "\u001b[1m5470/5470\u001b[0m \u001b[32m━━━━━━━━━━━━━━━━━━━━\u001b[0m\u001b[37m\u001b[0m \u001b[1m13s\u001b[0m 2ms/step - loss: 3.2784e-04 - mae: 0.0120 - val_loss: 4.3061e-04 - val_mae: 0.0149\n",
      "Epoch 8/20\n",
      "\u001b[1m5470/5470\u001b[0m \u001b[32m━━━━━━━━━━━━━━━━━━━━\u001b[0m\u001b[37m\u001b[0m \u001b[1m13s\u001b[0m 2ms/step - loss: 3.2141e-04 - mae: 0.0119 - val_loss: 3.3649e-04 - val_mae: 0.0118\n",
      "Epoch 9/20\n",
      "\u001b[1m5470/5470\u001b[0m \u001b[32m━━━━━━━━━━━━━━━━━━━━\u001b[0m\u001b[37m\u001b[0m \u001b[1m13s\u001b[0m 2ms/step - loss: 3.1682e-04 - mae: 0.0118 - val_loss: 3.6262e-04 - val_mae: 0.0128\n",
      "Epoch 10/20\n",
      "\u001b[1m5470/5470\u001b[0m \u001b[32m━━━━━━━━━━━━━━━━━━━━\u001b[0m\u001b[37m\u001b[0m \u001b[1m13s\u001b[0m 2ms/step - loss: 3.0887e-04 - mae: 0.0117 - val_loss: 3.5870e-04 - val_mae: 0.0129\n",
      "Epoch 11/20\n",
      "\u001b[1m5470/5470\u001b[0m \u001b[32m━━━━━━━━━━━━━━━━━━━━\u001b[0m\u001b[37m\u001b[0m \u001b[1m13s\u001b[0m 2ms/step - loss: 3.0145e-04 - mae: 0.0116 - val_loss: 3.8163e-04 - val_mae: 0.0139\n",
      "Epoch 12/20\n",
      "\u001b[1m5470/5470\u001b[0m \u001b[32m━━━━━━━━━━━━━━━━━━━━\u001b[0m\u001b[37m\u001b[0m \u001b[1m13s\u001b[0m 2ms/step - loss: 3.0205e-04 - mae: 0.0116 - val_loss: 3.5475e-04 - val_mae: 0.0124\n",
      "Epoch 13/20\n",
      "\u001b[1m5470/5470\u001b[0m \u001b[32m━━━━━━━━━━━━━━━━━━━━\u001b[0m\u001b[37m\u001b[0m \u001b[1m13s\u001b[0m 2ms/step - loss: 2.9829e-04 - mae: 0.0115 - val_loss: 3.4723e-04 - val_mae: 0.0121\n",
      "Epoch 14/20\n",
      "\u001b[1m5470/5470\u001b[0m \u001b[32m━━━━━━━━━━━━━━━━━━━━\u001b[0m\u001b[37m\u001b[0m \u001b[1m14s\u001b[0m 3ms/step - loss: 2.9278e-04 - mae: 0.0114 - val_loss: 3.5967e-04 - val_mae: 0.0122\n",
      "Epoch 15/20\n",
      "\u001b[1m5470/5470\u001b[0m \u001b[32m━━━━━━━━━━━━━━━━━━━━\u001b[0m\u001b[37m\u001b[0m \u001b[1m13s\u001b[0m 2ms/step - loss: 2.8997e-04 - mae: 0.0113 - val_loss: 4.0179e-04 - val_mae: 0.0135\n",
      "Epoch 16/20\n",
      "\u001b[1m5470/5470\u001b[0m \u001b[32m━━━━━━━━━━━━━━━━━━━━\u001b[0m\u001b[37m\u001b[0m \u001b[1m13s\u001b[0m 2ms/step - loss: 2.8620e-04 - mae: 0.0112 - val_loss: 4.1712e-04 - val_mae: 0.0135\n",
      "Epoch 17/20\n",
      "\u001b[1m5470/5470\u001b[0m \u001b[32m━━━━━━━━━━━━━━━━━━━━\u001b[0m\u001b[37m\u001b[0m \u001b[1m13s\u001b[0m 2ms/step - loss: 2.8061e-04 - mae: 0.0112 - val_loss: 4.6050e-04 - val_mae: 0.0137\n",
      "Epoch 18/20\n",
      "\u001b[1m5470/5470\u001b[0m \u001b[32m━━━━━━━━━━━━━━━━━━━━\u001b[0m\u001b[37m\u001b[0m \u001b[1m13s\u001b[0m 2ms/step - loss: 2.7806e-04 - mae: 0.0111 - val_loss: 5.3369e-04 - val_mae: 0.0139\n",
      "Epoch 19/20\n",
      "\u001b[1m5470/5470\u001b[0m \u001b[32m━━━━━━━━━━━━━━━━━━━━\u001b[0m\u001b[37m\u001b[0m \u001b[1m13s\u001b[0m 2ms/step - loss: 2.7238e-04 - mae: 0.0110 - val_loss: 4.2052e-04 - val_mae: 0.0128\n",
      "Epoch 20/20\n",
      "\u001b[1m5470/5470\u001b[0m \u001b[32m━━━━━━━━━━━━━━━━━━━━\u001b[0m\u001b[37m\u001b[0m \u001b[1m13s\u001b[0m 2ms/step - loss: 2.7088e-04 - mae: 0.0110 - val_loss: 5.0124e-04 - val_mae: 0.0132\n",
      "\u001b[1m5470/5470\u001b[0m \u001b[32m━━━━━━━━━━━━━━━━━━━━\u001b[0m\u001b[37m\u001b[0m \u001b[1m6s\u001b[0m 1ms/step - loss: 3.3788e-04 - mae: 0.0121\n",
      "MAE: 0.01327660, Loss: 0.00050220\n"
     ]
    },
    {
     "data": {
      "text/html": [
       "<pre style=\"white-space:pre;overflow-x:auto;line-height:normal;font-family:Menlo,'DejaVu Sans Mono',consolas,'Courier New',monospace\"><span style=\"font-weight: bold\">Model: \"sequential\"</span>\n",
       "</pre>\n"
      ],
      "text/plain": [
       "\u001b[1mModel: \"sequential\"\u001b[0m\n"
      ]
     },
     "metadata": {},
     "output_type": "display_data"
    },
    {
     "data": {
      "text/html": [
       "<pre style=\"white-space:pre;overflow-x:auto;line-height:normal;font-family:Menlo,'DejaVu Sans Mono',consolas,'Courier New',monospace\">┏━━━━━━━━━━━━━━━━━━━━━━━━━━━━━━━━━┳━━━━━━━━━━━━━━━━━━━━━━━━┳━━━━━━━━━━━━━━━┓\n",
       "┃<span style=\"font-weight: bold\"> Layer (type)                    </span>┃<span style=\"font-weight: bold\"> Output Shape           </span>┃<span style=\"font-weight: bold\">       Param # </span>┃\n",
       "┡━━━━━━━━━━━━━━━━━━━━━━━━━━━━━━━━━╇━━━━━━━━━━━━━━━━━━━━━━━━╇━━━━━━━━━━━━━━━┩\n",
       "│ lstm (<span style=\"color: #0087ff; text-decoration-color: #0087ff\">LSTM</span>)                     │ (<span style=\"color: #00d7ff; text-decoration-color: #00d7ff\">None</span>, <span style=\"color: #00af00; text-decoration-color: #00af00\">32</span>)             │         <span style=\"color: #00af00; text-decoration-color: #00af00\">4,992</span> │\n",
       "├─────────────────────────────────┼────────────────────────┼───────────────┤\n",
       "│ dense (<span style=\"color: #0087ff; text-decoration-color: #0087ff\">Dense</span>)                   │ (<span style=\"color: #00d7ff; text-decoration-color: #00d7ff\">None</span>, <span style=\"color: #00af00; text-decoration-color: #00af00\">32</span>)             │         <span style=\"color: #00af00; text-decoration-color: #00af00\">1,056</span> │\n",
       "├─────────────────────────────────┼────────────────────────┼───────────────┤\n",
       "│ dense_1 (<span style=\"color: #0087ff; text-decoration-color: #0087ff\">Dense</span>)                 │ (<span style=\"color: #00d7ff; text-decoration-color: #00d7ff\">None</span>, <span style=\"color: #00af00; text-decoration-color: #00af00\">1</span>)              │            <span style=\"color: #00af00; text-decoration-color: #00af00\">33</span> │\n",
       "└─────────────────────────────────┴────────────────────────┴───────────────┘\n",
       "</pre>\n"
      ],
      "text/plain": [
       "┏━━━━━━━━━━━━━━━━━━━━━━━━━━━━━━━━━┳━━━━━━━━━━━━━━━━━━━━━━━━┳━━━━━━━━━━━━━━━┓\n",
       "┃\u001b[1m \u001b[0m\u001b[1mLayer (type)                   \u001b[0m\u001b[1m \u001b[0m┃\u001b[1m \u001b[0m\u001b[1mOutput Shape          \u001b[0m\u001b[1m \u001b[0m┃\u001b[1m \u001b[0m\u001b[1m      Param #\u001b[0m\u001b[1m \u001b[0m┃\n",
       "┡━━━━━━━━━━━━━━━━━━━━━━━━━━━━━━━━━╇━━━━━━━━━━━━━━━━━━━━━━━━╇━━━━━━━━━━━━━━━┩\n",
       "│ lstm (\u001b[38;5;33mLSTM\u001b[0m)                     │ (\u001b[38;5;45mNone\u001b[0m, \u001b[38;5;34m32\u001b[0m)             │         \u001b[38;5;34m4,992\u001b[0m │\n",
       "├─────────────────────────────────┼────────────────────────┼───────────────┤\n",
       "│ dense (\u001b[38;5;33mDense\u001b[0m)                   │ (\u001b[38;5;45mNone\u001b[0m, \u001b[38;5;34m32\u001b[0m)             │         \u001b[38;5;34m1,056\u001b[0m │\n",
       "├─────────────────────────────────┼────────────────────────┼───────────────┤\n",
       "│ dense_1 (\u001b[38;5;33mDense\u001b[0m)                 │ (\u001b[38;5;45mNone\u001b[0m, \u001b[38;5;34m1\u001b[0m)              │            \u001b[38;5;34m33\u001b[0m │\n",
       "└─────────────────────────────────┴────────────────────────┴───────────────┘\n"
      ]
     },
     "metadata": {},
     "output_type": "display_data"
    },
    {
     "data": {
      "text/html": [
       "<pre style=\"white-space:pre;overflow-x:auto;line-height:normal;font-family:Menlo,'DejaVu Sans Mono',consolas,'Courier New',monospace\"><span style=\"font-weight: bold\"> Total params: </span><span style=\"color: #00af00; text-decoration-color: #00af00\">18,245</span> (71.27 KB)\n",
       "</pre>\n"
      ],
      "text/plain": [
       "\u001b[1m Total params: \u001b[0m\u001b[38;5;34m18,245\u001b[0m (71.27 KB)\n"
      ]
     },
     "metadata": {},
     "output_type": "display_data"
    },
    {
     "data": {
      "text/html": [
       "<pre style=\"white-space:pre;overflow-x:auto;line-height:normal;font-family:Menlo,'DejaVu Sans Mono',consolas,'Courier New',monospace\"><span style=\"font-weight: bold\"> Trainable params: </span><span style=\"color: #00af00; text-decoration-color: #00af00\">6,081</span> (23.75 KB)\n",
       "</pre>\n"
      ],
      "text/plain": [
       "\u001b[1m Trainable params: \u001b[0m\u001b[38;5;34m6,081\u001b[0m (23.75 KB)\n"
      ]
     },
     "metadata": {},
     "output_type": "display_data"
    },
    {
     "data": {
      "text/html": [
       "<pre style=\"white-space:pre;overflow-x:auto;line-height:normal;font-family:Menlo,'DejaVu Sans Mono',consolas,'Courier New',monospace\"><span style=\"font-weight: bold\"> Non-trainable params: </span><span style=\"color: #00af00; text-decoration-color: #00af00\">0</span> (0.00 B)\n",
       "</pre>\n"
      ],
      "text/plain": [
       "\u001b[1m Non-trainable params: \u001b[0m\u001b[38;5;34m0\u001b[0m (0.00 B)\n"
      ]
     },
     "metadata": {},
     "output_type": "display_data"
    },
    {
     "data": {
      "text/html": [
       "<pre style=\"white-space:pre;overflow-x:auto;line-height:normal;font-family:Menlo,'DejaVu Sans Mono',consolas,'Courier New',monospace\"><span style=\"font-weight: bold\"> Optimizer params: </span><span style=\"color: #00af00; text-decoration-color: #00af00\">12,164</span> (47.52 KB)\n",
       "</pre>\n"
      ],
      "text/plain": [
       "\u001b[1m Optimizer params: \u001b[0m\u001b[38;5;34m12,164\u001b[0m (47.52 KB)\n"
      ]
     },
     "metadata": {},
     "output_type": "display_data"
    },
    {
     "data": {
      "image/png": "[encoded data removed]",
      "text/plain": [
       "<Figure size 1200x500 with 1 Axes>"
      ]
     },
     "metadata": {},
     "output_type": "display_data"
    }
   ],
   "source": [
    "torque_model = LSTM_model(torque_X_train_seq, torque_y_train_seq, train_size=0.8, epochs=20, batch_size=128)\n",
    "torque_model.summary()"
   ]
  },
  {
   "cell_type": "code",
   "execution_count": 25,
   "id": "a01e5e40-c121-4240-964e-933826c47130",
   "metadata": {},
   "outputs": [
    {
     "name": "stdout",
     "output_type": "stream",
     "text": [
      "\u001b[1m6824/6824\u001b[0m \u001b[32m━━━━━━━━━━━━━━━━━━━━\u001b[0m\u001b[37m\u001b[0m \u001b[1m3s\u001b[0m 507us/step\n"
     ]
    },
    {
     "data": {
      "image/png": "[encoded data removed]",
      "text/plain": [
       "<Figure size 640x480 with 1 Axes>"
      ]
     },
     "metadata": {},
     "output_type": "display_data"
    }
   ],
   "source": [
    "torque_y_pred_seq = torque_model.predict(torque_X_test_seq)\n",
    "# y_pred_seq = prediction.reshape(1,-1)[0]\n",
    "\n",
    "plot_error_histogram(\n",
    "    torque_y_scaler.inverse_transform(torque_y_pred_seq), \n",
    "    torque_y_scaler.inverse_transform(torque_y_test_seq.reshape(len(torque_y_test_seq), 1)),\n",
    "    bins=50\n",
    ")"
   ]
  },
  {
   "cell_type": "code",
   "execution_count": 26,
   "id": "d00397d3-494b-40ad-8531-7e4ddb482aa2",
   "metadata": {},
   "outputs": [
    {
     "data": {
      "image/png": "[encoded data removed]",
      "text/plain": [
       "<Figure size 640x480 with 1 Axes>"
      ]
     },
     "metadata": {},
     "output_type": "display_data"
    }
   ],
   "source": [
    "plt.hist(trips['Motor Torque [Nm]'], bins=30, color='blue', alpha=0.7, edgecolor='black')\n",
    "plt.show()"
   ]
  },
  {
   "cell_type": "markdown",
   "id": "cb9eed63-bfd4-468a-a923-282a830718bc",
   "metadata": {
    "jp-MarkdownHeadingCollapsed": true
   },
   "source": [
    "### Throttle"
   ]
  },
  {
   "cell_type": "code",
   "execution_count": 27,
   "id": "992dc26d-6380-4c29-8827-58f90335d015",
   "metadata": {},
   "outputs": [
    {
     "data": {
      "text/html": [
       "<div>\n",
       "<style scoped>\n",
       "    .dataframe tbody tr th:only-of-type {\n",
       "        vertical-align: middle;\n",
       "    }\n",
       "\n",
       "    .dataframe tbody tr th {\n",
       "        vertical-align: top;\n",
       "    }\n",
       "\n",
       "    .dataframe thead th {\n",
       "        text-align: right;\n",
       "    }\n",
       "</style>\n",
       "<table border=\"1\" class=\"dataframe\">\n",
       "  <thead>\n",
       "    <tr style=\"text-align: right;\">\n",
       "      <th></th>\n",
       "      <th>Ambient Temperature [°C]</th>\n",
       "      <th>Cabin Temperature Sensor [°C]</th>\n",
       "      <th>Heat Exchanger Temperature [°C]</th>\n",
       "      <th>Longitudinal Acceleration [m/s^2]</th>\n",
       "      <th>Throttle [%]</th>\n",
       "      <th>Velocity [km/h]</th>\n",
       "      <th>Motor Torque [Nm]</th>\n",
       "      <th>Time [s]</th>\n",
       "      <th>Trip</th>\n",
       "    </tr>\n",
       "  </thead>\n",
       "  <tbody>\n",
       "    <tr>\n",
       "      <th>0</th>\n",
       "      <td>25.5</td>\n",
       "      <td>24.5</td>\n",
       "      <td>30.5</td>\n",
       "      <td>-0.03</td>\n",
       "      <td>0.0</td>\n",
       "      <td>0.0</td>\n",
       "      <td>0.0</td>\n",
       "      <td>0.0</td>\n",
       "      <td>TripA01</td>\n",
       "    </tr>\n",
       "    <tr>\n",
       "      <th>1</th>\n",
       "      <td>25.5</td>\n",
       "      <td>24.5</td>\n",
       "      <td>30.5</td>\n",
       "      <td>0.00</td>\n",
       "      <td>0.0</td>\n",
       "      <td>0.0</td>\n",
       "      <td>0.0</td>\n",
       "      <td>0.1</td>\n",
       "      <td>TripA01</td>\n",
       "    </tr>\n",
       "    <tr>\n",
       "      <th>2</th>\n",
       "      <td>25.5</td>\n",
       "      <td>24.5</td>\n",
       "      <td>30.5</td>\n",
       "      <td>-0.01</td>\n",
       "      <td>0.0</td>\n",
       "      <td>0.0</td>\n",
       "      <td>0.0</td>\n",
       "      <td>0.2</td>\n",
       "      <td>TripA01</td>\n",
       "    </tr>\n",
       "    <tr>\n",
       "      <th>3</th>\n",
       "      <td>25.5</td>\n",
       "      <td>24.5</td>\n",
       "      <td>30.5</td>\n",
       "      <td>-0.03</td>\n",
       "      <td>0.0</td>\n",
       "      <td>0.0</td>\n",
       "      <td>0.0</td>\n",
       "      <td>0.3</td>\n",
       "      <td>TripA01</td>\n",
       "    </tr>\n",
       "    <tr>\n",
       "      <th>4</th>\n",
       "      <td>25.5</td>\n",
       "      <td>24.5</td>\n",
       "      <td>30.5</td>\n",
       "      <td>-0.03</td>\n",
       "      <td>0.0</td>\n",
       "      <td>0.0</td>\n",
       "      <td>0.0</td>\n",
       "      <td>0.4</td>\n",
       "      <td>TripA01</td>\n",
       "    </tr>\n",
       "  </tbody>\n",
       "</table>\n",
       "</div>"
      ],
      "text/plain": [
       "   Ambient Temperature [°C]  Cabin Temperature Sensor [°C]  \\\n",
       "0                      25.5                           24.5   \n",
       "1                      25.5                           24.5   \n",
       "2                      25.5                           24.5   \n",
       "3                      25.5                           24.5   \n",
       "4                      25.5                           24.5   \n",
       "\n",
       "   Heat Exchanger Temperature [°C]  Longitudinal Acceleration [m/s^2]  \\\n",
       "0                             30.5                              -0.03   \n",
       "1                             30.5                               0.00   \n",
       "2                             30.5                              -0.01   \n",
       "3                             30.5                              -0.03   \n",
       "4                             30.5                              -0.03   \n",
       "\n",
       "   Throttle [%]  Velocity [km/h]  Motor Torque [Nm]  Time [s]     Trip  \n",
       "0           0.0              0.0                0.0       0.0  TripA01  \n",
       "1           0.0              0.0                0.0       0.1  TripA01  \n",
       "2           0.0              0.0                0.0       0.2  TripA01  \n",
       "3           0.0              0.0                0.0       0.3  TripA01  \n",
       "4           0.0              0.0                0.0       0.4  TripA01  "
      ]
     },
     "execution_count": 27,
     "metadata": {},
     "output_type": "execute_result"
    }
   ],
   "source": [
    "trips.head()"
   ]
  },
  {
   "cell_type": "code",
   "execution_count": 28,
   "id": "c507bbb7-49c2-435c-aadb-e907e62a808f",
   "metadata": {},
   "outputs": [
    {
     "data": {
      "text/html": [
       "<div>\n",
       "<style scoped>\n",
       "    .dataframe tbody tr th:only-of-type {\n",
       "        vertical-align: middle;\n",
       "    }\n",
       "\n",
       "    .dataframe tbody tr th {\n",
       "        vertical-align: top;\n",
       "    }\n",
       "\n",
       "    .dataframe thead th {\n",
       "        text-align: right;\n",
       "    }\n",
       "</style>\n",
       "<table border=\"1\" class=\"dataframe\">\n",
       "  <thead>\n",
       "    <tr style=\"text-align: right;\">\n",
       "      <th></th>\n",
       "      <th>Ambient Temperature [°C]</th>\n",
       "      <th>Cabin Temperature Sensor [°C]</th>\n",
       "      <th>Heat Exchanger Temperature [°C]</th>\n",
       "      <th>Longitudinal Acceleration [m/s^2]</th>\n",
       "      <th>Velocity [km/h]</th>\n",
       "      <th>Time [s]</th>\n",
       "      <th>Trip</th>\n",
       "      <th>Throttle [%]</th>\n",
       "    </tr>\n",
       "  </thead>\n",
       "  <tbody>\n",
       "    <tr>\n",
       "      <th>0</th>\n",
       "      <td>0.783784</td>\n",
       "      <td>0.485904</td>\n",
       "      <td>0.424646</td>\n",
       "      <td>0.667161</td>\n",
       "      <td>0.0</td>\n",
       "      <td>0.000000</td>\n",
       "      <td>TripA01</td>\n",
       "      <td>0.0</td>\n",
       "    </tr>\n",
       "    <tr>\n",
       "      <th>1</th>\n",
       "      <td>0.783784</td>\n",
       "      <td>0.485904</td>\n",
       "      <td>0.424646</td>\n",
       "      <td>0.669385</td>\n",
       "      <td>0.0</td>\n",
       "      <td>0.000018</td>\n",
       "      <td>TripA01</td>\n",
       "      <td>0.0</td>\n",
       "    </tr>\n",
       "    <tr>\n",
       "      <th>2</th>\n",
       "      <td>0.783784</td>\n",
       "      <td>0.485904</td>\n",
       "      <td>0.424646</td>\n",
       "      <td>0.668643</td>\n",
       "      <td>0.0</td>\n",
       "      <td>0.000036</td>\n",
       "      <td>TripA01</td>\n",
       "      <td>0.0</td>\n",
       "    </tr>\n",
       "    <tr>\n",
       "      <th>3</th>\n",
       "      <td>0.783784</td>\n",
       "      <td>0.485904</td>\n",
       "      <td>0.424646</td>\n",
       "      <td>0.667161</td>\n",
       "      <td>0.0</td>\n",
       "      <td>0.000053</td>\n",
       "      <td>TripA01</td>\n",
       "      <td>0.0</td>\n",
       "    </tr>\n",
       "    <tr>\n",
       "      <th>4</th>\n",
       "      <td>0.783784</td>\n",
       "      <td>0.485904</td>\n",
       "      <td>0.424646</td>\n",
       "      <td>0.667161</td>\n",
       "      <td>0.0</td>\n",
       "      <td>0.000071</td>\n",
       "      <td>TripA01</td>\n",
       "      <td>0.0</td>\n",
       "    </tr>\n",
       "  </tbody>\n",
       "</table>\n",
       "</div>"
      ],
      "text/plain": [
       "   Ambient Temperature [°C]  Cabin Temperature Sensor [°C]  \\\n",
       "0                  0.783784                       0.485904   \n",
       "1                  0.783784                       0.485904   \n",
       "2                  0.783784                       0.485904   \n",
       "3                  0.783784                       0.485904   \n",
       "4                  0.783784                       0.485904   \n",
       "\n",
       "   Heat Exchanger Temperature [°C]  Longitudinal Acceleration [m/s^2]  \\\n",
       "0                         0.424646                           0.667161   \n",
       "1                         0.424646                           0.669385   \n",
       "2                         0.424646                           0.668643   \n",
       "3                         0.424646                           0.667161   \n",
       "4                         0.424646                           0.667161   \n",
       "\n",
       "   Velocity [km/h]  Time [s]     Trip  Throttle [%]  \n",
       "0              0.0  0.000000  TripA01           0.0  \n",
       "1              0.0  0.000018  TripA01           0.0  \n",
       "2              0.0  0.000036  TripA01           0.0  \n",
       "3              0.0  0.000053  TripA01           0.0  \n",
       "4              0.0  0.000071  TripA01           0.0  "
      ]
     },
     "execution_count": 28,
     "metadata": {},
     "output_type": "execute_result"
    }
   ],
   "source": [
    "throttle_scaled_dataset, throttle_X_scaler, throttle_y_scaler = normalize(trips, 'Throttle [%]')\n",
    "throttle_scaled_dataset.head()"
   ]
  },
  {
   "cell_type": "code",
   "execution_count": 29,
   "id": "f5262520-f814-4907-9a04-26d9b2e9becd",
   "metadata": {},
   "outputs": [
    {
     "name": "stdout",
     "output_type": "stream",
     "text": [
      "\n",
      "throttle_X_train: (875810, 7)\n"
     ]
    },
    {
     "data": {
      "text/html": [
       "<div>\n",
       "<style scoped>\n",
       "    .dataframe tbody tr th:only-of-type {\n",
       "        vertical-align: middle;\n",
       "    }\n",
       "\n",
       "    .dataframe tbody tr th {\n",
       "        vertical-align: top;\n",
       "    }\n",
       "\n",
       "    .dataframe thead th {\n",
       "        text-align: right;\n",
       "    }\n",
       "</style>\n",
       "<table border=\"1\" class=\"dataframe\">\n",
       "  <thead>\n",
       "    <tr style=\"text-align: right;\">\n",
       "      <th></th>\n",
       "      <th>Ambient Temperature [°C]</th>\n",
       "      <th>Cabin Temperature Sensor [°C]</th>\n",
       "      <th>Heat Exchanger Temperature [°C]</th>\n",
       "      <th>Longitudinal Acceleration [m/s^2]</th>\n",
       "      <th>Velocity [km/h]</th>\n",
       "      <th>Time [s]</th>\n",
       "      <th>Trip</th>\n",
       "    </tr>\n",
       "  </thead>\n",
       "  <tbody>\n",
       "    <tr>\n",
       "      <th>0</th>\n",
       "      <td>0.783784</td>\n",
       "      <td>0.485904</td>\n",
       "      <td>0.424646</td>\n",
       "      <td>0.667161</td>\n",
       "      <td>0.0</td>\n",
       "      <td>0.000000</td>\n",
       "      <td>TripA01</td>\n",
       "    </tr>\n",
       "    <tr>\n",
       "      <th>1</th>\n",
       "      <td>0.783784</td>\n",
       "      <td>0.485904</td>\n",
       "      <td>0.424646</td>\n",
       "      <td>0.669385</td>\n",
       "      <td>0.0</td>\n",
       "      <td>0.000018</td>\n",
       "      <td>TripA01</td>\n",
       "    </tr>\n",
       "    <tr>\n",
       "      <th>2</th>\n",
       "      <td>0.783784</td>\n",
       "      <td>0.485904</td>\n",
       "      <td>0.424646</td>\n",
       "      <td>0.668643</td>\n",
       "      <td>0.0</td>\n",
       "      <td>0.000036</td>\n",
       "      <td>TripA01</td>\n",
       "    </tr>\n",
       "    <tr>\n",
       "      <th>3</th>\n",
       "      <td>0.783784</td>\n",
       "      <td>0.485904</td>\n",
       "      <td>0.424646</td>\n",
       "      <td>0.667161</td>\n",
       "      <td>0.0</td>\n",
       "      <td>0.000053</td>\n",
       "      <td>TripA01</td>\n",
       "    </tr>\n",
       "    <tr>\n",
       "      <th>4</th>\n",
       "      <td>0.783784</td>\n",
       "      <td>0.485904</td>\n",
       "      <td>0.424646</td>\n",
       "      <td>0.667161</td>\n",
       "      <td>0.0</td>\n",
       "      <td>0.000071</td>\n",
       "      <td>TripA01</td>\n",
       "    </tr>\n",
       "  </tbody>\n",
       "</table>\n",
       "</div>"
      ],
      "text/plain": [
       "   Ambient Temperature [°C]  Cabin Temperature Sensor [°C]  \\\n",
       "0                  0.783784                       0.485904   \n",
       "1                  0.783784                       0.485904   \n",
       "2                  0.783784                       0.485904   \n",
       "3                  0.783784                       0.485904   \n",
       "4                  0.783784                       0.485904   \n",
       "\n",
       "   Heat Exchanger Temperature [°C]  Longitudinal Acceleration [m/s^2]  \\\n",
       "0                         0.424646                           0.667161   \n",
       "1                         0.424646                           0.669385   \n",
       "2                         0.424646                           0.668643   \n",
       "3                         0.424646                           0.667161   \n",
       "4                         0.424646                           0.667161   \n",
       "\n",
       "   Velocity [km/h]  Time [s]     Trip  \n",
       "0              0.0  0.000000  TripA01  \n",
       "1              0.0  0.000018  TripA01  \n",
       "2              0.0  0.000036  TripA01  \n",
       "3              0.0  0.000053  TripA01  \n",
       "4              0.0  0.000071  TripA01  "
      ]
     },
     "metadata": {},
     "output_type": "display_data"
    },
    {
     "name": "stdout",
     "output_type": "stream",
     "text": [
      "\n",
      "throttle_X_test: (218983, 7)\n"
     ]
    },
    {
     "data": {
      "text/html": [
       "<div>\n",
       "<style scoped>\n",
       "    .dataframe tbody tr th:only-of-type {\n",
       "        vertical-align: middle;\n",
       "    }\n",
       "\n",
       "    .dataframe tbody tr th {\n",
       "        vertical-align: top;\n",
       "    }\n",
       "\n",
       "    .dataframe thead th {\n",
       "        text-align: right;\n",
       "    }\n",
       "</style>\n",
       "<table border=\"1\" class=\"dataframe\">\n",
       "  <thead>\n",
       "    <tr style=\"text-align: right;\">\n",
       "      <th></th>\n",
       "      <th>Ambient Temperature [°C]</th>\n",
       "      <th>Cabin Temperature Sensor [°C]</th>\n",
       "      <th>Heat Exchanger Temperature [°C]</th>\n",
       "      <th>Longitudinal Acceleration [m/s^2]</th>\n",
       "      <th>Velocity [km/h]</th>\n",
       "      <th>Time [s]</th>\n",
       "      <th>Trip</th>\n",
       "    </tr>\n",
       "  </thead>\n",
       "  <tbody>\n",
       "    <tr>\n",
       "      <th>8072</th>\n",
       "      <td>0.959459</td>\n",
       "      <td>0.413521</td>\n",
       "      <td>0.0</td>\n",
       "      <td>0.676798</td>\n",
       "      <td>0.001773</td>\n",
       "      <td>0.143883</td>\n",
       "      <td>TripA01</td>\n",
       "    </tr>\n",
       "    <tr>\n",
       "      <th>8073</th>\n",
       "      <td>0.959459</td>\n",
       "      <td>0.413521</td>\n",
       "      <td>0.0</td>\n",
       "      <td>0.633803</td>\n",
       "      <td>0.001314</td>\n",
       "      <td>0.143901</td>\n",
       "      <td>TripA01</td>\n",
       "    </tr>\n",
       "    <tr>\n",
       "      <th>8074</th>\n",
       "      <td>0.959459</td>\n",
       "      <td>0.413521</td>\n",
       "      <td>0.0</td>\n",
       "      <td>0.624166</td>\n",
       "      <td>0.001117</td>\n",
       "      <td>0.143919</td>\n",
       "      <td>TripA01</td>\n",
       "    </tr>\n",
       "    <tr>\n",
       "      <th>8075</th>\n",
       "      <td>0.959459</td>\n",
       "      <td>0.413521</td>\n",
       "      <td>0.0</td>\n",
       "      <td>0.643440</td>\n",
       "      <td>0.000854</td>\n",
       "      <td>0.143937</td>\n",
       "      <td>TripA01</td>\n",
       "    </tr>\n",
       "    <tr>\n",
       "      <th>8076</th>\n",
       "      <td>0.959459</td>\n",
       "      <td>0.413521</td>\n",
       "      <td>0.0</td>\n",
       "      <td>0.642698</td>\n",
       "      <td>0.000722</td>\n",
       "      <td>0.143955</td>\n",
       "      <td>TripA01</td>\n",
       "    </tr>\n",
       "  </tbody>\n",
       "</table>\n",
       "</div>"
      ],
      "text/plain": [
       "      Ambient Temperature [°C]  Cabin Temperature Sensor [°C]  \\\n",
       "8072                  0.959459                       0.413521   \n",
       "8073                  0.959459                       0.413521   \n",
       "8074                  0.959459                       0.413521   \n",
       "8075                  0.959459                       0.413521   \n",
       "8076                  0.959459                       0.413521   \n",
       "\n",
       "      Heat Exchanger Temperature [°C]  Longitudinal Acceleration [m/s^2]  \\\n",
       "8072                              0.0                           0.676798   \n",
       "8073                              0.0                           0.633803   \n",
       "8074                              0.0                           0.624166   \n",
       "8075                              0.0                           0.643440   \n",
       "8076                              0.0                           0.642698   \n",
       "\n",
       "      Velocity [km/h]  Time [s]     Trip  \n",
       "8072         0.001773  0.143883  TripA01  \n",
       "8073         0.001314  0.143901  TripA01  \n",
       "8074         0.001117  0.143919  TripA01  \n",
       "8075         0.000854  0.143937  TripA01  \n",
       "8076         0.000722  0.143955  TripA01  "
      ]
     },
     "metadata": {},
     "output_type": "display_data"
    },
    {
     "name": "stdout",
     "output_type": "stream",
     "text": [
      "\n",
      "throttle_y_train: (875810,)\n"
     ]
    },
    {
     "data": {
      "text/plain": [
       "0    0.0\n",
       "1    0.0\n",
       "2    0.0\n",
       "3    0.0\n",
       "4    0.0\n",
       "Name: Throttle [%], dtype: float64"
      ]
     },
     "metadata": {},
     "output_type": "display_data"
    },
    {
     "name": "stdout",
     "output_type": "stream",
     "text": [
      "\n",
      "throttle_y_test: (218983,)\n"
     ]
    },
    {
     "data": {
      "text/plain": [
       "8072    0.0\n",
       "8073    0.0\n",
       "8074    0.0\n",
       "8075    0.0\n",
       "8076    0.0\n",
       "Name: Throttle [%], dtype: float64"
      ]
     },
     "metadata": {},
     "output_type": "display_data"
    }
   ],
   "source": [
    "throttle_X_train, throttle_X_test, throttle_y_train, throttle_y_test = time_series_train_test_split(throttle_scaled_dataset, 'Throttle [%]')\n",
    "print(f\"\\nthrottle_X_train: {throttle_X_train.shape}\")\n",
    "display(throttle_X_train.head())\n",
    "\n",
    "print(f\"\\nthrottle_X_test: {throttle_X_test.shape}\")\n",
    "display(throttle_X_test.head())\n",
    "\n",
    "print(f\"\\nthrottle_y_train: {throttle_y_train.shape}\")\n",
    "display(throttle_y_train.head())\n",
    "\n",
    "print(f\"\\nthrottle_y_test: {throttle_y_test.shape}\")\n",
    "display(throttle_y_test.head())"
   ]
  },
  {
   "cell_type": "code",
   "execution_count": 31,
   "id": "79d8da77-4fe9-4f02-af95-3daa08c6ef0d",
   "metadata": {},
   "outputs": [
    {
     "name": "stdout",
     "output_type": "stream",
     "text": [
      "TRAIN:\n",
      "throttle_X_train_seq (875179, 10, 6)\n",
      "throttle_y_train_seq (875179,)\n",
      "\n",
      "TEST:\n",
      "throttle_X_test_seq (218352, 10, 6)\n",
      "throttle_y_test_seq (218352,)\n"
     ]
    }
   ],
   "source": [
    "throttle_X_train_seq, throttle_y_train_seq = create_seq(throttle_X_train, throttle_y_train.values, window_size=WINDOW_SIZE)\n",
    "throttle_X_test_seq, throttle_y_test_seq = create_seq(throttle_X_test, throttle_y_test.values, window_size=WINDOW_SIZE)\n",
    "\n",
    "print(\"TRAIN:\")\n",
    "print(f\"throttle_X_train_seq {throttle_X_train_seq.shape}\")\n",
    "print(f\"throttle_y_train_seq {throttle_y_train_seq.shape}\")\n",
    "print(\"\\nTEST:\")\n",
    "print(f\"throttle_X_test_seq {throttle_X_test_seq.shape}\")\n",
    "print(f\"throttle_y_test_seq {throttle_y_test_seq.shape}\")"
   ]
  },
  {
   "cell_type": "code",
   "execution_count": 32,
   "id": "331b9893-3e3a-4472-be2b-2f72570263a7",
   "metadata": {},
   "outputs": [
    {
     "name": "stdout",
     "output_type": "stream",
     "text": [
      "Epoch 1/20\n",
      "\u001b[1m5470/5470\u001b[0m \u001b[32m━━━━━━━━━━━━━━━━━━━━\u001b[0m\u001b[37m\u001b[0m \u001b[1m14s\u001b[0m 2ms/step - loss: 0.0058 - mae: 0.0531 - val_loss: 0.0113 - val_mae: 0.0636\n",
      "Epoch 2/20\n",
      "\u001b[1m5470/5470\u001b[0m \u001b[32m━━━━━━━━━━━━━━━━━━━━\u001b[0m\u001b[37m\u001b[0m \u001b[1m14s\u001b[0m 3ms/step - loss: 0.0030 - mae: 0.0362 - val_loss: 0.0062 - val_mae: 0.0517\n",
      "Epoch 3/20\n",
      "\u001b[1m5470/5470\u001b[0m \u001b[32m━━━━━━━━━━━━━━━━━━━━\u001b[0m\u001b[37m\u001b[0m \u001b[1m14s\u001b[0m 3ms/step - loss: 0.0026 - mae: 0.0330 - val_loss: 0.0053 - val_mae: 0.0461\n",
      "Epoch 4/20\n",
      "\u001b[1m5470/5470\u001b[0m \u001b[32m━━━━━━━━━━━━━━━━━━━━\u001b[0m\u001b[37m\u001b[0m \u001b[1m13s\u001b[0m 2ms/step - loss: 0.0024 - mae: 0.0312 - val_loss: 0.0051 - val_mae: 0.0443\n",
      "Epoch 5/20\n",
      "\u001b[1m5470/5470\u001b[0m \u001b[32m━━━━━━━━━━━━━━━━━━━━\u001b[0m\u001b[37m\u001b[0m \u001b[1m14s\u001b[0m 3ms/step - loss: 0.0021 - mae: 0.0295 - val_loss: 0.0063 - val_mae: 0.0473\n",
      "Epoch 6/20\n",
      "\u001b[1m5470/5470\u001b[0m \u001b[32m━━━━━━━━━━━━━━━━━━━━\u001b[0m\u001b[37m\u001b[0m \u001b[1m14s\u001b[0m 2ms/step - loss: 0.0020 - mae: 0.0282 - val_loss: 0.0065 - val_mae: 0.0469\n",
      "Epoch 7/20\n",
      "\u001b[1m5470/5470\u001b[0m \u001b[32m━━━━━━━━━━━━━━━━━━━━\u001b[0m\u001b[37m\u001b[0m \u001b[1m14s\u001b[0m 3ms/step - loss: 0.0019 - mae: 0.0272 - val_loss: 0.0081 - val_mae: 0.0495\n",
      "Epoch 8/20\n",
      "\u001b[1m5470/5470\u001b[0m \u001b[32m━━━━━━━━━━━━━━━━━━━━\u001b[0m\u001b[37m\u001b[0m \u001b[1m14s\u001b[0m 2ms/step - loss: 0.0018 - mae: 0.0265 - val_loss: 0.0072 - val_mae: 0.0475\n",
      "Epoch 9/20\n",
      "\u001b[1m5470/5470\u001b[0m \u001b[32m━━━━━━━━━━━━━━━━━━━━\u001b[0m\u001b[37m\u001b[0m \u001b[1m14s\u001b[0m 2ms/step - loss: 0.0018 - mae: 0.0260 - val_loss: 0.0080 - val_mae: 0.0489\n",
      "Epoch 10/20\n",
      "\u001b[1m5470/5470\u001b[0m \u001b[32m━━━━━━━━━━━━━━━━━━━━\u001b[0m\u001b[37m\u001b[0m \u001b[1m13s\u001b[0m 2ms/step - loss: 0.0017 - mae: 0.0255 - val_loss: 0.0087 - val_mae: 0.0512\n",
      "Epoch 11/20\n",
      "\u001b[1m5470/5470\u001b[0m \u001b[32m━━━━━━━━━━━━━━━━━━━━\u001b[0m\u001b[37m\u001b[0m \u001b[1m13s\u001b[0m 2ms/step - loss: 0.0016 - mae: 0.0249 - val_loss: 0.0079 - val_mae: 0.0476\n",
      "Epoch 12/20\n",
      "\u001b[1m5470/5470\u001b[0m \u001b[32m━━━━━━━━━━━━━━━━━━━━\u001b[0m\u001b[37m\u001b[0m \u001b[1m14s\u001b[0m 3ms/step - loss: 0.0016 - mae: 0.0246 - val_loss: 0.0100 - val_mae: 0.0527\n",
      "Epoch 13/20\n",
      "\u001b[1m5470/5470\u001b[0m \u001b[32m━━━━━━━━━━━━━━━━━━━━\u001b[0m\u001b[37m\u001b[0m \u001b[1m13s\u001b[0m 2ms/step - loss: 0.0016 - mae: 0.0243 - val_loss: 0.0115 - val_mae: 0.0549\n",
      "Epoch 14/20\n",
      "\u001b[1m5470/5470\u001b[0m \u001b[32m━━━━━━━━━━━━━━━━━━━━\u001b[0m\u001b[37m\u001b[0m \u001b[1m13s\u001b[0m 2ms/step - loss: 0.0015 - mae: 0.0240 - val_loss: 0.0095 - val_mae: 0.0518\n",
      "Epoch 15/20\n",
      "\u001b[1m5470/5470\u001b[0m \u001b[32m━━━━━━━━━━━━━━━━━━━━\u001b[0m\u001b[37m\u001b[0m \u001b[1m13s\u001b[0m 2ms/step - loss: 0.0015 - mae: 0.0236 - val_loss: 0.0085 - val_mae: 0.0500\n",
      "Epoch 16/20\n",
      "\u001b[1m5470/5470\u001b[0m \u001b[32m━━━━━━━━━━━━━━━━━━━━\u001b[0m\u001b[37m\u001b[0m \u001b[1m14s\u001b[0m 3ms/step - loss: 0.0015 - mae: 0.0235 - val_loss: 0.0099 - val_mae: 0.0509\n",
      "Epoch 17/20\n",
      "\u001b[1m5470/5470\u001b[0m \u001b[32m━━━━━━━━━━━━━━━━━━━━\u001b[0m\u001b[37m\u001b[0m \u001b[1m14s\u001b[0m 2ms/step - loss: 0.0015 - mae: 0.0232 - val_loss: 0.0092 - val_mae: 0.0482\n",
      "Epoch 18/20\n",
      "\u001b[1m5470/5470\u001b[0m \u001b[32m━━━━━━━━━━━━━━━━━━━━\u001b[0m\u001b[37m\u001b[0m \u001b[1m14s\u001b[0m 3ms/step - loss: 0.0014 - mae: 0.0231 - val_loss: 0.0124 - val_mae: 0.0552\n",
      "Epoch 19/20\n",
      "\u001b[1m5470/5470\u001b[0m \u001b[32m━━━━━━━━━━━━━━━━━━━━\u001b[0m\u001b[37m\u001b[0m \u001b[1m14s\u001b[0m 2ms/step - loss: 0.0014 - mae: 0.0230 - val_loss: 0.0113 - val_mae: 0.0529\n",
      "Epoch 20/20\n",
      "\u001b[1m5470/5470\u001b[0m \u001b[32m━━━━━━━━━━━━━━━━━━━━\u001b[0m\u001b[37m\u001b[0m \u001b[1m14s\u001b[0m 2ms/step - loss: 0.0014 - mae: 0.0227 - val_loss: 0.0109 - val_mae: 0.0533\n",
      "\u001b[1m5470/5470\u001b[0m \u001b[32m━━━━━━━━━━━━━━━━━━━━\u001b[0m\u001b[37m\u001b[0m \u001b[1m6s\u001b[0m 1ms/step - loss: 0.0029 - mae: 0.0288\n",
      "MAE: 0.05324988, Loss: 0.01084547\n"
     ]
    },
    {
     "data": {
      "text/html": [
       "<pre style=\"white-space:pre;overflow-x:auto;line-height:normal;font-family:Menlo,'DejaVu Sans Mono',consolas,'Courier New',monospace\"><span style=\"font-weight: bold\">Model: \"sequential_3\"</span>\n",
       "</pre>\n"
      ],
      "text/plain": [
       "\u001b[1mModel: \"sequential_3\"\u001b[0m\n"
      ]
     },
     "metadata": {},
     "output_type": "display_data"
    },
    {
     "data": {
      "text/html": [
       "<pre style=\"white-space:pre;overflow-x:auto;line-height:normal;font-family:Menlo,'DejaVu Sans Mono',consolas,'Courier New',monospace\">┏━━━━━━━━━━━━━━━━━━━━━━━━━━━━━━━━━┳━━━━━━━━━━━━━━━━━━━━━━━━┳━━━━━━━━━━━━━━━┓\n",
       "┃<span style=\"font-weight: bold\"> Layer (type)                    </span>┃<span style=\"font-weight: bold\"> Output Shape           </span>┃<span style=\"font-weight: bold\">       Param # </span>┃\n",
       "┡━━━━━━━━━━━━━━━━━━━━━━━━━━━━━━━━━╇━━━━━━━━━━━━━━━━━━━━━━━━╇━━━━━━━━━━━━━━━┩\n",
       "│ lstm_3 (<span style=\"color: #0087ff; text-decoration-color: #0087ff\">LSTM</span>)                   │ (<span style=\"color: #00d7ff; text-decoration-color: #00d7ff\">None</span>, <span style=\"color: #00af00; text-decoration-color: #00af00\">32</span>)             │         <span style=\"color: #00af00; text-decoration-color: #00af00\">4,992</span> │\n",
       "├─────────────────────────────────┼────────────────────────┼───────────────┤\n",
       "│ dense_6 (<span style=\"color: #0087ff; text-decoration-color: #0087ff\">Dense</span>)                 │ (<span style=\"color: #00d7ff; text-decoration-color: #00d7ff\">None</span>, <span style=\"color: #00af00; text-decoration-color: #00af00\">32</span>)             │         <span style=\"color: #00af00; text-decoration-color: #00af00\">1,056</span> │\n",
       "├─────────────────────────────────┼────────────────────────┼───────────────┤\n",
       "│ dense_7 (<span style=\"color: #0087ff; text-decoration-color: #0087ff\">Dense</span>)                 │ (<span style=\"color: #00d7ff; text-decoration-color: #00d7ff\">None</span>, <span style=\"color: #00af00; text-decoration-color: #00af00\">1</span>)              │            <span style=\"color: #00af00; text-decoration-color: #00af00\">33</span> │\n",
       "└─────────────────────────────────┴────────────────────────┴───────────────┘\n",
       "</pre>\n"
      ],
      "text/plain": [
       "┏━━━━━━━━━━━━━━━━━━━━━━━━━━━━━━━━━┳━━━━━━━━━━━━━━━━━━━━━━━━┳━━━━━━━━━━━━━━━┓\n",
       "┃\u001b[1m \u001b[0m\u001b[1mLayer (type)                   \u001b[0m\u001b[1m \u001b[0m┃\u001b[1m \u001b[0m\u001b[1mOutput Shape          \u001b[0m\u001b[1m \u001b[0m┃\u001b[1m \u001b[0m\u001b[1m      Param #\u001b[0m\u001b[1m \u001b[0m┃\n",
       "┡━━━━━━━━━━━━━━━━━━━━━━━━━━━━━━━━━╇━━━━━━━━━━━━━━━━━━━━━━━━╇━━━━━━━━━━━━━━━┩\n",
       "│ lstm_3 (\u001b[38;5;33mLSTM\u001b[0m)                   │ (\u001b[38;5;45mNone\u001b[0m, \u001b[38;5;34m32\u001b[0m)             │         \u001b[38;5;34m4,992\u001b[0m │\n",
       "├─────────────────────────────────┼────────────────────────┼───────────────┤\n",
       "│ dense_6 (\u001b[38;5;33mDense\u001b[0m)                 │ (\u001b[38;5;45mNone\u001b[0m, \u001b[38;5;34m32\u001b[0m)             │         \u001b[38;5;34m1,056\u001b[0m │\n",
       "├─────────────────────────────────┼────────────────────────┼───────────────┤\n",
       "│ dense_7 (\u001b[38;5;33mDense\u001b[0m)                 │ (\u001b[38;5;45mNone\u001b[0m, \u001b[38;5;34m1\u001b[0m)              │            \u001b[38;5;34m33\u001b[0m │\n",
       "└─────────────────────────────────┴────────────────────────┴───────────────┘\n"
      ]
     },
     "metadata": {},
     "output_type": "display_data"
    },
    {
     "data": {
      "text/html": [
       "<pre style=\"white-space:pre;overflow-x:auto;line-height:normal;font-family:Menlo,'DejaVu Sans Mono',consolas,'Courier New',monospace\"><span style=\"font-weight: bold\"> Total params: </span><span style=\"color: #00af00; text-decoration-color: #00af00\">18,245</span> (71.27 KB)\n",
       "</pre>\n"
      ],
      "text/plain": [
       "\u001b[1m Total params: \u001b[0m\u001b[38;5;34m18,245\u001b[0m (71.27 KB)\n"
      ]
     },
     "metadata": {},
     "output_type": "display_data"
    },
    {
     "data": {
      "text/html": [
       "<pre style=\"white-space:pre;overflow-x:auto;line-height:normal;font-family:Menlo,'DejaVu Sans Mono',consolas,'Courier New',monospace\"><span style=\"font-weight: bold\"> Trainable params: </span><span style=\"color: #00af00; text-decoration-color: #00af00\">6,081</span> (23.75 KB)\n",
       "</pre>\n"
      ],
      "text/plain": [
       "\u001b[1m Trainable params: \u001b[0m\u001b[38;5;34m6,081\u001b[0m (23.75 KB)\n"
      ]
     },
     "metadata": {},
     "output_type": "display_data"
    },
    {
     "data": {
      "text/html": [
       "<pre style=\"white-space:pre;overflow-x:auto;line-height:normal;font-family:Menlo,'DejaVu Sans Mono',consolas,'Courier New',monospace\"><span style=\"font-weight: bold\"> Non-trainable params: </span><span style=\"color: #00af00; text-decoration-color: #00af00\">0</span> (0.00 B)\n",
       "</pre>\n"
      ],
      "text/plain": [
       "\u001b[1m Non-trainable params: \u001b[0m\u001b[38;5;34m0\u001b[0m (0.00 B)\n"
      ]
     },
     "metadata": {},
     "output_type": "display_data"
    },
    {
     "data": {
      "text/html": [
       "<pre style=\"white-space:pre;overflow-x:auto;line-height:normal;font-family:Menlo,'DejaVu Sans Mono',consolas,'Courier New',monospace\"><span style=\"font-weight: bold\"> Optimizer params: </span><span style=\"color: #00af00; text-decoration-color: #00af00\">12,164</span> (47.52 KB)\n",
       "</pre>\n"
      ],
      "text/plain": [
       "\u001b[1m Optimizer params: \u001b[0m\u001b[38;5;34m12,164\u001b[0m (47.52 KB)\n"
      ]
     },
     "metadata": {},
     "output_type": "display_data"
    },
    {
     "data": {
      "image/png": "[encoded data removed]",
      "text/plain": [
       "<Figure size 1200x500 with 1 Axes>"
      ]
     },
     "metadata": {},
     "output_type": "display_data"
    }
   ],
   "source": [
    "throttle_model = LSTM_model(throttle_X_train_seq, throttle_y_train_seq, train_size=0.8, epochs=20, batch_size=128)\n",
    "throttle_model.summary()"
   ]
  },
  {
   "cell_type": "code",
   "execution_count": 35,
   "id": "e6a2365f-da3f-41b4-8f0c-d23dfc5c9713",
   "metadata": {},
   "outputs": [
    {
     "name": "stdout",
     "output_type": "stream",
     "text": [
      "\u001b[1m6824/6824\u001b[0m \u001b[32m━━━━━━━━━━━━━━━━━━━━\u001b[0m\u001b[37m\u001b[0m \u001b[1m4s\u001b[0m 523us/step\n"
     ]
    },
    {
     "data": {
      "image/png": "[encoded data removed]",
      "text/plain": [
       "<Figure size 640x480 with 1 Axes>"
      ]
     },
     "metadata": {},
     "output_type": "display_data"
    }
   ],
   "source": [
    "throttle_y_pred_seq = throttle_model.predict(throttle_X_test_seq)\n",
    "\n",
    "plot_error_histogram(\n",
    "    throttle_y_scaler.inverse_transform(throttle_y_pred_seq), \n",
    "    throttle_y_scaler.inverse_transform(throttle_y_test_seq.reshape(len(throttle_y_test_seq), 1)),\n",
    "    bins=50,\n",
    "    color='red'\n",
    ")"
   ]
  },
  {
   "cell_type": "code",
   "execution_count": 36,
   "id": "a881793d-a569-486f-9f0d-5c0c8b857d30",
   "metadata": {},
   "outputs": [
    {
     "data": {
      "image/png": "[encoded data removed]",
      "text/plain": [
       "<Figure size 640x480 with 1 Axes>"
      ]
     },
     "metadata": {},
     "output_type": "display_data"
    }
   ],
   "source": [
    "plt.hist(trips['Throttle [%]'], bins=30, color='red', alpha=0.7, edgecolor='black')\n",
    "plt.show()"
   ]
  },
  {
   "cell_type": "markdown",
   "id": "9037ee3f-c51a-4c3b-9097-48e0db08b8e0",
   "metadata": {
    "jp-MarkdownHeadingCollapsed": true
   },
   "source": [
    "### Timeline"
   ]
  },
  {
   "cell_type": "code",
   "execution_count": 37,
   "id": "86e8f3db-fd2a-467b-975d-e181650efc0e",
   "metadata": {},
   "outputs": [
    {
     "name": "stdout",
     "output_type": "stream",
     "text": [
      "\u001b[1m63/63\u001b[0m \u001b[32m━━━━━━━━━━━━━━━━━━━━\u001b[0m\u001b[37m\u001b[0m \u001b[1m0s\u001b[0m 698us/step\n"
     ]
    }
   ],
   "source": [
    "# Esse é o X de teste da minha timeline que eu vou predizer em cima dele normalizado\n",
    "# Já está filtrado somente pela jornada TripA01\n",
    "timeline_X = torque_X_test[torque_X_test['Trip'] == 'TripA01']\n",
    "\n",
    "# Esse é o y de teste da minha timeline desnormalizado\n",
    "# Está filtrado pela jornada TripA01\n",
    "# Eu filtrei nos dados originais e peguei os 20% finais para ser a parte de teste.\n",
    "# Como é uma série temporal, eu garanto que serão os rótulos correspondentes ao X da linha anterior\n",
    "total_trip_size = len(trips[trips['Trip'] == 'TripA01'])\n",
    "train_size = int(total_trip_size*0.8)\n",
    "timeline_y = trips[trips['Trip'] == 'TripA01'][train_size:]['Motor Torque [Nm]']\n",
    "\n",
    "# Criando o janelamento do X e do y para rodar no LSTM\n",
    "timeline_X_seq, timeline_y_seq = create_seq(timeline_X, timeline_y.values, window_size=WINDOW_SIZE)\n",
    "\n",
    "# Realizando a predição com o modelo treinado e desnormalizando\n",
    "timeline_y_pred_seq = torque_model.predict(timeline_X_seq)\n",
    "timeline_y_pred_seq_desnorm = torque_y_scaler.inverse_transform(timeline_y_pred_seq)"
   ]
  },
  {
   "cell_type": "code",
   "execution_count": 38,
   "id": "5f81ca23-7b26-423e-a692-59e59fc8eab4",
   "metadata": {},
   "outputs": [
    {
     "data": {
      "image/png": "[encoded data removed]",
      "text/plain": [
       "<Figure size 2500x400 with 1 Axes>"
      ]
     },
     "metadata": {},
     "output_type": "display_data"
    }
   ],
   "source": [
    "# Plotando a linha do tempo original da jornada TripA01 em azul\n",
    "plt.figure(figsize=(25, 4))\n",
    "plt.plot(\n",
    "    trips[trips['Trip'] == 'TripA01']['Time [s]'], \n",
    "    trips[trips['Trip'] == 'TripA01']['Motor Torque [Nm]'], \n",
    "    label='Torque',\n",
    "    color='blue'\n",
    ")\n",
    "\n",
    "# Plotando a linha predita pelo modelo em verde transparente no final da timeline anterior\n",
    "plt.plot(\n",
    "    # Para conseguir o tempo, eu preciso pegar o X usado em teste e desnormalizar.\n",
    "    # Como a normalização do X foi feita com as 6 colunas, eu preciso usar as mesmas colunas e remover a coluna Trip\n",
    "    # A janela tem um tamanho pré-defindo, por exemplo 10. Nesse caso, ele usa 10 valores para predizer o décimo primeiro e assim continua até o final do dataset.\n",
    "    # Logo, os 10 primeiros valores não terãouma predição, então eu pego de WINDOW_SIZE até o final.\n",
    "    # Eu tinha 5 colunas no X e só preciso do tempo aqui, então, eu pelo a coluna 5 que corresponde a sexta no intervalo de 0 a 5.\n",
    "    torque_X_scaler.inverse_transform(timeline_X.drop(columns=['Trip'], axis=1)[WINDOW_SIZE:].values)[:, 5],\n",
    "    timeline_y_pred_seq_desnorm,\n",
    "    label='Previsto',\n",
    "    color='green',\n",
    "    alpha=0.6\n",
    ")\n",
    "\n",
    "plt.xlabel('Tempo')\n",
    "plt.ylabel('Torque')\n",
    "plt.title('Timeline Torque ao Longo do Tempo para a TripA01')\n",
    "plt.grid(True)\n",
    "plt.tight_layout()\n",
    "plt.legend()\n",
    "plt.show()"
   ]
  },
  {
   "cell_type": "code",
   "execution_count": 39,
   "id": "ec43005e-e470-4dc4-a767-cf83ffbf457f",
   "metadata": {},
   "outputs": [
    {
     "name": "stdout",
     "output_type": "stream",
     "text": [
      "\u001b[1m63/63\u001b[0m \u001b[32m━━━━━━━━━━━━━━━━━━━━\u001b[0m\u001b[37m\u001b[0m \u001b[1m0s\u001b[0m 865us/step\n"
     ]
    }
   ],
   "source": [
    "throttle_timeline_X = throttle_X_test[throttle_X_test['Trip'] == 'TripA01']\n",
    "\n",
    "total_trip_size = len(trips[trips['Trip'] == 'TripA01'])\n",
    "train_size = int(total_trip_size*0.8)\n",
    "throttle_timeline_y = trips[trips['Trip'] == 'TripA01'][train_size:]['Throttle [%]']\n",
    "\n",
    "throttle_timeline_X_seq, throttle_timeline_y_seq = create_seq(throttle_timeline_X, throttle_timeline_y.values, window_size=WINDOW_SIZE)\n",
    "\n",
    "throttle_timeline_y_pred_seq = throttle_model.predict(throttle_timeline_X_seq)\n",
    "throttle_timeline_y_pred_seq_desnorm = throttle_y_scaler.inverse_transform(throttle_timeline_y_pred_seq)"
   ]
  },
  {
   "cell_type": "code",
   "execution_count": 40,
   "id": "4b5e4f1a-bde1-4daa-801a-1482ee856f11",
   "metadata": {},
   "outputs": [
    {
     "data": {
      "image/png": "[encoded data removed]",
      "text/plain": [
       "<Figure size 2500x400 with 1 Axes>"
      ]
     },
     "metadata": {},
     "output_type": "display_data"
    }
   ],
   "source": [
    "plt.figure(figsize=(25, 4))\n",
    "plt.plot(\n",
    "    trips[trips['Trip'] == 'TripA01']['Time [s]'], \n",
    "    trips[trips['Trip'] == 'TripA01']['Throttle [%]'], \n",
    "    label='Throttle',\n",
    "    color='blue'\n",
    ")\n",
    "\n",
    "plt.plot(\n",
    "    throttle_X_scaler.inverse_transform(throttle_timeline_X.drop(columns=['Trip'], axis=1)[WINDOW_SIZE:].values)[:, 5],\n",
    "    throttle_timeline_y_pred_seq_desnorm,\n",
    "    label='Previsto',\n",
    "    color='red',\n",
    "    alpha=0.6\n",
    ")\n",
    "\n",
    "plt.xlabel('Tempo')\n",
    "plt.ylabel('Throttle')\n",
    "plt.title('Timeline Throttle ao Longo do Tempo para a TripA01')\n",
    "plt.grid(True)\n",
    "plt.tight_layout()\n",
    "plt.legend()\n",
    "plt.show()"
   ]
  },
  {
   "cell_type": "markdown",
   "id": "3a73227e-418a-4eae-839a-52b081ce2112",
   "metadata": {
    "jp-MarkdownHeadingCollapsed": true
   },
   "source": [
    "## Optuna"
   ]
  },
  {
   "cell_type": "markdown",
   "id": "f52dd5f6-e960-484d-86bd-493044541bb4",
   "metadata": {
    "jp-MarkdownHeadingCollapsed": true
   },
   "source": [
    "### Definitions"
   ]
  },
  {
   "cell_type": "code",
   "execution_count": 2,
   "id": "f649b5ad-502c-45d0-827b-ac08d63e54c2",
   "metadata": {},
   "outputs": [],
   "source": [
    "!export TF_ENABLE_ONEDNN_OPTS=0"
   ]
  },
  {
   "cell_type": "code",
   "execution_count": 3,
   "id": "dfd8c283-a41a-4e34-bb6a-b7a01850db68",
   "metadata": {},
   "outputs": [
    {
     "name": "stderr",
     "output_type": "stream",
     "text": [
      "2025-04-29 15:07:42.424420: I tensorflow/core/util/port.cc:153] oneDNN custom operations are on. You may see slightly different numerical results due to floating-point round-off errors from different computation orders. To turn them off, set the environment variable `TF_ENABLE_ONEDNN_OPTS=0`.\n",
      "2025-04-29 15:07:42.432852: E external/local_xla/xla/stream_executor/cuda/cuda_fft.cc:467] Unable to register cuFFT factory: Attempting to register factory for plugin cuFFT when one has already been registered\n",
      "WARNING: All log messages before absl::InitializeLog() is called are written to STDERR\n",
      "E0000 00:00:1745950062.442296   60509 cuda_dnn.cc:8579] Unable to register cuDNN factory: Attempting to register factory for plugin cuDNN when one has already been registered\n",
      "E0000 00:00:1745950062.445011   60509 cuda_blas.cc:1407] Unable to register cuBLAS factory: Attempting to register factory for plugin cuBLAS when one has already been registered\n",
      "W0000 00:00:1745950062.452430   60509 computation_placer.cc:177] computation placer already registered. Please check linkage and avoid linking the same target more than once.\n",
      "W0000 00:00:1745950062.452438   60509 computation_placer.cc:177] computation placer already registered. Please check linkage and avoid linking the same target more than once.\n",
      "W0000 00:00:1745950062.452439   60509 computation_placer.cc:177] computation placer already registered. Please check linkage and avoid linking the same target more than once.\n",
      "W0000 00:00:1745950062.452440   60509 computation_placer.cc:177] computation placer already registered. Please check linkage and avoid linking the same target more than once.\n",
      "2025-04-29 15:07:42.454868: I tensorflow/core/platform/cpu_feature_guard.cc:210] This TensorFlow binary is optimized to use available CPU instructions in performance-critical operations.\n",
      "To enable the following instructions: AVX2 AVX_VNNI FMA, in other operations, rebuild TensorFlow with the appropriate compiler flags.\n"
     ]
    }
   ],
   "source": [
    "import optuna\n",
    "\n",
    "import os\n",
    "import pandas as pd\n",
    "import numpy as np\n",
    "\n",
    "from sklearn.preprocessing import MinMaxScaler\n",
    "\n",
    "from tensorflow.keras.models import Sequential\n",
    "from tensorflow.keras import Input\n",
    "from tensorflow.keras.layers import LSTM, Dense, Dropout\n",
    "from tensorflow.keras.optimizers import Adam\n",
    "\n",
    "from IPython.display import display\n",
    "\n",
    "\n",
    "WINDOW_SIZE = 10\n",
    "TRAIN_SIZE = 0.8\n",
    "EPOCHS = 4\n",
    "TRIALS = 5"
   ]
  },
  {
   "cell_type": "code",
   "execution_count": 4,
   "id": "56cf756f-a6e0-40bb-a535-89b2791e452d",
   "metadata": {},
   "outputs": [],
   "source": [
    "def read_database(directory):\n",
    "    files = os.listdir(directory)\n",
    "    files.sort()\n",
    "    \n",
    "    trips = []\n",
    "    for file in files:\n",
    "        trip = pd.read_csv(directory + file, sep=\";\", encoding='unicode_escape')\n",
    "        trip = trip.sort_values(by='Time [s]')\n",
    "        trip['Trip'] = file.split(\".\")[0]\n",
    "        if 'Velocity [km/h]]]' in trip.columns:\n",
    "            trip = trip.rename(columns={'Velocity [km/h]]]': 'Velocity [km/h]'})\n",
    "        trips.append(trip)\n",
    "    \n",
    "    # Mapa (elet - comb):\n",
    "    # 'Ambient Temperature [°C]': 'Veh_ambient_temp_ECM',\n",
    "    # 'Cabin Temperature Sensor [°C]': 'HVAC_pass_compartment_air_temp_filt_HVAC',\n",
    "    # 'Heat Exchanger Temperature [°C]': 'HVAC_heater_core_coolant_temp_sensor_HVAC',\n",
    "    # 'Longitudinal Acceleration [m/s^2]': 'ActVehAccel',\n",
    "    # 'Throttle [%]': 'Eng_throttle_pos_ECM',\n",
    "    # 'Velocity [km/h]': 'VehSpdAvgDrvn'\n",
    "    colunas_selecionadas = [\n",
    "        'Ambient Temperature [°C]',\n",
    "        'Cabin Temperature Sensor [°C]',\n",
    "        'Heat Exchanger Temperature [°C]',\n",
    "        'Longitudinal Acceleration [m/s^2]',\n",
    "        'Throttle [%]',\n",
    "        'Velocity [km/h]',\n",
    "        'Motor Torque [Nm]',\n",
    "        'Time [s]',\n",
    "        'Trip'\n",
    "    ]\n",
    "    \n",
    "    \n",
    "    trips = pd.concat(trips)\n",
    "    trips = trips[colunas_selecionadas]\n",
    "    return trips"
   ]
  },
  {
   "cell_type": "code",
   "execution_count": 5,
   "id": "10e37f40-8832-4c58-a720-eed37b7dc448",
   "metadata": {},
   "outputs": [],
   "source": [
    "def normalize(data, label):\n",
    "    # Estou deixando 'Time [s]' no X pq os intervalos de tempo não são regulares\n",
    "    columns = ['Trip', 'Throttle [%]', 'Motor Torque [Nm]']\n",
    "    \n",
    "    X = data.drop(columns=columns)\n",
    "    y = data[label].values\n",
    "    \n",
    "    scaler_X = MinMaxScaler()\n",
    "    scaler_y = MinMaxScaler()\n",
    "    \n",
    "    X_scaled = scaler_X.fit_transform(X.values)\n",
    "    y_scaled = scaler_y.fit_transform(y.reshape(-1, 1))\n",
    "    \n",
    "    X_scaled = pd.DataFrame(\n",
    "        X_scaled,\n",
    "        columns=X.columns,\n",
    "        index=X.index\n",
    "    )\n",
    "    X_scaled['Trip'] = data['Trip']\n",
    "    \n",
    "    scaled_dataset = X_scaled\n",
    "    scaled_dataset[label] = y_scaled\n",
    "\n",
    "    return scaled_dataset, scaler_X, scaler_y"
   ]
  },
  {
   "cell_type": "code",
   "execution_count": 6,
   "id": "3694f3a8-9894-4a99-bdc1-4ffbac71a3b9",
   "metadata": {},
   "outputs": [],
   "source": [
    "def time_series_train_test_split(dataset, label, train_size=TRAIN_SIZE):\n",
    "    X_trains, X_tests, y_trains, y_tests = [], [], [], []    \n",
    "    \n",
    "    for trip in dataset['Trip'].unique():\n",
    "        data_slice = dataset[dataset['Trip'] == trip]\n",
    "        size = int(len(data_slice) * train_size)\n",
    "    \n",
    "        X_trains.append(data_slice.drop(columns=[label]).iloc[:size, :])\n",
    "        X_tests.append(data_slice.drop(columns=[label]).iloc[size:, :])\n",
    "        \n",
    "        y_trains.append(data_slice[label].iloc[:size])\n",
    "        y_tests.append(data_slice[label].iloc[size:])\n",
    "    \n",
    "    return pd.concat(X_trains), pd.concat(X_tests), pd.concat(y_trains), pd.concat(y_tests)"
   ]
  },
  {
   "cell_type": "code",
   "execution_count": 7,
   "id": "1efbd96f-9849-4667-864b-6ac9528b6a91",
   "metadata": {},
   "outputs": [],
   "source": [
    "def create_seq(X, y, window_size=WINDOW_SIZE):\n",
    "    X_seq, y_seq = [], []\n",
    "    \n",
    "    for i in range(window_size, len(X)):\n",
    "        data_slice = X.iloc[i-window_size:i, :]\n",
    "\n",
    "        # Se tiver mais de uma trip na mesma janela, eu não adiciono no conjunto de dados\n",
    "        if len(data_slice['Trip'].unique()) == 1:\n",
    "            X_seq.append(data_slice.drop(columns=['Trip']).values)\n",
    "            y_seq.append(y[i])\n",
    "        \n",
    "    return np.array(X_seq), np.array(y_seq)"
   ]
  },
  {
   "cell_type": "markdown",
   "id": "57834063-4589-46a0-9edf-c658d115a306",
   "metadata": {
    "jp-MarkdownHeadingCollapsed": true
   },
   "source": [
    "### Database Preparation"
   ]
  },
  {
   "cell_type": "code",
   "execution_count": 8,
   "id": "26603b0b-1d64-46ff-858f-620f65175f0f",
   "metadata": {},
   "outputs": [
    {
     "data": {
      "text/plain": [
       "(1094793, 9)"
      ]
     },
     "execution_count": 8,
     "metadata": {},
     "output_type": "execute_result"
    }
   ],
   "source": [
    "trips = read_database(\"./data/ieee/\")\n",
    "trips.shape"
   ]
  },
  {
   "cell_type": "code",
   "execution_count": 9,
   "id": "8f96e2d5-aee3-42fb-afae-bcb17aca93c4",
   "metadata": {},
   "outputs": [
    {
     "data": {
      "text/html": [
       "<div>\n",
       "<style scoped>\n",
       "    .dataframe tbody tr th:only-of-type {\n",
       "        vertical-align: middle;\n",
       "    }\n",
       "\n",
       "    .dataframe tbody tr th {\n",
       "        vertical-align: top;\n",
       "    }\n",
       "\n",
       "    .dataframe thead th {\n",
       "        text-align: right;\n",
       "    }\n",
       "</style>\n",
       "<table border=\"1\" class=\"dataframe\">\n",
       "  <thead>\n",
       "    <tr style=\"text-align: right;\">\n",
       "      <th></th>\n",
       "      <th>Ambient Temperature [°C]</th>\n",
       "      <th>Cabin Temperature Sensor [°C]</th>\n",
       "      <th>Heat Exchanger Temperature [°C]</th>\n",
       "      <th>Longitudinal Acceleration [m/s^2]</th>\n",
       "      <th>Velocity [km/h]</th>\n",
       "      <th>Time [s]</th>\n",
       "      <th>Trip</th>\n",
       "      <th>Motor Torque [Nm]</th>\n",
       "    </tr>\n",
       "  </thead>\n",
       "  <tbody>\n",
       "    <tr>\n",
       "      <th>0</th>\n",
       "      <td>0.783784</td>\n",
       "      <td>0.485904</td>\n",
       "      <td>0.424646</td>\n",
       "      <td>0.667161</td>\n",
       "      <td>0.0</td>\n",
       "      <td>0.000000</td>\n",
       "      <td>TripA01</td>\n",
       "      <td>0.260522</td>\n",
       "    </tr>\n",
       "    <tr>\n",
       "      <th>1</th>\n",
       "      <td>0.783784</td>\n",
       "      <td>0.485904</td>\n",
       "      <td>0.424646</td>\n",
       "      <td>0.669385</td>\n",
       "      <td>0.0</td>\n",
       "      <td>0.000018</td>\n",
       "      <td>TripA01</td>\n",
       "      <td>0.260522</td>\n",
       "    </tr>\n",
       "    <tr>\n",
       "      <th>2</th>\n",
       "      <td>0.783784</td>\n",
       "      <td>0.485904</td>\n",
       "      <td>0.424646</td>\n",
       "      <td>0.668643</td>\n",
       "      <td>0.0</td>\n",
       "      <td>0.000036</td>\n",
       "      <td>TripA01</td>\n",
       "      <td>0.260522</td>\n",
       "    </tr>\n",
       "    <tr>\n",
       "      <th>3</th>\n",
       "      <td>0.783784</td>\n",
       "      <td>0.485904</td>\n",
       "      <td>0.424646</td>\n",
       "      <td>0.667161</td>\n",
       "      <td>0.0</td>\n",
       "      <td>0.000053</td>\n",
       "      <td>TripA01</td>\n",
       "      <td>0.260522</td>\n",
       "    </tr>\n",
       "    <tr>\n",
       "      <th>4</th>\n",
       "      <td>0.783784</td>\n",
       "      <td>0.485904</td>\n",
       "      <td>0.424646</td>\n",
       "      <td>0.667161</td>\n",
       "      <td>0.0</td>\n",
       "      <td>0.000071</td>\n",
       "      <td>TripA01</td>\n",
       "      <td>0.260522</td>\n",
       "    </tr>\n",
       "  </tbody>\n",
       "</table>\n",
       "</div>"
      ],
      "text/plain": [
       "   Ambient Temperature [°C]  Cabin Temperature Sensor [°C]  \\\n",
       "0                  0.783784                       0.485904   \n",
       "1                  0.783784                       0.485904   \n",
       "2                  0.783784                       0.485904   \n",
       "3                  0.783784                       0.485904   \n",
       "4                  0.783784                       0.485904   \n",
       "\n",
       "   Heat Exchanger Temperature [°C]  Longitudinal Acceleration [m/s^2]  \\\n",
       "0                         0.424646                           0.667161   \n",
       "1                         0.424646                           0.669385   \n",
       "2                         0.424646                           0.668643   \n",
       "3                         0.424646                           0.667161   \n",
       "4                         0.424646                           0.667161   \n",
       "\n",
       "   Velocity [km/h]  Time [s]     Trip  Motor Torque [Nm]  \n",
       "0              0.0  0.000000  TripA01           0.260522  \n",
       "1              0.0  0.000018  TripA01           0.260522  \n",
       "2              0.0  0.000036  TripA01           0.260522  \n",
       "3              0.0  0.000053  TripA01           0.260522  \n",
       "4              0.0  0.000071  TripA01           0.260522  "
      ]
     },
     "metadata": {},
     "output_type": "display_data"
    },
    {
     "data": {
      "text/html": [
       "<div>\n",
       "<style scoped>\n",
       "    .dataframe tbody tr th:only-of-type {\n",
       "        vertical-align: middle;\n",
       "    }\n",
       "\n",
       "    .dataframe tbody tr th {\n",
       "        vertical-align: top;\n",
       "    }\n",
       "\n",
       "    .dataframe thead th {\n",
       "        text-align: right;\n",
       "    }\n",
       "</style>\n",
       "<table border=\"1\" class=\"dataframe\">\n",
       "  <thead>\n",
       "    <tr style=\"text-align: right;\">\n",
       "      <th></th>\n",
       "      <th>Ambient Temperature [°C]</th>\n",
       "      <th>Cabin Temperature Sensor [°C]</th>\n",
       "      <th>Heat Exchanger Temperature [°C]</th>\n",
       "      <th>Longitudinal Acceleration [m/s^2]</th>\n",
       "      <th>Velocity [km/h]</th>\n",
       "      <th>Time [s]</th>\n",
       "      <th>Trip</th>\n",
       "      <th>Throttle [%]</th>\n",
       "    </tr>\n",
       "  </thead>\n",
       "  <tbody>\n",
       "    <tr>\n",
       "      <th>0</th>\n",
       "      <td>0.783784</td>\n",
       "      <td>0.485904</td>\n",
       "      <td>0.424646</td>\n",
       "      <td>0.667161</td>\n",
       "      <td>0.0</td>\n",
       "      <td>0.000000</td>\n",
       "      <td>TripA01</td>\n",
       "      <td>0.0</td>\n",
       "    </tr>\n",
       "    <tr>\n",
       "      <th>1</th>\n",
       "      <td>0.783784</td>\n",
       "      <td>0.485904</td>\n",
       "      <td>0.424646</td>\n",
       "      <td>0.669385</td>\n",
       "      <td>0.0</td>\n",
       "      <td>0.000018</td>\n",
       "      <td>TripA01</td>\n",
       "      <td>0.0</td>\n",
       "    </tr>\n",
       "    <tr>\n",
       "      <th>2</th>\n",
       "      <td>0.783784</td>\n",
       "      <td>0.485904</td>\n",
       "      <td>0.424646</td>\n",
       "      <td>0.668643</td>\n",
       "      <td>0.0</td>\n",
       "      <td>0.000036</td>\n",
       "      <td>TripA01</td>\n",
       "      <td>0.0</td>\n",
       "    </tr>\n",
       "    <tr>\n",
       "      <th>3</th>\n",
       "      <td>0.783784</td>\n",
       "      <td>0.485904</td>\n",
       "      <td>0.424646</td>\n",
       "      <td>0.667161</td>\n",
       "      <td>0.0</td>\n",
       "      <td>0.000053</td>\n",
       "      <td>TripA01</td>\n",
       "      <td>0.0</td>\n",
       "    </tr>\n",
       "    <tr>\n",
       "      <th>4</th>\n",
       "      <td>0.783784</td>\n",
       "      <td>0.485904</td>\n",
       "      <td>0.424646</td>\n",
       "      <td>0.667161</td>\n",
       "      <td>0.0</td>\n",
       "      <td>0.000071</td>\n",
       "      <td>TripA01</td>\n",
       "      <td>0.0</td>\n",
       "    </tr>\n",
       "  </tbody>\n",
       "</table>\n",
       "</div>"
      ],
      "text/plain": [
       "   Ambient Temperature [°C]  Cabin Temperature Sensor [°C]  \\\n",
       "0                  0.783784                       0.485904   \n",
       "1                  0.783784                       0.485904   \n",
       "2                  0.783784                       0.485904   \n",
       "3                  0.783784                       0.485904   \n",
       "4                  0.783784                       0.485904   \n",
       "\n",
       "   Heat Exchanger Temperature [°C]  Longitudinal Acceleration [m/s^2]  \\\n",
       "0                         0.424646                           0.667161   \n",
       "1                         0.424646                           0.669385   \n",
       "2                         0.424646                           0.668643   \n",
       "3                         0.424646                           0.667161   \n",
       "4                         0.424646                           0.667161   \n",
       "\n",
       "   Velocity [km/h]  Time [s]     Trip  Throttle [%]  \n",
       "0              0.0  0.000000  TripA01           0.0  \n",
       "1              0.0  0.000018  TripA01           0.0  \n",
       "2              0.0  0.000036  TripA01           0.0  \n",
       "3              0.0  0.000053  TripA01           0.0  \n",
       "4              0.0  0.000071  TripA01           0.0  "
      ]
     },
     "metadata": {},
     "output_type": "display_data"
    }
   ],
   "source": [
    "torque_scaled_dataset, torque_X_scaler, torque_y_scaler = normalize(trips, 'Motor Torque [Nm]')\n",
    "display(torque_scaled_dataset.head())\n",
    "\n",
    "throttle_scaled_dataset, throttle_X_scaler, throttle_y_scaler = normalize(trips, 'Throttle [%]')\n",
    "display(throttle_scaled_dataset.head())"
   ]
  },
  {
   "cell_type": "code",
   "execution_count": 10,
   "id": "2c759307-453b-4cbc-91e6-eb87d8ce29c1",
   "metadata": {},
   "outputs": [
    {
     "name": "stdout",
     "output_type": "stream",
     "text": [
      "\n",
      "torque_X_train: (875810, 7)\n"
     ]
    },
    {
     "data": {
      "text/html": [
       "<div>\n",
       "<style scoped>\n",
       "    .dataframe tbody tr th:only-of-type {\n",
       "        vertical-align: middle;\n",
       "    }\n",
       "\n",
       "    .dataframe tbody tr th {\n",
       "        vertical-align: top;\n",
       "    }\n",
       "\n",
       "    .dataframe thead th {\n",
       "        text-align: right;\n",
       "    }\n",
       "</style>\n",
       "<table border=\"1\" class=\"dataframe\">\n",
       "  <thead>\n",
       "    <tr style=\"text-align: right;\">\n",
       "      <th></th>\n",
       "      <th>Ambient Temperature [°C]</th>\n",
       "      <th>Cabin Temperature Sensor [°C]</th>\n",
       "      <th>Heat Exchanger Temperature [°C]</th>\n",
       "      <th>Longitudinal Acceleration [m/s^2]</th>\n",
       "      <th>Velocity [km/h]</th>\n",
       "      <th>Time [s]</th>\n",
       "      <th>Trip</th>\n",
       "    </tr>\n",
       "  </thead>\n",
       "  <tbody>\n",
       "    <tr>\n",
       "      <th>0</th>\n",
       "      <td>0.783784</td>\n",
       "      <td>0.485904</td>\n",
       "      <td>0.424646</td>\n",
       "      <td>0.667161</td>\n",
       "      <td>0.0</td>\n",
       "      <td>0.000000</td>\n",
       "      <td>TripA01</td>\n",
       "    </tr>\n",
       "    <tr>\n",
       "      <th>1</th>\n",
       "      <td>0.783784</td>\n",
       "      <td>0.485904</td>\n",
       "      <td>0.424646</td>\n",
       "      <td>0.669385</td>\n",
       "      <td>0.0</td>\n",
       "      <td>0.000018</td>\n",
       "      <td>TripA01</td>\n",
       "    </tr>\n",
       "    <tr>\n",
       "      <th>2</th>\n",
       "      <td>0.783784</td>\n",
       "      <td>0.485904</td>\n",
       "      <td>0.424646</td>\n",
       "      <td>0.668643</td>\n",
       "      <td>0.0</td>\n",
       "      <td>0.000036</td>\n",
       "      <td>TripA01</td>\n",
       "    </tr>\n",
       "    <tr>\n",
       "      <th>3</th>\n",
       "      <td>0.783784</td>\n",
       "      <td>0.485904</td>\n",
       "      <td>0.424646</td>\n",
       "      <td>0.667161</td>\n",
       "      <td>0.0</td>\n",
       "      <td>0.000053</td>\n",
       "      <td>TripA01</td>\n",
       "    </tr>\n",
       "    <tr>\n",
       "      <th>4</th>\n",
       "      <td>0.783784</td>\n",
       "      <td>0.485904</td>\n",
       "      <td>0.424646</td>\n",
       "      <td>0.667161</td>\n",
       "      <td>0.0</td>\n",
       "      <td>0.000071</td>\n",
       "      <td>TripA01</td>\n",
       "    </tr>\n",
       "  </tbody>\n",
       "</table>\n",
       "</div>"
      ],
      "text/plain": [
       "   Ambient Temperature [°C]  Cabin Temperature Sensor [°C]  \\\n",
       "0                  0.783784                       0.485904   \n",
       "1                  0.783784                       0.485904   \n",
       "2                  0.783784                       0.485904   \n",
       "3                  0.783784                       0.485904   \n",
       "4                  0.783784                       0.485904   \n",
       "\n",
       "   Heat Exchanger Temperature [°C]  Longitudinal Acceleration [m/s^2]  \\\n",
       "0                         0.424646                           0.667161   \n",
       "1                         0.424646                           0.669385   \n",
       "2                         0.424646                           0.668643   \n",
       "3                         0.424646                           0.667161   \n",
       "4                         0.424646                           0.667161   \n",
       "\n",
       "   Velocity [km/h]  Time [s]     Trip  \n",
       "0              0.0  0.000000  TripA01  \n",
       "1              0.0  0.000018  TripA01  \n",
       "2              0.0  0.000036  TripA01  \n",
       "3              0.0  0.000053  TripA01  \n",
       "4              0.0  0.000071  TripA01  "
      ]
     },
     "metadata": {},
     "output_type": "display_data"
    },
    {
     "name": "stdout",
     "output_type": "stream",
     "text": [
      "\n",
      "torque_X_test: (218983, 7)\n"
     ]
    },
    {
     "data": {
      "text/html": [
       "<div>\n",
       "<style scoped>\n",
       "    .dataframe tbody tr th:only-of-type {\n",
       "        vertical-align: middle;\n",
       "    }\n",
       "\n",
       "    .dataframe tbody tr th {\n",
       "        vertical-align: top;\n",
       "    }\n",
       "\n",
       "    .dataframe thead th {\n",
       "        text-align: right;\n",
       "    }\n",
       "</style>\n",
       "<table border=\"1\" class=\"dataframe\">\n",
       "  <thead>\n",
       "    <tr style=\"text-align: right;\">\n",
       "      <th></th>\n",
       "      <th>Ambient Temperature [°C]</th>\n",
       "      <th>Cabin Temperature Sensor [°C]</th>\n",
       "      <th>Heat Exchanger Temperature [°C]</th>\n",
       "      <th>Longitudinal Acceleration [m/s^2]</th>\n",
       "      <th>Velocity [km/h]</th>\n",
       "      <th>Time [s]</th>\n",
       "      <th>Trip</th>\n",
       "    </tr>\n",
       "  </thead>\n",
       "  <tbody>\n",
       "    <tr>\n",
       "      <th>8072</th>\n",
       "      <td>0.959459</td>\n",
       "      <td>0.413521</td>\n",
       "      <td>0.0</td>\n",
       "      <td>0.676798</td>\n",
       "      <td>0.001773</td>\n",
       "      <td>0.143883</td>\n",
       "      <td>TripA01</td>\n",
       "    </tr>\n",
       "    <tr>\n",
       "      <th>8073</th>\n",
       "      <td>0.959459</td>\n",
       "      <td>0.413521</td>\n",
       "      <td>0.0</td>\n",
       "      <td>0.633803</td>\n",
       "      <td>0.001314</td>\n",
       "      <td>0.143901</td>\n",
       "      <td>TripA01</td>\n",
       "    </tr>\n",
       "    <tr>\n",
       "      <th>8074</th>\n",
       "      <td>0.959459</td>\n",
       "      <td>0.413521</td>\n",
       "      <td>0.0</td>\n",
       "      <td>0.624166</td>\n",
       "      <td>0.001117</td>\n",
       "      <td>0.143919</td>\n",
       "      <td>TripA01</td>\n",
       "    </tr>\n",
       "    <tr>\n",
       "      <th>8075</th>\n",
       "      <td>0.959459</td>\n",
       "      <td>0.413521</td>\n",
       "      <td>0.0</td>\n",
       "      <td>0.643440</td>\n",
       "      <td>0.000854</td>\n",
       "      <td>0.143937</td>\n",
       "      <td>TripA01</td>\n",
       "    </tr>\n",
       "    <tr>\n",
       "      <th>8076</th>\n",
       "      <td>0.959459</td>\n",
       "      <td>0.413521</td>\n",
       "      <td>0.0</td>\n",
       "      <td>0.642698</td>\n",
       "      <td>0.000722</td>\n",
       "      <td>0.143955</td>\n",
       "      <td>TripA01</td>\n",
       "    </tr>\n",
       "  </tbody>\n",
       "</table>\n",
       "</div>"
      ],
      "text/plain": [
       "      Ambient Temperature [°C]  Cabin Temperature Sensor [°C]  \\\n",
       "8072                  0.959459                       0.413521   \n",
       "8073                  0.959459                       0.413521   \n",
       "8074                  0.959459                       0.413521   \n",
       "8075                  0.959459                       0.413521   \n",
       "8076                  0.959459                       0.413521   \n",
       "\n",
       "      Heat Exchanger Temperature [°C]  Longitudinal Acceleration [m/s^2]  \\\n",
       "8072                              0.0                           0.676798   \n",
       "8073                              0.0                           0.633803   \n",
       "8074                              0.0                           0.624166   \n",
       "8075                              0.0                           0.643440   \n",
       "8076                              0.0                           0.642698   \n",
       "\n",
       "      Velocity [km/h]  Time [s]     Trip  \n",
       "8072         0.001773  0.143883  TripA01  \n",
       "8073         0.001314  0.143901  TripA01  \n",
       "8074         0.001117  0.143919  TripA01  \n",
       "8075         0.000854  0.143937  TripA01  \n",
       "8076         0.000722  0.143955  TripA01  "
      ]
     },
     "metadata": {},
     "output_type": "display_data"
    },
    {
     "name": "stdout",
     "output_type": "stream",
     "text": [
      "\n",
      "torque_y_train: (875810,)\n"
     ]
    },
    {
     "data": {
      "text/plain": [
       "0    0.260522\n",
       "1    0.260522\n",
       "2    0.260522\n",
       "3    0.260522\n",
       "4    0.260522\n",
       "Name: Motor Torque [Nm], dtype: float64"
      ]
     },
     "metadata": {},
     "output_type": "display_data"
    },
    {
     "name": "stdout",
     "output_type": "stream",
     "text": [
      "\n",
      "torque_y_test: (218983,)\n"
     ]
    },
    {
     "data": {
      "text/plain": [
       "8072    0.236811\n",
       "8073    0.246829\n",
       "8074    0.260522\n",
       "8075    0.260522\n",
       "8076    0.260522\n",
       "Name: Motor Torque [Nm], dtype: float64"
      ]
     },
     "metadata": {},
     "output_type": "display_data"
    }
   ],
   "source": [
    "torque_X_train, torque_X_test, torque_y_train, torque_y_test = time_series_train_test_split(torque_scaled_dataset, 'Motor Torque [Nm]')\n",
    "print(f\"\\ntorque_X_train: {torque_X_train.shape}\")\n",
    "display(torque_X_train.head())\n",
    "\n",
    "print(f\"\\ntorque_X_test: {torque_X_test.shape}\")\n",
    "display(torque_X_test.head())\n",
    "\n",
    "print(f\"\\ntorque_y_train: {torque_y_train.shape}\")\n",
    "display(torque_y_train.head())\n",
    "\n",
    "print(f\"\\ntorque_y_test: {torque_y_test.shape}\")\n",
    "display(torque_y_test.head())"
   ]
  },
  {
   "cell_type": "code",
   "execution_count": 11,
   "id": "f11fa6f6-8256-4c47-b71f-0ffa25080263",
   "metadata": {},
   "outputs": [
    {
     "name": "stdout",
     "output_type": "stream",
     "text": [
      "\n",
      "throttle_X_train: (875810, 7)\n"
     ]
    },
    {
     "data": {
      "text/html": [
       "<div>\n",
       "<style scoped>\n",
       "    .dataframe tbody tr th:only-of-type {\n",
       "        vertical-align: middle;\n",
       "    }\n",
       "\n",
       "    .dataframe tbody tr th {\n",
       "        vertical-align: top;\n",
       "    }\n",
       "\n",
       "    .dataframe thead th {\n",
       "        text-align: right;\n",
       "    }\n",
       "</style>\n",
       "<table border=\"1\" class=\"dataframe\">\n",
       "  <thead>\n",
       "    <tr style=\"text-align: right;\">\n",
       "      <th></th>\n",
       "      <th>Ambient Temperature [°C]</th>\n",
       "      <th>Cabin Temperature Sensor [°C]</th>\n",
       "      <th>Heat Exchanger Temperature [°C]</th>\n",
       "      <th>Longitudinal Acceleration [m/s^2]</th>\n",
       "      <th>Velocity [km/h]</th>\n",
       "      <th>Time [s]</th>\n",
       "      <th>Trip</th>\n",
       "    </tr>\n",
       "  </thead>\n",
       "  <tbody>\n",
       "    <tr>\n",
       "      <th>0</th>\n",
       "      <td>0.783784</td>\n",
       "      <td>0.485904</td>\n",
       "      <td>0.424646</td>\n",
       "      <td>0.667161</td>\n",
       "      <td>0.0</td>\n",
       "      <td>0.000000</td>\n",
       "      <td>TripA01</td>\n",
       "    </tr>\n",
       "    <tr>\n",
       "      <th>1</th>\n",
       "      <td>0.783784</td>\n",
       "      <td>0.485904</td>\n",
       "      <td>0.424646</td>\n",
       "      <td>0.669385</td>\n",
       "      <td>0.0</td>\n",
       "      <td>0.000018</td>\n",
       "      <td>TripA01</td>\n",
       "    </tr>\n",
       "    <tr>\n",
       "      <th>2</th>\n",
       "      <td>0.783784</td>\n",
       "      <td>0.485904</td>\n",
       "      <td>0.424646</td>\n",
       "      <td>0.668643</td>\n",
       "      <td>0.0</td>\n",
       "      <td>0.000036</td>\n",
       "      <td>TripA01</td>\n",
       "    </tr>\n",
       "    <tr>\n",
       "      <th>3</th>\n",
       "      <td>0.783784</td>\n",
       "      <td>0.485904</td>\n",
       "      <td>0.424646</td>\n",
       "      <td>0.667161</td>\n",
       "      <td>0.0</td>\n",
       "      <td>0.000053</td>\n",
       "      <td>TripA01</td>\n",
       "    </tr>\n",
       "    <tr>\n",
       "      <th>4</th>\n",
       "      <td>0.783784</td>\n",
       "      <td>0.485904</td>\n",
       "      <td>0.424646</td>\n",
       "      <td>0.667161</td>\n",
       "      <td>0.0</td>\n",
       "      <td>0.000071</td>\n",
       "      <td>TripA01</td>\n",
       "    </tr>\n",
       "  </tbody>\n",
       "</table>\n",
       "</div>"
      ],
      "text/plain": [
       "   Ambient Temperature [°C]  Cabin Temperature Sensor [°C]  \\\n",
       "0                  0.783784                       0.485904   \n",
       "1                  0.783784                       0.485904   \n",
       "2                  0.783784                       0.485904   \n",
       "3                  0.783784                       0.485904   \n",
       "4                  0.783784                       0.485904   \n",
       "\n",
       "   Heat Exchanger Temperature [°C]  Longitudinal Acceleration [m/s^2]  \\\n",
       "0                         0.424646                           0.667161   \n",
       "1                         0.424646                           0.669385   \n",
       "2                         0.424646                           0.668643   \n",
       "3                         0.424646                           0.667161   \n",
       "4                         0.424646                           0.667161   \n",
       "\n",
       "   Velocity [km/h]  Time [s]     Trip  \n",
       "0              0.0  0.000000  TripA01  \n",
       "1              0.0  0.000018  TripA01  \n",
       "2              0.0  0.000036  TripA01  \n",
       "3              0.0  0.000053  TripA01  \n",
       "4              0.0  0.000071  TripA01  "
      ]
     },
     "metadata": {},
     "output_type": "display_data"
    },
    {
     "name": "stdout",
     "output_type": "stream",
     "text": [
      "\n",
      "throttle_X_test: (218983, 7)\n"
     ]
    },
    {
     "data": {
      "text/html": [
       "<div>\n",
       "<style scoped>\n",
       "    .dataframe tbody tr th:only-of-type {\n",
       "        vertical-align: middle;\n",
       "    }\n",
       "\n",
       "    .dataframe tbody tr th {\n",
       "        vertical-align: top;\n",
       "    }\n",
       "\n",
       "    .dataframe thead th {\n",
       "        text-align: right;\n",
       "    }\n",
       "</style>\n",
       "<table border=\"1\" class=\"dataframe\">\n",
       "  <thead>\n",
       "    <tr style=\"text-align: right;\">\n",
       "      <th></th>\n",
       "      <th>Ambient Temperature [°C]</th>\n",
       "      <th>Cabin Temperature Sensor [°C]</th>\n",
       "      <th>Heat Exchanger Temperature [°C]</th>\n",
       "      <th>Longitudinal Acceleration [m/s^2]</th>\n",
       "      <th>Velocity [km/h]</th>\n",
       "      <th>Time [s]</th>\n",
       "      <th>Trip</th>\n",
       "    </tr>\n",
       "  </thead>\n",
       "  <tbody>\n",
       "    <tr>\n",
       "      <th>8072</th>\n",
       "      <td>0.959459</td>\n",
       "      <td>0.413521</td>\n",
       "      <td>0.0</td>\n",
       "      <td>0.676798</td>\n",
       "      <td>0.001773</td>\n",
       "      <td>0.143883</td>\n",
       "      <td>TripA01</td>\n",
       "    </tr>\n",
       "    <tr>\n",
       "      <th>8073</th>\n",
       "      <td>0.959459</td>\n",
       "      <td>0.413521</td>\n",
       "      <td>0.0</td>\n",
       "      <td>0.633803</td>\n",
       "      <td>0.001314</td>\n",
       "      <td>0.143901</td>\n",
       "      <td>TripA01</td>\n",
       "    </tr>\n",
       "    <tr>\n",
       "      <th>8074</th>\n",
       "      <td>0.959459</td>\n",
       "      <td>0.413521</td>\n",
       "      <td>0.0</td>\n",
       "      <td>0.624166</td>\n",
       "      <td>0.001117</td>\n",
       "      <td>0.143919</td>\n",
       "      <td>TripA01</td>\n",
       "    </tr>\n",
       "    <tr>\n",
       "      <th>8075</th>\n",
       "      <td>0.959459</td>\n",
       "      <td>0.413521</td>\n",
       "      <td>0.0</td>\n",
       "      <td>0.643440</td>\n",
       "      <td>0.000854</td>\n",
       "      <td>0.143937</td>\n",
       "      <td>TripA01</td>\n",
       "    </tr>\n",
       "    <tr>\n",
       "      <th>8076</th>\n",
       "      <td>0.959459</td>\n",
       "      <td>0.413521</td>\n",
       "      <td>0.0</td>\n",
       "      <td>0.642698</td>\n",
       "      <td>0.000722</td>\n",
       "      <td>0.143955</td>\n",
       "      <td>TripA01</td>\n",
       "    </tr>\n",
       "  </tbody>\n",
       "</table>\n",
       "</div>"
      ],
      "text/plain": [
       "      Ambient Temperature [°C]  Cabin Temperature Sensor [°C]  \\\n",
       "8072                  0.959459                       0.413521   \n",
       "8073                  0.959459                       0.413521   \n",
       "8074                  0.959459                       0.413521   \n",
       "8075                  0.959459                       0.413521   \n",
       "8076                  0.959459                       0.413521   \n",
       "\n",
       "      Heat Exchanger Temperature [°C]  Longitudinal Acceleration [m/s^2]  \\\n",
       "8072                              0.0                           0.676798   \n",
       "8073                              0.0                           0.633803   \n",
       "8074                              0.0                           0.624166   \n",
       "8075                              0.0                           0.643440   \n",
       "8076                              0.0                           0.642698   \n",
       "\n",
       "      Velocity [km/h]  Time [s]     Trip  \n",
       "8072         0.001773  0.143883  TripA01  \n",
       "8073         0.001314  0.143901  TripA01  \n",
       "8074         0.001117  0.143919  TripA01  \n",
       "8075         0.000854  0.143937  TripA01  \n",
       "8076         0.000722  0.143955  TripA01  "
      ]
     },
     "metadata": {},
     "output_type": "display_data"
    },
    {
     "name": "stdout",
     "output_type": "stream",
     "text": [
      "\n",
      "throttle_y_train: (875810,)\n"
     ]
    },
    {
     "data": {
      "text/plain": [
       "0    0.0\n",
       "1    0.0\n",
       "2    0.0\n",
       "3    0.0\n",
       "4    0.0\n",
       "Name: Throttle [%], dtype: float64"
      ]
     },
     "metadata": {},
     "output_type": "display_data"
    },
    {
     "name": "stdout",
     "output_type": "stream",
     "text": [
      "\n",
      "throttle_y_test: (218983,)\n"
     ]
    },
    {
     "data": {
      "text/plain": [
       "8072    0.0\n",
       "8073    0.0\n",
       "8074    0.0\n",
       "8075    0.0\n",
       "8076    0.0\n",
       "Name: Throttle [%], dtype: float64"
      ]
     },
     "metadata": {},
     "output_type": "display_data"
    }
   ],
   "source": [
    "throttle_X_train, throttle_X_test, throttle_y_train, throttle_y_test = time_series_train_test_split(throttle_scaled_dataset, 'Throttle [%]')\n",
    "print(f\"\\nthrottle_X_train: {throttle_X_train.shape}\")\n",
    "display(throttle_X_train.head())\n",
    "\n",
    "print(f\"\\nthrottle_X_test: {throttle_X_test.shape}\")\n",
    "display(throttle_X_test.head())\n",
    "\n",
    "print(f\"\\nthrottle_y_train: {throttle_y_train.shape}\")\n",
    "display(throttle_y_train.head())\n",
    "\n",
    "print(f\"\\nthrottle_y_test: {throttle_y_test.shape}\")\n",
    "display(throttle_y_test.head())"
   ]
  },
  {
   "cell_type": "code",
   "execution_count": 12,
   "id": "64f48a96-2b28-4851-979b-5386cff3cd18",
   "metadata": {},
   "outputs": [
    {
     "name": "stdout",
     "output_type": "stream",
     "text": [
      "TRAIN:\n",
      "torque_X_train_seq (875179, 10, 6)\n",
      "torque_y_train_seq (875179,)\n",
      "\n",
      "TEST:\n",
      "torque_X_test_seq (218352, 10, 6)\n",
      "torque_y_test_seq (218352,)\n"
     ]
    }
   ],
   "source": [
    "torque_X_train_seq, torque_y_train_seq = create_seq(torque_X_train, torque_y_train.values, window_size=WINDOW_SIZE)\n",
    "torque_X_test_seq, torque_y_test_seq = create_seq(torque_X_test, torque_y_test.values, window_size=WINDOW_SIZE)\n",
    "\n",
    "print(\"TRAIN:\")\n",
    "print(f\"torque_X_train_seq {torque_X_train_seq.shape}\")\n",
    "print(f\"torque_y_train_seq {torque_y_train_seq.shape}\")\n",
    "print(\"\\nTEST:\")\n",
    "print(f\"torque_X_test_seq {torque_X_test_seq.shape}\")\n",
    "print(f\"torque_y_test_seq {torque_y_test_seq.shape}\")"
   ]
  },
  {
   "cell_type": "code",
   "execution_count": 15,
   "id": "3be2ca32-4db6-4811-8b86-f75b868ab2e4",
   "metadata": {},
   "outputs": [
    {
     "name": "stdout",
     "output_type": "stream",
     "text": [
      "TRAIN:\n",
      "throttle_X_train_seq (875179, 10, 6)\n",
      "throttle_y_train_seq (875179,)\n",
      "\n",
      "TEST:\n",
      "throttle_X_test_seq (218352, 10, 6)\n",
      "throttle_y_test_seq (218352,)\n"
     ]
    }
   ],
   "source": [
    "throttle_X_train_seq, throttle_y_train_seq = create_seq(throttle_X_train, throttle_y_train.values, window_size=WINDOW_SIZE)\n",
    "throttle_X_test_seq, throttle_y_test_seq = create_seq(throttle_X_test, throttle_y_test.values, window_size=WINDOW_SIZE)\n",
    "\n",
    "print(\"TRAIN:\")\n",
    "print(f\"throttle_X_train_seq {throttle_X_train_seq.shape}\")\n",
    "print(f\"throttle_y_train_seq {throttle_y_train_seq.shape}\")\n",
    "print(\"\\nTEST:\")\n",
    "print(f\"throttle_X_test_seq {throttle_X_test_seq.shape}\")\n",
    "print(f\"throttle_y_test_seq {throttle_y_test_seq.shape}\")"
   ]
  },
  {
   "cell_type": "markdown",
   "id": "2ba94d46-5589-4d27-b9b0-23c0ebd00857",
   "metadata": {
    "jp-MarkdownHeadingCollapsed": true
   },
   "source": [
    "### Optuna Definitions"
   ]
  },
  {
   "cell_type": "code",
   "execution_count": 14,
   "id": "5e703a93-5747-4205-9a45-8ecbda45632f",
   "metadata": {},
   "outputs": [],
   "source": [
    "def optuna_train_test_split(X_train_seq, y_train_seq, train_size=TRAIN_SIZE):\n",
    "    # Divisão de treino e validação com 80% para treino e 20% para validação\n",
    "    X_seq = X_train_seq\n",
    "    y_seq = y_train_seq\n",
    "    train_size = int(len(X_seq) * train_size)\n",
    "    X_train, X_test = X_seq[:train_size], X_seq[train_size:]\n",
    "    y_train, y_test = y_seq[:train_size], y_seq[train_size:]\n",
    "\n",
    "    return X_train, X_test, y_train, y_test"
   ]
  },
  {
   "cell_type": "code",
   "execution_count": 15,
   "id": "0b0bd302-c5a2-4895-ab33-cdf76cbed299",
   "metadata": {},
   "outputs": [],
   "source": [
    "def optuna_results(study):\n",
    "    best = study.best_trial\n",
    "\n",
    "    print(\"Melhor valor objetivo:\", best.value)\n",
    "    print(\"Hiperparâmetros:\")\n",
    "    for key, value in best.params.items():\n",
    "        print(f\"  {key}: {value}\")"
   ]
  },
  {
   "cell_type": "code",
   "execution_count": 30,
   "id": "68f621ac-ce9a-4f5a-a124-38ba0beb9711",
   "metadata": {},
   "outputs": [],
   "source": [
    "def optuna_LSTM_model_01(trial, input_shape):\n",
    "    model = Sequential()\n",
    "\n",
    "    lstm_units = trial.suggest_int(\"lstm_units\", 16, 64, step=16)\n",
    "    dense_units = trial.suggest_int(\"dense_units\", 16, 64, step=16)\n",
    "    lstm_activation_units = trial.suggest_categorical(\"lstm_activation\", [\"relu\", \"tanh\", \"sigmoid\", \"linear\"])\n",
    "    dense_activation_units = trial.suggest_categorical(\"dense_activation\", [\"relu\", \"tanh\", \"sigmoid\", \"linear\"])\n",
    "    learning_rate_units = trial.suggest_float(\"learning_rate\", 1e-5, 1e-2, log=True)\n",
    "    \n",
    "    model.add(Input(shape=(optuna_X_train.shape[1], optuna_X_train.shape[2])))\n",
    "    model.add(LSTM(units=lstm_units, activation=lstm_activation_units))\n",
    "    model.add(Dense(units=dense_units, activation=dense_activation_units))\n",
    "    model.add(Dense(1))\n",
    "\n",
    "    optimizer = Adam(learning_rate=learning_rate_units)\n",
    "    \n",
    "    model.compile(optimizer=optimizer, loss='mse', metrics=['mae'])\n",
    "\n",
    "    return model\n",
    "\n",
    "\n",
    "def objective_01(trial):\n",
    "    batch_size_units = trial.suggest_int(\"batch_size\", 32, 128, step=32)\n",
    "\n",
    "    input_shape = (optuna_X_train.shape[1], optuna_X_train.shape[2])\n",
    "    model = optuna_LSTM_model_01(trial, input_shape)\n",
    "\n",
    "    history = model.fit(\n",
    "        optuna_X_train, optuna_y_train, \n",
    "        validation_data=(optuna_X_test, optuna_y_test), \n",
    "        epochs=EPOCHS, \n",
    "        batch_size=batch_size_units\n",
    "    )\n",
    "\n",
    "    val_loss = history.history[\"val_loss\"][-1]\n",
    "    return val_loss"
   ]
  },
  {
   "cell_type": "code",
   "execution_count": 31,
   "id": "276d6c67-f132-4386-8f35-5fb1ce623066",
   "metadata": {},
   "outputs": [],
   "source": [
    "def optuna_LSTM_model_02(trial, input_shape):\n",
    "    model = Sequential()\n",
    "\n",
    "    lstm_units = trial.suggest_int(\"lstm_units\", 16, 64, step=16)\n",
    "    dense_units = trial.suggest_int(\"dense_units\", 16, 64, step=16)\n",
    "    lstm_activation_units = trial.suggest_categorical(\"lstm_activation\", [\"relu\", \"tanh\", \"sigmoid\", \"linear\"])\n",
    "    dense_activation_units = trial.suggest_categorical(\"dense_activation\", [\"relu\", \"tanh\", \"sigmoid\", \"linear\"])\n",
    "    learning_rate_units = trial.suggest_float(\"learning_rate\", 1e-5, 1e-2, log=True)\n",
    "    dropout = trial.suggest_float(\"dropout\", 0.0, 0.5)\n",
    "    recurrent_dropout = trial.suggest_float(\"recurrent_dropout\", 0.0, 0.5)\n",
    "    \n",
    "    model.add(Input(shape=(optuna_X_train.shape[1], optuna_X_train.shape[2])))\n",
    "    model.add(LSTM(units=lstm_units, activation=lstm_activation_units, dropout=dropout, recurrent_dropout=recurrent_dropout))\n",
    "    model.add(Dense(units=dense_units, activation=dense_activation_units))\n",
    "    model.add(Dense(1))\n",
    "\n",
    "    optimizer = Adam(learning_rate=learning_rate_units)\n",
    "    \n",
    "    model.compile(optimizer=optimizer, loss='mse', metrics=['mae'])\n",
    "\n",
    "    return model\n",
    "\n",
    "\n",
    "def objective_02(trial):\n",
    "    batch_size_units = trial.suggest_int(\"batch_size\", 32, 128, step=32)\n",
    "\n",
    "    input_shape = (optuna_X_train.shape[1], optuna_X_train.shape[2])\n",
    "    model = optuna_LSTM_model_02(trial, input_shape)\n",
    "\n",
    "    history = model.fit(\n",
    "        optuna_X_train, optuna_y_train, \n",
    "        validation_data=(optuna_X_test, optuna_y_test), \n",
    "        epochs=EPOCHS, \n",
    "        batch_size=batch_size_units\n",
    "    )\n",
    "\n",
    "    val_loss = history.history[\"val_loss\"][-1]\n",
    "    return val_loss"
   ]
  },
  {
   "cell_type": "code",
   "execution_count": 32,
   "id": "ec64fc76-4ac2-4d22-9a2d-c64e36fb0308",
   "metadata": {},
   "outputs": [],
   "source": [
    "def optuna_LSTM_model_03(trial, input_shape):\n",
    "    model = Sequential()\n",
    "\n",
    "    lstm1_units = trial.suggest_int(\"lstm1_units\", 16, 64, step=16)\n",
    "    lstm2_units = trial.suggest_int(\"lstm2_units\", 16, 64, step=16)\n",
    "    dense_units = trial.suggest_int(\"dense_units\", 16, 64, step=16)\n",
    "    lstm1_activation_units = trial.suggest_categorical(\"lstm_activation_1\", [\"relu\", \"tanh\", \"sigmoid\", \"linear\"])\n",
    "    lstm2_activation_units = trial.suggest_categorical(\"lstm_activation_2\", [\"relu\", \"tanh\", \"sigmoid\", \"linear\"])\n",
    "    dense_activation_units = trial.suggest_categorical(\"dense_activation\", [\"relu\", \"tanh\", \"sigmoid\", \"linear\"])\n",
    "    learning_rate_units = trial.suggest_float(\"learning_rate\", 1e-5, 1e-2, log=True)\n",
    "    \n",
    "    model.add(Input(shape=(optuna_X_train.shape[1], optuna_X_train.shape[2])))\n",
    "    model.add(LSTM(units=lstm1_units, return_sequences=True, activation=lstm1_activation_units))\n",
    "    model.add(LSTM(units=lstm2_units, activation=lstm2_activation_units))\n",
    "    model.add(Dense(units=dense_units, activation=dense_activation_units))\n",
    "    model.add(Dense(1))\n",
    "\n",
    "    optimizer = Adam(learning_rate=learning_rate_units)\n",
    "    \n",
    "    model.compile(optimizer=optimizer, loss='mse', metrics=['mae'])\n",
    "\n",
    "    return model\n",
    "\n",
    "\n",
    "def objective_03(trial):\n",
    "    batch_size_units = trial.suggest_int(\"batch_size\", 32, 128, step=32)\n",
    "\n",
    "    input_shape = (optuna_X_train.shape[1], optuna_X_train.shape[2])\n",
    "    model = optuna_LSTM_model_03(trial, input_shape)\n",
    "\n",
    "    history = model.fit(\n",
    "        optuna_X_train, optuna_y_train, \n",
    "        validation_data=(optuna_X_test, optuna_y_test), \n",
    "        epochs=EPOCHS, \n",
    "        batch_size=batch_size_units\n",
    "    )\n",
    "\n",
    "    val_loss = history.history[\"val_loss\"][-1]\n",
    "    return val_loss"
   ]
  },
  {
   "cell_type": "code",
   "execution_count": 33,
   "id": "e32a85f9-19b5-42e6-b683-48b2e34a16b9",
   "metadata": {},
   "outputs": [],
   "source": [
    "def optuna_LSTM_model_04(trial, input_shape):\n",
    "    model = Sequential()\n",
    "\n",
    "    lstm1_units = trial.suggest_int(\"lstm1_units\", 16, 64, step=16)\n",
    "    lstm2_units = trial.suggest_int(\"lstm2_units\", 16, 64, step=16)\n",
    "    dense_units = trial.suggest_int(\"dense_units\", 16, 64, step=16)\n",
    "    lstm1_activation_units = trial.suggest_categorical(\"lstm_activation_1\", [\"relu\", \"tanh\", \"sigmoid\", \"linear\"])\n",
    "    lstm2_activation_units = trial.suggest_categorical(\"lstm_activation_2\", [\"relu\", \"tanh\", \"sigmoid\", \"linear\"])\n",
    "    dense_activation_units = trial.suggest_categorical(\"dense_activation\", [\"relu\", \"tanh\", \"sigmoid\", \"linear\"])\n",
    "    learning_rate_units = trial.suggest_float(\"learning_rate\", 1e-5, 1e-2, log=True)\n",
    "    dropout1 = trial.suggest_float(\"dropout1\", 0.0, 0.5)\n",
    "    recurrent_dropout1 = trial.suggest_float(\"recurrent_dropout1\", 0.0, 0.5)\n",
    "    dropout2 = trial.suggest_float(\"dropout2\", 0.0, 0.5)\n",
    "    recurrent_dropout2 = trial.suggest_float(\"recurrent_dropout2\", 0.0, 0.5)\n",
    "    \n",
    "    model.add(Input(shape=(optuna_X_train.shape[1], optuna_X_train.shape[2])))\n",
    "    model.add(LSTM(units=lstm1_units, return_sequences=True, activation=lstm1_activation_units, dropout=dropout1, recurrent_dropout=recurrent_dropout1))\n",
    "    model.add(LSTM(units=lstm2_units, activation=lstm2_activation_units, dropout=dropout2, recurrent_dropout=recurrent_dropout2))\n",
    "    model.add(Dense(units=dense_units, activation=dense_activation_units))\n",
    "    model.add(Dense(1))\n",
    "\n",
    "    optimizer = Adam(learning_rate=learning_rate_units)\n",
    "    \n",
    "    model.compile(optimizer=optimizer, loss='mse', metrics=['mae'])\n",
    "\n",
    "    return model\n",
    "\n",
    "\n",
    "def objective_04(trial):\n",
    "    batch_size_units = trial.suggest_int(\"batch_size\", 32, 128, step=32)\n",
    "\n",
    "    input_shape = (optuna_X_train.shape[1], optuna_X_train.shape[2])\n",
    "    model = optuna_LSTM_model_04(trial, input_shape)\n",
    "\n",
    "    history = model.fit(\n",
    "        optuna_X_train, optuna_y_train, \n",
    "        validation_data=(optuna_X_test, optuna_y_test), \n",
    "        epochs=EPOCHS, \n",
    "        batch_size=batch_size_units\n",
    "    )\n",
    "\n",
    "    val_loss = history.history[\"val_loss\"][-1]\n",
    "    return val_loss"
   ]
  },
  {
   "cell_type": "markdown",
   "id": "d3e1e630-2f60-4384-938e-44e9093119cf",
   "metadata": {
    "jp-MarkdownHeadingCollapsed": true
   },
   "source": [
    "### Studies"
   ]
  },
  {
   "cell_type": "code",
   "execution_count": 34,
   "id": "086e9361-245b-4312-903f-855f9c6aa613",
   "metadata": {},
   "outputs": [],
   "source": [
    "optuna_X_train, optuna_X_test, optuna_y_train, optuna_y_test = optuna_train_test_split(torque_X_train_seq, torque_y_train_seq, train_size=TRAIN_SIZE)"
   ]
  },
  {
   "cell_type": "code",
   "execution_count": 35,
   "id": "2577868a-5121-42d6-ba23-76d41db8b58f",
   "metadata": {},
   "outputs": [
    {
     "name": "stderr",
     "output_type": "stream",
     "text": [
      "[I 2025-04-29 15:48:07,148] A new study created in RDB with name: 1) Torque - LSTM Puro\n"
     ]
    },
    {
     "name": "stdout",
     "output_type": "stream",
     "text": [
      "Epoch 1/4\n",
      "\u001b[1m21880/21880\u001b[0m \u001b[32m━━━━━━━━━━━━━━━━━━━━\u001b[0m\u001b[37m\u001b[0m \u001b[1m36s\u001b[0m 2ms/step - loss: 0.0050 - mae: 0.0408 - val_loss: 8.3845e-04 - val_mae: 0.0182\n",
      "Epoch 2/4\n",
      "\u001b[1m21880/21880\u001b[0m \u001b[32m━━━━━━━━━━━━━━━━━━━━\u001b[0m\u001b[37m\u001b[0m \u001b[1m34s\u001b[0m 2ms/step - loss: 6.4849e-04 - mae: 0.0161 - val_loss: 7.1054e-04 - val_mae: 0.0173\n",
      "Epoch 3/4\n",
      "\u001b[1m21880/21880\u001b[0m \u001b[32m━━━━━━━━━━━━━━━━━━━━\u001b[0m\u001b[37m\u001b[0m \u001b[1m34s\u001b[0m 2ms/step - loss: 5.5944e-04 - mae: 0.0150 - val_loss: 6.6764e-04 - val_mae: 0.0170\n",
      "Epoch 4/4\n",
      "\u001b[1m21880/21880\u001b[0m \u001b[32m━━━━━━━━━━━━━━━━━━━━\u001b[0m\u001b[37m\u001b[0m \u001b[1m34s\u001b[0m 2ms/step - loss: 5.2991e-04 - mae: 0.0146 - val_loss: 6.4843e-04 - val_mae: 0.0168\n"
     ]
    },
    {
     "name": "stderr",
     "output_type": "stream",
     "text": [
      "[I 2025-04-29 15:50:26,104] Trial 0 finished with value: 0.000648426590487361 and parameters: {'batch_size': 32, 'lstm_units': 32, 'dense_units': 48, 'lstm_activation': 'relu', 'dense_activation': 'linear', 'learning_rate': 4.870656013731881e-05}. Best is trial 0 with value: 0.000648426590487361.\n"
     ]
    },
    {
     "name": "stdout",
     "output_type": "stream",
     "text": [
      "Epoch 1/4\n",
      "\u001b[1m7294/7294\u001b[0m \u001b[32m━━━━━━━━━━━━━━━━━━━━\u001b[0m\u001b[37m\u001b[0m \u001b[1m19s\u001b[0m 3ms/step - loss: 0.0018 - mae: 0.0241 - val_loss: 7.7089e-04 - val_mae: 0.0213\n",
      "Epoch 2/4\n",
      "\u001b[1m7294/7294\u001b[0m \u001b[32m━━━━━━━━━━━━━━━━━━━━\u001b[0m\u001b[37m\u001b[0m \u001b[1m18s\u001b[0m 2ms/step - loss: 4.3590e-04 - mae: 0.0145 - val_loss: 4.7798e-04 - val_mae: 0.0149\n",
      "Epoch 3/4\n",
      "\u001b[1m7294/7294\u001b[0m \u001b[32m━━━━━━━━━━━━━━━━━━━━\u001b[0m\u001b[37m\u001b[0m \u001b[1m18s\u001b[0m 2ms/step - loss: 3.8292e-04 - mae: 0.0134 - val_loss: 4.5079e-04 - val_mae: 0.0143\n",
      "Epoch 4/4\n",
      "\u001b[1m7294/7294\u001b[0m \u001b[32m━━━━━━━━━━━━━━━━━━━━\u001b[0m\u001b[37m\u001b[0m \u001b[1m18s\u001b[0m 2ms/step - loss: 3.5310e-04 - mae: 0.0128 - val_loss: 0.0011 - val_mae: 0.0162\n"
     ]
    },
    {
     "name": "stderr",
     "output_type": "stream",
     "text": [
      "[I 2025-04-29 15:51:39,725] Trial 1 finished with value: 0.001060600159689784 and parameters: {'batch_size': 96, 'lstm_units': 64, 'dense_units': 48, 'lstm_activation': 'tanh', 'dense_activation': 'linear', 'learning_rate': 0.006754474539861031}. Best is trial 0 with value: 0.000648426590487361.\n"
     ]
    },
    {
     "name": "stdout",
     "output_type": "stream",
     "text": [
      "Epoch 1/4\n",
      "\u001b[1m21880/21880\u001b[0m \u001b[32m━━━━━━━━━━━━━━━━━━━━\u001b[0m\u001b[37m\u001b[0m \u001b[1m35s\u001b[0m 2ms/step - loss: 0.0019 - mae: 0.0240 - val_loss: 5.2092e-04 - val_mae: 0.0155\n",
      "Epoch 2/4\n",
      "\u001b[1m21880/21880\u001b[0m \u001b[32m━━━━━━━━━━━━━━━━━━━━\u001b[0m\u001b[37m\u001b[0m \u001b[1m34s\u001b[0m 2ms/step - loss: 4.2841e-04 - mae: 0.0139 - val_loss: 4.5480e-04 - val_mae: 0.0142\n",
      "Epoch 3/4\n",
      "\u001b[1m21880/21880\u001b[0m \u001b[32m━━━━━━━━━━━━━━━━━━━━\u001b[0m\u001b[37m\u001b[0m \u001b[1m35s\u001b[0m 2ms/step - loss: 3.7493e-04 - mae: 0.0130 - val_loss: 4.2045e-04 - val_mae: 0.0134\n",
      "Epoch 4/4\n",
      "\u001b[1m21880/21880\u001b[0m \u001b[32m━━━━━━━━━━━━━━━━━━━━\u001b[0m\u001b[37m\u001b[0m \u001b[1m35s\u001b[0m 2ms/step - loss: 3.4363e-04 - mae: 0.0123 - val_loss: 3.9736e-04 - val_mae: 0.0135\n"
     ]
    },
    {
     "name": "stderr",
     "output_type": "stream",
     "text": [
      "[I 2025-04-29 15:53:59,116] Trial 2 finished with value: 0.00039736265898682177 and parameters: {'batch_size': 32, 'lstm_units': 32, 'dense_units': 48, 'lstm_activation': 'relu', 'dense_activation': 'relu', 'learning_rate': 0.0005497131664742597}. Best is trial 2 with value: 0.00039736265898682177.\n"
     ]
    },
    {
     "name": "stdout",
     "output_type": "stream",
     "text": [
      "Epoch 1/4\n",
      "\u001b[1m7294/7294\u001b[0m \u001b[32m━━━━━━━━━━━━━━━━━━━━\u001b[0m\u001b[37m\u001b[0m \u001b[1m14s\u001b[0m 2ms/step - loss: 0.0019 - mae: 0.0262 - val_loss: 6.0514e-04 - val_mae: 0.0160\n",
      "Epoch 2/4\n",
      "\u001b[1m7294/7294\u001b[0m \u001b[32m━━━━━━━━━━━━━━━━━━━━\u001b[0m\u001b[37m\u001b[0m \u001b[1m12s\u001b[0m 2ms/step - loss: 5.3400e-04 - mae: 0.0153 - val_loss: 5.9464e-04 - val_mae: 0.0171\n",
      "Epoch 3/4\n",
      "\u001b[1m7294/7294\u001b[0m \u001b[32m━━━━━━━━━━━━━━━━━━━━\u001b[0m\u001b[37m\u001b[0m \u001b[1m13s\u001b[0m 2ms/step - loss: 4.5442e-04 - mae: 0.0142 - val_loss: 5.8467e-04 - val_mae: 0.0164\n",
      "Epoch 4/4\n",
      "\u001b[1m7294/7294\u001b[0m \u001b[32m━━━━━━━━━━━━━━━━━━━━\u001b[0m\u001b[37m\u001b[0m \u001b[1m12s\u001b[0m 2ms/step - loss: 4.0631e-04 - mae: 0.0135 - val_loss: 4.4878e-04 - val_mae: 0.0147\n"
     ]
    },
    {
     "name": "stderr",
     "output_type": "stream",
     "text": [
      "[I 2025-04-29 15:54:50,556] Trial 3 finished with value: 0.00044878467451781034 and parameters: {'batch_size': 96, 'lstm_units': 48, 'dense_units': 48, 'lstm_activation': 'linear', 'dense_activation': 'sigmoid', 'learning_rate': 0.0008109623357754759}. Best is trial 2 with value: 0.00039736265898682177.\n"
     ]
    },
    {
     "name": "stdout",
     "output_type": "stream",
     "text": [
      "Epoch 1/4\n",
      "\u001b[1m21880/21880\u001b[0m \u001b[32m━━━━━━━━━━━━━━━━━━━━\u001b[0m\u001b[37m\u001b[0m \u001b[1m55s\u001b[0m 2ms/step - loss: 0.0012 - mae: 0.0211 - val_loss: 4.3291e-04 - val_mae: 0.0148\n",
      "Epoch 2/4\n",
      "\u001b[1m21880/21880\u001b[0m \u001b[32m━━━━━━━━━━━━━━━━━━━━\u001b[0m\u001b[37m\u001b[0m \u001b[1m57s\u001b[0m 3ms/step - loss: 3.9772e-04 - mae: 0.0136 - val_loss: 4.7002e-04 - val_mae: 0.0152\n",
      "Epoch 3/4\n",
      "\u001b[1m21880/21880\u001b[0m \u001b[32m━━━━━━━━━━━━━━━━━━━━\u001b[0m\u001b[37m\u001b[0m \u001b[1m56s\u001b[0m 3ms/step - loss: 3.6436e-04 - mae: 0.0130 - val_loss: 4.0226e-04 - val_mae: 0.0132\n",
      "Epoch 4/4\n",
      "\u001b[1m21880/21880\u001b[0m \u001b[32m━━━━━━━━━━━━━━━━━━━━\u001b[0m\u001b[37m\u001b[0m \u001b[1m57s\u001b[0m 3ms/step - loss: 3.4214e-04 - mae: 0.0126 - val_loss: 4.3101e-04 - val_mae: 0.0132\n"
     ]
    },
    {
     "name": "stderr",
     "output_type": "stream",
     "text": [
      "[I 2025-04-29 15:58:36,167] Trial 4 finished with value: 0.0004310135554987937 and parameters: {'batch_size': 32, 'lstm_units': 48, 'dense_units': 48, 'lstm_activation': 'tanh', 'dense_activation': 'tanh', 'learning_rate': 0.00267164905119981}. Best is trial 2 with value: 0.00039736265898682177.\n"
     ]
    },
    {
     "name": "stdout",
     "output_type": "stream",
     "text": [
      "Melhor valor objetivo: 0.00039736265898682177\n",
      "Hiperparâmetros:\n",
      "  batch_size: 32\n",
      "  lstm_units: 32\n",
      "  dense_units: 48\n",
      "  lstm_activation: relu\n",
      "  dense_activation: relu\n",
      "  learning_rate: 0.0005497131664742597\n"
     ]
    }
   ],
   "source": [
    "study_01 = optuna.create_study(\n",
    "    direction=\"minimize\",\n",
    "    storage=\"sqlite:///lstm.sqlite3\",\n",
    "    study_name=\"1) Torque - LSTM Puro\"\n",
    ")\n",
    "study_01.optimize(objective_01, n_trials=TRIALS)\n",
    "\n",
    "optuna_results(study_01)"
   ]
  },
  {
   "cell_type": "code",
   "execution_count": 36,
   "id": "abec3f99-d86f-4939-83a3-fe82bf21affd",
   "metadata": {},
   "outputs": [
    {
     "name": "stderr",
     "output_type": "stream",
     "text": [
      "[I 2025-04-29 15:58:36,195] A new study created in RDB with name: 2) Torque - LSTM Dropout\n"
     ]
    },
    {
     "name": "stdout",
     "output_type": "stream",
     "text": [
      "Epoch 1/4\n",
      "\u001b[1m21880/21880\u001b[0m \u001b[32m━━━━━━━━━━━━━━━━━━━━\u001b[0m\u001b[37m\u001b[0m \u001b[1m57s\u001b[0m 2ms/step - loss: 0.0061 - mae: 0.0495 - val_loss: 0.1721 - val_mae: 0.4065\n",
      "Epoch 2/4\n",
      "\u001b[1m21880/21880\u001b[0m \u001b[32m━━━━━━━━━━━━━━━━━━━━\u001b[0m\u001b[37m\u001b[0m \u001b[1m51s\u001b[0m 2ms/step - loss: 0.0021 - mae: 0.0297 - val_loss: 0.1941 - val_mae: 0.4335\n",
      "Epoch 3/4\n",
      "\u001b[1m21880/21880\u001b[0m \u001b[32m━━━━━━━━━━━━━━━━━━━━\u001b[0m\u001b[37m\u001b[0m \u001b[1m53s\u001b[0m 2ms/step - loss: 0.0014 - mae: 0.0252 - val_loss: 0.1657 - val_mae: 0.3976\n",
      "Epoch 4/4\n",
      "\u001b[1m21880/21880\u001b[0m \u001b[32m━━━━━━━━━━━━━━━━━━━━\u001b[0m\u001b[37m\u001b[0m \u001b[1m54s\u001b[0m 2ms/step - loss: 0.0012 - mae: 0.0228 - val_loss: 0.1185 - val_mae: 0.3329\n"
     ]
    },
    {
     "name": "stderr",
     "output_type": "stream",
     "text": [
      "[I 2025-04-29 16:02:10,982] Trial 0 finished with value: 0.11846207082271576 and parameters: {'batch_size': 32, 'lstm_units': 48, 'dense_units': 64, 'lstm_activation': 'linear', 'dense_activation': 'sigmoid', 'learning_rate': 0.0021643515679535133, 'dropout': 0.4309442748532608, 'recurrent_dropout': 0.4525809811903652}. Best is trial 0 with value: 0.11846207082271576.\n"
     ]
    },
    {
     "name": "stdout",
     "output_type": "stream",
     "text": [
      "Epoch 1/4\n",
      "\u001b[1m10940/10940\u001b[0m \u001b[32m━━━━━━━━━━━━━━━━━━━━\u001b[0m\u001b[37m\u001b[0m \u001b[1m30s\u001b[0m 2ms/step - loss: 0.0043 - mae: 0.0389 - val_loss: 0.1116 - val_mae: 0.3238\n",
      "Epoch 2/4\n",
      "\u001b[1m10940/10940\u001b[0m \u001b[32m━━━━━━━━━━━━━━━━━━━━\u001b[0m\u001b[37m\u001b[0m \u001b[1m24s\u001b[0m 2ms/step - loss: 0.0020 - mae: 0.0265 - val_loss: 0.0800 - val_mae: 0.2692\n",
      "Epoch 3/4\n",
      "\u001b[1m10940/10940\u001b[0m \u001b[32m━━━━━━━━━━━━━━━━━━━━\u001b[0m\u001b[37m\u001b[0m \u001b[1m25s\u001b[0m 2ms/step - loss: 0.0010 - mae: 0.0209 - val_loss: 0.0766 - val_mae: 0.2607\n",
      "Epoch 4/4\n",
      "\u001b[1m10940/10940\u001b[0m \u001b[32m━━━━━━━━━━━━━━━━━━━━\u001b[0m\u001b[37m\u001b[0m \u001b[1m24s\u001b[0m 2ms/step - loss: 9.1579e-04 - mae: 0.0195 - val_loss: 0.0828 - val_mae: 0.2732\n"
     ]
    },
    {
     "name": "stderr",
     "output_type": "stream",
     "text": [
      "[I 2025-04-29 16:03:54,575] Trial 1 finished with value: 0.082792267203331 and parameters: {'batch_size': 64, 'lstm_units': 32, 'dense_units': 64, 'lstm_activation': 'relu', 'dense_activation': 'linear', 'learning_rate': 0.003684291717599841, 'dropout': 0.29044193890924797, 'recurrent_dropout': 0.3100361303668412}. Best is trial 1 with value: 0.082792267203331.\n"
     ]
    },
    {
     "name": "stdout",
     "output_type": "stream",
     "text": [
      "Epoch 1/4\n",
      "\u001b[1m5470/5470\u001b[0m \u001b[32m━━━━━━━━━━━━━━━━━━━━\u001b[0m\u001b[37m\u001b[0m \u001b[1m18s\u001b[0m 3ms/step - loss: 0.0105 - mae: 0.0704 - val_loss: 0.0610 - val_mae: 0.2251\n",
      "Epoch 2/4\n",
      "\u001b[1m5470/5470\u001b[0m \u001b[32m━━━━━━━━━━━━━━━━━━━━\u001b[0m\u001b[37m\u001b[0m \u001b[1m14s\u001b[0m 2ms/step - loss: 0.0051 - mae: 0.0453 - val_loss: 0.0828 - val_mae: 0.2662\n",
      "Epoch 3/4\n",
      "\u001b[1m5470/5470\u001b[0m \u001b[32m━━━━━━━━━━━━━━━━━━━━\u001b[0m\u001b[37m\u001b[0m \u001b[1m13s\u001b[0m 2ms/step - loss: 0.0045 - mae: 0.0391 - val_loss: 0.0878 - val_mae: 0.2740\n",
      "Epoch 4/4\n",
      "\u001b[1m5470/5470\u001b[0m \u001b[32m━━━━━━━━━━━━━━━━━━━━\u001b[0m\u001b[37m\u001b[0m \u001b[1m13s\u001b[0m 2ms/step - loss: 0.0044 - mae: 0.0376 - val_loss: 0.0854 - val_mae: 0.2699\n"
     ]
    },
    {
     "name": "stderr",
     "output_type": "stream",
     "text": [
      "[I 2025-04-29 16:04:52,715] Trial 2 finished with value: 0.08543842285871506 and parameters: {'batch_size': 128, 'lstm_units': 32, 'dense_units': 16, 'lstm_activation': 'relu', 'dense_activation': 'relu', 'learning_rate': 8.731351398897173e-05, 'dropout': 0.39503114616499996, 'recurrent_dropout': 0.2610505968644999}. Best is trial 1 with value: 0.082792267203331.\n"
     ]
    },
    {
     "name": "stdout",
     "output_type": "stream",
     "text": [
      "Epoch 1/4\n",
      "\u001b[1m5470/5470\u001b[0m \u001b[32m━━━━━━━━━━━━━━━━━━━━\u001b[0m\u001b[37m\u001b[0m \u001b[1m60s\u001b[0m 11ms/step - loss: 0.0155 - mae: 0.0866 - val_loss: 0.0091 - val_mae: 0.0604\n",
      "Epoch 2/4\n",
      "\u001b[1m5470/5470\u001b[0m \u001b[32m━━━━━━━━━━━━━━━━━━━━\u001b[0m\u001b[37m\u001b[0m \u001b[1m60s\u001b[0m 11ms/step - loss: 0.0076 - mae: 0.0593 - val_loss: 0.0077 - val_mae: 0.0716\n",
      "Epoch 3/4\n",
      "\u001b[1m5470/5470\u001b[0m \u001b[32m━━━━━━━━━━━━━━━━━━━━\u001b[0m\u001b[37m\u001b[0m \u001b[1m57s\u001b[0m 10ms/step - loss: 0.0041 - mae: 0.0445 - val_loss: 0.0113 - val_mae: 0.0961\n",
      "Epoch 4/4\n",
      "\u001b[1m5470/5470\u001b[0m \u001b[32m━━━━━━━━━━━━━━━━━━━━\u001b[0m\u001b[37m\u001b[0m \u001b[1m59s\u001b[0m 11ms/step - loss: 0.0028 - mae: 0.0349 - val_loss: 0.0131 - val_mae: 0.1062\n"
     ]
    },
    {
     "name": "stderr",
     "output_type": "stream",
     "text": [
      "[I 2025-04-29 16:08:48,373] Trial 3 finished with value: 0.013068703934550285 and parameters: {'batch_size': 128, 'lstm_units': 48, 'dense_units': 32, 'lstm_activation': 'tanh', 'dense_activation': 'linear', 'learning_rate': 3.27150542984593e-05, 'dropout': 0.09840184115286132, 'recurrent_dropout': 0.33102049284916724}. Best is trial 3 with value: 0.013068703934550285.\n"
     ]
    },
    {
     "name": "stdout",
     "output_type": "stream",
     "text": [
      "Epoch 1/4\n",
      "\u001b[1m7294/7294\u001b[0m \u001b[32m━━━━━━━━━━━━━━━━━━━━\u001b[0m\u001b[37m\u001b[0m \u001b[1m22s\u001b[0m 3ms/step - loss: 0.0087 - mae: 0.0600 - val_loss: 0.0885 - val_mae: 0.2765\n",
      "Epoch 2/4\n",
      "\u001b[1m7294/7294\u001b[0m \u001b[32m━━━━━━━━━━━━━━━━━━━━\u001b[0m\u001b[37m\u001b[0m \u001b[1m16s\u001b[0m 2ms/step - loss: 0.0044 - mae: 0.0376 - val_loss: 0.0809 - val_mae: 0.2612\n",
      "Epoch 3/4\n",
      "\u001b[1m7294/7294\u001b[0m \u001b[32m━━━━━━━━━━━━━━━━━━━━\u001b[0m\u001b[37m\u001b[0m \u001b[1m16s\u001b[0m 2ms/step - loss: 0.0042 - mae: 0.0364 - val_loss: 0.0710 - val_mae: 0.2409\n",
      "Epoch 4/4\n",
      "\u001b[1m7294/7294\u001b[0m \u001b[32m━━━━━━━━━━━━━━━━━━━━\u001b[0m\u001b[37m\u001b[0m \u001b[1m16s\u001b[0m 2ms/step - loss: 0.0031 - mae: 0.0303 - val_loss: 0.0686 - val_mae: 0.2327\n"
     ]
    },
    {
     "name": "stderr",
     "output_type": "stream",
     "text": [
      "[I 2025-04-29 16:09:59,329] Trial 4 finished with value: 0.0686388835310936 and parameters: {'batch_size': 96, 'lstm_units': 16, 'dense_units': 64, 'lstm_activation': 'relu', 'dense_activation': 'relu', 'learning_rate': 0.00047721417134396533, 'dropout': 0.4054572355987012, 'recurrent_dropout': 0.4463132204363034}. Best is trial 3 with value: 0.013068703934550285.\n"
     ]
    },
    {
     "name": "stdout",
     "output_type": "stream",
     "text": [
      "Melhor valor objetivo: 0.013068703934550285\n",
      "Hiperparâmetros:\n",
      "  batch_size: 128\n",
      "  lstm_units: 48\n",
      "  dense_units: 32\n",
      "  lstm_activation: tanh\n",
      "  dense_activation: linear\n",
      "  learning_rate: 3.27150542984593e-05\n",
      "  dropout: 0.09840184115286132\n",
      "  recurrent_dropout: 0.33102049284916724\n"
     ]
    }
   ],
   "source": [
    "study_02 = optuna.create_study(\n",
    "    direction=\"minimize\",\n",
    "    storage=\"sqlite:///lstm.sqlite3\",\n",
    "    study_name=\"2) Torque - LSTM Dropout\"\n",
    ")\n",
    "study_02.optimize(objective_02, n_trials=TRIALS)\n",
    "\n",
    "optuna_results(study_02)"
   ]
  },
  {
   "cell_type": "code",
   "execution_count": 37,
   "id": "517e781f-4f89-49d0-a56e-40cf3e1c60e9",
   "metadata": {},
   "outputs": [
    {
     "name": "stderr",
     "output_type": "stream",
     "text": [
      "[I 2025-04-29 16:09:59,352] A new study created in RDB with name: 3) Torque - LSTM Empilhado\n"
     ]
    },
    {
     "name": "stdout",
     "output_type": "stream",
     "text": [
      "Epoch 1/4\n",
      "\u001b[1m7294/7294\u001b[0m \u001b[32m━━━━━━━━━━━━━━━━━━━━\u001b[0m\u001b[37m\u001b[0m \u001b[1m25s\u001b[0m 3ms/step - loss: 0.0047 - mae: 0.0398 - val_loss: 7.7578e-04 - val_mae: 0.0175\n",
      "Epoch 2/4\n",
      "\u001b[1m7294/7294\u001b[0m \u001b[32m━━━━━━━━━━━━━━━━━━━━\u001b[0m\u001b[37m\u001b[0m \u001b[1m25s\u001b[0m 3ms/step - loss: 7.0368e-04 - mae: 0.0172 - val_loss: 6.4269e-04 - val_mae: 0.0164\n",
      "Epoch 3/4\n",
      "\u001b[1m7294/7294\u001b[0m \u001b[32m━━━━━━━━━━━━━━━━━━━━\u001b[0m\u001b[37m\u001b[0m \u001b[1m25s\u001b[0m 3ms/step - loss: 5.3028e-04 - mae: 0.0153 - val_loss: 5.4964e-04 - val_mae: 0.0158\n",
      "Epoch 4/4\n",
      "\u001b[1m7294/7294\u001b[0m \u001b[32m━━━━━━━━━━━━━━━━━━━━\u001b[0m\u001b[37m\u001b[0m \u001b[1m25s\u001b[0m 3ms/step - loss: 4.6711e-04 - mae: 0.0143 - val_loss: 4.9176e-04 - val_mae: 0.0145\n"
     ]
    },
    {
     "name": "stderr",
     "output_type": "stream",
     "text": [
      "[I 2025-04-29 16:11:39,165] Trial 0 finished with value: 0.0004917564801871777 and parameters: {'batch_size': 96, 'lstm1_units': 48, 'lstm2_units': 64, 'dense_units': 16, 'lstm_activation_1': 'tanh', 'lstm_activation_2': 'tanh', 'dense_activation': 'relu', 'learning_rate': 0.00014017918652214594}. Best is trial 0 with value: 0.0004917564801871777.\n"
     ]
    },
    {
     "name": "stdout",
     "output_type": "stream",
     "text": [
      "Epoch 1/4\n",
      "\u001b[1m5468/5470\u001b[0m \u001b[32m━━━━━━━━━━━━━━━━━━━\u001b[0m\u001b[37m━\u001b[0m \u001b[1m0s\u001b[0m 2ms/step - loss: 0.0022 - mae: 0.0290"
     ]
    },
    {
     "name": "stderr",
     "output_type": "stream",
     "text": [
      "2025-04-29 16:11:54.294449: I external/local_xla/xla/stream_executor/cuda/subprocess_compilation.cc:346] ptxas warning : Registers are spilled to local memory in function 'gemm_fusion_dot_59', 72 bytes spill stores, 72 bytes spill loads\n",
      "\n",
      "2025-04-29 16:11:54.299782: I external/local_xla/xla/stream_executor/cuda/subprocess_compilation.cc:346] ptxas warning : Registers are spilled to local memory in function 'gemm_fusion_dot_59', 160 bytes spill stores, 160 bytes spill loads\n",
      "\n",
      "2025-04-29 16:11:54.342168: I external/local_xla/xla/stream_executor/cuda/subprocess_compilation.cc:346] ptxas warning : Registers are spilled to local memory in function 'gemm_fusion_dot_59', 36 bytes spill stores, 36 bytes spill loads\n",
      "\n",
      "2025-04-29 16:11:54.461868: I external/local_xla/xla/stream_executor/cuda/subprocess_compilation.cc:346] ptxas warning : Registers are spilled to local memory in function 'gemm_fusion_dot_59', 808 bytes spill stores, 808 bytes spill loads\n",
      "\n"
     ]
    },
    {
     "name": "stdout",
     "output_type": "stream",
     "text": [
      "\u001b[1m5470/5470\u001b[0m \u001b[32m━━━━━━━━━━━━━━━━━━━━\u001b[0m\u001b[37m\u001b[0m \u001b[1m18s\u001b[0m 3ms/step - loss: 0.0022 - mae: 0.0290 - val_loss: 5.3285e-04 - val_mae: 0.0151\n",
      "Epoch 2/4\n",
      "\u001b[1m5470/5470\u001b[0m \u001b[32m━━━━━━━━━━━━━━━━━━━━\u001b[0m\u001b[37m\u001b[0m \u001b[1m13s\u001b[0m 2ms/step - loss: 5.2388e-04 - mae: 0.0159 - val_loss: 5.8665e-04 - val_mae: 0.0179\n",
      "Epoch 3/4\n",
      "\u001b[1m5470/5470\u001b[0m \u001b[32m━━━━━━━━━━━━━━━━━━━━\u001b[0m\u001b[37m\u001b[0m \u001b[1m13s\u001b[0m 2ms/step - loss: 4.2910e-04 - mae: 0.0143 - val_loss: 4.7357e-04 - val_mae: 0.0142\n",
      "Epoch 4/4\n",
      "\u001b[1m5470/5470\u001b[0m \u001b[32m━━━━━━━━━━━━━━━━━━━━\u001b[0m\u001b[37m\u001b[0m \u001b[1m12s\u001b[0m 2ms/step - loss: 3.9704e-04 - mae: 0.0135 - val_loss: 4.5877e-04 - val_mae: 0.0150\n"
     ]
    },
    {
     "name": "stderr",
     "output_type": "stream",
     "text": [
      "[I 2025-04-29 16:12:35,273] Trial 1 finished with value: 0.0004587703733704984 and parameters: {'batch_size': 128, 'lstm1_units': 48, 'lstm2_units': 64, 'dense_units': 32, 'lstm_activation_1': 'linear', 'lstm_activation_2': 'sigmoid', 'dense_activation': 'relu', 'learning_rate': 0.0014913610312120651}. Best is trial 1 with value: 0.0004587703733704984.\n"
     ]
    },
    {
     "name": "stdout",
     "output_type": "stream",
     "text": [
      "Epoch 1/4\n",
      "\u001b[1m21880/21880\u001b[0m \u001b[32m━━━━━━━━━━━━━━━━━━━━\u001b[0m\u001b[37m\u001b[0m \u001b[1m151s\u001b[0m 7ms/step - loss: 0.0024 - mae: 0.0279 - val_loss: 4.8750e-04 - val_mae: 0.0156\n",
      "Epoch 2/4\n",
      "\u001b[1m21880/21880\u001b[0m \u001b[32m━━━━━━━━━━━━━━━━━━━━\u001b[0m\u001b[37m\u001b[0m \u001b[1m151s\u001b[0m 7ms/step - loss: 4.1883e-04 - mae: 0.0142 - val_loss: 3.7170e-04 - val_mae: 0.0127\n",
      "Epoch 3/4\n",
      "\u001b[1m21880/21880\u001b[0m \u001b[32m━━━━━━━━━━━━━━━━━━━━\u001b[0m\u001b[37m\u001b[0m \u001b[1m152s\u001b[0m 7ms/step - loss: 3.7037e-04 - mae: 0.0132 - val_loss: 4.2096e-04 - val_mae: 0.0143\n",
      "Epoch 4/4\n",
      "\u001b[1m21880/21880\u001b[0m \u001b[32m━━━━━━━━━━━━━━━━━━━━\u001b[0m\u001b[37m\u001b[0m \u001b[1m155s\u001b[0m 7ms/step - loss: 3.4394e-04 - mae: 0.0126 - val_loss: 3.5017e-04 - val_mae: 0.0126\n"
     ]
    },
    {
     "name": "stderr",
     "output_type": "stream",
     "text": [
      "[I 2025-04-29 16:22:45,097] Trial 2 finished with value: 0.00035017324262298644 and parameters: {'batch_size': 32, 'lstm1_units': 32, 'lstm2_units': 48, 'dense_units': 64, 'lstm_activation_1': 'sigmoid', 'lstm_activation_2': 'tanh', 'dense_activation': 'tanh', 'learning_rate': 0.003947943664292943}. Best is trial 2 with value: 0.00035017324262298644.\n"
     ]
    },
    {
     "name": "stdout",
     "output_type": "stream",
     "text": [
      "Epoch 1/4\n"
     ]
    },
    {
     "name": "stderr",
     "output_type": "stream",
     "text": [
      "2025-04-29 16:22:47.293273: I external/local_xla/xla/stream_executor/cuda/subprocess_compilation.cc:346] ptxas warning : Registers are spilled to local memory in function 'gemm_fusion_dot_59', 124 bytes spill stores, 124 bytes spill loads\n",
      "\n",
      "2025-04-29 16:22:47.319692: I external/local_xla/xla/stream_executor/cuda/subprocess_compilation.cc:346] ptxas warning : Registers are spilled to local memory in function 'gemm_fusion_dot_59', 184 bytes spill stores, 184 bytes spill loads\n",
      "\n",
      "2025-04-29 16:22:47.464089: I external/local_xla/xla/stream_executor/cuda/subprocess_compilation.cc:346] ptxas warning : Registers are spilled to local memory in function 'gemm_fusion_dot_59', 836 bytes spill stores, 836 bytes spill loads\n",
      "\n"
     ]
    },
    {
     "name": "stdout",
     "output_type": "stream",
     "text": [
      "\u001b[1m7294/7294\u001b[0m \u001b[32m━━━━━━━━━━━━━━━━━━━━\u001b[0m\u001b[37m\u001b[0m \u001b[1m21s\u001b[0m 3ms/step - loss: 0.0048 - mae: 0.0414 - val_loss: 8.6505e-04 - val_mae: 0.0181\n",
      "Epoch 2/4\n",
      "\u001b[1m7294/7294\u001b[0m \u001b[32m━━━━━━━━━━━━━━━━━━━━\u001b[0m\u001b[37m\u001b[0m \u001b[1m16s\u001b[0m 2ms/step - loss: 7.5101e-04 - mae: 0.0173 - val_loss: 9.4749e-04 - val_mae: 0.0233\n",
      "Epoch 3/4\n",
      "\u001b[1m7294/7294\u001b[0m \u001b[32m━━━━━━━━━━━━━━━━━━━━\u001b[0m\u001b[37m\u001b[0m \u001b[1m17s\u001b[0m 2ms/step - loss: 6.5826e-04 - mae: 0.0162 - val_loss: 7.2111e-04 - val_mae: 0.0186\n",
      "Epoch 4/4\n",
      "\u001b[1m7294/7294\u001b[0m \u001b[32m━━━━━━━━━━━━━━━━━━━━\u001b[0m\u001b[37m\u001b[0m \u001b[1m17s\u001b[0m 2ms/step - loss: 5.8989e-04 - mae: 0.0155 - val_loss: 6.4938e-04 - val_mae: 0.0176\n"
     ]
    },
    {
     "name": "stderr",
     "output_type": "stream",
     "text": [
      "[I 2025-04-29 16:23:56,545] Trial 3 finished with value: 0.000649375666398555 and parameters: {'batch_size': 96, 'lstm1_units': 32, 'lstm2_units': 64, 'dense_units': 16, 'lstm_activation_1': 'linear', 'lstm_activation_2': 'relu', 'dense_activation': 'tanh', 'learning_rate': 6.78768053374459e-05}. Best is trial 2 with value: 0.00035017324262298644.\n"
     ]
    },
    {
     "name": "stdout",
     "output_type": "stream",
     "text": [
      "Epoch 1/4\n",
      "\u001b[1m10940/10940\u001b[0m \u001b[32m━━━━━━━━━━━━━━━━━━━━\u001b[0m\u001b[37m\u001b[0m \u001b[1m31s\u001b[0m 3ms/step - loss: 0.0018 - mae: 0.0248 - val_loss: 4.0419e-04 - val_mae: 0.0134\n",
      "Epoch 2/4\n",
      "\u001b[1m10940/10940\u001b[0m \u001b[32m━━━━━━━━━━━━━━━━━━━━\u001b[0m\u001b[37m\u001b[0m \u001b[1m28s\u001b[0m 3ms/step - loss: 4.1821e-04 - mae: 0.0143 - val_loss: 3.7536e-04 - val_mae: 0.0126\n",
      "Epoch 3/4\n",
      "\u001b[1m10940/10940\u001b[0m \u001b[32m━━━━━━━━━━━━━━━━━━━━\u001b[0m\u001b[37m\u001b[0m \u001b[1m27s\u001b[0m 2ms/step - loss: 3.7864e-04 - mae: 0.0135 - val_loss: 4.1659e-04 - val_mae: 0.0149\n",
      "Epoch 4/4\n",
      "\u001b[1m10940/10940\u001b[0m \u001b[32m━━━━━━━━━━━━━━━━━━━━\u001b[0m\u001b[37m\u001b[0m \u001b[1m28s\u001b[0m 3ms/step - loss: 3.6203e-04 - mae: 0.0132 - val_loss: 3.6751e-04 - val_mae: 0.0132\n"
     ]
    },
    {
     "name": "stderr",
     "output_type": "stream",
     "text": [
      "[I 2025-04-29 16:25:51,009] Trial 4 finished with value: 0.0003675064945127815 and parameters: {'batch_size': 64, 'lstm1_units': 48, 'lstm2_units': 48, 'dense_units': 48, 'lstm_activation_1': 'linear', 'lstm_activation_2': 'linear', 'dense_activation': 'sigmoid', 'learning_rate': 0.0025074207482324493}. Best is trial 2 with value: 0.00035017324262298644.\n"
     ]
    },
    {
     "name": "stdout",
     "output_type": "stream",
     "text": [
      "Melhor valor objetivo: 0.00035017324262298644\n",
      "Hiperparâmetros:\n",
      "  batch_size: 32\n",
      "  lstm1_units: 32\n",
      "  lstm2_units: 48\n",
      "  dense_units: 64\n",
      "  lstm_activation_1: sigmoid\n",
      "  lstm_activation_2: tanh\n",
      "  dense_activation: tanh\n",
      "  learning_rate: 0.003947943664292943\n"
     ]
    }
   ],
   "source": [
    "study_03 = optuna.create_study(\n",
    "    direction=\"minimize\",\n",
    "    storage=\"sqlite:///lstm.sqlite3\",\n",
    "    study_name=\"3) Torque - LSTM Empilhado\"\n",
    ")\n",
    "study_03.optimize(objective_03, n_trials=TRIALS)\n",
    "\n",
    "optuna_results(study_03)"
   ]
  },
  {
   "cell_type": "code",
   "execution_count": 38,
   "id": "bc8cf1d8-ca48-4e53-80c0-1998ff55f8df",
   "metadata": {},
   "outputs": [
    {
     "name": "stderr",
     "output_type": "stream",
     "text": [
      "[I 2025-04-29 16:25:51,033] A new study created in RDB with name: 4) Torque - LSTM Empilhado Dropout2\n"
     ]
    },
    {
     "name": "stdout",
     "output_type": "stream",
     "text": [
      "Epoch 1/4\n",
      "\u001b[1m7294/7294\u001b[0m \u001b[32m━━━━━━━━━━━━━━━━━━━━\u001b[0m\u001b[37m\u001b[0m \u001b[1m42s\u001b[0m 5ms/step - loss: 0.0067 - mae: 0.0531 - val_loss: 0.0024 - val_mae: 0.0437\n",
      "Epoch 2/4\n",
      "\u001b[1m7294/7294\u001b[0m \u001b[32m━━━━━━━━━━━━━━━━━━━━\u001b[0m\u001b[37m\u001b[0m \u001b[1m37s\u001b[0m 5ms/step - loss: 0.0011 - mae: 0.0222 - val_loss: 0.0023 - val_mae: 0.0419\n",
      "Epoch 3/4\n",
      "\u001b[1m7294/7294\u001b[0m \u001b[32m━━━━━━━━━━━━━━━━━━━━\u001b[0m\u001b[37m\u001b[0m \u001b[1m39s\u001b[0m 5ms/step - loss: 8.4835e-04 - mae: 0.0190 - val_loss: 8.2208e-04 - val_mae: 0.0212\n",
      "Epoch 4/4\n",
      "\u001b[1m7294/7294\u001b[0m \u001b[32m━━━━━━━━━━━━━━━━━━━━\u001b[0m\u001b[37m\u001b[0m \u001b[1m35s\u001b[0m 5ms/step - loss: 7.7024e-04 - mae: 0.0180 - val_loss: 0.0011 - val_mae: 0.0266\n"
     ]
    },
    {
     "name": "stderr",
     "output_type": "stream",
     "text": [
      "[I 2025-04-29 16:28:24,687] Trial 0 finished with value: 0.001145733636803925 and parameters: {'batch_size': 96, 'lstm1_units': 32, 'lstm2_units': 64, 'dense_units': 48, 'lstm_activation_1': 'sigmoid', 'lstm_activation_2': 'relu', 'dense_activation': 'linear', 'learning_rate': 0.0007657917133303771, 'dropout1': 0.01733309608331679, 'recurrent_dropout1': 0.4490435485638605, 'dropout2': 0.019676797667186496, 'recurrent_dropout2': 0.07967937255143981}. Best is trial 0 with value: 0.001145733636803925.\n"
     ]
    },
    {
     "name": "stdout",
     "output_type": "stream",
     "text": [
      "Epoch 1/4\n",
      "\u001b[1m5470/5470\u001b[0m \u001b[32m━━━━━━━━━━━━━━━━━━━━\u001b[0m\u001b[37m\u001b[0m \u001b[1m32s\u001b[0m 5ms/step - loss: 0.0119 - mae: 0.0675 - val_loss: 0.0216 - val_mae: 0.1395\n",
      "Epoch 2/4\n",
      "\u001b[1m5470/5470\u001b[0m \u001b[32m━━━━━━━━━━━━━━━━━━━━\u001b[0m\u001b[37m\u001b[0m \u001b[1m24s\u001b[0m 4ms/step - loss: 0.0028 - mae: 0.0358 - val_loss: 0.0268 - val_mae: 0.1586\n",
      "Epoch 3/4\n",
      "\u001b[1m5470/5470\u001b[0m \u001b[32m━━━━━━━━━━━━━━━━━━━━\u001b[0m\u001b[37m\u001b[0m \u001b[1m23s\u001b[0m 4ms/step - loss: 0.0023 - mae: 0.0312 - val_loss: 0.0246 - val_mae: 0.1519\n",
      "Epoch 4/4\n",
      "\u001b[1m5470/5470\u001b[0m \u001b[32m━━━━━━━━━━━━━━━━━━━━\u001b[0m\u001b[37m\u001b[0m \u001b[1m24s\u001b[0m 4ms/step - loss: 0.0019 - mae: 0.0284 - val_loss: 0.0306 - val_mae: 0.1703\n"
     ]
    },
    {
     "name": "stderr",
     "output_type": "stream",
     "text": [
      "[I 2025-04-29 16:30:08,566] Trial 1 finished with value: 0.030568115413188934 and parameters: {'batch_size': 128, 'lstm1_units': 16, 'lstm2_units': 16, 'dense_units': 64, 'lstm_activation_1': 'sigmoid', 'lstm_activation_2': 'sigmoid', 'dense_activation': 'relu', 'learning_rate': 0.0022526015418232958, 'dropout1': 0.12360219014567725, 'recurrent_dropout1': 0.08336963529726121, 'dropout2': 0.10308988578268347, 'recurrent_dropout2': 0.464732835861349}. Best is trial 0 with value: 0.001145733636803925.\n"
     ]
    },
    {
     "name": "stdout",
     "output_type": "stream",
     "text": [
      "Epoch 1/4\n",
      "\u001b[1m21880/21880\u001b[0m \u001b[32m━━━━━━━━━━━━━━━━━━━━\u001b[0m\u001b[37m\u001b[0m \u001b[1m98s\u001b[0m 4ms/step - loss: 0.0076 - mae: 0.0561 - val_loss: 0.0301 - val_mae: 0.1548\n",
      "Epoch 2/4\n",
      "\u001b[1m21880/21880\u001b[0m \u001b[32m━━━━━━━━━━━━━━━━━━━━\u001b[0m\u001b[37m\u001b[0m \u001b[1m88s\u001b[0m 4ms/step - loss: 0.0027 - mae: 0.0307 - val_loss: 0.0290 - val_mae: 0.1575\n",
      "Epoch 3/4\n",
      "\u001b[1m21880/21880\u001b[0m \u001b[32m━━━━━━━━━━━━━━━━━━━━\u001b[0m\u001b[37m\u001b[0m \u001b[1m89s\u001b[0m 4ms/step - loss: 0.0026 - mae: 0.0288 - val_loss: 0.0261 - val_mae: 0.1451\n",
      "Epoch 4/4\n",
      "\u001b[1m21880/21880\u001b[0m \u001b[32m━━━━━━━━━━━━━━━━━━━━\u001b[0m\u001b[37m\u001b[0m \u001b[1m89s\u001b[0m 4ms/step - loss: 1.8031 - mae: 0.0348 - val_loss: 0.0599 - val_mae: 0.2325\n"
     ]
    },
    {
     "name": "stderr",
     "output_type": "stream",
     "text": [
      "[I 2025-04-29 16:36:13,423] Trial 2 finished with value: 0.05990298464894295 and parameters: {'batch_size': 32, 'lstm1_units': 16, 'lstm2_units': 48, 'dense_units': 32, 'lstm_activation_1': 'sigmoid', 'lstm_activation_2': 'linear', 'dense_activation': 'relu', 'learning_rate': 0.002599533572886547, 'dropout1': 0.19874129165048765, 'recurrent_dropout1': 0.2208404066001055, 'dropout2': 0.39989748908409306, 'recurrent_dropout2': 0.4685400777916557}. Best is trial 0 with value: 0.001145733636803925.\n"
     ]
    },
    {
     "name": "stdout",
     "output_type": "stream",
     "text": [
      "Epoch 1/4\n",
      "\u001b[1m21880/21880\u001b[0m \u001b[32m━━━━━━━━━━━━━━━━━━━━\u001b[0m\u001b[37m\u001b[0m \u001b[1m85s\u001b[0m 4ms/step - loss: 0.0725 - mae: 0.1687 - val_loss: 0.0107 - val_mae: 0.0650\n",
      "Epoch 2/4\n",
      "\u001b[1m21880/21880\u001b[0m \u001b[32m━━━━━━━━━━━━━━━━━━━━\u001b[0m\u001b[37m\u001b[0m \u001b[1m78s\u001b[0m 4ms/step - loss: 0.0090 - mae: 0.0630 - val_loss: 0.0151 - val_mae: 0.0935\n",
      "Epoch 3/4\n",
      "\u001b[1m21880/21880\u001b[0m \u001b[32m━━━━━━━━━━━━━━━━━━━━\u001b[0m\u001b[37m\u001b[0m \u001b[1m78s\u001b[0m 4ms/step - loss: 0.0073 - mae: 0.0585 - val_loss: 0.0187 - val_mae: 0.1112\n",
      "Epoch 4/4\n",
      "\u001b[1m21880/21880\u001b[0m \u001b[32m━━━━━━━━━━━━━━━━━━━━\u001b[0m\u001b[37m\u001b[0m \u001b[1m79s\u001b[0m 4ms/step - loss: 0.0063 - mae: 0.0544 - val_loss: 0.0232 - val_mae: 0.1294\n"
     ]
    },
    {
     "name": "stderr",
     "output_type": "stream",
     "text": [
      "[I 2025-04-29 16:41:34,052] Trial 3 finished with value: 0.023238787427544594 and parameters: {'batch_size': 32, 'lstm1_units': 32, 'lstm2_units': 32, 'dense_units': 64, 'lstm_activation_1': 'relu', 'lstm_activation_2': 'linear', 'dense_activation': 'sigmoid', 'learning_rate': 1.3260768632290774e-05, 'dropout1': 0.2669899078852401, 'recurrent_dropout1': 0.24914639986606002, 'dropout2': 0.17750933909997296, 'recurrent_dropout2': 0.16410852120163527}. Best is trial 0 with value: 0.001145733636803925.\n"
     ]
    },
    {
     "name": "stdout",
     "output_type": "stream",
     "text": [
      "Epoch 1/4\n",
      "\u001b[1m10940/10940\u001b[0m \u001b[32m━━━━━━━━━━━━━━━━━━━━\u001b[0m\u001b[37m\u001b[0m \u001b[1m230s\u001b[0m 21ms/step - loss: 0.0069 - mae: 0.0553 - val_loss: 0.0064 - val_mae: 0.0712\n",
      "Epoch 2/4\n",
      "\u001b[1m10940/10940\u001b[0m \u001b[32m━━━━━━━━━━━━━━━━━━━━\u001b[0m\u001b[37m\u001b[0m \u001b[1m233s\u001b[0m 21ms/step - loss: 0.0020 - mae: 0.0295 - val_loss: 0.0077 - val_mae: 0.0820\n",
      "Epoch 3/4\n",
      "\u001b[1m10940/10940\u001b[0m \u001b[32m━━━━━━━━━━━━━━━━━━━━\u001b[0m\u001b[37m\u001b[0m \u001b[1m230s\u001b[0m 21ms/step - loss: 0.0015 - mae: 0.0239 - val_loss: 0.0079 - val_mae: 0.0844\n",
      "Epoch 4/4\n",
      "\u001b[1m10940/10940\u001b[0m \u001b[32m━━━━━━━━━━━━━━━━━━━━\u001b[0m\u001b[37m\u001b[0m \u001b[1m236s\u001b[0m 22ms/step - loss: 0.0013 - mae: 0.0213 - val_loss: 0.0077 - val_mae: 0.0836\n"
     ]
    },
    {
     "name": "stderr",
     "output_type": "stream",
     "text": [
      "[I 2025-04-29 16:57:03,847] Trial 4 finished with value: 0.007674152962863445 and parameters: {'batch_size': 64, 'lstm1_units': 32, 'lstm2_units': 32, 'dense_units': 64, 'lstm_activation_1': 'tanh', 'lstm_activation_2': 'tanh', 'dense_activation': 'sigmoid', 'learning_rate': 8.685780810515072e-05, 'dropout1': 0.05919097017025138, 'recurrent_dropout1': 0.38322070851963236, 'dropout2': 0.1543480295840849, 'recurrent_dropout2': 0.15944434211340458}. Best is trial 0 with value: 0.001145733636803925.\n"
     ]
    },
    {
     "name": "stdout",
     "output_type": "stream",
     "text": [
      "Melhor valor objetivo: 0.001145733636803925\n",
      "Hiperparâmetros:\n",
      "  batch_size: 96\n",
      "  lstm1_units: 32\n",
      "  lstm2_units: 64\n",
      "  dense_units: 48\n",
      "  lstm_activation_1: sigmoid\n",
      "  lstm_activation_2: relu\n",
      "  dense_activation: linear\n",
      "  learning_rate: 0.0007657917133303771\n",
      "  dropout1: 0.01733309608331679\n",
      "  recurrent_dropout1: 0.4490435485638605\n",
      "  dropout2: 0.019676797667186496\n",
      "  recurrent_dropout2: 0.07967937255143981\n"
     ]
    }
   ],
   "source": [
    "study_04 = optuna.create_study(\n",
    "    direction=\"minimize\",\n",
    "    storage=\"sqlite:///lstm.sqlite3\",\n",
    "    study_name=\"4) Torque - LSTM Empilhado Dropout2\"\n",
    ")\n",
    "study_04.optimize(objective_04, n_trials=TRIALS)\n",
    "\n",
    "optuna_results(study_04)"
   ]
  },
  {
   "cell_type": "markdown",
   "id": "57409969-5928-4a2a-8e1c-3637e241acbe",
   "metadata": {},
   "source": [
    "ROADMAP\n",
    "* Desnormalizar o tempo - X\n",
    "* Filtrar o X_test pela trip antes de criar as janelas - X\n",
    "* Criar as janelas, fazer a predição e depois plotar a timeline - X\n",
    "* Testar a migração do Tensorflow para o Pytorch - \\\n",
    "* Criar arquiteturas diferentes números de camadas de LSTM (1 e 2) - X\n",
    "  * Depois colocar camadas de dropout depois do LSTM - X\n",
    "  * Usar o Optuna (optuna-dashboard sqlite:///lstm.sqlite3 --port 8880      Acessar em http://localhost:8880/) - X"
   ]
  }
 ],
 "metadata": {
  "kernelspec": {
   "display_name": "Python 3 (ipykernel)",
   "language": "python",
   "name": "python3"
  },
  "language_info": {
   "codemirror_mode": {
    "name": "ipython",
    "version": 3
   },
   "file_extension": ".py",
   "mimetype": "text/x-python",
   "name": "python",
   "nbconvert_exporter": "python",
   "pygments_lexer": "ipython3",
   "version": "3.12.3"
  }
 },
 "nbformat": 4,
 "nbformat_minor": 5
}
