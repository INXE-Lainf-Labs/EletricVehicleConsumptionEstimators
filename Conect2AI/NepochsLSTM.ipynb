{
 "cells": [
  {
   "cell_type": "markdown",
   "id": "f020973a-5066-4479-8f77-b6366ce4dd88",
   "metadata": {},
   "source": [
    "# LSTM Multiserie e Multivariada"
   ]
  },
  {
   "cell_type": "markdown",
   "id": "82143721-5b85-4d3d-ab66-37c483db926e",
   "metadata": {
    "jp-MarkdownHeadingCollapsed": true
   },
   "source": [
    "## Dataset"
   ]
  },
  {
   "cell_type": "code",
   "execution_count": 28,
   "id": "1683acda-9f9e-4fdf-a439-2b4e4377adcc",
   "metadata": {},
   "outputs": [],
   "source": [
    "import pandas as pd\n",
    "import numpy as np\n",
    "import matplotlib.pyplot as plt\n",
    "\n",
    "from tensorflow.keras.models import Sequential\n",
    "from tensorflow.keras.layers import LSTM, Dense\n",
    "from tensorflow.keras.optimizers import Adam\n",
    "\n",
    "from sklearn.preprocessing import MinMaxScaler"
   ]
  },
  {
   "cell_type": "code",
   "execution_count": 29,
   "id": "0bba82be-0c40-4798-a9af-c5a1ab0d1286",
   "metadata": {},
   "outputs": [
    {
     "data": {
      "text/html": [
       "<div>\n",
       "<style scoped>\n",
       "    .dataframe tbody tr th:only-of-type {\n",
       "        vertical-align: middle;\n",
       "    }\n",
       "\n",
       "    .dataframe tbody tr th {\n",
       "        vertical-align: top;\n",
       "    }\n",
       "\n",
       "    .dataframe thead th {\n",
       "        text-align: right;\n",
       "    }\n",
       "</style>\n",
       "<table border=\"1\" class=\"dataframe\">\n",
       "  <thead>\n",
       "    <tr style=\"text-align: right;\">\n",
       "      <th></th>\n",
       "      <th>Time [s]</th>\n",
       "      <th>Velocity [km/h]</th>\n",
       "      <th>Elevation [m]</th>\n",
       "      <th>Throttle [%]</th>\n",
       "      <th>Motor Torque [Nm]</th>\n",
       "      <th>Longitudinal Acceleration [m/s^2]</th>\n",
       "      <th>Regenerative Braking Signal</th>\n",
       "      <th>Battery Voltage [V]</th>\n",
       "      <th>Battery Current [A]</th>\n",
       "      <th>Battery Temperature [°C]</th>\n",
       "      <th>...</th>\n",
       "      <th>AirCon Power [kW]</th>\n",
       "      <th>Heater Signal</th>\n",
       "      <th>Heater Voltage [V]</th>\n",
       "      <th>Heater Current [A]</th>\n",
       "      <th>Ambient Temperature [°C]</th>\n",
       "      <th>Coolant Temperature Heatercore [°C]</th>\n",
       "      <th>Requested Coolant Temperature [°C]</th>\n",
       "      <th>Coolant Temperature Inlet [°C]</th>\n",
       "      <th>Heat Exchanger Temperature [°C]</th>\n",
       "      <th>Cabin Temperature Sensor [°C]</th>\n",
       "    </tr>\n",
       "  </thead>\n",
       "  <tbody>\n",
       "    <tr>\n",
       "      <th>0</th>\n",
       "      <td>0.0</td>\n",
       "      <td>0.0</td>\n",
       "      <td>574.0</td>\n",
       "      <td>0.0</td>\n",
       "      <td>0.0</td>\n",
       "      <td>-0.03</td>\n",
       "      <td>0.0</td>\n",
       "      <td>391.4</td>\n",
       "      <td>-2.20</td>\n",
       "      <td>21.0</td>\n",
       "      <td>...</td>\n",
       "      <td>0.4</td>\n",
       "      <td>1</td>\n",
       "      <td>0</td>\n",
       "      <td>0</td>\n",
       "      <td>25.5</td>\n",
       "      <td>0</td>\n",
       "      <td>0</td>\n",
       "      <td>0</td>\n",
       "      <td>30.5</td>\n",
       "      <td>24.5</td>\n",
       "    </tr>\n",
       "    <tr>\n",
       "      <th>1</th>\n",
       "      <td>0.1</td>\n",
       "      <td>0.0</td>\n",
       "      <td>574.0</td>\n",
       "      <td>0.0</td>\n",
       "      <td>0.0</td>\n",
       "      <td>0.00</td>\n",
       "      <td>0.0</td>\n",
       "      <td>391.4</td>\n",
       "      <td>-2.21</td>\n",
       "      <td>21.0</td>\n",
       "      <td>...</td>\n",
       "      <td>0.4</td>\n",
       "      <td>1</td>\n",
       "      <td>0</td>\n",
       "      <td>0</td>\n",
       "      <td>25.5</td>\n",
       "      <td>0</td>\n",
       "      <td>0</td>\n",
       "      <td>0</td>\n",
       "      <td>30.5</td>\n",
       "      <td>24.5</td>\n",
       "    </tr>\n",
       "    <tr>\n",
       "      <th>2</th>\n",
       "      <td>0.2</td>\n",
       "      <td>0.0</td>\n",
       "      <td>574.0</td>\n",
       "      <td>0.0</td>\n",
       "      <td>0.0</td>\n",
       "      <td>-0.01</td>\n",
       "      <td>0.0</td>\n",
       "      <td>391.4</td>\n",
       "      <td>-2.26</td>\n",
       "      <td>21.0</td>\n",
       "      <td>...</td>\n",
       "      <td>0.4</td>\n",
       "      <td>1</td>\n",
       "      <td>0</td>\n",
       "      <td>0</td>\n",
       "      <td>25.5</td>\n",
       "      <td>0</td>\n",
       "      <td>0</td>\n",
       "      <td>0</td>\n",
       "      <td>30.5</td>\n",
       "      <td>24.5</td>\n",
       "    </tr>\n",
       "    <tr>\n",
       "      <th>3</th>\n",
       "      <td>0.3</td>\n",
       "      <td>0.0</td>\n",
       "      <td>574.0</td>\n",
       "      <td>0.0</td>\n",
       "      <td>0.0</td>\n",
       "      <td>-0.03</td>\n",
       "      <td>0.0</td>\n",
       "      <td>391.4</td>\n",
       "      <td>-2.30</td>\n",
       "      <td>21.0</td>\n",
       "      <td>...</td>\n",
       "      <td>0.4</td>\n",
       "      <td>1</td>\n",
       "      <td>0</td>\n",
       "      <td>0</td>\n",
       "      <td>25.5</td>\n",
       "      <td>0</td>\n",
       "      <td>0</td>\n",
       "      <td>0</td>\n",
       "      <td>30.5</td>\n",
       "      <td>24.5</td>\n",
       "    </tr>\n",
       "    <tr>\n",
       "      <th>4</th>\n",
       "      <td>0.4</td>\n",
       "      <td>0.0</td>\n",
       "      <td>574.0</td>\n",
       "      <td>0.0</td>\n",
       "      <td>0.0</td>\n",
       "      <td>-0.03</td>\n",
       "      <td>0.0</td>\n",
       "      <td>391.4</td>\n",
       "      <td>-2.30</td>\n",
       "      <td>21.0</td>\n",
       "      <td>...</td>\n",
       "      <td>0.4</td>\n",
       "      <td>1</td>\n",
       "      <td>0</td>\n",
       "      <td>0</td>\n",
       "      <td>25.5</td>\n",
       "      <td>0</td>\n",
       "      <td>0</td>\n",
       "      <td>0</td>\n",
       "      <td>30.5</td>\n",
       "      <td>24.5</td>\n",
       "    </tr>\n",
       "  </tbody>\n",
       "</table>\n",
       "<p>5 rows × 28 columns</p>\n",
       "</div>"
      ],
      "text/plain": [
       "   Time [s]  Velocity [km/h]  Elevation [m]  Throttle [%]  Motor Torque [Nm]  \\\n",
       "0       0.0              0.0          574.0           0.0                0.0   \n",
       "1       0.1              0.0          574.0           0.0                0.0   \n",
       "2       0.2              0.0          574.0           0.0                0.0   \n",
       "3       0.3              0.0          574.0           0.0                0.0   \n",
       "4       0.4              0.0          574.0           0.0                0.0   \n",
       "\n",
       "   Longitudinal Acceleration [m/s^2]  Regenerative Braking Signal   \\\n",
       "0                              -0.03                           0.0   \n",
       "1                               0.00                           0.0   \n",
       "2                              -0.01                           0.0   \n",
       "3                              -0.03                           0.0   \n",
       "4                              -0.03                           0.0   \n",
       "\n",
       "   Battery Voltage [V]  Battery Current [A]  Battery Temperature [°C]  ...  \\\n",
       "0                391.4                -2.20                      21.0  ...   \n",
       "1                391.4                -2.21                      21.0  ...   \n",
       "2                391.4                -2.26                      21.0  ...   \n",
       "3                391.4                -2.30                      21.0  ...   \n",
       "4                391.4                -2.30                      21.0  ...   \n",
       "\n",
       "   AirCon Power [kW]  Heater Signal  Heater Voltage [V]  Heater Current [A]  \\\n",
       "0                0.4              1                   0                   0   \n",
       "1                0.4              1                   0                   0   \n",
       "2                0.4              1                   0                   0   \n",
       "3                0.4              1                   0                   0   \n",
       "4                0.4              1                   0                   0   \n",
       "\n",
       "   Ambient Temperature [°C]  Coolant Temperature Heatercore [°C]  \\\n",
       "0                      25.5                                    0   \n",
       "1                      25.5                                    0   \n",
       "2                      25.5                                    0   \n",
       "3                      25.5                                    0   \n",
       "4                      25.5                                    0   \n",
       "\n",
       "   Requested Coolant Temperature [°C]  Coolant Temperature Inlet [°C]  \\\n",
       "0                                   0                               0   \n",
       "1                                   0                               0   \n",
       "2                                   0                               0   \n",
       "3                                   0                               0   \n",
       "4                                   0                               0   \n",
       "\n",
       "   Heat Exchanger Temperature [°C]  Cabin Temperature Sensor [°C]  \n",
       "0                             30.5                           24.5  \n",
       "1                             30.5                           24.5  \n",
       "2                             30.5                           24.5  \n",
       "3                             30.5                           24.5  \n",
       "4                             30.5                           24.5  \n",
       "\n",
       "[5 rows x 28 columns]"
      ]
     },
     "execution_count": 29,
     "metadata": {},
     "output_type": "execute_result"
    }
   ],
   "source": [
    "trip = pd.read_csv(\"./data/ieee/TripA01.csv\", sep=\";\", encoding='unicode_escape')\n",
    "trip.head()"
   ]
  },
  {
   "cell_type": "code",
   "execution_count": 30,
   "id": "230204c6-eb64-4255-8432-04cfa88973c6",
   "metadata": {},
   "outputs": [
    {
     "data": {
      "text/plain": [
       "Index(['Time [s]', 'Velocity [km/h]', 'Elevation [m]', 'Throttle [%]',\n",
       "       'Motor Torque [Nm]', 'Longitudinal Acceleration [m/s^2]',\n",
       "       'Regenerative Braking Signal ', 'Battery Voltage [V]',\n",
       "       'Battery Current [A]', 'Battery Temperature [°C]',\n",
       "       'max. Battery Temperature [°C]', 'SoC [%]', 'displayed SoC [%]',\n",
       "       'min. SoC [%]', 'max. SoC [%)', 'Heating Power CAN [kW]',\n",
       "       'Heating Power LIN [W]', 'Requested Heating Power [W]',\n",
       "       'AirCon Power [kW]', 'Heater Signal', 'Heater Voltage [V]',\n",
       "       'Heater Current [A]', 'Ambient Temperature [°C]',\n",
       "       'Coolant Temperature Heatercore [°C]',\n",
       "       'Requested Coolant Temperature [°C]', 'Coolant Temperature Inlet [°C]',\n",
       "       'Heat Exchanger Temperature [°C]', 'Cabin Temperature Sensor [°C]'],\n",
       "      dtype='object')"
      ]
     },
     "execution_count": 30,
     "metadata": {},
     "output_type": "execute_result"
    }
   ],
   "source": [
    "trip.columns"
   ]
  },
  {
   "cell_type": "code",
   "execution_count": 31,
   "id": "e6cdeb3c-4c32-4830-8bd1-2f6dff2f539c",
   "metadata": {},
   "outputs": [
    {
     "data": {
      "text/html": [
       "<div>\n",
       "<style scoped>\n",
       "    .dataframe tbody tr th:only-of-type {\n",
       "        vertical-align: middle;\n",
       "    }\n",
       "\n",
       "    .dataframe tbody tr th {\n",
       "        vertical-align: top;\n",
       "    }\n",
       "\n",
       "    .dataframe thead th {\n",
       "        text-align: right;\n",
       "    }\n",
       "</style>\n",
       "<table border=\"1\" class=\"dataframe\">\n",
       "  <thead>\n",
       "    <tr style=\"text-align: right;\">\n",
       "      <th></th>\n",
       "      <th>Time [s]</th>\n",
       "      <th>Velocity [km/h]</th>\n",
       "      <th>Elevation [m]</th>\n",
       "      <th>Throttle [%]</th>\n",
       "      <th>Motor Torque [Nm]</th>\n",
       "      <th>Longitudinal Acceleration [m/s^2]</th>\n",
       "      <th>Regenerative Braking Signal</th>\n",
       "      <th>Battery Voltage [V]</th>\n",
       "      <th>Battery Current [A]</th>\n",
       "      <th>Battery Temperature [°C]</th>\n",
       "      <th>...</th>\n",
       "      <th>AirCon Power [kW]</th>\n",
       "      <th>Heater Signal</th>\n",
       "      <th>Heater Voltage [V]</th>\n",
       "      <th>Heater Current [A]</th>\n",
       "      <th>Ambient Temperature [°C]</th>\n",
       "      <th>Coolant Temperature Heatercore [°C]</th>\n",
       "      <th>Requested Coolant Temperature [°C]</th>\n",
       "      <th>Coolant Temperature Inlet [°C]</th>\n",
       "      <th>Heat Exchanger Temperature [°C]</th>\n",
       "      <th>Cabin Temperature Sensor [°C]</th>\n",
       "    </tr>\n",
       "  </thead>\n",
       "  <tbody>\n",
       "    <tr>\n",
       "      <th>count</th>\n",
       "      <td>10090.000000</td>\n",
       "      <td>10090.000000</td>\n",
       "      <td>10090.000000</td>\n",
       "      <td>10090.000000</td>\n",
       "      <td>10090.000000</td>\n",
       "      <td>10090.000000</td>\n",
       "      <td>10090.000000</td>\n",
       "      <td>10090.000000</td>\n",
       "      <td>10090.000000</td>\n",
       "      <td>10090.000000</td>\n",
       "      <td>...</td>\n",
       "      <td>10090.000000</td>\n",
       "      <td>10090.0</td>\n",
       "      <td>10090.0</td>\n",
       "      <td>10090.0</td>\n",
       "      <td>10090.000000</td>\n",
       "      <td>10090.0</td>\n",
       "      <td>10090.0</td>\n",
       "      <td>10090.0</td>\n",
       "      <td>10090.000000</td>\n",
       "      <td>10090.000000</td>\n",
       "    </tr>\n",
       "    <tr>\n",
       "      <th>mean</th>\n",
       "      <td>504.450000</td>\n",
       "      <td>26.502170</td>\n",
       "      <td>566.791625</td>\n",
       "      <td>26.470424</td>\n",
       "      <td>8.106545</td>\n",
       "      <td>0.014246</td>\n",
       "      <td>0.118162</td>\n",
       "      <td>388.483996</td>\n",
       "      <td>-11.953476</td>\n",
       "      <td>21.940141</td>\n",
       "      <td>...</td>\n",
       "      <td>1.610408</td>\n",
       "      <td>1.0</td>\n",
       "      <td>0.0</td>\n",
       "      <td>0.0</td>\n",
       "      <td>30.769972</td>\n",
       "      <td>0.0</td>\n",
       "      <td>0.0</td>\n",
       "      <td>0.0</td>\n",
       "      <td>8.589470</td>\n",
       "      <td>23.907057</td>\n",
       "    </tr>\n",
       "    <tr>\n",
       "      <th>std</th>\n",
       "      <td>291.287644</td>\n",
       "      <td>15.497032</td>\n",
       "      <td>5.577563</td>\n",
       "      <td>16.370510</td>\n",
       "      <td>42.123984</td>\n",
       "      <td>0.741669</td>\n",
       "      <td>0.322172</td>\n",
       "      <td>2.158318</td>\n",
       "      <td>22.799614</td>\n",
       "      <td>0.237147</td>\n",
       "      <td>...</td>\n",
       "      <td>0.340490</td>\n",
       "      <td>0.0</td>\n",
       "      <td>0.0</td>\n",
       "      <td>0.0</td>\n",
       "      <td>1.619032</td>\n",
       "      <td>0.0</td>\n",
       "      <td>0.0</td>\n",
       "      <td>0.0</td>\n",
       "      <td>7.124407</td>\n",
       "      <td>1.249755</td>\n",
       "    </tr>\n",
       "    <tr>\n",
       "      <th>min</th>\n",
       "      <td>0.000000</td>\n",
       "      <td>0.000000</td>\n",
       "      <td>558.000000</td>\n",
       "      <td>0.000000</td>\n",
       "      <td>-87.050000</td>\n",
       "      <td>-2.290000</td>\n",
       "      <td>0.000000</td>\n",
       "      <td>380.420000</td>\n",
       "      <td>-100.700000</td>\n",
       "      <td>21.000000</td>\n",
       "      <td>...</td>\n",
       "      <td>0.400000</td>\n",
       "      <td>1.0</td>\n",
       "      <td>0.0</td>\n",
       "      <td>0.0</td>\n",
       "      <td>25.500000</td>\n",
       "      <td>0.0</td>\n",
       "      <td>0.0</td>\n",
       "      <td>0.0</td>\n",
       "      <td>5.000000</td>\n",
       "      <td>22.170000</td>\n",
       "    </tr>\n",
       "    <tr>\n",
       "      <th>25%</th>\n",
       "      <td>252.225000</td>\n",
       "      <td>15.362500</td>\n",
       "      <td>562.090000</td>\n",
       "      <td>13.550000</td>\n",
       "      <td>-9.157500</td>\n",
       "      <td>-0.330000</td>\n",
       "      <td>0.000000</td>\n",
       "      <td>387.190000</td>\n",
       "      <td>-22.197500</td>\n",
       "      <td>22.000000</td>\n",
       "      <td>...</td>\n",
       "      <td>1.580000</td>\n",
       "      <td>1.0</td>\n",
       "      <td>0.0</td>\n",
       "      <td>0.0</td>\n",
       "      <td>30.500000</td>\n",
       "      <td>0.0</td>\n",
       "      <td>0.0</td>\n",
       "      <td>0.0</td>\n",
       "      <td>5.000000</td>\n",
       "      <td>22.670000</td>\n",
       "    </tr>\n",
       "    <tr>\n",
       "      <th>50%</th>\n",
       "      <td>504.450000</td>\n",
       "      <td>29.550000</td>\n",
       "      <td>565.000000</td>\n",
       "      <td>31.100000</td>\n",
       "      <td>4.630000</td>\n",
       "      <td>0.020000</td>\n",
       "      <td>0.000000</td>\n",
       "      <td>388.540000</td>\n",
       "      <td>-8.570000</td>\n",
       "      <td>22.000000</td>\n",
       "      <td>...</td>\n",
       "      <td>1.670000</td>\n",
       "      <td>1.0</td>\n",
       "      <td>0.0</td>\n",
       "      <td>0.0</td>\n",
       "      <td>31.000000</td>\n",
       "      <td>0.0</td>\n",
       "      <td>0.0</td>\n",
       "      <td>0.0</td>\n",
       "      <td>5.000000</td>\n",
       "      <td>24.000000</td>\n",
       "    </tr>\n",
       "    <tr>\n",
       "      <th>75%</th>\n",
       "      <td>756.675000</td>\n",
       "      <td>38.720000</td>\n",
       "      <td>574.000000</td>\n",
       "      <td>40.357500</td>\n",
       "      <td>23.540000</td>\n",
       "      <td>0.350000</td>\n",
       "      <td>0.000000</td>\n",
       "      <td>390.000000</td>\n",
       "      <td>-1.990000</td>\n",
       "      <td>22.000000</td>\n",
       "      <td>...</td>\n",
       "      <td>1.760000</td>\n",
       "      <td>1.0</td>\n",
       "      <td>0.0</td>\n",
       "      <td>0.0</td>\n",
       "      <td>32.000000</td>\n",
       "      <td>0.0</td>\n",
       "      <td>0.0</td>\n",
       "      <td>0.0</td>\n",
       "      <td>7.000000</td>\n",
       "      <td>25.010000</td>\n",
       "    </tr>\n",
       "    <tr>\n",
       "      <th>max</th>\n",
       "      <td>1008.900000</td>\n",
       "      <td>53.300000</td>\n",
       "      <td>574.000000</td>\n",
       "      <td>55.900000</td>\n",
       "      <td>174.420000</td>\n",
       "      <td>2.790000</td>\n",
       "      <td>1.000000</td>\n",
       "      <td>394.470000</td>\n",
       "      <td>66.220000</td>\n",
       "      <td>22.000000</td>\n",
       "      <td>...</td>\n",
       "      <td>2.520000</td>\n",
       "      <td>1.0</td>\n",
       "      <td>0.0</td>\n",
       "      <td>0.0</td>\n",
       "      <td>33.500000</td>\n",
       "      <td>0.0</td>\n",
       "      <td>0.0</td>\n",
       "      <td>0.0</td>\n",
       "      <td>30.500000</td>\n",
       "      <td>25.840000</td>\n",
       "    </tr>\n",
       "  </tbody>\n",
       "</table>\n",
       "<p>8 rows × 28 columns</p>\n",
       "</div>"
      ],
      "text/plain": [
       "           Time [s]  Velocity [km/h]  Elevation [m]  Throttle [%]  \\\n",
       "count  10090.000000     10090.000000   10090.000000  10090.000000   \n",
       "mean     504.450000        26.502170     566.791625     26.470424   \n",
       "std      291.287644        15.497032       5.577563     16.370510   \n",
       "min        0.000000         0.000000     558.000000      0.000000   \n",
       "25%      252.225000        15.362500     562.090000     13.550000   \n",
       "50%      504.450000        29.550000     565.000000     31.100000   \n",
       "75%      756.675000        38.720000     574.000000     40.357500   \n",
       "max     1008.900000        53.300000     574.000000     55.900000   \n",
       "\n",
       "       Motor Torque [Nm]  Longitudinal Acceleration [m/s^2]  \\\n",
       "count       10090.000000                       10090.000000   \n",
       "mean            8.106545                           0.014246   \n",
       "std            42.123984                           0.741669   \n",
       "min           -87.050000                          -2.290000   \n",
       "25%            -9.157500                          -0.330000   \n",
       "50%             4.630000                           0.020000   \n",
       "75%            23.540000                           0.350000   \n",
       "max           174.420000                           2.790000   \n",
       "\n",
       "       Regenerative Braking Signal   Battery Voltage [V]  Battery Current [A]  \\\n",
       "count                  10090.000000         10090.000000         10090.000000   \n",
       "mean                       0.118162           388.483996           -11.953476   \n",
       "std                        0.322172             2.158318            22.799614   \n",
       "min                        0.000000           380.420000          -100.700000   \n",
       "25%                        0.000000           387.190000           -22.197500   \n",
       "50%                        0.000000           388.540000            -8.570000   \n",
       "75%                        0.000000           390.000000            -1.990000   \n",
       "max                        1.000000           394.470000            66.220000   \n",
       "\n",
       "       Battery Temperature [°C]  ...  AirCon Power [kW]  Heater Signal  \\\n",
       "count              10090.000000  ...       10090.000000        10090.0   \n",
       "mean                  21.940141  ...           1.610408            1.0   \n",
       "std                    0.237147  ...           0.340490            0.0   \n",
       "min                   21.000000  ...           0.400000            1.0   \n",
       "25%                   22.000000  ...           1.580000            1.0   \n",
       "50%                   22.000000  ...           1.670000            1.0   \n",
       "75%                   22.000000  ...           1.760000            1.0   \n",
       "max                   22.000000  ...           2.520000            1.0   \n",
       "\n",
       "       Heater Voltage [V]  Heater Current [A]  Ambient Temperature [°C]  \\\n",
       "count             10090.0             10090.0              10090.000000   \n",
       "mean                  0.0                 0.0                 30.769972   \n",
       "std                   0.0                 0.0                  1.619032   \n",
       "min                   0.0                 0.0                 25.500000   \n",
       "25%                   0.0                 0.0                 30.500000   \n",
       "50%                   0.0                 0.0                 31.000000   \n",
       "75%                   0.0                 0.0                 32.000000   \n",
       "max                   0.0                 0.0                 33.500000   \n",
       "\n",
       "       Coolant Temperature Heatercore [°C]  \\\n",
       "count                              10090.0   \n",
       "mean                                   0.0   \n",
       "std                                    0.0   \n",
       "min                                    0.0   \n",
       "25%                                    0.0   \n",
       "50%                                    0.0   \n",
       "75%                                    0.0   \n",
       "max                                    0.0   \n",
       "\n",
       "       Requested Coolant Temperature [°C]  Coolant Temperature Inlet [°C]  \\\n",
       "count                             10090.0                         10090.0   \n",
       "mean                                  0.0                             0.0   \n",
       "std                                   0.0                             0.0   \n",
       "min                                   0.0                             0.0   \n",
       "25%                                   0.0                             0.0   \n",
       "50%                                   0.0                             0.0   \n",
       "75%                                   0.0                             0.0   \n",
       "max                                   0.0                             0.0   \n",
       "\n",
       "       Heat Exchanger Temperature [°C]  Cabin Temperature Sensor [°C]  \n",
       "count                     10090.000000                   10090.000000  \n",
       "mean                          8.589470                      23.907057  \n",
       "std                           7.124407                       1.249755  \n",
       "min                           5.000000                      22.170000  \n",
       "25%                           5.000000                      22.670000  \n",
       "50%                           5.000000                      24.000000  \n",
       "75%                           7.000000                      25.010000  \n",
       "max                          30.500000                      25.840000  \n",
       "\n",
       "[8 rows x 28 columns]"
      ]
     },
     "execution_count": 31,
     "metadata": {},
     "output_type": "execute_result"
    }
   ],
   "source": [
    "trip.describe()"
   ]
  },
  {
   "cell_type": "code",
   "execution_count": 32,
   "id": "f58a1c5b-fd7f-464f-9149-98a42dc15f6f",
   "metadata": {},
   "outputs": [
    {
     "name": "stdout",
     "output_type": "stream",
     "text": [
      "<class 'pandas.core.frame.DataFrame'>\n",
      "RangeIndex: 10090 entries, 0 to 10089\n",
      "Data columns (total 28 columns):\n",
      " #   Column                               Non-Null Count  Dtype  \n",
      "---  ------                               --------------  -----  \n",
      " 0   Time [s]                             10090 non-null  float64\n",
      " 1   Velocity [km/h]                      10090 non-null  float64\n",
      " 2   Elevation [m]                        10090 non-null  float64\n",
      " 3   Throttle [%]                         10090 non-null  float64\n",
      " 4   Motor Torque [Nm]                    10090 non-null  float64\n",
      " 5   Longitudinal Acceleration [m/s^2]    10090 non-null  float64\n",
      " 6   Regenerative Braking Signal          10090 non-null  float64\n",
      " 7   Battery Voltage [V]                  10090 non-null  float64\n",
      " 8   Battery Current [A]                  10090 non-null  float64\n",
      " 9   Battery Temperature [°C]             10090 non-null  float64\n",
      " 10  max. Battery Temperature [°C]        10090 non-null  float64\n",
      " 11  SoC [%]                              10090 non-null  float64\n",
      " 12  displayed SoC [%]                    10090 non-null  float64\n",
      " 13  min. SoC [%]                         10090 non-null  int64  \n",
      " 14  max. SoC [%)                         10090 non-null  int64  \n",
      " 15  Heating Power CAN [kW]               10090 non-null  float64\n",
      " 16  Heating Power LIN [W]                10090 non-null  int64  \n",
      " 17  Requested Heating Power [W]          10090 non-null  int64  \n",
      " 18  AirCon Power [kW]                    10090 non-null  float64\n",
      " 19  Heater Signal                        10090 non-null  int64  \n",
      " 20  Heater Voltage [V]                   10090 non-null  int64  \n",
      " 21  Heater Current [A]                   10090 non-null  int64  \n",
      " 22  Ambient Temperature [°C]             10090 non-null  float64\n",
      " 23  Coolant Temperature Heatercore [°C]  10090 non-null  int64  \n",
      " 24  Requested Coolant Temperature [°C]   10090 non-null  int64  \n",
      " 25  Coolant Temperature Inlet [°C]       10090 non-null  int64  \n",
      " 26  Heat Exchanger Temperature [°C]      10090 non-null  float64\n",
      " 27  Cabin Temperature Sensor [°C]        10090 non-null  float64\n",
      "dtypes: float64(18), int64(10)\n",
      "memory usage: 2.2 MB\n"
     ]
    }
   ],
   "source": [
    "trip.info()"
   ]
  },
  {
   "cell_type": "code",
   "execution_count": 33,
   "id": "77d5f1b0-e47e-4ee5-8451-12dbf3954049",
   "metadata": {},
   "outputs": [
    {
     "data": {
      "text/html": [
       "<div>\n",
       "<style scoped>\n",
       "    .dataframe tbody tr th:only-of-type {\n",
       "        vertical-align: middle;\n",
       "    }\n",
       "\n",
       "    .dataframe tbody tr th {\n",
       "        vertical-align: top;\n",
       "    }\n",
       "\n",
       "    .dataframe thead th {\n",
       "        text-align: right;\n",
       "    }\n",
       "</style>\n",
       "<table border=\"1\" class=\"dataframe\">\n",
       "  <thead>\n",
       "    <tr style=\"text-align: right;\">\n",
       "      <th></th>\n",
       "      <th>Time [s]</th>\n",
       "      <th>Velocity [km/h]</th>\n",
       "      <th>Elevation [m]</th>\n",
       "      <th>Throttle [%]</th>\n",
       "      <th>Motor Torque [Nm]</th>\n",
       "      <th>Longitudinal Acceleration [m/s^2]</th>\n",
       "      <th>Regenerative Braking Signal</th>\n",
       "      <th>Battery Voltage [V]</th>\n",
       "      <th>Battery Current [A]</th>\n",
       "      <th>Battery Temperature [°C]</th>\n",
       "      <th>...</th>\n",
       "      <th>AirCon Power [kW]</th>\n",
       "      <th>Heater Signal</th>\n",
       "      <th>Heater Voltage [V]</th>\n",
       "      <th>Heater Current [A]</th>\n",
       "      <th>Ambient Temperature [°C]</th>\n",
       "      <th>Coolant Temperature Heatercore [°C]</th>\n",
       "      <th>Requested Coolant Temperature [°C]</th>\n",
       "      <th>Coolant Temperature Inlet [°C]</th>\n",
       "      <th>Heat Exchanger Temperature [°C]</th>\n",
       "      <th>Cabin Temperature Sensor [°C]</th>\n",
       "    </tr>\n",
       "  </thead>\n",
       "  <tbody>\n",
       "    <tr>\n",
       "      <th>0</th>\n",
       "      <td>0.0</td>\n",
       "      <td>0.0</td>\n",
       "      <td>574.0</td>\n",
       "      <td>0.0</td>\n",
       "      <td>0.0</td>\n",
       "      <td>-0.03</td>\n",
       "      <td>0.0</td>\n",
       "      <td>391.4</td>\n",
       "      <td>-2.20</td>\n",
       "      <td>21.0</td>\n",
       "      <td>...</td>\n",
       "      <td>0.4</td>\n",
       "      <td>1</td>\n",
       "      <td>0</td>\n",
       "      <td>0</td>\n",
       "      <td>25.5</td>\n",
       "      <td>0</td>\n",
       "      <td>0</td>\n",
       "      <td>0</td>\n",
       "      <td>30.5</td>\n",
       "      <td>24.5</td>\n",
       "    </tr>\n",
       "    <tr>\n",
       "      <th>1</th>\n",
       "      <td>0.1</td>\n",
       "      <td>0.0</td>\n",
       "      <td>574.0</td>\n",
       "      <td>0.0</td>\n",
       "      <td>0.0</td>\n",
       "      <td>0.00</td>\n",
       "      <td>0.0</td>\n",
       "      <td>391.4</td>\n",
       "      <td>-2.21</td>\n",
       "      <td>21.0</td>\n",
       "      <td>...</td>\n",
       "      <td>0.4</td>\n",
       "      <td>1</td>\n",
       "      <td>0</td>\n",
       "      <td>0</td>\n",
       "      <td>25.5</td>\n",
       "      <td>0</td>\n",
       "      <td>0</td>\n",
       "      <td>0</td>\n",
       "      <td>30.5</td>\n",
       "      <td>24.5</td>\n",
       "    </tr>\n",
       "    <tr>\n",
       "      <th>2</th>\n",
       "      <td>0.2</td>\n",
       "      <td>0.0</td>\n",
       "      <td>574.0</td>\n",
       "      <td>0.0</td>\n",
       "      <td>0.0</td>\n",
       "      <td>-0.01</td>\n",
       "      <td>0.0</td>\n",
       "      <td>391.4</td>\n",
       "      <td>-2.26</td>\n",
       "      <td>21.0</td>\n",
       "      <td>...</td>\n",
       "      <td>0.4</td>\n",
       "      <td>1</td>\n",
       "      <td>0</td>\n",
       "      <td>0</td>\n",
       "      <td>25.5</td>\n",
       "      <td>0</td>\n",
       "      <td>0</td>\n",
       "      <td>0</td>\n",
       "      <td>30.5</td>\n",
       "      <td>24.5</td>\n",
       "    </tr>\n",
       "    <tr>\n",
       "      <th>3</th>\n",
       "      <td>0.3</td>\n",
       "      <td>0.0</td>\n",
       "      <td>574.0</td>\n",
       "      <td>0.0</td>\n",
       "      <td>0.0</td>\n",
       "      <td>-0.03</td>\n",
       "      <td>0.0</td>\n",
       "      <td>391.4</td>\n",
       "      <td>-2.30</td>\n",
       "      <td>21.0</td>\n",
       "      <td>...</td>\n",
       "      <td>0.4</td>\n",
       "      <td>1</td>\n",
       "      <td>0</td>\n",
       "      <td>0</td>\n",
       "      <td>25.5</td>\n",
       "      <td>0</td>\n",
       "      <td>0</td>\n",
       "      <td>0</td>\n",
       "      <td>30.5</td>\n",
       "      <td>24.5</td>\n",
       "    </tr>\n",
       "    <tr>\n",
       "      <th>4</th>\n",
       "      <td>0.4</td>\n",
       "      <td>0.0</td>\n",
       "      <td>574.0</td>\n",
       "      <td>0.0</td>\n",
       "      <td>0.0</td>\n",
       "      <td>-0.03</td>\n",
       "      <td>0.0</td>\n",
       "      <td>391.4</td>\n",
       "      <td>-2.30</td>\n",
       "      <td>21.0</td>\n",
       "      <td>...</td>\n",
       "      <td>0.4</td>\n",
       "      <td>1</td>\n",
       "      <td>0</td>\n",
       "      <td>0</td>\n",
       "      <td>25.5</td>\n",
       "      <td>0</td>\n",
       "      <td>0</td>\n",
       "      <td>0</td>\n",
       "      <td>30.5</td>\n",
       "      <td>24.5</td>\n",
       "    </tr>\n",
       "  </tbody>\n",
       "</table>\n",
       "<p>5 rows × 28 columns</p>\n",
       "</div>"
      ],
      "text/plain": [
       "   Time [s]  Velocity [km/h]  Elevation [m]  Throttle [%]  Motor Torque [Nm]  \\\n",
       "0       0.0              0.0          574.0           0.0                0.0   \n",
       "1       0.1              0.0          574.0           0.0                0.0   \n",
       "2       0.2              0.0          574.0           0.0                0.0   \n",
       "3       0.3              0.0          574.0           0.0                0.0   \n",
       "4       0.4              0.0          574.0           0.0                0.0   \n",
       "\n",
       "   Longitudinal Acceleration [m/s^2]  Regenerative Braking Signal   \\\n",
       "0                              -0.03                           0.0   \n",
       "1                               0.00                           0.0   \n",
       "2                              -0.01                           0.0   \n",
       "3                              -0.03                           0.0   \n",
       "4                              -0.03                           0.0   \n",
       "\n",
       "   Battery Voltage [V]  Battery Current [A]  Battery Temperature [°C]  ...  \\\n",
       "0                391.4                -2.20                      21.0  ...   \n",
       "1                391.4                -2.21                      21.0  ...   \n",
       "2                391.4                -2.26                      21.0  ...   \n",
       "3                391.4                -2.30                      21.0  ...   \n",
       "4                391.4                -2.30                      21.0  ...   \n",
       "\n",
       "   AirCon Power [kW]  Heater Signal  Heater Voltage [V]  Heater Current [A]  \\\n",
       "0                0.4              1                   0                   0   \n",
       "1                0.4              1                   0                   0   \n",
       "2                0.4              1                   0                   0   \n",
       "3                0.4              1                   0                   0   \n",
       "4                0.4              1                   0                   0   \n",
       "\n",
       "   Ambient Temperature [°C]  Coolant Temperature Heatercore [°C]  \\\n",
       "0                      25.5                                    0   \n",
       "1                      25.5                                    0   \n",
       "2                      25.5                                    0   \n",
       "3                      25.5                                    0   \n",
       "4                      25.5                                    0   \n",
       "\n",
       "   Requested Coolant Temperature [°C]  Coolant Temperature Inlet [°C]  \\\n",
       "0                                   0                               0   \n",
       "1                                   0                               0   \n",
       "2                                   0                               0   \n",
       "3                                   0                               0   \n",
       "4                                   0                               0   \n",
       "\n",
       "   Heat Exchanger Temperature [°C]  Cabin Temperature Sensor [°C]  \n",
       "0                             30.5                           24.5  \n",
       "1                             30.5                           24.5  \n",
       "2                             30.5                           24.5  \n",
       "3                             30.5                           24.5  \n",
       "4                             30.5                           24.5  \n",
       "\n",
       "[5 rows x 28 columns]"
      ]
     },
     "execution_count": 33,
     "metadata": {},
     "output_type": "execute_result"
    }
   ],
   "source": [
    "trip = trip.sort_values(\"Time [s]\")\n",
    "trip.head()"
   ]
  },
  {
   "cell_type": "markdown",
   "id": "567a1047-9fde-46f9-947a-e75643409720",
   "metadata": {
    "jp-MarkdownHeadingCollapsed": true
   },
   "source": [
    "## Preprocessamento"
   ]
  },
  {
   "cell_type": "code",
   "execution_count": 34,
   "id": "963ee018-516f-4dc2-b98d-f2086bb120ea",
   "metadata": {},
   "outputs": [],
   "source": [
    "X = trip.drop(columns=['Time [s]', 'Motor Torque [Nm]']).values\n",
    "y = trip['Motor Torque [Nm]'].values"
   ]
  },
  {
   "cell_type": "code",
   "execution_count": 35,
   "id": "3d2d80e4-a180-4478-8a84-38c26767ed2d",
   "metadata": {},
   "outputs": [],
   "source": [
    "scaler_X = MinMaxScaler()\n",
    "X_scaled = scaler_X.fit_transform(X)"
   ]
  },
  {
   "cell_type": "markdown",
   "id": "bd7172f6-3bd1-4f3c-a517-1f99702c307c",
   "metadata": {
    "jp-MarkdownHeadingCollapsed": true
   },
   "source": [
    "## Janelamento e Treinamento do Modelo"
   ]
  },
  {
   "cell_type": "code",
   "execution_count": 37,
   "id": "f8e09498-07ee-4efb-8309-cb32b9715fe5",
   "metadata": {},
   "outputs": [],
   "source": [
    "def LSTM_model(data, labels, window_size=10, train_size=0.8, epochs=10):\n",
    "    # Janelando os dados\n",
    "    X_seq, y_seq = [], []\n",
    "    \n",
    "    for i in range(window_size, len(data)):\n",
    "        X_seq.append(data[i-window_size:i, :])\n",
    "        y_seq.append(labels[i])\n",
    "        \n",
    "    X_seq, y_seq = np.array(X_seq), np.array(y_seq)\n",
    "\n",
    "    \n",
    "    # Divisão de treino e teste com 80% para treino e 20% para teste\n",
    "    train_size = int(len(X_seq) * train_size)\n",
    "    X_train, X_test = X_seq[:train_size], X_seq[train_size:]\n",
    "    y_train, y_test = y_seq[:train_size], y_seq[train_size:]\n",
    "\n",
    "\n",
    "    # Criando e treinando o modelo\n",
    "    model = Sequential(\n",
    "        [\n",
    "            LSTM(32, activation='tanh', input_shape=(X_train.shape[1], X_train.shape[2])),\n",
    "            Dense(32, activation='relu'), \n",
    "            Dense(1) \n",
    "        ]\n",
    "    )\n",
    "\n",
    "    model.compile(optimizer='adam', loss='mse', metrics=['mae'])\n",
    "\n",
    "    history = model.fit(X_train, y_train, validation_data=(X_test, y_test), epochs=epochs, batch_size=16)\n",
    "\n",
    "\n",
    "    # Imprimindo a avaliação\n",
    "    plt.figure(figsize=(12, 5))\n",
    "    plt.subplot(1, 2, 1)\n",
    "    plt.plot(history.history['loss'], label='Train Loss')\n",
    "    plt.plot(history.history['val_loss'], label='Validation Loss')\n",
    "    plt.xlabel('Épocas')\n",
    "    plt.ylabel('Loss (MSE)')\n",
    "    plt.legend()\n",
    "    plt.grid()\n",
    "\n",
    "    loss, mae = model.evaluate(X_test, y_test)\n",
    "    print(f\"MAE: {mae:.8f}, Loss: {loss:.8f}\")\n",
    "\n",
    "    return model"
   ]
  },
  {
   "cell_type": "code",
   "execution_count": 38,
   "id": "c3e596e4-934e-4e46-b881-bdb3c506dbed",
   "metadata": {},
   "outputs": [
    {
     "name": "stdout",
     "output_type": "stream",
     "text": [
      "Epoch 1/20\n"
     ]
    },
    {
     "name": "stderr",
     "output_type": "stream",
     "text": [
      "/home/andre/.local/lib/python3.10/site-packages/keras/src/layers/rnn/rnn.py:204: UserWarning: Do not pass an `input_shape`/`input_dim` argument to a layer. When using Sequential models, prefer using an `Input(shape)` object as the first layer in the model instead.\n",
      "  super().__init__(**kwargs)\n"
     ]
    },
    {
     "name": "stdout",
     "output_type": "stream",
     "text": [
      "\u001b[1m504/504\u001b[0m \u001b[32m━━━━━━━━━━━━━━━━━━━━\u001b[0m\u001b[37m\u001b[0m \u001b[1m1s\u001b[0m 1ms/step - loss: 1272.9980 - mae: 23.7016 - val_loss: 435.3894 - val_mae: 15.6325\n",
      "Epoch 2/20\n",
      "\u001b[1m504/504\u001b[0m \u001b[32m━━━━━━━━━━━━━━━━━━━━\u001b[0m\u001b[37m\u001b[0m \u001b[1m0s\u001b[0m 961us/step - loss: 142.4910 - mae: 8.1901 - val_loss: 181.7064 - val_mae: 11.7323\n",
      "Epoch 3/20\n",
      "\u001b[1m504/504\u001b[0m \u001b[32m━━━━━━━━━━━━━━━━━━━━\u001b[0m\u001b[37m\u001b[0m \u001b[1m0s\u001b[0m 948us/step - loss: 58.5152 - mae: 5.2959 - val_loss: 250.6034 - val_mae: 13.1038\n",
      "Epoch 4/20\n",
      "\u001b[1m504/504\u001b[0m \u001b[32m━━━━━━━━━━━━━━━━━━━━\u001b[0m\u001b[37m\u001b[0m \u001b[1m0s\u001b[0m 952us/step - loss: 42.5409 - mae: 4.5406 - val_loss: 96.5101 - val_mae: 7.9157\n",
      "Epoch 5/20\n",
      "\u001b[1m504/504\u001b[0m \u001b[32m━━━━━━━━━━━━━━━━━━━━\u001b[0m\u001b[37m\u001b[0m \u001b[1m0s\u001b[0m 966us/step - loss: 34.0604 - mae: 4.0633 - val_loss: 104.4665 - val_mae: 8.0128\n",
      "Epoch 6/20\n",
      "\u001b[1m504/504\u001b[0m \u001b[32m━━━━━━━━━━━━━━━━━━━━\u001b[0m\u001b[37m\u001b[0m \u001b[1m0s\u001b[0m 955us/step - loss: 27.6622 - mae: 3.5745 - val_loss: 105.7803 - val_mae: 8.5106\n",
      "Epoch 7/20\n",
      "\u001b[1m504/504\u001b[0m \u001b[32m━━━━━━━━━━━━━━━━━━━━\u001b[0m\u001b[37m\u001b[0m \u001b[1m0s\u001b[0m 945us/step - loss: 26.0682 - mae: 3.5354 - val_loss: 72.0297 - val_mae: 6.9678\n",
      "Epoch 8/20\n",
      "\u001b[1m504/504\u001b[0m \u001b[32m━━━━━━━━━━━━━━━━━━━━\u001b[0m\u001b[37m\u001b[0m \u001b[1m0s\u001b[0m 972us/step - loss: 23.1922 - mae: 3.3229 - val_loss: 189.2829 - val_mae: 10.1411\n",
      "Epoch 9/20\n",
      "\u001b[1m504/504\u001b[0m \u001b[32m━━━━━━━━━━━━━━━━━━━━\u001b[0m\u001b[37m\u001b[0m \u001b[1m0s\u001b[0m 958us/step - loss: 24.3666 - mae: 3.4125 - val_loss: 76.2590 - val_mae: 7.2244\n",
      "Epoch 10/20\n",
      "\u001b[1m504/504\u001b[0m \u001b[32m━━━━━━━━━━━━━━━━━━━━\u001b[0m\u001b[37m\u001b[0m \u001b[1m0s\u001b[0m 939us/step - loss: 21.1088 - mae: 3.1422 - val_loss: 78.3638 - val_mae: 7.1840\n",
      "Epoch 11/20\n",
      "\u001b[1m504/504\u001b[0m \u001b[32m━━━━━━━━━━━━━━━━━━━━\u001b[0m\u001b[37m\u001b[0m \u001b[1m0s\u001b[0m 932us/step - loss: 21.6938 - mae: 3.2314 - val_loss: 105.0324 - val_mae: 7.8382\n",
      "Epoch 12/20\n",
      "\u001b[1m504/504\u001b[0m \u001b[32m━━━━━━━━━━━━━━━━━━━━\u001b[0m\u001b[37m\u001b[0m \u001b[1m0s\u001b[0m 944us/step - loss: 17.5512 - mae: 2.9854 - val_loss: 119.4218 - val_mae: 7.8500\n",
      "Epoch 13/20\n",
      "\u001b[1m504/504\u001b[0m \u001b[32m━━━━━━━━━━━━━━━━━━━━\u001b[0m\u001b[37m\u001b[0m \u001b[1m0s\u001b[0m 956us/step - loss: 17.7472 - mae: 2.9520 - val_loss: 63.9452 - val_mae: 6.1876\n",
      "Epoch 14/20\n",
      "\u001b[1m504/504\u001b[0m \u001b[32m━━━━━━━━━━━━━━━━━━━━\u001b[0m\u001b[37m\u001b[0m \u001b[1m0s\u001b[0m 936us/step - loss: 16.1762 - mae: 2.8282 - val_loss: 80.0788 - val_mae: 7.2341\n",
      "Epoch 15/20\n",
      "\u001b[1m504/504\u001b[0m \u001b[32m━━━━━━━━━━━━━━━━━━━━\u001b[0m\u001b[37m\u001b[0m \u001b[1m0s\u001b[0m 955us/step - loss: 15.4854 - mae: 2.7625 - val_loss: 101.8204 - val_mae: 7.9069\n",
      "Epoch 16/20\n",
      "\u001b[1m504/504\u001b[0m \u001b[32m━━━━━━━━━━━━━━━━━━━━\u001b[0m\u001b[37m\u001b[0m \u001b[1m0s\u001b[0m 945us/step - loss: 14.9057 - mae: 2.7805 - val_loss: 97.6565 - val_mae: 8.1173\n",
      "Epoch 17/20\n",
      "\u001b[1m504/504\u001b[0m \u001b[32m━━━━━━━━━━━━━━━━━━━━\u001b[0m\u001b[37m\u001b[0m \u001b[1m0s\u001b[0m 962us/step - loss: 14.4153 - mae: 2.6705 - val_loss: 134.0457 - val_mae: 8.7771\n",
      "Epoch 18/20\n",
      "\u001b[1m504/504\u001b[0m \u001b[32m━━━━━━━━━━━━━━━━━━━━\u001b[0m\u001b[37m\u001b[0m \u001b[1m0s\u001b[0m 948us/step - loss: 13.4781 - mae: 2.6189 - val_loss: 159.8943 - val_mae: 9.3334\n",
      "Epoch 19/20\n",
      "\u001b[1m504/504\u001b[0m \u001b[32m━━━━━━━━━━━━━━━━━━━━\u001b[0m\u001b[37m\u001b[0m \u001b[1m0s\u001b[0m 943us/step - loss: 12.9472 - mae: 2.5397 - val_loss: 83.1950 - val_mae: 7.1629\n",
      "Epoch 20/20\n",
      "\u001b[1m504/504\u001b[0m \u001b[32m━━━━━━━━━━━━━━━━━━━━\u001b[0m\u001b[37m\u001b[0m \u001b[1m0s\u001b[0m 968us/step - loss: 13.1248 - mae: 2.5590 - val_loss: 104.9161 - val_mae: 7.1063\n",
      "\u001b[1m63/63\u001b[0m \u001b[32m━━━━━━━━━━━━━━━━━━━━\u001b[0m\u001b[37m\u001b[0m \u001b[1m0s\u001b[0m 573us/step - loss: 165.4021 - mae: 9.2193\n",
      "MAE: 7.10634089, Loss: 104.91613007\n"
     ]
    },
    {
     "data": {
      "image/png": "[encoded data removed]",
      "text/plain": [
       "<Figure size 864x360 with 1 Axes>"
      ]
     },
     "metadata": {
      "needs_background": "light"
     },
     "output_type": "display_data"
    }
   ],
   "source": [
    "model = LSTM_model(X_scaled, y, window_size=10, train_size=0.8, epochs=20)"
   ]
  },
  {
   "cell_type": "markdown",
   "id": "9ed5b071-3440-4195-ae2f-1de5fd661316",
   "metadata": {
    "jp-MarkdownHeadingCollapsed": true
   },
   "source": [
    "## Treinamento e Avaliação do Modelo com N series"
   ]
  },
  {
   "cell_type": "markdown",
   "id": "50bcafd6-7b02-4be1-a87d-73476f105423",
   "metadata": {
    "jp-MarkdownHeadingCollapsed": true
   },
   "source": [
    "### Preparação do Dataset"
   ]
  },
  {
   "cell_type": "code",
   "execution_count": 48,
   "id": "76993a46-feab-4398-88d7-08376ccdc7cb",
   "metadata": {},
   "outputs": [],
   "source": [
    "import os\n",
    "import pandas as pd\n",
    "import numpy as np\n",
    "\n",
    "from sklearn.preprocessing import MinMaxScaler\n",
    "\n",
    "from tensorflow.keras.models import Sequential\n",
    "from tensorflow.keras.layers import LSTM, Dense\n",
    "from tensorflow.keras.optimizers import Adam\n",
    "import matplotlib.pyplot as plt"
   ]
  },
  {
   "cell_type": "code",
   "execution_count": 49,
   "id": "0a133974-1e8f-4bb8-ab65-7e813ce2f560",
   "metadata": {},
   "outputs": [
    {
     "name": "stdout",
     "output_type": "stream",
     "text": [
      "['TripB38']\n"
     ]
    },
    {
     "data": {
      "text/plain": [
       "[['Time [s]',\n",
       "  'Velocity [km/h]',\n",
       "  'Elevation [m]',\n",
       "  'Throttle [%]',\n",
       "  'Motor Torque [Nm]',\n",
       "  'Longitudinal Acceleration [m/s^2]',\n",
       "  'Regenerative Braking Signal ',\n",
       "  'Battery Voltage [V]',\n",
       "  'Battery Current [A]',\n",
       "  'Battery Temperature [°C]',\n",
       "  'max. Battery Temperature [°C]',\n",
       "  'SoC [%]',\n",
       "  'displayed SoC [%]',\n",
       "  'min. SoC [%]',\n",
       "  'max. SoC [%)',\n",
       "  'Heating Power CAN [kW]',\n",
       "  'Requested Heating Power [W]',\n",
       "  'AirCon Power [kW]',\n",
       "  'Heater Signal',\n",
       "  'Ambient Temperature [°C]',\n",
       "  'Requested Coolant Temperature [°C]',\n",
       "  'Heat Exchanger Temperature [°C]',\n",
       "  'Cabin Temperature Sensor [°C]',\n",
       "  'Trip'],\n",
       " ['Time [s]',\n",
       "  'Velocity [km/h]',\n",
       "  'Elevation [m]',\n",
       "  'Throttle [%]',\n",
       "  'Motor Torque [Nm]',\n",
       "  'Longitudinal Acceleration [m/s^2]',\n",
       "  'Regenerative Braking Signal ',\n",
       "  'Battery Voltage [V]',\n",
       "  'Battery Current [A]',\n",
       "  'Battery Temperature [°C]',\n",
       "  'max. Battery Temperature [°C]',\n",
       "  'SoC [%]',\n",
       "  'displayed SoC [%]',\n",
       "  'min. SoC [%]',\n",
       "  'max. SoC [%)',\n",
       "  'Heating Power CAN [kW]',\n",
       "  'Requested Heating Power [W]',\n",
       "  'AirCon Power [kW]',\n",
       "  'Heater Signal',\n",
       "  'Ambient Temperature [°C]',\n",
       "  'Requested Coolant Temperature [°C]',\n",
       "  'Heat Exchanger Temperature [°C]',\n",
       "  'Cabin Temperature Sensor [°C]',\n",
       "  'Unnamed: 23',\n",
       "  'Trip'],\n",
       " ['Time [s]',\n",
       "  'Velocity [km/h]',\n",
       "  'Elevation [m]',\n",
       "  'Throttle [%]',\n",
       "  'Motor Torque [Nm]',\n",
       "  'Longitudinal Acceleration [m/s^2]',\n",
       "  'Regenerative Braking Signal ',\n",
       "  'Battery Voltage [V]',\n",
       "  'Battery Current [A]',\n",
       "  'Battery Temperature [°C]',\n",
       "  'max. Battery Temperature [°C]',\n",
       "  'SoC [%]',\n",
       "  'displayed SoC [%]',\n",
       "  'min. SoC [%]',\n",
       "  'max. SoC [%)',\n",
       "  'Heating Power CAN [kW]',\n",
       "  'Requested Heating Power [W]',\n",
       "  'AirCon Power [kW]',\n",
       "  'Heater Signal',\n",
       "  'Ambient Temperature [°C]',\n",
       "  'Heat Exchanger Temperature [°C]',\n",
       "  'Cabin Temperature Sensor [°C]',\n",
       "  'Trip'],\n",
       " ['Time [s]',\n",
       "  'Velocity [km/h]',\n",
       "  'Elevation [m]',\n",
       "  'Throttle [%]',\n",
       "  'Motor Torque [Nm]',\n",
       "  'Longitudinal Acceleration [m/s^2]',\n",
       "  'Regenerative Braking Signal ',\n",
       "  'Battery Voltage [V]',\n",
       "  'Battery Current [A]',\n",
       "  'Battery Temperature [°C]',\n",
       "  'max. Battery Temperature [°C]',\n",
       "  'SoC [%]',\n",
       "  'displayed SoC [%]',\n",
       "  'min. SoC [%]',\n",
       "  'max. SoC [%)',\n",
       "  'Heating Power CAN [kW]',\n",
       "  'Heating Power LIN [W]',\n",
       "  'Requested Heating Power [W]',\n",
       "  'AirCon Power [kW]',\n",
       "  'Heater Signal',\n",
       "  'Heater Voltage [V]',\n",
       "  'Heater Current [A]',\n",
       "  'Ambient Temperature [°C]',\n",
       "  'Ambient Temperature Sensor [°C]',\n",
       "  'Coolant Temperature Heatercore [°C]',\n",
       "  'Requested Coolant Temperature [°C]',\n",
       "  'Coolant Temperature Inlet [°C]',\n",
       "  'Coolant Volume Flow +500 [l/h]',\n",
       "  'Heat Exchanger Temperature [°C]',\n",
       "  'Cabin Temperature Sensor [°C]',\n",
       "  'Temperature Coolant Heater Inlet [°C]',\n",
       "  'Temperature Coolant Heater Outlet [°C]',\n",
       "  'Temperature Heat Exchanger Outlet [°C]',\n",
       "  'Temperature Defrost lateral left [°C]',\n",
       "  'Temperature Defrost lateral right [°C]',\n",
       "  'Temperature Defrost central [°C]',\n",
       "  'Temperature Defrost central left [°C]',\n",
       "  'Temperature Defrost central right [°C]',\n",
       "  'Temperature Footweel Driver [°C]',\n",
       "  'Temperature Footweel Co-Driver [°C]',\n",
       "  'Temperature Feetvent Co-Driver [°C]',\n",
       "  'Temperature Feetvent Driver [°C]',\n",
       "  'Temperature Head Co-Driver [°C]',\n",
       "  'Temperature Head Driver [°C]',\n",
       "  'Temperature Vent right [°C] ',\n",
       "  'Temperature Vent central right [°C]',\n",
       "  'Temperature Vent central left [°C]',\n",
       "  'Temperature Vent right [°C]',\n",
       "  'Trip'],\n",
       " ['Time [s]',\n",
       "  'Velocity [km/h]',\n",
       "  'Elevation [m]',\n",
       "  'Throttle [%]',\n",
       "  'Motor Torque [Nm]',\n",
       "  'Longitudinal Acceleration [m/s^2]',\n",
       "  'Regenerative Braking Signal ',\n",
       "  'Battery Voltage [V]',\n",
       "  'Battery Current [A]',\n",
       "  'Battery Temperature [°C]',\n",
       "  'max. Battery Temperature [°C]',\n",
       "  'SoC [%]',\n",
       "  'displayed SoC [%]',\n",
       "  'min. SoC [%]',\n",
       "  'max. SoC [%)',\n",
       "  'Heating Power CAN [kW]',\n",
       "  'Heating Power LIN [W]',\n",
       "  'Requested Heating Power [W]',\n",
       "  'AirCon Power [kW]',\n",
       "  'Heater Signal',\n",
       "  'Heater Voltage [V]',\n",
       "  'Heater Current [A]',\n",
       "  'Ambient Temperature [°C]',\n",
       "  'Coolant Temperature Heatercore [°C]',\n",
       "  'Requested Coolant Temperature [°C]',\n",
       "  'Coolant Temperature Inlet [°C]',\n",
       "  'Heat Exchanger Temperature [°C]',\n",
       "  'Cabin Temperature Sensor [°C]',\n",
       "  'Trip']]"
      ]
     },
     "execution_count": 49,
     "metadata": {},
     "output_type": "execute_result"
    }
   ],
   "source": [
    "directory = \"./data/ieee/\"\n",
    "files = os.listdir(directory)\n",
    "files.sort()\n",
    "\n",
    "trips = []\n",
    "for file in files:\n",
    "    trip = pd.read_csv(directory + file, sep=\";\", encoding='unicode_escape')\n",
    "    trip = trip.sort_values(by='Time [s]')\n",
    "    trip['Trip'] = file.split(\".\")[0]\n",
    "    trips.append(trip)\n",
    "\n",
    "columns = []\n",
    "for trip in trips:\n",
    "    if 'Velocity [km/h]]]' in trip.columns:\n",
    "        trip = trip.rename(columns={'Velocity [km/h]]]': 'Velocity [km/h]'})\n",
    "        print(trip['Trip'].unique())\n",
    "    columns.append(trip.columns.tolist())\n",
    "\n",
    "grupo_colunas_unicos = [list(x) for x in set(tuple(lst) for lst in columns)]\n",
    "grupo_colunas_unicos"
   ]
  },
  {
   "cell_type": "code",
   "execution_count": 50,
   "id": "8e6607a7-4bc0-4dd5-869e-ec90ce28a19b",
   "metadata": {},
   "outputs": [
    {
     "name": "stdout",
     "output_type": "stream",
     "text": [
      "50\n"
     ]
    },
    {
     "data": {
      "text/plain": [
       "['AirCon Power [kW]',\n",
       " 'Ambient Temperature Sensor [°C]',\n",
       " 'Ambient Temperature [°C]',\n",
       " 'Battery Current [A]',\n",
       " 'Battery Temperature [°C]',\n",
       " 'Battery Voltage [V]',\n",
       " 'Cabin Temperature Sensor [°C]',\n",
       " 'Coolant Temperature Heatercore [°C]',\n",
       " 'Coolant Temperature Inlet [°C]',\n",
       " 'Coolant Volume Flow +500 [l/h]',\n",
       " 'Elevation [m]',\n",
       " 'Heat Exchanger Temperature [°C]',\n",
       " 'Heater Current [A]',\n",
       " 'Heater Signal',\n",
       " 'Heater Voltage [V]',\n",
       " 'Heating Power CAN [kW]',\n",
       " 'Heating Power LIN [W]',\n",
       " 'Longitudinal Acceleration [m/s^2]',\n",
       " 'Motor Torque [Nm]',\n",
       " 'Regenerative Braking Signal ',\n",
       " 'Requested Coolant Temperature [°C]',\n",
       " 'Requested Heating Power [W]',\n",
       " 'SoC [%]',\n",
       " 'Temperature Coolant Heater Inlet [°C]',\n",
       " 'Temperature Coolant Heater Outlet [°C]',\n",
       " 'Temperature Defrost central [°C]',\n",
       " 'Temperature Defrost central left [°C]',\n",
       " 'Temperature Defrost central right [°C]',\n",
       " 'Temperature Defrost lateral left [°C]',\n",
       " 'Temperature Defrost lateral right [°C]',\n",
       " 'Temperature Feetvent Co-Driver [°C]',\n",
       " 'Temperature Feetvent Driver [°C]',\n",
       " 'Temperature Footweel Co-Driver [°C]',\n",
       " 'Temperature Footweel Driver [°C]',\n",
       " 'Temperature Head Co-Driver [°C]',\n",
       " 'Temperature Head Driver [°C]',\n",
       " 'Temperature Heat Exchanger Outlet [°C]',\n",
       " 'Temperature Vent central left [°C]',\n",
       " 'Temperature Vent central right [°C]',\n",
       " 'Temperature Vent right [°C]',\n",
       " 'Temperature Vent right [°C] ',\n",
       " 'Throttle [%]',\n",
       " 'Time [s]',\n",
       " 'Trip',\n",
       " 'Unnamed: 23',\n",
       " 'Velocity [km/h]',\n",
       " 'displayed SoC [%]',\n",
       " 'max. Battery Temperature [°C]',\n",
       " 'max. SoC [%)',\n",
       " 'min. SoC [%]']"
      ]
     },
     "execution_count": 50,
     "metadata": {},
     "output_type": "execute_result"
    }
   ],
   "source": [
    "total_columns = grupo_colunas_unicos[0]\n",
    "\n",
    "for group in grupo_colunas_unicos:\n",
    "    for column in group:\n",
    "        if column not in total_columns:\n",
    "            total_columns.append(column)\n",
    "\n",
    "print(len(total_columns))\n",
    "total_columns.sort()\n",
    "total_columns"
   ]
  },
  {
   "cell_type": "code",
   "execution_count": 51,
   "id": "139f205f-2176-47c3-915f-a713924ec598",
   "metadata": {},
   "outputs": [
    {
     "data": {
      "text/plain": [
       "['AirCon Power [kW]',\n",
       " 'Ambient Temperature [°C]',\n",
       " 'Battery Current [A]',\n",
       " 'Battery Temperature [°C]',\n",
       " 'Battery Voltage [V]',\n",
       " 'Cabin Temperature Sensor [°C]',\n",
       " 'Elevation [m]',\n",
       " 'Heat Exchanger Temperature [°C]',\n",
       " 'Heater Signal',\n",
       " 'Heating Power CAN [kW]',\n",
       " 'Longitudinal Acceleration [m/s^2]',\n",
       " 'Motor Torque [Nm]',\n",
       " 'Regenerative Braking Signal ',\n",
       " 'Requested Heating Power [W]',\n",
       " 'SoC [%]',\n",
       " 'Throttle [%]',\n",
       " 'Time [s]',\n",
       " 'Trip',\n",
       " 'Velocity [km/h]',\n",
       " 'displayed SoC [%]',\n",
       " 'max. Battery Temperature [°C]',\n",
       " 'max. SoC [%)',\n",
       " 'min. SoC [%]']"
      ]
     },
     "execution_count": 51,
     "metadata": {},
     "output_type": "execute_result"
    }
   ],
   "source": [
    "colunas_comuns = set(grupo_colunas_unicos[0])\n",
    "\n",
    "for item in grupo_colunas_unicos[1:]:\n",
    "    colunas_comuns.intersection_update(item)\n",
    "\n",
    "colunas_comuns = list(colunas_comuns)\n",
    "colunas_comuns.sort()\n",
    "colunas_comuns"
   ]
  },
  {
   "cell_type": "code",
   "execution_count": 52,
   "id": "ffa01296-c1d1-44ae-a7cc-a78d90eef7c6",
   "metadata": {},
   "outputs": [
    {
     "data": {
      "text/plain": [
       "['AirCon Power [kW]',\n",
       " 'Ambient Temperature [°C]',\n",
       " 'Cabin Temperature Sensor [°C]',\n",
       " 'Elevation [m]',\n",
       " 'Heat Exchanger Temperature [°C]',\n",
       " 'Heater Signal',\n",
       " 'Heating Power CAN [kW]',\n",
       " 'Longitudinal Acceleration [m/s^2]',\n",
       " 'Motor Torque [Nm]',\n",
       " 'Requested Heating Power [W]',\n",
       " 'Throttle [%]',\n",
       " 'Time [s]',\n",
       " 'Trip',\n",
       " 'Velocity [km/h]']"
      ]
     },
     "execution_count": 52,
     "metadata": {},
     "output_type": "execute_result"
    }
   ],
   "source": [
    "colunas_remover = [\n",
    "    'Battery Current [A]',\n",
    "    'Battery Temperature [°C]',\n",
    "    'Battery Voltage [V]',\n",
    "    'Regenerative Braking Signal ',\n",
    "    'SoC [%]',\n",
    "    'displayed SoC [%]',\n",
    "    'max. Battery Temperature [°C]',\n",
    "    'max. SoC [%)',\n",
    "    'min. SoC [%]'\n",
    "]\n",
    "\n",
    "colunas_final = [item for item in colunas_comuns if item not in colunas_remover]\n",
    "colunas_final.sort()\n",
    "colunas_final"
   ]
  },
  {
   "cell_type": "code",
   "execution_count": 53,
   "id": "c7b857f3-00e8-4d63-b45f-10f166214df0",
   "metadata": {},
   "outputs": [
    {
     "data": {
      "text/plain": [
       "(1094793, 14)"
      ]
     },
     "execution_count": 53,
     "metadata": {},
     "output_type": "execute_result"
    }
   ],
   "source": [
    "trips = pd.concat(trips)\n",
    "trips = trips[colunas_final]\n",
    "trips.shape"
   ]
  },
  {
   "cell_type": "code",
   "execution_count": 54,
   "id": "5eed174c-b45e-4d40-bfc3-57a075ca4763",
   "metadata": {},
   "outputs": [
    {
     "data": {
      "text/plain": [
       "array(['TripA01', 'TripA02', 'TripA03', 'TripA04', 'TripA05', 'TripA06',\n",
       "       'TripA07', 'TripA08', 'TripA09', 'TripA10', 'TripA11', 'TripA12',\n",
       "       'TripA13', 'TripA14', 'TripA15', 'TripA16', 'TripA17', 'TripA18',\n",
       "       'TripA19', 'TripA20', 'TripA21', 'TripA22', 'TripA23', 'TripA24',\n",
       "       'TripA25', 'TripA26', 'TripA27', 'TripA28', 'TripA29', 'TripA30',\n",
       "       'TripA31', 'TripA32', 'TripB01', 'TripB02', 'TripB03', 'TripB04',\n",
       "       'TripB05', 'TripB06', 'TripB07', 'TripB08', 'TripB09', 'TripB10',\n",
       "       'TripB11', 'TripB12', 'TripB13', 'TripB14', 'TripB15', 'TripB16',\n",
       "       'TripB17', 'TripB18', 'TripB19', 'TripB20', 'TripB21', 'TripB22',\n",
       "       'TripB23', 'TripB24', 'TripB25', 'TripB26', 'TripB27', 'TripB28',\n",
       "       'TripB29', 'TripB30', 'TripB31', 'TripB32', 'TripB33', 'TripB34',\n",
       "       'TripB35', 'TripB36', 'TripB37', 'TripB38'], dtype=object)"
      ]
     },
     "execution_count": 54,
     "metadata": {},
     "output_type": "execute_result"
    }
   ],
   "source": [
    "trips['Trip'].unique()"
   ]
  },
  {
   "cell_type": "code",
   "execution_count": 56,
   "id": "bfe25bef-01b2-4dd9-813e-7533bce9f437",
   "metadata": {},
   "outputs": [],
   "source": [
    "X = trips.drop(columns=['Time [s]', 'Motor Torque [Nm]', 'Trip'])\n",
    "y = trips['Motor Torque [Nm]'].values"
   ]
  },
  {
   "cell_type": "code",
   "execution_count": 57,
   "id": "1285f1fd-4dc4-43ec-8709-2b3c1c8985bd",
   "metadata": {},
   "outputs": [],
   "source": [
    "scaler_X = MinMaxScaler()\n",
    "scaler_y = MinMaxScaler()\n",
    "\n",
    "X_scaled = scaler_X.fit_transform(X.values)\n",
    "y_scaled = scaler_y.fit_transform(y.reshape(-1, 1))"
   ]
  },
  {
   "cell_type": "code",
   "execution_count": 58,
   "id": "c61a43fe-a0a2-4ed3-a115-e10503599879",
   "metadata": {},
   "outputs": [
    {
     "data": {
      "text/html": [
       "<div>\n",
       "<style scoped>\n",
       "    .dataframe tbody tr th:only-of-type {\n",
       "        vertical-align: middle;\n",
       "    }\n",
       "\n",
       "    .dataframe tbody tr th {\n",
       "        vertical-align: top;\n",
       "    }\n",
       "\n",
       "    .dataframe thead th {\n",
       "        text-align: right;\n",
       "    }\n",
       "</style>\n",
       "<table border=\"1\" class=\"dataframe\">\n",
       "  <thead>\n",
       "    <tr style=\"text-align: right;\">\n",
       "      <th></th>\n",
       "      <th>AirCon Power [kW]</th>\n",
       "      <th>Ambient Temperature [°C]</th>\n",
       "      <th>Cabin Temperature Sensor [°C]</th>\n",
       "      <th>Elevation [m]</th>\n",
       "      <th>Heat Exchanger Temperature [°C]</th>\n",
       "      <th>Heater Signal</th>\n",
       "      <th>Heating Power CAN [kW]</th>\n",
       "      <th>Longitudinal Acceleration [m/s^2]</th>\n",
       "      <th>Requested Heating Power [W]</th>\n",
       "      <th>Throttle [%]</th>\n",
       "      <th>Velocity [km/h]</th>\n",
       "      <th>Trip</th>\n",
       "    </tr>\n",
       "  </thead>\n",
       "  <tbody>\n",
       "    <tr>\n",
       "      <th>0</th>\n",
       "      <td>0.163324</td>\n",
       "      <td>0.783784</td>\n",
       "      <td>0.485904</td>\n",
       "      <td>0.600904</td>\n",
       "      <td>0.424646</td>\n",
       "      <td>1.0</td>\n",
       "      <td>0.0</td>\n",
       "      <td>0.667161</td>\n",
       "      <td>0.002206</td>\n",
       "      <td>0.0</td>\n",
       "      <td>0.0</td>\n",
       "      <td>TripA01</td>\n",
       "    </tr>\n",
       "    <tr>\n",
       "      <th>1</th>\n",
       "      <td>0.163324</td>\n",
       "      <td>0.783784</td>\n",
       "      <td>0.485904</td>\n",
       "      <td>0.600904</td>\n",
       "      <td>0.424646</td>\n",
       "      <td>1.0</td>\n",
       "      <td>0.0</td>\n",
       "      <td>0.669385</td>\n",
       "      <td>0.002206</td>\n",
       "      <td>0.0</td>\n",
       "      <td>0.0</td>\n",
       "      <td>TripA01</td>\n",
       "    </tr>\n",
       "    <tr>\n",
       "      <th>2</th>\n",
       "      <td>0.163324</td>\n",
       "      <td>0.783784</td>\n",
       "      <td>0.485904</td>\n",
       "      <td>0.600904</td>\n",
       "      <td>0.424646</td>\n",
       "      <td>1.0</td>\n",
       "      <td>0.0</td>\n",
       "      <td>0.668643</td>\n",
       "      <td>0.002206</td>\n",
       "      <td>0.0</td>\n",
       "      <td>0.0</td>\n",
       "      <td>TripA01</td>\n",
       "    </tr>\n",
       "    <tr>\n",
       "      <th>3</th>\n",
       "      <td>0.163324</td>\n",
       "      <td>0.783784</td>\n",
       "      <td>0.485904</td>\n",
       "      <td>0.600904</td>\n",
       "      <td>0.424646</td>\n",
       "      <td>1.0</td>\n",
       "      <td>0.0</td>\n",
       "      <td>0.667161</td>\n",
       "      <td>0.002206</td>\n",
       "      <td>0.0</td>\n",
       "      <td>0.0</td>\n",
       "      <td>TripA01</td>\n",
       "    </tr>\n",
       "    <tr>\n",
       "      <th>4</th>\n",
       "      <td>0.163324</td>\n",
       "      <td>0.783784</td>\n",
       "      <td>0.485904</td>\n",
       "      <td>0.600904</td>\n",
       "      <td>0.424646</td>\n",
       "      <td>1.0</td>\n",
       "      <td>0.0</td>\n",
       "      <td>0.667161</td>\n",
       "      <td>0.002206</td>\n",
       "      <td>0.0</td>\n",
       "      <td>0.0</td>\n",
       "      <td>TripA01</td>\n",
       "    </tr>\n",
       "  </tbody>\n",
       "</table>\n",
       "</div>"
      ],
      "text/plain": [
       "   AirCon Power [kW]  Ambient Temperature [°C]  Cabin Temperature Sensor [°C]  \\\n",
       "0           0.163324                  0.783784                       0.485904   \n",
       "1           0.163324                  0.783784                       0.485904   \n",
       "2           0.163324                  0.783784                       0.485904   \n",
       "3           0.163324                  0.783784                       0.485904   \n",
       "4           0.163324                  0.783784                       0.485904   \n",
       "\n",
       "   Elevation [m]  Heat Exchanger Temperature [°C]  Heater Signal  \\\n",
       "0       0.600904                         0.424646            1.0   \n",
       "1       0.600904                         0.424646            1.0   \n",
       "2       0.600904                         0.424646            1.0   \n",
       "3       0.600904                         0.424646            1.0   \n",
       "4       0.600904                         0.424646            1.0   \n",
       "\n",
       "   Heating Power CAN [kW]  Longitudinal Acceleration [m/s^2]  \\\n",
       "0                     0.0                           0.667161   \n",
       "1                     0.0                           0.669385   \n",
       "2                     0.0                           0.668643   \n",
       "3                     0.0                           0.667161   \n",
       "4                     0.0                           0.667161   \n",
       "\n",
       "   Requested Heating Power [W]  Throttle [%]  Velocity [km/h]     Trip  \n",
       "0                     0.002206           0.0              0.0  TripA01  \n",
       "1                     0.002206           0.0              0.0  TripA01  \n",
       "2                     0.002206           0.0              0.0  TripA01  \n",
       "3                     0.002206           0.0              0.0  TripA01  \n",
       "4                     0.002206           0.0              0.0  TripA01  "
      ]
     },
     "execution_count": 58,
     "metadata": {},
     "output_type": "execute_result"
    }
   ],
   "source": [
    "X_scaled = pd.DataFrame(\n",
    "    X_scaled,\n",
    "    columns=X.columns,\n",
    "    index=X.index\n",
    ")\n",
    "X_scaled['Trip'] = trips['Trip']\n",
    "X_scaled.head()"
   ]
  },
  {
   "cell_type": "code",
   "execution_count": 59,
   "id": "d1cd2a76-d256-4fa4-ab72-4fd850172970",
   "metadata": {},
   "outputs": [
    {
     "data": {
      "text/html": [
       "<div>\n",
       "<style scoped>\n",
       "    .dataframe tbody tr th:only-of-type {\n",
       "        vertical-align: middle;\n",
       "    }\n",
       "\n",
       "    .dataframe tbody tr th {\n",
       "        vertical-align: top;\n",
       "    }\n",
       "\n",
       "    .dataframe thead th {\n",
       "        text-align: right;\n",
       "    }\n",
       "</style>\n",
       "<table border=\"1\" class=\"dataframe\">\n",
       "  <thead>\n",
       "    <tr style=\"text-align: right;\">\n",
       "      <th></th>\n",
       "      <th>AirCon Power [kW]</th>\n",
       "      <th>Ambient Temperature [°C]</th>\n",
       "      <th>Cabin Temperature Sensor [°C]</th>\n",
       "      <th>Elevation [m]</th>\n",
       "      <th>Heat Exchanger Temperature [°C]</th>\n",
       "      <th>Heater Signal</th>\n",
       "      <th>Heating Power CAN [kW]</th>\n",
       "      <th>Longitudinal Acceleration [m/s^2]</th>\n",
       "      <th>Requested Heating Power [W]</th>\n",
       "      <th>Throttle [%]</th>\n",
       "      <th>Velocity [km/h]</th>\n",
       "      <th>Trip</th>\n",
       "      <th>Motor Torque [Nm]</th>\n",
       "    </tr>\n",
       "  </thead>\n",
       "  <tbody>\n",
       "    <tr>\n",
       "      <th>0</th>\n",
       "      <td>0.163324</td>\n",
       "      <td>0.783784</td>\n",
       "      <td>0.485904</td>\n",
       "      <td>0.600904</td>\n",
       "      <td>0.424646</td>\n",
       "      <td>1.0</td>\n",
       "      <td>0.0</td>\n",
       "      <td>0.667161</td>\n",
       "      <td>0.002206</td>\n",
       "      <td>0.0</td>\n",
       "      <td>0.0</td>\n",
       "      <td>TripA01</td>\n",
       "      <td>0.260522</td>\n",
       "    </tr>\n",
       "    <tr>\n",
       "      <th>1</th>\n",
       "      <td>0.163324</td>\n",
       "      <td>0.783784</td>\n",
       "      <td>0.485904</td>\n",
       "      <td>0.600904</td>\n",
       "      <td>0.424646</td>\n",
       "      <td>1.0</td>\n",
       "      <td>0.0</td>\n",
       "      <td>0.669385</td>\n",
       "      <td>0.002206</td>\n",
       "      <td>0.0</td>\n",
       "      <td>0.0</td>\n",
       "      <td>TripA01</td>\n",
       "      <td>0.260522</td>\n",
       "    </tr>\n",
       "    <tr>\n",
       "      <th>2</th>\n",
       "      <td>0.163324</td>\n",
       "      <td>0.783784</td>\n",
       "      <td>0.485904</td>\n",
       "      <td>0.600904</td>\n",
       "      <td>0.424646</td>\n",
       "      <td>1.0</td>\n",
       "      <td>0.0</td>\n",
       "      <td>0.668643</td>\n",
       "      <td>0.002206</td>\n",
       "      <td>0.0</td>\n",
       "      <td>0.0</td>\n",
       "      <td>TripA01</td>\n",
       "      <td>0.260522</td>\n",
       "    </tr>\n",
       "    <tr>\n",
       "      <th>3</th>\n",
       "      <td>0.163324</td>\n",
       "      <td>0.783784</td>\n",
       "      <td>0.485904</td>\n",
       "      <td>0.600904</td>\n",
       "      <td>0.424646</td>\n",
       "      <td>1.0</td>\n",
       "      <td>0.0</td>\n",
       "      <td>0.667161</td>\n",
       "      <td>0.002206</td>\n",
       "      <td>0.0</td>\n",
       "      <td>0.0</td>\n",
       "      <td>TripA01</td>\n",
       "      <td>0.260522</td>\n",
       "    </tr>\n",
       "    <tr>\n",
       "      <th>4</th>\n",
       "      <td>0.163324</td>\n",
       "      <td>0.783784</td>\n",
       "      <td>0.485904</td>\n",
       "      <td>0.600904</td>\n",
       "      <td>0.424646</td>\n",
       "      <td>1.0</td>\n",
       "      <td>0.0</td>\n",
       "      <td>0.667161</td>\n",
       "      <td>0.002206</td>\n",
       "      <td>0.0</td>\n",
       "      <td>0.0</td>\n",
       "      <td>TripA01</td>\n",
       "      <td>0.260522</td>\n",
       "    </tr>\n",
       "  </tbody>\n",
       "</table>\n",
       "</div>"
      ],
      "text/plain": [
       "   AirCon Power [kW]  Ambient Temperature [°C]  Cabin Temperature Sensor [°C]  \\\n",
       "0           0.163324                  0.783784                       0.485904   \n",
       "1           0.163324                  0.783784                       0.485904   \n",
       "2           0.163324                  0.783784                       0.485904   \n",
       "3           0.163324                  0.783784                       0.485904   \n",
       "4           0.163324                  0.783784                       0.485904   \n",
       "\n",
       "   Elevation [m]  Heat Exchanger Temperature [°C]  Heater Signal  \\\n",
       "0       0.600904                         0.424646            1.0   \n",
       "1       0.600904                         0.424646            1.0   \n",
       "2       0.600904                         0.424646            1.0   \n",
       "3       0.600904                         0.424646            1.0   \n",
       "4       0.600904                         0.424646            1.0   \n",
       "\n",
       "   Heating Power CAN [kW]  Longitudinal Acceleration [m/s^2]  \\\n",
       "0                     0.0                           0.667161   \n",
       "1                     0.0                           0.669385   \n",
       "2                     0.0                           0.668643   \n",
       "3                     0.0                           0.667161   \n",
       "4                     0.0                           0.667161   \n",
       "\n",
       "   Requested Heating Power [W]  Throttle [%]  Velocity [km/h]     Trip  \\\n",
       "0                     0.002206           0.0              0.0  TripA01   \n",
       "1                     0.002206           0.0              0.0  TripA01   \n",
       "2                     0.002206           0.0              0.0  TripA01   \n",
       "3                     0.002206           0.0              0.0  TripA01   \n",
       "4                     0.002206           0.0              0.0  TripA01   \n",
       "\n",
       "   Motor Torque [Nm]  \n",
       "0           0.260522  \n",
       "1           0.260522  \n",
       "2           0.260522  \n",
       "3           0.260522  \n",
       "4           0.260522  "
      ]
     },
     "execution_count": 59,
     "metadata": {},
     "output_type": "execute_result"
    }
   ],
   "source": [
    "scaled_dataset = X_scaled\n",
    "scaled_dataset['Motor Torque [Nm]'] = y_scaled\n",
    "scaled_dataset.head()"
   ]
  },
  {
   "cell_type": "code",
   "execution_count": 60,
   "id": "c2d20d81-062f-4b91-becd-8e37730dbf98",
   "metadata": {},
   "outputs": [],
   "source": [
    "def time_series_train_test_split(dataset, train_size=0.8):\n",
    "    X_trains, X_tests, y_trains, y_tests = [], [], [], []\n",
    "    \n",
    "    for trip in dataset['Trip'].unique():\n",
    "        data_slice = dataset[dataset['Trip'] == trip]\n",
    "        size = int(len(data_slice) * train_size)\n",
    "    \n",
    "        X_trains.append(data_slice.iloc[:size, :-1])\n",
    "        X_tests.append(data_slice.iloc[size:, :-1])\n",
    "        \n",
    "        y_trains.append(data_slice.iloc[:size, -1])\n",
    "        y_tests.append(data_slice.iloc[size:, -1])\n",
    "    \n",
    "    return pd.concat(X_trains), pd.concat(X_tests), pd.concat(y_trains), pd.concat(y_tests)\n",
    "\n",
    "X_train, X_test, y_train, y_test = time_series_train_test_split(scaled_dataset)"
   ]
  },
  {
   "cell_type": "code",
   "execution_count": 62,
   "id": "d0c91288-ca32-403a-9f67-21abd8648de7",
   "metadata": {},
   "outputs": [
    {
     "name": "stdout",
     "output_type": "stream",
     "text": [
      "(875810, 12)\n",
      "(218983, 12)\n",
      "(875810,)\n",
      "(218983,)\n"
     ]
    }
   ],
   "source": [
    "print(X_train.shape)\n",
    "print(X_test.shape)\n",
    "print(y_train.shape)\n",
    "print(y_test.shape)"
   ]
  },
  {
   "cell_type": "code",
   "execution_count": 63,
   "id": "ebe6c611-ba1e-4d58-bc88-a83ab79f46b7",
   "metadata": {},
   "outputs": [],
   "source": [
    "def create_seq(X, y, window_size=10):\n",
    "    X_seq, y_seq = [], []\n",
    "    \n",
    "    for i in range(window_size, len(X)):\n",
    "        data_slice = X.iloc[i-window_size:i, :]\n",
    "\n",
    "        # Se tiver mais de uma trip na mesma janela, eu não adiciono no conjunto de dados\n",
    "        if len(data_slice['Trip'].unique()) == 1:\n",
    "            X_seq.append(data_slice.drop(columns=['Trip']).values)\n",
    "            y_seq.append(y[i])\n",
    "        \n",
    "    return np.array(X_seq), np.array(y_seq)\n",
    "\n",
    "\n",
    "X_train_seq, y_train_seq = create_seq(X_train, y_train.values, window_size=10)\n",
    "X_test_seq, y_test_seq = create_seq(X_test, y_test.values, window_size=10)"
   ]
  },
  {
   "cell_type": "code",
   "execution_count": 69,
   "id": "a00475d4-d87a-4ef7-acd4-c165a5655703",
   "metadata": {},
   "outputs": [],
   "source": [
    "# Não usar isso aqui para salvar pq está perdendo o shape\n",
    "# Talvez se guardar o shape e usar um reshape depois\n",
    "\n",
    "# X_train_seq.tofile('./X_train_seq.dat')\n",
    "# y_train_seq.tofile('./y_train_seq.dat')\n",
    "# X_test_seq.tofile('./X_test_seq.dat')\n",
    "# y_test_seq.tofile('./y_test_seq.dat')\n",
    "\n",
    "# X_train_seq = np.fromfile('./X_train_seq.dat')\n",
    "# y_train_seq = np.fromfile('./y_train_seq.dat')\n",
    "# X_test_seq = np.fromfile('./X_test_seq.dat')\n",
    "# y_test_seq = np.fromfile('./y_test_seq.dat')"
   ]
  },
  {
   "cell_type": "markdown",
   "id": "33b5a00e-1bd6-48d6-a035-16dc281bad7b",
   "metadata": {
    "jp-MarkdownHeadingCollapsed": true
   },
   "source": [
    "### Treinamento do LSTM"
   ]
  },
  {
   "cell_type": "code",
   "execution_count": 70,
   "id": "530e37be-aeae-4455-843e-68c5942dfbef",
   "metadata": {},
   "outputs": [],
   "source": [
    "def LSTM_model(X_seq, y_seq, window_size=10, train_size=0.8, epochs=10):\n",
    "    # Divisão de treino e validação com 80% para treino e 20% para validação\n",
    "    train_size = int(len(X_seq) * train_size)\n",
    "    X_train, X_test = X_seq[:train_size], X_seq[train_size:]\n",
    "    y_train, y_test = y_seq[:train_size], y_seq[train_size:]\n",
    "\n",
    "\n",
    "    # Criando e treinando o modelo\n",
    "    model = Sequential(\n",
    "        [\n",
    "            LSTM(32, activation='tanh', input_shape=(X_train.shape[1], X_train.shape[2])),\n",
    "            Dense(32, activation='relu'), \n",
    "            Dense(1) \n",
    "        ]\n",
    "    )\n",
    "\n",
    "    model.compile(optimizer='adam', loss='mse', metrics=['mae'])\n",
    "\n",
    "    history = model.fit(X_train, y_train, validation_data=(X_test, y_test), epochs=epochs, batch_size=16)\n",
    "\n",
    "\n",
    "    # Imprimindo a avaliação\n",
    "    plt.figure(figsize=(12, 5))\n",
    "    plt.subplot(1, 2, 1)\n",
    "    plt.plot(history.history['loss'], label='Train Loss')\n",
    "    plt.plot(history.history['val_loss'], label='Validation Loss')\n",
    "    plt.xlabel('Épocas')\n",
    "    plt.ylabel('Loss (MSE)')\n",
    "    plt.legend()\n",
    "    plt.grid()\n",
    "\n",
    "    loss, mae = model.evaluate(X_test, y_test)\n",
    "    print(f\"MAE: {mae:.8f}, Loss: {loss:.8f}\")\n",
    "\n",
    "    return model"
   ]
  },
  {
   "cell_type": "code",
   "execution_count": 81,
   "id": "23341c87-956c-4037-b3b0-3f9a0b0490be",
   "metadata": {},
   "outputs": [
    {
     "name": "stderr",
     "output_type": "stream",
     "text": [
      "/home/andre/.local/lib/python3.10/site-packages/keras/src/layers/rnn/rnn.py:204: UserWarning: Do not pass an `input_shape`/`input_dim` argument to a layer. When using Sequential models, prefer using an `Input(shape)` object as the first layer in the model instead.\n",
      "  super().__init__(**kwargs)\n"
     ]
    },
    {
     "name": "stdout",
     "output_type": "stream",
     "text": [
      "Epoch 1/20\n",
      "\u001b[1m43759/43759\u001b[0m \u001b[32m━━━━━━━━━━━━━━━━━━━━\u001b[0m\u001b[37m\u001b[0m \u001b[1m49s\u001b[0m 1ms/step - loss: 6.6986e-04 - mae: 0.0161 - val_loss: 0.0064 - val_mae: 0.0297\n",
      "Epoch 2/20\n",
      "\u001b[1m43759/43759\u001b[0m \u001b[32m━━━━━━━━━━━━━━━━━━━━\u001b[0m\u001b[37m\u001b[0m \u001b[1m50s\u001b[0m 1ms/step - loss: 1.5340e-04 - mae: 0.0082 - val_loss: 0.0057 - val_mae: 0.0236\n",
      "Epoch 3/20\n",
      "\u001b[1m43759/43759\u001b[0m \u001b[32m━━━━━━━━━━━━━━━━━━━━\u001b[0m\u001b[37m\u001b[0m \u001b[1m54s\u001b[0m 1ms/step - loss: 1.1697e-04 - mae: 0.0069 - val_loss: 0.0052 - val_mae: 0.0237\n",
      "Epoch 4/20\n",
      "\u001b[1m43759/43759\u001b[0m \u001b[32m━━━━━━━━━━━━━━━━━━━━\u001b[0m\u001b[37m\u001b[0m \u001b[1m54s\u001b[0m 1ms/step - loss: 1.0164e-04 - mae: 0.0064 - val_loss: 0.0051 - val_mae: 0.0239\n",
      "Epoch 5/20\n",
      "\u001b[1m43759/43759\u001b[0m \u001b[32m━━━━━━━━━━━━━━━━━━━━\u001b[0m\u001b[37m\u001b[0m \u001b[1m53s\u001b[0m 1ms/step - loss: 9.2093e-05 - mae: 0.0061 - val_loss: 0.0047 - val_mae: 0.0224\n",
      "Epoch 6/20\n",
      "\u001b[1m43759/43759\u001b[0m \u001b[32m━━━━━━━━━━━━━━━━━━━━\u001b[0m\u001b[37m\u001b[0m \u001b[1m52s\u001b[0m 1ms/step - loss: 8.4348e-05 - mae: 0.0058 - val_loss: 0.0044 - val_mae: 0.0224\n",
      "Epoch 7/20\n",
      "\u001b[1m43759/43759\u001b[0m \u001b[32m━━━━━━━━━━━━━━━━━━━━\u001b[0m\u001b[37m\u001b[0m \u001b[1m53s\u001b[0m 1ms/step - loss: 7.8664e-05 - mae: 0.0056 - val_loss: 0.0043 - val_mae: 0.0207\n",
      "Epoch 8/20\n",
      "\u001b[1m43759/43759\u001b[0m \u001b[32m━━━━━━━━━━━━━━━━━━━━\u001b[0m\u001b[37m\u001b[0m \u001b[1m53s\u001b[0m 1ms/step - loss: 7.4153e-05 - mae: 0.0054 - val_loss: 0.0040 - val_mae: 0.0199\n",
      "Epoch 9/20\n",
      "\u001b[1m43759/43759\u001b[0m \u001b[32m━━━━━━━━━━━━━━━━━━━━\u001b[0m\u001b[37m\u001b[0m \u001b[1m53s\u001b[0m 1ms/step - loss: 7.0281e-05 - mae: 0.0053 - val_loss: 0.0039 - val_mae: 0.0199\n",
      "Epoch 10/20\n",
      "\u001b[1m43759/43759\u001b[0m \u001b[32m━━━━━━━━━━━━━━━━━━━━\u001b[0m\u001b[37m\u001b[0m \u001b[1m52s\u001b[0m 1ms/step - loss: 6.6898e-05 - mae: 0.0052 - val_loss: 0.0036 - val_mae: 0.0194\n",
      "Epoch 11/20\n",
      "\u001b[1m43759/43759\u001b[0m \u001b[32m━━━━━━━━━━━━━━━━━━━━\u001b[0m\u001b[37m\u001b[0m \u001b[1m52s\u001b[0m 1ms/step - loss: 6.3902e-05 - mae: 0.0051 - val_loss: 0.0035 - val_mae: 0.0186\n",
      "Epoch 12/20\n",
      "\u001b[1m43759/43759\u001b[0m \u001b[32m━━━━━━━━━━━━━━━━━━━━\u001b[0m\u001b[37m\u001b[0m \u001b[1m52s\u001b[0m 1ms/step - loss: 6.1384e-05 - mae: 0.0050 - val_loss: 0.0035 - val_mae: 0.0193\n",
      "Epoch 13/20\n",
      "\u001b[1m43759/43759\u001b[0m \u001b[32m━━━━━━━━━━━━━━━━━━━━\u001b[0m\u001b[37m\u001b[0m \u001b[1m52s\u001b[0m 1ms/step - loss: 5.9997e-05 - mae: 0.0049 - val_loss: 0.0033 - val_mae: 0.0178\n",
      "Epoch 14/20\n",
      "\u001b[1m43759/43759\u001b[0m \u001b[32m━━━━━━━━━━━━━━━━━━━━\u001b[0m\u001b[37m\u001b[0m \u001b[1m52s\u001b[0m 1ms/step - loss: 5.9296e-05 - mae: 0.0048 - val_loss: 0.0032 - val_mae: 0.0179\n",
      "Epoch 15/20\n",
      "\u001b[1m43759/43759\u001b[0m \u001b[32m━━━━━━━━━━━━━━━━━━━━\u001b[0m\u001b[37m\u001b[0m \u001b[1m52s\u001b[0m 1ms/step - loss: 5.6255e-05 - mae: 0.0048 - val_loss: 0.0032 - val_mae: 0.0176\n",
      "Epoch 16/20\n",
      "\u001b[1m43759/43759\u001b[0m \u001b[32m━━━━━━━━━━━━━━━━━━━━\u001b[0m\u001b[37m\u001b[0m \u001b[1m53s\u001b[0m 1ms/step - loss: 5.5563e-05 - mae: 0.0047 - val_loss: 0.0031 - val_mae: 0.0183\n",
      "Epoch 17/20\n",
      "\u001b[1m43759/43759\u001b[0m \u001b[32m━━━━━━━━━━━━━━━━━━━━\u001b[0m\u001b[37m\u001b[0m \u001b[1m53s\u001b[0m 1ms/step - loss: 5.3433e-05 - mae: 0.0047 - val_loss: 0.0029 - val_mae: 0.0170\n",
      "Epoch 18/20\n",
      "\u001b[1m43759/43759\u001b[0m \u001b[32m━━━━━━━━━━━━━━━━━━━━\u001b[0m\u001b[37m\u001b[0m \u001b[1m54s\u001b[0m 1ms/step - loss: 5.2520e-05 - mae: 0.0046 - val_loss: 0.0028 - val_mae: 0.0163\n",
      "Epoch 19/20\n",
      "\u001b[1m43759/43759\u001b[0m \u001b[32m━━━━━━━━━━━━━━━━━━━━\u001b[0m\u001b[37m\u001b[0m \u001b[1m54s\u001b[0m 1ms/step - loss: 5.2891e-05 - mae: 0.0046 - val_loss: 0.0028 - val_mae: 0.0175\n",
      "Epoch 20/20\n",
      "\u001b[1m43759/43759\u001b[0m \u001b[32m━━━━━━━━━━━━━━━━━━━━\u001b[0m\u001b[37m\u001b[0m \u001b[1m52s\u001b[0m 1ms/step - loss: 5.0413e-05 - mae: 0.0045 - val_loss: 0.0026 - val_mae: 0.0156\n",
      "\u001b[1m5470/5470\u001b[0m \u001b[32m━━━━━━━━━━━━━━━━━━━━\u001b[0m\u001b[37m\u001b[0m \u001b[1m3s\u001b[0m 511us/step - loss: 1.8527e-04 - mae: 0.0052\n",
      "MAE: 0.01564505, Loss: 0.00258886\n"
     ]
    },
    {
     "data": {
      "text/plain": [
       "<Sequential name=sequential_2, built=True>"
      ]
     },
     "execution_count": 81,
     "metadata": {},
     "output_type": "execute_result"
    },
    {
     "data": {
      "image/png": "[encoded data removed]",
      "text/plain": [
       "<Figure size 864x360 with 1 Axes>"
      ]
     },
     "metadata": {
      "needs_background": "light"
     },
     "output_type": "display_data"
    }
   ],
   "source": [
    "model = LSTM_model(X_train_seq, y_train_seq, window_size=10, train_size=0.8, epochs=20)\n",
    "model"
   ]
  },
  {
   "cell_type": "code",
   "execution_count": 82,
   "id": "20b53160-ac82-4af0-9943-a8d1c0d55a55",
   "metadata": {},
   "outputs": [
    {
     "data": {
      "text/html": [
       "<pre style=\"white-space:pre;overflow-x:auto;line-height:normal;font-family:Menlo,'DejaVu Sans Mono',consolas,'Courier New',monospace\"><span style=\"font-weight: bold\">Model: \"sequential_2\"</span>\n",
       "</pre>\n"
      ],
      "text/plain": [
       "\u001b[1mModel: \"sequential_2\"\u001b[0m\n"
      ]
     },
     "metadata": {},
     "output_type": "display_data"
    },
    {
     "data": {
      "text/html": [
       "<pre style=\"white-space:pre;overflow-x:auto;line-height:normal;font-family:Menlo,'DejaVu Sans Mono',consolas,'Courier New',monospace\">┏━━━━━━━━━━━━━━━━━━━━━━━━━━━━━━━━━┳━━━━━━━━━━━━━━━━━━━━━━━━┳━━━━━━━━━━━━━━━┓\n",
       "┃<span style=\"font-weight: bold\"> Layer (type)                    </span>┃<span style=\"font-weight: bold\"> Output Shape           </span>┃<span style=\"font-weight: bold\">       Param # </span>┃\n",
       "┡━━━━━━━━━━━━━━━━━━━━━━━━━━━━━━━━━╇━━━━━━━━━━━━━━━━━━━━━━━━╇━━━━━━━━━━━━━━━┩\n",
       "│ lstm_2 (<span style=\"color: #0087ff; text-decoration-color: #0087ff\">LSTM</span>)                   │ (<span style=\"color: #00d7ff; text-decoration-color: #00d7ff\">None</span>, <span style=\"color: #00af00; text-decoration-color: #00af00\">32</span>)             │         <span style=\"color: #00af00; text-decoration-color: #00af00\">5,632</span> │\n",
       "├─────────────────────────────────┼────────────────────────┼───────────────┤\n",
       "│ dense_4 (<span style=\"color: #0087ff; text-decoration-color: #0087ff\">Dense</span>)                 │ (<span style=\"color: #00d7ff; text-decoration-color: #00d7ff\">None</span>, <span style=\"color: #00af00; text-decoration-color: #00af00\">32</span>)             │         <span style=\"color: #00af00; text-decoration-color: #00af00\">1,056</span> │\n",
       "├─────────────────────────────────┼────────────────────────┼───────────────┤\n",
       "│ dense_5 (<span style=\"color: #0087ff; text-decoration-color: #0087ff\">Dense</span>)                 │ (<span style=\"color: #00d7ff; text-decoration-color: #00d7ff\">None</span>, <span style=\"color: #00af00; text-decoration-color: #00af00\">1</span>)              │            <span style=\"color: #00af00; text-decoration-color: #00af00\">33</span> │\n",
       "└─────────────────────────────────┴────────────────────────┴───────────────┘\n",
       "</pre>\n"
      ],
      "text/plain": [
       "┏━━━━━━━━━━━━━━━━━━━━━━━━━━━━━━━━━┳━━━━━━━━━━━━━━━━━━━━━━━━┳━━━━━━━━━━━━━━━┓\n",
       "┃\u001b[1m \u001b[0m\u001b[1mLayer (type)                   \u001b[0m\u001b[1m \u001b[0m┃\u001b[1m \u001b[0m\u001b[1mOutput Shape          \u001b[0m\u001b[1m \u001b[0m┃\u001b[1m \u001b[0m\u001b[1m      Param #\u001b[0m\u001b[1m \u001b[0m┃\n",
       "┡━━━━━━━━━━━━━━━━━━━━━━━━━━━━━━━━━╇━━━━━━━━━━━━━━━━━━━━━━━━╇━━━━━━━━━━━━━━━┩\n",
       "│ lstm_2 (\u001b[38;5;33mLSTM\u001b[0m)                   │ (\u001b[38;5;45mNone\u001b[0m, \u001b[38;5;34m32\u001b[0m)             │         \u001b[38;5;34m5,632\u001b[0m │\n",
       "├─────────────────────────────────┼────────────────────────┼───────────────┤\n",
       "│ dense_4 (\u001b[38;5;33mDense\u001b[0m)                 │ (\u001b[38;5;45mNone\u001b[0m, \u001b[38;5;34m32\u001b[0m)             │         \u001b[38;5;34m1,056\u001b[0m │\n",
       "├─────────────────────────────────┼────────────────────────┼───────────────┤\n",
       "│ dense_5 (\u001b[38;5;33mDense\u001b[0m)                 │ (\u001b[38;5;45mNone\u001b[0m, \u001b[38;5;34m1\u001b[0m)              │            \u001b[38;5;34m33\u001b[0m │\n",
       "└─────────────────────────────────┴────────────────────────┴───────────────┘\n"
      ]
     },
     "metadata": {},
     "output_type": "display_data"
    },
    {
     "data": {
      "text/html": [
       "<pre style=\"white-space:pre;overflow-x:auto;line-height:normal;font-family:Menlo,'DejaVu Sans Mono',consolas,'Courier New',monospace\"><span style=\"font-weight: bold\"> Total params: </span><span style=\"color: #00af00; text-decoration-color: #00af00\">20,165</span> (78.77 KB)\n",
       "</pre>\n"
      ],
      "text/plain": [
       "\u001b[1m Total params: \u001b[0m\u001b[38;5;34m20,165\u001b[0m (78.77 KB)\n"
      ]
     },
     "metadata": {},
     "output_type": "display_data"
    },
    {
     "data": {
      "text/html": [
       "<pre style=\"white-space:pre;overflow-x:auto;line-height:normal;font-family:Menlo,'DejaVu Sans Mono',consolas,'Courier New',monospace\"><span style=\"font-weight: bold\"> Trainable params: </span><span style=\"color: #00af00; text-decoration-color: #00af00\">6,721</span> (26.25 KB)\n",
       "</pre>\n"
      ],
      "text/plain": [
       "\u001b[1m Trainable params: \u001b[0m\u001b[38;5;34m6,721\u001b[0m (26.25 KB)\n"
      ]
     },
     "metadata": {},
     "output_type": "display_data"
    },
    {
     "data": {
      "text/html": [
       "<pre style=\"white-space:pre;overflow-x:auto;line-height:normal;font-family:Menlo,'DejaVu Sans Mono',consolas,'Courier New',monospace\"><span style=\"font-weight: bold\"> Non-trainable params: </span><span style=\"color: #00af00; text-decoration-color: #00af00\">0</span> (0.00 B)\n",
       "</pre>\n"
      ],
      "text/plain": [
       "\u001b[1m Non-trainable params: \u001b[0m\u001b[38;5;34m0\u001b[0m (0.00 B)\n"
      ]
     },
     "metadata": {},
     "output_type": "display_data"
    },
    {
     "data": {
      "text/html": [
       "<pre style=\"white-space:pre;overflow-x:auto;line-height:normal;font-family:Menlo,'DejaVu Sans Mono',consolas,'Courier New',monospace\"><span style=\"font-weight: bold\"> Optimizer params: </span><span style=\"color: #00af00; text-decoration-color: #00af00\">13,444</span> (52.52 KB)\n",
       "</pre>\n"
      ],
      "text/plain": [
       "\u001b[1m Optimizer params: \u001b[0m\u001b[38;5;34m13,444\u001b[0m (52.52 KB)\n"
      ]
     },
     "metadata": {},
     "output_type": "display_data"
    }
   ],
   "source": [
    "model.summary()"
   ]
  },
  {
   "cell_type": "markdown",
   "id": "a55860b1-0ba9-497d-b837-be63a261b692",
   "metadata": {
    "jp-MarkdownHeadingCollapsed": true
   },
   "source": [
    "### Avaliação "
   ]
  },
  {
   "cell_type": "code",
   "execution_count": 83,
   "id": "2ade76c2-7dc0-4042-bfb1-f59ec2563e36",
   "metadata": {},
   "outputs": [],
   "source": [
    "def plot_error_histogram(y_pred, y_test):\n",
    "    # Erro é o predito menos o real\n",
    "    error = y_pred - y_test\n",
    "\n",
    "    # Estatísticas do erro\n",
    "    mean_error = np.mean(error)\n",
    "    std_error = np.std(error)\n",
    "    min_error = np.min(error)\n",
    "    max_error = np.max(error)\n",
    "\n",
    "    # Histograma\n",
    "    plt.hist(error, bins=50, color='blue', alpha=0.7, edgecolor='black')\n",
    "\n",
    "    # Linhas de referência\n",
    "    plt.axvline(mean_error, color='red', linestyle='dashed', linewidth=2, label=f\"Média: {mean_error:.4f}\")\n",
    "    plt.axvline(mean_error + 2*std_error, color='green', linestyle='dashed', linewidth=2, label=f'+2σ: {(mean_error + 2*std_error):.4f}')\n",
    "    plt.axvline(mean_error - 2*std_error, color='green', linestyle='dashed', linewidth=2, label=f'-2σ: {(mean_error - 2*std_error):.4f}')\n",
    "    plt.axvline(min_error, color='purple', linestyle='dashed', linewidth=2, label=f'Mínimo: {min_error:.4f}')\n",
    "    plt.axvline(max_error, color='orange', linestyle='dashed', linewidth=2, label=f'Máximo: {max_error:.4f}')\n",
    "\n",
    "    # Extras\n",
    "    plt.xlabel(\"Erro (y_pred - y_real)\")\n",
    "    plt.ylabel(\"Frequência\")\n",
    "    plt.legend()\n",
    "    plt.grid(True)\n",
    "\n",
    "    plt.show()"
   ]
  },
  {
   "cell_type": "code",
   "execution_count": 84,
   "id": "cad65e16-858e-4868-8e6e-6b9a1939c4e8",
   "metadata": {},
   "outputs": [
    {
     "name": "stdout",
     "output_type": "stream",
     "text": [
      "\u001b[1m6824/6824\u001b[0m \u001b[32m━━━━━━━━━━━━━━━━━━━━\u001b[0m\u001b[37m\u001b[0m \u001b[1m3s\u001b[0m 491us/step\n"
     ]
    },
    {
     "data": {
      "image/png": "[encoded data removed]",
      "text/plain": [
       "<Figure size 432x288 with 1 Axes>"
      ]
     },
     "metadata": {
      "needs_background": "light"
     },
     "output_type": "display_data"
    }
   ],
   "source": [
    "prediction = model.predict(X_test_seq)\n",
    "y_pred_seq = prediction.reshape(1,-1)[0]\n",
    "\n",
    "plot_error_histogram(y_pred_seq, y_test_seq)"
   ]
  },
  {
   "cell_type": "code",
   "execution_count": 85,
   "id": "9a79deb5-0e52-4127-bf11-2ce545283280",
   "metadata": {},
   "outputs": [
    {
     "data": {
      "text/plain": [
       "(array([1.69160e+04, 9.83800e+03, 1.45340e+04, 2.03170e+04, 2.47150e+04,\n",
       "        3.46540e+04, 5.96600e+04, 2.71729e+05, 2.36076e+05, 1.57940e+05,\n",
       "        8.24450e+04, 4.99130e+04, 3.17360e+04, 2.14710e+04, 1.65480e+04,\n",
       "        1.29050e+04, 9.42700e+03, 7.06400e+03, 5.20500e+03, 3.79100e+03,\n",
       "        2.72600e+03, 1.80100e+03, 1.16600e+03, 9.03000e+02, 5.29000e+02,\n",
       "        4.28000e+02, 1.71000e+02, 5.80000e+01, 3.80000e+01, 8.90000e+01]),\n",
       " array([-87.9       , -76.65333333, -65.40666667, -54.16      ,\n",
       "        -42.91333333, -31.66666667, -20.42      ,  -9.17333333,\n",
       "          2.07333333,  13.32      ,  24.56666667,  35.81333333,\n",
       "         47.06      ,  58.30666667,  69.55333333,  80.8       ,\n",
       "         92.04666667, 103.29333333, 114.54      , 125.78666667,\n",
       "        137.03333333, 148.28      , 159.52666667, 170.77333333,\n",
       "        182.02      , 193.26666667, 204.51333333, 215.76      ,\n",
       "        227.00666667, 238.25333333, 249.5       ]),\n",
       " <BarContainer object of 30 artists>)"
      ]
     },
     "execution_count": 85,
     "metadata": {},
     "output_type": "execute_result"
    },
    {
     "data": {
      "image/png": "[encoded data removed]",
      "text/plain": [
       "<Figure size 432x288 with 1 Axes>"
      ]
     },
     "metadata": {
      "needs_background": "light"
     },
     "output_type": "display_data"
    }
   ],
   "source": [
    "plt.hist(trips['Motor Torque [Nm]'], bins=30, color='blue', alpha=0.7, edgecolor='black')"
   ]
  },
  {
   "cell_type": "markdown",
   "id": "3274aa18-9d74-48cf-9281-7bce1680476c",
   "metadata": {
    "jp-MarkdownHeadingCollapsed": true
   },
   "source": [
    "## Modelo Torque e Throttle"
   ]
  },
  {
   "cell_type": "markdown",
   "id": "3bca5c6b-81a3-4aaa-a9f3-d5d4bdfcda0e",
   "metadata": {
    "jp-MarkdownHeadingCollapsed": true
   },
   "source": [
    "### General Functions"
   ]
  },
  {
   "cell_type": "code",
   "execution_count": 40,
   "id": "bbac56d9-b281-44f1-a64f-396b558016e0",
   "metadata": {},
   "outputs": [],
   "source": [
    "import os\n",
    "import pandas as pd\n",
    "import numpy as np\n",
    "import matplotlib.pyplot as plt\n",
    "\n",
    "from sklearn.preprocessing import MinMaxScaler\n",
    "\n",
    "from tensorflow.keras.models import Sequential\n",
    "from tensorflow.keras import Input\n",
    "from tensorflow.keras.layers import LSTM, Dense\n",
    "from tensorflow.keras.optimizers import Adam\n",
    "\n",
    "from IPython.display import display\n",
    "\n",
    "\n",
    "WINDOW_SIZE = 10"
   ]
  },
  {
   "cell_type": "code",
   "execution_count": 2,
   "id": "a6272123-1528-4573-8103-201d49d15b17",
   "metadata": {},
   "outputs": [
    {
     "data": {
      "text/plain": [
       "(1094793, 9)"
      ]
     },
     "execution_count": 2,
     "metadata": {},
     "output_type": "execute_result"
    }
   ],
   "source": [
    "directory = \"./data/ieee/\"\n",
    "files = os.listdir(directory)\n",
    "files.sort()\n",
    "\n",
    "trips = []\n",
    "for file in files:\n",
    "    trip = pd.read_csv(directory + file, sep=\";\", encoding='unicode_escape')\n",
    "    trip = trip.sort_values(by='Time [s]')\n",
    "    trip['Trip'] = file.split(\".\")[0]\n",
    "    if 'Velocity [km/h]]]' in trip.columns:\n",
    "        trip = trip.rename(columns={'Velocity [km/h]]]': 'Velocity [km/h]'})\n",
    "    trips.append(trip)\n",
    "\n",
    "# Mapa (elet - comb):\n",
    "# 'Ambient Temperature [°C]': 'Veh_ambient_temp_ECM',\n",
    "# 'Cabin Temperature Sensor [°C]': 'HVAC_pass_compartment_air_temp_filt_HVAC',\n",
    "# 'Heat Exchanger Temperature [°C]': 'HVAC_heater_core_coolant_temp_sensor_HVAC',\n",
    "# 'Longitudinal Acceleration [m/s^2]': 'ActVehAccel',\n",
    "# 'Throttle [%]': 'Eng_throttle_pos_ECM',\n",
    "# 'Velocity [km/h]': 'VehSpdAvgDrvn'\n",
    "colunas_selecionadas = [\n",
    "    'Ambient Temperature [°C]',\n",
    "    'Cabin Temperature Sensor [°C]',\n",
    "    'Heat Exchanger Temperature [°C]',\n",
    "    'Longitudinal Acceleration [m/s^2]',\n",
    "    'Throttle [%]',\n",
    "    'Velocity [km/h]',\n",
    "    'Motor Torque [Nm]',\n",
    "    'Time [s]',\n",
    "    'Trip'\n",
    "]\n",
    "\n",
    "\n",
    "trips = pd.concat(trips)\n",
    "trips = trips[colunas_selecionadas]\n",
    "trips.shape"
   ]
  },
  {
   "cell_type": "code",
   "execution_count": 32,
   "id": "49f7d7e9-9f4c-4778-a50a-517523476c06",
   "metadata": {},
   "outputs": [],
   "source": [
    "def normalize(data, label):\n",
    "    # Estou deixando 'Time [s]' no X pq os intervalos de tempo não são regulares\n",
    "    columns = ['Trip', 'Throttle [%]', 'Motor Torque [Nm]']\n",
    "    \n",
    "    X = data.drop(columns=columns)\n",
    "    y = data[label].values\n",
    "    \n",
    "    scaler_X = MinMaxScaler()\n",
    "    scaler_y = MinMaxScaler()\n",
    "    \n",
    "    X_scaled = scaler_X.fit_transform(X.values)\n",
    "    y_scaled = scaler_y.fit_transform(y.reshape(-1, 1))\n",
    "    \n",
    "    X_scaled = pd.DataFrame(\n",
    "        X_scaled,\n",
    "        columns=X.columns,\n",
    "        index=X.index\n",
    "    )\n",
    "    X_scaled['Trip'] = data['Trip']\n",
    "    \n",
    "    scaled_dataset = X_scaled\n",
    "    scaled_dataset[label] = y_scaled\n",
    "\n",
    "    return scaled_dataset, scaler_X, scaler_y"
   ]
  },
  {
   "cell_type": "code",
   "execution_count": 31,
   "id": "3499ee51-6e43-4b19-a1f7-d64d834d89ee",
   "metadata": {},
   "outputs": [],
   "source": [
    "def time_series_train_test_split(dataset, label, train_size=0.8):\n",
    "    X_trains, X_tests, y_trains, y_tests = [], [], [], []    \n",
    "    \n",
    "    for trip in dataset['Trip'].unique():\n",
    "        data_slice = dataset[dataset['Trip'] == trip]\n",
    "        size = int(len(data_slice) * train_size)\n",
    "    \n",
    "        X_trains.append(data_slice.drop(columns=[label]).iloc[:size, :])\n",
    "        X_tests.append(data_slice.drop(columns=[label]).iloc[size:, :])\n",
    "        \n",
    "        y_trains.append(data_slice[label].iloc[:size])\n",
    "        y_tests.append(data_slice[label].iloc[size:])\n",
    "    \n",
    "    return pd.concat(X_trains), pd.concat(X_tests), pd.concat(y_trains), pd.concat(y_tests)"
   ]
  },
  {
   "cell_type": "code",
   "execution_count": 5,
   "id": "2dc2a616-6009-4497-bd54-5f1b0fbb8128",
   "metadata": {},
   "outputs": [],
   "source": [
    "def create_seq(X, y, window_size=10):\n",
    "    X_seq, y_seq = [], []\n",
    "    \n",
    "    for i in range(window_size, len(X)):\n",
    "        data_slice = X.iloc[i-window_size:i, :]\n",
    "\n",
    "        # Se tiver mais de uma trip na mesma janela, eu não adiciono no conjunto de dados\n",
    "        if len(data_slice['Trip'].unique()) == 1:\n",
    "            X_seq.append(data_slice.drop(columns=['Trip']).values)\n",
    "            y_seq.append(y[i])\n",
    "        \n",
    "    return np.array(X_seq), np.array(y_seq)"
   ]
  },
  {
   "cell_type": "code",
   "execution_count": 6,
   "id": "df536779-f093-4c2d-8f04-67e44779aa53",
   "metadata": {},
   "outputs": [],
   "source": [
    "def LSTM_model(X_seq, y_seq, train_size=0.8, epochs=10):\n",
    "    # Divisão de treino e validação com 80% para treino e 20% para validação\n",
    "    train_size = int(len(X_seq) * train_size)\n",
    "    X_train, X_test = X_seq[:train_size], X_seq[train_size:]\n",
    "    y_train, y_test = y_seq[:train_size], y_seq[train_size:]\n",
    "\n",
    "\n",
    "    # Criando e treinando o modelo\n",
    "    model = Sequential()\n",
    "    model.add(Input(shape=(X_train.shape[1], X_train.shape[2])))\n",
    "    model.add(LSTM(32, activation='tanh'))\n",
    "    model.add(Dense(32, activation='relu'))\n",
    "    model.add(Dense(1))\n",
    "\n",
    "    model.compile(optimizer='adam', loss='mse', metrics=['mae'])\n",
    "\n",
    "    history = model.fit(X_train, y_train, validation_data=(X_test, y_test), epochs=epochs, batch_size=16)\n",
    "\n",
    "\n",
    "    # Imprimindo a avaliação\n",
    "    plt.figure(figsize=(12, 5))\n",
    "    plt.subplot(1, 2, 1)\n",
    "    plt.plot(history.history['loss'], label='Train Loss')\n",
    "    plt.plot(history.history['val_loss'], label='Validation Loss')\n",
    "    plt.xlabel('Épocas')\n",
    "    plt.ylabel('Loss (MSE)')\n",
    "    plt.legend()\n",
    "    plt.grid()\n",
    "\n",
    "    loss, mae = model.evaluate(X_test, y_test)\n",
    "    print(f\"MAE: {mae:.8f}, Loss: {loss:.8f}\")\n",
    "\n",
    "    return model"
   ]
  },
  {
   "cell_type": "code",
   "execution_count": 63,
   "id": "69ab7326-6e86-4fd6-a647-d53ae4633ba6",
   "metadata": {},
   "outputs": [],
   "source": [
    "def plot_error_histogram(y_pred, y_test, bins=50, color='blue'):\n",
    "    # Erro é o predito menos o real\n",
    "    error = y_pred - y_test\n",
    "\n",
    "    # Estatísticas do erro\n",
    "    mean_error = np.mean(error)\n",
    "    std_error = np.std(error)\n",
    "    min_error = np.min(error)\n",
    "    max_error = np.max(error)\n",
    "\n",
    "    # Histograma\n",
    "    plt.hist(error, bins=bins, color=color, alpha=0.7, edgecolor='black')\n",
    "\n",
    "    # Linhas de referência\n",
    "    plt.axvline(mean_error, color='red', linestyle='dashed', linewidth=2, label=f\"Média: {mean_error:.4f}\")\n",
    "    plt.axvline(mean_error + 2*std_error, color='green', linestyle='dashed', linewidth=2, label=f'+2σ: {(mean_error + 2*std_error):.4f}')\n",
    "    plt.axvline(mean_error - 2*std_error, color='green', linestyle='dashed', linewidth=2, label=f'-2σ: {(mean_error - 2*std_error):.4f}')\n",
    "    plt.axvline(min_error, color='purple', linestyle='dashed', linewidth=2, label=f'Mínimo: {min_error:.4f}')\n",
    "    plt.axvline(max_error, color='orange', linestyle='dashed', linewidth=2, label=f'Máximo: {max_error:.4f}')\n",
    "\n",
    "    # Extras\n",
    "    plt.xlabel(\"Erro (y_pred - y_real)\")\n",
    "    plt.ylabel(\"Frequência\")\n",
    "    plt.legend()\n",
    "    plt.grid(True)\n",
    "\n",
    "    plt.show()"
   ]
  },
  {
   "cell_type": "markdown",
   "id": "920d6431-6da8-449d-b18d-62daee3bb365",
   "metadata": {
    "jp-MarkdownHeadingCollapsed": true
   },
   "source": [
    "### Torque"
   ]
  },
  {
   "cell_type": "code",
   "execution_count": 46,
   "id": "bb2f9a3e-efee-41f4-a74b-b720eef1b3cd",
   "metadata": {},
   "outputs": [
    {
     "data": {
      "text/html": [
       "<div>\n",
       "<style scoped>\n",
       "    .dataframe tbody tr th:only-of-type {\n",
       "        vertical-align: middle;\n",
       "    }\n",
       "\n",
       "    .dataframe tbody tr th {\n",
       "        vertical-align: top;\n",
       "    }\n",
       "\n",
       "    .dataframe thead th {\n",
       "        text-align: right;\n",
       "    }\n",
       "</style>\n",
       "<table border=\"1\" class=\"dataframe\">\n",
       "  <thead>\n",
       "    <tr style=\"text-align: right;\">\n",
       "      <th></th>\n",
       "      <th>Ambient Temperature [°C]</th>\n",
       "      <th>Cabin Temperature Sensor [°C]</th>\n",
       "      <th>Heat Exchanger Temperature [°C]</th>\n",
       "      <th>Longitudinal Acceleration [m/s^2]</th>\n",
       "      <th>Throttle [%]</th>\n",
       "      <th>Velocity [km/h]</th>\n",
       "      <th>Motor Torque [Nm]</th>\n",
       "      <th>Time [s]</th>\n",
       "      <th>Trip</th>\n",
       "    </tr>\n",
       "  </thead>\n",
       "  <tbody>\n",
       "    <tr>\n",
       "      <th>0</th>\n",
       "      <td>25.5</td>\n",
       "      <td>24.5</td>\n",
       "      <td>30.5</td>\n",
       "      <td>-0.03</td>\n",
       "      <td>0.0</td>\n",
       "      <td>0.0</td>\n",
       "      <td>0.0</td>\n",
       "      <td>0.0</td>\n",
       "      <td>TripA01</td>\n",
       "    </tr>\n",
       "    <tr>\n",
       "      <th>1</th>\n",
       "      <td>25.5</td>\n",
       "      <td>24.5</td>\n",
       "      <td>30.5</td>\n",
       "      <td>0.00</td>\n",
       "      <td>0.0</td>\n",
       "      <td>0.0</td>\n",
       "      <td>0.0</td>\n",
       "      <td>0.1</td>\n",
       "      <td>TripA01</td>\n",
       "    </tr>\n",
       "    <tr>\n",
       "      <th>2</th>\n",
       "      <td>25.5</td>\n",
       "      <td>24.5</td>\n",
       "      <td>30.5</td>\n",
       "      <td>-0.01</td>\n",
       "      <td>0.0</td>\n",
       "      <td>0.0</td>\n",
       "      <td>0.0</td>\n",
       "      <td>0.2</td>\n",
       "      <td>TripA01</td>\n",
       "    </tr>\n",
       "    <tr>\n",
       "      <th>3</th>\n",
       "      <td>25.5</td>\n",
       "      <td>24.5</td>\n",
       "      <td>30.5</td>\n",
       "      <td>-0.03</td>\n",
       "      <td>0.0</td>\n",
       "      <td>0.0</td>\n",
       "      <td>0.0</td>\n",
       "      <td>0.3</td>\n",
       "      <td>TripA01</td>\n",
       "    </tr>\n",
       "    <tr>\n",
       "      <th>4</th>\n",
       "      <td>25.5</td>\n",
       "      <td>24.5</td>\n",
       "      <td>30.5</td>\n",
       "      <td>-0.03</td>\n",
       "      <td>0.0</td>\n",
       "      <td>0.0</td>\n",
       "      <td>0.0</td>\n",
       "      <td>0.4</td>\n",
       "      <td>TripA01</td>\n",
       "    </tr>\n",
       "  </tbody>\n",
       "</table>\n",
       "</div>"
      ],
      "text/plain": [
       "   Ambient Temperature [°C]  Cabin Temperature Sensor [°C]  \\\n",
       "0                      25.5                           24.5   \n",
       "1                      25.5                           24.5   \n",
       "2                      25.5                           24.5   \n",
       "3                      25.5                           24.5   \n",
       "4                      25.5                           24.5   \n",
       "\n",
       "   Heat Exchanger Temperature [°C]  Longitudinal Acceleration [m/s^2]  \\\n",
       "0                             30.5                              -0.03   \n",
       "1                             30.5                               0.00   \n",
       "2                             30.5                              -0.01   \n",
       "3                             30.5                              -0.03   \n",
       "4                             30.5                              -0.03   \n",
       "\n",
       "   Throttle [%]  Velocity [km/h]  Motor Torque [Nm]  Time [s]     Trip  \n",
       "0           0.0              0.0                0.0       0.0  TripA01  \n",
       "1           0.0              0.0                0.0       0.1  TripA01  \n",
       "2           0.0              0.0                0.0       0.2  TripA01  \n",
       "3           0.0              0.0                0.0       0.3  TripA01  \n",
       "4           0.0              0.0                0.0       0.4  TripA01  "
      ]
     },
     "execution_count": 46,
     "metadata": {},
     "output_type": "execute_result"
    }
   ],
   "source": [
    "trips.head()"
   ]
  },
  {
   "cell_type": "code",
   "execution_count": 33,
   "id": "2bfa772c-0ada-4e16-be1c-1881b01b4a09",
   "metadata": {},
   "outputs": [
    {
     "data": {
      "text/html": [
       "<div>\n",
       "<style scoped>\n",
       "    .dataframe tbody tr th:only-of-type {\n",
       "        vertical-align: middle;\n",
       "    }\n",
       "\n",
       "    .dataframe tbody tr th {\n",
       "        vertical-align: top;\n",
       "    }\n",
       "\n",
       "    .dataframe thead th {\n",
       "        text-align: right;\n",
       "    }\n",
       "</style>\n",
       "<table border=\"1\" class=\"dataframe\">\n",
       "  <thead>\n",
       "    <tr style=\"text-align: right;\">\n",
       "      <th></th>\n",
       "      <th>Ambient Temperature [°C]</th>\n",
       "      <th>Cabin Temperature Sensor [°C]</th>\n",
       "      <th>Heat Exchanger Temperature [°C]</th>\n",
       "      <th>Longitudinal Acceleration [m/s^2]</th>\n",
       "      <th>Velocity [km/h]</th>\n",
       "      <th>Time [s]</th>\n",
       "      <th>Trip</th>\n",
       "      <th>Motor Torque [Nm]</th>\n",
       "    </tr>\n",
       "  </thead>\n",
       "  <tbody>\n",
       "    <tr>\n",
       "      <th>0</th>\n",
       "      <td>0.783784</td>\n",
       "      <td>0.485904</td>\n",
       "      <td>0.424646</td>\n",
       "      <td>0.667161</td>\n",
       "      <td>0.0</td>\n",
       "      <td>0.000000</td>\n",
       "      <td>TripA01</td>\n",
       "      <td>0.260522</td>\n",
       "    </tr>\n",
       "    <tr>\n",
       "      <th>1</th>\n",
       "      <td>0.783784</td>\n",
       "      <td>0.485904</td>\n",
       "      <td>0.424646</td>\n",
       "      <td>0.669385</td>\n",
       "      <td>0.0</td>\n",
       "      <td>0.000018</td>\n",
       "      <td>TripA01</td>\n",
       "      <td>0.260522</td>\n",
       "    </tr>\n",
       "    <tr>\n",
       "      <th>2</th>\n",
       "      <td>0.783784</td>\n",
       "      <td>0.485904</td>\n",
       "      <td>0.424646</td>\n",
       "      <td>0.668643</td>\n",
       "      <td>0.0</td>\n",
       "      <td>0.000036</td>\n",
       "      <td>TripA01</td>\n",
       "      <td>0.260522</td>\n",
       "    </tr>\n",
       "    <tr>\n",
       "      <th>3</th>\n",
       "      <td>0.783784</td>\n",
       "      <td>0.485904</td>\n",
       "      <td>0.424646</td>\n",
       "      <td>0.667161</td>\n",
       "      <td>0.0</td>\n",
       "      <td>0.000053</td>\n",
       "      <td>TripA01</td>\n",
       "      <td>0.260522</td>\n",
       "    </tr>\n",
       "    <tr>\n",
       "      <th>4</th>\n",
       "      <td>0.783784</td>\n",
       "      <td>0.485904</td>\n",
       "      <td>0.424646</td>\n",
       "      <td>0.667161</td>\n",
       "      <td>0.0</td>\n",
       "      <td>0.000071</td>\n",
       "      <td>TripA01</td>\n",
       "      <td>0.260522</td>\n",
       "    </tr>\n",
       "  </tbody>\n",
       "</table>\n",
       "</div>"
      ],
      "text/plain": [
       "   Ambient Temperature [°C]  Cabin Temperature Sensor [°C]  \\\n",
       "0                  0.783784                       0.485904   \n",
       "1                  0.783784                       0.485904   \n",
       "2                  0.783784                       0.485904   \n",
       "3                  0.783784                       0.485904   \n",
       "4                  0.783784                       0.485904   \n",
       "\n",
       "   Heat Exchanger Temperature [°C]  Longitudinal Acceleration [m/s^2]  \\\n",
       "0                         0.424646                           0.667161   \n",
       "1                         0.424646                           0.669385   \n",
       "2                         0.424646                           0.668643   \n",
       "3                         0.424646                           0.667161   \n",
       "4                         0.424646                           0.667161   \n",
       "\n",
       "   Velocity [km/h]  Time [s]     Trip  Motor Torque [Nm]  \n",
       "0              0.0  0.000000  TripA01           0.260522  \n",
       "1              0.0  0.000018  TripA01           0.260522  \n",
       "2              0.0  0.000036  TripA01           0.260522  \n",
       "3              0.0  0.000053  TripA01           0.260522  \n",
       "4              0.0  0.000071  TripA01           0.260522  "
      ]
     },
     "execution_count": 33,
     "metadata": {},
     "output_type": "execute_result"
    }
   ],
   "source": [
    "torque_scaled_dataset, torque_X_scaler, torque_y_scaler = normalize(trips, 'Motor Torque [Nm]')\n",
    "torque_scaled_dataset.head()"
   ]
  },
  {
   "cell_type": "code",
   "execution_count": 45,
   "id": "e1168ce1-3664-404c-99f5-324984b7a086",
   "metadata": {},
   "outputs": [
    {
     "name": "stdout",
     "output_type": "stream",
     "text": [
      "\n",
      "torque_X_train: (875810, 7)\n"
     ]
    },
    {
     "data": {
      "text/html": [
       "<div>\n",
       "<style scoped>\n",
       "    .dataframe tbody tr th:only-of-type {\n",
       "        vertical-align: middle;\n",
       "    }\n",
       "\n",
       "    .dataframe tbody tr th {\n",
       "        vertical-align: top;\n",
       "    }\n",
       "\n",
       "    .dataframe thead th {\n",
       "        text-align: right;\n",
       "    }\n",
       "</style>\n",
       "<table border=\"1\" class=\"dataframe\">\n",
       "  <thead>\n",
       "    <tr style=\"text-align: right;\">\n",
       "      <th></th>\n",
       "      <th>Ambient Temperature [°C]</th>\n",
       "      <th>Cabin Temperature Sensor [°C]</th>\n",
       "      <th>Heat Exchanger Temperature [°C]</th>\n",
       "      <th>Longitudinal Acceleration [m/s^2]</th>\n",
       "      <th>Velocity [km/h]</th>\n",
       "      <th>Time [s]</th>\n",
       "      <th>Trip</th>\n",
       "    </tr>\n",
       "  </thead>\n",
       "  <tbody>\n",
       "    <tr>\n",
       "      <th>0</th>\n",
       "      <td>0.783784</td>\n",
       "      <td>0.485904</td>\n",
       "      <td>0.424646</td>\n",
       "      <td>0.667161</td>\n",
       "      <td>0.0</td>\n",
       "      <td>0.000000</td>\n",
       "      <td>TripA01</td>\n",
       "    </tr>\n",
       "    <tr>\n",
       "      <th>1</th>\n",
       "      <td>0.783784</td>\n",
       "      <td>0.485904</td>\n",
       "      <td>0.424646</td>\n",
       "      <td>0.669385</td>\n",
       "      <td>0.0</td>\n",
       "      <td>0.000018</td>\n",
       "      <td>TripA01</td>\n",
       "    </tr>\n",
       "    <tr>\n",
       "      <th>2</th>\n",
       "      <td>0.783784</td>\n",
       "      <td>0.485904</td>\n",
       "      <td>0.424646</td>\n",
       "      <td>0.668643</td>\n",
       "      <td>0.0</td>\n",
       "      <td>0.000036</td>\n",
       "      <td>TripA01</td>\n",
       "    </tr>\n",
       "    <tr>\n",
       "      <th>3</th>\n",
       "      <td>0.783784</td>\n",
       "      <td>0.485904</td>\n",
       "      <td>0.424646</td>\n",
       "      <td>0.667161</td>\n",
       "      <td>0.0</td>\n",
       "      <td>0.000053</td>\n",
       "      <td>TripA01</td>\n",
       "    </tr>\n",
       "    <tr>\n",
       "      <th>4</th>\n",
       "      <td>0.783784</td>\n",
       "      <td>0.485904</td>\n",
       "      <td>0.424646</td>\n",
       "      <td>0.667161</td>\n",
       "      <td>0.0</td>\n",
       "      <td>0.000071</td>\n",
       "      <td>TripA01</td>\n",
       "    </tr>\n",
       "  </tbody>\n",
       "</table>\n",
       "</div>"
      ],
      "text/plain": [
       "   Ambient Temperature [°C]  Cabin Temperature Sensor [°C]  \\\n",
       "0                  0.783784                       0.485904   \n",
       "1                  0.783784                       0.485904   \n",
       "2                  0.783784                       0.485904   \n",
       "3                  0.783784                       0.485904   \n",
       "4                  0.783784                       0.485904   \n",
       "\n",
       "   Heat Exchanger Temperature [°C]  Longitudinal Acceleration [m/s^2]  \\\n",
       "0                         0.424646                           0.667161   \n",
       "1                         0.424646                           0.669385   \n",
       "2                         0.424646                           0.668643   \n",
       "3                         0.424646                           0.667161   \n",
       "4                         0.424646                           0.667161   \n",
       "\n",
       "   Velocity [km/h]  Time [s]     Trip  \n",
       "0              0.0  0.000000  TripA01  \n",
       "1              0.0  0.000018  TripA01  \n",
       "2              0.0  0.000036  TripA01  \n",
       "3              0.0  0.000053  TripA01  \n",
       "4              0.0  0.000071  TripA01  "
      ]
     },
     "metadata": {},
     "output_type": "display_data"
    },
    {
     "name": "stdout",
     "output_type": "stream",
     "text": [
      "\n",
      "torque_X_test: (218983, 7)\n"
     ]
    },
    {
     "data": {
      "text/html": [
       "<div>\n",
       "<style scoped>\n",
       "    .dataframe tbody tr th:only-of-type {\n",
       "        vertical-align: middle;\n",
       "    }\n",
       "\n",
       "    .dataframe tbody tr th {\n",
       "        vertical-align: top;\n",
       "    }\n",
       "\n",
       "    .dataframe thead th {\n",
       "        text-align: right;\n",
       "    }\n",
       "</style>\n",
       "<table border=\"1\" class=\"dataframe\">\n",
       "  <thead>\n",
       "    <tr style=\"text-align: right;\">\n",
       "      <th></th>\n",
       "      <th>Ambient Temperature [°C]</th>\n",
       "      <th>Cabin Temperature Sensor [°C]</th>\n",
       "      <th>Heat Exchanger Temperature [°C]</th>\n",
       "      <th>Longitudinal Acceleration [m/s^2]</th>\n",
       "      <th>Velocity [km/h]</th>\n",
       "      <th>Time [s]</th>\n",
       "      <th>Trip</th>\n",
       "    </tr>\n",
       "  </thead>\n",
       "  <tbody>\n",
       "    <tr>\n",
       "      <th>8072</th>\n",
       "      <td>0.959459</td>\n",
       "      <td>0.413521</td>\n",
       "      <td>0.0</td>\n",
       "      <td>0.676798</td>\n",
       "      <td>0.001773</td>\n",
       "      <td>0.143883</td>\n",
       "      <td>TripA01</td>\n",
       "    </tr>\n",
       "    <tr>\n",
       "      <th>8073</th>\n",
       "      <td>0.959459</td>\n",
       "      <td>0.413521</td>\n",
       "      <td>0.0</td>\n",
       "      <td>0.633803</td>\n",
       "      <td>0.001314</td>\n",
       "      <td>0.143901</td>\n",
       "      <td>TripA01</td>\n",
       "    </tr>\n",
       "    <tr>\n",
       "      <th>8074</th>\n",
       "      <td>0.959459</td>\n",
       "      <td>0.413521</td>\n",
       "      <td>0.0</td>\n",
       "      <td>0.624166</td>\n",
       "      <td>0.001117</td>\n",
       "      <td>0.143919</td>\n",
       "      <td>TripA01</td>\n",
       "    </tr>\n",
       "    <tr>\n",
       "      <th>8075</th>\n",
       "      <td>0.959459</td>\n",
       "      <td>0.413521</td>\n",
       "      <td>0.0</td>\n",
       "      <td>0.643440</td>\n",
       "      <td>0.000854</td>\n",
       "      <td>0.143937</td>\n",
       "      <td>TripA01</td>\n",
       "    </tr>\n",
       "    <tr>\n",
       "      <th>8076</th>\n",
       "      <td>0.959459</td>\n",
       "      <td>0.413521</td>\n",
       "      <td>0.0</td>\n",
       "      <td>0.642698</td>\n",
       "      <td>0.000722</td>\n",
       "      <td>0.143955</td>\n",
       "      <td>TripA01</td>\n",
       "    </tr>\n",
       "  </tbody>\n",
       "</table>\n",
       "</div>"
      ],
      "text/plain": [
       "      Ambient Temperature [°C]  Cabin Temperature Sensor [°C]  \\\n",
       "8072                  0.959459                       0.413521   \n",
       "8073                  0.959459                       0.413521   \n",
       "8074                  0.959459                       0.413521   \n",
       "8075                  0.959459                       0.413521   \n",
       "8076                  0.959459                       0.413521   \n",
       "\n",
       "      Heat Exchanger Temperature [°C]  Longitudinal Acceleration [m/s^2]  \\\n",
       "8072                              0.0                           0.676798   \n",
       "8073                              0.0                           0.633803   \n",
       "8074                              0.0                           0.624166   \n",
       "8075                              0.0                           0.643440   \n",
       "8076                              0.0                           0.642698   \n",
       "\n",
       "      Velocity [km/h]  Time [s]     Trip  \n",
       "8072         0.001773  0.143883  TripA01  \n",
       "8073         0.001314  0.143901  TripA01  \n",
       "8074         0.001117  0.143919  TripA01  \n",
       "8075         0.000854  0.143937  TripA01  \n",
       "8076         0.000722  0.143955  TripA01  "
      ]
     },
     "metadata": {},
     "output_type": "display_data"
    },
    {
     "name": "stdout",
     "output_type": "stream",
     "text": [
      "\n",
      "torque_y_train: (875810,)\n"
     ]
    },
    {
     "data": {
      "text/plain": [
       "0    0.260522\n",
       "1    0.260522\n",
       "2    0.260522\n",
       "3    0.260522\n",
       "4    0.260522\n",
       "Name: Motor Torque [Nm], dtype: float64"
      ]
     },
     "metadata": {},
     "output_type": "display_data"
    },
    {
     "name": "stdout",
     "output_type": "stream",
     "text": [
      "\n",
      "torque_y_test: (218983,)\n"
     ]
    },
    {
     "data": {
      "text/plain": [
       "8072    0.236811\n",
       "8073    0.246829\n",
       "8074    0.260522\n",
       "8075    0.260522\n",
       "8076    0.260522\n",
       "Name: Motor Torque [Nm], dtype: float64"
      ]
     },
     "metadata": {},
     "output_type": "display_data"
    }
   ],
   "source": [
    "torque_X_train, torque_X_test, torque_y_train, torque_y_test = time_series_train_test_split(torque_scaled_dataset, 'Motor Torque [Nm]')\n",
    "print(f\"\\ntorque_X_train: {torque_X_train.shape}\")\n",
    "display(torque_X_train.head())\n",
    "\n",
    "print(f\"\\ntorque_X_test: {torque_X_test.shape}\")\n",
    "display(torque_X_test.head())\n",
    "\n",
    "print(f\"\\ntorque_y_train: {torque_y_train.shape}\")\n",
    "display(torque_y_train.head())\n",
    "\n",
    "print(f\"\\ntorque_y_test: {torque_y_test.shape}\")\n",
    "display(torque_y_test.head())"
   ]
  },
  {
   "cell_type": "code",
   "execution_count": 48,
   "id": "3d8303b9-fbb4-4f10-84aa-650693cec40b",
   "metadata": {},
   "outputs": [
    {
     "name": "stdout",
     "output_type": "stream",
     "text": [
      "TRAIN:\n",
      "torque_X_train_seq (875179, 10, 6)\n",
      "torque_y_train_seq (875179,)\n",
      "\n",
      "TEST:\n",
      "torque_X_test_seq (218352, 10, 6)\n",
      "torque_y_test_seq (218352,)\n"
     ]
    }
   ],
   "source": [
    "torque_X_train_seq, torque_y_train_seq = create_seq(torque_X_train, torque_y_train.values, window_size=WINDOW_SIZE)\n",
    "torque_X_test_seq, torque_y_test_seq = create_seq(torque_X_test, torque_y_test.values, window_size=WINDOW_SIZE)\n",
    "\n",
    "print(\"TRAIN:\")\n",
    "print(f\"torque_X_train_seq {torque_X_train_seq.shape}\")\n",
    "print(f\"torque_y_train_seq {torque_y_train_seq.shape}\")\n",
    "print(\"\\nTEST:\")\n",
    "print(f\"torque_X_test_seq {torque_X_test_seq.shape}\")\n",
    "print(f\"torque_y_test_seq {torque_y_test_seq.shape}\")"
   ]
  },
  {
   "cell_type": "code",
   "execution_count": 51,
   "id": "c7036bf6-1bad-47ec-ab22-179a96605d2f",
   "metadata": {},
   "outputs": [
    {
     "name": "stdout",
     "output_type": "stream",
     "text": [
      "Epoch 1/5\n",
      "\u001b[1m43759/43759\u001b[0m \u001b[32m━━━━━━━━━━━━━━━━━━━━\u001b[0m\u001b[37m\u001b[0m \u001b[1m46s\u001b[0m 1ms/step - loss: 9.7073e-04 - mae: 0.0194 - val_loss: 3.7538e-04 - val_mae: 0.0124\n",
      "Epoch 2/5\n",
      "\u001b[1m43759/43759\u001b[0m \u001b[32m━━━━━━━━━━━━━━━━━━━━\u001b[0m\u001b[37m\u001b[0m \u001b[1m46s\u001b[0m 1ms/step - loss: 3.7133e-04 - mae: 0.0131 - val_loss: 3.6126e-04 - val_mae: 0.0127\n",
      "Epoch 3/5\n",
      "\u001b[1m43759/43759\u001b[0m \u001b[32m━━━━━━━━━━━━━━━━━━━━\u001b[0m\u001b[37m\u001b[0m \u001b[1m48s\u001b[0m 1ms/step - loss: 3.4265e-04 - mae: 0.0125 - val_loss: 3.7955e-04 - val_mae: 0.0139\n",
      "Epoch 4/5\n",
      "\u001b[1m43759/43759\u001b[0m \u001b[32m━━━━━━━━━━━━━━━━━━━━\u001b[0m\u001b[37m\u001b[0m \u001b[1m48s\u001b[0m 1ms/step - loss: 3.2788e-04 - mae: 0.0122 - val_loss: 3.7458e-04 - val_mae: 0.0125\n",
      "Epoch 5/5\n",
      "\u001b[1m43759/43759\u001b[0m \u001b[32m━━━━━━━━━━━━━━━━━━━━\u001b[0m\u001b[37m\u001b[0m \u001b[1m48s\u001b[0m 1ms/step - loss: 3.1838e-04 - mae: 0.0119 - val_loss: 3.3943e-04 - val_mae: 0.0121\n",
      "\u001b[1m5470/5470\u001b[0m \u001b[32m━━━━━━━━━━━━━━━━━━━━\u001b[0m\u001b[37m\u001b[0m \u001b[1m3s\u001b[0m 506us/step - loss: 3.0589e-04 - mae: 0.0117\n",
      "MAE: 0.01209647, Loss: 0.00033943\n"
     ]
    },
    {
     "data": {
      "text/html": [
       "<pre style=\"white-space:pre;overflow-x:auto;line-height:normal;font-family:Menlo,'DejaVu Sans Mono',consolas,'Courier New',monospace\"><span style=\"font-weight: bold\">Model: \"sequential_2\"</span>\n",
       "</pre>\n"
      ],
      "text/plain": [
       "\u001b[1mModel: \"sequential_2\"\u001b[0m\n"
      ]
     },
     "metadata": {},
     "output_type": "display_data"
    },
    {
     "data": {
      "text/html": [
       "<pre style=\"white-space:pre;overflow-x:auto;line-height:normal;font-family:Menlo,'DejaVu Sans Mono',consolas,'Courier New',monospace\">┏━━━━━━━━━━━━━━━━━━━━━━━━━━━━━━━━━┳━━━━━━━━━━━━━━━━━━━━━━━━┳━━━━━━━━━━━━━━━┓\n",
       "┃<span style=\"font-weight: bold\"> Layer (type)                    </span>┃<span style=\"font-weight: bold\"> Output Shape           </span>┃<span style=\"font-weight: bold\">       Param # </span>┃\n",
       "┡━━━━━━━━━━━━━━━━━━━━━━━━━━━━━━━━━╇━━━━━━━━━━━━━━━━━━━━━━━━╇━━━━━━━━━━━━━━━┩\n",
       "│ lstm_2 (<span style=\"color: #0087ff; text-decoration-color: #0087ff\">LSTM</span>)                   │ (<span style=\"color: #00d7ff; text-decoration-color: #00d7ff\">None</span>, <span style=\"color: #00af00; text-decoration-color: #00af00\">32</span>)             │         <span style=\"color: #00af00; text-decoration-color: #00af00\">4,992</span> │\n",
       "├─────────────────────────────────┼────────────────────────┼───────────────┤\n",
       "│ dense_4 (<span style=\"color: #0087ff; text-decoration-color: #0087ff\">Dense</span>)                 │ (<span style=\"color: #00d7ff; text-decoration-color: #00d7ff\">None</span>, <span style=\"color: #00af00; text-decoration-color: #00af00\">32</span>)             │         <span style=\"color: #00af00; text-decoration-color: #00af00\">1,056</span> │\n",
       "├─────────────────────────────────┼────────────────────────┼───────────────┤\n",
       "│ dense_5 (<span style=\"color: #0087ff; text-decoration-color: #0087ff\">Dense</span>)                 │ (<span style=\"color: #00d7ff; text-decoration-color: #00d7ff\">None</span>, <span style=\"color: #00af00; text-decoration-color: #00af00\">1</span>)              │            <span style=\"color: #00af00; text-decoration-color: #00af00\">33</span> │\n",
       "└─────────────────────────────────┴────────────────────────┴───────────────┘\n",
       "</pre>\n"
      ],
      "text/plain": [
       "┏━━━━━━━━━━━━━━━━━━━━━━━━━━━━━━━━━┳━━━━━━━━━━━━━━━━━━━━━━━━┳━━━━━━━━━━━━━━━┓\n",
       "┃\u001b[1m \u001b[0m\u001b[1mLayer (type)                   \u001b[0m\u001b[1m \u001b[0m┃\u001b[1m \u001b[0m\u001b[1mOutput Shape          \u001b[0m\u001b[1m \u001b[0m┃\u001b[1m \u001b[0m\u001b[1m      Param #\u001b[0m\u001b[1m \u001b[0m┃\n",
       "┡━━━━━━━━━━━━━━━━━━━━━━━━━━━━━━━━━╇━━━━━━━━━━━━━━━━━━━━━━━━╇━━━━━━━━━━━━━━━┩\n",
       "│ lstm_2 (\u001b[38;5;33mLSTM\u001b[0m)                   │ (\u001b[38;5;45mNone\u001b[0m, \u001b[38;5;34m32\u001b[0m)             │         \u001b[38;5;34m4,992\u001b[0m │\n",
       "├─────────────────────────────────┼────────────────────────┼───────────────┤\n",
       "│ dense_4 (\u001b[38;5;33mDense\u001b[0m)                 │ (\u001b[38;5;45mNone\u001b[0m, \u001b[38;5;34m32\u001b[0m)             │         \u001b[38;5;34m1,056\u001b[0m │\n",
       "├─────────────────────────────────┼────────────────────────┼───────────────┤\n",
       "│ dense_5 (\u001b[38;5;33mDense\u001b[0m)                 │ (\u001b[38;5;45mNone\u001b[0m, \u001b[38;5;34m1\u001b[0m)              │            \u001b[38;5;34m33\u001b[0m │\n",
       "└─────────────────────────────────┴────────────────────────┴───────────────┘\n"
      ]
     },
     "metadata": {},
     "output_type": "display_data"
    },
    {
     "data": {
      "text/html": [
       "<pre style=\"white-space:pre;overflow-x:auto;line-height:normal;font-family:Menlo,'DejaVu Sans Mono',consolas,'Courier New',monospace\"><span style=\"font-weight: bold\"> Total params: </span><span style=\"color: #00af00; text-decoration-color: #00af00\">18,245</span> (71.27 KB)\n",
       "</pre>\n"
      ],
      "text/plain": [
       "\u001b[1m Total params: \u001b[0m\u001b[38;5;34m18,245\u001b[0m (71.27 KB)\n"
      ]
     },
     "metadata": {},
     "output_type": "display_data"
    },
    {
     "data": {
      "text/html": [
       "<pre style=\"white-space:pre;overflow-x:auto;line-height:normal;font-family:Menlo,'DejaVu Sans Mono',consolas,'Courier New',monospace\"><span style=\"font-weight: bold\"> Trainable params: </span><span style=\"color: #00af00; text-decoration-color: #00af00\">6,081</span> (23.75 KB)\n",
       "</pre>\n"
      ],
      "text/plain": [
       "\u001b[1m Trainable params: \u001b[0m\u001b[38;5;34m6,081\u001b[0m (23.75 KB)\n"
      ]
     },
     "metadata": {},
     "output_type": "display_data"
    },
    {
     "data": {
      "text/html": [
       "<pre style=\"white-space:pre;overflow-x:auto;line-height:normal;font-family:Menlo,'DejaVu Sans Mono',consolas,'Courier New',monospace\"><span style=\"font-weight: bold\"> Non-trainable params: </span><span style=\"color: #00af00; text-decoration-color: #00af00\">0</span> (0.00 B)\n",
       "</pre>\n"
      ],
      "text/plain": [
       "\u001b[1m Non-trainable params: \u001b[0m\u001b[38;5;34m0\u001b[0m (0.00 B)\n"
      ]
     },
     "metadata": {},
     "output_type": "display_data"
    },
    {
     "data": {
      "text/html": [
       "<pre style=\"white-space:pre;overflow-x:auto;line-height:normal;font-family:Menlo,'DejaVu Sans Mono',consolas,'Courier New',monospace\"><span style=\"font-weight: bold\"> Optimizer params: </span><span style=\"color: #00af00; text-decoration-color: #00af00\">12,164</span> (47.52 KB)\n",
       "</pre>\n"
      ],
      "text/plain": [
       "\u001b[1m Optimizer params: \u001b[0m\u001b[38;5;34m12,164\u001b[0m (47.52 KB)\n"
      ]
     },
     "metadata": {},
     "output_type": "display_data"
    },
    {
     "data": {
      "image/png": "[encoded data removed]",
      "text/plain": [
       "<Figure size 864x360 with 1 Axes>"
      ]
     },
     "metadata": {
      "needs_background": "light"
     },
     "output_type": "display_data"
    }
   ],
   "source": [
    "torque_model = LSTM_model(torque_X_train_seq, torque_y_train_seq, train_size=0.8, epochs=5)\n",
    "torque_model.summary()"
   ]
  },
  {
   "cell_type": "code",
   "execution_count": 52,
   "id": "a01e5e40-c121-4240-964e-933826c47130",
   "metadata": {},
   "outputs": [
    {
     "name": "stdout",
     "output_type": "stream",
     "text": [
      "\u001b[1m6824/6824\u001b[0m \u001b[32m━━━━━━━━━━━━━━━━━━━━\u001b[0m\u001b[37m\u001b[0m \u001b[1m4s\u001b[0m 530us/step\n"
     ]
    },
    {
     "data": {
      "image/png": "[encoded data removed]",
      "text/plain": [
       "<Figure size 432x288 with 1 Axes>"
      ]
     },
     "metadata": {
      "needs_background": "light"
     },
     "output_type": "display_data"
    }
   ],
   "source": [
    "torque_y_pred_seq = torque_model.predict(torque_X_test_seq)\n",
    "# y_pred_seq = prediction.reshape(1,-1)[0]\n",
    "\n",
    "plot_error_histogram(\n",
    "    torque_y_scaler.inverse_transform(torque_y_pred_seq), \n",
    "    torque_y_scaler.inverse_transform(torque_y_test_seq.reshape(len(torque_y_test_seq), 1)),\n",
    "    bins=50\n",
    ")"
   ]
  },
  {
   "cell_type": "code",
   "execution_count": 53,
   "id": "d00397d3-494b-40ad-8531-7e4ddb482aa2",
   "metadata": {},
   "outputs": [
    {
     "data": {
      "image/png": "[encoded data removed]",
      "text/plain": [
       "<Figure size 432x288 with 1 Axes>"
      ]
     },
     "metadata": {
      "needs_background": "light"
     },
     "output_type": "display_data"
    }
   ],
   "source": [
    "plt.hist(trips['Motor Torque [Nm]'], bins=30, color='blue', alpha=0.7, edgecolor='black')\n",
    "plt.show()"
   ]
  },
  {
   "cell_type": "markdown",
   "id": "cb9eed63-bfd4-468a-a923-282a830718bc",
   "metadata": {
    "jp-MarkdownHeadingCollapsed": true
   },
   "source": [
    "### Throttle"
   ]
  },
  {
   "cell_type": "code",
   "execution_count": 54,
   "id": "992dc26d-6380-4c29-8827-58f90335d015",
   "metadata": {},
   "outputs": [
    {
     "data": {
      "text/html": [
       "<div>\n",
       "<style scoped>\n",
       "    .dataframe tbody tr th:only-of-type {\n",
       "        vertical-align: middle;\n",
       "    }\n",
       "\n",
       "    .dataframe tbody tr th {\n",
       "        vertical-align: top;\n",
       "    }\n",
       "\n",
       "    .dataframe thead th {\n",
       "        text-align: right;\n",
       "    }\n",
       "</style>\n",
       "<table border=\"1\" class=\"dataframe\">\n",
       "  <thead>\n",
       "    <tr style=\"text-align: right;\">\n",
       "      <th></th>\n",
       "      <th>Ambient Temperature [°C]</th>\n",
       "      <th>Cabin Temperature Sensor [°C]</th>\n",
       "      <th>Heat Exchanger Temperature [°C]</th>\n",
       "      <th>Longitudinal Acceleration [m/s^2]</th>\n",
       "      <th>Throttle [%]</th>\n",
       "      <th>Velocity [km/h]</th>\n",
       "      <th>Motor Torque [Nm]</th>\n",
       "      <th>Time [s]</th>\n",
       "      <th>Trip</th>\n",
       "    </tr>\n",
       "  </thead>\n",
       "  <tbody>\n",
       "    <tr>\n",
       "      <th>0</th>\n",
       "      <td>25.5</td>\n",
       "      <td>24.5</td>\n",
       "      <td>30.5</td>\n",
       "      <td>-0.03</td>\n",
       "      <td>0.0</td>\n",
       "      <td>0.0</td>\n",
       "      <td>0.0</td>\n",
       "      <td>0.0</td>\n",
       "      <td>TripA01</td>\n",
       "    </tr>\n",
       "    <tr>\n",
       "      <th>1</th>\n",
       "      <td>25.5</td>\n",
       "      <td>24.5</td>\n",
       "      <td>30.5</td>\n",
       "      <td>0.00</td>\n",
       "      <td>0.0</td>\n",
       "      <td>0.0</td>\n",
       "      <td>0.0</td>\n",
       "      <td>0.1</td>\n",
       "      <td>TripA01</td>\n",
       "    </tr>\n",
       "    <tr>\n",
       "      <th>2</th>\n",
       "      <td>25.5</td>\n",
       "      <td>24.5</td>\n",
       "      <td>30.5</td>\n",
       "      <td>-0.01</td>\n",
       "      <td>0.0</td>\n",
       "      <td>0.0</td>\n",
       "      <td>0.0</td>\n",
       "      <td>0.2</td>\n",
       "      <td>TripA01</td>\n",
       "    </tr>\n",
       "    <tr>\n",
       "      <th>3</th>\n",
       "      <td>25.5</td>\n",
       "      <td>24.5</td>\n",
       "      <td>30.5</td>\n",
       "      <td>-0.03</td>\n",
       "      <td>0.0</td>\n",
       "      <td>0.0</td>\n",
       "      <td>0.0</td>\n",
       "      <td>0.3</td>\n",
       "      <td>TripA01</td>\n",
       "    </tr>\n",
       "    <tr>\n",
       "      <th>4</th>\n",
       "      <td>25.5</td>\n",
       "      <td>24.5</td>\n",
       "      <td>30.5</td>\n",
       "      <td>-0.03</td>\n",
       "      <td>0.0</td>\n",
       "      <td>0.0</td>\n",
       "      <td>0.0</td>\n",
       "      <td>0.4</td>\n",
       "      <td>TripA01</td>\n",
       "    </tr>\n",
       "  </tbody>\n",
       "</table>\n",
       "</div>"
      ],
      "text/plain": [
       "   Ambient Temperature [°C]  Cabin Temperature Sensor [°C]  \\\n",
       "0                      25.5                           24.5   \n",
       "1                      25.5                           24.5   \n",
       "2                      25.5                           24.5   \n",
       "3                      25.5                           24.5   \n",
       "4                      25.5                           24.5   \n",
       "\n",
       "   Heat Exchanger Temperature [°C]  Longitudinal Acceleration [m/s^2]  \\\n",
       "0                             30.5                              -0.03   \n",
       "1                             30.5                               0.00   \n",
       "2                             30.5                              -0.01   \n",
       "3                             30.5                              -0.03   \n",
       "4                             30.5                              -0.03   \n",
       "\n",
       "   Throttle [%]  Velocity [km/h]  Motor Torque [Nm]  Time [s]     Trip  \n",
       "0           0.0              0.0                0.0       0.0  TripA01  \n",
       "1           0.0              0.0                0.0       0.1  TripA01  \n",
       "2           0.0              0.0                0.0       0.2  TripA01  \n",
       "3           0.0              0.0                0.0       0.3  TripA01  \n",
       "4           0.0              0.0                0.0       0.4  TripA01  "
      ]
     },
     "execution_count": 54,
     "metadata": {},
     "output_type": "execute_result"
    }
   ],
   "source": [
    "trips.head()"
   ]
  },
  {
   "cell_type": "code",
   "execution_count": 55,
   "id": "c507bbb7-49c2-435c-aadb-e907e62a808f",
   "metadata": {},
   "outputs": [
    {
     "data": {
      "text/html": [
       "<div>\n",
       "<style scoped>\n",
       "    .dataframe tbody tr th:only-of-type {\n",
       "        vertical-align: middle;\n",
       "    }\n",
       "\n",
       "    .dataframe tbody tr th {\n",
       "        vertical-align: top;\n",
       "    }\n",
       "\n",
       "    .dataframe thead th {\n",
       "        text-align: right;\n",
       "    }\n",
       "</style>\n",
       "<table border=\"1\" class=\"dataframe\">\n",
       "  <thead>\n",
       "    <tr style=\"text-align: right;\">\n",
       "      <th></th>\n",
       "      <th>Ambient Temperature [°C]</th>\n",
       "      <th>Cabin Temperature Sensor [°C]</th>\n",
       "      <th>Heat Exchanger Temperature [°C]</th>\n",
       "      <th>Longitudinal Acceleration [m/s^2]</th>\n",
       "      <th>Velocity [km/h]</th>\n",
       "      <th>Time [s]</th>\n",
       "      <th>Trip</th>\n",
       "      <th>Throttle [%]</th>\n",
       "    </tr>\n",
       "  </thead>\n",
       "  <tbody>\n",
       "    <tr>\n",
       "      <th>0</th>\n",
       "      <td>0.783784</td>\n",
       "      <td>0.485904</td>\n",
       "      <td>0.424646</td>\n",
       "      <td>0.667161</td>\n",
       "      <td>0.0</td>\n",
       "      <td>0.000000</td>\n",
       "      <td>TripA01</td>\n",
       "      <td>0.0</td>\n",
       "    </tr>\n",
       "    <tr>\n",
       "      <th>1</th>\n",
       "      <td>0.783784</td>\n",
       "      <td>0.485904</td>\n",
       "      <td>0.424646</td>\n",
       "      <td>0.669385</td>\n",
       "      <td>0.0</td>\n",
       "      <td>0.000018</td>\n",
       "      <td>TripA01</td>\n",
       "      <td>0.0</td>\n",
       "    </tr>\n",
       "    <tr>\n",
       "      <th>2</th>\n",
       "      <td>0.783784</td>\n",
       "      <td>0.485904</td>\n",
       "      <td>0.424646</td>\n",
       "      <td>0.668643</td>\n",
       "      <td>0.0</td>\n",
       "      <td>0.000036</td>\n",
       "      <td>TripA01</td>\n",
       "      <td>0.0</td>\n",
       "    </tr>\n",
       "    <tr>\n",
       "      <th>3</th>\n",
       "      <td>0.783784</td>\n",
       "      <td>0.485904</td>\n",
       "      <td>0.424646</td>\n",
       "      <td>0.667161</td>\n",
       "      <td>0.0</td>\n",
       "      <td>0.000053</td>\n",
       "      <td>TripA01</td>\n",
       "      <td>0.0</td>\n",
       "    </tr>\n",
       "    <tr>\n",
       "      <th>4</th>\n",
       "      <td>0.783784</td>\n",
       "      <td>0.485904</td>\n",
       "      <td>0.424646</td>\n",
       "      <td>0.667161</td>\n",
       "      <td>0.0</td>\n",
       "      <td>0.000071</td>\n",
       "      <td>TripA01</td>\n",
       "      <td>0.0</td>\n",
       "    </tr>\n",
       "  </tbody>\n",
       "</table>\n",
       "</div>"
      ],
      "text/plain": [
       "   Ambient Temperature [°C]  Cabin Temperature Sensor [°C]  \\\n",
       "0                  0.783784                       0.485904   \n",
       "1                  0.783784                       0.485904   \n",
       "2                  0.783784                       0.485904   \n",
       "3                  0.783784                       0.485904   \n",
       "4                  0.783784                       0.485904   \n",
       "\n",
       "   Heat Exchanger Temperature [°C]  Longitudinal Acceleration [m/s^2]  \\\n",
       "0                         0.424646                           0.667161   \n",
       "1                         0.424646                           0.669385   \n",
       "2                         0.424646                           0.668643   \n",
       "3                         0.424646                           0.667161   \n",
       "4                         0.424646                           0.667161   \n",
       "\n",
       "   Velocity [km/h]  Time [s]     Trip  Throttle [%]  \n",
       "0              0.0  0.000000  TripA01           0.0  \n",
       "1              0.0  0.000018  TripA01           0.0  \n",
       "2              0.0  0.000036  TripA01           0.0  \n",
       "3              0.0  0.000053  TripA01           0.0  \n",
       "4              0.0  0.000071  TripA01           0.0  "
      ]
     },
     "execution_count": 55,
     "metadata": {},
     "output_type": "execute_result"
    }
   ],
   "source": [
    "throttle_scaled_dataset, throttle_X_scaler, throttle_y_scaler = normalize(trips, 'Throttle [%]')\n",
    "throttle_scaled_dataset.head()"
   ]
  },
  {
   "cell_type": "code",
   "execution_count": 56,
   "id": "f5262520-f814-4907-9a04-26d9b2e9becd",
   "metadata": {},
   "outputs": [
    {
     "name": "stdout",
     "output_type": "stream",
     "text": [
      "\n",
      "throttle_X_train: (875810, 7)\n"
     ]
    },
    {
     "data": {
      "text/html": [
       "<div>\n",
       "<style scoped>\n",
       "    .dataframe tbody tr th:only-of-type {\n",
       "        vertical-align: middle;\n",
       "    }\n",
       "\n",
       "    .dataframe tbody tr th {\n",
       "        vertical-align: top;\n",
       "    }\n",
       "\n",
       "    .dataframe thead th {\n",
       "        text-align: right;\n",
       "    }\n",
       "</style>\n",
       "<table border=\"1\" class=\"dataframe\">\n",
       "  <thead>\n",
       "    <tr style=\"text-align: right;\">\n",
       "      <th></th>\n",
       "      <th>Ambient Temperature [°C]</th>\n",
       "      <th>Cabin Temperature Sensor [°C]</th>\n",
       "      <th>Heat Exchanger Temperature [°C]</th>\n",
       "      <th>Longitudinal Acceleration [m/s^2]</th>\n",
       "      <th>Velocity [km/h]</th>\n",
       "      <th>Time [s]</th>\n",
       "      <th>Trip</th>\n",
       "    </tr>\n",
       "  </thead>\n",
       "  <tbody>\n",
       "    <tr>\n",
       "      <th>0</th>\n",
       "      <td>0.783784</td>\n",
       "      <td>0.485904</td>\n",
       "      <td>0.424646</td>\n",
       "      <td>0.667161</td>\n",
       "      <td>0.0</td>\n",
       "      <td>0.000000</td>\n",
       "      <td>TripA01</td>\n",
       "    </tr>\n",
       "    <tr>\n",
       "      <th>1</th>\n",
       "      <td>0.783784</td>\n",
       "      <td>0.485904</td>\n",
       "      <td>0.424646</td>\n",
       "      <td>0.669385</td>\n",
       "      <td>0.0</td>\n",
       "      <td>0.000018</td>\n",
       "      <td>TripA01</td>\n",
       "    </tr>\n",
       "    <tr>\n",
       "      <th>2</th>\n",
       "      <td>0.783784</td>\n",
       "      <td>0.485904</td>\n",
       "      <td>0.424646</td>\n",
       "      <td>0.668643</td>\n",
       "      <td>0.0</td>\n",
       "      <td>0.000036</td>\n",
       "      <td>TripA01</td>\n",
       "    </tr>\n",
       "    <tr>\n",
       "      <th>3</th>\n",
       "      <td>0.783784</td>\n",
       "      <td>0.485904</td>\n",
       "      <td>0.424646</td>\n",
       "      <td>0.667161</td>\n",
       "      <td>0.0</td>\n",
       "      <td>0.000053</td>\n",
       "      <td>TripA01</td>\n",
       "    </tr>\n",
       "    <tr>\n",
       "      <th>4</th>\n",
       "      <td>0.783784</td>\n",
       "      <td>0.485904</td>\n",
       "      <td>0.424646</td>\n",
       "      <td>0.667161</td>\n",
       "      <td>0.0</td>\n",
       "      <td>0.000071</td>\n",
       "      <td>TripA01</td>\n",
       "    </tr>\n",
       "  </tbody>\n",
       "</table>\n",
       "</div>"
      ],
      "text/plain": [
       "   Ambient Temperature [°C]  Cabin Temperature Sensor [°C]  \\\n",
       "0                  0.783784                       0.485904   \n",
       "1                  0.783784                       0.485904   \n",
       "2                  0.783784                       0.485904   \n",
       "3                  0.783784                       0.485904   \n",
       "4                  0.783784                       0.485904   \n",
       "\n",
       "   Heat Exchanger Temperature [°C]  Longitudinal Acceleration [m/s^2]  \\\n",
       "0                         0.424646                           0.667161   \n",
       "1                         0.424646                           0.669385   \n",
       "2                         0.424646                           0.668643   \n",
       "3                         0.424646                           0.667161   \n",
       "4                         0.424646                           0.667161   \n",
       "\n",
       "   Velocity [km/h]  Time [s]     Trip  \n",
       "0              0.0  0.000000  TripA01  \n",
       "1              0.0  0.000018  TripA01  \n",
       "2              0.0  0.000036  TripA01  \n",
       "3              0.0  0.000053  TripA01  \n",
       "4              0.0  0.000071  TripA01  "
      ]
     },
     "metadata": {},
     "output_type": "display_data"
    },
    {
     "name": "stdout",
     "output_type": "stream",
     "text": [
      "\n",
      "throttle_X_test: (218983, 7)\n"
     ]
    },
    {
     "data": {
      "text/html": [
       "<div>\n",
       "<style scoped>\n",
       "    .dataframe tbody tr th:only-of-type {\n",
       "        vertical-align: middle;\n",
       "    }\n",
       "\n",
       "    .dataframe tbody tr th {\n",
       "        vertical-align: top;\n",
       "    }\n",
       "\n",
       "    .dataframe thead th {\n",
       "        text-align: right;\n",
       "    }\n",
       "</style>\n",
       "<table border=\"1\" class=\"dataframe\">\n",
       "  <thead>\n",
       "    <tr style=\"text-align: right;\">\n",
       "      <th></th>\n",
       "      <th>Ambient Temperature [°C]</th>\n",
       "      <th>Cabin Temperature Sensor [°C]</th>\n",
       "      <th>Heat Exchanger Temperature [°C]</th>\n",
       "      <th>Longitudinal Acceleration [m/s^2]</th>\n",
       "      <th>Velocity [km/h]</th>\n",
       "      <th>Time [s]</th>\n",
       "      <th>Trip</th>\n",
       "    </tr>\n",
       "  </thead>\n",
       "  <tbody>\n",
       "    <tr>\n",
       "      <th>8072</th>\n",
       "      <td>0.959459</td>\n",
       "      <td>0.413521</td>\n",
       "      <td>0.0</td>\n",
       "      <td>0.676798</td>\n",
       "      <td>0.001773</td>\n",
       "      <td>0.143883</td>\n",
       "      <td>TripA01</td>\n",
       "    </tr>\n",
       "    <tr>\n",
       "      <th>8073</th>\n",
       "      <td>0.959459</td>\n",
       "      <td>0.413521</td>\n",
       "      <td>0.0</td>\n",
       "      <td>0.633803</td>\n",
       "      <td>0.001314</td>\n",
       "      <td>0.143901</td>\n",
       "      <td>TripA01</td>\n",
       "    </tr>\n",
       "    <tr>\n",
       "      <th>8074</th>\n",
       "      <td>0.959459</td>\n",
       "      <td>0.413521</td>\n",
       "      <td>0.0</td>\n",
       "      <td>0.624166</td>\n",
       "      <td>0.001117</td>\n",
       "      <td>0.143919</td>\n",
       "      <td>TripA01</td>\n",
       "    </tr>\n",
       "    <tr>\n",
       "      <th>8075</th>\n",
       "      <td>0.959459</td>\n",
       "      <td>0.413521</td>\n",
       "      <td>0.0</td>\n",
       "      <td>0.643440</td>\n",
       "      <td>0.000854</td>\n",
       "      <td>0.143937</td>\n",
       "      <td>TripA01</td>\n",
       "    </tr>\n",
       "    <tr>\n",
       "      <th>8076</th>\n",
       "      <td>0.959459</td>\n",
       "      <td>0.413521</td>\n",
       "      <td>0.0</td>\n",
       "      <td>0.642698</td>\n",
       "      <td>0.000722</td>\n",
       "      <td>0.143955</td>\n",
       "      <td>TripA01</td>\n",
       "    </tr>\n",
       "  </tbody>\n",
       "</table>\n",
       "</div>"
      ],
      "text/plain": [
       "      Ambient Temperature [°C]  Cabin Temperature Sensor [°C]  \\\n",
       "8072                  0.959459                       0.413521   \n",
       "8073                  0.959459                       0.413521   \n",
       "8074                  0.959459                       0.413521   \n",
       "8075                  0.959459                       0.413521   \n",
       "8076                  0.959459                       0.413521   \n",
       "\n",
       "      Heat Exchanger Temperature [°C]  Longitudinal Acceleration [m/s^2]  \\\n",
       "8072                              0.0                           0.676798   \n",
       "8073                              0.0                           0.633803   \n",
       "8074                              0.0                           0.624166   \n",
       "8075                              0.0                           0.643440   \n",
       "8076                              0.0                           0.642698   \n",
       "\n",
       "      Velocity [km/h]  Time [s]     Trip  \n",
       "8072         0.001773  0.143883  TripA01  \n",
       "8073         0.001314  0.143901  TripA01  \n",
       "8074         0.001117  0.143919  TripA01  \n",
       "8075         0.000854  0.143937  TripA01  \n",
       "8076         0.000722  0.143955  TripA01  "
      ]
     },
     "metadata": {},
     "output_type": "display_data"
    },
    {
     "name": "stdout",
     "output_type": "stream",
     "text": [
      "\n",
      "throttle_y_train: (875810,)\n"
     ]
    },
    {
     "data": {
      "text/plain": [
       "0    0.0\n",
       "1    0.0\n",
       "2    0.0\n",
       "3    0.0\n",
       "4    0.0\n",
       "Name: Throttle [%], dtype: float64"
      ]
     },
     "metadata": {},
     "output_type": "display_data"
    },
    {
     "name": "stdout",
     "output_type": "stream",
     "text": [
      "\n",
      "throttle_y_test: (218983,)\n"
     ]
    },
    {
     "data": {
      "text/plain": [
       "8072    0.0\n",
       "8073    0.0\n",
       "8074    0.0\n",
       "8075    0.0\n",
       "8076    0.0\n",
       "Name: Throttle [%], dtype: float64"
      ]
     },
     "metadata": {},
     "output_type": "display_data"
    }
   ],
   "source": [
    "throttle_X_train, throttle_X_test, throttle_y_train, throttle_y_test = time_series_train_test_split(throttle_scaled_dataset, 'Throttle [%]')\n",
    "print(f\"\\nthrottle_X_train: {throttle_X_train.shape}\")\n",
    "display(throttle_X_train.head())\n",
    "\n",
    "print(f\"\\nthrottle_X_test: {throttle_X_test.shape}\")\n",
    "display(throttle_X_test.head())\n",
    "\n",
    "print(f\"\\nthrottle_y_train: {throttle_y_train.shape}\")\n",
    "display(throttle_y_train.head())\n",
    "\n",
    "print(f\"\\nthrottle_y_test: {throttle_y_test.shape}\")\n",
    "display(throttle_y_test.head())"
   ]
  },
  {
   "cell_type": "code",
   "execution_count": 57,
   "id": "79d8da77-4fe9-4f02-af95-3daa08c6ef0d",
   "metadata": {},
   "outputs": [
    {
     "name": "stdout",
     "output_type": "stream",
     "text": [
      "TRAIN:\n",
      "throttle_X_train_seq (875179, 10, 6)\n",
      "throttle_y_train_seq (875179,)\n",
      "\n",
      "TEST:\n",
      "throttle_X_test_seq (218352, 10, 6)\n",
      "throttle_y_test_seq (218352,)\n"
     ]
    }
   ],
   "source": [
    "throttle_X_train_seq, throttle_y_train_seq = create_seq(throttle_X_train, throttle_y_train.values, window_size=WINDOW_SIZE)\n",
    "throttle_X_test_seq, throttle_y_test_seq = create_seq(throttle_X_test, throttle_y_test.values, window_size=WINDOW_SIZE)\n",
    "\n",
    "print(\"TRAIN:\")\n",
    "print(f\"throttle_X_train_seq {throttle_X_train_seq.shape}\")\n",
    "print(f\"throttle_y_train_seq {throttle_y_train_seq.shape}\")\n",
    "print(\"\\nTEST:\")\n",
    "print(f\"throttle_X_test_seq {throttle_X_test_seq.shape}\")\n",
    "print(f\"throttle_y_test_seq {throttle_y_test_seq.shape}\")"
   ]
  },
  {
   "cell_type": "code",
   "execution_count": 58,
   "id": "331b9893-3e3a-4472-be2b-2f72570263a7",
   "metadata": {},
   "outputs": [
    {
     "name": "stdout",
     "output_type": "stream",
     "text": [
      "Epoch 1/5\n",
      "\u001b[1m43759/43759\u001b[0m \u001b[32m━━━━━━━━━━━━━━━━━━━━\u001b[0m\u001b[37m\u001b[0m \u001b[1m47s\u001b[0m 1ms/step - loss: 0.0045 - mae: 0.0451 - val_loss: 0.0134 - val_mae: 0.0575\n",
      "Epoch 2/5\n",
      "\u001b[1m43759/43759\u001b[0m \u001b[32m━━━━━━━━━━━━━━━━━━━━\u001b[0m\u001b[37m\u001b[0m \u001b[1m47s\u001b[0m 1ms/step - loss: 0.0024 - mae: 0.0300 - val_loss: 0.0056 - val_mae: 0.0395\n",
      "Epoch 3/5\n",
      "\u001b[1m43759/43759\u001b[0m \u001b[32m━━━━━━━━━━━━━━━━━━━━\u001b[0m\u001b[37m\u001b[0m \u001b[1m49s\u001b[0m 1ms/step - loss: 0.0020 - mae: 0.0273 - val_loss: 0.0039 - val_mae: 0.0394\n",
      "Epoch 4/5\n",
      "\u001b[1m43759/43759\u001b[0m \u001b[32m━━━━━━━━━━━━━━━━━━━━\u001b[0m\u001b[37m\u001b[0m \u001b[1m49s\u001b[0m 1ms/step - loss: 0.0019 - mae: 0.0259 - val_loss: 0.0057 - val_mae: 0.0406\n",
      "Epoch 5/5\n",
      "\u001b[1m43759/43759\u001b[0m \u001b[32m━━━━━━━━━━━━━━━━━━━━\u001b[0m\u001b[37m\u001b[0m \u001b[1m49s\u001b[0m 1ms/step - loss: 0.0017 - mae: 0.0248 - val_loss: 0.0080 - val_mae: 0.0481\n",
      "\u001b[1m5470/5470\u001b[0m \u001b[32m━━━━━━━━━━━━━━━━━━━━\u001b[0m\u001b[37m\u001b[0m \u001b[1m3s\u001b[0m 500us/step - loss: 0.0025 - mae: 0.0287\n",
      "MAE: 0.04810197, Loss: 0.00801902\n"
     ]
    },
    {
     "data": {
      "text/html": [
       "<pre style=\"white-space:pre;overflow-x:auto;line-height:normal;font-family:Menlo,'DejaVu Sans Mono',consolas,'Courier New',monospace\"><span style=\"font-weight: bold\">Model: \"sequential_3\"</span>\n",
       "</pre>\n"
      ],
      "text/plain": [
       "\u001b[1mModel: \"sequential_3\"\u001b[0m\n"
      ]
     },
     "metadata": {},
     "output_type": "display_data"
    },
    {
     "data": {
      "text/html": [
       "<pre style=\"white-space:pre;overflow-x:auto;line-height:normal;font-family:Menlo,'DejaVu Sans Mono',consolas,'Courier New',monospace\">┏━━━━━━━━━━━━━━━━━━━━━━━━━━━━━━━━━┳━━━━━━━━━━━━━━━━━━━━━━━━┳━━━━━━━━━━━━━━━┓\n",
       "┃<span style=\"font-weight: bold\"> Layer (type)                    </span>┃<span style=\"font-weight: bold\"> Output Shape           </span>┃<span style=\"font-weight: bold\">       Param # </span>┃\n",
       "┡━━━━━━━━━━━━━━━━━━━━━━━━━━━━━━━━━╇━━━━━━━━━━━━━━━━━━━━━━━━╇━━━━━━━━━━━━━━━┩\n",
       "│ lstm_3 (<span style=\"color: #0087ff; text-decoration-color: #0087ff\">LSTM</span>)                   │ (<span style=\"color: #00d7ff; text-decoration-color: #00d7ff\">None</span>, <span style=\"color: #00af00; text-decoration-color: #00af00\">32</span>)             │         <span style=\"color: #00af00; text-decoration-color: #00af00\">4,992</span> │\n",
       "├─────────────────────────────────┼────────────────────────┼───────────────┤\n",
       "│ dense_6 (<span style=\"color: #0087ff; text-decoration-color: #0087ff\">Dense</span>)                 │ (<span style=\"color: #00d7ff; text-decoration-color: #00d7ff\">None</span>, <span style=\"color: #00af00; text-decoration-color: #00af00\">32</span>)             │         <span style=\"color: #00af00; text-decoration-color: #00af00\">1,056</span> │\n",
       "├─────────────────────────────────┼────────────────────────┼───────────────┤\n",
       "│ dense_7 (<span style=\"color: #0087ff; text-decoration-color: #0087ff\">Dense</span>)                 │ (<span style=\"color: #00d7ff; text-decoration-color: #00d7ff\">None</span>, <span style=\"color: #00af00; text-decoration-color: #00af00\">1</span>)              │            <span style=\"color: #00af00; text-decoration-color: #00af00\">33</span> │\n",
       "└─────────────────────────────────┴────────────────────────┴───────────────┘\n",
       "</pre>\n"
      ],
      "text/plain": [
       "┏━━━━━━━━━━━━━━━━━━━━━━━━━━━━━━━━━┳━━━━━━━━━━━━━━━━━━━━━━━━┳━━━━━━━━━━━━━━━┓\n",
       "┃\u001b[1m \u001b[0m\u001b[1mLayer (type)                   \u001b[0m\u001b[1m \u001b[0m┃\u001b[1m \u001b[0m\u001b[1mOutput Shape          \u001b[0m\u001b[1m \u001b[0m┃\u001b[1m \u001b[0m\u001b[1m      Param #\u001b[0m\u001b[1m \u001b[0m┃\n",
       "┡━━━━━━━━━━━━━━━━━━━━━━━━━━━━━━━━━╇━━━━━━━━━━━━━━━━━━━━━━━━╇━━━━━━━━━━━━━━━┩\n",
       "│ lstm_3 (\u001b[38;5;33mLSTM\u001b[0m)                   │ (\u001b[38;5;45mNone\u001b[0m, \u001b[38;5;34m32\u001b[0m)             │         \u001b[38;5;34m4,992\u001b[0m │\n",
       "├─────────────────────────────────┼────────────────────────┼───────────────┤\n",
       "│ dense_6 (\u001b[38;5;33mDense\u001b[0m)                 │ (\u001b[38;5;45mNone\u001b[0m, \u001b[38;5;34m32\u001b[0m)             │         \u001b[38;5;34m1,056\u001b[0m │\n",
       "├─────────────────────────────────┼────────────────────────┼───────────────┤\n",
       "│ dense_7 (\u001b[38;5;33mDense\u001b[0m)                 │ (\u001b[38;5;45mNone\u001b[0m, \u001b[38;5;34m1\u001b[0m)              │            \u001b[38;5;34m33\u001b[0m │\n",
       "└─────────────────────────────────┴────────────────────────┴───────────────┘\n"
      ]
     },
     "metadata": {},
     "output_type": "display_data"
    },
    {
     "data": {
      "text/html": [
       "<pre style=\"white-space:pre;overflow-x:auto;line-height:normal;font-family:Menlo,'DejaVu Sans Mono',consolas,'Courier New',monospace\"><span style=\"font-weight: bold\"> Total params: </span><span style=\"color: #00af00; text-decoration-color: #00af00\">18,245</span> (71.27 KB)\n",
       "</pre>\n"
      ],
      "text/plain": [
       "\u001b[1m Total params: \u001b[0m\u001b[38;5;34m18,245\u001b[0m (71.27 KB)\n"
      ]
     },
     "metadata": {},
     "output_type": "display_data"
    },
    {
     "data": {
      "text/html": [
       "<pre style=\"white-space:pre;overflow-x:auto;line-height:normal;font-family:Menlo,'DejaVu Sans Mono',consolas,'Courier New',monospace\"><span style=\"font-weight: bold\"> Trainable params: </span><span style=\"color: #00af00; text-decoration-color: #00af00\">6,081</span> (23.75 KB)\n",
       "</pre>\n"
      ],
      "text/plain": [
       "\u001b[1m Trainable params: \u001b[0m\u001b[38;5;34m6,081\u001b[0m (23.75 KB)\n"
      ]
     },
     "metadata": {},
     "output_type": "display_data"
    },
    {
     "data": {
      "text/html": [
       "<pre style=\"white-space:pre;overflow-x:auto;line-height:normal;font-family:Menlo,'DejaVu Sans Mono',consolas,'Courier New',monospace\"><span style=\"font-weight: bold\"> Non-trainable params: </span><span style=\"color: #00af00; text-decoration-color: #00af00\">0</span> (0.00 B)\n",
       "</pre>\n"
      ],
      "text/plain": [
       "\u001b[1m Non-trainable params: \u001b[0m\u001b[38;5;34m0\u001b[0m (0.00 B)\n"
      ]
     },
     "metadata": {},
     "output_type": "display_data"
    },
    {
     "data": {
      "text/html": [
       "<pre style=\"white-space:pre;overflow-x:auto;line-height:normal;font-family:Menlo,'DejaVu Sans Mono',consolas,'Courier New',monospace\"><span style=\"font-weight: bold\"> Optimizer params: </span><span style=\"color: #00af00; text-decoration-color: #00af00\">12,164</span> (47.52 KB)\n",
       "</pre>\n"
      ],
      "text/plain": [
       "\u001b[1m Optimizer params: \u001b[0m\u001b[38;5;34m12,164\u001b[0m (47.52 KB)\n"
      ]
     },
     "metadata": {},
     "output_type": "display_data"
    },
    {
     "data": {
      "image/png": "[encoded data removed]",
      "text/plain": [
       "<Figure size 864x360 with 1 Axes>"
      ]
     },
     "metadata": {
      "needs_background": "light"
     },
     "output_type": "display_data"
    }
   ],
   "source": [
    "throttle_model = LSTM_model(throttle_X_train_seq, throttle_y_train_seq, train_size=0.8, epochs=5)\n",
    "throttle_model.summary()"
   ]
  },
  {
   "cell_type": "code",
   "execution_count": 64,
   "id": "e6a2365f-da3f-41b4-8f0c-d23dfc5c9713",
   "metadata": {},
   "outputs": [
    {
     "name": "stdout",
     "output_type": "stream",
     "text": [
      "\u001b[1m6824/6824\u001b[0m \u001b[32m━━━━━━━━━━━━━━━━━━━━\u001b[0m\u001b[37m\u001b[0m \u001b[1m3s\u001b[0m 477us/step\n"
     ]
    },
    {
     "data": {
      "image/png": "[encoded data removed]",
      "text/plain": [
       "<Figure size 432x288 with 1 Axes>"
      ]
     },
     "metadata": {
      "needs_background": "light"
     },
     "output_type": "display_data"
    }
   ],
   "source": [
    "throttle_y_pred_seq = throttle_model.predict(throttle_X_test_seq)\n",
    "\n",
    "plot_error_histogram(\n",
    "    throttle_y_scaler.inverse_transform(throttle_y_pred_seq), \n",
    "    throttle_y_scaler.inverse_transform(throttle_y_test_seq.reshape(len(throttle_y_test_seq), 1)),\n",
    "    bins=50,\n",
    "    color='red'\n",
    ")"
   ]
  },
  {
   "cell_type": "code",
   "execution_count": 65,
   "id": "a881793d-a569-486f-9f0d-5c0c8b857d30",
   "metadata": {},
   "outputs": [
    {
     "data": {
      "image/png": "[encoded data removed]",
      "text/plain": [
       "<Figure size 432x288 with 1 Axes>"
      ]
     },
     "metadata": {
      "needs_background": "light"
     },
     "output_type": "display_data"
    }
   ],
   "source": [
    "plt.hist(trips['Throttle [%]'], bins=30, color='red', alpha=0.7, edgecolor='black')\n",
    "plt.show()"
   ]
  },
  {
   "cell_type": "markdown",
   "id": "9037ee3f-c51a-4c3b-9097-48e0db08b8e0",
   "metadata": {
    "jp-MarkdownHeadingCollapsed": true
   },
   "source": [
    "### Timeline"
   ]
  },
  {
   "cell_type": "code",
   "execution_count": 119,
   "id": "61ef7936-319e-4bf4-b3ed-1566350eef17",
   "metadata": {},
   "outputs": [
    {
     "data": {
      "image/png": "[encoded data removed]",
      "text/plain": [
       "<Figure size 1800x288 with 1 Axes>"
      ]
     },
     "metadata": {
      "needs_background": "light"
     },
     "output_type": "display_data"
    }
   ],
   "source": [
    "plt.figure(figsize=(25, 4))\n",
    "plt.plot(\n",
    "    torque_scaled_dataset[torque_scaled_dataset['Trip'] == 'TripA01']['Time [s]'], \n",
    "    torque_y_scaler.inverse_transform(torque_scaled_dataset[torque_scaled_dataset['Trip'] == 'TripA01']['Motor Torque [Nm]'].values.reshape(-1, 1)), \n",
    "    label='Torque',\n",
    "    color='blue'\n",
    ")\n",
    "\n",
    "total_trip_size = len(torque_scaled_dataset[torque_scaled_dataset['Trip'] == 'TripA01']['Time [s]'])\n",
    "size = int(total_trip_size*0.8)\n",
    "plt.plot(\n",
    "    torque_scaled_dataset[torque_scaled_dataset['Trip'] == 'TripA01']['Time [s]'].iloc[size:],\n",
    "    torque_y_scaler.inverse_transform(torque_y_pred_seq)[size:total_trip_size],\n",
    "    label='Previsto',\n",
    "    color='green',\n",
    "    alpha=0.6\n",
    ")\n",
    "\n",
    "plt.xlabel('Tempo')\n",
    "plt.ylabel('Torque')\n",
    "plt.title('Timeline Torque ao Longo do Tempo para a TripA01')\n",
    "plt.grid(True)\n",
    "plt.tight_layout()\n",
    "plt.legend()\n",
    "plt.show()"
   ]
  },
  {
   "cell_type": "code",
   "execution_count": null,
   "id": "c8d505a7-e3bb-4c9c-a577-9b7f745ce81a",
   "metadata": {},
   "outputs": [],
   "source": [
    "plt.figure(figsize=(25, 4))\n",
    "plt.plot(\n",
    "    throttle_scaled_dataset[throttle_scaled_dataset['Trip'] == 'TripA01']['Time [s]'], \n",
    "    throttle_y_scaler.inverse_transform(throttle_scaled_dataset[throttle_scaled_dataset['Trip'] == 'TripA01']['Throttle [%]'].values.reshape(-1, 1)), \n",
    "    label='Throttle',\n",
    "    color='blue'\n",
    ")\n",
    "\n",
    "total_trip_size = len(throttle_scaled_dataset[throttle_scaled_dataset['Trip'] == 'TripA01']['Time [s]'])\n",
    "size = int(total_trip_size*0.8)\n",
    "plt.plot(\n",
    "    throttle_scaled_dataset[throttle_scaled_dataset['Trip'] == 'TripA01']['Time [s]'].iloc[size:],\n",
    "    throttle_y_scaler.inverse_transform(throttle_y_pred_seq)[size:total_trip_size],\n",
    "    label='Previsto',\n",
    "    color='red',\n",
    "    alpha=0.6\n",
    ")\n",
    "\n",
    "plt.xlabel('Tempo')\n",
    "plt.ylabel('Throttle')\n",
    "plt.title('Timeline Throttle ao Longo do Tempo para a TripA01')\n",
    "plt.grid(True)\n",
    "plt.tight_layout()\n",
    "plt.legend()\n",
    "plt.show()"
   ]
  }
 ],
 "metadata": {
  "kernelspec": {
   "display_name": "Python 3 (ipykernel)",
   "language": "python",
   "name": "python3"
  },
  "language_info": {
   "codemirror_mode": {
    "name": "ipython",
    "version": 3
   },
   "file_extension": ".py",
   "mimetype": "text/x-python",
   "name": "python",
   "nbconvert_exporter": "python",
   "pygments_lexer": "ipython3",
   "version": "3.10.12"
  }
 },
 "nbformat": 4,
 "nbformat_minor": 5
}
