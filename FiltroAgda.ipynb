{
 "cells": [
  {
   "cell_type": "code",
   "execution_count": 1,
   "id": "d2ded22a-8167-4664-9dd0-924f5f8f97fb",
   "metadata": {},
   "outputs": [],
   "source": [
    "import pandas as pd\n",
    "import glob\n",
    "import os"
   ]
  },
  {
   "cell_type": "code",
   "execution_count": 2,
   "id": "02c13462-d912-4653-a5fb-78fdeeee4a67",
   "metadata": {},
   "outputs": [
    {
     "name": "stdout",
     "output_type": "stream",
     "text": [
      "./eVED/eVED_171101_week.csv\n"
     ]
    },
    {
     "name": "stderr",
     "output_type": "stream",
     "text": [
      "/tmp/ipykernel_36741/4215241819.py:8: DtypeWarning: Columns (30) have mixed types. Specify dtype option on import or set low_memory=False.\n",
      "  dataframes.append(pd.read_csv(filename))\n"
     ]
    },
    {
     "name": "stdout",
     "output_type": "stream",
     "text": [
      "./eVED/eVED_171108_week.csv\n"
     ]
    },
    {
     "name": "stderr",
     "output_type": "stream",
     "text": [
      "/tmp/ipykernel_36741/4215241819.py:8: DtypeWarning: Columns (30) have mixed types. Specify dtype option on import or set low_memory=False.\n",
      "  dataframes.append(pd.read_csv(filename))\n"
     ]
    },
    {
     "name": "stdout",
     "output_type": "stream",
     "text": [
      "./eVED/eVED_171115_week.csv\n"
     ]
    },
    {
     "name": "stderr",
     "output_type": "stream",
     "text": [
      "/tmp/ipykernel_36741/4215241819.py:8: DtypeWarning: Columns (30) have mixed types. Specify dtype option on import or set low_memory=False.\n",
      "  dataframes.append(pd.read_csv(filename))\n"
     ]
    },
    {
     "name": "stdout",
     "output_type": "stream",
     "text": [
      "./eVED/eVED_171122_week.csv\n"
     ]
    },
    {
     "name": "stderr",
     "output_type": "stream",
     "text": [
      "/tmp/ipykernel_36741/4215241819.py:8: DtypeWarning: Columns (30) have mixed types. Specify dtype option on import or set low_memory=False.\n",
      "  dataframes.append(pd.read_csv(filename))\n"
     ]
    },
    {
     "name": "stdout",
     "output_type": "stream",
     "text": [
      "./eVED/eVED_171129_week.csv\n"
     ]
    },
    {
     "name": "stderr",
     "output_type": "stream",
     "text": [
      "/tmp/ipykernel_36741/4215241819.py:8: DtypeWarning: Columns (30) have mixed types. Specify dtype option on import or set low_memory=False.\n",
      "  dataframes.append(pd.read_csv(filename))\n"
     ]
    },
    {
     "name": "stdout",
     "output_type": "stream",
     "text": [
      "./eVED/eVED_171206_week.csv\n"
     ]
    },
    {
     "name": "stderr",
     "output_type": "stream",
     "text": [
      "/tmp/ipykernel_36741/4215241819.py:8: DtypeWarning: Columns (30) have mixed types. Specify dtype option on import or set low_memory=False.\n",
      "  dataframes.append(pd.read_csv(filename))\n"
     ]
    },
    {
     "name": "stdout",
     "output_type": "stream",
     "text": [
      "./eVED/eVED_171213_week.csv\n"
     ]
    },
    {
     "name": "stderr",
     "output_type": "stream",
     "text": [
      "/tmp/ipykernel_36741/4215241819.py:8: DtypeWarning: Columns (30) have mixed types. Specify dtype option on import or set low_memory=False.\n",
      "  dataframes.append(pd.read_csv(filename))\n"
     ]
    },
    {
     "name": "stdout",
     "output_type": "stream",
     "text": [
      "./eVED/eVED_171220_week.csv\n"
     ]
    },
    {
     "name": "stderr",
     "output_type": "stream",
     "text": [
      "/tmp/ipykernel_36741/4215241819.py:8: DtypeWarning: Columns (30) have mixed types. Specify dtype option on import or set low_memory=False.\n",
      "  dataframes.append(pd.read_csv(filename))\n"
     ]
    },
    {
     "name": "stdout",
     "output_type": "stream",
     "text": [
      "./eVED/eVED_171227_week.csv\n"
     ]
    },
    {
     "name": "stderr",
     "output_type": "stream",
     "text": [
      "/tmp/ipykernel_36741/4215241819.py:8: DtypeWarning: Columns (30) have mixed types. Specify dtype option on import or set low_memory=False.\n",
      "  dataframes.append(pd.read_csv(filename))\n"
     ]
    },
    {
     "name": "stdout",
     "output_type": "stream",
     "text": [
      "./eVED/eVED_180103_week.csv\n"
     ]
    },
    {
     "name": "stderr",
     "output_type": "stream",
     "text": [
      "/tmp/ipykernel_36741/4215241819.py:8: DtypeWarning: Columns (30) have mixed types. Specify dtype option on import or set low_memory=False.\n",
      "  dataframes.append(pd.read_csv(filename))\n"
     ]
    },
    {
     "name": "stdout",
     "output_type": "stream",
     "text": [
      "./eVED/eVED_180110_week.csv\n"
     ]
    },
    {
     "name": "stderr",
     "output_type": "stream",
     "text": [
      "/tmp/ipykernel_36741/4215241819.py:8: DtypeWarning: Columns (30) have mixed types. Specify dtype option on import or set low_memory=False.\n",
      "  dataframes.append(pd.read_csv(filename))\n"
     ]
    },
    {
     "name": "stdout",
     "output_type": "stream",
     "text": [
      "./eVED/eVED_180117_week.csv\n"
     ]
    },
    {
     "name": "stderr",
     "output_type": "stream",
     "text": [
      "/tmp/ipykernel_36741/4215241819.py:8: DtypeWarning: Columns (30) have mixed types. Specify dtype option on import or set low_memory=False.\n",
      "  dataframes.append(pd.read_csv(filename))\n"
     ]
    },
    {
     "name": "stdout",
     "output_type": "stream",
     "text": [
      "./eVED/eVED_180124_week.csv\n"
     ]
    },
    {
     "name": "stderr",
     "output_type": "stream",
     "text": [
      "/tmp/ipykernel_36741/4215241819.py:8: DtypeWarning: Columns (30) have mixed types. Specify dtype option on import or set low_memory=False.\n",
      "  dataframes.append(pd.read_csv(filename))\n"
     ]
    },
    {
     "name": "stdout",
     "output_type": "stream",
     "text": [
      "./eVED/eVED_180131_week.csv\n"
     ]
    },
    {
     "name": "stderr",
     "output_type": "stream",
     "text": [
      "/tmp/ipykernel_36741/4215241819.py:8: DtypeWarning: Columns (30) have mixed types. Specify dtype option on import or set low_memory=False.\n",
      "  dataframes.append(pd.read_csv(filename))\n"
     ]
    },
    {
     "name": "stdout",
     "output_type": "stream",
     "text": [
      "./eVED/eVED_180207_week.csv\n"
     ]
    },
    {
     "name": "stderr",
     "output_type": "stream",
     "text": [
      "/tmp/ipykernel_36741/4215241819.py:8: DtypeWarning: Columns (30) have mixed types. Specify dtype option on import or set low_memory=False.\n",
      "  dataframes.append(pd.read_csv(filename))\n"
     ]
    },
    {
     "name": "stdout",
     "output_type": "stream",
     "text": [
      "./eVED/eVED_180214_week.csv\n"
     ]
    },
    {
     "name": "stderr",
     "output_type": "stream",
     "text": [
      "/tmp/ipykernel_36741/4215241819.py:8: DtypeWarning: Columns (30) have mixed types. Specify dtype option on import or set low_memory=False.\n",
      "  dataframes.append(pd.read_csv(filename))\n"
     ]
    },
    {
     "name": "stdout",
     "output_type": "stream",
     "text": [
      "./eVED/eVED_180221_week.csv\n"
     ]
    },
    {
     "name": "stderr",
     "output_type": "stream",
     "text": [
      "/tmp/ipykernel_36741/4215241819.py:8: DtypeWarning: Columns (30) have mixed types. Specify dtype option on import or set low_memory=False.\n",
      "  dataframes.append(pd.read_csv(filename))\n"
     ]
    },
    {
     "name": "stdout",
     "output_type": "stream",
     "text": [
      "./eVED/eVED_180228_week.csv\n"
     ]
    },
    {
     "name": "stderr",
     "output_type": "stream",
     "text": [
      "/tmp/ipykernel_36741/4215241819.py:8: DtypeWarning: Columns (30) have mixed types. Specify dtype option on import or set low_memory=False.\n",
      "  dataframes.append(pd.read_csv(filename))\n"
     ]
    },
    {
     "name": "stdout",
     "output_type": "stream",
     "text": [
      "./eVED/eVED_180307_week.csv\n"
     ]
    },
    {
     "name": "stderr",
     "output_type": "stream",
     "text": [
      "/tmp/ipykernel_36741/4215241819.py:8: DtypeWarning: Columns (30) have mixed types. Specify dtype option on import or set low_memory=False.\n",
      "  dataframes.append(pd.read_csv(filename))\n"
     ]
    },
    {
     "name": "stdout",
     "output_type": "stream",
     "text": [
      "./eVED/eVED_180314_week.csv\n"
     ]
    },
    {
     "name": "stderr",
     "output_type": "stream",
     "text": [
      "/tmp/ipykernel_36741/4215241819.py:8: DtypeWarning: Columns (30) have mixed types. Specify dtype option on import or set low_memory=False.\n",
      "  dataframes.append(pd.read_csv(filename))\n"
     ]
    },
    {
     "name": "stdout",
     "output_type": "stream",
     "text": [
      "./eVED/eVED_180321_week.csv\n"
     ]
    },
    {
     "name": "stderr",
     "output_type": "stream",
     "text": [
      "/tmp/ipykernel_36741/4215241819.py:8: DtypeWarning: Columns (30) have mixed types. Specify dtype option on import or set low_memory=False.\n",
      "  dataframes.append(pd.read_csv(filename))\n"
     ]
    },
    {
     "name": "stdout",
     "output_type": "stream",
     "text": [
      "./eVED/eVED_180328_week.csv\n"
     ]
    },
    {
     "name": "stderr",
     "output_type": "stream",
     "text": [
      "/tmp/ipykernel_36741/4215241819.py:8: DtypeWarning: Columns (30) have mixed types. Specify dtype option on import or set low_memory=False.\n",
      "  dataframes.append(pd.read_csv(filename))\n"
     ]
    },
    {
     "name": "stdout",
     "output_type": "stream",
     "text": [
      "./eVED/eVED_180404_week.csv\n"
     ]
    },
    {
     "name": "stderr",
     "output_type": "stream",
     "text": [
      "/tmp/ipykernel_36741/4215241819.py:8: DtypeWarning: Columns (30) have mixed types. Specify dtype option on import or set low_memory=False.\n",
      "  dataframes.append(pd.read_csv(filename))\n"
     ]
    },
    {
     "name": "stdout",
     "output_type": "stream",
     "text": [
      "./eVED/eVED_180411_week.csv\n"
     ]
    },
    {
     "name": "stderr",
     "output_type": "stream",
     "text": [
      "/tmp/ipykernel_36741/4215241819.py:8: DtypeWarning: Columns (30) have mixed types. Specify dtype option on import or set low_memory=False.\n",
      "  dataframes.append(pd.read_csv(filename))\n"
     ]
    },
    {
     "name": "stdout",
     "output_type": "stream",
     "text": [
      "./eVED/eVED_180418_week.csv\n"
     ]
    },
    {
     "name": "stderr",
     "output_type": "stream",
     "text": [
      "/tmp/ipykernel_36741/4215241819.py:8: DtypeWarning: Columns (30) have mixed types. Specify dtype option on import or set low_memory=False.\n",
      "  dataframes.append(pd.read_csv(filename))\n"
     ]
    },
    {
     "name": "stdout",
     "output_type": "stream",
     "text": [
      "./eVED/eVED_180425_week.csv\n"
     ]
    },
    {
     "name": "stderr",
     "output_type": "stream",
     "text": [
      "/tmp/ipykernel_36741/4215241819.py:8: DtypeWarning: Columns (30) have mixed types. Specify dtype option on import or set low_memory=False.\n",
      "  dataframes.append(pd.read_csv(filename))\n"
     ]
    },
    {
     "name": "stdout",
     "output_type": "stream",
     "text": [
      "./eVED/eVED_180502_week.csv\n"
     ]
    },
    {
     "name": "stderr",
     "output_type": "stream",
     "text": [
      "/tmp/ipykernel_36741/4215241819.py:8: DtypeWarning: Columns (30) have mixed types. Specify dtype option on import or set low_memory=False.\n",
      "  dataframes.append(pd.read_csv(filename))\n"
     ]
    },
    {
     "name": "stdout",
     "output_type": "stream",
     "text": [
      "./eVED/eVED_180509_week.csv\n"
     ]
    },
    {
     "name": "stderr",
     "output_type": "stream",
     "text": [
      "/tmp/ipykernel_36741/4215241819.py:8: DtypeWarning: Columns (30) have mixed types. Specify dtype option on import or set low_memory=False.\n",
      "  dataframes.append(pd.read_csv(filename))\n"
     ]
    },
    {
     "name": "stdout",
     "output_type": "stream",
     "text": [
      "./eVED/eVED_180516_week.csv\n"
     ]
    },
    {
     "name": "stderr",
     "output_type": "stream",
     "text": [
      "/tmp/ipykernel_36741/4215241819.py:8: DtypeWarning: Columns (30) have mixed types. Specify dtype option on import or set low_memory=False.\n",
      "  dataframes.append(pd.read_csv(filename))\n"
     ]
    },
    {
     "name": "stdout",
     "output_type": "stream",
     "text": [
      "./eVED/eVED_180523_week.csv\n"
     ]
    },
    {
     "name": "stderr",
     "output_type": "stream",
     "text": [
      "/tmp/ipykernel_36741/4215241819.py:8: DtypeWarning: Columns (30) have mixed types. Specify dtype option on import or set low_memory=False.\n",
      "  dataframes.append(pd.read_csv(filename))\n"
     ]
    },
    {
     "name": "stdout",
     "output_type": "stream",
     "text": [
      "./eVED/eVED_180530_week.csv\n"
     ]
    },
    {
     "name": "stderr",
     "output_type": "stream",
     "text": [
      "/tmp/ipykernel_36741/4215241819.py:8: DtypeWarning: Columns (30) have mixed types. Specify dtype option on import or set low_memory=False.\n",
      "  dataframes.append(pd.read_csv(filename))\n"
     ]
    },
    {
     "name": "stdout",
     "output_type": "stream",
     "text": [
      "./eVED/eVED_180606_week.csv\n"
     ]
    },
    {
     "name": "stderr",
     "output_type": "stream",
     "text": [
      "/tmp/ipykernel_36741/4215241819.py:8: DtypeWarning: Columns (30) have mixed types. Specify dtype option on import or set low_memory=False.\n",
      "  dataframes.append(pd.read_csv(filename))\n"
     ]
    },
    {
     "name": "stdout",
     "output_type": "stream",
     "text": [
      "./eVED/eVED_180613_week.csv\n"
     ]
    },
    {
     "name": "stderr",
     "output_type": "stream",
     "text": [
      "/tmp/ipykernel_36741/4215241819.py:8: DtypeWarning: Columns (30) have mixed types. Specify dtype option on import or set low_memory=False.\n",
      "  dataframes.append(pd.read_csv(filename))\n"
     ]
    },
    {
     "name": "stdout",
     "output_type": "stream",
     "text": [
      "./eVED/eVED_180620_week.csv\n"
     ]
    },
    {
     "name": "stderr",
     "output_type": "stream",
     "text": [
      "/tmp/ipykernel_36741/4215241819.py:8: DtypeWarning: Columns (30) have mixed types. Specify dtype option on import or set low_memory=False.\n",
      "  dataframes.append(pd.read_csv(filename))\n"
     ]
    },
    {
     "name": "stdout",
     "output_type": "stream",
     "text": [
      "./eVED/eVED_180627_week.csv\n"
     ]
    },
    {
     "name": "stderr",
     "output_type": "stream",
     "text": [
      "/tmp/ipykernel_36741/4215241819.py:8: DtypeWarning: Columns (30) have mixed types. Specify dtype option on import or set low_memory=False.\n",
      "  dataframes.append(pd.read_csv(filename))\n"
     ]
    },
    {
     "name": "stdout",
     "output_type": "stream",
     "text": [
      "./eVED/eVED_180704_week.csv\n"
     ]
    },
    {
     "name": "stderr",
     "output_type": "stream",
     "text": [
      "/tmp/ipykernel_36741/4215241819.py:8: DtypeWarning: Columns (30) have mixed types. Specify dtype option on import or set low_memory=False.\n",
      "  dataframes.append(pd.read_csv(filename))\n"
     ]
    },
    {
     "name": "stdout",
     "output_type": "stream",
     "text": [
      "./eVED/eVED_180711_week.csv\n"
     ]
    },
    {
     "name": "stderr",
     "output_type": "stream",
     "text": [
      "/tmp/ipykernel_36741/4215241819.py:8: DtypeWarning: Columns (30) have mixed types. Specify dtype option on import or set low_memory=False.\n",
      "  dataframes.append(pd.read_csv(filename))\n"
     ]
    },
    {
     "name": "stdout",
     "output_type": "stream",
     "text": [
      "./eVED/eVED_180718_week.csv\n"
     ]
    },
    {
     "name": "stderr",
     "output_type": "stream",
     "text": [
      "/tmp/ipykernel_36741/4215241819.py:8: DtypeWarning: Columns (30) have mixed types. Specify dtype option on import or set low_memory=False.\n",
      "  dataframes.append(pd.read_csv(filename))\n"
     ]
    },
    {
     "name": "stdout",
     "output_type": "stream",
     "text": [
      "./eVED/eVED_180725_week.csv\n"
     ]
    },
    {
     "name": "stderr",
     "output_type": "stream",
     "text": [
      "/tmp/ipykernel_36741/4215241819.py:8: DtypeWarning: Columns (30) have mixed types. Specify dtype option on import or set low_memory=False.\n",
      "  dataframes.append(pd.read_csv(filename))\n"
     ]
    },
    {
     "name": "stdout",
     "output_type": "stream",
     "text": [
      "./eVED/eVED_180801_week.csv\n"
     ]
    },
    {
     "name": "stderr",
     "output_type": "stream",
     "text": [
      "/tmp/ipykernel_36741/4215241819.py:8: DtypeWarning: Columns (30) have mixed types. Specify dtype option on import or set low_memory=False.\n",
      "  dataframes.append(pd.read_csv(filename))\n"
     ]
    },
    {
     "name": "stdout",
     "output_type": "stream",
     "text": [
      "./eVED/eVED_180808_week.csv\n"
     ]
    },
    {
     "name": "stderr",
     "output_type": "stream",
     "text": [
      "/tmp/ipykernel_36741/4215241819.py:8: DtypeWarning: Columns (30) have mixed types. Specify dtype option on import or set low_memory=False.\n",
      "  dataframes.append(pd.read_csv(filename))\n"
     ]
    },
    {
     "name": "stdout",
     "output_type": "stream",
     "text": [
      "./eVED/eVED_180815_week.csv\n"
     ]
    },
    {
     "name": "stderr",
     "output_type": "stream",
     "text": [
      "/tmp/ipykernel_36741/4215241819.py:8: DtypeWarning: Columns (30) have mixed types. Specify dtype option on import or set low_memory=False.\n",
      "  dataframes.append(pd.read_csv(filename))\n"
     ]
    },
    {
     "name": "stdout",
     "output_type": "stream",
     "text": [
      "./eVED/eVED_180822_week.csv\n"
     ]
    },
    {
     "name": "stderr",
     "output_type": "stream",
     "text": [
      "/tmp/ipykernel_36741/4215241819.py:8: DtypeWarning: Columns (30) have mixed types. Specify dtype option on import or set low_memory=False.\n",
      "  dataframes.append(pd.read_csv(filename))\n"
     ]
    },
    {
     "name": "stdout",
     "output_type": "stream",
     "text": [
      "./eVED/eVED_180829_week.csv\n"
     ]
    },
    {
     "name": "stderr",
     "output_type": "stream",
     "text": [
      "/tmp/ipykernel_36741/4215241819.py:8: DtypeWarning: Columns (30) have mixed types. Specify dtype option on import or set low_memory=False.\n",
      "  dataframes.append(pd.read_csv(filename))\n"
     ]
    },
    {
     "name": "stdout",
     "output_type": "stream",
     "text": [
      "./eVED/eVED_180905_week.csv\n"
     ]
    },
    {
     "name": "stderr",
     "output_type": "stream",
     "text": [
      "/tmp/ipykernel_36741/4215241819.py:8: DtypeWarning: Columns (30) have mixed types. Specify dtype option on import or set low_memory=False.\n",
      "  dataframes.append(pd.read_csv(filename))\n"
     ]
    },
    {
     "name": "stdout",
     "output_type": "stream",
     "text": [
      "./eVED/eVED_180912_week.csv\n"
     ]
    },
    {
     "name": "stderr",
     "output_type": "stream",
     "text": [
      "/tmp/ipykernel_36741/4215241819.py:8: DtypeWarning: Columns (30) have mixed types. Specify dtype option on import or set low_memory=False.\n",
      "  dataframes.append(pd.read_csv(filename))\n"
     ]
    },
    {
     "name": "stdout",
     "output_type": "stream",
     "text": [
      "./eVED/eVED_180919_week.csv\n"
     ]
    },
    {
     "name": "stderr",
     "output_type": "stream",
     "text": [
      "/tmp/ipykernel_36741/4215241819.py:8: DtypeWarning: Columns (30) have mixed types. Specify dtype option on import or set low_memory=False.\n",
      "  dataframes.append(pd.read_csv(filename))\n"
     ]
    },
    {
     "name": "stdout",
     "output_type": "stream",
     "text": [
      "./eVED/eVED_180926_week.csv\n"
     ]
    },
    {
     "name": "stderr",
     "output_type": "stream",
     "text": [
      "/tmp/ipykernel_36741/4215241819.py:8: DtypeWarning: Columns (30) have mixed types. Specify dtype option on import or set low_memory=False.\n",
      "  dataframes.append(pd.read_csv(filename))\n"
     ]
    },
    {
     "name": "stdout",
     "output_type": "stream",
     "text": [
      "./eVED/eVED_181003_week.csv\n"
     ]
    },
    {
     "name": "stderr",
     "output_type": "stream",
     "text": [
      "/tmp/ipykernel_36741/4215241819.py:8: DtypeWarning: Columns (30) have mixed types. Specify dtype option on import or set low_memory=False.\n",
      "  dataframes.append(pd.read_csv(filename))\n"
     ]
    },
    {
     "name": "stdout",
     "output_type": "stream",
     "text": [
      "./eVED/eVED_181010_week.csv\n"
     ]
    },
    {
     "name": "stderr",
     "output_type": "stream",
     "text": [
      "/tmp/ipykernel_36741/4215241819.py:8: DtypeWarning: Columns (30) have mixed types. Specify dtype option on import or set low_memory=False.\n",
      "  dataframes.append(pd.read_csv(filename))\n"
     ]
    },
    {
     "name": "stdout",
     "output_type": "stream",
     "text": [
      "./eVED/eVED_181017_week.csv\n"
     ]
    },
    {
     "name": "stderr",
     "output_type": "stream",
     "text": [
      "/tmp/ipykernel_36741/4215241819.py:8: DtypeWarning: Columns (30) have mixed types. Specify dtype option on import or set low_memory=False.\n",
      "  dataframes.append(pd.read_csv(filename))\n"
     ]
    },
    {
     "name": "stdout",
     "output_type": "stream",
     "text": [
      "./eVED/eVED_181024_week.csv\n"
     ]
    },
    {
     "name": "stderr",
     "output_type": "stream",
     "text": [
      "/tmp/ipykernel_36741/4215241819.py:8: DtypeWarning: Columns (30) have mixed types. Specify dtype option on import or set low_memory=False.\n",
      "  dataframes.append(pd.read_csv(filename))\n"
     ]
    },
    {
     "name": "stdout",
     "output_type": "stream",
     "text": [
      "./eVED/eVED_181031_week.csv\n"
     ]
    },
    {
     "name": "stderr",
     "output_type": "stream",
     "text": [
      "/tmp/ipykernel_36741/4215241819.py:8: DtypeWarning: Columns (30) have mixed types. Specify dtype option on import or set low_memory=False.\n",
      "  dataframes.append(pd.read_csv(filename))\n"
     ]
    },
    {
     "name": "stdout",
     "output_type": "stream",
     "text": [
      "./eVED/eVED_181107_week.csv\n"
     ]
    },
    {
     "data": {
      "text/plain": [
       "(22436808, 36)"
      ]
     },
     "execution_count": 2,
     "metadata": {},
     "output_type": "execute_result"
    }
   ],
   "source": [
    "# Lista todos os arquivos csv contidos na pasta do dataset eved\n",
    "filelist = glob.glob(os.path.join(\"./eVED/\", '*.csv'))\n",
    "dataframes = []\n",
    "\n",
    "# Itera por todos os arquivos, lendo-os para memória e adicionando em uma lista de dataframes\n",
    "for filename in sorted(filelist): \n",
    "    print (str(filename))\n",
    "    dataframes.append(pd.read_csv(filename))\n",
    "\n",
    "# Concatena todos os dataframes lidos\n",
    "data = pd.concat(dataframes)\n",
    "data.shape"
   ]
  },
  {
   "cell_type": "code",
   "execution_count": 3,
   "id": "953a01a1-e7b4-4321-8331-6c7843f8ae28",
   "metadata": {},
   "outputs": [
    {
     "data": {
      "text/plain": [
       "Index(['DayNum', 'VehId', 'Trip', 'Timestamp(ms)', 'Latitude[deg]',\n",
       "       'Longitude[deg]', 'Vehicle Speed[km/h]', 'MAF[g/sec]',\n",
       "       'Engine RPM[RPM]', 'Absolute Load[%]', 'OAT[DegC]', 'Fuel Rate[L/hr]',\n",
       "       'Air Conditioning Power[kW]', 'Air Conditioning Power[Watts]',\n",
       "       'Heater Power[Watts]', 'HV Battery Current[A]', 'HV Battery SOC[%]',\n",
       "       'HV Battery Voltage[V]', 'Short Term Fuel Trim Bank 1[%]',\n",
       "       'Short Term Fuel Trim Bank 2[%]', 'Long Term Fuel Trim Bank 1[%]',\n",
       "       'Long Term Fuel Trim Bank 2[%]', 'Elevation Raw[m]',\n",
       "       'Elevation Smoothed[m]', 'Gradient', 'Energy_Consumption',\n",
       "       'Matchted Latitude[deg]', 'Matched Longitude[deg]', 'Match Type',\n",
       "       'Class of Speed Limit', 'Speed Limit[km/h]',\n",
       "       'Speed Limit with Direction[km/h]', 'Intersection', 'Bus Stops',\n",
       "       'Focus Points', 'Focus Points;'],\n",
       "      dtype='object')"
      ]
     },
     "execution_count": 3,
     "metadata": {},
     "output_type": "execute_result"
    }
   ],
   "source": [
    "data.columns"
   ]
  },
  {
   "cell_type": "code",
   "execution_count": 4,
   "id": "4e638d42-8e0c-4196-881c-aad0dc8cf03a",
   "metadata": {},
   "outputs": [
    {
     "data": {
      "text/plain": [
       "0"
      ]
     },
     "execution_count": 4,
     "metadata": {},
     "output_type": "execute_result"
    }
   ],
   "source": [
    "data['VehId'].isna().sum()"
   ]
  },
  {
   "cell_type": "code",
   "execution_count": 5,
   "id": "a4d13e3d-1554-43de-9eff-3ee3ba40254c",
   "metadata": {},
   "outputs": [
    {
     "data": {
      "text/html": [
       "<div>\n",
       "<style scoped>\n",
       "    .dataframe tbody tr th:only-of-type {\n",
       "        vertical-align: middle;\n",
       "    }\n",
       "\n",
       "    .dataframe tbody tr th {\n",
       "        vertical-align: top;\n",
       "    }\n",
       "\n",
       "    .dataframe thead th {\n",
       "        text-align: right;\n",
       "    }\n",
       "</style>\n",
       "<table border=\"1\" class=\"dataframe\">\n",
       "  <thead>\n",
       "    <tr style=\"text-align: right;\">\n",
       "      <th></th>\n",
       "      <th>DayNum</th>\n",
       "      <th>VehId</th>\n",
       "      <th>Trip</th>\n",
       "      <th>Timestamp(ms)</th>\n",
       "      <th>Latitude[deg]</th>\n",
       "      <th>Longitude[deg]</th>\n",
       "      <th>Vehicle Speed[km/h]</th>\n",
       "      <th>MAF[g/sec]</th>\n",
       "      <th>Engine RPM[RPM]</th>\n",
       "      <th>Absolute Load[%]</th>\n",
       "      <th>...</th>\n",
       "      <th>Matchted Latitude[deg]</th>\n",
       "      <th>Matched Longitude[deg]</th>\n",
       "      <th>Match Type</th>\n",
       "      <th>Class of Speed Limit</th>\n",
       "      <th>Speed Limit[km/h]</th>\n",
       "      <th>Speed Limit with Direction[km/h]</th>\n",
       "      <th>Intersection</th>\n",
       "      <th>Bus Stops</th>\n",
       "      <th>Focus Points</th>\n",
       "      <th>Focus Points;</th>\n",
       "    </tr>\n",
       "  </thead>\n",
       "  <tbody>\n",
       "    <tr>\n",
       "      <th>416</th>\n",
       "      <td>1.719774</td>\n",
       "      <td>10.0</td>\n",
       "      <td>1558.0</td>\n",
       "      <td>0.0</td>\n",
       "      <td>42.277066</td>\n",
       "      <td>-83.763404</td>\n",
       "      <td>53.590000</td>\n",
       "      <td>NaN</td>\n",
       "      <td>NaN</td>\n",
       "      <td>NaN</td>\n",
       "      <td>...</td>\n",
       "      <td>42.276966</td>\n",
       "      <td>-83.763366</td>\n",
       "      <td>0</td>\n",
       "      <td>0.0</td>\n",
       "      <td>48</td>\n",
       "      <td>48.0</td>\n",
       "      <td>NaN</td>\n",
       "      <td>NaN</td>\n",
       "      <td>NaN</td>\n",
       "      <td>NaN</td>\n",
       "    </tr>\n",
       "    <tr>\n",
       "      <th>417</th>\n",
       "      <td>1.719774</td>\n",
       "      <td>10.0</td>\n",
       "      <td>1558.0</td>\n",
       "      <td>200.0</td>\n",
       "      <td>42.277066</td>\n",
       "      <td>-83.763404</td>\n",
       "      <td>51.980000</td>\n",
       "      <td>NaN</td>\n",
       "      <td>NaN</td>\n",
       "      <td>NaN</td>\n",
       "      <td>...</td>\n",
       "      <td>42.276966</td>\n",
       "      <td>-83.763366</td>\n",
       "      <td>1</td>\n",
       "      <td>0.0</td>\n",
       "      <td>48</td>\n",
       "      <td>48.0</td>\n",
       "      <td>NaN</td>\n",
       "      <td>NaN</td>\n",
       "      <td>NaN</td>\n",
       "      <td>NaN</td>\n",
       "    </tr>\n",
       "    <tr>\n",
       "      <th>418</th>\n",
       "      <td>1.719774</td>\n",
       "      <td>10.0</td>\n",
       "      <td>1558.0</td>\n",
       "      <td>1200.0</td>\n",
       "      <td>42.277066</td>\n",
       "      <td>-83.763404</td>\n",
       "      <td>50.369999</td>\n",
       "      <td>NaN</td>\n",
       "      <td>NaN</td>\n",
       "      <td>NaN</td>\n",
       "      <td>...</td>\n",
       "      <td>42.276966</td>\n",
       "      <td>-83.763366</td>\n",
       "      <td>1</td>\n",
       "      <td>0.0</td>\n",
       "      <td>48</td>\n",
       "      <td>48.0</td>\n",
       "      <td>NaN</td>\n",
       "      <td>NaN</td>\n",
       "      <td>NaN</td>\n",
       "      <td>NaN</td>\n",
       "    </tr>\n",
       "    <tr>\n",
       "      <th>419</th>\n",
       "      <td>1.719774</td>\n",
       "      <td>10.0</td>\n",
       "      <td>1558.0</td>\n",
       "      <td>1500.0</td>\n",
       "      <td>42.277066</td>\n",
       "      <td>-83.763404</td>\n",
       "      <td>50.369999</td>\n",
       "      <td>NaN</td>\n",
       "      <td>NaN</td>\n",
       "      <td>NaN</td>\n",
       "      <td>...</td>\n",
       "      <td>42.276966</td>\n",
       "      <td>-83.763366</td>\n",
       "      <td>1</td>\n",
       "      <td>0.0</td>\n",
       "      <td>48</td>\n",
       "      <td>48.0</td>\n",
       "      <td>NaN</td>\n",
       "      <td>NaN</td>\n",
       "      <td>NaN</td>\n",
       "      <td>NaN</td>\n",
       "    </tr>\n",
       "    <tr>\n",
       "      <th>420</th>\n",
       "      <td>1.719774</td>\n",
       "      <td>10.0</td>\n",
       "      <td>1558.0</td>\n",
       "      <td>2300.0</td>\n",
       "      <td>42.277066</td>\n",
       "      <td>-83.763404</td>\n",
       "      <td>49.799999</td>\n",
       "      <td>NaN</td>\n",
       "      <td>NaN</td>\n",
       "      <td>NaN</td>\n",
       "      <td>...</td>\n",
       "      <td>42.276966</td>\n",
       "      <td>-83.763366</td>\n",
       "      <td>1</td>\n",
       "      <td>0.0</td>\n",
       "      <td>48</td>\n",
       "      <td>48.0</td>\n",
       "      <td>NaN</td>\n",
       "      <td>NaN</td>\n",
       "      <td>NaN</td>\n",
       "      <td>NaN</td>\n",
       "    </tr>\n",
       "  </tbody>\n",
       "</table>\n",
       "<p>5 rows × 36 columns</p>\n",
       "</div>"
      ],
      "text/plain": [
       "       DayNum  VehId    Trip  Timestamp(ms)  Latitude[deg]  Longitude[deg]  \\\n",
       "416  1.719774   10.0  1558.0            0.0      42.277066      -83.763404   \n",
       "417  1.719774   10.0  1558.0          200.0      42.277066      -83.763404   \n",
       "418  1.719774   10.0  1558.0         1200.0      42.277066      -83.763404   \n",
       "419  1.719774   10.0  1558.0         1500.0      42.277066      -83.763404   \n",
       "420  1.719774   10.0  1558.0         2300.0      42.277066      -83.763404   \n",
       "\n",
       "     Vehicle Speed[km/h]  MAF[g/sec]  Engine RPM[RPM]  Absolute Load[%]  ...  \\\n",
       "416            53.590000         NaN              NaN               NaN  ...   \n",
       "417            51.980000         NaN              NaN               NaN  ...   \n",
       "418            50.369999         NaN              NaN               NaN  ...   \n",
       "419            50.369999         NaN              NaN               NaN  ...   \n",
       "420            49.799999         NaN              NaN               NaN  ...   \n",
       "\n",
       "     Matchted Latitude[deg]  Matched Longitude[deg]  Match Type  \\\n",
       "416               42.276966              -83.763366           0   \n",
       "417               42.276966              -83.763366           1   \n",
       "418               42.276966              -83.763366           1   \n",
       "419               42.276966              -83.763366           1   \n",
       "420               42.276966              -83.763366           1   \n",
       "\n",
       "     Class of Speed Limit  Speed Limit[km/h]  \\\n",
       "416                   0.0                 48   \n",
       "417                   0.0                 48   \n",
       "418                   0.0                 48   \n",
       "419                   0.0                 48   \n",
       "420                   0.0                 48   \n",
       "\n",
       "     Speed Limit with Direction[km/h]  Intersection  Bus Stops  Focus Points  \\\n",
       "416                              48.0           NaN        NaN           NaN   \n",
       "417                              48.0           NaN        NaN           NaN   \n",
       "418                              48.0           NaN        NaN           NaN   \n",
       "419                              48.0           NaN        NaN           NaN   \n",
       "420                              48.0           NaN        NaN           NaN   \n",
       "\n",
       "     Focus Points;  \n",
       "416            NaN  \n",
       "417            NaN  \n",
       "418            NaN  \n",
       "419            NaN  \n",
       "420            NaN  \n",
       "\n",
       "[5 rows x 36 columns]"
      ]
     },
     "execution_count": 5,
     "metadata": {},
     "output_type": "execute_result"
    }
   ],
   "source": [
    "veh10 = data[data['VehId'] == 10]\n",
    "veh10.head()"
   ]
  },
  {
   "cell_type": "code",
   "execution_count": 6,
   "id": "0927a879-7c6a-4d9d-b48a-f4723465ebbd",
   "metadata": {},
   "outputs": [
    {
     "data": {
      "text/html": [
       "<div>\n",
       "<style scoped>\n",
       "    .dataframe tbody tr th:only-of-type {\n",
       "        vertical-align: middle;\n",
       "    }\n",
       "\n",
       "    .dataframe tbody tr th {\n",
       "        vertical-align: top;\n",
       "    }\n",
       "\n",
       "    .dataframe thead th {\n",
       "        text-align: right;\n",
       "    }\n",
       "</style>\n",
       "<table border=\"1\" class=\"dataframe\">\n",
       "  <thead>\n",
       "    <tr style=\"text-align: right;\">\n",
       "      <th></th>\n",
       "      <th>DayNum</th>\n",
       "      <th>VehId</th>\n",
       "      <th>Trip</th>\n",
       "      <th>Timestamp(ms)</th>\n",
       "      <th>Latitude[deg]</th>\n",
       "      <th>Longitude[deg]</th>\n",
       "      <th>Vehicle Speed[km/h]</th>\n",
       "      <th>MAF[g/sec]</th>\n",
       "      <th>Engine RPM[RPM]</th>\n",
       "      <th>Absolute Load[%]</th>\n",
       "      <th>...</th>\n",
       "      <th>Matchted Latitude[deg]</th>\n",
       "      <th>Matched Longitude[deg]</th>\n",
       "      <th>Match Type</th>\n",
       "      <th>Class of Speed Limit</th>\n",
       "      <th>Speed Limit[km/h]</th>\n",
       "      <th>Speed Limit with Direction[km/h]</th>\n",
       "      <th>Intersection</th>\n",
       "      <th>Bus Stops</th>\n",
       "      <th>Focus Points</th>\n",
       "      <th>Focus Points;</th>\n",
       "    </tr>\n",
       "  </thead>\n",
       "  <tbody>\n",
       "    <tr>\n",
       "      <th>261575</th>\n",
       "      <td>4.698313</td>\n",
       "      <td>455.0</td>\n",
       "      <td>554.0</td>\n",
       "      <td>0.0</td>\n",
       "      <td>42.243933</td>\n",
       "      <td>-83.743826</td>\n",
       "      <td>54.570000</td>\n",
       "      <td>NaN</td>\n",
       "      <td>NaN</td>\n",
       "      <td>NaN</td>\n",
       "      <td>...</td>\n",
       "      <td>42.243695</td>\n",
       "      <td>-83.743814</td>\n",
       "      <td>0</td>\n",
       "      <td>0.0</td>\n",
       "      <td>64.0</td>\n",
       "      <td>64.0</td>\n",
       "      <td>NaN</td>\n",
       "      <td>NaN</td>\n",
       "      <td>crossing</td>\n",
       "      <td>NaN</td>\n",
       "    </tr>\n",
       "    <tr>\n",
       "      <th>261576</th>\n",
       "      <td>4.698313</td>\n",
       "      <td>455.0</td>\n",
       "      <td>554.0</td>\n",
       "      <td>1100.0</td>\n",
       "      <td>42.243933</td>\n",
       "      <td>-83.743826</td>\n",
       "      <td>49.969997</td>\n",
       "      <td>NaN</td>\n",
       "      <td>NaN</td>\n",
       "      <td>NaN</td>\n",
       "      <td>...</td>\n",
       "      <td>42.243695</td>\n",
       "      <td>-83.743814</td>\n",
       "      <td>1</td>\n",
       "      <td>0.0</td>\n",
       "      <td>64.0</td>\n",
       "      <td>64.0</td>\n",
       "      <td>NaN</td>\n",
       "      <td>NaN</td>\n",
       "      <td>crossing</td>\n",
       "      <td>NaN</td>\n",
       "    </tr>\n",
       "    <tr>\n",
       "      <th>261577</th>\n",
       "      <td>4.698313</td>\n",
       "      <td>455.0</td>\n",
       "      <td>554.0</td>\n",
       "      <td>1600.0</td>\n",
       "      <td>42.243933</td>\n",
       "      <td>-83.743826</td>\n",
       "      <td>49.969997</td>\n",
       "      <td>NaN</td>\n",
       "      <td>NaN</td>\n",
       "      <td>NaN</td>\n",
       "      <td>...</td>\n",
       "      <td>42.243695</td>\n",
       "      <td>-83.743814</td>\n",
       "      <td>1</td>\n",
       "      <td>0.0</td>\n",
       "      <td>64.0</td>\n",
       "      <td>64.0</td>\n",
       "      <td>NaN</td>\n",
       "      <td>NaN</td>\n",
       "      <td>crossing</td>\n",
       "      <td>NaN</td>\n",
       "    </tr>\n",
       "    <tr>\n",
       "      <th>261578</th>\n",
       "      <td>4.698313</td>\n",
       "      <td>455.0</td>\n",
       "      <td>554.0</td>\n",
       "      <td>2100.0</td>\n",
       "      <td>42.243933</td>\n",
       "      <td>-83.743826</td>\n",
       "      <td>47.680000</td>\n",
       "      <td>NaN</td>\n",
       "      <td>NaN</td>\n",
       "      <td>NaN</td>\n",
       "      <td>...</td>\n",
       "      <td>42.243695</td>\n",
       "      <td>-83.743814</td>\n",
       "      <td>1</td>\n",
       "      <td>0.0</td>\n",
       "      <td>64.0</td>\n",
       "      <td>64.0</td>\n",
       "      <td>NaN</td>\n",
       "      <td>NaN</td>\n",
       "      <td>crossing</td>\n",
       "      <td>NaN</td>\n",
       "    </tr>\n",
       "    <tr>\n",
       "      <th>261579</th>\n",
       "      <td>4.698313</td>\n",
       "      <td>455.0</td>\n",
       "      <td>554.0</td>\n",
       "      <td>3200.0</td>\n",
       "      <td>42.243933</td>\n",
       "      <td>-83.743826</td>\n",
       "      <td>45.989998</td>\n",
       "      <td>NaN</td>\n",
       "      <td>NaN</td>\n",
       "      <td>NaN</td>\n",
       "      <td>...</td>\n",
       "      <td>42.243695</td>\n",
       "      <td>-83.743814</td>\n",
       "      <td>1</td>\n",
       "      <td>0.0</td>\n",
       "      <td>64.0</td>\n",
       "      <td>64.0</td>\n",
       "      <td>NaN</td>\n",
       "      <td>NaN</td>\n",
       "      <td>crossing</td>\n",
       "      <td>NaN</td>\n",
       "    </tr>\n",
       "  </tbody>\n",
       "</table>\n",
       "<p>5 rows × 36 columns</p>\n",
       "</div>"
      ],
      "text/plain": [
       "          DayNum  VehId   Trip  Timestamp(ms)  Latitude[deg]  Longitude[deg]  \\\n",
       "261575  4.698313  455.0  554.0            0.0      42.243933      -83.743826   \n",
       "261576  4.698313  455.0  554.0         1100.0      42.243933      -83.743826   \n",
       "261577  4.698313  455.0  554.0         1600.0      42.243933      -83.743826   \n",
       "261578  4.698313  455.0  554.0         2100.0      42.243933      -83.743826   \n",
       "261579  4.698313  455.0  554.0         3200.0      42.243933      -83.743826   \n",
       "\n",
       "        Vehicle Speed[km/h]  MAF[g/sec]  Engine RPM[RPM]  Absolute Load[%]  \\\n",
       "261575            54.570000         NaN              NaN               NaN   \n",
       "261576            49.969997         NaN              NaN               NaN   \n",
       "261577            49.969997         NaN              NaN               NaN   \n",
       "261578            47.680000         NaN              NaN               NaN   \n",
       "261579            45.989998         NaN              NaN               NaN   \n",
       "\n",
       "        ...  Matchted Latitude[deg]  Matched Longitude[deg]  Match Type  \\\n",
       "261575  ...               42.243695              -83.743814           0   \n",
       "261576  ...               42.243695              -83.743814           1   \n",
       "261577  ...               42.243695              -83.743814           1   \n",
       "261578  ...               42.243695              -83.743814           1   \n",
       "261579  ...               42.243695              -83.743814           1   \n",
       "\n",
       "        Class of Speed Limit  Speed Limit[km/h]  \\\n",
       "261575                   0.0               64.0   \n",
       "261576                   0.0               64.0   \n",
       "261577                   0.0               64.0   \n",
       "261578                   0.0               64.0   \n",
       "261579                   0.0               64.0   \n",
       "\n",
       "        Speed Limit with Direction[km/h]  Intersection  Bus Stops  \\\n",
       "261575                              64.0           NaN        NaN   \n",
       "261576                              64.0           NaN        NaN   \n",
       "261577                              64.0           NaN        NaN   \n",
       "261578                              64.0           NaN        NaN   \n",
       "261579                              64.0           NaN        NaN   \n",
       "\n",
       "        Focus Points  Focus Points;  \n",
       "261575      crossing            NaN  \n",
       "261576      crossing            NaN  \n",
       "261577      crossing            NaN  \n",
       "261578      crossing            NaN  \n",
       "261579      crossing            NaN  \n",
       "\n",
       "[5 rows x 36 columns]"
      ]
     },
     "execution_count": 6,
     "metadata": {},
     "output_type": "execute_result"
    }
   ],
   "source": [
    "veh455 = data[data['VehId'] == 455]\n",
    "veh455.head()"
   ]
  },
  {
   "cell_type": "code",
   "execution_count": 7,
   "id": "c1c0ed46-b569-4f15-a257-07a864ed79aa",
   "metadata": {},
   "outputs": [
    {
     "data": {
      "text/html": [
       "<div>\n",
       "<style scoped>\n",
       "    .dataframe tbody tr th:only-of-type {\n",
       "        vertical-align: middle;\n",
       "    }\n",
       "\n",
       "    .dataframe tbody tr th {\n",
       "        vertical-align: top;\n",
       "    }\n",
       "\n",
       "    .dataframe thead th {\n",
       "        text-align: right;\n",
       "    }\n",
       "</style>\n",
       "<table border=\"1\" class=\"dataframe\">\n",
       "  <thead>\n",
       "    <tr style=\"text-align: right;\">\n",
       "      <th></th>\n",
       "      <th>DayNum</th>\n",
       "      <th>VehId</th>\n",
       "      <th>Trip</th>\n",
       "      <th>Timestamp(ms)</th>\n",
       "      <th>Latitude[deg]</th>\n",
       "      <th>Longitude[deg]</th>\n",
       "      <th>Vehicle Speed[km/h]</th>\n",
       "      <th>MAF[g/sec]</th>\n",
       "      <th>Engine RPM[RPM]</th>\n",
       "      <th>Absolute Load[%]</th>\n",
       "      <th>...</th>\n",
       "      <th>Matchted Latitude[deg]</th>\n",
       "      <th>Matched Longitude[deg]</th>\n",
       "      <th>Match Type</th>\n",
       "      <th>Class of Speed Limit</th>\n",
       "      <th>Speed Limit[km/h]</th>\n",
       "      <th>Speed Limit with Direction[km/h]</th>\n",
       "      <th>Intersection</th>\n",
       "      <th>Bus Stops</th>\n",
       "      <th>Focus Points</th>\n",
       "      <th>Focus Points;</th>\n",
       "    </tr>\n",
       "  </thead>\n",
       "  <tbody>\n",
       "    <tr>\n",
       "      <th>97663</th>\n",
       "      <td>121.911711</td>\n",
       "      <td>541.0</td>\n",
       "      <td>672.0</td>\n",
       "      <td>0.0</td>\n",
       "      <td>42.284911</td>\n",
       "      <td>-83.801881</td>\n",
       "      <td>51.619999</td>\n",
       "      <td>NaN</td>\n",
       "      <td>NaN</td>\n",
       "      <td>NaN</td>\n",
       "      <td>...</td>\n",
       "      <td>42.284952</td>\n",
       "      <td>-83.801881</td>\n",
       "      <td>0</td>\n",
       "      <td>0.0</td>\n",
       "      <td>72</td>\n",
       "      <td>72.0</td>\n",
       "      <td>NaN</td>\n",
       "      <td>NaN</td>\n",
       "      <td>NaN</td>\n",
       "      <td>NaN</td>\n",
       "    </tr>\n",
       "    <tr>\n",
       "      <th>97664</th>\n",
       "      <td>121.911711</td>\n",
       "      <td>541.0</td>\n",
       "      <td>672.0</td>\n",
       "      <td>600.0</td>\n",
       "      <td>42.284911</td>\n",
       "      <td>-83.801881</td>\n",
       "      <td>52.250000</td>\n",
       "      <td>NaN</td>\n",
       "      <td>NaN</td>\n",
       "      <td>NaN</td>\n",
       "      <td>...</td>\n",
       "      <td>42.284952</td>\n",
       "      <td>-83.801881</td>\n",
       "      <td>1</td>\n",
       "      <td>0.0</td>\n",
       "      <td>72</td>\n",
       "      <td>72.0</td>\n",
       "      <td>NaN</td>\n",
       "      <td>NaN</td>\n",
       "      <td>NaN</td>\n",
       "      <td>NaN</td>\n",
       "    </tr>\n",
       "    <tr>\n",
       "      <th>97665</th>\n",
       "      <td>121.911711</td>\n",
       "      <td>541.0</td>\n",
       "      <td>672.0</td>\n",
       "      <td>800.0</td>\n",
       "      <td>42.284911</td>\n",
       "      <td>-83.801881</td>\n",
       "      <td>52.250000</td>\n",
       "      <td>NaN</td>\n",
       "      <td>NaN</td>\n",
       "      <td>NaN</td>\n",
       "      <td>...</td>\n",
       "      <td>42.284952</td>\n",
       "      <td>-83.801881</td>\n",
       "      <td>1</td>\n",
       "      <td>0.0</td>\n",
       "      <td>72</td>\n",
       "      <td>72.0</td>\n",
       "      <td>NaN</td>\n",
       "      <td>NaN</td>\n",
       "      <td>NaN</td>\n",
       "      <td>NaN</td>\n",
       "    </tr>\n",
       "    <tr>\n",
       "      <th>97666</th>\n",
       "      <td>121.911711</td>\n",
       "      <td>541.0</td>\n",
       "      <td>672.0</td>\n",
       "      <td>1600.0</td>\n",
       "      <td>42.284911</td>\n",
       "      <td>-83.801881</td>\n",
       "      <td>52.919998</td>\n",
       "      <td>NaN</td>\n",
       "      <td>NaN</td>\n",
       "      <td>NaN</td>\n",
       "      <td>...</td>\n",
       "      <td>42.284952</td>\n",
       "      <td>-83.801881</td>\n",
       "      <td>1</td>\n",
       "      <td>0.0</td>\n",
       "      <td>72</td>\n",
       "      <td>72.0</td>\n",
       "      <td>NaN</td>\n",
       "      <td>NaN</td>\n",
       "      <td>NaN</td>\n",
       "      <td>NaN</td>\n",
       "    </tr>\n",
       "    <tr>\n",
       "      <th>97667</th>\n",
       "      <td>121.911711</td>\n",
       "      <td>541.0</td>\n",
       "      <td>672.0</td>\n",
       "      <td>2400.0</td>\n",
       "      <td>42.284911</td>\n",
       "      <td>-83.801881</td>\n",
       "      <td>52.919998</td>\n",
       "      <td>NaN</td>\n",
       "      <td>NaN</td>\n",
       "      <td>NaN</td>\n",
       "      <td>...</td>\n",
       "      <td>42.284952</td>\n",
       "      <td>-83.801881</td>\n",
       "      <td>1</td>\n",
       "      <td>0.0</td>\n",
       "      <td>72</td>\n",
       "      <td>72.0</td>\n",
       "      <td>NaN</td>\n",
       "      <td>NaN</td>\n",
       "      <td>NaN</td>\n",
       "      <td>NaN</td>\n",
       "    </tr>\n",
       "  </tbody>\n",
       "</table>\n",
       "<p>5 rows × 36 columns</p>\n",
       "</div>"
      ],
      "text/plain": [
       "           DayNum  VehId   Trip  Timestamp(ms)  Latitude[deg]  Longitude[deg]  \\\n",
       "97663  121.911711  541.0  672.0            0.0      42.284911      -83.801881   \n",
       "97664  121.911711  541.0  672.0          600.0      42.284911      -83.801881   \n",
       "97665  121.911711  541.0  672.0          800.0      42.284911      -83.801881   \n",
       "97666  121.911711  541.0  672.0         1600.0      42.284911      -83.801881   \n",
       "97667  121.911711  541.0  672.0         2400.0      42.284911      -83.801881   \n",
       "\n",
       "       Vehicle Speed[km/h]  MAF[g/sec]  Engine RPM[RPM]  Absolute Load[%]  \\\n",
       "97663            51.619999         NaN              NaN               NaN   \n",
       "97664            52.250000         NaN              NaN               NaN   \n",
       "97665            52.250000         NaN              NaN               NaN   \n",
       "97666            52.919998         NaN              NaN               NaN   \n",
       "97667            52.919998         NaN              NaN               NaN   \n",
       "\n",
       "       ...  Matchted Latitude[deg]  Matched Longitude[deg]  Match Type  \\\n",
       "97663  ...               42.284952              -83.801881           0   \n",
       "97664  ...               42.284952              -83.801881           1   \n",
       "97665  ...               42.284952              -83.801881           1   \n",
       "97666  ...               42.284952              -83.801881           1   \n",
       "97667  ...               42.284952              -83.801881           1   \n",
       "\n",
       "       Class of Speed Limit  Speed Limit[km/h]  \\\n",
       "97663                   0.0                 72   \n",
       "97664                   0.0                 72   \n",
       "97665                   0.0                 72   \n",
       "97666                   0.0                 72   \n",
       "97667                   0.0                 72   \n",
       "\n",
       "       Speed Limit with Direction[km/h]  Intersection  Bus Stops  \\\n",
       "97663                              72.0           NaN        NaN   \n",
       "97664                              72.0           NaN        NaN   \n",
       "97665                              72.0           NaN        NaN   \n",
       "97666                              72.0           NaN        NaN   \n",
       "97667                              72.0           NaN        NaN   \n",
       "\n",
       "       Focus Points  Focus Points;  \n",
       "97663           NaN            NaN  \n",
       "97664           NaN            NaN  \n",
       "97665           NaN            NaN  \n",
       "97666           NaN            NaN  \n",
       "97667           NaN            NaN  \n",
       "\n",
       "[5 rows x 36 columns]"
      ]
     },
     "execution_count": 7,
     "metadata": {},
     "output_type": "execute_result"
    }
   ],
   "source": [
    "veh541 = data[data['VehId'] == 541]\n",
    "veh541.head()"
   ]
  },
  {
   "cell_type": "code",
   "execution_count": 8,
   "id": "ac814dc4-df19-427e-bf56-620542d579be",
   "metadata": {},
   "outputs": [
    {
     "name": "stdout",
     "output_type": "stream",
     "text": [
      "(167257, 36)\n",
      "(303824, 36)\n",
      "(5227, 36)\n"
     ]
    }
   ],
   "source": [
    "print(veh10.shape)\n",
    "print(veh455.shape)\n",
    "print(veh541.shape)"
   ]
  },
  {
   "cell_type": "code",
   "execution_count": 11,
   "id": "e4fec72b-5d96-4959-91f5-b0c0600c979a",
   "metadata": {},
   "outputs": [],
   "source": [
    "veh10.to_csv(\"./Agda/veh10.csv\", index=False)\n",
    "veh455.to_csv(\"./Agda/veh455.csv\", index=False)\n",
    "veh541.to_csv(\"./Agda/veh541.csv\", index=False)"
   ]
  },
  {
   "cell_type": "code",
   "execution_count": 12,
   "id": "597e7c4b-7dd2-483e-847a-4fd638f83c54",
   "metadata": {},
   "outputs": [
    {
     "data": {
      "text/html": [
       "<div>\n",
       "<style scoped>\n",
       "    .dataframe tbody tr th:only-of-type {\n",
       "        vertical-align: middle;\n",
       "    }\n",
       "\n",
       "    .dataframe tbody tr th {\n",
       "        vertical-align: top;\n",
       "    }\n",
       "\n",
       "    .dataframe thead th {\n",
       "        text-align: right;\n",
       "    }\n",
       "</style>\n",
       "<table border=\"1\" class=\"dataframe\">\n",
       "  <thead>\n",
       "    <tr style=\"text-align: right;\">\n",
       "      <th></th>\n",
       "      <th>VehId</th>\n",
       "      <th>Timestamp(ms)</th>\n",
       "      <th>Vehicle Speed[km/h]</th>\n",
       "      <th>HV Battery Current[A]</th>\n",
       "      <th>HV Battery SOC[%]</th>\n",
       "      <th>HV Battery Voltage[V]</th>\n",
       "      <th>Energy_Consumption</th>\n",
       "    </tr>\n",
       "  </thead>\n",
       "  <tbody>\n",
       "    <tr>\n",
       "      <th>416</th>\n",
       "      <td>10.0</td>\n",
       "      <td>0.0</td>\n",
       "      <td>53.590000</td>\n",
       "      <td>-21.5</td>\n",
       "      <td>96.341469</td>\n",
       "      <td>386.0</td>\n",
       "      <td>0.002305</td>\n",
       "    </tr>\n",
       "    <tr>\n",
       "      <th>417</th>\n",
       "      <td>10.0</td>\n",
       "      <td>200.0</td>\n",
       "      <td>51.980000</td>\n",
       "      <td>-21.5</td>\n",
       "      <td>96.341469</td>\n",
       "      <td>386.0</td>\n",
       "      <td>0.002305</td>\n",
       "    </tr>\n",
       "    <tr>\n",
       "      <th>418</th>\n",
       "      <td>10.0</td>\n",
       "      <td>1200.0</td>\n",
       "      <td>50.369999</td>\n",
       "      <td>-21.5</td>\n",
       "      <td>96.341469</td>\n",
       "      <td>386.0</td>\n",
       "      <td>0.002305</td>\n",
       "    </tr>\n",
       "    <tr>\n",
       "      <th>419</th>\n",
       "      <td>10.0</td>\n",
       "      <td>1500.0</td>\n",
       "      <td>50.369999</td>\n",
       "      <td>23.5</td>\n",
       "      <td>96.341469</td>\n",
       "      <td>390.5</td>\n",
       "      <td>-0.002549</td>\n",
       "    </tr>\n",
       "    <tr>\n",
       "      <th>420</th>\n",
       "      <td>10.0</td>\n",
       "      <td>2300.0</td>\n",
       "      <td>49.799999</td>\n",
       "      <td>23.5</td>\n",
       "      <td>96.341469</td>\n",
       "      <td>390.5</td>\n",
       "      <td>-0.002549</td>\n",
       "    </tr>\n",
       "  </tbody>\n",
       "</table>\n",
       "</div>"
      ],
      "text/plain": [
       "     VehId  Timestamp(ms)  Vehicle Speed[km/h]  HV Battery Current[A]  \\\n",
       "416   10.0            0.0            53.590000                  -21.5   \n",
       "417   10.0          200.0            51.980000                  -21.5   \n",
       "418   10.0         1200.0            50.369999                  -21.5   \n",
       "419   10.0         1500.0            50.369999                   23.5   \n",
       "420   10.0         2300.0            49.799999                   23.5   \n",
       "\n",
       "     HV Battery SOC[%]  HV Battery Voltage[V]  Energy_Consumption  \n",
       "416          96.341469                  386.0            0.002305  \n",
       "417          96.341469                  386.0            0.002305  \n",
       "418          96.341469                  386.0            0.002305  \n",
       "419          96.341469                  390.5           -0.002549  \n",
       "420          96.341469                  390.5           -0.002549  "
      ]
     },
     "execution_count": 12,
     "metadata": {},
     "output_type": "execute_result"
    }
   ],
   "source": [
    "veh10_filtered = veh10[['VehId', 'Timestamp(ms)', 'Vehicle Speed[km/h]', 'HV Battery Current[A]', 'HV Battery SOC[%]', 'HV Battery Voltage[V]', 'Energy_Consumption']].head()\n",
    "veh10_filtered"
   ]
  },
  {
   "cell_type": "code",
   "execution_count": 14,
   "id": "4d03c542-6056-4afe-bc32-597f5a51f6ef",
   "metadata": {},
   "outputs": [
    {
     "data": {
      "text/html": [
       "<div>\n",
       "<style scoped>\n",
       "    .dataframe tbody tr th:only-of-type {\n",
       "        vertical-align: middle;\n",
       "    }\n",
       "\n",
       "    .dataframe tbody tr th {\n",
       "        vertical-align: top;\n",
       "    }\n",
       "\n",
       "    .dataframe thead th {\n",
       "        text-align: right;\n",
       "    }\n",
       "</style>\n",
       "<table border=\"1\" class=\"dataframe\">\n",
       "  <thead>\n",
       "    <tr style=\"text-align: right;\">\n",
       "      <th></th>\n",
       "      <th>VehId</th>\n",
       "      <th>Timestamp(ms)</th>\n",
       "      <th>Vehicle Speed[km/h]</th>\n",
       "      <th>HV Battery Current[A]</th>\n",
       "      <th>HV Battery SOC[%]</th>\n",
       "      <th>HV Battery Voltage[V]</th>\n",
       "      <th>Energy_Consumption</th>\n",
       "    </tr>\n",
       "  </thead>\n",
       "  <tbody>\n",
       "    <tr>\n",
       "      <th>261575</th>\n",
       "      <td>455.0</td>\n",
       "      <td>0.0</td>\n",
       "      <td>54.570000</td>\n",
       "      <td>-27.5</td>\n",
       "      <td>48.902443</td>\n",
       "      <td>371.0</td>\n",
       "      <td>0.002834</td>\n",
       "    </tr>\n",
       "    <tr>\n",
       "      <th>261576</th>\n",
       "      <td>455.0</td>\n",
       "      <td>1100.0</td>\n",
       "      <td>49.969997</td>\n",
       "      <td>-27.5</td>\n",
       "      <td>48.902443</td>\n",
       "      <td>371.0</td>\n",
       "      <td>0.002834</td>\n",
       "    </tr>\n",
       "    <tr>\n",
       "      <th>261577</th>\n",
       "      <td>455.0</td>\n",
       "      <td>1600.0</td>\n",
       "      <td>49.969997</td>\n",
       "      <td>22.5</td>\n",
       "      <td>48.902443</td>\n",
       "      <td>376.0</td>\n",
       "      <td>-0.002350</td>\n",
       "    </tr>\n",
       "    <tr>\n",
       "      <th>261578</th>\n",
       "      <td>455.0</td>\n",
       "      <td>2100.0</td>\n",
       "      <td>47.680000</td>\n",
       "      <td>22.5</td>\n",
       "      <td>48.902443</td>\n",
       "      <td>376.0</td>\n",
       "      <td>-0.002350</td>\n",
       "    </tr>\n",
       "    <tr>\n",
       "      <th>261579</th>\n",
       "      <td>455.0</td>\n",
       "      <td>3200.0</td>\n",
       "      <td>45.989998</td>\n",
       "      <td>22.5</td>\n",
       "      <td>48.902443</td>\n",
       "      <td>376.0</td>\n",
       "      <td>-0.002350</td>\n",
       "    </tr>\n",
       "  </tbody>\n",
       "</table>\n",
       "</div>"
      ],
      "text/plain": [
       "        VehId  Timestamp(ms)  Vehicle Speed[km/h]  HV Battery Current[A]  \\\n",
       "261575  455.0            0.0            54.570000                  -27.5   \n",
       "261576  455.0         1100.0            49.969997                  -27.5   \n",
       "261577  455.0         1600.0            49.969997                   22.5   \n",
       "261578  455.0         2100.0            47.680000                   22.5   \n",
       "261579  455.0         3200.0            45.989998                   22.5   \n",
       "\n",
       "        HV Battery SOC[%]  HV Battery Voltage[V]  Energy_Consumption  \n",
       "261575          48.902443                  371.0            0.002834  \n",
       "261576          48.902443                  371.0            0.002834  \n",
       "261577          48.902443                  376.0           -0.002350  \n",
       "261578          48.902443                  376.0           -0.002350  \n",
       "261579          48.902443                  376.0           -0.002350  "
      ]
     },
     "execution_count": 14,
     "metadata": {},
     "output_type": "execute_result"
    }
   ],
   "source": [
    "veh455_filtered = veh455[['VehId', 'Timestamp(ms)', 'Vehicle Speed[km/h]', 'HV Battery Current[A]', 'HV Battery SOC[%]', 'HV Battery Voltage[V]', 'Energy_Consumption']].head()\n",
    "veh455_filtered"
   ]
  },
  {
   "cell_type": "code",
   "execution_count": 15,
   "id": "a533a8ee-8126-486c-9db4-c831dbe1158e",
   "metadata": {},
   "outputs": [
    {
     "data": {
      "text/html": [
       "<div>\n",
       "<style scoped>\n",
       "    .dataframe tbody tr th:only-of-type {\n",
       "        vertical-align: middle;\n",
       "    }\n",
       "\n",
       "    .dataframe tbody tr th {\n",
       "        vertical-align: top;\n",
       "    }\n",
       "\n",
       "    .dataframe thead th {\n",
       "        text-align: right;\n",
       "    }\n",
       "</style>\n",
       "<table border=\"1\" class=\"dataframe\">\n",
       "  <thead>\n",
       "    <tr style=\"text-align: right;\">\n",
       "      <th></th>\n",
       "      <th>VehId</th>\n",
       "      <th>Timestamp(ms)</th>\n",
       "      <th>Vehicle Speed[km/h]</th>\n",
       "      <th>HV Battery Current[A]</th>\n",
       "      <th>HV Battery SOC[%]</th>\n",
       "      <th>HV Battery Voltage[V]</th>\n",
       "      <th>Energy_Consumption</th>\n",
       "    </tr>\n",
       "  </thead>\n",
       "  <tbody>\n",
       "    <tr>\n",
       "      <th>97663</th>\n",
       "      <td>541.0</td>\n",
       "      <td>0.0</td>\n",
       "      <td>51.619999</td>\n",
       "      <td>-14.0</td>\n",
       "      <td>71.341469</td>\n",
       "      <td>377.0</td>\n",
       "      <td>0.001466</td>\n",
       "    </tr>\n",
       "    <tr>\n",
       "      <th>97664</th>\n",
       "      <td>541.0</td>\n",
       "      <td>600.0</td>\n",
       "      <td>52.250000</td>\n",
       "      <td>-14.0</td>\n",
       "      <td>71.341469</td>\n",
       "      <td>377.0</td>\n",
       "      <td>0.001466</td>\n",
       "    </tr>\n",
       "    <tr>\n",
       "      <th>97665</th>\n",
       "      <td>541.0</td>\n",
       "      <td>800.0</td>\n",
       "      <td>52.250000</td>\n",
       "      <td>-17.5</td>\n",
       "      <td>71.341469</td>\n",
       "      <td>377.0</td>\n",
       "      <td>0.001833</td>\n",
       "    </tr>\n",
       "    <tr>\n",
       "      <th>97666</th>\n",
       "      <td>541.0</td>\n",
       "      <td>1600.0</td>\n",
       "      <td>52.919998</td>\n",
       "      <td>-17.5</td>\n",
       "      <td>71.341469</td>\n",
       "      <td>377.0</td>\n",
       "      <td>0.001833</td>\n",
       "    </tr>\n",
       "    <tr>\n",
       "      <th>97667</th>\n",
       "      <td>541.0</td>\n",
       "      <td>2400.0</td>\n",
       "      <td>52.919998</td>\n",
       "      <td>-17.5</td>\n",
       "      <td>71.341469</td>\n",
       "      <td>378.0</td>\n",
       "      <td>0.001837</td>\n",
       "    </tr>\n",
       "  </tbody>\n",
       "</table>\n",
       "</div>"
      ],
      "text/plain": [
       "       VehId  Timestamp(ms)  Vehicle Speed[km/h]  HV Battery Current[A]  \\\n",
       "97663  541.0            0.0            51.619999                  -14.0   \n",
       "97664  541.0          600.0            52.250000                  -14.0   \n",
       "97665  541.0          800.0            52.250000                  -17.5   \n",
       "97666  541.0         1600.0            52.919998                  -17.5   \n",
       "97667  541.0         2400.0            52.919998                  -17.5   \n",
       "\n",
       "       HV Battery SOC[%]  HV Battery Voltage[V]  Energy_Consumption  \n",
       "97663          71.341469                  377.0            0.001466  \n",
       "97664          71.341469                  377.0            0.001466  \n",
       "97665          71.341469                  377.0            0.001833  \n",
       "97666          71.341469                  377.0            0.001833  \n",
       "97667          71.341469                  378.0            0.001837  "
      ]
     },
     "execution_count": 15,
     "metadata": {},
     "output_type": "execute_result"
    }
   ],
   "source": [
    "veh541_filtered = veh541[['VehId', 'Timestamp(ms)', 'Vehicle Speed[km/h]', 'HV Battery Current[A]', 'HV Battery SOC[%]', 'HV Battery Voltage[V]', 'Energy_Consumption']].head()\n",
    "veh541_filtered"
   ]
  },
  {
   "cell_type": "code",
   "execution_count": 16,
   "id": "c42303a5-8e81-4bcd-9c96-d8196049bec9",
   "metadata": {},
   "outputs": [],
   "source": [
    "veh10_filtered.to_csv(\"./Daniel/veh10.csv\", index=False)\n",
    "veh455_filtered.to_csv(\"./Daniel/veh455.csv\", index=False)\n",
    "veh541_filtered.to_csv(\"./Daniel/veh541.csv\", index=False)"
   ]
  }
 ],
 "metadata": {
  "kernelspec": {
   "display_name": "Python 3 (ipykernel)",
   "language": "python",
   "name": "python3"
  },
  "language_info": {
   "codemirror_mode": {
    "name": "ipython",
    "version": 3
   },
   "file_extension": ".py",
   "mimetype": "text/x-python",
   "name": "python",
   "nbconvert_exporter": "python",
   "pygments_lexer": "ipython3",
   "version": "3.12.3"
  }
 },
 "nbformat": 4,
 "nbformat_minor": 5
}
