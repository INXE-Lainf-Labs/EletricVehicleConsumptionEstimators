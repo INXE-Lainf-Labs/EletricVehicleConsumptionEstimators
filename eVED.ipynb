{
 "cells": [
  {
   "cell_type": "markdown",
   "id": "6eca3bcb-c8cb-4b0f-a083-dfdd46e8e265",
   "metadata": {
    "jp-MarkdownHeadingCollapsed": true
   },
   "source": [
    "# Introdução"
   ]
  },
  {
   "cell_type": "markdown",
   "id": "567c721e-517e-43ce-9e00-8bd459e02c33",
   "metadata": {},
   "source": [
    "Este notebook tem o objetivo de utilizar o conjunto de dados de consumo de veículos elétricos \n",
    "para realizar as etapas de pré-processamento de dados, divisão da base, treinamento de modelos\n",
    "do tipo MLP, busca por otimização de hyperparâmetros e estrutura da rede neural e uma portabilidade\n",
    "para execução da rede resultante em arquitetura esp32. \n",
    "Cada uma das atividades indicas é desenvolvida em um dos itens a seguir. Ressalta-se que não se \n",
    "buscou a excelência do resulto, mas a estruturação do código e a demonstração da possibilidade e\n",
    "de como se alcançar o objetivo. \n",
    "\n",
    "O conjunto de dados não consta no repositório devido ao tamanho dos arquivos, mas pode ser obtido\n",
    "em https://github.com/zhangsl2013/eVED . O dataset utilizado é uma exemplificação do trabalho a \n",
    "ser realizado no projeto DCAI, de modo que não se buscou trabalhar melhor os dados e nem efetivamente\n",
    "encontrar a MLP ótima, uma vez que os dados serão diferentes."
   ]
  },
  {
   "cell_type": "markdown",
   "id": "4d8ebbd6-ec07-46a3-b41b-9e168644bee2",
   "metadata": {
    "jp-MarkdownHeadingCollapsed": true
   },
   "source": [
    "# Concatenação dos Datasets"
   ]
  },
  {
   "cell_type": "code",
   "execution_count": 3,
   "id": "50c5c351-e7b9-47b8-a915-45110dc770af",
   "metadata": {},
   "outputs": [],
   "source": [
    "# O dataset eVED é disponibilizado fragmentado em diversos csvs. Para a sua utilização, é necessária a concatenação dos arquivos em um dataframe\n",
    "# Aqui encontram-se as importações de bibliotecas necessárias para realizar a concatenação\n",
    "import pandas as pd\n",
    "import glob\n",
    "import os"
   ]
  },
  {
   "cell_type": "code",
   "execution_count": 4,
   "id": "2aff5b53-b11b-4390-9210-54d5808ac3a4",
   "metadata": {},
   "outputs": [
    {
     "name": "stdout",
     "output_type": "stream",
     "text": [
      "./eVED/eVED_171101_week.csv\n"
     ]
    },
    {
     "name": "stderr",
     "output_type": "stream",
     "text": [
      "/tmp/ipykernel_17623/2094058288.py:6: DtypeWarning: Columns (30) have mixed types. Specify dtype option on import or set low_memory=False.\n",
      "  dataframes.append(pd.read_csv(filename))\n"
     ]
    },
    {
     "name": "stdout",
     "output_type": "stream",
     "text": [
      "./eVED/eVED_171108_week.csv\n"
     ]
    },
    {
     "name": "stderr",
     "output_type": "stream",
     "text": [
      "/tmp/ipykernel_17623/2094058288.py:6: DtypeWarning: Columns (30) have mixed types. Specify dtype option on import or set low_memory=False.\n",
      "  dataframes.append(pd.read_csv(filename))\n"
     ]
    },
    {
     "name": "stdout",
     "output_type": "stream",
     "text": [
      "./eVED/eVED_171115_week.csv\n"
     ]
    },
    {
     "name": "stderr",
     "output_type": "stream",
     "text": [
      "/tmp/ipykernel_17623/2094058288.py:6: DtypeWarning: Columns (30) have mixed types. Specify dtype option on import or set low_memory=False.\n",
      "  dataframes.append(pd.read_csv(filename))\n"
     ]
    },
    {
     "name": "stdout",
     "output_type": "stream",
     "text": [
      "./eVED/eVED_171122_week.csv\n"
     ]
    },
    {
     "name": "stderr",
     "output_type": "stream",
     "text": [
      "/tmp/ipykernel_17623/2094058288.py:6: DtypeWarning: Columns (30) have mixed types. Specify dtype option on import or set low_memory=False.\n",
      "  dataframes.append(pd.read_csv(filename))\n"
     ]
    },
    {
     "name": "stdout",
     "output_type": "stream",
     "text": [
      "./eVED/eVED_171129_week.csv\n"
     ]
    },
    {
     "name": "stderr",
     "output_type": "stream",
     "text": [
      "/tmp/ipykernel_17623/2094058288.py:6: DtypeWarning: Columns (30) have mixed types. Specify dtype option on import or set low_memory=False.\n",
      "  dataframes.append(pd.read_csv(filename))\n"
     ]
    },
    {
     "name": "stdout",
     "output_type": "stream",
     "text": [
      "./eVED/eVED_171206_week.csv\n"
     ]
    },
    {
     "name": "stderr",
     "output_type": "stream",
     "text": [
      "/tmp/ipykernel_17623/2094058288.py:6: DtypeWarning: Columns (30) have mixed types. Specify dtype option on import or set low_memory=False.\n",
      "  dataframes.append(pd.read_csv(filename))\n"
     ]
    },
    {
     "name": "stdout",
     "output_type": "stream",
     "text": [
      "./eVED/eVED_171213_week.csv\n"
     ]
    },
    {
     "name": "stderr",
     "output_type": "stream",
     "text": [
      "/tmp/ipykernel_17623/2094058288.py:6: DtypeWarning: Columns (30) have mixed types. Specify dtype option on import or set low_memory=False.\n",
      "  dataframes.append(pd.read_csv(filename))\n"
     ]
    },
    {
     "name": "stdout",
     "output_type": "stream",
     "text": [
      "./eVED/eVED_171220_week.csv\n"
     ]
    },
    {
     "name": "stderr",
     "output_type": "stream",
     "text": [
      "/tmp/ipykernel_17623/2094058288.py:6: DtypeWarning: Columns (30) have mixed types. Specify dtype option on import or set low_memory=False.\n",
      "  dataframes.append(pd.read_csv(filename))\n"
     ]
    },
    {
     "name": "stdout",
     "output_type": "stream",
     "text": [
      "./eVED/eVED_171227_week.csv\n"
     ]
    },
    {
     "name": "stderr",
     "output_type": "stream",
     "text": [
      "/tmp/ipykernel_17623/2094058288.py:6: DtypeWarning: Columns (30) have mixed types. Specify dtype option on import or set low_memory=False.\n",
      "  dataframes.append(pd.read_csv(filename))\n"
     ]
    },
    {
     "name": "stdout",
     "output_type": "stream",
     "text": [
      "./eVED/eVED_180103_week.csv\n"
     ]
    },
    {
     "name": "stderr",
     "output_type": "stream",
     "text": [
      "/tmp/ipykernel_17623/2094058288.py:6: DtypeWarning: Columns (30) have mixed types. Specify dtype option on import or set low_memory=False.\n",
      "  dataframes.append(pd.read_csv(filename))\n"
     ]
    },
    {
     "name": "stdout",
     "output_type": "stream",
     "text": [
      "./eVED/eVED_180110_week.csv\n"
     ]
    },
    {
     "name": "stderr",
     "output_type": "stream",
     "text": [
      "/tmp/ipykernel_17623/2094058288.py:6: DtypeWarning: Columns (30) have mixed types. Specify dtype option on import or set low_memory=False.\n",
      "  dataframes.append(pd.read_csv(filename))\n"
     ]
    },
    {
     "name": "stdout",
     "output_type": "stream",
     "text": [
      "./eVED/eVED_180117_week.csv\n"
     ]
    },
    {
     "name": "stderr",
     "output_type": "stream",
     "text": [
      "/tmp/ipykernel_17623/2094058288.py:6: DtypeWarning: Columns (30) have mixed types. Specify dtype option on import or set low_memory=False.\n",
      "  dataframes.append(pd.read_csv(filename))\n"
     ]
    },
    {
     "name": "stdout",
     "output_type": "stream",
     "text": [
      "./eVED/eVED_180124_week.csv\n"
     ]
    },
    {
     "name": "stderr",
     "output_type": "stream",
     "text": [
      "/tmp/ipykernel_17623/2094058288.py:6: DtypeWarning: Columns (30) have mixed types. Specify dtype option on import or set low_memory=False.\n",
      "  dataframes.append(pd.read_csv(filename))\n"
     ]
    },
    {
     "name": "stdout",
     "output_type": "stream",
     "text": [
      "./eVED/eVED_180131_week.csv\n"
     ]
    },
    {
     "name": "stderr",
     "output_type": "stream",
     "text": [
      "/tmp/ipykernel_17623/2094058288.py:6: DtypeWarning: Columns (30) have mixed types. Specify dtype option on import or set low_memory=False.\n",
      "  dataframes.append(pd.read_csv(filename))\n"
     ]
    },
    {
     "name": "stdout",
     "output_type": "stream",
     "text": [
      "./eVED/eVED_180207_week.csv\n"
     ]
    },
    {
     "name": "stderr",
     "output_type": "stream",
     "text": [
      "/tmp/ipykernel_17623/2094058288.py:6: DtypeWarning: Columns (30) have mixed types. Specify dtype option on import or set low_memory=False.\n",
      "  dataframes.append(pd.read_csv(filename))\n"
     ]
    },
    {
     "name": "stdout",
     "output_type": "stream",
     "text": [
      "./eVED/eVED_180214_week.csv\n"
     ]
    },
    {
     "name": "stderr",
     "output_type": "stream",
     "text": [
      "/tmp/ipykernel_17623/2094058288.py:6: DtypeWarning: Columns (30) have mixed types. Specify dtype option on import or set low_memory=False.\n",
      "  dataframes.append(pd.read_csv(filename))\n"
     ]
    },
    {
     "name": "stdout",
     "output_type": "stream",
     "text": [
      "./eVED/eVED_180221_week.csv\n"
     ]
    },
    {
     "name": "stderr",
     "output_type": "stream",
     "text": [
      "/tmp/ipykernel_17623/2094058288.py:6: DtypeWarning: Columns (30) have mixed types. Specify dtype option on import or set low_memory=False.\n",
      "  dataframes.append(pd.read_csv(filename))\n"
     ]
    },
    {
     "name": "stdout",
     "output_type": "stream",
     "text": [
      "./eVED/eVED_180228_week.csv\n"
     ]
    },
    {
     "name": "stderr",
     "output_type": "stream",
     "text": [
      "/tmp/ipykernel_17623/2094058288.py:6: DtypeWarning: Columns (30) have mixed types. Specify dtype option on import or set low_memory=False.\n",
      "  dataframes.append(pd.read_csv(filename))\n"
     ]
    },
    {
     "name": "stdout",
     "output_type": "stream",
     "text": [
      "./eVED/eVED_180307_week.csv\n"
     ]
    },
    {
     "name": "stderr",
     "output_type": "stream",
     "text": [
      "/tmp/ipykernel_17623/2094058288.py:6: DtypeWarning: Columns (30) have mixed types. Specify dtype option on import or set low_memory=False.\n",
      "  dataframes.append(pd.read_csv(filename))\n"
     ]
    },
    {
     "name": "stdout",
     "output_type": "stream",
     "text": [
      "./eVED/eVED_180314_week.csv\n"
     ]
    },
    {
     "name": "stderr",
     "output_type": "stream",
     "text": [
      "/tmp/ipykernel_17623/2094058288.py:6: DtypeWarning: Columns (30) have mixed types. Specify dtype option on import or set low_memory=False.\n",
      "  dataframes.append(pd.read_csv(filename))\n"
     ]
    },
    {
     "name": "stdout",
     "output_type": "stream",
     "text": [
      "./eVED/eVED_180321_week.csv\n"
     ]
    },
    {
     "name": "stderr",
     "output_type": "stream",
     "text": [
      "/tmp/ipykernel_17623/2094058288.py:6: DtypeWarning: Columns (30) have mixed types. Specify dtype option on import or set low_memory=False.\n",
      "  dataframes.append(pd.read_csv(filename))\n"
     ]
    },
    {
     "name": "stdout",
     "output_type": "stream",
     "text": [
      "./eVED/eVED_180328_week.csv\n"
     ]
    },
    {
     "name": "stderr",
     "output_type": "stream",
     "text": [
      "/tmp/ipykernel_17623/2094058288.py:6: DtypeWarning: Columns (30) have mixed types. Specify dtype option on import or set low_memory=False.\n",
      "  dataframes.append(pd.read_csv(filename))\n"
     ]
    },
    {
     "name": "stdout",
     "output_type": "stream",
     "text": [
      "./eVED/eVED_180404_week.csv\n"
     ]
    },
    {
     "name": "stderr",
     "output_type": "stream",
     "text": [
      "/tmp/ipykernel_17623/2094058288.py:6: DtypeWarning: Columns (30) have mixed types. Specify dtype option on import or set low_memory=False.\n",
      "  dataframes.append(pd.read_csv(filename))\n"
     ]
    },
    {
     "name": "stdout",
     "output_type": "stream",
     "text": [
      "./eVED/eVED_180411_week.csv\n"
     ]
    },
    {
     "name": "stderr",
     "output_type": "stream",
     "text": [
      "/tmp/ipykernel_17623/2094058288.py:6: DtypeWarning: Columns (30) have mixed types. Specify dtype option on import or set low_memory=False.\n",
      "  dataframes.append(pd.read_csv(filename))\n"
     ]
    },
    {
     "name": "stdout",
     "output_type": "stream",
     "text": [
      "./eVED/eVED_180418_week.csv\n"
     ]
    },
    {
     "name": "stderr",
     "output_type": "stream",
     "text": [
      "/tmp/ipykernel_17623/2094058288.py:6: DtypeWarning: Columns (30) have mixed types. Specify dtype option on import or set low_memory=False.\n",
      "  dataframes.append(pd.read_csv(filename))\n"
     ]
    },
    {
     "name": "stdout",
     "output_type": "stream",
     "text": [
      "./eVED/eVED_180425_week.csv\n"
     ]
    },
    {
     "name": "stderr",
     "output_type": "stream",
     "text": [
      "/tmp/ipykernel_17623/2094058288.py:6: DtypeWarning: Columns (30) have mixed types. Specify dtype option on import or set low_memory=False.\n",
      "  dataframes.append(pd.read_csv(filename))\n"
     ]
    },
    {
     "name": "stdout",
     "output_type": "stream",
     "text": [
      "./eVED/eVED_180502_week.csv\n"
     ]
    },
    {
     "name": "stderr",
     "output_type": "stream",
     "text": [
      "/tmp/ipykernel_17623/2094058288.py:6: DtypeWarning: Columns (30) have mixed types. Specify dtype option on import or set low_memory=False.\n",
      "  dataframes.append(pd.read_csv(filename))\n"
     ]
    },
    {
     "name": "stdout",
     "output_type": "stream",
     "text": [
      "./eVED/eVED_180509_week.csv\n"
     ]
    },
    {
     "name": "stderr",
     "output_type": "stream",
     "text": [
      "/tmp/ipykernel_17623/2094058288.py:6: DtypeWarning: Columns (30) have mixed types. Specify dtype option on import or set low_memory=False.\n",
      "  dataframes.append(pd.read_csv(filename))\n"
     ]
    },
    {
     "name": "stdout",
     "output_type": "stream",
     "text": [
      "./eVED/eVED_180516_week.csv\n"
     ]
    },
    {
     "name": "stderr",
     "output_type": "stream",
     "text": [
      "/tmp/ipykernel_17623/2094058288.py:6: DtypeWarning: Columns (30) have mixed types. Specify dtype option on import or set low_memory=False.\n",
      "  dataframes.append(pd.read_csv(filename))\n"
     ]
    },
    {
     "name": "stdout",
     "output_type": "stream",
     "text": [
      "./eVED/eVED_180523_week.csv\n"
     ]
    },
    {
     "name": "stderr",
     "output_type": "stream",
     "text": [
      "/tmp/ipykernel_17623/2094058288.py:6: DtypeWarning: Columns (30) have mixed types. Specify dtype option on import or set low_memory=False.\n",
      "  dataframes.append(pd.read_csv(filename))\n"
     ]
    },
    {
     "name": "stdout",
     "output_type": "stream",
     "text": [
      "./eVED/eVED_180530_week.csv\n"
     ]
    },
    {
     "name": "stderr",
     "output_type": "stream",
     "text": [
      "/tmp/ipykernel_17623/2094058288.py:6: DtypeWarning: Columns (30) have mixed types. Specify dtype option on import or set low_memory=False.\n",
      "  dataframes.append(pd.read_csv(filename))\n"
     ]
    },
    {
     "name": "stdout",
     "output_type": "stream",
     "text": [
      "./eVED/eVED_180606_week.csv\n"
     ]
    },
    {
     "name": "stderr",
     "output_type": "stream",
     "text": [
      "/tmp/ipykernel_17623/2094058288.py:6: DtypeWarning: Columns (30) have mixed types. Specify dtype option on import or set low_memory=False.\n",
      "  dataframes.append(pd.read_csv(filename))\n"
     ]
    },
    {
     "name": "stdout",
     "output_type": "stream",
     "text": [
      "./eVED/eVED_180613_week.csv\n"
     ]
    },
    {
     "name": "stderr",
     "output_type": "stream",
     "text": [
      "/tmp/ipykernel_17623/2094058288.py:6: DtypeWarning: Columns (30) have mixed types. Specify dtype option on import or set low_memory=False.\n",
      "  dataframes.append(pd.read_csv(filename))\n"
     ]
    },
    {
     "name": "stdout",
     "output_type": "stream",
     "text": [
      "./eVED/eVED_180620_week.csv\n"
     ]
    },
    {
     "name": "stderr",
     "output_type": "stream",
     "text": [
      "/tmp/ipykernel_17623/2094058288.py:6: DtypeWarning: Columns (30) have mixed types. Specify dtype option on import or set low_memory=False.\n",
      "  dataframes.append(pd.read_csv(filename))\n"
     ]
    },
    {
     "name": "stdout",
     "output_type": "stream",
     "text": [
      "./eVED/eVED_180627_week.csv\n"
     ]
    },
    {
     "name": "stderr",
     "output_type": "stream",
     "text": [
      "/tmp/ipykernel_17623/2094058288.py:6: DtypeWarning: Columns (30) have mixed types. Specify dtype option on import or set low_memory=False.\n",
      "  dataframes.append(pd.read_csv(filename))\n"
     ]
    },
    {
     "name": "stdout",
     "output_type": "stream",
     "text": [
      "./eVED/eVED_180704_week.csv\n"
     ]
    },
    {
     "name": "stderr",
     "output_type": "stream",
     "text": [
      "/tmp/ipykernel_17623/2094058288.py:6: DtypeWarning: Columns (30) have mixed types. Specify dtype option on import or set low_memory=False.\n",
      "  dataframes.append(pd.read_csv(filename))\n"
     ]
    },
    {
     "name": "stdout",
     "output_type": "stream",
     "text": [
      "./eVED/eVED_180711_week.csv\n"
     ]
    },
    {
     "name": "stderr",
     "output_type": "stream",
     "text": [
      "/tmp/ipykernel_17623/2094058288.py:6: DtypeWarning: Columns (30) have mixed types. Specify dtype option on import or set low_memory=False.\n",
      "  dataframes.append(pd.read_csv(filename))\n"
     ]
    },
    {
     "name": "stdout",
     "output_type": "stream",
     "text": [
      "./eVED/eVED_180718_week.csv\n"
     ]
    },
    {
     "name": "stderr",
     "output_type": "stream",
     "text": [
      "/tmp/ipykernel_17623/2094058288.py:6: DtypeWarning: Columns (30) have mixed types. Specify dtype option on import or set low_memory=False.\n",
      "  dataframes.append(pd.read_csv(filename))\n"
     ]
    },
    {
     "name": "stdout",
     "output_type": "stream",
     "text": [
      "./eVED/eVED_180725_week.csv\n"
     ]
    },
    {
     "name": "stderr",
     "output_type": "stream",
     "text": [
      "/tmp/ipykernel_17623/2094058288.py:6: DtypeWarning: Columns (30) have mixed types. Specify dtype option on import or set low_memory=False.\n",
      "  dataframes.append(pd.read_csv(filename))\n"
     ]
    },
    {
     "name": "stdout",
     "output_type": "stream",
     "text": [
      "./eVED/eVED_180801_week.csv\n"
     ]
    },
    {
     "name": "stderr",
     "output_type": "stream",
     "text": [
      "/tmp/ipykernel_17623/2094058288.py:6: DtypeWarning: Columns (30) have mixed types. Specify dtype option on import or set low_memory=False.\n",
      "  dataframes.append(pd.read_csv(filename))\n"
     ]
    },
    {
     "name": "stdout",
     "output_type": "stream",
     "text": [
      "./eVED/eVED_180808_week.csv\n"
     ]
    },
    {
     "name": "stderr",
     "output_type": "stream",
     "text": [
      "/tmp/ipykernel_17623/2094058288.py:6: DtypeWarning: Columns (30) have mixed types. Specify dtype option on import or set low_memory=False.\n",
      "  dataframes.append(pd.read_csv(filename))\n"
     ]
    },
    {
     "name": "stdout",
     "output_type": "stream",
     "text": [
      "./eVED/eVED_180815_week.csv\n"
     ]
    },
    {
     "name": "stderr",
     "output_type": "stream",
     "text": [
      "/tmp/ipykernel_17623/2094058288.py:6: DtypeWarning: Columns (30) have mixed types. Specify dtype option on import or set low_memory=False.\n",
      "  dataframes.append(pd.read_csv(filename))\n"
     ]
    },
    {
     "name": "stdout",
     "output_type": "stream",
     "text": [
      "./eVED/eVED_180822_week.csv\n"
     ]
    },
    {
     "name": "stderr",
     "output_type": "stream",
     "text": [
      "/tmp/ipykernel_17623/2094058288.py:6: DtypeWarning: Columns (30) have mixed types. Specify dtype option on import or set low_memory=False.\n",
      "  dataframes.append(pd.read_csv(filename))\n"
     ]
    },
    {
     "name": "stdout",
     "output_type": "stream",
     "text": [
      "./eVED/eVED_180829_week.csv\n"
     ]
    },
    {
     "name": "stderr",
     "output_type": "stream",
     "text": [
      "/tmp/ipykernel_17623/2094058288.py:6: DtypeWarning: Columns (30) have mixed types. Specify dtype option on import or set low_memory=False.\n",
      "  dataframes.append(pd.read_csv(filename))\n"
     ]
    },
    {
     "name": "stdout",
     "output_type": "stream",
     "text": [
      "./eVED/eVED_180905_week.csv\n"
     ]
    },
    {
     "name": "stderr",
     "output_type": "stream",
     "text": [
      "/tmp/ipykernel_17623/2094058288.py:6: DtypeWarning: Columns (30) have mixed types. Specify dtype option on import or set low_memory=False.\n",
      "  dataframes.append(pd.read_csv(filename))\n"
     ]
    },
    {
     "name": "stdout",
     "output_type": "stream",
     "text": [
      "./eVED/eVED_180912_week.csv\n"
     ]
    },
    {
     "name": "stderr",
     "output_type": "stream",
     "text": [
      "/tmp/ipykernel_17623/2094058288.py:6: DtypeWarning: Columns (30) have mixed types. Specify dtype option on import or set low_memory=False.\n",
      "  dataframes.append(pd.read_csv(filename))\n"
     ]
    },
    {
     "name": "stdout",
     "output_type": "stream",
     "text": [
      "./eVED/eVED_180919_week.csv\n"
     ]
    },
    {
     "name": "stderr",
     "output_type": "stream",
     "text": [
      "/tmp/ipykernel_17623/2094058288.py:6: DtypeWarning: Columns (30) have mixed types. Specify dtype option on import or set low_memory=False.\n",
      "  dataframes.append(pd.read_csv(filename))\n"
     ]
    },
    {
     "name": "stdout",
     "output_type": "stream",
     "text": [
      "./eVED/eVED_180926_week.csv\n"
     ]
    },
    {
     "name": "stderr",
     "output_type": "stream",
     "text": [
      "/tmp/ipykernel_17623/2094058288.py:6: DtypeWarning: Columns (30) have mixed types. Specify dtype option on import or set low_memory=False.\n",
      "  dataframes.append(pd.read_csv(filename))\n"
     ]
    },
    {
     "name": "stdout",
     "output_type": "stream",
     "text": [
      "./eVED/eVED_181003_week.csv\n"
     ]
    },
    {
     "name": "stderr",
     "output_type": "stream",
     "text": [
      "/tmp/ipykernel_17623/2094058288.py:6: DtypeWarning: Columns (30) have mixed types. Specify dtype option on import or set low_memory=False.\n",
      "  dataframes.append(pd.read_csv(filename))\n"
     ]
    },
    {
     "name": "stdout",
     "output_type": "stream",
     "text": [
      "./eVED/eVED_181010_week.csv\n"
     ]
    },
    {
     "name": "stderr",
     "output_type": "stream",
     "text": [
      "/tmp/ipykernel_17623/2094058288.py:6: DtypeWarning: Columns (30) have mixed types. Specify dtype option on import or set low_memory=False.\n",
      "  dataframes.append(pd.read_csv(filename))\n"
     ]
    },
    {
     "name": "stdout",
     "output_type": "stream",
     "text": [
      "./eVED/eVED_181017_week.csv\n"
     ]
    },
    {
     "name": "stderr",
     "output_type": "stream",
     "text": [
      "/tmp/ipykernel_17623/2094058288.py:6: DtypeWarning: Columns (30) have mixed types. Specify dtype option on import or set low_memory=False.\n",
      "  dataframes.append(pd.read_csv(filename))\n"
     ]
    },
    {
     "name": "stdout",
     "output_type": "stream",
     "text": [
      "./eVED/eVED_181024_week.csv\n"
     ]
    },
    {
     "name": "stderr",
     "output_type": "stream",
     "text": [
      "/tmp/ipykernel_17623/2094058288.py:6: DtypeWarning: Columns (30) have mixed types. Specify dtype option on import or set low_memory=False.\n",
      "  dataframes.append(pd.read_csv(filename))\n"
     ]
    },
    {
     "name": "stdout",
     "output_type": "stream",
     "text": [
      "./eVED/eVED_181031_week.csv\n"
     ]
    },
    {
     "name": "stderr",
     "output_type": "stream",
     "text": [
      "/tmp/ipykernel_17623/2094058288.py:6: DtypeWarning: Columns (30) have mixed types. Specify dtype option on import or set low_memory=False.\n",
      "  dataframes.append(pd.read_csv(filename))\n"
     ]
    },
    {
     "name": "stdout",
     "output_type": "stream",
     "text": [
      "./eVED/eVED_181107_week.csv\n"
     ]
    },
    {
     "data": {
      "text/plain": [
       "(22436808, 36)"
      ]
     },
     "execution_count": 4,
     "metadata": {},
     "output_type": "execute_result"
    }
   ],
   "source": [
    "# Lista todos os arquivos csv contidos na pasta do dataset eved\n",
    "filelist = glob.glob(os.path.join(\"./eVED/\", '*.csv'))\n",
    "dataframes = []\n",
    "\n",
    "# Itera por todos os arquivos, lendo-os para memória e adicionando em uma lista de dataframes\n",
    "for filename in sorted(filelist): \n",
    "    print (str(filename))\n",
    "    dataframes.append(pd.read_csv(filename))\n",
    "\n",
    "# Concatena todos os dataframes lidos\n",
    "data = pd.concat(dataframes)\n",
    "data.shape"
   ]
  },
  {
   "cell_type": "code",
   "execution_count": 6,
   "id": "fd127290-73df-4aac-8012-dbf1b80d6656",
   "metadata": {},
   "outputs": [],
   "source": [
    "# Escreve o dataset concatenado em um arquivo de saída\n",
    "# df.to_csv(\"./dataset.csv\", index=False)"
   ]
  },
  {
   "cell_type": "markdown",
   "id": "3ddc1a0f-354b-4319-adcb-144f7d7b17ea",
   "metadata": {
    "jp-MarkdownHeadingCollapsed": true
   },
   "source": [
    "# Pre-processamento dos Dados"
   ]
  },
  {
   "cell_type": "code",
   "execution_count": 1,
   "id": "ee1cebe3-15b2-4ae6-b760-ad0fda2c3ff2",
   "metadata": {},
   "outputs": [],
   "source": [
    "# Para realizar o treinamento das redes neurais do tipo MLP, é necessário um pré-processamento mínimo,\n",
    "# incluindo etapas como remoção de missing values e criação de dummies para colunas categóricas\n",
    "# Importação da biblioteca necessária para o tratamento\n",
    "import pandas as pd"
   ]
  },
  {
   "cell_type": "code",
   "execution_count": 2,
   "id": "8e465bff-7f43-4cd7-801a-9d8755053f99",
   "metadata": {},
   "outputs": [
    {
     "name": "stderr",
     "output_type": "stream",
     "text": [
      "/tmp/ipykernel_6954/2953119222.py:1: DtypeWarning: Columns (31,35,36) have mixed types. Specify dtype option on import or set low_memory=False.\n",
      "  data = pd.read_csv(\"./dataset.csv\")\n"
     ]
    },
    {
     "data": {
      "text/html": [
       "<div>\n",
       "<style scoped>\n",
       "    .dataframe tbody tr th:only-of-type {\n",
       "        vertical-align: middle;\n",
       "    }\n",
       "\n",
       "    .dataframe tbody tr th {\n",
       "        vertical-align: top;\n",
       "    }\n",
       "\n",
       "    .dataframe thead th {\n",
       "        text-align: right;\n",
       "    }\n",
       "</style>\n",
       "<table border=\"1\" class=\"dataframe\">\n",
       "  <thead>\n",
       "    <tr style=\"text-align: right;\">\n",
       "      <th></th>\n",
       "      <th>Unnamed: 0</th>\n",
       "      <th>DayNum</th>\n",
       "      <th>VehId</th>\n",
       "      <th>Trip</th>\n",
       "      <th>Timestamp(ms)</th>\n",
       "      <th>Latitude[deg]</th>\n",
       "      <th>Longitude[deg]</th>\n",
       "      <th>Vehicle Speed[km/h]</th>\n",
       "      <th>MAF[g/sec]</th>\n",
       "      <th>Engine RPM[RPM]</th>\n",
       "      <th>...</th>\n",
       "      <th>Matchted Latitude[deg]</th>\n",
       "      <th>Matched Longitude[deg]</th>\n",
       "      <th>Match Type</th>\n",
       "      <th>Class of Speed Limit</th>\n",
       "      <th>Speed Limit[km/h]</th>\n",
       "      <th>Speed Limit with Direction[km/h]</th>\n",
       "      <th>Intersection</th>\n",
       "      <th>Bus Stops</th>\n",
       "      <th>Focus Points</th>\n",
       "      <th>Focus Points;</th>\n",
       "    </tr>\n",
       "  </thead>\n",
       "  <tbody>\n",
       "    <tr>\n",
       "      <th>0</th>\n",
       "      <td>0</td>\n",
       "      <td>1.586651</td>\n",
       "      <td>8.0</td>\n",
       "      <td>706.0</td>\n",
       "      <td>0.0</td>\n",
       "      <td>42.277558</td>\n",
       "      <td>-83.69875</td>\n",
       "      <td>40.0</td>\n",
       "      <td>22.129999</td>\n",
       "      <td>2285.0</td>\n",
       "      <td>...</td>\n",
       "      <td>42.277558</td>\n",
       "      <td>-83.698767</td>\n",
       "      <td>0</td>\n",
       "      <td>0.0</td>\n",
       "      <td>56</td>\n",
       "      <td>56.0</td>\n",
       "      <td>NaN</td>\n",
       "      <td>NaN</td>\n",
       "      <td>NaN</td>\n",
       "      <td>NaN</td>\n",
       "    </tr>\n",
       "    <tr>\n",
       "      <th>1</th>\n",
       "      <td>1</td>\n",
       "      <td>1.586651</td>\n",
       "      <td>8.0</td>\n",
       "      <td>706.0</td>\n",
       "      <td>200.0</td>\n",
       "      <td>42.277558</td>\n",
       "      <td>-83.69875</td>\n",
       "      <td>40.0</td>\n",
       "      <td>22.129999</td>\n",
       "      <td>2285.0</td>\n",
       "      <td>...</td>\n",
       "      <td>42.277558</td>\n",
       "      <td>-83.698767</td>\n",
       "      <td>1</td>\n",
       "      <td>0.0</td>\n",
       "      <td>56</td>\n",
       "      <td>56.0</td>\n",
       "      <td>NaN</td>\n",
       "      <td>NaN</td>\n",
       "      <td>NaN</td>\n",
       "      <td>NaN</td>\n",
       "    </tr>\n",
       "    <tr>\n",
       "      <th>2</th>\n",
       "      <td>2</td>\n",
       "      <td>1.586651</td>\n",
       "      <td>8.0</td>\n",
       "      <td>706.0</td>\n",
       "      <td>1100.0</td>\n",
       "      <td>42.277558</td>\n",
       "      <td>-83.69875</td>\n",
       "      <td>45.0</td>\n",
       "      <td>22.129999</td>\n",
       "      <td>2285.0</td>\n",
       "      <td>...</td>\n",
       "      <td>42.277558</td>\n",
       "      <td>-83.698767</td>\n",
       "      <td>1</td>\n",
       "      <td>0.0</td>\n",
       "      <td>56</td>\n",
       "      <td>56.0</td>\n",
       "      <td>NaN</td>\n",
       "      <td>NaN</td>\n",
       "      <td>NaN</td>\n",
       "      <td>NaN</td>\n",
       "    </tr>\n",
       "    <tr>\n",
       "      <th>3</th>\n",
       "      <td>3</td>\n",
       "      <td>1.586651</td>\n",
       "      <td>8.0</td>\n",
       "      <td>706.0</td>\n",
       "      <td>2100.0</td>\n",
       "      <td>42.277558</td>\n",
       "      <td>-83.69875</td>\n",
       "      <td>47.0</td>\n",
       "      <td>6.150000</td>\n",
       "      <td>2744.0</td>\n",
       "      <td>...</td>\n",
       "      <td>42.277558</td>\n",
       "      <td>-83.698767</td>\n",
       "      <td>1</td>\n",
       "      <td>0.0</td>\n",
       "      <td>56</td>\n",
       "      <td>56.0</td>\n",
       "      <td>NaN</td>\n",
       "      <td>NaN</td>\n",
       "      <td>NaN</td>\n",
       "      <td>NaN</td>\n",
       "    </tr>\n",
       "    <tr>\n",
       "      <th>4</th>\n",
       "      <td>4</td>\n",
       "      <td>1.586651</td>\n",
       "      <td>8.0</td>\n",
       "      <td>706.0</td>\n",
       "      <td>4200.0</td>\n",
       "      <td>42.277558</td>\n",
       "      <td>-83.69875</td>\n",
       "      <td>48.0</td>\n",
       "      <td>21.440001</td>\n",
       "      <td>1982.0</td>\n",
       "      <td>...</td>\n",
       "      <td>42.277558</td>\n",
       "      <td>-83.698767</td>\n",
       "      <td>1</td>\n",
       "      <td>0.0</td>\n",
       "      <td>56</td>\n",
       "      <td>56.0</td>\n",
       "      <td>NaN</td>\n",
       "      <td>NaN</td>\n",
       "      <td>NaN</td>\n",
       "      <td>NaN</td>\n",
       "    </tr>\n",
       "  </tbody>\n",
       "</table>\n",
       "<p>5 rows × 37 columns</p>\n",
       "</div>"
      ],
      "text/plain": [
       "   Unnamed: 0    DayNum  VehId   Trip  Timestamp(ms)  Latitude[deg]  \\\n",
       "0           0  1.586651    8.0  706.0            0.0      42.277558   \n",
       "1           1  1.586651    8.0  706.0          200.0      42.277558   \n",
       "2           2  1.586651    8.0  706.0         1100.0      42.277558   \n",
       "3           3  1.586651    8.0  706.0         2100.0      42.277558   \n",
       "4           4  1.586651    8.0  706.0         4200.0      42.277558   \n",
       "\n",
       "   Longitude[deg]  Vehicle Speed[km/h]  MAF[g/sec]  Engine RPM[RPM]  ...  \\\n",
       "0       -83.69875                 40.0   22.129999           2285.0  ...   \n",
       "1       -83.69875                 40.0   22.129999           2285.0  ...   \n",
       "2       -83.69875                 45.0   22.129999           2285.0  ...   \n",
       "3       -83.69875                 47.0    6.150000           2744.0  ...   \n",
       "4       -83.69875                 48.0   21.440001           1982.0  ...   \n",
       "\n",
       "   Matchted Latitude[deg]  Matched Longitude[deg]  Match Type  \\\n",
       "0               42.277558              -83.698767           0   \n",
       "1               42.277558              -83.698767           1   \n",
       "2               42.277558              -83.698767           1   \n",
       "3               42.277558              -83.698767           1   \n",
       "4               42.277558              -83.698767           1   \n",
       "\n",
       "   Class of Speed Limit  Speed Limit[km/h]  Speed Limit with Direction[km/h]  \\\n",
       "0                   0.0                 56                              56.0   \n",
       "1                   0.0                 56                              56.0   \n",
       "2                   0.0                 56                              56.0   \n",
       "3                   0.0                 56                              56.0   \n",
       "4                   0.0                 56                              56.0   \n",
       "\n",
       "   Intersection  Bus Stops  Focus Points  Focus Points;  \n",
       "0           NaN        NaN           NaN            NaN  \n",
       "1           NaN        NaN           NaN            NaN  \n",
       "2           NaN        NaN           NaN            NaN  \n",
       "3           NaN        NaN           NaN            NaN  \n",
       "4           NaN        NaN           NaN            NaN  \n",
       "\n",
       "[5 rows x 37 columns]"
      ]
     },
     "execution_count": 2,
     "metadata": {},
     "output_type": "execute_result"
    }
   ],
   "source": [
    "# Leitura do dataset concatenado, caso não esteja em memória ainda\n",
    "data = pd.read_csv(\"./dataset.csv\")\n",
    "data.head()"
   ]
  },
  {
   "cell_type": "code",
   "execution_count": 3,
   "id": "1029cbc7-0e0a-47eb-9874-642c8da2a079",
   "metadata": {},
   "outputs": [
    {
     "name": "stdout",
     "output_type": "stream",
     "text": [
      "<class 'pandas.core.frame.DataFrame'>\n",
      "RangeIndex: 22436808 entries, 0 to 22436807\n",
      "Data columns (total 37 columns):\n",
      " #   Column                            Dtype  \n",
      "---  ------                            -----  \n",
      " 0   Unnamed: 0                        int64  \n",
      " 1   DayNum                            float64\n",
      " 2   VehId                             float64\n",
      " 3   Trip                              float64\n",
      " 4   Timestamp(ms)                     float64\n",
      " 5   Latitude[deg]                     float64\n",
      " 6   Longitude[deg]                    float64\n",
      " 7   Vehicle Speed[km/h]               float64\n",
      " 8   MAF[g/sec]                        float64\n",
      " 9   Engine RPM[RPM]                   float64\n",
      " 10  Absolute Load[%]                  float64\n",
      " 11  OAT[DegC]                         float64\n",
      " 12  Fuel Rate[L/hr]                   float64\n",
      " 13  Air Conditioning Power[kW]        float64\n",
      " 14  Air Conditioning Power[Watts]     float64\n",
      " 15  Heater Power[Watts]               float64\n",
      " 16  HV Battery Current[A]             float64\n",
      " 17  HV Battery SOC[%]                 float64\n",
      " 18  HV Battery Voltage[V]             float64\n",
      " 19  Short Term Fuel Trim Bank 1[%]    float64\n",
      " 20  Short Term Fuel Trim Bank 2[%]    float64\n",
      " 21  Long Term Fuel Trim Bank 1[%]     float64\n",
      " 22  Long Term Fuel Trim Bank 2[%]     float64\n",
      " 23  Elevation Raw[m]                  float64\n",
      " 24  Elevation Smoothed[m]             float64\n",
      " 25  Gradient                          float64\n",
      " 26  Energy_Consumption                float64\n",
      " 27  Matchted Latitude[deg]            float64\n",
      " 28  Matched Longitude[deg]            float64\n",
      " 29  Match Type                        int64  \n",
      " 30  Class of Speed Limit              float64\n",
      " 31  Speed Limit[km/h]                 object \n",
      " 32  Speed Limit with Direction[km/h]  float64\n",
      " 33  Intersection                      float64\n",
      " 34  Bus Stops                         float64\n",
      " 35  Focus Points                      object \n",
      " 36  Focus Points;                     object \n",
      "dtypes: float64(32), int64(2), object(3)\n",
      "memory usage: 6.2+ GB\n"
     ]
    }
   ],
   "source": [
    "# Exploração das colunas disponíveis e seus tipos\n",
    "data.info()"
   ]
  },
  {
   "cell_type": "code",
   "execution_count": 4,
   "id": "5727d82d-1d4f-485c-b012-b8f33a3dc483",
   "metadata": {},
   "outputs": [
    {
     "name": "stdout",
     "output_type": "stream",
     "text": [
      "<class 'pandas.core.frame.DataFrame'>\n",
      "RangeIndex: 22436808 entries, 0 to 22436807\n",
      "Data columns (total 18 columns):\n",
      " #   Column                            Dtype  \n",
      "---  ------                            -----  \n",
      " 0   Latitude[deg]                     float64\n",
      " 1   Longitude[deg]                    float64\n",
      " 2   Vehicle Speed[km/h]               float64\n",
      " 3   MAF[g/sec]                        float64\n",
      " 4   Engine RPM[RPM]                   float64\n",
      " 5   Absolute Load[%]                  float64\n",
      " 6   Short Term Fuel Trim Bank 1[%]    float64\n",
      " 7   Long Term Fuel Trim Bank 1[%]     float64\n",
      " 8   Elevation Raw[m]                  float64\n",
      " 9   Elevation Smoothed[m]             float64\n",
      " 10  Gradient                          float64\n",
      " 11  Energy_Consumption                float64\n",
      " 12  Matchted Latitude[deg]            float64\n",
      " 13  Matched Longitude[deg]            float64\n",
      " 14  Match Type                        int64  \n",
      " 15  Class of Speed Limit              float64\n",
      " 16  Speed Limit[km/h]                 object \n",
      " 17  Speed Limit with Direction[km/h]  float64\n",
      "dtypes: float64(16), int64(1), object(1)\n",
      "memory usage: 3.0+ GB\n"
     ]
    }
   ],
   "source": [
    "# Removendo colunas que estão inteiramente compostas por missing values\n",
    "# A utilização de inplace é primordial para economia de memória, uma vez que o dataset é grande\n",
    "data.drop(\n",
    "    columns=[\n",
    "        \"Unnamed: 0\", \n",
    "        \"DayNum\", \n",
    "        \"VehId\", \n",
    "        \"Trip\", \n",
    "        \"Timestamp(ms)\", \n",
    "        \"Fuel Rate[L/hr]\", \n",
    "        \"Air Conditioning Power[kW]\", \n",
    "        \"Air Conditioning Power[Watts]\", \n",
    "        \"Heater Power[Watts]\",\n",
    "        \"HV Battery Current[A]\",\n",
    "        \"HV Battery SOC[%]\",\n",
    "        \"HV Battery Voltage[V]\",\n",
    "        \"Short Term Fuel Trim Bank 2[%]\",\n",
    "        \"Long Term Fuel Trim Bank 2[%]\",\n",
    "        \"Intersection\",\n",
    "        \"Bus Stops\",\n",
    "        \"Focus Points\",\n",
    "        \"Focus Points;\",\n",
    "        \"OAT[DegC]\"\n",
    "    ], \n",
    "    inplace=True\n",
    ")\n",
    "data.info()"
   ]
  },
  {
   "cell_type": "code",
   "execution_count": 5,
   "id": "bf8b05c4-7d0f-426b-b8bc-db9639eb24e6",
   "metadata": {},
   "outputs": [],
   "source": [
    "# Removendo as linhas que estão com missing values nas colunas selecionadas\n",
    "data.dropna(\n",
    "    subset=[\n",
    "        \"Vehicle Speed[km/h]\", \n",
    "        \"MAF[g/sec]\", \n",
    "        \"Engine RPM[RPM]\", \n",
    "        \"Absolute Load[%]\", \n",
    "        \"Gradient\", \n",
    "        \"Class of Speed Limit\", \n",
    "        \"Short Term Fuel Trim Bank 1[%]\", \n",
    "        \"Long Term Fuel Trim Bank 1[%]\", \n",
    "        \"Energy_Consumption\"\n",
    "    ], \n",
    "    inplace=True\n",
    ")"
   ]
  },
  {
   "cell_type": "code",
   "execution_count": 6,
   "id": "58d3fff1-4497-45e2-bb1c-a0a48d74df93",
   "metadata": {},
   "outputs": [],
   "source": [
    "# Renomeando um erro de grafia do dataset original\n",
    "data.rename(columns={\"Matchted Latitude[deg]\": \"Matched Latitude[deg]\"}, inplace=True)"
   ]
  },
  {
   "cell_type": "code",
   "execution_count": 7,
   "id": "294e331a-c34c-47d2-8817-0cb4d0f71c34",
   "metadata": {},
   "outputs": [],
   "source": [
    "# O limite de velocidade na via não interfere se eu já tenho a velocidade do veículo\n",
    "# Removendo colunas que são desnecessariamente complicadas\n",
    "data.drop(\n",
    "    columns=[\n",
    "        \"Class of Speed Limit\",\n",
    "        \"Speed Limit[km/h]\",\n",
    "        \"Speed Limit with Direction[km/h]\"\n",
    "    ], \n",
    "    inplace=True\n",
    ")"
   ]
  },
  {
   "cell_type": "code",
   "execution_count": 8,
   "id": "b29e363a-e0e6-4ce2-85a5-34c94d2b76a1",
   "metadata": {},
   "outputs": [
    {
     "data": {
      "text/plain": [
       "(10845038, 15)"
      ]
     },
     "execution_count": 8,
     "metadata": {},
     "output_type": "execute_result"
    }
   ],
   "source": [
    "# O dataset obtido após a remoção de missing values possui mais de 10 milhões de linhas e 15 colunas\n",
    "data.shape"
   ]
  },
  {
   "cell_type": "code",
   "execution_count": 9,
   "id": "5d75a870-0d51-4268-8387-c0e9ca274b81",
   "metadata": {},
   "outputs": [
    {
     "name": "stdout",
     "output_type": "stream",
     "text": [
      "<class 'pandas.core.frame.DataFrame'>\n",
      "Index: 10845038 entries, 95220 to 22436807\n",
      "Data columns (total 15 columns):\n",
      " #   Column                          Dtype  \n",
      "---  ------                          -----  \n",
      " 0   Latitude[deg]                   float64\n",
      " 1   Longitude[deg]                  float64\n",
      " 2   Vehicle Speed[km/h]             float64\n",
      " 3   MAF[g/sec]                      float64\n",
      " 4   Engine RPM[RPM]                 float64\n",
      " 5   Absolute Load[%]                float64\n",
      " 6   Short Term Fuel Trim Bank 1[%]  float64\n",
      " 7   Long Term Fuel Trim Bank 1[%]   float64\n",
      " 8   Elevation Raw[m]                float64\n",
      " 9   Elevation Smoothed[m]           float64\n",
      " 10  Gradient                        float64\n",
      " 11  Energy_Consumption              float64\n",
      " 12  Matched Latitude[deg]           float64\n",
      " 13  Matched Longitude[deg]          float64\n",
      " 14  Match Type                      int64  \n",
      "dtypes: float64(14), int64(1)\n",
      "memory usage: 1.3 GB\n"
     ]
    }
   ],
   "source": [
    "# Colunas restantes e os seus respectivos tipos\n",
    "data.info()"
   ]
  },
  {
   "cell_type": "code",
   "execution_count": 10,
   "id": "7a46a57e-8450-42c1-a1d4-3723064d2b72",
   "metadata": {},
   "outputs": [
    {
     "name": "stdout",
     "output_type": "stream",
     "text": [
      "<class 'pandas.core.frame.DataFrame'>\n",
      "Index: 10845038 entries, 95220 to 22436807\n",
      "Data columns (total 17 columns):\n",
      " #   Column                          Dtype  \n",
      "---  ------                          -----  \n",
      " 0   Latitude[deg]                   float64\n",
      " 1   Longitude[deg]                  float64\n",
      " 2   Vehicle Speed[km/h]             float64\n",
      " 3   MAF[g/sec]                      float64\n",
      " 4   Engine RPM[RPM]                 float64\n",
      " 5   Absolute Load[%]                float64\n",
      " 6   Short Term Fuel Trim Bank 1[%]  float64\n",
      " 7   Long Term Fuel Trim Bank 1[%]   float64\n",
      " 8   Elevation Raw[m]                float64\n",
      " 9   Elevation Smoothed[m]           float64\n",
      " 10  Gradient                        float64\n",
      " 11  Energy_Consumption              float64\n",
      " 12  Matched Latitude[deg]           float64\n",
      " 13  Matched Longitude[deg]          float64\n",
      " 14  Match Type_0                    int64  \n",
      " 15  Match Type_1                    int64  \n",
      " 16  Match Type_2                    int64  \n",
      "dtypes: float64(14), int64(3)\n",
      "memory usage: 1.5 GB\n"
     ]
    }
   ],
   "source": [
    "# A coluna Match Type é categórica e precisa ser tratada para não refletir uma ordem de grandeza\n",
    "data = pd.get_dummies(data, columns=[\"Match Type\"], dtype=int)\n",
    "data.info()"
   ]
  },
  {
   "cell_type": "code",
   "execution_count": 11,
   "id": "3cec7003-4f26-4c9f-972e-3347f4d33c30",
   "metadata": {},
   "outputs": [
    {
     "data": {
      "text/html": [
       "<div>\n",
       "<style scoped>\n",
       "    .dataframe tbody tr th:only-of-type {\n",
       "        vertical-align: middle;\n",
       "    }\n",
       "\n",
       "    .dataframe tbody tr th {\n",
       "        vertical-align: top;\n",
       "    }\n",
       "\n",
       "    .dataframe thead th {\n",
       "        text-align: right;\n",
       "    }\n",
       "</style>\n",
       "<table border=\"1\" class=\"dataframe\">\n",
       "  <thead>\n",
       "    <tr style=\"text-align: right;\">\n",
       "      <th></th>\n",
       "      <th>Latitude[deg]</th>\n",
       "      <th>Longitude[deg]</th>\n",
       "      <th>Vehicle Speed[km/h]</th>\n",
       "      <th>MAF[g/sec]</th>\n",
       "      <th>Engine RPM[RPM]</th>\n",
       "      <th>Absolute Load[%]</th>\n",
       "      <th>Short Term Fuel Trim Bank 1[%]</th>\n",
       "      <th>Long Term Fuel Trim Bank 1[%]</th>\n",
       "      <th>Elevation Raw[m]</th>\n",
       "      <th>Elevation Smoothed[m]</th>\n",
       "      <th>Gradient</th>\n",
       "      <th>Energy_Consumption</th>\n",
       "      <th>Matched Latitude[deg]</th>\n",
       "      <th>Matched Longitude[deg]</th>\n",
       "      <th>Match Type_0</th>\n",
       "      <th>Match Type_1</th>\n",
       "      <th>Match Type_2</th>\n",
       "    </tr>\n",
       "  </thead>\n",
       "  <tbody>\n",
       "    <tr>\n",
       "      <th>95220</th>\n",
       "      <td>42.242235</td>\n",
       "      <td>-83.767309</td>\n",
       "      <td>33.0</td>\n",
       "      <td>32.799999</td>\n",
       "      <td>1348.0</td>\n",
       "      <td>45.490196</td>\n",
       "      <td>-3.90625</td>\n",
       "      <td>-3.125</td>\n",
       "      <td>279.584839</td>\n",
       "      <td>279.584839</td>\n",
       "      <td>0.0</td>\n",
       "      <td>0.006692</td>\n",
       "      <td>42.242183</td>\n",
       "      <td>-83.767381</td>\n",
       "      <td>1</td>\n",
       "      <td>0</td>\n",
       "      <td>0</td>\n",
       "    </tr>\n",
       "    <tr>\n",
       "      <th>95221</th>\n",
       "      <td>42.242235</td>\n",
       "      <td>-83.767309</td>\n",
       "      <td>37.0</td>\n",
       "      <td>32.799999</td>\n",
       "      <td>1348.0</td>\n",
       "      <td>45.490196</td>\n",
       "      <td>-3.90625</td>\n",
       "      <td>-3.125</td>\n",
       "      <td>279.584839</td>\n",
       "      <td>279.584839</td>\n",
       "      <td>0.0</td>\n",
       "      <td>0.007503</td>\n",
       "      <td>42.242183</td>\n",
       "      <td>-83.767381</td>\n",
       "      <td>0</td>\n",
       "      <td>1</td>\n",
       "      <td>0</td>\n",
       "    </tr>\n",
       "    <tr>\n",
       "      <th>95222</th>\n",
       "      <td>42.242235</td>\n",
       "      <td>-83.767309</td>\n",
       "      <td>39.0</td>\n",
       "      <td>32.799999</td>\n",
       "      <td>1348.0</td>\n",
       "      <td>45.490196</td>\n",
       "      <td>-3.90625</td>\n",
       "      <td>-3.125</td>\n",
       "      <td>279.584839</td>\n",
       "      <td>279.584839</td>\n",
       "      <td>0.0</td>\n",
       "      <td>0.007909</td>\n",
       "      <td>42.242183</td>\n",
       "      <td>-83.767381</td>\n",
       "      <td>0</td>\n",
       "      <td>1</td>\n",
       "      <td>0</td>\n",
       "    </tr>\n",
       "    <tr>\n",
       "      <th>95223</th>\n",
       "      <td>42.242235</td>\n",
       "      <td>-83.767309</td>\n",
       "      <td>39.0</td>\n",
       "      <td>32.799999</td>\n",
       "      <td>1422.0</td>\n",
       "      <td>45.490196</td>\n",
       "      <td>-3.90625</td>\n",
       "      <td>-3.125</td>\n",
       "      <td>279.584839</td>\n",
       "      <td>279.584839</td>\n",
       "      <td>0.0</td>\n",
       "      <td>0.007909</td>\n",
       "      <td>42.242183</td>\n",
       "      <td>-83.767381</td>\n",
       "      <td>0</td>\n",
       "      <td>1</td>\n",
       "      <td>0</td>\n",
       "    </tr>\n",
       "    <tr>\n",
       "      <th>95224</th>\n",
       "      <td>42.242235</td>\n",
       "      <td>-83.767309</td>\n",
       "      <td>39.0</td>\n",
       "      <td>12.660000</td>\n",
       "      <td>1422.0</td>\n",
       "      <td>45.490196</td>\n",
       "      <td>-3.90625</td>\n",
       "      <td>-3.125</td>\n",
       "      <td>279.584839</td>\n",
       "      <td>279.584839</td>\n",
       "      <td>0.0</td>\n",
       "      <td>0.003053</td>\n",
       "      <td>42.242183</td>\n",
       "      <td>-83.767381</td>\n",
       "      <td>0</td>\n",
       "      <td>1</td>\n",
       "      <td>0</td>\n",
       "    </tr>\n",
       "  </tbody>\n",
       "</table>\n",
       "</div>"
      ],
      "text/plain": [
       "       Latitude[deg]  Longitude[deg]  Vehicle Speed[km/h]  MAF[g/sec]  \\\n",
       "95220      42.242235      -83.767309                 33.0   32.799999   \n",
       "95221      42.242235      -83.767309                 37.0   32.799999   \n",
       "95222      42.242235      -83.767309                 39.0   32.799999   \n",
       "95223      42.242235      -83.767309                 39.0   32.799999   \n",
       "95224      42.242235      -83.767309                 39.0   12.660000   \n",
       "\n",
       "       Engine RPM[RPM]  Absolute Load[%]  Short Term Fuel Trim Bank 1[%]  \\\n",
       "95220           1348.0         45.490196                        -3.90625   \n",
       "95221           1348.0         45.490196                        -3.90625   \n",
       "95222           1348.0         45.490196                        -3.90625   \n",
       "95223           1422.0         45.490196                        -3.90625   \n",
       "95224           1422.0         45.490196                        -3.90625   \n",
       "\n",
       "       Long Term Fuel Trim Bank 1[%]  Elevation Raw[m]  Elevation Smoothed[m]  \\\n",
       "95220                         -3.125        279.584839             279.584839   \n",
       "95221                         -3.125        279.584839             279.584839   \n",
       "95222                         -3.125        279.584839             279.584839   \n",
       "95223                         -3.125        279.584839             279.584839   \n",
       "95224                         -3.125        279.584839             279.584839   \n",
       "\n",
       "       Gradient  Energy_Consumption  Matched Latitude[deg]  \\\n",
       "95220       0.0            0.006692              42.242183   \n",
       "95221       0.0            0.007503              42.242183   \n",
       "95222       0.0            0.007909              42.242183   \n",
       "95223       0.0            0.007909              42.242183   \n",
       "95224       0.0            0.003053              42.242183   \n",
       "\n",
       "       Matched Longitude[deg]  Match Type_0  Match Type_1  Match Type_2  \n",
       "95220              -83.767381             1             0             0  \n",
       "95221              -83.767381             0             1             0  \n",
       "95222              -83.767381             0             1             0  \n",
       "95223              -83.767381             0             1             0  \n",
       "95224              -83.767381             0             1             0  "
      ]
     },
     "execution_count": 11,
     "metadata": {},
     "output_type": "execute_result"
    }
   ],
   "source": [
    "# Dataset final obtido com 16 colunas de entrada, 1 de saída e mais de 10 milhões de registros\n",
    "data.head()"
   ]
  },
  {
   "cell_type": "code",
   "execution_count": 12,
   "id": "c4d4edc8-c839-4273-b9ea-898aa36e22dd",
   "metadata": {},
   "outputs": [],
   "source": [
    "# Salvando o dataset filtrado final em um arquivo.\n",
    "# Este arquivo ficou com 1.7GB, muito menor que o dataset original\n",
    "data.to_csv(\"./dataset_filtered.csv\", index=False)"
   ]
  },
  {
   "cell_type": "markdown",
   "id": "dcf7261d-94fd-4737-b9a4-3dec27203757",
   "metadata": {},
   "source": [
    "# Treinamento do Modelo"
   ]
  },
  {
   "cell_type": "markdown",
   "id": "9db2ad8e-d5d4-49f7-9b9c-e93ba3767d13",
   "metadata": {
    "jp-MarkdownHeadingCollapsed": true
   },
   "source": [
    "## Leitura, Divisão e Normalização"
   ]
  },
  {
   "cell_type": "code",
   "execution_count": 1,
   "id": "22113a2d-bcc1-4fe7-aefd-e917ce318c13",
   "metadata": {},
   "outputs": [],
   "source": [
    "# Antes do treinamento do modelo, é necessário carregar a base em memória, caso ainda não tenha sido feito.\n",
    "# Após isto, precisa-se dividir a base em treino e teste. Aqui está sendo disponibilizado um conjunto de \n",
    "# normalizadores dos valores para o teste da performance ao final. \n",
    "# Caso seja do desejo, escolher o melhor normalizador dos dados e utilizar, verificando a performance no final\n",
    "import pandas as pd\n",
    "\n",
    "from sklearn.model_selection import train_test_split\n",
    "from sklearn.preprocessing import StandardScaler, MinMaxScaler"
   ]
  },
  {
   "cell_type": "code",
   "execution_count": 2,
   "id": "c92e64c5-b76b-4863-a062-dd78ee132411",
   "metadata": {},
   "outputs": [
    {
     "data": {
      "text/html": [
       "<div>\n",
       "<style scoped>\n",
       "    .dataframe tbody tr th:only-of-type {\n",
       "        vertical-align: middle;\n",
       "    }\n",
       "\n",
       "    .dataframe tbody tr th {\n",
       "        vertical-align: top;\n",
       "    }\n",
       "\n",
       "    .dataframe thead th {\n",
       "        text-align: right;\n",
       "    }\n",
       "</style>\n",
       "<table border=\"1\" class=\"dataframe\">\n",
       "  <thead>\n",
       "    <tr style=\"text-align: right;\">\n",
       "      <th></th>\n",
       "      <th>Latitude[deg]</th>\n",
       "      <th>Longitude[deg]</th>\n",
       "      <th>Vehicle Speed[km/h]</th>\n",
       "      <th>MAF[g/sec]</th>\n",
       "      <th>Engine RPM[RPM]</th>\n",
       "      <th>Absolute Load[%]</th>\n",
       "      <th>Short Term Fuel Trim Bank 1[%]</th>\n",
       "      <th>Long Term Fuel Trim Bank 1[%]</th>\n",
       "      <th>Elevation Raw[m]</th>\n",
       "      <th>Elevation Smoothed[m]</th>\n",
       "      <th>Gradient</th>\n",
       "      <th>Energy_Consumption</th>\n",
       "      <th>Matched Latitude[deg]</th>\n",
       "      <th>Matched Longitude[deg]</th>\n",
       "      <th>Match Type_0</th>\n",
       "      <th>Match Type_1</th>\n",
       "      <th>Match Type_2</th>\n",
       "    </tr>\n",
       "  </thead>\n",
       "  <tbody>\n",
       "    <tr>\n",
       "      <th>0</th>\n",
       "      <td>42.242235</td>\n",
       "      <td>-83.767309</td>\n",
       "      <td>33.0</td>\n",
       "      <td>32.799999</td>\n",
       "      <td>1348.0</td>\n",
       "      <td>45.490196</td>\n",
       "      <td>-3.90625</td>\n",
       "      <td>-3.125</td>\n",
       "      <td>279.584839</td>\n",
       "      <td>279.584839</td>\n",
       "      <td>0.0</td>\n",
       "      <td>0.006692</td>\n",
       "      <td>42.242183</td>\n",
       "      <td>-83.767381</td>\n",
       "      <td>1</td>\n",
       "      <td>0</td>\n",
       "      <td>0</td>\n",
       "    </tr>\n",
       "    <tr>\n",
       "      <th>1</th>\n",
       "      <td>42.242235</td>\n",
       "      <td>-83.767309</td>\n",
       "      <td>37.0</td>\n",
       "      <td>32.799999</td>\n",
       "      <td>1348.0</td>\n",
       "      <td>45.490196</td>\n",
       "      <td>-3.90625</td>\n",
       "      <td>-3.125</td>\n",
       "      <td>279.584839</td>\n",
       "      <td>279.584839</td>\n",
       "      <td>0.0</td>\n",
       "      <td>0.007503</td>\n",
       "      <td>42.242183</td>\n",
       "      <td>-83.767381</td>\n",
       "      <td>0</td>\n",
       "      <td>1</td>\n",
       "      <td>0</td>\n",
       "    </tr>\n",
       "    <tr>\n",
       "      <th>2</th>\n",
       "      <td>42.242235</td>\n",
       "      <td>-83.767309</td>\n",
       "      <td>39.0</td>\n",
       "      <td>32.799999</td>\n",
       "      <td>1348.0</td>\n",
       "      <td>45.490196</td>\n",
       "      <td>-3.90625</td>\n",
       "      <td>-3.125</td>\n",
       "      <td>279.584839</td>\n",
       "      <td>279.584839</td>\n",
       "      <td>0.0</td>\n",
       "      <td>0.007909</td>\n",
       "      <td>42.242183</td>\n",
       "      <td>-83.767381</td>\n",
       "      <td>0</td>\n",
       "      <td>1</td>\n",
       "      <td>0</td>\n",
       "    </tr>\n",
       "    <tr>\n",
       "      <th>3</th>\n",
       "      <td>42.242235</td>\n",
       "      <td>-83.767309</td>\n",
       "      <td>39.0</td>\n",
       "      <td>32.799999</td>\n",
       "      <td>1422.0</td>\n",
       "      <td>45.490196</td>\n",
       "      <td>-3.90625</td>\n",
       "      <td>-3.125</td>\n",
       "      <td>279.584839</td>\n",
       "      <td>279.584839</td>\n",
       "      <td>0.0</td>\n",
       "      <td>0.007909</td>\n",
       "      <td>42.242183</td>\n",
       "      <td>-83.767381</td>\n",
       "      <td>0</td>\n",
       "      <td>1</td>\n",
       "      <td>0</td>\n",
       "    </tr>\n",
       "    <tr>\n",
       "      <th>4</th>\n",
       "      <td>42.242235</td>\n",
       "      <td>-83.767309</td>\n",
       "      <td>39.0</td>\n",
       "      <td>12.660000</td>\n",
       "      <td>1422.0</td>\n",
       "      <td>45.490196</td>\n",
       "      <td>-3.90625</td>\n",
       "      <td>-3.125</td>\n",
       "      <td>279.584839</td>\n",
       "      <td>279.584839</td>\n",
       "      <td>0.0</td>\n",
       "      <td>0.003053</td>\n",
       "      <td>42.242183</td>\n",
       "      <td>-83.767381</td>\n",
       "      <td>0</td>\n",
       "      <td>1</td>\n",
       "      <td>0</td>\n",
       "    </tr>\n",
       "  </tbody>\n",
       "</table>\n",
       "</div>"
      ],
      "text/plain": [
       "   Latitude[deg]  Longitude[deg]  Vehicle Speed[km/h]  MAF[g/sec]  \\\n",
       "0      42.242235      -83.767309                 33.0   32.799999   \n",
       "1      42.242235      -83.767309                 37.0   32.799999   \n",
       "2      42.242235      -83.767309                 39.0   32.799999   \n",
       "3      42.242235      -83.767309                 39.0   32.799999   \n",
       "4      42.242235      -83.767309                 39.0   12.660000   \n",
       "\n",
       "   Engine RPM[RPM]  Absolute Load[%]  Short Term Fuel Trim Bank 1[%]  \\\n",
       "0           1348.0         45.490196                        -3.90625   \n",
       "1           1348.0         45.490196                        -3.90625   \n",
       "2           1348.0         45.490196                        -3.90625   \n",
       "3           1422.0         45.490196                        -3.90625   \n",
       "4           1422.0         45.490196                        -3.90625   \n",
       "\n",
       "   Long Term Fuel Trim Bank 1[%]  Elevation Raw[m]  Elevation Smoothed[m]  \\\n",
       "0                         -3.125        279.584839             279.584839   \n",
       "1                         -3.125        279.584839             279.584839   \n",
       "2                         -3.125        279.584839             279.584839   \n",
       "3                         -3.125        279.584839             279.584839   \n",
       "4                         -3.125        279.584839             279.584839   \n",
       "\n",
       "   Gradient  Energy_Consumption  Matched Latitude[deg]  \\\n",
       "0       0.0            0.006692              42.242183   \n",
       "1       0.0            0.007503              42.242183   \n",
       "2       0.0            0.007909              42.242183   \n",
       "3       0.0            0.007909              42.242183   \n",
       "4       0.0            0.003053              42.242183   \n",
       "\n",
       "   Matched Longitude[deg]  Match Type_0  Match Type_1  Match Type_2  \n",
       "0              -83.767381             1             0             0  \n",
       "1              -83.767381             0             1             0  \n",
       "2              -83.767381             0             1             0  \n",
       "3              -83.767381             0             1             0  \n",
       "4              -83.767381             0             1             0  "
      ]
     },
     "execution_count": 2,
     "metadata": {},
     "output_type": "execute_result"
    }
   ],
   "source": [
    "# Leitura do dataset final para memória, caso ainda não tenha sido feito\n",
    "data = pd.read_csv(\"./dataset_filtered.csv\")\n",
    "data.head()"
   ]
  },
  {
   "cell_type": "code",
   "execution_count": 3,
   "id": "5f722d20-6339-4776-bf63-dc72150ff49e",
   "metadata": {},
   "outputs": [
    {
     "name": "stdout",
     "output_type": "stream",
     "text": [
      "<class 'pandas.core.frame.DataFrame'>\n",
      "RangeIndex: 10845038 entries, 0 to 10845037\n",
      "Data columns (total 17 columns):\n",
      " #   Column                          Dtype  \n",
      "---  ------                          -----  \n",
      " 0   Latitude[deg]                   float64\n",
      " 1   Longitude[deg]                  float64\n",
      " 2   Vehicle Speed[km/h]             float64\n",
      " 3   MAF[g/sec]                      float64\n",
      " 4   Engine RPM[RPM]                 float64\n",
      " 5   Absolute Load[%]                float64\n",
      " 6   Short Term Fuel Trim Bank 1[%]  float64\n",
      " 7   Long Term Fuel Trim Bank 1[%]   float64\n",
      " 8   Elevation Raw[m]                float64\n",
      " 9   Elevation Smoothed[m]           float64\n",
      " 10  Gradient                        float64\n",
      " 11  Energy_Consumption              float64\n",
      " 12  Matched Latitude[deg]           float64\n",
      " 13  Matched Longitude[deg]          float64\n",
      " 14  Match Type_0                    int64  \n",
      " 15  Match Type_1                    int64  \n",
      " 16  Match Type_2                    int64  \n",
      "dtypes: float64(14), int64(3)\n",
      "memory usage: 1.4 GB\n"
     ]
    }
   ],
   "source": [
    "# Exibição das colunas e dos tipos\n",
    "data.info()"
   ]
  },
  {
   "cell_type": "code",
   "execution_count": 4,
   "id": "1f3f98ae-b059-46ed-84df-86df8c732a30",
   "metadata": {},
   "outputs": [],
   "source": [
    "# Divisão da base em colunas de entrada e coluna de rótulo\n",
    "x = data.drop(columns=[\"Energy_Consumption\"])\n",
    "y = data[\"Energy_Consumption\"]\n",
    "\n",
    "# Definição de um SEED para reprodutibilidade das partes aleatórias\n",
    "SEED = 12345\n",
    "\n",
    "# Divisão da base em trein e teste\n",
    "trainX, testX, trainY, testY = train_test_split(x, y, test_size=0.3, random_state=SEED)"
   ]
  },
  {
   "cell_type": "code",
   "execution_count": 25,
   "id": "0b8673a2-a224-44b6-9200-71dbebd9dce3",
   "metadata": {},
   "outputs": [],
   "source": [
    "# Sem normalização\n",
    "trainX_scaled = trainX.to_numpy()\n",
    "testX_scaled = testX.to_numpy()"
   ]
  },
  {
   "cell_type": "code",
   "execution_count": 9,
   "id": "cc87a9b6-f1d5-4da6-a160-2bd939d19449",
   "metadata": {},
   "outputs": [],
   "source": [
    "# Normalização Padrão\n",
    "standard_scaler = StandardScaler()\n",
    "\n",
    "scaler = standard_scaler.fit(trainX)\n",
    "trainX_scaled = scaler.transform(trainX)\n",
    "testX_scaled = scaler.transform(testX)"
   ]
  },
  {
   "cell_type": "code",
   "execution_count": 21,
   "id": "a19ae414-79c0-4621-8a9d-f8cd87db61f0",
   "metadata": {},
   "outputs": [],
   "source": [
    "# Normalização pelo MinMax\n",
    "min_max_scaler = MinMaxScaler()\n",
    "\n",
    "scaler = min_max_scaler.fit(trainX)\n",
    "trainX_scaled = scaler.transform(trainX)\n",
    "textX_scaled = scaler.transform(testX)"
   ]
  },
  {
   "cell_type": "markdown",
   "id": "838e6168-2540-45ef-846e-08ee0d4dab7a",
   "metadata": {
    "jp-MarkdownHeadingCollapsed": true
   },
   "source": [
    "## Usando Sklearn MLPRegressor com GridSearchCV"
   ]
  },
  {
   "cell_type": "code",
   "execution_count": 29,
   "id": "57b16d07-d92b-461e-88d0-6532575822c1",
   "metadata": {},
   "outputs": [],
   "source": [
    "# https://michael-fuchs-python.netlify.app/2021/02/10/nn-multi-layer-perceptron-regressor-mlpregressor/\n",
    "# A primeira tentativa de se obter uma rede neural do tipo MLP otimizada foi utilizando o MLPRegressor da\n",
    "# biblioteca SKLearn com o GridSearch CV. No entanto, ao final deste notebook, é necessária a portabilidade\n",
    "# do modelo obtido para a arquitetura esp32. Esta portabilidade é realizada utilizando a biblioteca TensorFlow Lite.\n",
    "\n",
    "# Observe que nada impede a busca do melhor modelo com o MLPRegressor com GridSearchCV que é efetivamente mais\n",
    "# simples e performático e, posteriormente, utilizar o resultado para construir uma rede única com o TF e Keras, \n",
    "# portando para o esp32 em seguida. Em virtude desta observação, este trecho de códigog se manteve aqui no \n",
    "# notebook.\n",
    "from sklearn.neural_network import MLPRegressor\n",
    "from sklearn.model_selection import GridSearchCV"
   ]
  },
  {
   "cell_type": "code",
   "execution_count": 24,
   "id": "6df032db-7f52-43f4-bff4-be7ba2273cff",
   "metadata": {},
   "outputs": [
    {
     "name": "stderr",
     "output_type": "stream",
     "text": [
      "/home/andre/venv/lib/python3.12/site-packages/sklearn/neural_network/_multilayer_perceptron.py:697: UserWarning: Training interrupted by user.\n",
      "  warnings.warn(\"Training interrupted by user.\")\n"
     ]
    },
    {
     "data": {
      "text/html": [
       "<style>#sk-container-id-2 {\n",
       "  /* Definition of color scheme common for light and dark mode */\n",
       "  --sklearn-color-text: black;\n",
       "  --sklearn-color-line: gray;\n",
       "  /* Definition of color scheme for unfitted estimators */\n",
       "  --sklearn-color-unfitted-level-0: #fff5e6;\n",
       "  --sklearn-color-unfitted-level-1: #f6e4d2;\n",
       "  --sklearn-color-unfitted-level-2: #ffe0b3;\n",
       "  --sklearn-color-unfitted-level-3: chocolate;\n",
       "  /* Definition of color scheme for fitted estimators */\n",
       "  --sklearn-color-fitted-level-0: #f0f8ff;\n",
       "  --sklearn-color-fitted-level-1: #d4ebff;\n",
       "  --sklearn-color-fitted-level-2: #b3dbfd;\n",
       "  --sklearn-color-fitted-level-3: cornflowerblue;\n",
       "\n",
       "  /* Specific color for light theme */\n",
       "  --sklearn-color-text-on-default-background: var(--sg-text-color, var(--theme-code-foreground, var(--jp-content-font-color1, black)));\n",
       "  --sklearn-color-background: var(--sg-background-color, var(--theme-background, var(--jp-layout-color0, white)));\n",
       "  --sklearn-color-border-box: var(--sg-text-color, var(--theme-code-foreground, var(--jp-content-font-color1, black)));\n",
       "  --sklearn-color-icon: #696969;\n",
       "\n",
       "  @media (prefers-color-scheme: dark) {\n",
       "    /* Redefinition of color scheme for dark theme */\n",
       "    --sklearn-color-text-on-default-background: var(--sg-text-color, var(--theme-code-foreground, var(--jp-content-font-color1, white)));\n",
       "    --sklearn-color-background: var(--sg-background-color, var(--theme-background, var(--jp-layout-color0, #111)));\n",
       "    --sklearn-color-border-box: var(--sg-text-color, var(--theme-code-foreground, var(--jp-content-font-color1, white)));\n",
       "    --sklearn-color-icon: #878787;\n",
       "  }\n",
       "}\n",
       "\n",
       "#sk-container-id-2 {\n",
       "  color: var(--sklearn-color-text);\n",
       "}\n",
       "\n",
       "#sk-container-id-2 pre {\n",
       "  padding: 0;\n",
       "}\n",
       "\n",
       "#sk-container-id-2 input.sk-hidden--visually {\n",
       "  border: 0;\n",
       "  clip: rect(1px 1px 1px 1px);\n",
       "  clip: rect(1px, 1px, 1px, 1px);\n",
       "  height: 1px;\n",
       "  margin: -1px;\n",
       "  overflow: hidden;\n",
       "  padding: 0;\n",
       "  position: absolute;\n",
       "  width: 1px;\n",
       "}\n",
       "\n",
       "#sk-container-id-2 div.sk-dashed-wrapped {\n",
       "  border: 1px dashed var(--sklearn-color-line);\n",
       "  margin: 0 0.4em 0.5em 0.4em;\n",
       "  box-sizing: border-box;\n",
       "  padding-bottom: 0.4em;\n",
       "  background-color: var(--sklearn-color-background);\n",
       "}\n",
       "\n",
       "#sk-container-id-2 div.sk-container {\n",
       "  /* jupyter's `normalize.less` sets `[hidden] { display: none; }`\n",
       "     but bootstrap.min.css set `[hidden] { display: none !important; }`\n",
       "     so we also need the `!important` here to be able to override the\n",
       "     default hidden behavior on the sphinx rendered scikit-learn.org.\n",
       "     See: https://github.com/scikit-learn/scikit-learn/issues/21755 */\n",
       "  display: inline-block !important;\n",
       "  position: relative;\n",
       "}\n",
       "\n",
       "#sk-container-id-2 div.sk-text-repr-fallback {\n",
       "  display: none;\n",
       "}\n",
       "\n",
       "div.sk-parallel-item,\n",
       "div.sk-serial,\n",
       "div.sk-item {\n",
       "  /* draw centered vertical line to link estimators */\n",
       "  background-image: linear-gradient(var(--sklearn-color-text-on-default-background), var(--sklearn-color-text-on-default-background));\n",
       "  background-size: 2px 100%;\n",
       "  background-repeat: no-repeat;\n",
       "  background-position: center center;\n",
       "}\n",
       "\n",
       "/* Parallel-specific style estimator block */\n",
       "\n",
       "#sk-container-id-2 div.sk-parallel-item::after {\n",
       "  content: \"\";\n",
       "  width: 100%;\n",
       "  border-bottom: 2px solid var(--sklearn-color-text-on-default-background);\n",
       "  flex-grow: 1;\n",
       "}\n",
       "\n",
       "#sk-container-id-2 div.sk-parallel {\n",
       "  display: flex;\n",
       "  align-items: stretch;\n",
       "  justify-content: center;\n",
       "  background-color: var(--sklearn-color-background);\n",
       "  position: relative;\n",
       "}\n",
       "\n",
       "#sk-container-id-2 div.sk-parallel-item {\n",
       "  display: flex;\n",
       "  flex-direction: column;\n",
       "}\n",
       "\n",
       "#sk-container-id-2 div.sk-parallel-item:first-child::after {\n",
       "  align-self: flex-end;\n",
       "  width: 50%;\n",
       "}\n",
       "\n",
       "#sk-container-id-2 div.sk-parallel-item:last-child::after {\n",
       "  align-self: flex-start;\n",
       "  width: 50%;\n",
       "}\n",
       "\n",
       "#sk-container-id-2 div.sk-parallel-item:only-child::after {\n",
       "  width: 0;\n",
       "}\n",
       "\n",
       "/* Serial-specific style estimator block */\n",
       "\n",
       "#sk-container-id-2 div.sk-serial {\n",
       "  display: flex;\n",
       "  flex-direction: column;\n",
       "  align-items: center;\n",
       "  background-color: var(--sklearn-color-background);\n",
       "  padding-right: 1em;\n",
       "  padding-left: 1em;\n",
       "}\n",
       "\n",
       "\n",
       "/* Toggleable style: style used for estimator/Pipeline/ColumnTransformer box that is\n",
       "clickable and can be expanded/collapsed.\n",
       "- Pipeline and ColumnTransformer use this feature and define the default style\n",
       "- Estimators will overwrite some part of the style using the `sk-estimator` class\n",
       "*/\n",
       "\n",
       "/* Pipeline and ColumnTransformer style (default) */\n",
       "\n",
       "#sk-container-id-2 div.sk-toggleable {\n",
       "  /* Default theme specific background. It is overwritten whether we have a\n",
       "  specific estimator or a Pipeline/ColumnTransformer */\n",
       "  background-color: var(--sklearn-color-background);\n",
       "}\n",
       "\n",
       "/* Toggleable label */\n",
       "#sk-container-id-2 label.sk-toggleable__label {\n",
       "  cursor: pointer;\n",
       "  display: block;\n",
       "  width: 100%;\n",
       "  margin-bottom: 0;\n",
       "  padding: 0.5em;\n",
       "  box-sizing: border-box;\n",
       "  text-align: center;\n",
       "}\n",
       "\n",
       "#sk-container-id-2 label.sk-toggleable__label-arrow:before {\n",
       "  /* Arrow on the left of the label */\n",
       "  content: \"▸\";\n",
       "  float: left;\n",
       "  margin-right: 0.25em;\n",
       "  color: var(--sklearn-color-icon);\n",
       "}\n",
       "\n",
       "#sk-container-id-2 label.sk-toggleable__label-arrow:hover:before {\n",
       "  color: var(--sklearn-color-text);\n",
       "}\n",
       "\n",
       "/* Toggleable content - dropdown */\n",
       "\n",
       "#sk-container-id-2 div.sk-toggleable__content {\n",
       "  max-height: 0;\n",
       "  max-width: 0;\n",
       "  overflow: hidden;\n",
       "  text-align: left;\n",
       "  /* unfitted */\n",
       "  background-color: var(--sklearn-color-unfitted-level-0);\n",
       "}\n",
       "\n",
       "#sk-container-id-2 div.sk-toggleable__content.fitted {\n",
       "  /* fitted */\n",
       "  background-color: var(--sklearn-color-fitted-level-0);\n",
       "}\n",
       "\n",
       "#sk-container-id-2 div.sk-toggleable__content pre {\n",
       "  margin: 0.2em;\n",
       "  border-radius: 0.25em;\n",
       "  color: var(--sklearn-color-text);\n",
       "  /* unfitted */\n",
       "  background-color: var(--sklearn-color-unfitted-level-0);\n",
       "}\n",
       "\n",
       "#sk-container-id-2 div.sk-toggleable__content.fitted pre {\n",
       "  /* unfitted */\n",
       "  background-color: var(--sklearn-color-fitted-level-0);\n",
       "}\n",
       "\n",
       "#sk-container-id-2 input.sk-toggleable__control:checked~div.sk-toggleable__content {\n",
       "  /* Expand drop-down */\n",
       "  max-height: 200px;\n",
       "  max-width: 100%;\n",
       "  overflow: auto;\n",
       "}\n",
       "\n",
       "#sk-container-id-2 input.sk-toggleable__control:checked~label.sk-toggleable__label-arrow:before {\n",
       "  content: \"▾\";\n",
       "}\n",
       "\n",
       "/* Pipeline/ColumnTransformer-specific style */\n",
       "\n",
       "#sk-container-id-2 div.sk-label input.sk-toggleable__control:checked~label.sk-toggleable__label {\n",
       "  color: var(--sklearn-color-text);\n",
       "  background-color: var(--sklearn-color-unfitted-level-2);\n",
       "}\n",
       "\n",
       "#sk-container-id-2 div.sk-label.fitted input.sk-toggleable__control:checked~label.sk-toggleable__label {\n",
       "  background-color: var(--sklearn-color-fitted-level-2);\n",
       "}\n",
       "\n",
       "/* Estimator-specific style */\n",
       "\n",
       "/* Colorize estimator box */\n",
       "#sk-container-id-2 div.sk-estimator input.sk-toggleable__control:checked~label.sk-toggleable__label {\n",
       "  /* unfitted */\n",
       "  background-color: var(--sklearn-color-unfitted-level-2);\n",
       "}\n",
       "\n",
       "#sk-container-id-2 div.sk-estimator.fitted input.sk-toggleable__control:checked~label.sk-toggleable__label {\n",
       "  /* fitted */\n",
       "  background-color: var(--sklearn-color-fitted-level-2);\n",
       "}\n",
       "\n",
       "#sk-container-id-2 div.sk-label label.sk-toggleable__label,\n",
       "#sk-container-id-2 div.sk-label label {\n",
       "  /* The background is the default theme color */\n",
       "  color: var(--sklearn-color-text-on-default-background);\n",
       "}\n",
       "\n",
       "/* On hover, darken the color of the background */\n",
       "#sk-container-id-2 div.sk-label:hover label.sk-toggleable__label {\n",
       "  color: var(--sklearn-color-text);\n",
       "  background-color: var(--sklearn-color-unfitted-level-2);\n",
       "}\n",
       "\n",
       "/* Label box, darken color on hover, fitted */\n",
       "#sk-container-id-2 div.sk-label.fitted:hover label.sk-toggleable__label.fitted {\n",
       "  color: var(--sklearn-color-text);\n",
       "  background-color: var(--sklearn-color-fitted-level-2);\n",
       "}\n",
       "\n",
       "/* Estimator label */\n",
       "\n",
       "#sk-container-id-2 div.sk-label label {\n",
       "  font-family: monospace;\n",
       "  font-weight: bold;\n",
       "  display: inline-block;\n",
       "  line-height: 1.2em;\n",
       "}\n",
       "\n",
       "#sk-container-id-2 div.sk-label-container {\n",
       "  text-align: center;\n",
       "}\n",
       "\n",
       "/* Estimator-specific */\n",
       "#sk-container-id-2 div.sk-estimator {\n",
       "  font-family: monospace;\n",
       "  border: 1px dotted var(--sklearn-color-border-box);\n",
       "  border-radius: 0.25em;\n",
       "  box-sizing: border-box;\n",
       "  margin-bottom: 0.5em;\n",
       "  /* unfitted */\n",
       "  background-color: var(--sklearn-color-unfitted-level-0);\n",
       "}\n",
       "\n",
       "#sk-container-id-2 div.sk-estimator.fitted {\n",
       "  /* fitted */\n",
       "  background-color: var(--sklearn-color-fitted-level-0);\n",
       "}\n",
       "\n",
       "/* on hover */\n",
       "#sk-container-id-2 div.sk-estimator:hover {\n",
       "  /* unfitted */\n",
       "  background-color: var(--sklearn-color-unfitted-level-2);\n",
       "}\n",
       "\n",
       "#sk-container-id-2 div.sk-estimator.fitted:hover {\n",
       "  /* fitted */\n",
       "  background-color: var(--sklearn-color-fitted-level-2);\n",
       "}\n",
       "\n",
       "/* Specification for estimator info (e.g. \"i\" and \"?\") */\n",
       "\n",
       "/* Common style for \"i\" and \"?\" */\n",
       "\n",
       ".sk-estimator-doc-link,\n",
       "a:link.sk-estimator-doc-link,\n",
       "a:visited.sk-estimator-doc-link {\n",
       "  float: right;\n",
       "  font-size: smaller;\n",
       "  line-height: 1em;\n",
       "  font-family: monospace;\n",
       "  background-color: var(--sklearn-color-background);\n",
       "  border-radius: 1em;\n",
       "  height: 1em;\n",
       "  width: 1em;\n",
       "  text-decoration: none !important;\n",
       "  margin-left: 1ex;\n",
       "  /* unfitted */\n",
       "  border: var(--sklearn-color-unfitted-level-1) 1pt solid;\n",
       "  color: var(--sklearn-color-unfitted-level-1);\n",
       "}\n",
       "\n",
       ".sk-estimator-doc-link.fitted,\n",
       "a:link.sk-estimator-doc-link.fitted,\n",
       "a:visited.sk-estimator-doc-link.fitted {\n",
       "  /* fitted */\n",
       "  border: var(--sklearn-color-fitted-level-1) 1pt solid;\n",
       "  color: var(--sklearn-color-fitted-level-1);\n",
       "}\n",
       "\n",
       "/* On hover */\n",
       "div.sk-estimator:hover .sk-estimator-doc-link:hover,\n",
       ".sk-estimator-doc-link:hover,\n",
       "div.sk-label-container:hover .sk-estimator-doc-link:hover,\n",
       ".sk-estimator-doc-link:hover {\n",
       "  /* unfitted */\n",
       "  background-color: var(--sklearn-color-unfitted-level-3);\n",
       "  color: var(--sklearn-color-background);\n",
       "  text-decoration: none;\n",
       "}\n",
       "\n",
       "div.sk-estimator.fitted:hover .sk-estimator-doc-link.fitted:hover,\n",
       ".sk-estimator-doc-link.fitted:hover,\n",
       "div.sk-label-container:hover .sk-estimator-doc-link.fitted:hover,\n",
       ".sk-estimator-doc-link.fitted:hover {\n",
       "  /* fitted */\n",
       "  background-color: var(--sklearn-color-fitted-level-3);\n",
       "  color: var(--sklearn-color-background);\n",
       "  text-decoration: none;\n",
       "}\n",
       "\n",
       "/* Span, style for the box shown on hovering the info icon */\n",
       ".sk-estimator-doc-link span {\n",
       "  display: none;\n",
       "  z-index: 9999;\n",
       "  position: relative;\n",
       "  font-weight: normal;\n",
       "  right: .2ex;\n",
       "  padding: .5ex;\n",
       "  margin: .5ex;\n",
       "  width: min-content;\n",
       "  min-width: 20ex;\n",
       "  max-width: 50ex;\n",
       "  color: var(--sklearn-color-text);\n",
       "  box-shadow: 2pt 2pt 4pt #999;\n",
       "  /* unfitted */\n",
       "  background: var(--sklearn-color-unfitted-level-0);\n",
       "  border: .5pt solid var(--sklearn-color-unfitted-level-3);\n",
       "}\n",
       "\n",
       ".sk-estimator-doc-link.fitted span {\n",
       "  /* fitted */\n",
       "  background: var(--sklearn-color-fitted-level-0);\n",
       "  border: var(--sklearn-color-fitted-level-3);\n",
       "}\n",
       "\n",
       ".sk-estimator-doc-link:hover span {\n",
       "  display: block;\n",
       "}\n",
       "\n",
       "/* \"?\"-specific style due to the `<a>` HTML tag */\n",
       "\n",
       "#sk-container-id-2 a.estimator_doc_link {\n",
       "  float: right;\n",
       "  font-size: 1rem;\n",
       "  line-height: 1em;\n",
       "  font-family: monospace;\n",
       "  background-color: var(--sklearn-color-background);\n",
       "  border-radius: 1rem;\n",
       "  height: 1rem;\n",
       "  width: 1rem;\n",
       "  text-decoration: none;\n",
       "  /* unfitted */\n",
       "  color: var(--sklearn-color-unfitted-level-1);\n",
       "  border: var(--sklearn-color-unfitted-level-1) 1pt solid;\n",
       "}\n",
       "\n",
       "#sk-container-id-2 a.estimator_doc_link.fitted {\n",
       "  /* fitted */\n",
       "  border: var(--sklearn-color-fitted-level-1) 1pt solid;\n",
       "  color: var(--sklearn-color-fitted-level-1);\n",
       "}\n",
       "\n",
       "/* On hover */\n",
       "#sk-container-id-2 a.estimator_doc_link:hover {\n",
       "  /* unfitted */\n",
       "  background-color: var(--sklearn-color-unfitted-level-3);\n",
       "  color: var(--sklearn-color-background);\n",
       "  text-decoration: none;\n",
       "}\n",
       "\n",
       "#sk-container-id-2 a.estimator_doc_link.fitted:hover {\n",
       "  /* fitted */\n",
       "  background-color: var(--sklearn-color-fitted-level-3);\n",
       "}\n",
       "</style><div id=\"sk-container-id-2\" class=\"sk-top-container\"><div class=\"sk-text-repr-fallback\"><pre>MLPRegressor(alpha=0.05, hidden_layer_sizes=(32, 16, 8), max_iter=50)</pre><b>In a Jupyter environment, please rerun this cell to show the HTML representation or trust the notebook. <br />On GitHub, the HTML representation is unable to render, please try loading this page with nbviewer.org.</b></div><div class=\"sk-container\" hidden><div class=\"sk-item\"><div class=\"sk-estimator fitted sk-toggleable\"><input class=\"sk-toggleable__control sk-hidden--visually\" id=\"sk-estimator-id-2\" type=\"checkbox\" checked><label for=\"sk-estimator-id-2\" class=\"sk-toggleable__label fitted sk-toggleable__label-arrow fitted\">&nbsp;&nbsp;MLPRegressor<a class=\"sk-estimator-doc-link fitted\" rel=\"noreferrer\" target=\"_blank\" href=\"https://scikit-learn.org/1.5/modules/generated/sklearn.neural_network.MLPRegressor.html\">?<span>Documentation for MLPRegressor</span></a><span class=\"sk-estimator-doc-link fitted\">i<span>Fitted</span></span></label><div class=\"sk-toggleable__content fitted\"><pre>MLPRegressor(alpha=0.05, hidden_layer_sizes=(32, 16, 8), max_iter=50)</pre></div> </div></div></div></div>"
      ],
      "text/plain": [
       "MLPRegressor(alpha=0.05, hidden_layer_sizes=(32, 16, 8), max_iter=50)"
      ]
     },
     "execution_count": 24,
     "metadata": {},
     "output_type": "execute_result"
    }
   ],
   "source": [
    "# Criando uma rede neural MLP com o sklearn para exemplo\n",
    "mlp = MLPRegressor(\n",
    "    hidden_layer_sizes=(32, 16, 8),\n",
    "    max_iter=50,\n",
    "    activation='relu',\n",
    "    solver='adam',\n",
    "    alpha=0.05,\n",
    "    learning_rate='constant'\n",
    ")\n",
    "\n",
    "# Treinamento da rede com a base de treino\n",
    "mlp.fit(trainX_scaled, trainY)"
   ]
  },
  {
   "cell_type": "code",
   "execution_count": 16,
   "id": "7bd6c078-0347-47a9-b5d9-a84327b0f679",
   "metadata": {},
   "outputs": [],
   "source": [
    "# Realizando predições com a base de testes\n",
    "y_pred = mlp.predict(testX_scaled)"
   ]
  },
  {
   "cell_type": "code",
   "execution_count": 22,
   "id": "31f5893c-cda4-4bd2-ab42-49625a26a374",
   "metadata": {},
   "outputs": [
    {
     "ename": "InvalidParameterError",
     "evalue": "The 'cv' parameter of GridSearchCV must be an int in the range [2, inf), an object implementing 'split' and 'get_n_splits', an iterable or None. Got 1 instead.",
     "output_type": "error",
     "traceback": [
      "\u001b[0;31m---------------------------------------------------------------------------\u001b[0m",
      "\u001b[0;31mInvalidParameterError\u001b[0m                     Traceback (most recent call last)",
      "Cell \u001b[0;32mIn[22], line 11\u001b[0m\n\u001b[1;32m      1\u001b[0m param_grid \u001b[38;5;241m=\u001b[39m {\n\u001b[1;32m      2\u001b[0m     \u001b[38;5;124m'\u001b[39m\u001b[38;5;124mhidden_layer_sizes\u001b[39m\u001b[38;5;124m'\u001b[39m: [(\u001b[38;5;241m32\u001b[39m, \u001b[38;5;241m16\u001b[39m, \u001b[38;5;241m8\u001b[39m)],\n\u001b[1;32m      3\u001b[0m     \u001b[38;5;124m'\u001b[39m\u001b[38;5;124mmax_iter\u001b[39m\u001b[38;5;124m'\u001b[39m: [\u001b[38;5;241m50\u001b[39m],\n\u001b[0;32m   (...)\u001b[0m\n\u001b[1;32m      7\u001b[0m     \u001b[38;5;124m'\u001b[39m\u001b[38;5;124mlearning_rate\u001b[39m\u001b[38;5;124m'\u001b[39m: [\u001b[38;5;124m'\u001b[39m\u001b[38;5;124mconstant\u001b[39m\u001b[38;5;124m'\u001b[39m]\n\u001b[1;32m      8\u001b[0m }\n\u001b[1;32m     10\u001b[0m grid \u001b[38;5;241m=\u001b[39m GridSearchCV(mlp, param_grid, n_jobs\u001b[38;5;241m=\u001b[39m\u001b[38;5;241m-\u001b[39m\u001b[38;5;241m1\u001b[39m, cv\u001b[38;5;241m=\u001b[39m\u001b[38;5;241m1\u001b[39m)\n\u001b[0;32m---> 11\u001b[0m \u001b[43mgrid\u001b[49m\u001b[38;5;241;43m.\u001b[39;49m\u001b[43mfit\u001b[49m\u001b[43m(\u001b[49m\u001b[43mtrainX_scaled\u001b[49m\u001b[43m,\u001b[49m\u001b[43m \u001b[49m\u001b[43mtrainY\u001b[49m\u001b[43m)\u001b[49m\n\u001b[1;32m     13\u001b[0m grid\u001b[38;5;241m.\u001b[39mbest_params_\n",
      "File \u001b[0;32m~/venv/lib/python3.12/site-packages/sklearn/base.py:1466\u001b[0m, in \u001b[0;36m_fit_context.<locals>.decorator.<locals>.wrapper\u001b[0;34m(estimator, *args, **kwargs)\u001b[0m\n\u001b[1;32m   1461\u001b[0m partial_fit_and_fitted \u001b[38;5;241m=\u001b[39m (\n\u001b[1;32m   1462\u001b[0m     fit_method\u001b[38;5;241m.\u001b[39m\u001b[38;5;18m__name__\u001b[39m \u001b[38;5;241m==\u001b[39m \u001b[38;5;124m\"\u001b[39m\u001b[38;5;124mpartial_fit\u001b[39m\u001b[38;5;124m\"\u001b[39m \u001b[38;5;129;01mand\u001b[39;00m _is_fitted(estimator)\n\u001b[1;32m   1463\u001b[0m )\n\u001b[1;32m   1465\u001b[0m \u001b[38;5;28;01mif\u001b[39;00m \u001b[38;5;129;01mnot\u001b[39;00m global_skip_validation \u001b[38;5;129;01mand\u001b[39;00m \u001b[38;5;129;01mnot\u001b[39;00m partial_fit_and_fitted:\n\u001b[0;32m-> 1466\u001b[0m     \u001b[43mestimator\u001b[49m\u001b[38;5;241;43m.\u001b[39;49m\u001b[43m_validate_params\u001b[49m\u001b[43m(\u001b[49m\u001b[43m)\u001b[49m\n\u001b[1;32m   1468\u001b[0m \u001b[38;5;28;01mwith\u001b[39;00m config_context(\n\u001b[1;32m   1469\u001b[0m     skip_parameter_validation\u001b[38;5;241m=\u001b[39m(\n\u001b[1;32m   1470\u001b[0m         prefer_skip_nested_validation \u001b[38;5;129;01mor\u001b[39;00m global_skip_validation\n\u001b[1;32m   1471\u001b[0m     )\n\u001b[1;32m   1472\u001b[0m ):\n\u001b[1;32m   1473\u001b[0m     \u001b[38;5;28;01mreturn\u001b[39;00m fit_method(estimator, \u001b[38;5;241m*\u001b[39margs, \u001b[38;5;241m*\u001b[39m\u001b[38;5;241m*\u001b[39mkwargs)\n",
      "File \u001b[0;32m~/venv/lib/python3.12/site-packages/sklearn/base.py:666\u001b[0m, in \u001b[0;36mBaseEstimator._validate_params\u001b[0;34m(self)\u001b[0m\n\u001b[1;32m    658\u001b[0m \u001b[38;5;28;01mdef\u001b[39;00m \u001b[38;5;21m_validate_params\u001b[39m(\u001b[38;5;28mself\u001b[39m):\n\u001b[1;32m    659\u001b[0m \u001b[38;5;250m    \u001b[39m\u001b[38;5;124;03m\"\"\"Validate types and values of constructor parameters\u001b[39;00m\n\u001b[1;32m    660\u001b[0m \n\u001b[1;32m    661\u001b[0m \u001b[38;5;124;03m    The expected type and values must be defined in the `_parameter_constraints`\u001b[39;00m\n\u001b[0;32m   (...)\u001b[0m\n\u001b[1;32m    664\u001b[0m \u001b[38;5;124;03m    accepted constraints.\u001b[39;00m\n\u001b[1;32m    665\u001b[0m \u001b[38;5;124;03m    \"\"\"\u001b[39;00m\n\u001b[0;32m--> 666\u001b[0m     \u001b[43mvalidate_parameter_constraints\u001b[49m\u001b[43m(\u001b[49m\n\u001b[1;32m    667\u001b[0m \u001b[43m        \u001b[49m\u001b[38;5;28;43mself\u001b[39;49m\u001b[38;5;241;43m.\u001b[39;49m\u001b[43m_parameter_constraints\u001b[49m\u001b[43m,\u001b[49m\n\u001b[1;32m    668\u001b[0m \u001b[43m        \u001b[49m\u001b[38;5;28;43mself\u001b[39;49m\u001b[38;5;241;43m.\u001b[39;49m\u001b[43mget_params\u001b[49m\u001b[43m(\u001b[49m\u001b[43mdeep\u001b[49m\u001b[38;5;241;43m=\u001b[39;49m\u001b[38;5;28;43;01mFalse\u001b[39;49;00m\u001b[43m)\u001b[49m\u001b[43m,\u001b[49m\n\u001b[1;32m    669\u001b[0m \u001b[43m        \u001b[49m\u001b[43mcaller_name\u001b[49m\u001b[38;5;241;43m=\u001b[39;49m\u001b[38;5;28;43mself\u001b[39;49m\u001b[38;5;241;43m.\u001b[39;49m\u001b[38;5;18;43m__class__\u001b[39;49m\u001b[38;5;241;43m.\u001b[39;49m\u001b[38;5;18;43m__name__\u001b[39;49m\u001b[43m,\u001b[49m\n\u001b[1;32m    670\u001b[0m \u001b[43m    \u001b[49m\u001b[43m)\u001b[49m\n",
      "File \u001b[0;32m~/venv/lib/python3.12/site-packages/sklearn/utils/_param_validation.py:95\u001b[0m, in \u001b[0;36mvalidate_parameter_constraints\u001b[0;34m(parameter_constraints, params, caller_name)\u001b[0m\n\u001b[1;32m     89\u001b[0m \u001b[38;5;28;01melse\u001b[39;00m:\n\u001b[1;32m     90\u001b[0m     constraints_str \u001b[38;5;241m=\u001b[39m (\n\u001b[1;32m     91\u001b[0m         \u001b[38;5;124mf\u001b[39m\u001b[38;5;124m\"\u001b[39m\u001b[38;5;132;01m{\u001b[39;00m\u001b[38;5;124m'\u001b[39m\u001b[38;5;124m, \u001b[39m\u001b[38;5;124m'\u001b[39m\u001b[38;5;241m.\u001b[39mjoin([\u001b[38;5;28mstr\u001b[39m(c)\u001b[38;5;250m \u001b[39m\u001b[38;5;28;01mfor\u001b[39;00m\u001b[38;5;250m \u001b[39mc\u001b[38;5;250m \u001b[39m\u001b[38;5;129;01min\u001b[39;00m\u001b[38;5;250m \u001b[39mconstraints[:\u001b[38;5;241m-\u001b[39m\u001b[38;5;241m1\u001b[39m]])\u001b[38;5;132;01m}\u001b[39;00m\u001b[38;5;124m or\u001b[39m\u001b[38;5;124m\"\u001b[39m\n\u001b[1;32m     92\u001b[0m         \u001b[38;5;124mf\u001b[39m\u001b[38;5;124m\"\u001b[39m\u001b[38;5;124m \u001b[39m\u001b[38;5;132;01m{\u001b[39;00mconstraints[\u001b[38;5;241m-\u001b[39m\u001b[38;5;241m1\u001b[39m]\u001b[38;5;132;01m}\u001b[39;00m\u001b[38;5;124m\"\u001b[39m\n\u001b[1;32m     93\u001b[0m     )\n\u001b[0;32m---> 95\u001b[0m \u001b[38;5;28;01mraise\u001b[39;00m InvalidParameterError(\n\u001b[1;32m     96\u001b[0m     \u001b[38;5;124mf\u001b[39m\u001b[38;5;124m\"\u001b[39m\u001b[38;5;124mThe \u001b[39m\u001b[38;5;132;01m{\u001b[39;00mparam_name\u001b[38;5;132;01m!r}\u001b[39;00m\u001b[38;5;124m parameter of \u001b[39m\u001b[38;5;132;01m{\u001b[39;00mcaller_name\u001b[38;5;132;01m}\u001b[39;00m\u001b[38;5;124m must be\u001b[39m\u001b[38;5;124m\"\u001b[39m\n\u001b[1;32m     97\u001b[0m     \u001b[38;5;124mf\u001b[39m\u001b[38;5;124m\"\u001b[39m\u001b[38;5;124m \u001b[39m\u001b[38;5;132;01m{\u001b[39;00mconstraints_str\u001b[38;5;132;01m}\u001b[39;00m\u001b[38;5;124m. Got \u001b[39m\u001b[38;5;132;01m{\u001b[39;00mparam_val\u001b[38;5;132;01m!r}\u001b[39;00m\u001b[38;5;124m instead.\u001b[39m\u001b[38;5;124m\"\u001b[39m\n\u001b[1;32m     98\u001b[0m )\n",
      "\u001b[0;31mInvalidParameterError\u001b[0m: The 'cv' parameter of GridSearchCV must be an int in the range [2, inf), an object implementing 'split' and 'get_n_splits', an iterable or None. Got 1 instead."
     ]
    }
   ],
   "source": [
    "# Criando um grid de parâmetros possíveis para realizar a busca do tuning\n",
    "param_grid = {\n",
    "    'hidden_layer_sizes': [(32, 16, 8)],\n",
    "    'max_iter': [50],\n",
    "    'activation': ['tanh', 'relu'],\n",
    "    'solver': ['sgd', 'adam'],\n",
    "    'alpha': [0.0001, 0.05],\n",
    "    'learning_rate': ['constant', 'adaptative']\n",
    "}\n",
    "\n",
    "# Construindo o grid e fazendo os diversos treinamentos para achar o melhor.\n",
    "# Aqui está sendo utilizando um cross validation com 5 folds e indicando à biblioteca\n",
    "# que utilize quantas threads forem os núcleos do equipamento\n",
    "grid = GridSearchCV(mlp, param_grid, n_jobs=-1, cv=5)\n",
    "grid.fit(trainX_scaled, trainY)\n",
    "\n",
    "# Imprimindo o melhor conjuntos de parâmetros, os quais podem ser utilizados diretamente no TFLite para a portabilidade para esp32\n",
    "grid.best_params_"
   ]
  },
  {
   "cell_type": "code",
   "execution_count": null,
   "id": "382bd4fe-2358-4366-a75c-3c7edcbfe315",
   "metadata": {},
   "outputs": [],
   "source": [
    "# Realização de predições com o melhor modelo obtido no gridsearch\n",
    "grid_predictions = grid.predict(testX_scaled)"
   ]
  },
  {
   "cell_type": "markdown",
   "id": "11aae0ed-589f-4cc0-afde-fcaa58ae293b",
   "metadata": {
    "jp-MarkdownHeadingCollapsed": true
   },
   "source": [
    "## Usando TensorFlow"
   ]
  },
  {
   "cell_type": "code",
   "execution_count": 6,
   "id": "ba81ef92-b15e-4404-a629-7c033c2c0e8c",
   "metadata": {},
   "outputs": [
    {
     "name": "stderr",
     "output_type": "stream",
     "text": [
      "2024-10-31 11:39:48.182764: I tensorflow/core/util/port.cc:113] oneDNN custom operations are on. You may see slightly different numerical results due to floating-point round-off errors from different computation orders. To turn them off, set the environment variable `TF_ENABLE_ONEDNN_OPTS=0`.\n",
      "2024-10-31 11:39:48.571177: I tensorflow/core/platform/cpu_feature_guard.cc:210] This TensorFlow binary is optimized to use available CPU instructions in performance-critical operations.\n",
      "To enable the following instructions: AVX2 AVX_VNNI FMA, in other operations, rebuild TensorFlow with the appropriate compiler flags.\n",
      "2024-10-31 11:39:49.246727: W tensorflow/compiler/tf2tensorrt/utils/py_utils.cc:38] TF-TRT Warning: Could not find TensorRT\n"
     ]
    },
    {
     "data": {
      "text/plain": [
       "'2.16.1'"
      ]
     },
     "execution_count": 6,
     "metadata": {},
     "output_type": "execute_result"
    }
   ],
   "source": [
    "# https://www.tensorflow.org/tutorials/keras/regression?hl=pt-br\n",
    "# A partir deste ponto, será realizado exatamente o mesmo procedimento do item anterior, no entanto\n",
    "# realizado com o TensorFlow e o Keras\n",
    "import tensorflow as tf\n",
    "import matplotlib.pyplot as plt\n",
    "\n",
    "from sklearn.model_selection import train_test_split\n",
    "\n",
    "from tensorflow import keras\n",
    "from tensorflow.keras import layers, regularizers\n",
    "\n",
    "tf.__version__"
   ]
  },
  {
   "cell_type": "code",
   "execution_count": 15,
   "id": "b8cb0d23-54ab-4536-bab7-e66050ed3b18",
   "metadata": {},
   "outputs": [],
   "source": [
    "# Função para construir um modelo de rede neural MLP com o tensor flow\n",
    "# Esta função recebe como parâmetro o model_type. O valor thomas indica para\n",
    "# montar uma rede semelhante àquela produzida no tutorial do autor Thomas.\n",
    "# O valor tensor, indica para criar uma rede semelhante a do tutorial do \n",
    "# próprio tensorflow.\n",
    "def build_model(model_type):\n",
    "    if model_type == 'thomas':\n",
    "        # Criando uma rede semelhante a do tutorial do thomas\n",
    "        # Uma camada de entrada, 3 camadas escondidas (32, 16 e 8), uma camada de saída para indicar o valor do consumo\n",
    "        # Utiliza como função de ativação a relu nas camadas escondidas com regularizadores L2.\n",
    "        # Para a camada de saída é utilizada uma função linear. O otimizador é o adam.\n",
    "        model = keras.Sequential(\n",
    "            [\n",
    "                layers.Dense(\n",
    "                    32, \n",
    "                    activation='relu', \n",
    "                    kernel_regularizer=regularizers.l2(0.0001),\n",
    "                    input_shape=[len(trainX_scaled[0])]\n",
    "                ),\n",
    "                layers.Dense(\n",
    "                    16, \n",
    "                    activation='relu', \n",
    "                    kernel_regularizer=regularizers.l2(0.0001),\n",
    "                ),\n",
    "                layers.Dense(\n",
    "                    8, \n",
    "                    activation='relu', \n",
    "                    kernel_regularizer=regularizers.l2(0.0001),\n",
    "                ),\n",
    "                layers.Dense(\n",
    "                    1, \n",
    "                    activation='linear'\n",
    "                ),\n",
    "            ]\n",
    "        )\n",
    "        optimizer = 'adam'\n",
    "    elif model_type == 'tensor':\n",
    "        # Rede exemplo do tutorial do tensorflow.\n",
    "        # Possui uma camada de entrada, duas camadas escondidas de 64 neurônios cada uma, com função de ativação relu.\n",
    "        # O otimizador é o RMSprop\n",
    "        model = keras.Sequential([\n",
    "            layers.Dense(64, activation='relu', input_shape=[len(trainX_scaled[0])]),\n",
    "            layers.Dense(64, activation='relu'),\n",
    "            layers.Dense(1)\n",
    "        ])\n",
    "\n",
    "        optimizer = tf.keras.optimizers.RMSprop(0.001)\n",
    "\n",
    "    # Como função de perda foi escolhida a mse e para métricas a própria mse e a mae\n",
    "    model.compile(\n",
    "        loss='mse',\n",
    "        optimizer=optimizer,\n",
    "        metrics=['mae', 'mse']\n",
    "    )\n",
    "\n",
    "    return model"
   ]
  },
  {
   "cell_type": "code",
   "execution_count": 26,
   "id": "39503a41-d11e-4fb3-9d6f-2437facea8a3",
   "metadata": {},
   "outputs": [
    {
     "name": "stderr",
     "output_type": "stream",
     "text": [
      "/home/andre/venv/lib/python3.12/site-packages/keras/src/layers/core/dense.py:87: UserWarning: Do not pass an `input_shape`/`input_dim` argument to a layer. When using Sequential models, prefer using an `Input(shape)` object as the first layer in the model instead.\n",
      "  super().__init__(activity_regularizer=activity_regularizer, **kwargs)\n"
     ]
    },
    {
     "data": {
      "text/html": [
       "<pre style=\"white-space:pre;overflow-x:auto;line-height:normal;font-family:Menlo,'DejaVu Sans Mono',consolas,'Courier New',monospace\"><span style=\"font-weight: bold\">Model: \"sequential_1\"</span>\n",
       "</pre>\n"
      ],
      "text/plain": [
       "\u001b[1mModel: \"sequential_1\"\u001b[0m\n"
      ]
     },
     "metadata": {},
     "output_type": "display_data"
    },
    {
     "data": {
      "text/html": [
       "<pre style=\"white-space:pre;overflow-x:auto;line-height:normal;font-family:Menlo,'DejaVu Sans Mono',consolas,'Courier New',monospace\">┏━━━━━━━━━━━━━━━━━━━━━━━━━━━━━━━━━┳━━━━━━━━━━━━━━━━━━━━━━━━┳━━━━━━━━━━━━━━━┓\n",
       "┃<span style=\"font-weight: bold\"> Layer (type)                    </span>┃<span style=\"font-weight: bold\"> Output Shape           </span>┃<span style=\"font-weight: bold\">       Param # </span>┃\n",
       "┡━━━━━━━━━━━━━━━━━━━━━━━━━━━━━━━━━╇━━━━━━━━━━━━━━━━━━━━━━━━╇━━━━━━━━━━━━━━━┩\n",
       "│ dense_4 (<span style=\"color: #0087ff; text-decoration-color: #0087ff\">Dense</span>)                 │ (<span style=\"color: #00d7ff; text-decoration-color: #00d7ff\">None</span>, <span style=\"color: #00af00; text-decoration-color: #00af00\">64</span>)             │         <span style=\"color: #00af00; text-decoration-color: #00af00\">1,088</span> │\n",
       "├─────────────────────────────────┼────────────────────────┼───────────────┤\n",
       "│ dense_5 (<span style=\"color: #0087ff; text-decoration-color: #0087ff\">Dense</span>)                 │ (<span style=\"color: #00d7ff; text-decoration-color: #00d7ff\">None</span>, <span style=\"color: #00af00; text-decoration-color: #00af00\">64</span>)             │         <span style=\"color: #00af00; text-decoration-color: #00af00\">4,160</span> │\n",
       "├─────────────────────────────────┼────────────────────────┼───────────────┤\n",
       "│ dense_6 (<span style=\"color: #0087ff; text-decoration-color: #0087ff\">Dense</span>)                 │ (<span style=\"color: #00d7ff; text-decoration-color: #00d7ff\">None</span>, <span style=\"color: #00af00; text-decoration-color: #00af00\">1</span>)              │            <span style=\"color: #00af00; text-decoration-color: #00af00\">65</span> │\n",
       "└─────────────────────────────────┴────────────────────────┴───────────────┘\n",
       "</pre>\n"
      ],
      "text/plain": [
       "┏━━━━━━━━━━━━━━━━━━━━━━━━━━━━━━━━━┳━━━━━━━━━━━━━━━━━━━━━━━━┳━━━━━━━━━━━━━━━┓\n",
       "┃\u001b[1m \u001b[0m\u001b[1mLayer (type)                   \u001b[0m\u001b[1m \u001b[0m┃\u001b[1m \u001b[0m\u001b[1mOutput Shape          \u001b[0m\u001b[1m \u001b[0m┃\u001b[1m \u001b[0m\u001b[1m      Param #\u001b[0m\u001b[1m \u001b[0m┃\n",
       "┡━━━━━━━━━━━━━━━━━━━━━━━━━━━━━━━━━╇━━━━━━━━━━━━━━━━━━━━━━━━╇━━━━━━━━━━━━━━━┩\n",
       "│ dense_4 (\u001b[38;5;33mDense\u001b[0m)                 │ (\u001b[38;5;45mNone\u001b[0m, \u001b[38;5;34m64\u001b[0m)             │         \u001b[38;5;34m1,088\u001b[0m │\n",
       "├─────────────────────────────────┼────────────────────────┼───────────────┤\n",
       "│ dense_5 (\u001b[38;5;33mDense\u001b[0m)                 │ (\u001b[38;5;45mNone\u001b[0m, \u001b[38;5;34m64\u001b[0m)             │         \u001b[38;5;34m4,160\u001b[0m │\n",
       "├─────────────────────────────────┼────────────────────────┼───────────────┤\n",
       "│ dense_6 (\u001b[38;5;33mDense\u001b[0m)                 │ (\u001b[38;5;45mNone\u001b[0m, \u001b[38;5;34m1\u001b[0m)              │            \u001b[38;5;34m65\u001b[0m │\n",
       "└─────────────────────────────────┴────────────────────────┴───────────────┘\n"
      ]
     },
     "metadata": {},
     "output_type": "display_data"
    },
    {
     "data": {
      "text/html": [
       "<pre style=\"white-space:pre;overflow-x:auto;line-height:normal;font-family:Menlo,'DejaVu Sans Mono',consolas,'Courier New',monospace\"><span style=\"font-weight: bold\"> Total params: </span><span style=\"color: #00af00; text-decoration-color: #00af00\">5,313</span> (20.75 KB)\n",
       "</pre>\n"
      ],
      "text/plain": [
       "\u001b[1m Total params: \u001b[0m\u001b[38;5;34m5,313\u001b[0m (20.75 KB)\n"
      ]
     },
     "metadata": {},
     "output_type": "display_data"
    },
    {
     "data": {
      "text/html": [
       "<pre style=\"white-space:pre;overflow-x:auto;line-height:normal;font-family:Menlo,'DejaVu Sans Mono',consolas,'Courier New',monospace\"><span style=\"font-weight: bold\"> Trainable params: </span><span style=\"color: #00af00; text-decoration-color: #00af00\">5,313</span> (20.75 KB)\n",
       "</pre>\n"
      ],
      "text/plain": [
       "\u001b[1m Trainable params: \u001b[0m\u001b[38;5;34m5,313\u001b[0m (20.75 KB)\n"
      ]
     },
     "metadata": {},
     "output_type": "display_data"
    },
    {
     "data": {
      "text/html": [
       "<pre style=\"white-space:pre;overflow-x:auto;line-height:normal;font-family:Menlo,'DejaVu Sans Mono',consolas,'Courier New',monospace\"><span style=\"font-weight: bold\"> Non-trainable params: </span><span style=\"color: #00af00; text-decoration-color: #00af00\">0</span> (0.00 B)\n",
       "</pre>\n"
      ],
      "text/plain": [
       "\u001b[1m Non-trainable params: \u001b[0m\u001b[38;5;34m0\u001b[0m (0.00 B)\n"
      ]
     },
     "metadata": {},
     "output_type": "display_data"
    }
   ],
   "source": [
    "# Criando um modelo do tipo exibido no tutorial do tensorflow e exibindo o resumo da rede\n",
    "model = build_model(model_type='tensor')\n",
    "model.summary()"
   ]
  },
  {
   "cell_type": "code",
   "execution_count": 27,
   "id": "98573834-709c-4293-91dd-f1ffc2ed05a7",
   "metadata": {},
   "outputs": [
    {
     "name": "stdout",
     "output_type": "stream",
     "text": [
      "Epoch 1/10\n",
      "\u001b[1m47448/47448\u001b[0m \u001b[32m━━━━━━━━━━━━━━━━━━━━\u001b[0m\u001b[37m\u001b[0m \u001b[1m22s\u001b[0m 461us/step - loss: 20.3011 - mae: 1.2359 - mse: 20.3011 - val_loss: 1.0464 - val_mae: 0.0066 - val_mse: 1.0464\n",
      "Epoch 2/10\n",
      "\u001b[1m47448/47448\u001b[0m \u001b[32m━━━━━━━━━━━━━━━━━━━━\u001b[0m\u001b[37m\u001b[0m \u001b[1m22s\u001b[0m 458us/step - loss: 0.4926 - mae: 0.0050 - mse: 0.4926 - val_loss: 0.4117 - val_mae: 0.0080 - val_mse: 0.4117\n",
      "Epoch 3/10\n",
      "\u001b[1m47448/47448\u001b[0m \u001b[32m━━━━━━━━━━━━━━━━━━━━\u001b[0m\u001b[37m\u001b[0m \u001b[1m24s\u001b[0m 514us/step - loss: 0.2767 - mae: 0.0038 - mse: 0.2767 - val_loss: 0.0130 - val_mae: 0.0017 - val_mse: 0.0130\n",
      "Epoch 4/10\n",
      "\u001b[1m47448/47448\u001b[0m \u001b[32m━━━━━━━━━━━━━━━━━━━━\u001b[0m\u001b[37m\u001b[0m \u001b[1m25s\u001b[0m 517us/step - loss: 0.3403 - mae: 0.0037 - mse: 0.3403 - val_loss: 0.3540 - val_mae: 0.0051 - val_mse: 0.3540\n",
      "Epoch 5/10\n",
      "\u001b[1m47448/47448\u001b[0m \u001b[32m━━━━━━━━━━━━━━━━━━━━\u001b[0m\u001b[37m\u001b[0m \u001b[1m25s\u001b[0m 515us/step - loss: 0.2272 - mae: 0.0032 - mse: 0.2272 - val_loss: 0.0853 - val_mae: 0.0029 - val_mse: 0.0853\n",
      "Epoch 6/10\n",
      "\u001b[1m47448/47448\u001b[0m \u001b[32m━━━━━━━━━━━━━━━━━━━━\u001b[0m\u001b[37m\u001b[0m \u001b[1m25s\u001b[0m 516us/step - loss: 0.2393 - mae: 0.0032 - mse: 0.2393 - val_loss: 0.5228 - val_mae: 0.0041 - val_mse: 0.5228\n",
      "Epoch 7/10\n",
      "\u001b[1m47448/47448\u001b[0m \u001b[32m━━━━━━━━━━━━━━━━━━━━\u001b[0m\u001b[37m\u001b[0m \u001b[1m25s\u001b[0m 518us/step - loss: 0.2006 - mae: 0.0031 - mse: 0.2006 - val_loss: 0.0785 - val_mae: 0.0021 - val_mse: 0.0785\n",
      "Epoch 8/10\n",
      "\u001b[1m47448/47448\u001b[0m \u001b[32m━━━━━━━━━━━━━━━━━━━━\u001b[0m\u001b[37m\u001b[0m \u001b[1m25s\u001b[0m 519us/step - loss: 0.1271 - mae: 0.0025 - mse: 0.1271 - val_loss: 0.2757 - val_mae: 0.0031 - val_mse: 0.2757\n",
      "Epoch 9/10\n",
      "\u001b[1m47448/47448\u001b[0m \u001b[32m━━━━━━━━━━━━━━━━━━━━\u001b[0m\u001b[37m\u001b[0m \u001b[1m25s\u001b[0m 523us/step - loss: 0.1553 - mae: 0.0027 - mse: 0.1553 - val_loss: 0.0055 - val_mae: 7.4833e-04 - val_mse: 0.0055\n",
      "Epoch 10/10\n",
      "\u001b[1m47448/47448\u001b[0m \u001b[32m━━━━━━━━━━━━━━━━━━━━\u001b[0m\u001b[37m\u001b[0m \u001b[1m25s\u001b[0m 520us/step - loss: 0.1324 - mae: 0.0025 - mse: 0.1324 - val_loss: 0.0667 - val_mae: 0.0031 - val_mse: 0.0667\n"
     ]
    }
   ],
   "source": [
    "# Criando uma callback para early stopping no treinamento da rede neural\n",
    "early_stop = keras.callbacks.EarlyStopping(monitor='val_loss', patience=10)\n",
    "\n",
    "# Treinando um exemplo de modelo de rede neural MLP\n",
    "history = model.fit(\n",
    "    trainX_scaled,\n",
    "    trainY,\n",
    "    batch_size=128,\n",
    "    epochs=10,\n",
    "    validation_split=0.2,\n",
    "    verbose=1,\n",
    "    callbacks=[early_stop]\n",
    ")"
   ]
  },
  {
   "cell_type": "code",
   "execution_count": 28,
   "id": "5f482b06-eb28-44a7-a61e-46354888f940",
   "metadata": {},
   "outputs": [],
   "source": [
    "# Função para plotar dois gráficos (mae e mse) das métricas de treinamento\n",
    "# O primeiro gráfico é da mae e o segundo da mse, neles são exibidas duas linhas, sendo uma de validação e a outra do treinamento\n",
    "def plot_history(history):\n",
    "    df_hist = pd.DataFrame(history.history)\n",
    "    df_hist['epoch'] = history.epoch\n",
    "\n",
    "    plt.figure()\n",
    "    plt.xlabel('Epoch')\n",
    "    plt.ylabel('Mean Absolute Error')\n",
    "    plt.plot(df_hist['epoch'], df_hist['mae'], label='Train Error')\n",
    "    plt.plot(df_hist['epoch'], df_hist['val_mae'], label='Val Error')\n",
    "    # plt.ylim([0, 5])\n",
    "    plt.legend()\n",
    "\n",
    "    plt.figure()\n",
    "    plt.xlabel('Epoch')\n",
    "    plt.ylabel('Mean Square Error')\n",
    "    plt.plot(df_hist['epoch'], df_hist['mse'], label='Train Error')\n",
    "    plt.plot(df_hist['epoch'], df_hist['val_mse'], label='Val Error')\n",
    "    # plt.ylim([0, 20])\n",
    "    plt.legend()\n",
    "    plt.show()"
   ]
  },
  {
   "cell_type": "code",
   "execution_count": 29,
   "id": "24760144-8760-43d8-8362-9c1ad40e5621",
   "metadata": {},
   "outputs": [
    {
     "data": {
      "image/png": "[encoded data removed]",
      "text/plain": [
       "<Figure size 640x480 with 1 Axes>"
      ]
     },
     "metadata": {},
     "output_type": "display_data"
    },
    {
     "data": {
      "image/png": "[encoded data removed]",
      "text/plain": [
       "<Figure size 640x480 with 1 Axes>"
      ]
     },
     "metadata": {},
     "output_type": "display_data"
    }
   ],
   "source": [
    "plot_history(history)"
   ]
  },
  {
   "cell_type": "code",
   "execution_count": 30,
   "id": "91501bc9-e2ea-4375-b9d5-ec6a078c6a2e",
   "metadata": {},
   "outputs": [
    {
     "name": "stdout",
     "output_type": "stream",
     "text": [
      "101673/101673 - 23s - 224us/step - loss: 0.0793 - mae: 0.0033 - mse: 0.0793\n",
      "Testing set Mean Abs Error: 0.0032719101291149855\n"
     ]
    }
   ],
   "source": [
    "# Impressão de mais métricas para avaliação do modelo treinado\n",
    "loss, mae, mse = model.evaluate(testX_scaled, testY, verbose=2)\n",
    "print(f\"Testing set Mean Abs Error: {mae}\")"
   ]
  },
  {
   "cell_type": "code",
   "execution_count": 44,
   "id": "f401858d-25a4-4ac2-bf5e-aa1194b4435b",
   "metadata": {},
   "outputs": [
    {
     "name": "stdout",
     "output_type": "stream",
     "text": [
      "\u001b[1m101673/101673\u001b[0m \u001b[32m━━━━━━━━━━━━━━━━━━━━\u001b[0m\u001b[37m\u001b[0m \u001b[1m25s\u001b[0m 250us/step\n"
     ]
    }
   ],
   "source": [
    "# Realização de uma predição com o modelo treinado\n",
    "predictions = model.predict(testX_scaled).flatten()"
   ]
  },
  {
   "cell_type": "code",
   "execution_count": 45,
   "id": "9dc8ffe0-0afd-41d3-9a29-993e096ed1b4",
   "metadata": {},
   "outputs": [
    {
     "data": {
      "text/plain": [
       "[<matplotlib.lines.Line2D at 0x79af072e6990>]"
      ]
     },
     "execution_count": 45,
     "metadata": {},
     "output_type": "execute_result"
    },
    {
     "data": {
      "image/png": "[encoded data removed]",
      "text/plain": [
       "<Figure size 640x480 with 1 Axes>"
      ]
     },
     "metadata": {},
     "output_type": "display_data"
    }
   ],
   "source": [
    "# Plotagem entre os valores preditos e reais nos testes. Quando mais pontos estiverem sobre a linha da diagonail x=y, melhor\n",
    "plt.figure()\n",
    "plt.scatter(testY.to_numpy(), predictions)\n",
    "plt.xlabel('True Values')\n",
    "plt.ylabel('Predictions')\n",
    "plt.axis('equal')\n",
    "plt.axis('square')\n",
    "plt.xlim([0, 0.3])\n",
    "plt.ylim([0, 0.3])\n",
    "plt.plot([-100, 100], [-100, 100])"
   ]
  },
  {
   "cell_type": "code",
   "execution_count": 63,
   "id": "c3ae9820-41be-4d04-a6ff-a265264fe1a6",
   "metadata": {},
   "outputs": [
    {
     "data": {
      "image/png": "[encoded data removed]",
      "text/plain": [
       "<Figure size 640x480 with 1 Axes>"
      ]
     },
     "metadata": {},
     "output_type": "display_data"
    }
   ],
   "source": [
    "# Plotagem com histograma dos erros. No entanto, não funcionou muito bem em virtude da magnitude dos erros e de outliers\n",
    "error = predictions - testY\n",
    "plt.figure()\n",
    "plt.hist(error, bins = 1000)\n",
    "plt.xlabel(\"Prediction Error\")\n",
    "plt.ylabel(\"Count\")\n",
    "plt.xlim([0, 0.1])\n",
    "plt.show()"
   ]
  },
  {
   "cell_type": "markdown",
   "id": "e10f78e0-ae4a-4413-abd5-e34d4f976cc8",
   "metadata": {
    "jp-MarkdownHeadingCollapsed": true
   },
   "source": [
    "# Tuning de Hyperparametros"
   ]
  },
  {
   "cell_type": "code",
   "execution_count": 65,
   "id": "a11154c2-700f-44f3-9e39-e34af5f2e2a0",
   "metadata": {},
   "outputs": [
    {
     "name": "stdout",
     "output_type": "stream",
     "text": [
      "Collecting keras-tuner\n",
      "  Downloading keras_tuner-1.4.7-py3-none-any.whl.metadata (5.4 kB)\n",
      "Requirement already satisfied: keras in /home/andre/venv/lib/python3.12/site-packages (from keras-tuner) (3.5.0)\n",
      "Requirement already satisfied: packaging in /home/andre/venv/lib/python3.12/site-packages (from keras-tuner) (24.1)\n",
      "Requirement already satisfied: requests in /home/andre/venv/lib/python3.12/site-packages (from keras-tuner) (2.32.3)\n",
      "Collecting kt-legacy (from keras-tuner)\n",
      "  Downloading kt_legacy-1.0.5-py3-none-any.whl.metadata (221 bytes)\n",
      "Requirement already satisfied: absl-py in /home/andre/venv/lib/python3.12/site-packages (from keras->keras-tuner) (2.1.0)\n",
      "Requirement already satisfied: numpy in /home/andre/venv/lib/python3.12/site-packages (from keras->keras-tuner) (1.26.4)\n",
      "Requirement already satisfied: rich in /home/andre/venv/lib/python3.12/site-packages (from keras->keras-tuner) (13.8.1)\n",
      "Requirement already satisfied: namex in /home/andre/venv/lib/python3.12/site-packages (from keras->keras-tuner) (0.0.8)\n",
      "Requirement already satisfied: h5py in /home/andre/venv/lib/python3.12/site-packages (from keras->keras-tuner) (3.12.1)\n",
      "Requirement already satisfied: optree in /home/andre/venv/lib/python3.12/site-packages (from keras->keras-tuner) (0.12.1)\n",
      "Requirement already satisfied: ml-dtypes in /home/andre/venv/lib/python3.12/site-packages (from keras->keras-tuner) (0.3.2)\n",
      "Requirement already satisfied: charset-normalizer<4,>=2 in /home/andre/venv/lib/python3.12/site-packages (from requests->keras-tuner) (3.3.2)\n",
      "Requirement already satisfied: idna<4,>=2.5 in /home/andre/venv/lib/python3.12/site-packages (from requests->keras-tuner) (3.7)\n",
      "Requirement already satisfied: urllib3<3,>=1.21.1 in /home/andre/venv/lib/python3.12/site-packages (from requests->keras-tuner) (2.2.2)\n",
      "Requirement already satisfied: certifi>=2017.4.17 in /home/andre/venv/lib/python3.12/site-packages (from requests->keras-tuner) (2024.7.4)\n",
      "Requirement already satisfied: typing-extensions>=4.5.0 in /home/andre/venv/lib/python3.12/site-packages (from optree->keras->keras-tuner) (4.12.2)\n",
      "Requirement already satisfied: markdown-it-py>=2.2.0 in /home/andre/venv/lib/python3.12/site-packages (from rich->keras->keras-tuner) (3.0.0)\n",
      "Requirement already satisfied: pygments<3.0.0,>=2.13.0 in /home/andre/venv/lib/python3.12/site-packages (from rich->keras->keras-tuner) (2.18.0)\n",
      "Requirement already satisfied: mdurl~=0.1 in /home/andre/venv/lib/python3.12/site-packages (from markdown-it-py>=2.2.0->rich->keras->keras-tuner) (0.1.2)\n",
      "Downloading keras_tuner-1.4.7-py3-none-any.whl (129 kB)\n",
      "\u001b[2K   \u001b[38;2;114;156;31m━━━━━━━━━━━━━━━━━━━━━━━━━━━━━━━━━━━━━━━\u001b[0m \u001b[32m129.1/129.1 kB\u001b[0m \u001b[31m373.1 kB/s\u001b[0m eta \u001b[36m0:00:00\u001b[0m kB/s\u001b[0m eta \u001b[36m0:00:01\u001b[0m:01\u001b[0m\n",
      "\u001b[?25hDownloading kt_legacy-1.0.5-py3-none-any.whl (9.6 kB)\n",
      "Installing collected packages: kt-legacy, keras-tuner\n",
      "Successfully installed keras-tuner-1.4.7 kt-legacy-1.0.5\n"
     ]
    }
   ],
   "source": [
    "# O equivalente ao GridSearch para o TensorFlow com Keras é o keras-tuner\n",
    "# Preciso fazer a instalação do pacote para poder utilizar\n",
    "!pip install keras-tuner"
   ]
  },
  {
   "cell_type": "code",
   "execution_count": 66,
   "id": "6e8973c2-ef5c-4d95-bc4a-7291ec7e9218",
   "metadata": {},
   "outputs": [],
   "source": [
    "# https://www.tensorflow.org/tutorials/keras/keras_tuner?hl=pt-br\n",
    "# Importação das bibliotecas necessárias para fazer o search dos hyperparâmetros das possíveis redes neurais\n",
    "import tensorflow as tf\n",
    "import keras_tuner as kt\n",
    "\n",
    "from tensorflow import keras"
   ]
  },
  {
   "cell_type": "code",
   "execution_count": 69,
   "id": "cf61f52a-28d7-4672-9a66-bc65a57f9fcb",
   "metadata": {},
   "outputs": [],
   "source": [
    "# Essa é uma nova definição da função que monta a rede neural.\n",
    "# A primeira definição monta uma única rede neural já de uma maneira rígida.\n",
    "# Essa função aceita uma variação dos parâmetros como é feito no GridSearch\n",
    "def model_builder(hp):\n",
    "    model = keras.Sequential()\n",
    "    \n",
    "    # Camada de entrada\n",
    "    # Apareceu um warning indicando que não é necessário definir a camada de entrada\n",
    "    # model.add(keras.layers.Flatten(input_shape=[len(trainX_scaled[0])]))\n",
    "\n",
    "    # Primeira camada escondida variada\n",
    "    # Essa função de builder recebe um objeto hp que serve para definir os ranges dos parâmetros de busca\n",
    "    # Aqui estou indicando que irei variar um inteiro de 32 a 64 com steps de 16\n",
    "    # Em seguida, eu adiciono uma camada com função de ativação relu, sendo que o número de neurônios varia conforme o hp_units\n",
    "    hp_units = hp.Int('units', min_value=32, max_value=64, step=16)\n",
    "    model.add(keras.layers.Dense(units=hp_units, activation='relu'))\n",
    "\n",
    "    # Segunda camada escondida definida como fixa com 16 neurônios e função de ativação relu\n",
    "    model.add(keras.layers.Dense(16, activation='relu'))\n",
    "\n",
    "    # Camada de saída definida como fixa com 1 neurônio e função de ativação linear\n",
    "    model.add(keras.layers.Dense(1, activation='linear'))\n",
    "\n",
    "    # Learning rate variável\n",
    "    # Novamente, eu uso o hp que o builder recebe para fazer a possibilidade de variação\n",
    "    # Aqui estou variando o parâmetro learning_rate nas seguintes escolhas possíveis 1e-2, 1e-3 e 1e-4\n",
    "    hp_learning_rate = hp.Choice(\n",
    "        'learning_rate',\n",
    "        values=[1e-2, 1e-3, 1e-4]\n",
    "    )\n",
    "\n",
    "    # Montando o modelo\n",
    "    # Na compilação do modelo, eu tenho que definir o optimizer com um learning_rate, justamente o qual eu coloco o hp_learning_rate para deixar variável\n",
    "    # A métrica para a avaliação foi definida como acurácia, mas poderia mudar\n",
    "    model.compile(\n",
    "        optimizer=keras.optimizers.Adam(learning_rate=hp_learning_rate),\n",
    "        loss=keras.losses.SparseCategoricalCrossentropy(from_logits=True),\n",
    "        metrics=['accuracy']\n",
    "    )\n",
    "\n",
    "    return model"
   ]
  },
  {
   "cell_type": "code",
   "execution_count": 70,
   "id": "2bebabc4-e869-4c87-a005-480062242484",
   "metadata": {},
   "outputs": [],
   "source": [
    "# Criando um keras-tuner do tipo Hyperband, mas poderia ser RandomSearch, Hyperband, BayesianOptimization e Sklearn\n",
    "tuner = kt.Hyperband(\n",
    "    model_builder,\n",
    "    objective='val_accuracy',\n",
    "    max_epochs=10,\n",
    "    factor=3,\n",
    "    directory='./model',\n",
    "    project_name='primeiro'\n",
    ")"
   ]
  },
  {
   "cell_type": "code",
   "execution_count": 72,
   "id": "21d707a7-9929-4fc4-8cbb-241e20505161",
   "metadata": {},
   "outputs": [],
   "source": [
    "# Novamente definindo um early stopping com paciência até menor que a anterior.\n",
    "# Caso não se tenha um ganho no val_loss significativo após 5 épocas, ele para o treinamento.\n",
    "early_stop = keras.callbacks.EarlyStopping(monitor='val_loss', patience=5)"
   ]
  },
  {
   "cell_type": "code",
   "execution_count": 73,
   "id": "b1bcc4e2-bbfe-4882-baa9-d6e06d85d9fd",
   "metadata": {},
   "outputs": [
    {
     "name": "stdout",
     "output_type": "stream",
     "text": [
      "Trial 9 Complete [00h 02m 19s]\n",
      "val_accuracy: 0.10912622511386871\n",
      "\n",
      "Best val_accuracy So Far: 0.10912622511386871\n",
      "Total elapsed time: 00h 25m 35s\n"
     ]
    },
    {
     "data": {
      "text/plain": [
       "<keras_tuner.src.engine.hyperparameters.hyperparameters.HyperParameters at 0x79af0a869d00>"
      ]
     },
     "execution_count": 73,
     "metadata": {},
     "output_type": "execute_result"
    }
   ],
   "source": [
    "# Realização da busca de hyperparâmetros segundo o que foi definido anteriormente\n",
    "tuner.search(\n",
    "    trainX_scaled,\n",
    "    trainY,\n",
    "    epochs=50,\n",
    "    validation_split=0.2, \n",
    "    callbacks=[early_stop]\n",
    ")\n",
    "\n",
    "# Melhores parâmetros obtidos\n",
    "best_hps = tuner.get_best_hyperparameters(num_trials=1)[0]\n",
    "best_hps"
   ]
  },
  {
   "cell_type": "code",
   "execution_count": 74,
   "id": "9d562838-8a49-46cd-b055-65267876596b",
   "metadata": {},
   "outputs": [
    {
     "name": "stdout",
     "output_type": "stream",
     "text": [
      "Epoch 1/10\n",
      "\u001b[1m189789/189789\u001b[0m \u001b[32m━━━━━━━━━━━━━━━━━━━━\u001b[0m\u001b[37m\u001b[0m \u001b[1m63s\u001b[0m 327us/step - accuracy: 0.0115 - loss: 0.0000e+00 - val_accuracy: 0.0114 - val_loss: 0.0000e+00\n",
      "Epoch 2/10\n",
      "\u001b[1m189789/189789\u001b[0m \u001b[32m━━━━━━━━━━━━━━━━━━━━\u001b[0m\u001b[37m\u001b[0m \u001b[1m72s\u001b[0m 377us/step - accuracy: 0.0115 - loss: 0.0000e+00 - val_accuracy: 0.0114 - val_loss: 0.0000e+00\n",
      "Epoch 3/10\n",
      "\u001b[1m189789/189789\u001b[0m \u001b[32m━━━━━━━━━━━━━━━━━━━━\u001b[0m\u001b[37m\u001b[0m \u001b[1m69s\u001b[0m 365us/step - accuracy: 0.0116 - loss: 0.0000e+00 - val_accuracy: 0.0114 - val_loss: 0.0000e+00\n",
      "Epoch 4/10\n",
      "\u001b[1m189789/189789\u001b[0m \u001b[32m━━━━━━━━━━━━━━━━━━━━\u001b[0m\u001b[37m\u001b[0m \u001b[1m67s\u001b[0m 352us/step - accuracy: 0.0115 - loss: 0.0000e+00 - val_accuracy: 0.0114 - val_loss: 0.0000e+00\n",
      "Epoch 5/10\n",
      "\u001b[1m189789/189789\u001b[0m \u001b[32m━━━━━━━━━━━━━━━━━━━━\u001b[0m\u001b[37m\u001b[0m \u001b[1m67s\u001b[0m 353us/step - accuracy: 0.0116 - loss: 0.0000e+00 - val_accuracy: 0.0114 - val_loss: 0.0000e+00\n",
      "Epoch 6/10\n",
      "\u001b[1m189789/189789\u001b[0m \u001b[32m━━━━━━━━━━━━━━━━━━━━\u001b[0m\u001b[37m\u001b[0m \u001b[1m65s\u001b[0m 339us/step - accuracy: 0.0115 - loss: 0.0000e+00 - val_accuracy: 0.0114 - val_loss: 0.0000e+00\n",
      "Epoch 7/10\n",
      "\u001b[1m189789/189789\u001b[0m \u001b[32m━━━━━━━━━━━━━━━━━━━━\u001b[0m\u001b[37m\u001b[0m \u001b[1m69s\u001b[0m 361us/step - accuracy: 0.0116 - loss: 0.0000e+00 - val_accuracy: 0.0114 - val_loss: 0.0000e+00\n",
      "Epoch 8/10\n",
      "\u001b[1m189789/189789\u001b[0m \u001b[32m━━━━━━━━━━━━━━━━━━━━\u001b[0m\u001b[37m\u001b[0m \u001b[1m68s\u001b[0m 355us/step - accuracy: 0.0115 - loss: 0.0000e+00 - val_accuracy: 0.0114 - val_loss: 0.0000e+00\n",
      "Epoch 9/10\n",
      "\u001b[1m189789/189789\u001b[0m \u001b[32m━━━━━━━━━━━━━━━━━━━━\u001b[0m\u001b[37m\u001b[0m \u001b[1m72s\u001b[0m 379us/step - accuracy: 0.0115 - loss: 0.0000e+00 - val_accuracy: 0.0114 - val_loss: 0.0000e+00\n",
      "Epoch 10/10\n",
      "\u001b[1m189789/189789\u001b[0m \u001b[32m━━━━━━━━━━━━━━━━━━━━\u001b[0m\u001b[37m\u001b[0m \u001b[1m66s\u001b[0m 347us/step - accuracy: 0.0115 - loss: 0.0000e+00 - val_accuracy: 0.0114 - val_loss: 0.0000e+00\n"
     ]
    },
    {
     "data": {
      "text/plain": [
       "1"
      ]
     },
     "execution_count": 74,
     "metadata": {},
     "output_type": "execute_result"
    }
   ],
   "source": [
    "# Construindo o modelo com os melhores parâmetros\n",
    "model = tuner.hypermodel.build(best_hps)\n",
    "\n",
    "# Realizando o treinamento com os dados\n",
    "history = model.fit(\n",
    "    trainX_scaled,\n",
    "    trainY,\n",
    "    epochs=10, \n",
    "    validation_split=0.2\n",
    ")\n",
    "\n",
    "# Pegando a melhor época\n",
    "val_acc_per_epoch = history.history['val_accuracy']\n",
    "best_epoch = val_acc_per_epoch.index(max(val_acc_per_epoch)) + 1\n",
    "\n",
    "best_epoch"
   ]
  },
  {
   "cell_type": "code",
   "execution_count": 75,
   "id": "6ce99ecb-d11f-4d7a-aca4-640a82f9ebf7",
   "metadata": {},
   "outputs": [
    {
     "name": "stdout",
     "output_type": "stream",
     "text": [
      "\u001b[1m189789/189789\u001b[0m \u001b[32m━━━━━━━━━━━━━━━━━━━━\u001b[0m\u001b[37m\u001b[0m \u001b[1m64s\u001b[0m 337us/step - accuracy: 0.0000e+00 - loss: 0.0000e+00 - val_accuracy: 0.0000e+00 - val_loss: 0.0000e+00\n"
     ]
    }
   ],
   "source": [
    "# Treinamento do modelo com os melhores parâmetros e melhor época\n",
    "hypermodel = tuner.hypermodel.build(best_hps)\n",
    "history = hypermodel.fit(\n",
    "    trainX_scaled,\n",
    "    trainY,\n",
    "    epochs=best_epoch, \n",
    "    validation_split=0.2\n",
    ")"
   ]
  },
  {
   "cell_type": "code",
   "execution_count": 77,
   "id": "51b3cc54-4535-4186-989c-dee6e8afa4a0",
   "metadata": {},
   "outputs": [
    {
     "name": "stdout",
     "output_type": "stream",
     "text": [
      "\u001b[1m101673/101673\u001b[0m \u001b[32m━━━━━━━━━━━━━━━━━━━━\u001b[0m\u001b[37m\u001b[0m \u001b[1m22s\u001b[0m 213us/step - accuracy: 0.0000e+00 - loss: 0.0000e+00\n",
      "[test loss, test accuracy]: [0.0, 0.0]\n"
     ]
    }
   ],
   "source": [
    "# Avaliação dos resultados\n",
    "eval_result = hypermodel.evaluate(testX_scaled, testY)\n",
    "print(\"[test loss, test accuracy]:\", eval_result)"
   ]
  },
  {
   "cell_type": "code",
   "execution_count": 80,
   "id": "593539d5-ddd6-4fd5-94ba-e738ee34afb3",
   "metadata": {},
   "outputs": [
    {
     "name": "stdout",
     "output_type": "stream",
     "text": [
      "\u001b[1m101673/101673\u001b[0m \u001b[32m━━━━━━━━━━━━━━━━━━━━\u001b[0m\u001b[37m\u001b[0m \u001b[1m21s\u001b[0m 209us/step - accuracy: 0.0116 - loss: 0.0000e+00\n",
      "[test loss, test accuracy]: [0.0, 0.011541374027729034]\n"
     ]
    }
   ],
   "source": [
    "# Avaliação dos resultados\n",
    "eval_result = model.evaluate(testX_scaled, testY)\n",
    "print(\"[test loss, test accuracy]:\", eval_result)"
   ]
  },
  {
   "cell_type": "code",
   "execution_count": null,
   "id": "75050d1f-d25d-46b0-90fa-55e4bd88bf17",
   "metadata": {},
   "outputs": [],
   "source": [
    "# Leituras futuras sobre o keras-tuner. Tem um tensorboard que parece interessante por mostrar graficamente as redes e as buscas por hyperparâmetros\n",
    "# https://blog.tensorflow.org/2020/01/hyperparameter-tuning-with-keras-tuner.html?hl=pt-br&_gl=1*16he0rb*_ga*NjU4MDE2Mjg2LjE3Mjc3MTUxNjE.*_ga_W0YLR4190T*MTczMDM4Njc1NC40LjEuMTczMDM4Nzc5NC4wLjAuMA..\n",
    "# https://keras.io/keras_tuner/\n",
    "# https://www.tensorflow.org/tensorboard/hyperparameter_tuning_with_hparams?hl=pt-br"
   ]
  },
  {
   "cell_type": "markdown",
   "id": "208e4111-94a7-44cc-98ab-6c8b5d535621",
   "metadata": {
    "jp-MarkdownHeadingCollapsed": true
   },
   "source": [
    "# Portando para o Esp32"
   ]
  },
  {
   "cell_type": "code",
   "execution_count": 96,
   "id": "2d040899-9ee3-4f80-b880-45e32352c3ff",
   "metadata": {},
   "outputs": [],
   "source": [
    "# A fase final é a exportação do modelo obtido para a arquitetura esp32 a fim de ser executada no freematics\n",
    "# Importação das bibliotecas necessárias\n",
    "import os\n",
    "import numpy as np"
   ]
  },
  {
   "cell_type": "code",
   "execution_count": 97,
   "id": "93245027-d55d-4202-97df-ecd1f584486b",
   "metadata": {},
   "outputs": [],
   "source": [
    "# Função para excrever a biblioteca que leva o modelo em hexadecimal\n",
    "def hex_to_c_array(hex_data, var_name):  \n",
    "    # Start Header\n",
    "    starting_header = \"\"\"#ifdef __has_attribute\n",
    "#define HAVE_ATTRIBUTE(x) __has_attribute(x)\n",
    "#else\n",
    "#define HAVE_ATTRIBUTE(x) 0\n",
    "#endif\n",
    "#if HAVE_ATTRIBUTE(aligned) || (defined(__GNUC__) && !defined(__clang__))\n",
    "#define DATA_ALIGN_ATTRIBUTE __attribute__((aligned(4)))\n",
    "#else\n",
    "#define DATA_ALIGN_ATTRIBUTE\n",
    "#endif\n",
    "    \n",
    "\"\"\"\n",
    "\n",
    "    # Declare C variable\n",
    "    declare_variable = f\"const unsigned char {var_name}[]  DATA_ALIGN_ATTRIBUTE = \" + \"{\"\n",
    "\n",
    "    # Constructing Hex\n",
    "    hex_array = []\n",
    "    for i, val in enumerate(hex_data):\n",
    "        # Parsing hex to string\n",
    "        hex_str = format(val, '#04x')\n",
    "\n",
    "        # Lines with 80 chars\n",
    "        if (i + 1) < len(hex_data):\n",
    "            hex_str += ','\n",
    "        if (i + 1) % 12 == 0:\n",
    "            hex_str += '\\n '\n",
    "        hex_array.append(hex_str)\n",
    "    hex = '\\n ' + format(' '.join(hex_array)) + '\\n};\\n\\n'\n",
    "\n",
    "    # Close Header\n",
    "    closing_header = f\"const int {var_name}_len = {str(len(hex_data))};\\n\"\n",
    "\n",
    "    return starting_header + declare_variable + hex + closing_header"
   ]
  },
  {
   "cell_type": "code",
   "execution_count": 98,
   "id": "a59e044d-d2c1-4e69-a0a2-224daac70119",
   "metadata": {},
   "outputs": [],
   "source": [
    "def representative_dataset():\n",
    "    for i in range(len(trainX_scaled)):\n",
    "        input_data = np.array([trainX_scaled[i]], dtype=np.float32)\n",
    "        yield [input_data]"
   ]
  },
  {
   "cell_type": "code",
   "execution_count": 99,
   "id": "8a8300c4-3ece-455c-8fbc-57d9615fbd62",
   "metadata": {},
   "outputs": [],
   "source": [
    "# Conversor para a arquitetura esp32 com TFLite e o Keras\n",
    "def converter_quantization_model(model, model_name, quant_type):\n",
    "    # É necessário exportar o modelo da memória para o arquivo e carregar em seguida\n",
    "    # A conversão direta como está na linha comentada gera erro no keras.\n",
    "    model.export(f\"./MLP/temp/{model_name}\")\n",
    "    converter = tf.lite.TFLiteConverter.from_saved_model(f\"./MLP/temp/{model_name}\")\n",
    "    # converter = tf.lite.TFLiteConverter.from_keras_model(model)\n",
    "\n",
    "    \n",
    "    converter.optimizations = [tf.lite.Optimize.DEFAULT]\n",
    "    converter.target_spec.supported_types = [quant_type]\n",
    "\n",
    "    # Quantizações de 32 e 8 bits\n",
    "    if quant_type == tf.float32:\n",
    "        converter._experimental_lower_tensor_list_ops = False\n",
    "        converter.supported_ops = [tf.lite.OpsSet.TFLITE_BUILTINS, tf.lite.OpsSet.SELECT_TF_OPS]\n",
    "    elif quant_type == tf.int8:\n",
    "        # converter.target_spec.supported_ops = [tf.lite.OpsSet.TFLITE_BUILTINS_INT8, tf.lite.OpsSet.SELECT_TF_OPS]\n",
    "        # converter.target_spec.supported_ops = [tf.lite.OpsSet.TFLITE_BUILTINS]\n",
    "        converter.target_spec.supported_ops = [tf.lite.OpsSet.TFLITE_BUILTINS_INT8]\n",
    "        converter.experimental_new_converter = True\n",
    "        converter.experimental_new_quantizer = True\n",
    "        converter.experimental_new_calibrator = True\n",
    "    \n",
    "    converter.representative_dataset = representative_dataset\n",
    "    tflite_model = converter.convert()\n",
    "\n",
    "    \n",
    "    print(tflite_model)\n",
    "\n",
    "    with open(f\"./MLP/models/{model_name}.h\", 'w') as file:\n",
    "        file.write(hex_to_c_array(tflite_model, model_name))\n",
    "\n",
    "    with open(f\"./MLP/models/{model_name}.tflite\", 'wb') as file:\n",
    "        file.write(tflite_model)\n",
    "\n",
    "    size_model_tflite = os.path.getsize(f\"./MLP/models/{model_name}.tflite\")\n",
    "    print(f\"./MLP/models/{model_name}.tflite: {size_model_tflite} Bytes\")"
   ]
  },
  {
   "cell_type": "code",
   "execution_count": 100,
   "id": "3c40c06c-0266-45fd-aa7d-835be557497f",
   "metadata": {},
   "outputs": [
    {
     "name": "stdout",
     "output_type": "stream",
     "text": [
      "INFO:tensorflow:Assets written to: ./MLP/temp/Primeiro_float32/assets\n"
     ]
    },
    {
     "name": "stderr",
     "output_type": "stream",
     "text": [
      "INFO:tensorflow:Assets written to: ./MLP/temp/Primeiro_float32/assets\n"
     ]
    },
    {
     "name": "stdout",
     "output_type": "stream",
     "text": [
      "Saved artifact at './MLP/temp/Primeiro_float32'. The following endpoints are available:\n",
      "\n",
      "* Endpoint 'serve'\n",
      "  args_0 (POSITIONAL_ONLY): TensorSpec(shape=(None, 16), dtype=tf.float32, name='keras_tensor_4')\n",
      "Output Type:\n",
      "  TensorSpec(shape=(None, 1), dtype=tf.float32, name=None)\n",
      "Captures:\n",
      "  133792861194576: TensorSpec(shape=(), dtype=tf.resource, name=None)\n",
      "  133792861193616: TensorSpec(shape=(), dtype=tf.resource, name=None)\n",
      "  133792861192464: TensorSpec(shape=(), dtype=tf.resource, name=None)\n",
      "  133792861195344: TensorSpec(shape=(), dtype=tf.resource, name=None)\n",
      "  133792861193424: TensorSpec(shape=(), dtype=tf.resource, name=None)\n",
      "  133792861197840: TensorSpec(shape=(), dtype=tf.resource, name=None)\n",
      "b'\\x1c\\x00\\x00\\x00TFL3\\x14\\x00 \\x00\\x1c\\x00\\x18\\x00\\x14\\x00\\x10\\x00\\x0c\\x00\\x00\\x00\\x08\\x00\\x04\\x00\\x14\\x00\\x00\\x00\\x1c\\x00\\x00\\x00\\x98\\x00\\x00\\x00\\xf0\\x00\\x00\\x00\\x14\\x12\\x00\\x00$\\x12\\x00\\x00,\\x16\\x00\\x00\\x03\\x00\\x00\\x00\\x01\\x00\\x00\\x00\\x10\\x00\\x00\\x00\\x00\\x00\\n\\x00\\x10\\x00\\x0c\\x00\\x08\\x00\\x04\\x00\\n\\x00\\x00\\x00\\x0c\\x00\\x00\\x00\\x1c\\x00\\x00\\x00<\\x00\\x00\\x00\\x0f\\x00\\x00\\x00serving_default\\x00\\x01\\x00\\x00\\x00\\x04\\x00\\x00\\x00\\x90\\xff\\xff\\xff\\x06\\x00\\x00\\x00\\x04\\x00\\x00\\x00\\x08\\x00\\x00\\x00output_0\\x00\\x00\\x00\\x00\\x01\\x00\\x00\\x00\\x04\\x00\\x00\\x00\\xba\\xee\\xff\\xff\\x04\\x00\\x00\\x00\\x0e\\x00\\x00\\x00keras_tensor_4\\x00\\x00\\x02\\x00\\x00\\x004\\x00\\x00\\x00\\x04\\x00\\x00\\x00\\xdc\\xff\\xff\\xff\\t\\x00\\x00\\x00\\x04\\x00\\x00\\x00\\x13\\x00\\x00\\x00CONVERSION_METADATA\\x00\\x08\\x00\\x0c\\x00\\x08\\x00\\x04\\x00\\x08\\x00\\x00\\x00\\x08\\x00\\x00\\x00\\x04\\x00\\x00\\x00\\x13\\x00\\x00\\x00min_runtime_version\\x00\\n\\x00\\x00\\x00 \\x11\\x00\\x00\\x18\\x11\\x00\\x00\\xc8\\x10\\x00\\x00\\xb0\\x08\\x00\\x00\\xa0\\x00\\x00\\x00\\x98\\x00\\x00\\x00\\x90\\x00\\x00\\x00\\x88\\x00\\x00\\x00h\\x00\\x00\\x00\\x04\\x00\\x00\\x00^\\xef\\xff\\xff\\x04\\x00\\x00\\x00T\\x00\\x00\\x00\\x0c\\x00\\x00\\x00\\x08\\x00\\x0e\\x00\\x08\\x00\\x04\\x00\\x08\\x00\\x00\\x00\\x10\\x00\\x00\\x00$\\x00\\x00\\x00\\x00\\x00\\x06\\x00\\x08\\x00\\x04\\x00\\x06\\x00\\x00\\x00\\x04\\x00\\x00\\x00\\x00\\x00\\x00\\x00\\x00\\x00\\n\\x00\\x10\\x00\\x0c\\x00\\x08\\x00\\x04\\x00\\n\\x00\\x00\\x00\\x01\\x00\\x00\\x00\\x02\\x00\\x00\\x00\\x04\\x00\\x00\\x00\\x06\\x00\\x00\\x002.16.1\\x00\\x00\\xbe\\xef\\xff\\xff\\x04\\x00\\x00\\x00\\x10\\x00\\x00\\x001.5.0\\x00\\x00\\x00\\x00\\x00\\x00\\x00\\x00\\x00\\x00\\x00\\x9c\\xeb\\xff\\xff\\xa0\\xeb\\xff\\xff\\xa4\\xeb\\xff\\xff\\xe6\\xef\\xff\\xff\\x04\\x00\\x00\\x00\\x00\\x08\\x00\\x00\\xc8Y2=\\xff\\xc9\\x94>\\xf9q\\xa1>\\xf7y\\x96>\\xf7\\'\\xb0>`\\x91F=\\'\\x1d\\x83>wj9\\xbe\\xd188\\xbe\\x88\\xa4\\xba\\xbd\\x00\\x13\\x1f\\xbc\\xfcW\\xd7\\xbd\\xf8\\x98]\\xbd\\xfc\\t\\xdc=\\x9a\\xeaP>\\xd8\\x07\\xdb\\xbd\\x08\\xd1\\xf1\\xbd\\xf31\\x98\\xbeL;\\xb1\\xbek\\xfe\\xa3>k\\xfd\\xa9\\xbe\\xaarn>\\xa8\\n\\xb5=\\x03[\\x84>w\\x11\\xb1>\\xbf\\xdf\\xa8\\xbe\\x91)\\xac>w\\x92^\\xbe\\xe0D\\xb1<\\x1a\\x89\\xb3\\xbeh\\x9b\\x98\\xbe\\xeaDz\\xbe\\xf0\\x81u\\xbd\\x11\\xb3\\x8b>\\x8a\\xdb|\\xbe\\x18\\x8eM\\xbd\\x80\\xd4\\x89=X\\'[\\xbd@\\xbc\\xfd\\xbcN!\\x9b\\xbe o\\xcb<\\xc3cX\\xbe\\xf0\\xbc\\xd6<v\\\\5>\\x93)\\xa2>\\xa1\\xc96\\xbe\\x80\\xa3\\xe3<#&W\\xbe \\xc7U\\xbe\\x00gD\\xbdVw\\x1e>\\xb8\\x9a\\x16\\xbd\\xe6\\xff\\xac\\xbe!S\\xa0\\xbe\\x8c\\xa1\\xa9=\\xee\\xb6.>\\xea\\xef(>1\\x05\\x98>\\xf0\\xbe\\xba<JNE>\\xa3AQ\\xbe\\x0c~o\\xbe\\xdbz\\x83\\xbe\\t\\x1a\\x9b\\xbe\\xa11\\xa2\\xbew|\\xa3>Q\\x82\\x89\\xbeX\\xc2\\x05\\xbd\\x95\\xfb\\x87>\\x8b~\\xaa>]\\xf0?\\xbe`\\x9d\\xdb<pl\\x8c\\xbc2t\\x89\\xbe\\x80Fq<\\x80@J<O\\x89\\x81\\xbe\\xe0Ad\\xbc\\'\\x85\\x03\\xbe\\xc1m\\xa0\\xbeER\\x82>\\xef\\x1f\\x97>P\\x99\\xac\\xbe\\xca\\x0f\\x97\\xbeyb\\x98\\xbe\\x00y\\xba\\xbd\\x80\\xef\\x03\\xbd\\x96\\xefK>|\\x04\\xcb=\\xea\\xf9\\xa9\\xbet\\xa7\\x07>`\\x04X<\\\\\\x17\\x8f\\xbd@\\x8d\\xe8\\xbcI\\xaf\\xab>\\xe4^\\x9b\\xbd\\x16\\xca\\'\\xbe\\n\\xe3D>H\\x8d\\xdc\\xbdA\\'\\t\\xbe\\xe8\\xc7\\x1c=7*\\t\\xbe\\x04\\x85z\\xbe\\x89\\xa5f\\xbe\\x1c\\x13\\x10>\\x88D\\xb2=\\xef\\x86\\xab>XV|\\xbd>n\\xdb\\xbdq\\xc5\\x1b\\xbe\\xde\\xee\\x07>U+\\x97>\\x10|\\x90\\xbcjpE>\\xa0\\x96]<\\x8e_#>\\xb6\\ri>\\xe2\\xc2\\x98\\xbe\\xd2\\x01z>0\\r\\xb6\\xbd \\xbf\\xf5<\\xd07M=~B\\x95\\xbe\\xe7\\xc8\\x92\\xbenW@>\\x9aj^\\xbe/x\\x8d>\\xc2\\x19\\xfe\\xbd\\xd0\\x1a\\xdd<(\\x0c\\x81=@\\xad\\xa3\\xbd\\xfa\\x8ak>IZB\\xbe\\xd0\\x85\\x10>\\xc0\\xb3J=\\x88\\x96\\x9b==\\x8eW\\xbe}\\x03\\x87\\xbe\\xf2Ls\\xbe\\xd0$\\xa3=F\\x99{>h\\xcf\\xa1\\xbe=\\x8eB\\xbe\\x86\\xb3\\xa9\\xbe\"vO>n\\x8b\\x94\\xbe,\\x1f\\xf0=\\x07R\\x99>\\xbf\\xee\\xa8>\\xcfR\\xb3>\\x08vn\\xbd\\x90\\x8e\\xa0\\xbd6\\x9aL>\\x02\\xec\\xb3\\xbe\\xe7\\xbf\\xae>\\x92i&>s\\x93\\x99>\\xb6[\\x01\\xbe\\x0eDd\\xbe7j!\\xbe\\x04\\x04K\\xbe\\xc0V\\xf4;\\xd0~\\x9f\\xbd6\\x1a->!I\\x9e\\xbe\\x96e0>\\x90\\\\\\x0b\\xbe\\x1a\\x04.>P*\\x05=\\x02\\x85\\xb0\\xbeV#V>\\xe0\\x9ak=\\xd7\\x01\\n\\xbe\\xc0\\x84J\\xbc&\\x0e\\xa1\\xbe$\\xc8\\xe9=\\x1bn\\xa9\\xbe\\xa0\\xdd\\xe9\\xbd\\x00\\x0e\\xef\\xbc\\xa8\\xb2h\\xbd\\x00\\xb0\\x86\\xbbu}]\\xbe\\xc2\\xf3k>\\xbc\\x8b\\x97\\xbe\\x00\\xa0\"8\\x84\\xbf\\x89\\xbe\\x0e\\xe6K>xK\\xb9=\\xdc\\x101\\xbe~\\x14i>\\xef\\xb1\\x94>\\xdf\\xb1\\x99>\\xe8\\xdaP\\xbd\\xac\\x00\\xea\\xbd@\\x97\\x1c<`\\xa3\\xd1\\xbd<Z\\xee\\xbd\\xb2\\x1dO>\\xf00\\x8e\\xbe\\xb1R\\x82>$$\\xe9=~\\x8fX\\xbe\\xf03J=l\\x7f\\xd0\\xbd\\x06\\xcb\\x9f\\xbe\\xfc\\xd8\\xe1=P\\x8bb=0V\\xd5=R\\x1b/>W\\x88\\x9d>(\\x8fz=X\\x11\\xb4=\\xab\\xc9]\\xbe\\xf5\\xa7\\x1c\\xbe\\xdc\\xa9\\x0f>\\xdcE\\xc1\\xbd\\xdd\\xee\\x93>AN\\x7f\\xbe\\x10\\x17\\x90\\xbd\\xae\\xf9@>\\x12\\xda\\x7f>r\\xefs>\\xe7\\x0c\\xad\\xbe\\xd2O<\\xbe\\xefP\\xa6>\\x06\\x88\\xb0\\xbe\\x90z@\\xbd\\xa6\\xea}\\xbe\\x14\\xe1\\xbf=\\xe5\\xa4\\x9d>|\\x82\\xc1=\\x17Y2\\xbe\\xe7\\xb3\\x1a\\xbe\\x82;\\x97\\xbe\\xc8\\xdd\\xa1=\\xfeF\\x10>\\x01X\\xaa>\\t\\xb8\\xaf\\xbeG\\x86\\x8a\\xbe\\xc8\\xc0\\x15\\xbd\\x89\\x16\\x9a>\\x17\\xc1\\x8c\\xbe\\xb2\\xe8*\\xbe\\xe0\\x9d\\x00\\xbef\\x828>\\xbdj\\x8d\\xbeV\\xa3?>\\x8d\\x97\\x8d>\\xcc\\xc0\\xde=XC\\x04>\\x8b\\x0fH\\xbe\\x82f\\x0b\\xbe\\xc0\\t\\xa0<\\xa1\\x9d\\xa2>\\xd01\\x96\\xbd\"\\xe4\\x95\\xbex\\x98\\\\=\\x83\\xe2\\xb4>n\\xff\\x12>C\\x81!\\xbe\\xceh)>\\xce\\xbah>C\\xd0\\x18\\xbe\\xf8Rc\\xbd\\x7f\\xde\\xa4\\xbe\\x92=f>\\x00\\xa9u<\\x00\\x92\\xee\\xba\\x86\\xe19>\\x16\\x8aR>\\x079\\x8e>@\\xcd\"\\xbc\\x1a-o>\\xd4 \\xe1\\xbdl\\x80%\\xbe\\xe9\\xec\\xa7\\xbe\\xd0\\xb1\\xc1\\xbdT9\\xd0=\\xab;\\xa1>\\xa21(\\xber97>\\x84L`\\xbea\\x1a\\xaf>\\xc0\\x93\\xa1\\xbd\\xff\\xad\\xa1\\xbeX\\xf5 \\xbe\\xca\\xb5\\x89\\xbe\\x1e\\x05q>\\xd9q\\x8a>\\r\\xaeC\\xbe\\xc2\\x8a\\x1d>n\\xf33>\\xca\\x19x>\\xb8\\x86K\\xbeu\\x9f\\xad>\\xcf\\xf9\\x0f\\xbef\\xb9p>\\xa8\\xa5\\xa9=\\xe8\\xf3\\xa5= \\xae\\xce<\\x98\\xec\\xbe=\\xe9\\x83\\xaf>\\x13\\xa0\\x8d>k\\xdd0\\xbeo\\'C\\xbe\\xe0\\xb1?<^\\xb26>\\x1fS\\x86\\xbe\\x82\\xfc\\x17>D\\x1a\\xd3\\xbd2\\xcb\\x7f>b\\xfb\\x1f>\\x94\\x87\\xb4\\xbd\\xb7X\\x8e>\\xc95\\x89>\\x00\\xcd\\xec<\\x02\\xf07>\\x05\\x08W\\xbe\\xd2\\xb2)>fj\\x95\\xbe\\xa9`\\xb2>\\x06\\x83\\x1e>h\\xccZ=\\x00@X=\\xc0\\x9c\\xf6\\xbd\\xc9tR\\xbejA\\x0e\\xbe\\xe4$\\xeb=\\x80\\x14\\xe2<Ikg\\xbe\\xc0\\x03\\xc0<\\xa9\\x9b\\xa9\\xbe\\x03\\xcf\\xb4> A$\\xbcT9\\x9e\\xbd\\x8a\\xce\\xb3\\xbez5[>`\\xd5{\\xbc&Nn>O+\\xa5>\\x16[N>\\xc8\\xcf\\xb1\\xbd\\x15l\\xb2\\xbe\\xe8B+=\\x98\\\\#\\xben\\x00m>\\r\\r\\xb2>\\xbcH\\xa5\\xbd\\xa0!\\xf6=v\\xbaZ>85E\\xbd\\xd4\\xd7\\x83\\xbej\\xb8.>2x4>O_Z\\xbev\\x17\\xae\\xbe^ q\\xbep\\xd4G=\\x17\\xc7\\\\\\xbel\\x1c\\xa3\\xbd\\t2\\x92\\xbeH\\xf1(\\xbe\\\\\\xdc\\xab\\xbex\\xce\\x84\\xbeD\\x1e\\xb7=\\x95Qt\\xbe\\xdb`\\xa8>`q\\x88\\xbe\\x02\\x992>\\rk\\xa8>\\xa7>\\x83>\\xe1\\xa8\\x8c>\\xe0\\xf6@\\xbeBcc>\\x00\\xbb\\xe1;\\xd0Y\\xce\\xbcR\\xd15>1a3\\xbe\\xf83\\xa5=T\\xb4\\xf2=\\xc8n\\xaa=\\xb5\\x92\\x8c\\xbe\\xe0v\\xf1\\xbd\\xc0\\xe2\\xcf=\\xd1\\x12\\x89>\\xed9\\xa0\\xbe>w\\x1f\\xbe_\\xc0\\xb2\\xbe \\x10d=\\x00 \\xb4:\\xec\\x16\\xc9= \\xcd\\x92\\xbc>\\xacH>\\xb0\\xca\\xab\\xbc\\x06Hv>\\xc3)\\x89>\\xfa\\x02K>\\xee\\xcd<>\\xcc\\xb2\\x11>RKD>H\\xf6$=\\xd4\\xaf\\x1b\\xbe@\\xa2\\xb6=D\\x92\\x8d=\\x16gA\\xbe(DR=\\xf1VP\\xbe\\x88\\x03\\xa3\\xbe,\\xad\\x8b\\xbe \\xa2G<\\xdc\\xea3\\xbewO\\x1f\\xbex\\xc6~\\xbe\\xe2WU>\\x00}\\xed=\\x10\\x839\\xbd\\xae\\xd7H>s\\x80\\xa9>jd0\\xbe@\\xf3B=@Us<\\xa4\\xa3\\xbf=\\xd4{\\xf4=\\x16\\x05x\\xbe\\nx\\x8e\\xbe\\xaa<V>>\"<>@\\x8b\\x1d\\xbc6[\\x1a>\\\\\\x1cr\\xbe\\x152n\\xbeGR\\x83>\\xda\\\\(\\xbe\\xb0}\\xf1=\\xaf\\x06\\x8b\\xbe\\xee$w>h`V=\\xa2\\x8a\\xa9\\xbe\\xd8\\xc0\\x85\\xbd\\x92\\x00\\x08>\\x8b\\x9e\\x83\\xbeo\\xfe\\xa0>X\\x01.=\\xf1\\x9f\\x99\\xbe\\r\\xa2&\\xbe\\xc7\\xe8\\xa7>\\xae\\xd1g\\xbeB\\xa5F>\\xd6VS>\\xb4\\x91\\x9d\\xbe\\xf4d\\xa8\\xbeP\\xfc\\x81\\xbd\\xa2\\x81:>9\\xc54\\xbe\\x8b\\xb7\\x9f\\xbe\\x8ae\\x86\\xbe\\x88+\\x83\\xbd\\xed\\x12&\\xbeK\\xf1\\x97>\\xcc\\xab\\x96=\\x80\\x0ck=\\x00\\xc5\\xf7\\xbb\\xc1Fc\\xbeB\\x8fo>L\\xd4\\xe9\\xbd\\x14\\x0b\\xd1\\xbdmj\\xa3>A\\x07\\n\\xbe.\\xdfI>\\xa1\\x08\\x8f\\xbe0t\\xd2\\xbd\\xe4\\xf61\\xbe\\x8dB!\\xbeo\\xc0\\xa4>6WK\\xbex\\xfb8\\xbe\\xee\\xb5\\x1f\\xbe\\x97X\\x9d>\\xe2Y2>\\xdc\\xe6\\xc7\\xbdE\\xda!\\xbe0w\\xc6<\\x80\\x92\\xcb\\xbb%H\\xa9\\xbe6\\x06\\x97\\xbe\\xb6& >\\x80\\xfa\\x14\\xbc\\xc0\\x96\\xbd=j\\x95*>\\xa0cX=8,\\xc9=\\x0f\\x9a[\\xbe\\xd05\\x0b=\\xa8\\xc4/\\xbd\\x13g\\x86\\xbe\\xf0\\x97\\xfa\\xbczi9>\\x12\\x92/>\\x0cB\\x9a\\xbe\\x00oy\\xbd@\\xa8\\x99\\xbbd\\x16\\x94\\xbe\\x80\\xef\\xa4\\xbb(g5\\xbd\\x86E]>\\xcbQv\\xbe!o\\xb0\\xbe\\x1c\\\\\\x85\\xbe<w\\x8e\\xbd)\\xcb\\x96>\\xdf\\x87\\xaf>\\xdf\\xea\\x8d>\\xf2\\xf7\\xff\\xff\\x04\\x00\\x00\\x00\\x00\\x08\\x00\\x00\\x1f\\xcb\\x93>\\xe2\\x8fY\\xbe\\xf0-L=\\xa5\\xcd\\x80>h\\x1a\\x8c=\\xa8i\\xa4\\xbe6\\x1b\\x91\\xbe\\xaeWg>\\xcf\\xd82\\xbe\\xff\\xfc\\x89>\\xc7\\x17\\xa4>\\x04\\x8d.\\xbe\\x90\\xca\\xa2\\xbe\\xa6\\xa2P\\xbe*\\xd5\\x1a>\\xf0\\x97\\xe5\\xbc\\x00\\x8c\\xdb:<C\\x1d\\xbe\\x85@W\\xbe[s\\x81\\xbe\\x10[g\\xbeg\\xdb\\x91>\\x80\\'\\xa4\\xbe~\\x01e\\xbeH\\xc7\\xcb=:\\\\3>\\x0c\\xd8\\xfb=\\xf0A\\xa0=\\xa8\\xa4P\\xbe\\xb6\\xf7%>\\x95\\x9d\\xad\\xbe\\x0c<+\\xbe\\x0053\\xbe\\xfe\\xc7h>\\xd0L\\xa0\\xbd\\x80\\x80\\x86\\xbb$\\xb1\\x11>\\xba\\x9dZ>`\\xe4\\x8e\\xbc\\xb9+\\x19\\xbe\\x07\\xe7\\x82>\\x98k|\\xbePFl\\xbe\\xb0c,\\xbd\\x15\\xa3\\x12\\xbe\\xc5\\xe8\\x95>\\xfdA^\\xbe\\x92.\\x11>4\\x82\\xc5\\xbd\\x9d\\xd8\\xaf>\\x8f:9\\xbe8\\x86 \\xbe\\x17f\\x13\\xbe\\x90\\xa9\\xe0<\\x16\\xd7\\x9d\\xbe\\xe62\\r\\xbeE\\xbe\\xa4>\\xe8\\x83D\\xbdp\\xb5#=\\xf6\\x84Y>\\x9e\\xff^>o\\x8e\\xae>\\r\\xc8\\x8e\\xbe\\x8d\\x16\\xa6\\xbe\\x04\\xb7\\xc8\\xbd=@\\x9c>\\x92\\xc5x\\xbe\\xdf\\x1d\\x87>@\\xd2\\x86<\\xb7\\xc9\\xac>\\x07f\\xa5\\xbe\\x08|\\xe3\\xbdx\\xc3\\x14\\xbe#\\xaf6\\xbe:\\xa3\\xa7\\xbe\\xc5!\\x92>\\x82\\xdaQ>6>V>GI\\xa8>\\xfb\\xb3\\x9c\\xbelD\\x9e\\xbd\\\\D\\x88\\xbd\\xfb)\\xad\\xbe\\xb3\\xe0\\xac>~\\xa5\\x19>\\x13\\xcc\\xa0>\\n\\xf8\\x18>\\xed6\\xae\\xbe\\x0b`\\xaf>\\xaa\\xf7\\x87\\xbe\\x1df\\x90> \\xd5\\xa3\\xbc\\x0bo\\xa3\\xbeI\\xff\\xa2>\\nF.\\xbex\\r$\\xbdTh\\xa7\\xbdm\\xca\\xae>\\x11\\xae\\x01\\xbe\\x00r,\\xbd\\xafr\\xa8\\xbe\\x14\\xf5\\x87=\\xc3\\x0f4\\xbe_\\xb0m\\xbe\\xf2kU>\\xee\\x96_>\\x9a\\x8e]\\xbe\\x02\\x0f8>\\xd8\\xaa\\xcc\\xbd;\\x13<\\xbe\\xd9\\xc8\\x1a\\xbe\\x00\\xd2\\x07;\\xae\\xc9\\x8f\\xbe,o\\x0f\\xbe\\x1a\\xc5h\\xbe&\\xb7\\x89\\xbeJA\\xd8\\xbd\\xc0\\xad\\x9d<p(\\xf1\\xbc`m\\xc2=\\x0fH\\x93\\xbex\\xd3a=-\\xdc\\x8f>\\xd4d\\xc9=\\xf0\\xfe\\xe8\\xbc\\x15}\\x86>/2\\x91>9\\x99\\x17\\xbe\\x93\\x03\\x9c>\\x00nU;\\xd3\\\\:\\xbe\\x80\\xcb|\\xbc7\\x96_\\xbe\\x9e\\xc3\\x18>\\xd4*\\x8b=\\xf6Ik\\xbeR\\x16\\x91\\xbe\\xd0I\\x07=@\\rq\\xbc\\xbae\\x1c>\\xa4.\\x99\\xbe\\x15\\x8f\\xaa>\\xf9\\xf7\\xa0\\xbea\\xf1\\x87>\\x902\\x82<\\xc2\\x9a\\x00>\\x18\\x95,\\xbd\\x00\\xf6\\x8a<\\xc0\\xd6\\xf0\\xbb\\x10\\x83\\xe6\\xbd\\x12~\\x85\\xbe\\xa2\\x04Y>Z\\x9a\\x13>KO\\x9c\\xbe\\x9b:\\xa6> \\xbd(<^\\'G>\\xf4C\\xb9\\xbdx\\xd8\\xd2=\\xa4U\\x88\\xbd\\xb0\\xe4\\x05>T\\x94\\xae=>b\\x9c\\xbe\\xf4\\x9a\\xa1\\xbd\\x99\\x1aT\\xbe\\x0c\\xcb\\x14>!\\x01\\xac>1\\xd5\\x93>\\x01z\\x9d>\\x13\\xaa\\x95>jS\\x14>\\x19\\x10\\x98>M\\xec\\x92\\xbe\\xcfV\\x9d>\\xd1\\xf7\\x89\\xbe\\x96s\\\\>\\xbf\\x11\\xa1>\\x904\\xd2\\xbc\\xde\\xee-\\xbe\\x10\\xaf{\\xbe,\\xd4!\\xbe\\xe9\\xd3\\xa8>\\x1e~\\x83\\xbeB\\x9dT\\xbe\\xa8l\\x87\\xbd\\xc1\\xfd\\x08\\xbe\\xd0\\x14q=M\\xd9\\x8d>k\\xa0!\\xbe\\xe3\\xea\\xb1>\\xd6\\xaa\\n>\\xee[f>a6l\\xbe\\x8c\\xc4\\xbe\\xbd\\x9d?\\x83>|\\x0e\\xaa=r\\xc2\\x95\\xbe\\xc0\\xa9\\xda\\xbc(R\\x13>\\x10\\xee\\xd1\\xbd^\\x11-\\xbe)\\t\\x93\\xbe\\x04\\x13\\xe0=\\xa80q\\xbd\\xd0\\x1ef\\xbe\\xf0|\\x8f\\xbc\\x88\\x0c\\x8a\\xbd\\xe0\\x15_\\xbe-\\xcf\\x0c\\xbe#a\\x95>\\x06Hf\\xbe\\x0c\\x15\\xae\\xbd\\xb1\\t\\x82>F6l>N\\xda\\x90\\xbe*`\\x18\\xbede\\xed=$\\xb4\\xa6\\xbd\\xc8\\xc7\\xdb\\xbd\\xa03\\xd5<\\x18C\\xa0=\\x8f\\x876\\xbep\\x9d\\x84\\xbd\\x9c\\x19\\x03\\xbe\\xebk\\x98\\xbeI\\xcb\\x88>\\x8e\\xdf^>\\x9d\\xfd\\x82>0\\x13\\xb5\\xbd0K\\x93\\xbc\\xc2iE>\\x9c3;\\xbe\\x98\\xd9\\x1c\\xbd\\xb1p\\xa9\\xbe\\x10\\xc5\\x8d\\xbebAO>j\\x88/>^\\x0fi>\\xf4\\xcc\\x84\\xbe%D\\x87\\xbe\\xa0\\xeb~\\xbc\\x02+e>\\xb1\\xd7\\x93>\\xfeo\\xb2\\xbe\\xdekL>F\\x08\\xaf\\xbe/]\\x9c>:qf>\\xca\\xe0!\\xbeN\\xad\\xdb\\xbd\\xd4l\\xbc\\xbd\\xa0# \\xbc\\x7fqI\\xbe|\\xc5\\xe3=\\x08: =\\xf8\\xcfI=\\xea\\x00\\x1a>\\x00\\xdf\\x89\\xbeT\\t\\xb0=%\\xcb\\'\\xbe1)\\x93\\xbe|\\x8f\\xd9=\\x8c\\x04\\x93\\xbd\\xb7\\xec\\xa6\\xbe#z\\x9f\\xbe\\xa6\\xdcA>\\xdeQp\\xbe\\xe0\\xfb\\x91\\xbd\\x86\\xe0\\x08>\\xf2\\xffm>\\x1fA\\x91>\\xa8.(=\\x11\\x9e\\xb0>\\xe8\\xf9\\x8d\\xbe\\x83>\\x84>\\xdc\\xa1\\x8c\\xbd}\\xfe\\xa5\\xbe\\xb2\\xd9%>KN\\xae>\\xf8\\x99\\xba=\\x90\\xdaV=\\x00\\xbc\\xad9\\xd0\\x1d.\\xbd\\xa6\\x14L\\xbeT\\x87\\xe2\\xbdLR\\xab=\\xba\\x1f\\xdc\\xbd\\xc8\\x9e\\x15\\xbe\\x16F\\x94\\xbe\\x11~\\x06\\xbe\\x04\\x8b\\xa8\\xbe\\xab\\xbf\\x87\\xbe \\x14}\\xbd\\xe9\\x08\\xb0>0\\xfc>=\\xb2\\x97I>Fwi\\xbe\\xf11\\x02\\xbe\\xee\\xe0F>\\xe8~3=\\xae\\xe5=\\xbe\\x90_\\x9e\\xbdm@\\x11\\xbe\\x03\\x9b\\xa2\\xbe\\x06\\x99U>\\t\\xc0\\x85>\\xd9\\xac\\x8c>0\\xbd\\xcd<\\x1a\\xc6\\x7f>\\xbc\\xffI\\xbe\\x82\\x8dt\\xbe\\xe8\\xd3g\\xbdR\\xc4\\x12>\\x9a[\\xad\\xbed\\x91\\x15\\xbe\\xce\\x01\\x11>c\\x87\\x14\\xbeK:\\x88>\\xbe8\\xa7\\xbe:A\\xad\\xbe}y\\xa0>\\x10M\\xd1=s\\x06\\x98>\\xef\\x1f\\x92>`\\xa7\\x8d\\xbeO\\x83\\x9a>\\xb8\\xd8\\x11>^\\x1f\\xd4\\xbd \\x8b%\\xbd\\xed\\x83\\x81\\xbeT\\x84\\xff\\xbdp\\x16\\x95\\xbdW@\\x90>\\x00Y\\xb8<\\xa8\\x80\\xab\\xbd\\n\\x19\\x0e>\\xd8\\xd3C\\xbd\\x9d\\xb4~\\xbe\\x8e\\x8d+>@\\x04\\xfb\\xbcZpY\\xbe\\x8as&>\\xf8;\\xfc=\\x04\\xbe\\xd1=\\x10e4\\xbd\\x80\\x01\\xb8\\xbcP\\x08.=\\x17\\x88\\x9b\\xbe\\xba\\x81\\x9b\\xbebm|>J\\xa7r>\\xd6\\x80j>\\xa8U\\r>\\x04\\xdf\\x96\\xbd\\x9e\\xa4D>E\\xff\\x9b\\xbe;!\\xa3>oJ\\xa0>\\x929j\\xbe\\xe95\\xb0\\xbe\\xf0\\xbd\\xee\\xbd\\x80\\xeb\\xb2;\\xee\\x9d5>2)^>\\x86\\x03\\x17>Y\\x98\\xab>k\"\\x8b>\\x96\\xa1n>\\xe0\\x86n\\xbc\\xa2>\\x9c\\xbe\\xd8\\xac\\t=\\xb9t\\'\\xbe\\xae\\x03\\x1e>\\x90\\xea\\x9a\\xbd\\xcf?\\xa6>\\xc0\\x10\\xa9<\\x80z\\t\\xbc\\xe0\\x16\\x06\\xbeO:\\xab>\\xe0\\x96\\xa5\\xbcF7\\x12>@\\x83\\xc4=W\\xa1\\x89>\\xa0\\x1bz\\xbd\\xa5[\\x8a>\\x9f\\xd4\\x92>\\x85\\xa5\\x9f>\\xc8\\xd6\\x83\\xbdz7\\x11>\\x9e;B>~\\xd7,>\\xa2y\\x9c\\xbeA\\xce\\x99>\\xd6S\\x1c>$?\\x9a\\xbe(X\\x11>\\x08\\x1d^\\xbd@\\x14\\xc2\\xbb^\\x13n>\\x81H\\x99>\\xdb\\xc5\\x89\\xbex\\xf3\\xcf=\\x93\\xb8l\\xbe%\\xed\\xa0\\xbe/(\\xb1>\\xa0w\\xe1=\\xacj\\xf6=J2p\\xbe\\x00W\\x10\\xbd\\xe2V>>\\xcb\\xd6\\xab\\xbe\\xf4\\x1a\\xe9\\xbd\\x14\\xdb\\xe2\\xbdFf\\x1e>|&\\xaf=~\\xfcY\\xbe\\x8aF\\xa5\\xbe\\xba\\xc4\\x07\\xbe\\xad\\xfeI\\xbe\\xbc\\xf2\\xd0\\xbd\\xe0\\xdb\\xe9\\xbc2\\xb8~>\\xf2_\\x8b\\xbeT\\xcc`\\xbev\\xe2m>\\x96B\\n>\\xc2\\x9d\\x1a>A\\xe4\\x88>\\x9f\\x85\\x88>\\xc8\\xa2\\\\\\xbe\\xaaw\\x83\\xbe\\nWK>\\xda\\x98\\x90\\xbe\\xd8\\x0e\\xa5\\xbe\\xca\\xd6\\xa7\\xbe\\xc8\\xb2\\xb3\\xbd\\xeaY\\xac\\xbe\\x17\\x13\\xa2><\\x87\\x90=M@\\x1c\\xbep\\x95,=!\\xf2\\x86>\\xf5A\\x18\\xbe\\xfc*\\x87\\xbde\\xbc\\x85>\\xeb\\xb7\\xac\\xbe\\xa0\\xa0\\xb2\\xbc\\xcfH\\x98>\\t\\x01\\xad\\xbe8\\x1c\\xb9=\\xa0\\xa2\\x85\\xbd\\x96lR>Y\\xb3Y\\xbe%\\xd6\\x99\\xbef\\xa3*\\xbe\\xa9X\\x96\\xbeeM\\t\\xbe`K\\xb3<\\xf2\\x86%>\\xe2\\x97|>CT\\x99>xa3\\xbd\\x98\\xb1{\\xbd\\x80s\\x94;\\xfe<\\'>\\xff[\\xa9\\xbe\\x00\\x88\\xf7\\xbaT\\x12\\x8d\\xbd\\xc5\\xe9\\xb4\\xbev\\xae;><[\\x9c\\xbd4H\\xb7=\\x1e\\xc1\\x19>\\x93\\x1dD\\xbe\\x88\\xf1#=\\xc9z\\x80\\xbe \\x14Y=T\\xffu\\xbe\\xc7\\x18\\x81\\xbe\\xc5!\\x84>\\x1a\\xb34>\\xb74\\xb0\\xbe\\xc0\\x00\\x0b<^sW\\xbe<\\xb8\\x90\\xbd\\xb0\\x12\\x83\\xbcxPv\\xbe q\\x1f\\xbd\\x9e\\xb3\\r\\xbeZ\\xa7]\\xbeE \\x81>l\\x8a\\x94\\xbe\\x8c\\x9f\\n>i\\xf0\\xa3\\xbe\\x9fr\\x1b\\xbe\\x8f\\x0e\\xa9>\\xd9\\xd7\\xa7>\\x80\\xeb\\xa2\\xbd\\xdd\\xd3\\x8d>D\\x0e\\x84\\xbe\\xfd\\xf9\\x8f>>H;> m{\\xbe@\\xcb\\xf1\\xbc`\\xc3\\x07\\xbc\\x0b\\xf1\\xa1>\\x07\\xb1+\\xbe\\\\\\xb4\\xab\\xbd\\xa7O\\xa1>\\xc9%\\x80>\\x18\\xda\\x00\\xbd \\xd7\\xb5\\xbc\\x00\\x00\\x06\\x00\\x08\\x00\\x04\\x00\\x06\\x00\\x00\\x00\\x04\\x00\\x00\\x00@\\x00\\x00\\x00R\\'\\x02?\\xcc,\\xb8>h\\x82\\xc3=\\x94\\xbf\\xc1\\xbe\\xfef\\xb0\\xbe\"\\xe7\\xba>\\x94_W>\\xd0\\x02\\x8d=,\\x8b?>\\xc4#\\xb6>\\xb1X\\xbc\\xbe@\\xc0[>\\xf8\\xec\\xb2=\\x9a-\\x14?\\xfc\\xa4s>\\xd0=\\xf3>\\x14\\xfc\\xff\\xff\\x18\\xfc\\xff\\xff\\x0f\\x00\\x00\\x00MLIR Converted.\\x00\\x01\\x00\\x00\\x00\\x14\\x00\\x00\\x00\\x00\\x00\\x0e\\x00\\x18\\x00\\x14\\x00\\x10\\x00\\x0c\\x00\\x08\\x00\\x04\\x00\\x0e\\x00\\x00\\x00\\x14\\x00\\x00\\x00\\x1c\\x00\\x00\\x00\\xd8\\x00\\x00\\x00\\xdc\\x00\\x00\\x00\\xe0\\x00\\x00\\x00\\x04\\x00\\x00\\x00main\\x00\\x00\\x00\\x00\\x03\\x00\\x00\\x00\\x80\\x00\\x00\\x008\\x00\\x00\\x00\\x04\\x00\\x00\\x00\\x9a\\xff\\xff\\xff\\x10\\x00\\x00\\x00\\x00\\x00\\x00\\x08\\x0c\\x00\\x00\\x00\\x10\\x00\\x00\\x00\\x90\\xfc\\xff\\xff\\x01\\x00\\x00\\x00\\x06\\x00\\x00\\x00\\x03\\x00\\x00\\x00\\x05\\x00\\x00\\x00\\x01\\x00\\x00\\x00\\xff\\xff\\xff\\xff\\xca\\xff\\xff\\xff\\x10\\x00\\x00\\x00\\x00\\x00\\x00\\x08\\x10\\x00\\x00\\x00\\x14\\x00\\x00\\x00\\xba\\xff\\xff\\xff\\x00\\x00\\x00\\x01\\x01\\x00\\x00\\x00\\x05\\x00\\x00\\x00\\x03\\x00\\x00\\x00\\x04\\x00\\x00\\x00\\x02\\x00\\x00\\x00\\xff\\xff\\xff\\xff\\x00\\x00\\x0e\\x00\\x16\\x00\\x00\\x00\\x10\\x00\\x0c\\x00\\x0b\\x00\\x04\\x00\\x0e\\x00\\x00\\x00\\x18\\x00\\x00\\x00\\x00\\x00\\x00\\x08\\x18\\x00\\x00\\x00\\x1c\\x00\\x00\\x00\\x00\\x00\\x06\\x00\\x08\\x00\\x07\\x00\\x06\\x00\\x00\\x00\\x00\\x00\\x00\\x01\\x01\\x00\\x00\\x00\\x04\\x00\\x00\\x00\\x03\\x00\\x00\\x00\\x00\\x00\\x00\\x00\\x03\\x00\\x00\\x00\\xff\\xff\\xff\\xff\\x01\\x00\\x00\\x00\\x06\\x00\\x00\\x00\\x01\\x00\\x00\\x00\\x00\\x00\\x00\\x00\\x07\\x00\\x00\\x00\\x98\\x02\\x00\\x00@\\x02\\x00\\x00\\xe8\\x01\\x00\\x00\\x98\\x01\\x00\\x00\\xfc\\x00\\x00\\x00`\\x00\\x00\\x00\\x04\\x00\\x00\\x00\\x9a\\xfd\\xff\\xff\\x00\\x00\\x00\\x01\\x14\\x00\\x00\\x00\\x1c\\x00\\x00\\x00\\x1c\\x00\\x00\\x00\\x07\\x00\\x00\\x004\\x00\\x00\\x00\\x02\\x00\\x00\\x00\\xff\\xff\\xff\\xff\\x01\\x00\\x00\\x00\\x84\\xfd\\xff\\xff\\x1b\\x00\\x00\\x00StatefulPartitionedCall_1:0\\x00\\x02\\x00\\x00\\x00\\x01\\x00\\x00\\x00\\x01\\x00\\x00\\x00\\xf2\\xfd\\xff\\xff\\x00\\x00\\x00\\x01\\x14\\x00\\x00\\x00\\x1c\\x00\\x00\\x00\\x1c\\x00\\x00\\x00\\x06\\x00\\x00\\x00t\\x00\\x00\\x00\\x02\\x00\\x00\\x00\\xff\\xff\\xff\\xff\\x10\\x00\\x00\\x00\\xdc\\xfd\\xff\\xffZ\\x00\\x00\\x00sequential_1_1/dense_4_1/MatMul;sequential_1_1/dense_4_1/Relu;sequential_1_1/dense_4_1/Add\\x00\\x00\\x02\\x00\\x00\\x00\\x01\\x00\\x00\\x00\\x10\\x00\\x00\\x00\\x8a\\xfe\\xff\\xff\\x00\\x00\\x00\\x01\\x14\\x00\\x00\\x00\\x1c\\x00\\x00\\x00\\x1c\\x00\\x00\\x00\\x05\\x00\\x00\\x00t\\x00\\x00\\x00\\x02\\x00\\x00\\x00\\xff\\xff\\xff\\xff \\x00\\x00\\x00t\\xfe\\xff\\xffZ\\x00\\x00\\x00sequential_1_1/dense_3_1/MatMul;sequential_1_1/dense_3_1/Relu;sequential_1_1/dense_3_1/Add\\x00\\x00\\x02\\x00\\x00\\x00\\x01\\x00\\x00\\x00 \\x00\\x00\\x00v\\xff\\xff\\xff\\x00\\x00\\x00\\x01\\x10\\x00\\x00\\x00\\x10\\x00\\x00\\x00\\x04\\x00\\x00\\x00,\\x00\\x00\\x00\\xfc\\xfe\\xff\\xff\\x1f\\x00\\x00\\x00sequential_1_1/dense_3_1/MatMul\\x00\\x02\\x00\\x00\\x00 \\x00\\x00\\x00\\x10\\x00\\x00\\x00\\xc2\\xff\\xff\\xff\\x00\\x00\\x00\\x01\\x10\\x00\\x00\\x00\\x10\\x00\\x00\\x00\\x03\\x00\\x00\\x00\\x1c\\x00\\x00\\x00H\\xff\\xff\\xff\\x0f\\x00\\x00\\x00arith.constant1\\x00\\x02\\x00\\x00\\x00\\x10\\x00\\x00\\x00 \\x00\\x00\\x00\\x00\\x00\\x16\\x00\\x18\\x00\\x14\\x00\\x00\\x00\\x10\\x00\\x0c\\x00\\x08\\x00\\x00\\x00\\x00\\x00\\x00\\x00\\x07\\x00\\x16\\x00\\x00\\x00\\x00\\x00\\x00\\x01\\x10\\x00\\x00\\x00\\x10\\x00\\x00\\x00\\x02\\x00\\x00\\x00\\x1c\\x00\\x00\\x00\\x9c\\xff\\xff\\xff\\x0e\\x00\\x00\\x00arith.constant\\x00\\x00\\x02\\x00\\x00\\x00\\x01\\x00\\x00\\x00\\x10\\x00\\x00\\x00\\x00\\x00\\x16\\x00\\x1c\\x00\\x18\\x00\\x00\\x00\\x14\\x00\\x10\\x00\\x0c\\x00\\x00\\x00\\x00\\x00\\x08\\x00\\x07\\x00\\x16\\x00\\x00\\x00\\x00\\x00\\x00\\x01\\x14\\x00\\x00\\x00 \\x00\\x00\\x00 \\x00\\x00\\x00\\x01\\x00\\x00\\x00@\\x00\\x00\\x00\\x02\\x00\\x00\\x00\\xff\\xff\\xff\\xff\\x10\\x00\\x00\\x00\\x04\\x00\\x04\\x00\\x04\\x00\\x00\\x00 \\x00\\x00\\x00serving_default_keras_tensor_4:0\\x00\\x00\\x00\\x00\\x02\\x00\\x00\\x00\\x01\\x00\\x00\\x00\\x10\\x00\\x00\\x00\\x01\\x00\\x00\\x00\\x10\\x00\\x00\\x00\\x0c\\x00\\x0c\\x00\\x0b\\x00\\x00\\x00\\x00\\x00\\x04\\x00\\x0c\\x00\\x00\\x00\\t\\x00\\x00\\x00\\x00\\x00\\x00\\t'\n",
      "./MLP/models/Primeiro_float32.tflite: 5760 Bytes\n",
      "INFO:tensorflow:Assets written to: ./MLP/temp/Primeiro_int8/assets\n"
     ]
    },
    {
     "name": "stderr",
     "output_type": "stream",
     "text": [
      "W0000 00:00:1730392111.517996    5163 tf_tfl_flatbuffer_helpers.cc:390] Ignored output_format.\n",
      "W0000 00:00:1730392111.518005    5163 tf_tfl_flatbuffer_helpers.cc:393] Ignored drop_control_dependency.\n",
      "2024-10-31 13:28:31.518105: I tensorflow/cc/saved_model/reader.cc:83] Reading SavedModel from: ./MLP/temp/Primeiro_float32\n",
      "2024-10-31 13:28:31.518401: I tensorflow/cc/saved_model/reader.cc:51] Reading meta graph with tags { serve }\n",
      "2024-10-31 13:28:31.518407: I tensorflow/cc/saved_model/reader.cc:146] Reading SavedModel debug info (if present) from: ./MLP/temp/Primeiro_float32\n",
      "2024-10-31 13:28:31.521635: I tensorflow/cc/saved_model/loader.cc:234] Restoring SavedModel bundle.\n",
      "2024-10-31 13:28:31.534768: I tensorflow/cc/saved_model/loader.cc:218] Running initialization op on SavedModel bundle at path: ./MLP/temp/Primeiro_float32\n",
      "2024-10-31 13:28:31.539055: I tensorflow/cc/saved_model/loader.cc:317] SavedModel load for tags { serve }; Status: success: OK. Took 20950 microseconds.\n",
      "INFO:tensorflow:Assets written to: ./MLP/temp/Primeiro_int8/assets\n"
     ]
    },
    {
     "name": "stdout",
     "output_type": "stream",
     "text": [
      "Saved artifact at './MLP/temp/Primeiro_int8'. The following endpoints are available:\n",
      "\n",
      "* Endpoint 'serve'\n",
      "  args_0 (POSITIONAL_ONLY): TensorSpec(shape=(None, 16), dtype=tf.float32, name='keras_tensor_4')\n",
      "Output Type:\n",
      "  TensorSpec(shape=(None, 1), dtype=tf.float32, name=None)\n",
      "Captures:\n",
      "  133792861194576: TensorSpec(shape=(), dtype=tf.resource, name=None)\n",
      "  133792861193616: TensorSpec(shape=(), dtype=tf.resource, name=None)\n",
      "  133792861192464: TensorSpec(shape=(), dtype=tf.resource, name=None)\n",
      "  133792861195344: TensorSpec(shape=(), dtype=tf.resource, name=None)\n",
      "  133792861193424: TensorSpec(shape=(), dtype=tf.resource, name=None)\n",
      "  133792861197840: TensorSpec(shape=(), dtype=tf.resource, name=None)\n"
     ]
    },
    {
     "name": "stderr",
     "output_type": "stream",
     "text": [
      "W0000 00:00:1730392111.668295    5163 tf_tfl_flatbuffer_helpers.cc:390] Ignored output_format.\n",
      "W0000 00:00:1730392111.668316    5163 tf_tfl_flatbuffer_helpers.cc:393] Ignored drop_control_dependency.\n",
      "2024-10-31 13:28:31.668434: I tensorflow/cc/saved_model/reader.cc:83] Reading SavedModel from: ./MLP/temp/Primeiro_int8\n",
      "2024-10-31 13:28:31.668713: I tensorflow/cc/saved_model/reader.cc:51] Reading meta graph with tags { serve }\n",
      "2024-10-31 13:28:31.668720: I tensorflow/cc/saved_model/reader.cc:146] Reading SavedModel debug info (if present) from: ./MLP/temp/Primeiro_int8\n",
      "2024-10-31 13:28:31.672061: I tensorflow/cc/saved_model/loader.cc:234] Restoring SavedModel bundle.\n",
      "2024-10-31 13:28:31.685592: I tensorflow/cc/saved_model/loader.cc:218] Running initialization op on SavedModel bundle at path: ./MLP/temp/Primeiro_int8\n",
      "2024-10-31 13:28:31.689765: I tensorflow/cc/saved_model/loader.cc:317] SavedModel load for tags { serve }; Status: success: OK. Took 21335 microseconds.\n"
     ]
    },
    {
     "name": "stdout",
     "output_type": "stream",
     "text": [
      "b' \\x00\\x00\\x00TFL3\\x00\\x00\\x00\\x00\\x14\\x00 \\x00\\x1c\\x00\\x18\\x00\\x14\\x00\\x10\\x00\\x0c\\x00\\x00\\x00\\x08\\x00\\x04\\x00\\x14\\x00\\x00\\x00\\x1c\\x00\\x00\\x00\\x8c\\x00\\x00\\x00\\x0c\\x01\\x00\\x004\\x06\\x00\\x00D\\x06\\x00\\x00t\\x0c\\x00\\x00\\x03\\x00\\x00\\x00\\x01\\x00\\x00\\x00\\x04\\x00\\x00\\x00z\\xf9\\xff\\xff\\x0c\\x00\\x00\\x00\\x1c\\x00\\x00\\x00<\\x00\\x00\\x00\\x0f\\x00\\x00\\x00serving_default\\x00\\x01\\x00\\x00\\x00\\x04\\x00\\x00\\x00h\\xff\\xff\\xff\\x08\\x00\\x00\\x00\\x04\\x00\\x00\\x00\\x08\\x00\\x00\\x00output_0\\x00\\x00\\x00\\x00\\x01\\x00\\x00\\x00\\x04\\x00\\x00\\x00^\\xfa\\xff\\xff\\x04\\x00\\x00\\x00\\x0e\\x00\\x00\\x00keras_tensor_4\\x00\\x00\\x03\\x00\\x00\\x00\\\\\\x00\\x00\\x00,\\x00\\x00\\x00\\x04\\x00\\x00\\x00\\xb8\\xff\\xff\\xff\\x0c\\x00\\x00\\x00\\x04\\x00\\x00\\x00\\x13\\x00\\x00\\x00CONVERSION_METADATA\\x00\\xdc\\xff\\xff\\xff\\x0b\\x00\\x00\\x00\\x04\\x00\\x00\\x00\\x13\\x00\\x00\\x00min_runtime_version\\x00\\x08\\x00\\x0c\\x00\\x08\\x00\\x04\\x00\\x08\\x00\\x00\\x00\\n\\x00\\x00\\x00\\x04\\x00\\x00\\x00\\x13\\x00\\x00\\x00min_runtime_version\\x00\\r\\x00\\x00\\x00$\\x05\\x00\\x00\\x1c\\x05\\x00\\x00\\xfc\\x04\\x00\\x00\\xe4\\x02\\x00\\x00\\xd4\\x00\\x00\\x00\\xcc\\x00\\x00\\x00\\xc4\\x00\\x00\\x00\\xbc\\x00\\x00\\x00\\xb4\\x00\\x00\\x00\\xac\\x00\\x00\\x00\\x8c\\x00\\x00\\x00l\\x00\\x00\\x00\\x04\\x00\\x00\\x006\\xfb\\xff\\xff\\x04\\x00\\x00\\x00X\\x00\\x00\\x00\\x0c\\x00\\x00\\x00\\x08\\x00\\x0e\\x00\\x08\\x00\\x04\\x00\\x08\\x00\\x00\\x00\\x10\\x00\\x00\\x00(\\x00\\x00\\x00\\x00\\x00\\x06\\x00\\x08\\x00\\x04\\x00\\x06\\x00\\x00\\x00\\x04\\x00\\x00\\x00\\x01\\x00\\x00\\x00\\xeb\\x03\\x00\\x00\\x00\\x00\\n\\x00\\x10\\x00\\x0c\\x00\\x08\\x00\\x04\\x00\\n\\x00\\x00\\x00\\x01\\x00\\x00\\x00\\x02\\x00\\x00\\x00\\x04\\x00\\x00\\x00\\x06\\x00\\x00\\x002.16.1\\x00\\x00\\x9a\\xfb\\xff\\xff\\x04\\x00\\x00\\x00\\x10\\x00\\x00\\x00\\x00\\x00\\x00\\x00\\x00\\x00\\x00\\x00\\x00\\x00\\x00\\x00\\x00\\x00\\x00\\x00\\xb6\\xfb\\xff\\xff\\x04\\x00\\x00\\x00\\x10\\x00\\x00\\x001.14.0\\x00\\x00\\x00\\x00\\x00\\x00\\x00\\x00\\x00\\x00\\x9c\\xf5\\xff\\xff\\xa0\\xf5\\xff\\xff\\xa4\\xf5\\xff\\xff\\xa8\\xf5\\xff\\xff\\xac\\xf5\\xff\\xff\\xe6\\xfb\\xff\\xff\\x04\\x00\\x00\\x00\\x00\\x02\\x00\\x00\\x10hqj|\\x11\\\\\\xbf\\xbf\\xdf\\xfd\\xda\\xed\\'I\\xda\\xd6\\x95\\x84s\\x89T ]|\\x89y\\xb2\\x08\\x82\\x95\\xa8\\xeab\\xa7\\xee\\x18\\xed\\xf5\\x93\\t\\xb4\\t@r\\xc0\\n\\xb4\\xb5\\xef8\\xf3\\x87\\x8f\\x1e=;k\\x08E\\xb7\\xac\\xa4\\x93\\x8es\\x9f\\xf4_x\\xbd\\n\\xfa\\x9f\\x05\\x04\\xa5\\xfb\\xd2\\x8f[j\\x87\\x96\\x95\\xdf\\xf4H$\\x890\\x05\\xe7\\xf6y\\xe5\\xc5E\\xd9\\xd0\\x0e\\xd0\\xa8\\xaf3\\x1fx\\xea\\xd9\\xc90j\\xfaE\\x059R\\x95X\\xe0\\x0b\\x12\\x97\\x99D\\xb2c\\xd3\\n\\x17\\xe3S\\xbc3\\x12\\x1b\\xb4\\xa1\\xab\\x1dX\\x8e\\xbc\\x89I\\x98*lw~\\xeb\\xe4H\\x82{:l\\xd3\\xb0\\xc7\\xb9\\x03\\xe4=\\x91>\\xcf=\\x0c\\x84K\\x15\\xd0\\xfc\\x8f)\\x89\\xd7\\xf6\\xec\\xff\\xb2S\\x96\\x00\\x9fH!\\xc2Rhl\\xee\\xd7\\x03\\xdb\\xd6I\\x9c\\\\)\\xb4\\x12\\xdb\\x90(\\x14%=o\\x16 \\xb2\\xc92\\xdeh\\xa6\\xe7DZV\\x87\\xbeu\\x84\\xef\\xa7\"o\"\\xc1\\xca\\x96\\x1c3x\\x85\\x9f\\xf3l\\x9d\\xc4\\xd3A\\x9dCc\\'.\\xba\\xcf\\x07r\\xe6\\x97\\x13\\x7f4\\xc7;R\\xca\\xec\\x8cQ\\x05\\xffAJd\\xfcT\\xd8\\xc6\\x8a\\xde%q\\xc5@\\xb1{\\xe4\\x8e\\xc7\\x9fUa\\xbb7?W\\xb9z\\xcdU\\x1e\\x1d\\t\"{c\\xc2\\xbb\\x04@\\xa25\\xdbZ8\\xe0d`\\nA\\xb5<\\x97}8\\x13\\x13\\xd5\\xb6\\xce)\\n\\xaf\\x08\\x89\\x7f\\xfc\\xe4\\x82M\\xfaTtH\\xe1\\x83\\x0f\\xc7S}\\xe3+M\\xef\\xa3=?\\xb3\\x86\\xab\\x12\\xb2\\xe3\\x99\\xc5\\x87\\xa3 \\xaav\\xa0?v\\\\c\\xbcP\\x02\\xf7@\\xc1\\x1d+\\x1e\\x9d\\xd6$`\\x90\\xc8\\x82\\x14\\x00#\\xfaF\\xf8V`GB3E\\x0e\\xc9 \\x19\\xbc\\x12\\xb7\\x8e\\x9e\\x04\\xc1\\xc8\\xa7K*\\xf0Gw\\xc2\\x11\\x05\"+\\xa9\\x9cKB\\xfd6\\xab\\xac\\\\\\xc5*\\x9eW\\x13\\x89\\xe90\\xa4q\\x0f\\x94\\xc6v\\xafFJ\\x91\\x8a\\xe9A\\xc1\\x90\\xa2\\xe9\\xc6k\\x1a\\x15\\xfd\\xb0T\\xd7\\xdbs\\xd0G\\x9c\\xdb\\xc2\\xc7t\\xb9\\xbf\\xc8n?\\xdd\\xc7\\t\\xfe\\x89\\x968\\xfd!<\\x13#\\xb3\\x0c\\xf1\\xa2\\xf5A>\\x94\\xea\\xfe\\x98\\xfe\\xf0N\\xaa\\x84\\xa2\\xe7j{d\\xf2\\xfd\\xff\\xff\\x04\\x00\\x00\\x00\\x00\\x02\\x00\\x00h\\xb4\\x12Z\\x19\\x8d\\x9aQ\\xc1as\\xc3\\x8e\\xb76\\xf6\\x01\\xc9\\xb4\\xa5\\xaff\\x8d\\xb0$?,\\x1c\\xb7:\\x86\\xc4\\xc1R\\xe4\\xff3M\\xfa\\xca\\\\\\xa7\\xad\\xf1\\xcdi\\xb23\\xdd{\\xbf\\xc8\\xcc\\n\\x91\\xcet\\xef\\x0eLN{\\x9c\\x8b\\xddn\\xa9_\\x06y\\x8c\\xd8\\xcc\\xc0\\x8agJKv\\x92\\xe4\\xe8\\x86y6q6\\x86{\\xa1e\\xf9\\x8dr\\xc3\\xf2\\xe3{\\xd2\\xf1\\x8a\\x18\\xc1\\xadKN\\xb2A\\xdc\\xbe\\xca\\x01\\x9b\\xce\\xae\\x9f\\xda\\x07\\xf5\"\\x99\\x14e#\\xf6^f\\xcbn\\x01\\xbf\\xfa\\xb26\\x18\\xad\\x9a\\x0c\\xfb7\\x94x\\x8f_\\x06-\\xf1\\x06\\xfd\\xd8\\xa2L4\\x92u\\x04F\\xdf%\\xe8/\\x1f\\x92\\xe4\\xb64yhoi4k\\x99n\\x9fMq\\xf7\\xc3\\xa8\\xc7w\\xa4\\xb5\\xe8\\xd0\\x15d\\xc7}1Q\\xad\\xdf\\\\\\x1e\\x97\\xf64\\xdb\\xc3\\x99\\'\\xeb\\xaf\\xfa\\xe8\\xb2\\xcfi\\xaf\\xe1[S\\x9a\\xcb*\\xe3\\xd9\\t\\x1c\\xc0\\xe9\\xd2\\x95`N\\\\\\xe0\\xfaE\\xbe\\xf2\\x89\\x9cI>R\\xa3\\xa1\\xfaPh\\x83H\\x85nQ\\xc7\\xd9\\xdf\\xfc\\xb9(\\x0e\\x126\\x9f\\x1f\\xc5\\x99&\\xe6\\x8b\\x90D\\xac\\xe60Tf\\x0f|\\x9c]\\xe7\\x8b:z!\\x13\\x00\\xf1\\xb8\\xd8\\x1e\\xd9\\xcb\\x98\\xd1\\x8a\\xa1\\xea|\\x11G\\xae\\xd2F\\x10\\xbd\\xe4\\xcd\\x8eK^c\\tZ\\xb9\\xaa\\xec4\\x86\\xcc3\\xcc`\\x8b\\x86q%kg\\x9dl3\\xdb\\xf1\\xa5\\xd3\\xe6e\\x08\\xe22\\xef\\xa7<\\xf5\\xb4:,%\\xf0\\xf8\\x0f\\x93\\x93YUR2\\xe6E\\x92sq\\xae\\x84\\xd6\\x02@N5xbT\\xfb\\x92\\x0c\\xc57\\xe5u\\x07\\xfd\\xd1x\\xf93\"a\\xeaagp\\xe93D=\\x92l7\\x943\\xed\\xfeTl\\x9f$\\xad\\x8f|(+\\xac\\xf3C\\x87\\xd7\\xd88\\x1f\\xb3\\x8c\\xd0\\xb9\\xdb\\xf6Y\\x9e\\xb1S16``\\xb3\\xa4G\\x9a\\x8c\\x8a\\xe0\\x87r\\x19\\xc9\\x0f_\\xcb\\xe8^\\x87\\xf8k\\x87 \\xe9J\\xb4\\x94\\xc4\\x96\\xd0\\x08:Yl\\xf0\\xea\\x02;\\x89\\xff\\xe7\\x81B\\xe5 6\\xbb\\x0e\\xa6\\x13\\xaa\\xa5]?\\x84\\x03\\xb4\\xe7\\xfa\\xaa\\xf2\\xce\\xb2[\\x981\\x8d\\xc9wv\\xe3d\\xa3eB\\xa8\\xf5\\xfdr\\xc4\\xe2qZ\\xf5\\xf8\\x00\\x00\\x06\\x00\\x08\\x00\\x04\\x00\\x06\\x00\\x00\\x00\\x04\\x00\\x00\\x00\\x10\\x00\\x00\\x00pO\\x15\\xad\\xb4P.\\x0f)N\\xaf/\\x13\\x7f4h\\xec\\xf9\\xff\\xff\\xf0\\xf9\\xff\\xff\\x0f\\x00\\x00\\x00MLIR Converted.\\x00\\x01\\x00\\x00\\x00\\x14\\x00\\x00\\x00\\x00\\x00\\x0e\\x00\\x18\\x00\\x14\\x00\\x10\\x00\\x0c\\x00\\x08\\x00\\x04\\x00\\x0e\\x00\\x00\\x00\\x14\\x00\\x00\\x00\\x1c\\x00\\x00\\x00@\\x01\\x00\\x00D\\x01\\x00\\x00H\\x01\\x00\\x00\\x04\\x00\\x00\\x00main\\x00\\x00\\x00\\x00\\x05\\x00\\x00\\x00\\x08\\x01\\x00\\x00\\xb8\\x00\\x00\\x00l\\x00\\x00\\x004\\x00\\x00\\x00\\x10\\x00\\x00\\x00\\x00\\x00\\n\\x00\\x10\\x00\\x0c\\x00\\x08\\x00\\x04\\x00\\n\\x00\\x00\\x00\\x0c\\x00\\x00\\x00\\x10\\x00\\x00\\x00\\x02\\x00\\x00\\x00\\x01\\x00\\x00\\x00\\x08\\x00\\x00\\x00\\x01\\x00\\x00\\x00\\x07\\x00\\x00\\x00\\x92\\xff\\xff\\xff\\x14\\x00\\x00\\x00\\x00\\x00\\x00\\x08\\x10\\x00\\x00\\x00\\x14\\x00\\x00\\x00\\x01\\x00\\x00\\x00\\xa0\\xfa\\xff\\xff\\x01\\x00\\x00\\x00\\x07\\x00\\x00\\x00\\x03\\x00\\x00\\x00\\x06\\x00\\x00\\x00\\x01\\x00\\x00\\x00\\xff\\xff\\xff\\xff\\xc6\\xff\\xff\\xff\\x14\\x00\\x00\\x00\\x00\\x00\\x00\\x08\\x14\\x00\\x00\\x00\\x18\\x00\\x00\\x00\\x01\\x00\\x00\\x00\\xb6\\xff\\xff\\xff\\x00\\x00\\x00\\x01\\x01\\x00\\x00\\x00\\x06\\x00\\x00\\x00\\x03\\x00\\x00\\x00\\x05\\x00\\x00\\x00\\x02\\x00\\x00\\x00\\xff\\xff\\xff\\xff\\x00\\x00\\x0e\\x00\\x1a\\x00\\x14\\x00\\x10\\x00\\x0c\\x00\\x0b\\x00\\x04\\x00\\x0e\\x00\\x00\\x00\\x1c\\x00\\x00\\x00\\x00\\x00\\x00\\x08\\x1c\\x00\\x00\\x00 \\x00\\x00\\x00\\x01\\x00\\x00\\x00\\x00\\x00\\x06\\x00\\x08\\x00\\x07\\x00\\x06\\x00\\x00\\x00\\x00\\x00\\x00\\x01\\x01\\x00\\x00\\x00\\x05\\x00\\x00\\x00\\x03\\x00\\x00\\x00\\x04\\x00\\x00\\x00\\x03\\x00\\x00\\x00\\xff\\xff\\xff\\xff\\x00\\x00\\n\\x00\\x0c\\x00\\x00\\x00\\x08\\x00\\x04\\x00\\n\\x00\\x00\\x00\\x08\\x00\\x00\\x00\\x0c\\x00\\x00\\x00\\x01\\x00\\x00\\x00\\x04\\x00\\x00\\x00\\x01\\x00\\x00\\x00\\x00\\x00\\x00\\x00\\x01\\x00\\x00\\x00\\x08\\x00\\x00\\x00\\x01\\x00\\x00\\x00\\x00\\x00\\x00\\x00\\t\\x00\\x00\\x00X\\x04\\x00\\x00\\xcc\\x03\\x00\\x00L\\x03\\x00\\x00\\xe8\\x02\\x00\\x00t\\x02\\x00\\x00\\xa0\\x01\\x00\\x00\\xe4\\x00\\x00\\x00`\\x00\\x00\\x00\\x04\\x00\\x00\\x00\\xe2\\xfb\\xff\\xff\\x00\\x00\\x00\\x01\\x14\\x00\\x00\\x00\\x1c\\x00\\x00\\x00\\x1c\\x00\\x00\\x00\\t\\x00\\x00\\x004\\x00\\x00\\x00\\x02\\x00\\x00\\x00\\xff\\xff\\xff\\xff\\x01\\x00\\x00\\x00\\xcc\\xfb\\xff\\xff\\x1b\\x00\\x00\\x00StatefulPartitionedCall_1:0\\x00\\x02\\x00\\x00\\x00\\x01\\x00\\x00\\x00\\x01\\x00\\x00\\x00\\x0e\\xfe\\xff\\xff\\x00\\x00\\x00\\x01\\x18\\x00\\x00\\x00 \\x00\\x00\\x00@\\x00\\x00\\x00\\x08\\x00\\x00\\x00\\x00\\x00\\x00\\tX\\x00\\x00\\x00\\x02\\x00\\x00\\x00\\xff\\xff\\xff\\xff\\x01\\x00\\x00\\x00\\xbc\\xfc\\xff\\xff\\x08\\x00\\x00\\x00\\x14\\x00\\x00\\x00\\x01\\x00\\x00\\x00\\x83\\xff\\xff\\xff\\xff\\xff\\xff\\xff\\x00\\x00\\x00\\x00\\x01\\x00\\x00\\x00\\x8ez\\x18A\\x1c\\x00\\x00\\x00StatefulPartitionedCall_1:01\\x00\\x00\\x00\\x00\\x02\\x00\\x00\\x00\\x01\\x00\\x00\\x00\\x01\\x00\\x00\\x00\\x8e\\xfe\\xff\\xff\\x00\\x00\\x00\\x01\\x18\\x00\\x00\\x00 \\x00\\x00\\x00<\\x00\\x00\\x00\\x07\\x00\\x00\\x00\\x00\\x00\\x00\\t\\x90\\x00\\x00\\x00\\x02\\x00\\x00\\x00\\xff\\xff\\xff\\xff\\x10\\x00\\x00\\x00<\\xfd\\xff\\xff\\x08\\x00\\x00\\x00\\x10\\x00\\x00\\x00\\x01\\x00\\x00\\x00\\x80\\xff\\xff\\xff\\xff\\xff\\xff\\xff\\x01\\x00\\x00\\x00V\\xfe\\xb9AZ\\x00\\x00\\x00sequential_1_1/dense_4_1/MatMul;sequential_1_1/dense_4_1/Relu;sequential_1_1/dense_4_1/Add\\x00\\x00\\x02\\x00\\x00\\x00\\x01\\x00\\x00\\x00\\x10\\x00\\x00\\x00F\\xff\\xff\\xff\\x00\\x00\\x00\\x01\\x18\\x00\\x00\\x00 \\x00\\x00\\x00<\\x00\\x00\\x00\\x06\\x00\\x00\\x00\\x00\\x00\\x00\\t\\x90\\x00\\x00\\x00\\x02\\x00\\x00\\x00\\xff\\xff\\xff\\xff \\x00\\x00\\x00\\xf4\\xfd\\xff\\xff\\x08\\x00\\x00\\x00\\x10\\x00\\x00\\x00\\x01\\x00\\x00\\x00\\x80\\xff\\xff\\xff\\xff\\xff\\xff\\xff\\x01\\x00\\x00\\x00\\x88:\\xf8AZ\\x00\\x00\\x00sequential_1_1/dense_3_1/MatMul;sequential_1_1/dense_3_1/Relu;sequential_1_1/dense_3_1/Add\\x00\\x00\\x02\\x00\\x00\\x00\\x01\\x00\\x00\\x00 \\x00\\x00\\x00\\x00\\x00\\x16\\x00 \\x00\\x1c\\x00\\x1b\\x00\\x14\\x00\\x10\\x00\\x0c\\x00\\x00\\x00\\x00\\x00\\x08\\x00\\x07\\x00\\x16\\x00\\x00\\x00\\x00\\x00\\x00\\x01\\x18\\x00\\x00\\x00 \\x00\\x00\\x00@\\x00\\x00\\x00\\x05\\x00\\x00\\x00\\x00\\x00\\x00\\tH\\x00\\x00\\x00\\x02\\x00\\x00\\x00\\xff\\xff\\xff\\xff\\x10\\x00\\x00\\x00\\xc4\\xfe\\xff\\xff\\x08\\x00\\x00\\x00\\x14\\x00\\x00\\x00\\x01\\x00\\x00\\x00\\x81\\xff\\xff\\xff\\xff\\xff\\xff\\xff\\x00\\x00\\x00\\x00\\x01\\x00\\x00\\x00@\\xd1\\xaaB\\x0c\\x00\\x00\\x00tfl.quantize\\x00\\x00\\x00\\x00\\x02\\x00\\x00\\x00\\x01\\x00\\x00\\x00\\x10\\x00\\x00\\x00:\\xff\\xff\\xff\\x00\\x00\\x00\\x01\\x14\\x00\\x00\\x000\\x00\\x00\\x00\\x04\\x00\\x00\\x00\\x00\\x00\\x00\\t<\\x00\\x00\\x00$\\xff\\xff\\xff\\x08\\x00\\x00\\x00\\x10\\x00\\x00\\x00\\x01\\x00\\x00\\x00\\x00\\x00\\x00\\x00\\x00\\x00\\x00\\x00\\x01\\x00\\x00\\x00!O6;\\x12\\x00\\x00\\x00tfl.pseudo_qconst2\\x00\\x00\\x02\\x00\\x00\\x00 \\x00\\x00\\x00\\x10\\x00\\x00\\x00\\x9a\\xff\\xff\\xff\\x00\\x00\\x00\\x01\\x14\\x00\\x00\\x004\\x00\\x00\\x00\\x03\\x00\\x00\\x00\\x00\\x00\\x00\\t@\\x00\\x00\\x00\\x84\\xff\\xff\\xff\\x08\\x00\\x00\\x00\\x14\\x00\\x00\\x00\\x01\\x00\\x00\\x00\\x00\\x00\\x00\\x00\\x00\\x00\\x00\\x00\\x00\\x00\\x00\\x00\\x01\\x00\\x00\\x00rV6;\\x12\\x00\\x00\\x00tfl.pseudo_qconst1\\x00\\x00\\x02\\x00\\x00\\x00\\x10\\x00\\x00\\x00 \\x00\\x00\\x00\\x00\\x00\\x16\\x00\\x1c\\x00\\x18\\x00\\x17\\x00\\x10\\x00\\x0c\\x00\\x08\\x00\\x00\\x00\\x00\\x00\\x00\\x00\\x07\\x00\\x16\\x00\\x00\\x00\\x00\\x00\\x00\\x01 \\x00\\x00\\x00@\\x00\\x00\\x00\\x02\\x00\\x00\\x00\\x00\\x00\\x00\\tL\\x00\\x00\\x00\\x0c\\x00\\x0c\\x00\\x00\\x00\\x00\\x00\\x08\\x00\\x04\\x00\\x0c\\x00\\x00\\x00\\x08\\x00\\x00\\x00\\x14\\x00\\x00\\x00\\x01\\x00\\x00\\x00\\x00\\x00\\x00\\x00\\x00\\x00\\x00\\x00\\x00\\x00\\x00\\x00\\x01\\x00\\x00\\x00KX\\x95;\\x11\\x00\\x00\\x00tfl.pseudo_qconst\\x00\\x00\\x00\\x02\\x00\\x00\\x00\\x01\\x00\\x00\\x00\\x10\\x00\\x00\\x00\\x00\\x00\\x16\\x00\\x1c\\x00\\x18\\x00\\x00\\x00\\x14\\x00\\x10\\x00\\x0c\\x00\\x00\\x00\\x00\\x00\\x08\\x00\\x07\\x00\\x16\\x00\\x00\\x00\\x00\\x00\\x00\\x01\\x14\\x00\\x00\\x00 \\x00\\x00\\x00 \\x00\\x00\\x00\\x01\\x00\\x00\\x00@\\x00\\x00\\x00\\x02\\x00\\x00\\x00\\xff\\xff\\xff\\xff\\x10\\x00\\x00\\x00\\x04\\x00\\x04\\x00\\x04\\x00\\x00\\x00 \\x00\\x00\\x00serving_default_keras_tensor_4:0\\x00\\x00\\x00\\x00\\x02\\x00\\x00\\x00\\x01\\x00\\x00\\x00\\x10\\x00\\x00\\x00\\x03\\x00\\x00\\x00D\\x00\\x00\\x00$\\x00\\x00\\x00\\x04\\x00\\x00\\x00\\xf0\\xff\\xff\\xff\\x06\\x00\\x00\\x00\\x02\\x00\\x00\\x00\\x00\\x00\\x00\\x06\\x0c\\x00\\x10\\x00\\x0f\\x00\\x00\\x00\\x08\\x00\\x04\\x00\\x0c\\x00\\x00\\x00\\t\\x00\\x00\\x00\\x04\\x00\\x00\\x00\\x00\\x00\\x00\\t\\x0c\\x00\\x0c\\x00\\x0b\\x00\\x00\\x00\\x00\\x00\\x04\\x00\\x0c\\x00\\x00\\x00r\\x00\\x00\\x00\\x00\\x00\\x00r'\n",
      "./MLP/models/Primeiro_int8.tflite: 3328 Bytes\n"
     ]
    },
    {
     "name": "stderr",
     "output_type": "stream",
     "text": [
      "fully_quantize: 0, inference_type: 6, input_inference_type: FLOAT32, output_inference_type: FLOAT32\n"
     ]
    }
   ],
   "source": [
    "# Gerando as bibliotecas de 32 e 8 bits para juntar no projeto do esp32\n",
    "converter_quantization_model(model, \"Primeiro_float32\", tf.float32)\n",
    "converter_quantization_model(model, \"Primeiro_int8\", tf.int8)"
   ]
  }
 ],
 "metadata": {
  "kernelspec": {
   "display_name": "Python 3 (ipykernel)",
   "language": "python",
   "name": "python3"
  },
  "language_info": {
   "codemirror_mode": {
    "name": "ipython",
    "version": 3
   },
   "file_extension": ".py",
   "mimetype": "text/x-python",
   "name": "python",
   "nbconvert_exporter": "python",
   "pygments_lexer": "ipython3",
   "version": "3.12.3"
  }
 },
 "nbformat": 4,
 "nbformat_minor": 5
}
